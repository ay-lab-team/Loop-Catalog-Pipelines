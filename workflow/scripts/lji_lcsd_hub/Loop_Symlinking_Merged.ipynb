{
 "cells": [
  {
   "cell_type": "markdown",
   "metadata": {},
   "source": [
    "# Linking loop data"
   ]
  },
  {
   "cell_type": "code",
   "execution_count": 24,
   "metadata": {},
   "outputs": [],
   "source": [
    "import os\n",
    "import shutil\n",
    "import glob\n",
    "import pandas as pd"
   ]
  },
  {
   "cell_type": "code",
   "execution_count": 25,
   "metadata": {},
   "outputs": [],
   "source": [
    "project_dir = '/mnt/BioAdHoc/Groups/vd-ay/hichip-db-loop-calling/'\n",
    "lji_lcsd_hub = 'results/lji_lcsd_hub/release-0.1/hub/'\n",
    "os.chdir(project_dir)"
   ]
  },
  {
   "cell_type": "markdown",
   "metadata": {},
   "source": [
    "## Making a shortcut for FitHiChIP loops (All types)"
   ]
  },
  {
   "cell_type": "markdown",
   "metadata": {},
   "source": [
    "Include all loop types"
   ]
  },
  {
   "cell_type": "code",
   "execution_count": 26,
   "metadata": {},
   "outputs": [],
   "source": [
    "glob_path = 'results/biorep_merged/results/loops/fithichip/*_*/*/FitHiChIP_Peak2ALL_b*_L20000_U2000000/'\n",
    "glob_path += 'P2PBckgr_*/Coverage_Bias/FitHiC_BiasCorr/FitHiChIP-*.interactions_FitHiC_Q0.01.bed'\n",
    "fns = glob.glob(glob_path)"
   ]
  },
  {
   "cell_type": "code",
   "execution_count": 27,
   "metadata": {},
   "outputs": [],
   "source": [
    "# drop hichip-peaks.peaks, these will not be on the LJI-LCSD\n",
    "fns = [x for x in fns if 'hichip-peaks.peaks' not in x]"
   ]
  },
  {
   "cell_type": "code",
   "execution_count": 28,
   "metadata": {},
   "outputs": [
    {
     "data": {
      "text/plain": [
       "2118"
      ]
     },
     "execution_count": 28,
     "metadata": {},
     "output_type": "execute_result"
    }
   ],
   "source": [
    "len(fns)"
   ]
  },
  {
   "cell_type": "code",
   "execution_count": 29,
   "metadata": {},
   "outputs": [],
   "source": [
    "for fn in fns:\n",
    "    \n",
    "    # get sample information\n",
    "    file_info = fn.split('/')\n",
    "    sample_name, peak_type = file_info[5].rsplit('_', 1)\n",
    "    stringency = file_info[6][0]\n",
    "    resolution = file_info[6][1:] + '000'\n",
    "    stringency_long = 'stringent' if stringency == 'S' else 'loose'\n",
    "    \n",
    "    # determine the reference genome\n",
    "    if 'Homo_Sapien' in sample_name:\n",
    "        ref = 'hg38'\n",
    "    elif 'Mus_Musculus' in sample_name:\n",
    "        ref = 'mm10'\n",
    "    \n",
    "    # determine the shortcut directory\n",
    "    if peak_type == 'chipseq.peaks':\n",
    "        sample_outdir = '{ref}/loops/hichip/chip-seq/macs2/{stringeny}'\n",
    "\n",
    "    elif peak_type == 'hichip-peaks.peaks':\n",
    "        sample_outdir = '{ref}/loops/hichip/hichip/hichip-peaks/{stringeny}'\n",
    "        \n",
    "    elif peak_type == 'fithichip.peaks':\n",
    "        sample_outdir = '{ref}/loops/hichip/hichip/fithichip-utility/{stringeny}'\n",
    "        \n",
    "    sample_outdir = sample_outdir.format(ref=ref, stringeny=stringency_long)\n",
    "        \n",
    "    # get the link name\n",
    "    new_fn = '{sample_name}.{res}.fithichip_q0.01.loops.bed'\n",
    "    new_fn = new_fn.format(sample_name=sample_name, res=resolution)\n",
    "    new_path = os.path.join(project_dir, lji_lcsd_hub, sample_outdir, new_fn) \n",
    "    \n",
    "    # create the link\n",
    "    if not os.path.islink(new_path):\n",
    "        \n",
    "        #print(new_path)\n",
    "        abs_fn = os.path.join(project_dir, fn)\n",
    "        os.symlink(abs_fn, new_path)\n"
   ]
  },
  {
   "cell_type": "code",
   "execution_count": 32,
   "metadata": {},
   "outputs": [
    {
     "data": {
      "text/plain": [
       "'/mnt/BioAdHoc/Groups/vd-ay/hichip-db-loop-calling/results/lji_lcsd_hub/release-0.1/hub/mm10/loops/hichip/hichip/fithichip-utility/stringent/Atria-TBX5AKO.GSE222370.Mus_Musculus.H3K27ac.biorep_merged.10000.fithichip_q0.01.loops.bed'"
      ]
     },
     "execution_count": 32,
     "metadata": {},
     "output_type": "execute_result"
    }
   ],
   "source": [
    "new_path"
   ]
  },
  {
   "cell_type": "markdown",
   "metadata": {},
   "source": [
    "#### Account of loop types"
   ]
  },
  {
   "cell_type": "code",
   "execution_count": 30,
   "metadata": {},
   "outputs": [],
   "source": [
    "acct_data = []\n",
    "for fn in fns:\n",
    "    \n",
    "    # get sample information\n",
    "    file_info = fn.split('/')\n",
    "    sample_name, peak_type = file_info[5].rsplit('_', 1)\n",
    "    stringency = file_info[6][0]\n",
    "    resolution = file_info[6][1:] + '000'\n",
    "    stringency_long = 'stringent' if stringency == 'S' else 'loose'\n",
    "    \n",
    "    # determine the reference genome\n",
    "    if 'Homo_Sapien' in sample_name:\n",
    "        ref = 'hg38'\n",
    "    elif 'Mus_Musculus' in sample_name:\n",
    "        ref = 'mm10'\n",
    "        \n",
    "    acct_data.append([sample_name, peak_type, stringency, resolution, ref])\n",
    "    "
   ]
  },
  {
   "cell_type": "code",
   "execution_count": 31,
   "metadata": {},
   "outputs": [
    {
     "data": {
      "text/html": [
       "<div>\n",
       "<style scoped>\n",
       "    .dataframe tbody tr th:only-of-type {\n",
       "        vertical-align: middle;\n",
       "    }\n",
       "\n",
       "    .dataframe tbody tr th {\n",
       "        vertical-align: top;\n",
       "    }\n",
       "\n",
       "    .dataframe thead th {\n",
       "        text-align: right;\n",
       "    }\n",
       "</style>\n",
       "<table border=\"1\" class=\"dataframe\">\n",
       "  <thead>\n",
       "    <tr style=\"text-align: right;\">\n",
       "      <th></th>\n",
       "      <th></th>\n",
       "      <th></th>\n",
       "      <th></th>\n",
       "      <th>sample_name</th>\n",
       "    </tr>\n",
       "    <tr>\n",
       "      <th>ref</th>\n",
       "      <th>peak_type</th>\n",
       "      <th>stringency</th>\n",
       "      <th>resolution</th>\n",
       "      <th></th>\n",
       "    </tr>\n",
       "  </thead>\n",
       "  <tbody>\n",
       "    <tr>\n",
       "      <th rowspan=\"12\" valign=\"top\">hg38</th>\n",
       "      <th rowspan=\"6\" valign=\"top\">chipseq.peaks</th>\n",
       "      <th rowspan=\"3\" valign=\"top\">L</th>\n",
       "      <th>10000</th>\n",
       "      <td>41</td>\n",
       "    </tr>\n",
       "    <tr>\n",
       "      <th>25000</th>\n",
       "      <td>41</td>\n",
       "    </tr>\n",
       "    <tr>\n",
       "      <th>5000</th>\n",
       "      <td>41</td>\n",
       "    </tr>\n",
       "    <tr>\n",
       "      <th rowspan=\"3\" valign=\"top\">S</th>\n",
       "      <th>10000</th>\n",
       "      <td>41</td>\n",
       "    </tr>\n",
       "    <tr>\n",
       "      <th>25000</th>\n",
       "      <td>41</td>\n",
       "    </tr>\n",
       "    <tr>\n",
       "      <th>5000</th>\n",
       "      <td>41</td>\n",
       "    </tr>\n",
       "    <tr>\n",
       "      <th rowspan=\"6\" valign=\"top\">fithichip.peaks</th>\n",
       "      <th rowspan=\"3\" valign=\"top\">L</th>\n",
       "      <th>10000</th>\n",
       "      <td>174</td>\n",
       "    </tr>\n",
       "    <tr>\n",
       "      <th>25000</th>\n",
       "      <td>174</td>\n",
       "    </tr>\n",
       "    <tr>\n",
       "      <th>5000</th>\n",
       "      <td>174</td>\n",
       "    </tr>\n",
       "    <tr>\n",
       "      <th rowspan=\"3\" valign=\"top\">S</th>\n",
       "      <th>10000</th>\n",
       "      <td>174</td>\n",
       "    </tr>\n",
       "    <tr>\n",
       "      <th>25000</th>\n",
       "      <td>174</td>\n",
       "    </tr>\n",
       "    <tr>\n",
       "      <th>5000</th>\n",
       "      <td>174</td>\n",
       "    </tr>\n",
       "    <tr>\n",
       "      <th rowspan=\"12\" valign=\"top\">mm10</th>\n",
       "      <th rowspan=\"6\" valign=\"top\">chipseq.peaks</th>\n",
       "      <th rowspan=\"3\" valign=\"top\">L</th>\n",
       "      <th>10000</th>\n",
       "      <td>30</td>\n",
       "    </tr>\n",
       "    <tr>\n",
       "      <th>25000</th>\n",
       "      <td>30</td>\n",
       "    </tr>\n",
       "    <tr>\n",
       "      <th>5000</th>\n",
       "      <td>30</td>\n",
       "    </tr>\n",
       "    <tr>\n",
       "      <th rowspan=\"3\" valign=\"top\">S</th>\n",
       "      <th>10000</th>\n",
       "      <td>30</td>\n",
       "    </tr>\n",
       "    <tr>\n",
       "      <th>25000</th>\n",
       "      <td>30</td>\n",
       "    </tr>\n",
       "    <tr>\n",
       "      <th>5000</th>\n",
       "      <td>30</td>\n",
       "    </tr>\n",
       "    <tr>\n",
       "      <th rowspan=\"6\" valign=\"top\">fithichip.peaks</th>\n",
       "      <th rowspan=\"3\" valign=\"top\">L</th>\n",
       "      <th>10000</th>\n",
       "      <td>108</td>\n",
       "    </tr>\n",
       "    <tr>\n",
       "      <th>25000</th>\n",
       "      <td>108</td>\n",
       "    </tr>\n",
       "    <tr>\n",
       "      <th>5000</th>\n",
       "      <td>108</td>\n",
       "    </tr>\n",
       "    <tr>\n",
       "      <th rowspan=\"3\" valign=\"top\">S</th>\n",
       "      <th>10000</th>\n",
       "      <td>108</td>\n",
       "    </tr>\n",
       "    <tr>\n",
       "      <th>25000</th>\n",
       "      <td>108</td>\n",
       "    </tr>\n",
       "    <tr>\n",
       "      <th>5000</th>\n",
       "      <td>108</td>\n",
       "    </tr>\n",
       "  </tbody>\n",
       "</table>\n",
       "</div>"
      ],
      "text/plain": [
       "                                            sample_name\n",
       "ref  peak_type       stringency resolution             \n",
       "hg38 chipseq.peaks   L          10000                41\n",
       "                                25000                41\n",
       "                                5000                 41\n",
       "                     S          10000                41\n",
       "                                25000                41\n",
       "                                5000                 41\n",
       "     fithichip.peaks L          10000               174\n",
       "                                25000               174\n",
       "                                5000                174\n",
       "                     S          10000               174\n",
       "                                25000               174\n",
       "                                5000                174\n",
       "mm10 chipseq.peaks   L          10000                30\n",
       "                                25000                30\n",
       "                                5000                 30\n",
       "                     S          10000                30\n",
       "                                25000                30\n",
       "                                5000                 30\n",
       "     fithichip.peaks L          10000               108\n",
       "                                25000               108\n",
       "                                5000                108\n",
       "                     S          10000               108\n",
       "                                25000               108\n",
       "                                5000                108"
      ]
     },
     "execution_count": 31,
     "metadata": {},
     "output_type": "execute_result"
    }
   ],
   "source": [
    "acct_df = pd.DataFrame(acct_data)\n",
    "acct_df.columns = ['sample_name', 'peak_type', 'stringency', 'resolution', 'ref']\n",
    "acct_agg = acct_df.groupby(['ref', 'peak_type', 'stringency', 'resolution'])\n",
    "acct_agg.count()"
   ]
  },
  {
   "cell_type": "markdown",
   "metadata": {},
   "source": [
    "## Making a shortcut for HiCCUPs loops"
   ]
  },
  {
   "cell_type": "code",
   "execution_count": 20,
   "metadata": {},
   "outputs": [],
   "source": [
    "glob_path = 'results/biorep_merged/results/loops/hiccups/whole_genome/*/postprocessed_pixels_*.bedpe'\n",
    "fns = glob.glob(glob_path)"
   ]
  },
  {
   "cell_type": "code",
   "execution_count": 21,
   "metadata": {},
   "outputs": [
    {
     "data": {
      "text/plain": [
       "0"
      ]
     },
     "execution_count": 21,
     "metadata": {},
     "output_type": "execute_result"
    }
   ],
   "source": [
    "len(fns)"
   ]
  },
  {
   "cell_type": "code",
   "execution_count": 22,
   "metadata": {},
   "outputs": [],
   "source": [
    "for fn in fns:\n",
    "    \n",
    "    # get sample information\n",
    "    file_info = fn.split('/')\n",
    "    sample_name = file_info[4]\n",
    "    resolution = file_info[5].split('_')[2].split('.')[0]\n",
    "    \n",
    "    # determine the reference genome\n",
    "    if 'Homo_Sapien' in sample_name:\n",
    "        ref = 'hg38'\n",
    "    elif 'Mus_Musculus' in sample_name:\n",
    "        ref = 'mm10'\n",
    "    \n",
    "    # determine the shortcut directory\n",
    "    sample_outdir = '{ref}/loops/hichip/hiccups/'.format(ref=ref)\n",
    "        \n",
    "    # get the link name\n",
    "    new_fn = '{sample_name}.{res}.post_processed.hiccups.loops.bed'\n",
    "    new_fn = new_fn.format(sample_name=sample_name, res=resolution)\n",
    "\n",
    "    new_path = os.path.join(project_dir, lji_lcsd_hub, sample_outdir, new_fn) \n",
    "    \n",
    "    if not os.path.islink(new_path):\n",
    "        abs_fn = os.path.join(project_dir, fn)\n",
    "        os.symlink(abs_fn, new_path)\n",
    "    "
   ]
  },
  {
   "cell_type": "code",
   "execution_count": null,
   "metadata": {},
   "outputs": [],
   "source": []
  }
 ],
 "metadata": {
  "kernelspec": {
   "display_name": "lc-pipelines",
   "language": "python",
   "name": "lc-pipelines"
  },
  "language_info": {
   "codemirror_mode": {
    "name": "ipython",
    "version": 3
   },
   "file_extension": ".py",
   "mimetype": "text/x-python",
   "name": "python",
   "nbconvert_exporter": "python",
   "pygments_lexer": "ipython3",
   "version": "3.12.0"
  }
 },
 "nbformat": 4,
 "nbformat_minor": 2
}
