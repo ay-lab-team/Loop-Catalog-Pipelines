{
 "cells": [
  {
   "cell_type": "markdown",
   "metadata": {},
   "source": [
    "# Linking loop data"
   ]
  },
  {
   "cell_type": "code",
   "execution_count": 1,
   "metadata": {},
   "outputs": [],
   "source": [
    "import os\n",
    "import shutil\n",
    "import glob\n",
    "import pandas as pd"
   ]
  },
  {
   "cell_type": "code",
   "execution_count": 2,
   "metadata": {},
   "outputs": [],
   "source": [
    "project_dir = '<project-dir>'\n",
    "lji_lcsd_hub = 'results/lji_lcsd_hub/release-0.1/hub/'\n",
    "os.chdir(project_dir)"
   ]
  },
  {
   "cell_type": "markdown",
   "metadata": {},
   "source": [
    "## Making a shortcut for peak-associated data"
   ]
  },
  {
   "cell_type": "code",
   "execution_count": 3,
   "metadata": {},
   "outputs": [],
   "source": [
    "# loading cp peaks \n",
    "cp_fn = 'results/samplesheets/post-hicpro/2024.2.15.10.52.peaks_files_chipseq.all_batches.samplesheet.without_header.tsv'\n",
    "cp_peaks = pd.read_table(cp_fn, header=None)\n",
    "cp_peaks.columns = ['hicpro_std_sample_name', 'validpair_path', 'cp']\n",
    "cp_peaks.drop('validpair_path', axis=1, inplace=True)\n",
    "\n",
    "# add the peak std sample name that can different from the hicpro_std_sample_name due to the GEO ID\n",
    "def get_chipseq_peak_std_sample_name(x):\n",
    "    bn = os.path.basename(x)\n",
    "    sample_name = bn.rsplit('.', 3)[0]\n",
    "    return(sample_name)\n",
    "cp_peaks.loc[:, 'cp_peak_std_sample_name'] = cp_peaks.cp.apply(get_chipseq_peak_std_sample_name)\n",
    "\n",
    "# only need to transfer the file once so removing duplicates\n",
    "cp_peaks.drop_duplicates('cp_peak_std_sample_name', inplace=True)"
   ]
  },
  {
   "cell_type": "code",
   "execution_count": 4,
   "metadata": {},
   "outputs": [],
   "source": [
    "# loading hp peaks\n",
    "hp_fn = 'results/samplesheets/post-hicpro/2024.2.1.10.52.peaks_files_fithichip.all_batches.samplesheet.without_header.tsv'\n",
    "hp_peaks = pd.read_table(hp_fn, header=None)\n",
    "hp_peaks.columns = ['hicpro_std_sample_name', 'validpair_path', 'hp']\n",
    "hp_peaks.drop('validpair_path', axis=1, inplace=True)\n",
    "\n",
    "# adding the peak std sample name to be consistent with cp peaks\n",
    "hp_peaks.loc[:, 'hp_peak_std_sample_name'] = hp_peaks['hicpro_std_sample_name']\n",
    "\n",
    "# merging the two\n",
    "peaks = hp_peaks.merge(cp_peaks, on='hicpro_std_sample_name', suffixes=('', ''), how='left')\n",
    "peaks.fillna('No-Peak-File', inplace=True)"
   ]
  },
  {
   "cell_type": "code",
   "execution_count": 5,
   "metadata": {},
   "outputs": [],
   "source": [
    "def get_ref(x):\n",
    "    organism = x.rsplit('.', 3)[1]\n",
    "    if organism == 'Homo_Sapiens':\n",
    "        return('hg38')\n",
    "    elif organism == 'Mus_Musculus':\n",
    "        return('mm10')\n",
    "    else:\n",
    "        return('error')\n",
    "peaks['ref'] = peaks.hicpro_std_sample_name.apply(get_ref)"
   ]
  },
  {
   "cell_type": "code",
   "execution_count": 6,
   "metadata": {},
   "outputs": [
    {
     "data": {
      "text/plain": [
       "(0, 6)"
      ]
     },
     "execution_count": 6,
     "metadata": {},
     "output_type": "execute_result"
    }
   ],
   "source": [
    "peaks.loc[peaks.ref == 'error'].shape"
   ]
  },
  {
   "cell_type": "markdown",
   "metadata": {},
   "source": [
    "#### Accounting of samples"
   ]
  },
  {
   "cell_type": "code",
   "execution_count": 7,
   "metadata": {},
   "outputs": [],
   "source": [
    "peaks['cp.present'] = ~(peaks.cp.str.contains('No-Peak-File'))\n",
    "peaks['hp.present'] = ~(peaks.hp.str.contains('No-Peak-File'))"
   ]
  },
  {
   "cell_type": "code",
   "execution_count": 8,
   "metadata": {},
   "outputs": [],
   "source": [
    "acct_df = peaks.melt(id_vars=['hicpro_std_sample_name', 'ref'], value_vars=['cp.present', 'hp.present'])\n",
    "acct_grps = acct_df.groupby(['ref', 'variable'])\n",
    "acct_summary = acct_grps['value'].sum().to_frame()\n",
    "acct_summary.index.names = ['ref', 'peak_type']\n",
    "acct_summary.columns = ['count']"
   ]
  },
  {
   "cell_type": "code",
   "execution_count": 9,
   "metadata": {},
   "outputs": [
    {
     "data": {
      "text/html": [
       "<div>\n",
       "<style scoped>\n",
       "    .dataframe tbody tr th:only-of-type {\n",
       "        vertical-align: middle;\n",
       "    }\n",
       "\n",
       "    .dataframe tbody tr th {\n",
       "        vertical-align: top;\n",
       "    }\n",
       "\n",
       "    .dataframe thead th {\n",
       "        text-align: right;\n",
       "    }\n",
       "</style>\n",
       "<table border=\"1\" class=\"dataframe\">\n",
       "  <thead>\n",
       "    <tr style=\"text-align: right;\">\n",
       "      <th></th>\n",
       "      <th></th>\n",
       "      <th>count</th>\n",
       "    </tr>\n",
       "    <tr>\n",
       "      <th>ref</th>\n",
       "      <th>peak_type</th>\n",
       "      <th></th>\n",
       "    </tr>\n",
       "  </thead>\n",
       "  <tbody>\n",
       "    <tr>\n",
       "      <th rowspan=\"2\" valign=\"top\">hg38</th>\n",
       "      <th>cp.present</th>\n",
       "      <td>149</td>\n",
       "    </tr>\n",
       "    <tr>\n",
       "      <th>hp.present</th>\n",
       "      <td>763</td>\n",
       "    </tr>\n",
       "    <tr>\n",
       "      <th rowspan=\"2\" valign=\"top\">mm10</th>\n",
       "      <th>cp.present</th>\n",
       "      <td>39</td>\n",
       "    </tr>\n",
       "    <tr>\n",
       "      <th>hp.present</th>\n",
       "      <td>281</td>\n",
       "    </tr>\n",
       "  </tbody>\n",
       "</table>\n",
       "</div>"
      ],
      "text/plain": [
       "                 count\n",
       "ref  peak_type        \n",
       "hg38 cp.present    149\n",
       "     hp.present    763\n",
       "mm10 cp.present     39\n",
       "     hp.present    281"
      ]
     },
     "execution_count": 9,
     "metadata": {},
     "output_type": "execute_result"
    }
   ],
   "source": [
    "acct_summary"
   ]
  },
  {
   "cell_type": "markdown",
   "metadata": {},
   "source": [
    "#### Symlinking the raw data"
   ]
  },
  {
   "cell_type": "code",
   "execution_count": 10,
   "metadata": {},
   "outputs": [],
   "source": [
    "# for i, sr in peaks.iterrows():\n",
    "    \n",
    "#     sample_name = sr.sample_name\n",
    "#     ref = sr.ref\n",
    "    \n",
    "#     for peak_col in ['hp', 'fp', 'cp']:\n",
    "        \n",
    "#         # process only if the peak file exists \n",
    "#         peak_fn = sr[peak_col]\n",
    "#         if os.path.exists(peak_fn):\n",
    "            \n",
    "#             # assigning the correct directory\n",
    "#             if peak_col == 'hp':\n",
    "#                 sample_outdir = '{ref}/peaks/hichip/hichip-peaks/'\n",
    "#             elif peak_col == 'fp':\n",
    "#                 sample_outdir = '{ref}/peaks/hichip/fithichip-utility/'\n",
    "#             elif peak_col == 'cp':\n",
    "#                 sample_outdir = '{ref}/peaks/chip-seq/macs2/'\n",
    "            \n",
    "#             # assigning merged status\n",
    "#             if 'merged' in peak_fn:\n",
    "#                 single_or_merged = 'merged'\n",
    "#             else:\n",
    "#                 single_or_merged = 'single'\n",
    "    \n",
    "#             # get the link name\n",
    "#             new_fn = '{sample_name}.{single_or_merged}.peaks.bed'\n",
    "#             new_path = os.path.join(project_dir, shortcut_dir, sample_outdir, new_fn) \n",
    "#             new_path = new_path.format(sample_name=sample_name, single_or_merged=single_or_merged, ref=ref)\n",
    "\n",
    "#             if not os.path.islink(new_path):\n",
    "#                 os.symlink(peak_fn, new_path)\n"
   ]
  },
  {
   "cell_type": "markdown",
   "metadata": {},
   "source": [
    "### Symlinking the Bigbed peak files"
   ]
  },
  {
   "cell_type": "code",
   "execution_count": 11,
   "metadata": {},
   "outputs": [],
   "source": [
    "# mapping between jr and kf names\n",
    "jr_to_kf_peak_mapper = {'hp': 'fithichip-utility', 'cp': 'chipseq'}\n",
    "\n",
    "# mapping between hp and cp peak directory paths\n",
    "peak_target_dirs = {'hp': '{ref}/peaks/hichip/fithichip-utility/',\n",
    "                 'cp': '{ref}/peaks/chip-seq/macs2/'}\n",
    "\n",
    "# helper function to determine the source bigbed\n",
    "def get_bb_source_path(peak_col, sample_name, control_type):\n",
    "    if peak_col == 'cp':\n",
    "        src_bigbed = f'results/peaks/chipline_v2/{sample_name}/{control_type}/{sample_name}_bigNarrowPeak_Q0.05filt_MACS2_Ext.bb'\n",
    "    return(src_bigbed)"
   ]
  },
  {
   "cell_type": "code",
   "execution_count": 12,
   "metadata": {},
   "outputs": [
    {
     "data": {
      "text/html": [
       "<div>\n",
       "<style scoped>\n",
       "    .dataframe tbody tr th:only-of-type {\n",
       "        vertical-align: middle;\n",
       "    }\n",
       "\n",
       "    .dataframe tbody tr th {\n",
       "        vertical-align: top;\n",
       "    }\n",
       "\n",
       "    .dataframe thead th {\n",
       "        text-align: right;\n",
       "    }\n",
       "</style>\n",
       "<table border=\"1\" class=\"dataframe\">\n",
       "  <thead>\n",
       "    <tr style=\"text-align: right;\">\n",
       "      <th></th>\n",
       "      <th>hicpro_std_sample_name</th>\n",
       "      <th>hp</th>\n",
       "      <th>hp_peak_std_sample_name</th>\n",
       "      <th>cp</th>\n",
       "      <th>cp_peak_std_sample_name</th>\n",
       "      <th>ref</th>\n",
       "      <th>cp.present</th>\n",
       "      <th>hp.present</th>\n",
       "    </tr>\n",
       "  </thead>\n",
       "  <tbody>\n",
       "    <tr>\n",
       "      <th>1039</th>\n",
       "      <td>LCL-LWK.PRJNA898623.Homo_Sapiens.H3K27ac.b2</td>\n",
       "      <td>/mnt/BioAdHoc/Groups/vd-ay/kfetter/hichip-db-l...</td>\n",
       "      <td>LCL-LWK.PRJNA898623.Homo_Sapiens.H3K27ac.b2</td>\n",
       "      <td>No-Peak-File</td>\n",
       "      <td>No-Peak-File</td>\n",
       "      <td>hg38</td>\n",
       "      <td>False</td>\n",
       "      <td>True</td>\n",
       "    </tr>\n",
       "    <tr>\n",
       "      <th>1040</th>\n",
       "      <td>LCL-TSI.PRJNA898623.Homo_Sapiens.H3K27ac.b1</td>\n",
       "      <td>/mnt/BioAdHoc/Groups/vd-ay/kfetter/hichip-db-l...</td>\n",
       "      <td>LCL-TSI.PRJNA898623.Homo_Sapiens.H3K27ac.b1</td>\n",
       "      <td>No-Peak-File</td>\n",
       "      <td>No-Peak-File</td>\n",
       "      <td>hg38</td>\n",
       "      <td>False</td>\n",
       "      <td>True</td>\n",
       "    </tr>\n",
       "    <tr>\n",
       "      <th>1041</th>\n",
       "      <td>LCL-TSI.PRJNA898623.Homo_Sapiens.H3K27ac.b2</td>\n",
       "      <td>/mnt/BioAdHoc/Groups/vd-ay/kfetter/hichip-db-l...</td>\n",
       "      <td>LCL-TSI.PRJNA898623.Homo_Sapiens.H3K27ac.b2</td>\n",
       "      <td>No-Peak-File</td>\n",
       "      <td>No-Peak-File</td>\n",
       "      <td>hg38</td>\n",
       "      <td>False</td>\n",
       "      <td>True</td>\n",
       "    </tr>\n",
       "    <tr>\n",
       "      <th>1042</th>\n",
       "      <td>LCL-YRI.PRJNA898623.Homo_Sapiens.H3K27ac.b1</td>\n",
       "      <td>/mnt/BioAdHoc/Groups/vd-ay/kfetter/hichip-db-l...</td>\n",
       "      <td>LCL-YRI.PRJNA898623.Homo_Sapiens.H3K27ac.b1</td>\n",
       "      <td>No-Peak-File</td>\n",
       "      <td>No-Peak-File</td>\n",
       "      <td>hg38</td>\n",
       "      <td>False</td>\n",
       "      <td>True</td>\n",
       "    </tr>\n",
       "    <tr>\n",
       "      <th>1043</th>\n",
       "      <td>LCL-YRI.PRJNA898623.Homo_Sapiens.H3K27ac.b2</td>\n",
       "      <td>/mnt/BioAdHoc/Groups/vd-ay/kfetter/hichip-db-l...</td>\n",
       "      <td>LCL-YRI.PRJNA898623.Homo_Sapiens.H3K27ac.b2</td>\n",
       "      <td>No-Peak-File</td>\n",
       "      <td>No-Peak-File</td>\n",
       "      <td>hg38</td>\n",
       "      <td>False</td>\n",
       "      <td>True</td>\n",
       "    </tr>\n",
       "  </tbody>\n",
       "</table>\n",
       "</div>"
      ],
      "text/plain": [
       "                           hicpro_std_sample_name  \\\n",
       "1039  LCL-LWK.PRJNA898623.Homo_Sapiens.H3K27ac.b2   \n",
       "1040  LCL-TSI.PRJNA898623.Homo_Sapiens.H3K27ac.b1   \n",
       "1041  LCL-TSI.PRJNA898623.Homo_Sapiens.H3K27ac.b2   \n",
       "1042  LCL-YRI.PRJNA898623.Homo_Sapiens.H3K27ac.b1   \n",
       "1043  LCL-YRI.PRJNA898623.Homo_Sapiens.H3K27ac.b2   \n",
       "\n",
       "                                                     hp  \\\n",
       "1039  /mnt/BioAdHoc/Groups/vd-ay/kfetter/hichip-db-l...   \n",
       "1040  /mnt/BioAdHoc/Groups/vd-ay/kfetter/hichip-db-l...   \n",
       "1041  /mnt/BioAdHoc/Groups/vd-ay/kfetter/hichip-db-l...   \n",
       "1042  /mnt/BioAdHoc/Groups/vd-ay/kfetter/hichip-db-l...   \n",
       "1043  /mnt/BioAdHoc/Groups/vd-ay/kfetter/hichip-db-l...   \n",
       "\n",
       "                          hp_peak_std_sample_name            cp  \\\n",
       "1039  LCL-LWK.PRJNA898623.Homo_Sapiens.H3K27ac.b2  No-Peak-File   \n",
       "1040  LCL-TSI.PRJNA898623.Homo_Sapiens.H3K27ac.b1  No-Peak-File   \n",
       "1041  LCL-TSI.PRJNA898623.Homo_Sapiens.H3K27ac.b2  No-Peak-File   \n",
       "1042  LCL-YRI.PRJNA898623.Homo_Sapiens.H3K27ac.b1  No-Peak-File   \n",
       "1043  LCL-YRI.PRJNA898623.Homo_Sapiens.H3K27ac.b2  No-Peak-File   \n",
       "\n",
       "     cp_peak_std_sample_name   ref  cp.present  hp.present  \n",
       "1039            No-Peak-File  hg38       False        True  \n",
       "1040            No-Peak-File  hg38       False        True  \n",
       "1041            No-Peak-File  hg38       False        True  \n",
       "1042            No-Peak-File  hg38       False        True  \n",
       "1043            No-Peak-File  hg38       False        True  "
      ]
     },
     "execution_count": 12,
     "metadata": {},
     "output_type": "execute_result"
    }
   ],
   "source": [
    "peaks.tail()"
   ]
  },
  {
   "cell_type": "code",
   "execution_count": null,
   "metadata": {},
   "outputs": [],
   "source": []
  },
  {
   "cell_type": "code",
   "execution_count": 23,
   "metadata": {},
   "outputs": [],
   "source": [
    "count = 0\n",
    "bad_count = 0\n",
    "report = []\n",
    "for i, sr in peaks.iterrows():\n",
    "    \n",
    "    hicpro_std_sample_name = sr.hicpro_std_sample_name\n",
    "    ref = sr.ref\n",
    "    \n",
    "    #for peak_col in ['hp', 'cp']:\n",
    "    for peak_col in ['cp']:\n",
    "        \n",
    "        # get the peak_std_sample_name\n",
    "        peak_std_sample_name = sr['{}_peak_std_sample_name'.format(peak_col)]\n",
    "        \n",
    "        # get peak fn \n",
    "        peak_fn = sr[peak_col]\n",
    "        peak_type = jr_to_kf_peak_mapper[peak_col]\n",
    "        \n",
    "        # process only if the peak file exists \n",
    "        if os.path.exists(peak_fn):\n",
    "            \n",
    "            # get the path to the bigbed\n",
    "            control_type = peak_fn.split('/')[-2]\n",
    "            src_bigbed = get_bb_source_path(peak_col, peak_std_sample_name, control_type)            \n",
    "            src_bigbed = os.path.join(project_dir, src_bigbed)\n",
    "\n",
    "            # get the target outdir\n",
    "            target_outdir = peak_target_dirs[peak_col]\n",
    "                        \n",
    "            # get the link name\n",
    "            target_path = '{sample_name}.peaks.bed.bb'\n",
    "            target_path = os.path.join(project_dir, lji_lcsd_hub, target_outdir, target_path) \n",
    "            target_path = target_path.format(sample_name=peak_std_sample_name, ref=ref)\n",
    "\n",
    "            # perform the symlinking\n",
    "            if not os.path.exists(src_bigbed):\n",
    "                info = [hicpro_std_sample_name, peak_std_sample_name, src_bigbed, target_path, 'source-file-not-present']\n",
    "            elif os.path.islink(target_path):\n",
    "                info = [hicpro_std_sample_name, peak_std_sample_name, src_bigbed, target_path, 'previously-transfer']\n",
    "            elif os.path.exists(src_bigbed) and (not os.path.islink(target_path)):\n",
    "                info = [hicpro_std_sample_name, peak_std_sample_name, src_bigbed, target_path, 'transfer-performed']\n",
    "                os.symlink(src_bigbed, target_path)\n",
    "            else:\n",
    "                info = [hicpro_std_sample_name, peak_std_sample_name, src_bigbed, target_path, 'other-problem']\n",
    "            report.append(info)\n"
   ]
  },
  {
   "cell_type": "code",
   "execution_count": 24,
   "metadata": {},
   "outputs": [],
   "source": [
    "report_df = pd.DataFrame(report,\n",
    "                         columns=['hicpro_std_sample_name', 'peak_std_sample_name', 'src_bigbed', 'target_path', 'status'])"
   ]
  },
  {
   "cell_type": "code",
   "execution_count": 25,
   "metadata": {},
   "outputs": [
    {
     "data": {
      "text/plain": [
       "status\n",
       "previously-transfer        187\n",
       "source-file-not-present      1\n",
       "Name: count, dtype: int64"
      ]
     },
     "execution_count": 25,
     "metadata": {},
     "output_type": "execute_result"
    }
   ],
   "source": [
    "report_df.status.value_counts()"
   ]
  },
  {
   "cell_type": "code",
   "execution_count": 26,
   "metadata": {},
   "outputs": [],
   "source": [
    "report_grps = report_df.groupby('status')"
   ]
  },
  {
   "cell_type": "code",
   "execution_count": 27,
   "metadata": {},
   "outputs": [
    {
     "data": {
      "text/html": [
       "<div>\n",
       "<style scoped>\n",
       "    .dataframe tbody tr th:only-of-type {\n",
       "        vertical-align: middle;\n",
       "    }\n",
       "\n",
       "    .dataframe tbody tr th {\n",
       "        vertical-align: top;\n",
       "    }\n",
       "\n",
       "    .dataframe thead th {\n",
       "        text-align: right;\n",
       "    }\n",
       "</style>\n",
       "<table border=\"1\" class=\"dataframe\">\n",
       "  <thead>\n",
       "    <tr style=\"text-align: right;\">\n",
       "      <th></th>\n",
       "      <th>127</th>\n",
       "    </tr>\n",
       "  </thead>\n",
       "  <tbody>\n",
       "    <tr>\n",
       "      <th>hicpro_std_sample_name</th>\n",
       "      <td>HCT116-NUP93-mAC.GSE165463.Homo_Sapiens.H3K27ac.b1</td>\n",
       "    </tr>\n",
       "    <tr>\n",
       "      <th>peak_std_sample_name</th>\n",
       "      <td>HCT116-NUP93-mAC.GSE165463.Homo_Sapiens.H3K27ac.b1</td>\n",
       "    </tr>\n",
       "    <tr>\n",
       "      <th>src_bigbed</th>\n",
       "      <td>/mnt/BioAdHoc/Groups/vd-ay/hichip-db-loop-calling/results/peaks/chipline_v2/HCT116-NUP93-mAC.GSE165463.Homo_Sapiens.H3K27ac.b1/MACS2_Ext_No_Control/HCT116-NUP93-mAC.GSE165463.Homo_Sapiens.H3K27ac.b1_bigNarrowPeak_Q0.05filt_MACS2_Ext.bb</td>\n",
       "    </tr>\n",
       "    <tr>\n",
       "      <th>target_path</th>\n",
       "      <td>/mnt/BioAdHoc/Groups/vd-ay/hichip-db-loop-calling/results/lji_lcsd_hub/release-0.1/hub/hg38/peaks/chip-seq/macs2/HCT116-NUP93-mAC.GSE165463.Homo_Sapiens.H3K27ac.b1.peaks.bed.bb</td>\n",
       "    </tr>\n",
       "    <tr>\n",
       "      <th>status</th>\n",
       "      <td>source-file-not-present</td>\n",
       "    </tr>\n",
       "  </tbody>\n",
       "</table>\n",
       "</div>"
      ],
      "text/plain": [
       "                                                                                                                                                                                                                                                                127\n",
       "hicpro_std_sample_name                                                                                                                                                                                           HCT116-NUP93-mAC.GSE165463.Homo_Sapiens.H3K27ac.b1\n",
       "peak_std_sample_name                                                                                                                                                                                             HCT116-NUP93-mAC.GSE165463.Homo_Sapiens.H3K27ac.b1\n",
       "src_bigbed              /mnt/BioAdHoc/Groups/vd-ay/hichip-db-loop-calling/results/peaks/chipline_v2/HCT116-NUP93-mAC.GSE165463.Homo_Sapiens.H3K27ac.b1/MACS2_Ext_No_Control/HCT116-NUP93-mAC.GSE165463.Homo_Sapiens.H3K27ac.b1_bigNarrowPeak_Q0.05filt_MACS2_Ext.bb\n",
       "target_path                                                                        /mnt/BioAdHoc/Groups/vd-ay/hichip-db-loop-calling/results/lji_lcsd_hub/release-0.1/hub/hg38/peaks/chip-seq/macs2/HCT116-NUP93-mAC.GSE165463.Homo_Sapiens.H3K27ac.b1.peaks.bed.bb\n",
       "status                                                                                                                                                                                                                                      source-file-not-present"
      ]
     },
     "execution_count": 27,
     "metadata": {},
     "output_type": "execute_result"
    }
   ],
   "source": [
    "pd.options.display.max_colwidth = None\n",
    "report_grps.get_group('source-file-not-present').iloc[[0]].T"
   ]
  },
  {
   "cell_type": "code",
   "execution_count": null,
   "metadata": {},
   "outputs": [],
   "source": []
  },
  {
   "cell_type": "code",
   "execution_count": null,
   "metadata": {},
   "outputs": [],
   "source": []
  },
  {
   "cell_type": "code",
   "execution_count": null,
   "metadata": {},
   "outputs": [],
   "source": []
  },
  {
   "cell_type": "code",
   "execution_count": null,
   "metadata": {},
   "outputs": [],
   "source": []
  },
  {
   "cell_type": "code",
   "execution_count": null,
   "metadata": {},
   "outputs": [],
   "source": []
  },
  {
   "cell_type": "code",
   "execution_count": null,
   "metadata": {},
   "outputs": [],
   "source": []
  },
  {
   "cell_type": "code",
   "execution_count": null,
   "metadata": {},
   "outputs": [],
   "source": []
  },
  {
   "cell_type": "code",
   "execution_count": null,
   "metadata": {},
   "outputs": [],
   "source": []
  }
 ],
 "metadata": {
  "kernelspec": {
   "display_name": "lc-pipelines",
   "language": "python",
   "name": "lc-pipelines"
  },
  "language_info": {
   "codemirror_mode": {
    "name": "ipython",
    "version": 3
   },
   "file_extension": ".py",
   "mimetype": "text/x-python",
   "name": "python",
   "nbconvert_exporter": "python",
   "pygments_lexer": "ipython3",
   "version": "3.12.0"
  }
 },
 "nbformat": 4,
 "nbformat_minor": 4
}
