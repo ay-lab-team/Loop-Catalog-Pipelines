{
 "cells": [
  {
   "cell_type": "markdown",
   "metadata": {},
   "source": [
    "# Linking loop data"
   ]
  },
  {
   "cell_type": "code",
   "execution_count": 3,
   "metadata": {},
   "outputs": [],
   "source": [
    "import os\n",
    "import shutil\n",
    "import glob\n",
    "import pandas as pd"
   ]
  },
  {
   "cell_type": "code",
   "execution_count": 4,
   "metadata": {},
   "outputs": [],
   "source": [
    "project_dir = '/mnt/BioAdHoc/Groups/vd-ay/hichip-db-loop-calling/'\n",
    "lji_lcsd_hub = 'results/lji_lcsd_hub/release-0.1/hub/'\n",
    "os.chdir(project_dir)"
   ]
  },
  {
   "cell_type": "markdown",
   "metadata": {},
   "source": [
    "## Making a shortcut for peak-associated data"
   ]
  },
  {
   "cell_type": "markdown",
   "metadata": {},
   "source": [
    "### Original peak files"
   ]
  },
  {
   "cell_type": "code",
   "execution_count": 5,
   "metadata": {},
   "outputs": [],
   "source": [
    "cols = ['sample_name', 'vp', 'hp', 'fp', 'cp']\n",
    "\n",
    "# load hg38 peaks\n",
    "hg38 = pd.read_table('results/samplesheets/post-hicpro/human.peaks_files.samplesheet.without_header.tsv',\n",
    "                    header=None, names=cols)\n",
    "hg38['ref'] = 'hg38'\n",
    "\n",
    "# load mm10 peaks\n",
    "mm10 = pd.read_table('results/samplesheets/post-hicpro/mouse.peaks_files.samplesheet.without_header.tsv',\n",
    "                    header=None, names=cols)\n",
    "mm10['ref'] = 'mm10'\n",
    "\n",
    "# load t2t peaks\n",
    "t2t = pd.read_table('results/samplesheets/post-hicpro/human_t2t.peaks_files.samplesheet.without_header.tsv',\n",
    "                   header=None, names=cols)\n",
    "t2t['ref'] = 't2t-chm13-v2.0'\n",
    "\n",
    "peaks = pd.concat([hg38, mm10, t2t])"
   ]
  },
  {
   "cell_type": "markdown",
   "metadata": {},
   "source": [
    "#### Accounting of samples"
   ]
  },
  {
   "cell_type": "code",
   "execution_count": 6,
   "metadata": {},
   "outputs": [],
   "source": [
    "peaks['cp.present'] = peaks.cp.str.startswith('/mnt/')\n",
    "peaks['fp.present'] = peaks.fp.str.startswith('/mnt/')\n",
    "peaks['hp.present'] = peaks.hp.str.startswith('/mnt/')"
   ]
  },
  {
   "cell_type": "code",
   "execution_count": 7,
   "metadata": {},
   "outputs": [],
   "source": [
    "acct_df = peaks.melt(id_vars=['sample_name', 'ref'], value_vars=['cp.present', 'fp.present', 'hp.present'])\n",
    "acct_grps = acct_df.groupby(['ref', 'variable'])\n",
    "acct_summary = acct_grps['value'].sum().to_frame()\n",
    "acct_summary.index.names = ['ref', 'peak_type']\n",
    "acct_summary.columns = ['count']"
   ]
  },
  {
   "cell_type": "code",
   "execution_count": 8,
   "metadata": {},
   "outputs": [
    {
     "data": {
      "text/html": [
       "<div>\n",
       "<style scoped>\n",
       "    .dataframe tbody tr th:only-of-type {\n",
       "        vertical-align: middle;\n",
       "    }\n",
       "\n",
       "    .dataframe tbody tr th {\n",
       "        vertical-align: top;\n",
       "    }\n",
       "\n",
       "    .dataframe thead th {\n",
       "        text-align: right;\n",
       "    }\n",
       "</style>\n",
       "<table border=\"1\" class=\"dataframe\">\n",
       "  <thead>\n",
       "    <tr style=\"text-align: right;\">\n",
       "      <th></th>\n",
       "      <th></th>\n",
       "      <th>count</th>\n",
       "    </tr>\n",
       "    <tr>\n",
       "      <th>ref</th>\n",
       "      <th>peak_type</th>\n",
       "      <th></th>\n",
       "    </tr>\n",
       "  </thead>\n",
       "  <tbody>\n",
       "    <tr>\n",
       "      <th rowspan=\"3\" valign=\"top\">hg38</th>\n",
       "      <th>cp.present</th>\n",
       "      <td>243</td>\n",
       "    </tr>\n",
       "    <tr>\n",
       "      <th>fp.present</th>\n",
       "      <td>473</td>\n",
       "    </tr>\n",
       "    <tr>\n",
       "      <th>hp.present</th>\n",
       "      <td>473</td>\n",
       "    </tr>\n",
       "    <tr>\n",
       "      <th rowspan=\"3\" valign=\"top\">mm10</th>\n",
       "      <th>cp.present</th>\n",
       "      <td>31</td>\n",
       "    </tr>\n",
       "    <tr>\n",
       "      <th>fp.present</th>\n",
       "      <td>194</td>\n",
       "    </tr>\n",
       "    <tr>\n",
       "      <th>hp.present</th>\n",
       "      <td>194</td>\n",
       "    </tr>\n",
       "    <tr>\n",
       "      <th rowspan=\"3\" valign=\"top\">t2t-chm13-v2.0</th>\n",
       "      <th>cp.present</th>\n",
       "      <td>243</td>\n",
       "    </tr>\n",
       "    <tr>\n",
       "      <th>fp.present</th>\n",
       "      <td>486</td>\n",
       "    </tr>\n",
       "    <tr>\n",
       "      <th>hp.present</th>\n",
       "      <td>0</td>\n",
       "    </tr>\n",
       "  </tbody>\n",
       "</table>\n",
       "</div>"
      ],
      "text/plain": [
       "                           count\n",
       "ref            peak_type        \n",
       "hg38           cp.present    243\n",
       "               fp.present    473\n",
       "               hp.present    473\n",
       "mm10           cp.present     31\n",
       "               fp.present    194\n",
       "               hp.present    194\n",
       "t2t-chm13-v2.0 cp.present    243\n",
       "               fp.present    486\n",
       "               hp.present      0"
      ]
     },
     "execution_count": 8,
     "metadata": {},
     "output_type": "execute_result"
    }
   ],
   "source": [
    "acct_summary"
   ]
  },
  {
   "cell_type": "markdown",
   "metadata": {},
   "source": [
    "#### Processing"
   ]
  },
  {
   "cell_type": "markdown",
   "metadata": {},
   "source": [
    "for i, sr in peaks.iterrows():\n",
    "    \n",
    "    sample_name = sr.sample_name\n",
    "    ref = sr.ref\n",
    "    \n",
    "    for peak_col in ['hp', 'fp', 'cp']:\n",
    "        \n",
    "        # process only if the peak file exists \n",
    "        peak_fn = sr[peak_col]\n",
    "        if os.path.exists(peak_fn):\n",
    "            \n",
    "            # assigning the correct directory\n",
    "            if peak_col == 'hp':\n",
    "                sample_outdir = '{ref}/peaks/hichip/hichip-peaks/'\n",
    "            elif peak_col == 'fp':\n",
    "                sample_outdir = '{ref}/peaks/hichip/fithichip-utility/'\n",
    "            elif peak_col == 'cp':\n",
    "                sample_outdir = '{ref}/peaks/chip-seq/macs2/'\n",
    "            \n",
    "            # assigning merged status\n",
    "            if 'merged' in peak_fn:\n",
    "                single_or_merged = 'merged'\n",
    "            else:\n",
    "                single_or_merged = 'single'\n",
    "    \n",
    "            # get the link name\n",
    "            new_fn = '{sample_name}.{single_or_merged}.peaks.bed'\n",
    "            new_path = os.path.join(project_dir, shortcut_dir, sample_outdir, new_fn) \n",
    "            new_path = new_path.format(sample_name=sample_name, single_or_merged=single_or_merged, ref=ref)\n",
    "\n",
    "            if not os.path.islink(new_path):\n",
    "                os.symlink(peak_fn, new_path)\n"
   ]
  },
  {
   "cell_type": "markdown",
   "metadata": {},
   "source": [
    "### Bigbed peak files"
   ]
  },
  {
   "cell_type": "markdown",
   "metadata": {},
   "source": [
    "jr_to_kf_peak_mapper = {'hp': 'hichip-peaks', 'fp': 'fithichip', 'cp': 'chipseq'}"
   ]
  },
  {
   "cell_type": "markdown",
   "metadata": {
    "scrolled": false
   },
   "source": [
    "for i, sr in peaks.iterrows():\n",
    "    \n",
    "    sample_name = sr.sample_name\n",
    "    ref = sr.ref\n",
    "    \n",
    "    for peak_col in ['hp', 'fp', 'cp']:\n",
    "        \n",
    "        # process only if the peak file exists \n",
    "        peak_fn = sr[peak_col]\n",
    "        \n",
    "        if os.path.exists(peak_fn):\n",
    "            \n",
    "            #print(peak_fn)\n",
    "                        \n",
    "            # assigning the correct directory\n",
    "            if peak_col == 'hp':\n",
    "                sample_outdir = '{ref}/peaks/hichip/hichip-peaks/'\n",
    "            elif peak_col == 'fp':\n",
    "                sample_outdir = '{ref}/peaks/hichip/fithichip-utility/'\n",
    "            elif peak_col == 'cp':\n",
    "                sample_outdir = '{ref}/peaks/chip-seq/macs2/'\n",
    "            \n",
    "            # assigning merged status\n",
    "            if 'merged' in peak_fn:\n",
    "                single_or_merged = 'merged'\n",
    "            else:\n",
    "                single_or_merged = 'single'\n",
    "    \n",
    "            # get the path to the bigbed\n",
    "            bigbed = 'results/visualizations/washu/{peak_type}_peaks/{sample_name}.{peak_type}.peaks.bed.bb'\n",
    "            bigbed = bigbed.format(peak_type=jr_to_kf_peak_mapper[peak_type], sample_name=sample_name)\n",
    "            bigbed = os.path.join(project_dir, bigbed)\n",
    "            \n",
    "            # get the link name\n",
    "            new_fn = '{sample_name}.peaks.bed.bb'\n",
    "            new_path = os.path.join(project_dir, shortcut_dir, sample_outdir, new_fn) \n",
    "            new_path = new_path.format(sample_name=sample_name, single_or_merged=single_or_merged, ref=ref)\n",
    "\n",
    "            print(new_path)\n",
    "            \n",
    "            if not os.path.islink(new_path) and os.path.exists(bigbed):\n",
    "                print(bigbed)\n",
    "                os.symlink(bigbed, new_path)"
   ]
  },
  {
   "cell_type": "code",
   "execution_count": null,
   "metadata": {},
   "outputs": [],
   "source": []
  },
  {
   "cell_type": "code",
   "execution_count": null,
   "metadata": {},
   "outputs": [],
   "source": []
  },
  {
   "cell_type": "code",
   "execution_count": null,
   "metadata": {},
   "outputs": [],
   "source": []
  }
 ],
 "metadata": {
  "kernelspec": {
   "display_name": "lc-pipelines",
   "language": "python",
   "name": "lc-pipelines"
  },
  "language_info": {
   "codemirror_mode": {
    "name": "ipython",
    "version": 3
   },
   "file_extension": ".py",
   "mimetype": "text/x-python",
   "name": "python",
   "nbconvert_exporter": "python",
   "pygments_lexer": "ipython3",
   "version": "3.12.0"
  }
 },
 "nbformat": 4,
 "nbformat_minor": 2
}
