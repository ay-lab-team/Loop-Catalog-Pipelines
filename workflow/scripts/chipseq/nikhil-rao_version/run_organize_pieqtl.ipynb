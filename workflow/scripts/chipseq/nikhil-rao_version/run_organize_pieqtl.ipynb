{
 "cells": [
  {
   "cell_type": "code",
   "execution_count": 10,
   "metadata": {},
   "outputs": [],
   "source": [
    "import pandas as pd\n",
    "import string\n",
    "import os"
   ]
  },
  {
   "cell_type": "code",
   "execution_count": 11,
   "metadata": {},
   "outputs": [],
   "source": [
    "# key: row number in ChIP-seq tracker\n",
    "# value: filepath of fastq file\n",
    "samples = {\n",
    "    187: \"/mnt/bioadhoc-temp/Groups/vd-ay/kfetter/hichip-db-loop-calling/data/pieqtl_chipseq_hg38/CD4N_merged_donors_hg38.fq\",\n",
    "    188: \"/mnt/bioadhoc-temp/Groups/vd-ay/kfetter/hichip-db-loop-calling/data/pieqtl_chipseq_hg38/CD8N_merged_donors_hg38.fq\",\n",
    "    189: \"/mnt/bioadhoc-temp/Groups/vd-ay/kfetter/hichip-db-loop-calling/data/pieqtl_chipseq_hg38/Mono_merged_donors_hg38.fq\",\n",
    "    190: \"/mnt/bioadhoc-temp/Groups/vd-ay/kfetter/hichip-db-loop-calling/data/pieqtl_chipseq_hg38/NB_merged_donors_hg38.fq\",\n",
    "    192: \"/mnt/bioadhoc-temp/Groups/vd-ay/kfetter/hichip-db-loop-calling/data/pieqtl_chipseq_hg38/NCM_merged_donors_hg38.fq\",\n",
    "    191: \"/mnt/bioadhoc-temp/Groups/vd-ay/kfetter/hichip-db-loop-calling/data/pieqtl_chipseq_hg38/NK_merged_donors_hg38.fq\"\n",
    "}"
   ]
  },
  {
   "cell_type": "code",
   "execution_count": 12,
   "metadata": {},
   "outputs": [],
   "source": [
    "def get_sample_foldername(row_number):\n",
    "    df = pd.read_csv('../../../results/samplesheets/fastq/chipseq_human_tracker.tsv',sep='\\t')\n",
    "    \n",
    "    # reset dataframe row numbers to match row numbers on Google sheets\n",
    "    df = df.reset_index(drop=True)\n",
    "    df.index += 2\n",
    "    \n",
    "    # construct the name of the sample using the naming scheme:\n",
    "    # {sample_name}.{gse_id}.{organism}.{target of antibody}.b{biological_rep}\n",
    "    \n",
    "    name = df['Sample Name'].loc[row_number]\n",
    "    gse_id = df['GSE ID of Corresponding HiChIP Data'].loc[row_number]\n",
    "    \n",
    "    organism = df['Organism'].loc[row_number]\n",
    "    # capitalize each word and replace each space with an underscore\n",
    "    organism = string.capwords(organism).replace(\" \", \"_\")\n",
    "    \n",
    "    target_of_antibody = df['ChIP-seq Pull Down'].loc[row_number]\n",
    "    biological_rep = df['Replicate Serial No'].loc[row_number]\n",
    "    \n",
    "    sample_foldername = name + \".\" + gse_id + \".\" + organism + \".\" + target_of_antibody + \".b\" + str(biological_rep)\n",
    "    return sample_foldername\n",
    "    "
   ]
  },
  {
   "cell_type": "code",
   "execution_count": 13,
   "metadata": {},
   "outputs": [
    {
     "name": "stdout",
     "output_type": "stream",
     "text": [
      "Commands to run in hichip-db-loop-calling folder:\n",
      "\n",
      "mkdir -p results/fastqs/chipseq//CD4N_merged_donors_hg38.phs001703v3p1.Homo_Sapiens.H3K27ac.b1\n",
      "gzip -c /mnt/bioadhoc-temp/Groups/vd-ay/kfetter/hichip-db-loop-calling/data/pieqtl_chipseq_hg38/CD4N_merged_donors_hg38.fq > results/fastqs/chipseq//CD4N_merged_donors_hg38.phs001703v3p1.Homo_Sapiens.H3K27ac.b1/CD4N_merged_donors_hg38.fastq.gz\n",
      "\n",
      "mkdir -p results/fastqs/chipseq//CD8N_merged_donors_hg38.phs001703v3p1.Homo_Sapiens.H3K27ac.b1\n",
      "gzip -c /mnt/bioadhoc-temp/Groups/vd-ay/kfetter/hichip-db-loop-calling/data/pieqtl_chipseq_hg38/CD8N_merged_donors_hg38.fq > results/fastqs/chipseq//CD8N_merged_donors_hg38.phs001703v3p1.Homo_Sapiens.H3K27ac.b1/CD8N_merged_donors_hg38.fastq.gz\n",
      "\n",
      "mkdir -p results/fastqs/chipseq//Mono_merged_donors_hg38.phs001703v3p1.Homo_Sapiens.H3K27ac.b1\n",
      "gzip -c /mnt/bioadhoc-temp/Groups/vd-ay/kfetter/hichip-db-loop-calling/data/pieqtl_chipseq_hg38/Mono_merged_donors_hg38.fq > results/fastqs/chipseq//Mono_merged_donors_hg38.phs001703v3p1.Homo_Sapiens.H3K27ac.b1/Mono_merged_donors_hg38.fastq.gz\n",
      "\n",
      "mkdir -p results/fastqs/chipseq//NB_merged_donors_hg38.phs001703v3p1.Homo_Sapiens.H3K27ac.b1\n",
      "gzip -c /mnt/bioadhoc-temp/Groups/vd-ay/kfetter/hichip-db-loop-calling/data/pieqtl_chipseq_hg38/NB_merged_donors_hg38.fq > results/fastqs/chipseq//NB_merged_donors_hg38.phs001703v3p1.Homo_Sapiens.H3K27ac.b1/NB_merged_donors_hg38.fastq.gz\n",
      "\n",
      "mkdir -p results/fastqs/chipseq//NCM_merged_donors_hg38.phs001703v4p1.Homo_Sapiens.H3K27ac.b1\n",
      "gzip -c /mnt/bioadhoc-temp/Groups/vd-ay/kfetter/hichip-db-loop-calling/data/pieqtl_chipseq_hg38/NCM_merged_donors_hg38.fq > results/fastqs/chipseq//NCM_merged_donors_hg38.phs001703v4p1.Homo_Sapiens.H3K27ac.b1/NCM_merged_donors_hg38.fastq.gz\n",
      "\n",
      "mkdir -p results/fastqs/chipseq//NK_merged_donors_hg38.phs001703v3p1.Homo_Sapiens.H3K27ac.b1\n",
      "gzip -c /mnt/bioadhoc-temp/Groups/vd-ay/kfetter/hichip-db-loop-calling/data/pieqtl_chipseq_hg38/NK_merged_donors_hg38.fq > results/fastqs/chipseq//NK_merged_donors_hg38.phs001703v3p1.Homo_Sapiens.H3K27ac.b1/NK_merged_donors_hg38.fastq.gz\n",
      "\n"
     ]
    }
   ],
   "source": [
    "! echo \"Commands to run in hichip-db-loop-calling folder:\"\n",
    "! echo\n",
    "\n",
    "for key in samples:\n",
    "    # obtain name of folder containing sample\n",
    "    sample_foldername = get_sample_foldername(key)\n",
    "    \n",
    "    # create the folder for the sample\n",
    "    folderbasepath = \"results/fastqs/chipseq/\"\n",
    "    \n",
    "    ! echo \"mkdir -p {folderbasepath}/{sample_foldername}\"\n",
    "    \n",
    "    sample_name = os.path.basename(samples[key]).removesuffix(\".fq\")\n",
    "    \n",
    "    # create a gzipped file of the sample in the newly created folder\n",
    "    ! echo \"gzip -c {samples[key]} > {folderbasepath}/{sample_foldername}/{sample_name}.fastq.gz\"\n",
    "    ! echo"
   ]
  }
 ],
 "metadata": {
  "kernelspec": {
   "display_name": "Python 3.9.10",
   "language": "python",
   "name": "geo-parser"
  },
  "language_info": {
   "codemirror_mode": {
    "name": "ipython",
    "version": 3
   },
   "file_extension": ".py",
   "mimetype": "text/x-python",
   "name": "python",
   "nbconvert_exporter": "python",
   "pygments_lexer": "ipython3",
   "version": "3.9.10"
  },
  "orig_nbformat": 4,
  "vscode": {
   "interpreter": {
    "hash": "e4d5a3cd1ee9e3d9504ccc063a13d7927237617d33144a8af360891249da3881"
   }
  }
 },
 "nbformat": 4,
 "nbformat_minor": 2
}
