{
 "cells": [
  {
   "cell_type": "code",
   "execution_count": 1,
   "id": "98ebfde9",
   "metadata": {},
   "outputs": [],
   "source": [
    "import os \n",
    "import glob\n",
    "import numpy as np \n",
    "import pandas as pd"
   ]
  },
  {
   "cell_type": "markdown",
   "id": "44401547",
   "metadata": {},
   "source": [
    "## Load the GSM Data"
   ]
  },
  {
   "cell_type": "code",
   "execution_count": 2,
   "id": "4f3adc1e",
   "metadata": {},
   "outputs": [],
   "source": [
    "fn = './Batch-2-ChIP-seq-Tracker_8.16.22-10.23.23_All-Tracker.tsv'\n",
    "data = pd.read_table(fn, skiprows=1)\n",
    "data = data.loc[data['Has ChIP-seq?'] == 'Yes']"
   ]
  },
  {
   "cell_type": "code",
   "execution_count": 3,
   "id": "0e1b1dcd",
   "metadata": {},
   "outputs": [],
   "source": [
    "chipseq_gse_lists = data['GSM ID(s)'].dropna().tolist() + data['Control GSM(s)'].dropna().tolist()\n",
    "chipseq_gsms = []\n",
    "for gse_list in chipseq_gse_lists:\n",
    "    gsm_ids = [x.strip() for x in gse_list.split(',')]\n",
    "    chipseq_gsms.extend(gsm_ids)\n",
    "    \n",
    "chipseq_gsms = sorted(set(chipseq_gsms))"
   ]
  },
  {
   "cell_type": "markdown",
   "id": "455de5d4",
   "metadata": {},
   "source": [
    "Query the below within the SRA Run Selector: https://www.ncbi.nlm.nih.gov/Traces/study/"
   ]
  },
  {
   "cell_type": "code",
   "execution_count": 4,
   "id": "d215341a",
   "metadata": {},
   "outputs": [
    {
     "data": {
      "text/plain": [
       "'GSM4952699,GSM4952700,GSM4952701,GSM4952702,GSM4952703,GSM4952704,GSM4952705,GSM4952706,GSM4952707,GSM4952708,GSM4952709,GSM4952710,GSM5034230,GSM5034231,GSM5513456,GSM5625199,GSM5625200,GSM5625201,GSM5625202,GSM5625207,GSM5625208,GSM5625209,GSM5625210,GSM5904685,GSM5904686,GSM5904687,GSM5904688,GSM5904689,GSM5904690,GSM5904691,GSM5904692,GSM5904693,GSM5904694,GSM5904695,GSM5904696,GSM6016304,GSM6016305,GSM6016306,GSM6016307,GSM6016308,GSM6016309,GSM6016310,GSM6016311,GSM6016312,GSM6016313,GSM6016314,GSM6016315,GSM6226246,GSM6226256,GSM6226257,GSM6514267,GSM6514268,GSM6514269,GSM6514270,GSM6514271,GSM6514272,GSM6568001,GSM6568006,GSM6568007,GSM6568008,GSM6568016,GSM6568017,GSM6568227,GSM6568228,GSM6568229,GSM6568230,GSM6568231,GSM6568232,GSM6568233,GSM6568234,GSM6568237,GSM6568238,GSM6568239,GSM6585290,GSM6585291,GSM6614089,GSM6614090,GSM6614091,GSM6620326,GSM6620327,GSM6620328,GSM6620329,GSM6620330,GSM6620331,GSM6620332,GSM6620333,GSM6715172,GSM6715173,GSM6715174,GSM6715175,GSM6715176,GSM6715177,GSM6715178,GSM6715179,GSM6715181,GSM6715182,GSM6715183,GSM6715184,GSM6715185,GSM6715186,GSM6715187,GSM6715188,GSM6715189,GSM6715190,GSM6715191,GSM7104825,GSM7104826,GSM7104827,GSM7104830,GSM7104831,GSM7336681,GSM7336682,GSM7336684,GSM7336685,GSM7497622,GSM7497623,GSM7497624,GSM7679478,GSM7679479,GSM7679482,GSM7679483,GSM7679484,GSM7679485,GSM7679488,GSM7679489'"
      ]
     },
     "execution_count": 4,
     "metadata": {},
     "output_type": "execute_result"
    }
   ],
   "source": [
    "','.join(chipseq_gsms)"
   ]
  },
  {
   "cell_type": "code",
   "execution_count": 5,
   "id": "489bc2ef",
   "metadata": {},
   "outputs": [
    {
     "data": {
      "text/plain": [
       "125"
      ]
     },
     "execution_count": 5,
     "metadata": {},
     "output_type": "execute_result"
    }
   ],
   "source": [
    "len(chipseq_gsms)"
   ]
  },
  {
   "cell_type": "markdown",
   "id": "e82b8d67",
   "metadata": {},
   "source": [
    "## Parse the Queried Data"
   ]
  },
  {
   "cell_type": "code",
   "execution_count": 6,
   "id": "2d5ddf48",
   "metadata": {},
   "outputs": [],
   "source": [
    "# load the data\n",
    "gsm_to_srr_data = pd.read_table('./SraRunTable.txt', sep=',')\n",
    "gsm_to_srr_data = gsm_to_srr_data[['Sample Name', 'Run']]\n",
    "gsm_to_srr_data.columns = ['gsm_id', 'srr_id']\n",
    "gsm_to_srr_data.sort_values('gsm_id', inplace=True)"
   ]
  },
  {
   "cell_type": "code",
   "execution_count": 7,
   "id": "328b1630",
   "metadata": {},
   "outputs": [],
   "source": [
    "# manually adding missing samples\n",
    "adding_missing_entries = [['GSM7336681', 'SRR16538542'],\n",
    "                          ['GSM7336682', 'SRR16538550'],\n",
    "                          ['GSM7336684', 'SRR16538541'],\n",
    "                          ['GSM7336685', 'SRR16538549'],\n",
    "]\n",
    "adding_missing_entries = pd.DataFrame(adding_missing_entries, columns=gsm_to_srr_data.columns.tolist())\n",
    "gsm_to_srr_data = pd.concat([gsm_to_srr_data, adding_missing_entries], axis=0)"
   ]
  },
  {
   "cell_type": "markdown",
   "id": "000ad5a7",
   "metadata": {},
   "source": [
    "## Check for Discrepancies"
   ]
  },
  {
   "cell_type": "code",
   "execution_count": 8,
   "id": "42d7428b",
   "metadata": {},
   "outputs": [],
   "source": [
    "original_gses = set(chipseq_gsms)"
   ]
  },
  {
   "cell_type": "code",
   "execution_count": 9,
   "id": "8211166e",
   "metadata": {},
   "outputs": [],
   "source": [
    "queried_gses = set(gsm_to_srr_data.gsm_id.unique())"
   ]
  },
  {
   "cell_type": "code",
   "execution_count": 10,
   "id": "0beeab41",
   "metadata": {},
   "outputs": [
    {
     "data": {
      "text/plain": [
       "125"
      ]
     },
     "execution_count": 10,
     "metadata": {},
     "output_type": "execute_result"
    }
   ],
   "source": [
    "len(queried_gses)"
   ]
  },
  {
   "cell_type": "code",
   "execution_count": 11,
   "id": "edcaad61",
   "metadata": {},
   "outputs": [
    {
     "data": {
      "text/plain": [
       "set()"
      ]
     },
     "execution_count": 11,
     "metadata": {},
     "output_type": "execute_result"
    }
   ],
   "source": [
    "original_gses.difference(queried_gses)"
   ]
  },
  {
   "cell_type": "markdown",
   "id": "8874ed29",
   "metadata": {},
   "source": [
    "Not sure how I got these extra stragglers "
   ]
  },
  {
   "cell_type": "code",
   "execution_count": 12,
   "id": "ccc147d9",
   "metadata": {},
   "outputs": [
    {
     "data": {
      "text/plain": [
       "set()"
      ]
     },
     "execution_count": 12,
     "metadata": {},
     "output_type": "execute_result"
    }
   ],
   "source": [
    "queried_gses.difference(original_gses)"
   ]
  },
  {
   "cell_type": "code",
   "execution_count": 13,
   "id": "e872cd7d",
   "metadata": {},
   "outputs": [
    {
     "data": {
      "text/plain": [
       "GSM4952699    3\n",
       "GSM4952706    3\n",
       "GSM4952700    3\n",
       "GSM4952710    3\n",
       "GSM4952709    3\n",
       "             ..\n",
       "GSM6016313    1\n",
       "GSM6016312    1\n",
       "GSM6016311    1\n",
       "GSM6016310    1\n",
       "GSM7336685    1\n",
       "Name: gsm_id, Length: 125, dtype: int64"
      ]
     },
     "execution_count": 13,
     "metadata": {},
     "output_type": "execute_result"
    }
   ],
   "source": [
    "gsm_to_srr_data.gsm_id.value_counts()"
   ]
  },
  {
   "cell_type": "markdown",
   "id": "12edd214",
   "metadata": {},
   "source": [
    "## Create the Samplesheet for Downloading"
   ]
  },
  {
   "cell_type": "code",
   "execution_count": 51,
   "id": "a45083c6",
   "metadata": {},
   "outputs": [],
   "source": [
    "# get unique SRRs "
   ]
  },
  {
   "cell_type": "code",
   "execution_count": 14,
   "id": "015ee259",
   "metadata": {},
   "outputs": [],
   "source": [
    "srr_ids = sorted(gsm_to_srr_data.srr_id.unique())"
   ]
  },
  {
   "cell_type": "code",
   "execution_count": 15,
   "id": "efff234d",
   "metadata": {
    "scrolled": false
   },
   "outputs": [],
   "source": [
    "with open('srr_ids.txt', 'w') as fw:\n",
    "    fw.write('\\n'.join(srr_ids))"
   ]
  },
  {
   "cell_type": "markdown",
   "id": "c3aaf4d7",
   "metadata": {},
   "source": [
    "## Create the Samplesheet for Concatination"
   ]
  },
  {
   "cell_type": "code",
   "execution_count": 53,
   "id": "e4041382",
   "metadata": {},
   "outputs": [],
   "source": [
    "# get Combinations of SRRs that should be concatinated\n",
    "gsm_srr_combos_data = []\n",
    "\n",
    "# main GSMs\n",
    "for gsm_ids_combo in data['GSM ID(s)'].tolist():\n",
    "    gsm_ids = gsm_ids_combo.replace(' ', '').split(',')\n",
    "    gsm_combo_reps = [gsm_ids_combo] * len(gsm_ids)\n",
    "    split_data = list(zip(gsm_combo_reps, gsm_ids))\n",
    "    gsm_srr_combos_data.extend(split_data)    \n",
    "    \n",
    "# control GSMs\n",
    "for gsm_ids_combo in data['Control GSM(s)'].tolist():\n",
    "    \n",
    "    if type(gsm_ids_combo) == str:\n",
    "        gsm_ids = gsm_ids_combo.replace(' ', '').split(',')\n",
    "        gsm_combo_reps = [gsm_ids_combo] * len(gsm_ids)\n",
    "        split_data = list(zip(gsm_combo_reps, gsm_ids))\n",
    "    else:\n",
    "        split_data = [[np.nan, np.nan]]\n",
    "    gsm_srr_combos_data.extend(split_data)    "
   ]
  },
  {
   "cell_type": "code",
   "execution_count": 17,
   "id": "33b5f2d9",
   "metadata": {},
   "outputs": [],
   "source": [
    "gsm_srr_combos_data = pd.DataFrame(gsm_srr_combos_data, columns=['GSM ID(s)', 'split_gsm_ids']).drop_duplicates()\n",
    "gsm_srr_combos_data = gsm_srr_combos_data.merge(gsm_to_srr_data, left_on='split_gsm_ids', right_on='gsm_id', how='outer', indicator=True)\n",
    "gsm_srr_combos_data = gsm_srr_combos_data.loc[~gsm_srr_combos_data.gsm_id.isna()]"
   ]
  },
  {
   "cell_type": "code",
   "execution_count": 18,
   "id": "7ae73567",
   "metadata": {},
   "outputs": [],
   "source": [
    "gsm_srr_combos_data_agg = gsm_srr_combos_data.groupby('GSM ID(s)').agg({'srr_id': '-'.join})\n",
    "srr_combos = sorted(gsm_srr_combos_data_agg.srr_id.unique())"
   ]
  },
  {
   "cell_type": "code",
   "execution_count": 19,
   "id": "75ef8b97",
   "metadata": {},
   "outputs": [],
   "source": [
    "with open('srr_id.combos.txt', 'w') as fw:\n",
    "    fw.write('\\n'.join(srr_combos))"
   ]
  },
  {
   "cell_type": "code",
   "execution_count": 20,
   "id": "ba1f5f46",
   "metadata": {},
   "outputs": [
    {
     "data": {
      "text/plain": [
       "81"
      ]
     },
     "execution_count": 20,
     "metadata": {},
     "output_type": "execute_result"
    }
   ],
   "source": [
    "len(srr_combos)"
   ]
  },
  {
   "cell_type": "markdown",
   "id": "e7a08230",
   "metadata": {},
   "source": [
    "## Create the Samplesheet for Alignment of Control SRRs"
   ]
  },
  {
   "cell_type": "markdown",
   "id": "b67922dd",
   "metadata": {},
   "source": [
    "#### Generate a samplesheet that contains the organism"
   ]
  },
  {
   "cell_type": "code",
   "execution_count": 41,
   "id": "d11dcdfd",
   "metadata": {},
   "outputs": [
    {
     "name": "stderr",
     "output_type": "stream",
     "text": [
      "/tmp/ipykernel_67811/822890040.py:27: SettingWithCopyWarning: \n",
      "A value is trying to be set on a copy of a slice from a DataFrame.\n",
      "Try using .loc[row_indexer,col_indexer] = value instead\n",
      "\n",
      "See the caveats in the documentation: https://pandas.pydata.org/pandas-docs/stable/user_guide/indexing.html#returning-a-view-versus-a-copy\n",
      "  mouse_subset.loc[:, 'ref_genome'] = 'mm10'\n"
     ]
    }
   ],
   "source": [
    "# extracting gsms\n",
    "df1 = data[['GSM ID(s)', 'Organism']].rename(columns={'GSM ID(s)': 'gsm_ids'})\n",
    "df1['sample_type'] = 'main'\n",
    "df2 = data[['Control GSM(s)', 'Organism']].rename(columns={'Control GSM(s)': 'gsm_ids'})\n",
    "df2['sample_type'] = 'control'\n",
    "\n",
    "# concating the gsm dfs\n",
    "gsm_to_organism = pd.concat([df1, df2], axis=0).dropna().drop_duplicates()\n",
    "\n",
    "# adding srr information\n",
    "gsm_to_organism = gsm_to_organism.merge(gsm_srr_combos_data_agg, left_on='gsm_ids', right_index=True)\n",
    "\n",
    "# extract control only\n",
    "gsm_to_organism_control = gsm_to_organism.loc[gsm_to_organism.sample_type == 'control']\n",
    "\n",
    "# adding reference genome information\n",
    "human_subset = gsm_to_organism_control.loc[gsm_to_organism_control['Organism'] == 'Homo sapiens']\n",
    "mouse_subset = gsm_to_organism_control.loc[gsm_to_organism_control['Organism'] == 'Mus musculus']\n",
    "\n",
    "grch38_subset = human_subset.copy().sort_values(['srr_id'])\n",
    "grch38_subset.loc[:, 'ref_genome'] = 'grch38'\n",
    "\n",
    "t2t_subset = human_subset.copy().sort_values(['srr_id'])\n",
    "t2t_subset.loc[:, 'ref_genome'] = 't2t'\n",
    "\n",
    "mm10_subset = mouse_subset.copy().sort_values(['srr_id'])\n",
    "mouse_subset.loc[:, 'ref_genome'] = 'mm10'\n",
    "\n",
    "# concating all the subsets for a final samplesheet\n",
    "gsm_to_organism_control = pd.concat([grch38_subset, mouse_subset, t2t_subset])"
   ]
  },
  {
   "cell_type": "code",
   "execution_count": 46,
   "id": "49b1090d",
   "metadata": {},
   "outputs": [],
   "source": [
    "# extract srr and ref_genome\n",
    "gsm_to_organism_control = gsm_to_organism_control[['srr_id', 'ref_genome']]"
   ]
  },
  {
   "cell_type": "code",
   "execution_count": 50,
   "id": "db7463e2",
   "metadata": {},
   "outputs": [],
   "source": [
    "samplesheet_path = 'chipseq_srr_ids_to_ref_genome.combos.batch2.txt'\n",
    "gsm_to_organism_control.to_csv(samplesheet_path, sep='\\t', header=False, index=False)"
   ]
  },
  {
   "cell_type": "markdown",
   "id": "265ed3ff",
   "metadata": {},
   "source": [
    "## Create the Samplesheet for Running ChIPLine"
   ]
  },
  {
   "cell_type": "code",
   "execution_count": 278,
   "id": "0893fc62",
   "metadata": {},
   "outputs": [],
   "source": [
    "# process only uniqe GSM combos\n",
    "chipline_ss = data[['Sample Name', 'GSE ID For ChIP-seq Data', 'Organism', 'Pulldown', 'GSM ID(s)', 'Control GSM(s)']]\n",
    "chipline_ss = chipline_ss.drop_duplicates(subset=['GSM ID(s)'])"
   ]
  },
  {
   "cell_type": "code",
   "execution_count": 280,
   "id": "2c9a2540",
   "metadata": {},
   "outputs": [],
   "source": [
    "# add the srr information\n",
    "chipline_ss = chipline_ss.merge(gsm_srr_combos_data_agg, left_on='GSM ID(s)', right_index=True, how='left')\n",
    "chipline_ss.rename(columns={'srr_id': 'Main SRR(s)'}, inplace=True)\n",
    "chipline_ss = chipline_ss.merge(gsm_srr_combos_data_agg, left_on='Control GSM(s)', right_index=True, how='left')\n",
    "chipline_ss.rename(columns={'srr_id': 'Control SRR(s)'}, inplace=True)"
   ]
  },
  {
   "cell_type": "code",
   "execution_count": 281,
   "id": "2cb72b1f",
   "metadata": {},
   "outputs": [],
   "source": [
    "# add organism infor\n",
    "chipline_ss.loc[:, 'Organism'] = chipline_ss.loc[:, 'Organism'].replace('Homo sapiens', 'Homo_Sapiens')\n",
    "chipline_ss.loc[:, 'Organism'] = chipline_ss.loc[:, 'Organism'].replace('Mus musculus', 'Mus_musculus')"
   ]
  },
  {
   "cell_type": "code",
   "execution_count": 282,
   "id": "fb2c8cc6",
   "metadata": {},
   "outputs": [],
   "source": [
    "# adding the biorep information \n",
    "chipline_ss_tmp_list = []\n",
    "sort_cols = ['GSE ID For ChIP-seq Data', 'Sample Name', 'Organism', 'Pulldown', 'GSM ID(s)', 'Control GSM(s)']\n",
    "chipline_ss = chipline_ss.sort_values(sort_cols)\n",
    "for grp, grp_df in chipline_ss.groupby(['GSE ID For ChIP-seq Data', 'Sample Name', 'Organism', 'Pulldown']):\n",
    "    grp_df.loc[:, 'Rep No.'] = ['b{}'.format(x) for x in range(1, grp_df.shape[0] + 1)]\n",
    "    chipline_ss_tmp_list.append(grp_df)\n",
    "chipline_ss = pd.concat(chipline_ss_tmp_list)"
   ]
  },
  {
   "cell_type": "code",
   "execution_count": 283,
   "id": "69913ffe",
   "metadata": {},
   "outputs": [],
   "source": [
    "# add the standard sample name \n",
    "def create_std_sample_name(sr):\n",
    "    name = '{}.{}.{}.{}.{}'.format(sr['Sample Name'], sr['GSE ID For ChIP-seq Data'],\n",
    "                                   sr['Organism'], sr['Pulldown'], sr['Rep No.'])\n",
    "    return(name)\n",
    "chipline_ss.loc[:, 'chipseq_std_sample_name'] = chipline_ss.apply(create_std_sample_name, axis=1)"
   ]
  },
  {
   "cell_type": "code",
   "execution_count": 286,
   "id": "1ba2df36",
   "metadata": {},
   "outputs": [],
   "source": [
    "# organize the reference genome of samples\n",
    "chipline_ss.loc[:, 'Ref Genome'] = chipline_ss['Organism'].map({'Homo_Sapiens': 'grch38',\n",
    "                                                                 'Mus_musculus': 'mm10'})\n",
    "# add T2T samples\n",
    "chipline_ss_grps = chipline_ss.groupby('Ref Genome')\n",
    "t2t_chipline_ss = chipline_ss_grps.get_group('grch38').copy(deep=True)\n",
    "t2t_chipline_ss.loc[:, 'Ref Genome'] = 't2t'"
   ]
  },
  {
   "cell_type": "code",
   "execution_count": 274,
   "id": "8e500c77",
   "metadata": {},
   "outputs": [],
   "source": [
    "# generate teh final chipline samplesheet\n",
    "chipline_ss = pd.concat([chipline_ss, t2t_chipline_ss])"
   ]
  },
  {
   "cell_type": "code",
   "execution_count": 275,
   "id": "4ed0e75a",
   "metadata": {},
   "outputs": [],
   "source": [
    "# organize the columns \n",
    "chipline_ss = chipline_ss[['chipseq_std_sample_name', 'Main SRR(s)', 'Control SRR(s)', 'Ref Genome',\n",
    "                           'Sample Name', 'GSE ID For ChIP-seq Data',\n",
    "                            'Organism', 'Pulldown', 'Rep No.', 'GSM ID(s)', 'Control GSM(s)']]"
   ]
  },
  {
   "cell_type": "code",
   "execution_count": 276,
   "id": "3dc7de56",
   "metadata": {},
   "outputs": [],
   "source": [
    "# finalize and save\n",
    "chipline_ss.fillna('N/A', inplace=True)\n",
    "chipline_ss_fn = 'chipseq.chipline.batch2.txt'\n",
    "chipline_ss.to_csv(chipline_ss_fn, sep='\\t', index=False, header=False)"
   ]
  },
  {
   "cell_type": "code",
   "execution_count": 277,
   "id": "2eccca52",
   "metadata": {},
   "outputs": [
    {
     "data": {
      "text/html": [
       "<div>\n",
       "<style scoped>\n",
       "    .dataframe tbody tr th:only-of-type {\n",
       "        vertical-align: middle;\n",
       "    }\n",
       "\n",
       "    .dataframe tbody tr th {\n",
       "        vertical-align: top;\n",
       "    }\n",
       "\n",
       "    .dataframe thead th {\n",
       "        text-align: right;\n",
       "    }\n",
       "</style>\n",
       "<table border=\"1\" class=\"dataframe\">\n",
       "  <thead>\n",
       "    <tr style=\"text-align: right;\">\n",
       "      <th></th>\n",
       "      <th>chipseq_std_sample_name</th>\n",
       "      <th>Main SRR(s)</th>\n",
       "      <th>Control SRR(s)</th>\n",
       "      <th>Ref Genome</th>\n",
       "      <th>Sample Name</th>\n",
       "      <th>GSE ID For ChIP-seq Data</th>\n",
       "      <th>Organism</th>\n",
       "      <th>Pulldown</th>\n",
       "      <th>Rep No.</th>\n",
       "      <th>GSM ID(s)</th>\n",
       "      <th>Control GSM(s)</th>\n",
       "    </tr>\n",
       "  </thead>\n",
       "  <tbody>\n",
       "    <tr>\n",
       "      <th>0</th>\n",
       "      <td>VCP65.GSE162609.Homo_Sapiens.H3K27ac.b1</td>\n",
       "      <td>SRR13178581-SRR13178579-SRR13178580-SRR1317858...</td>\n",
       "      <td>SRR13178588-SRR13178590-SRR13178589-SRR1317859...</td>\n",
       "      <td>grch38</td>\n",
       "      <td>VCP65</td>\n",
       "      <td>GSE162609</td>\n",
       "      <td>Homo_Sapiens</td>\n",
       "      <td>H3K27ac</td>\n",
       "      <td>b1</td>\n",
       "      <td>GSM4952699, GSM4952700, GSM4952701</td>\n",
       "      <td>GSM4952702, GSM4952703, GSM4952704</td>\n",
       "    </tr>\n",
       "    <tr>\n",
       "      <th>1</th>\n",
       "      <td>VCP67.GSE162609.Homo_Sapiens.H3K27ac.b1</td>\n",
       "      <td>SRR13178599-SRR13178598-SRR13178597-SRR1317860...</td>\n",
       "      <td>SRR13178606-SRR13178607-SRR13178608-SRR1317860...</td>\n",
       "      <td>grch38</td>\n",
       "      <td>VCP67</td>\n",
       "      <td>GSE162609</td>\n",
       "      <td>Homo_Sapiens</td>\n",
       "      <td>H3K27ac</td>\n",
       "      <td>b1</td>\n",
       "      <td>GSM4952705, GSM4952706, GSM4952707</td>\n",
       "      <td>GSM4952708, GSM4952709, GSM4952710</td>\n",
       "    </tr>\n",
       "    <tr>\n",
       "      <th>2</th>\n",
       "      <td>HCT116-NUP93-mAC.GSE165463.Homo_Sapiens.H3K27a...</td>\n",
       "      <td>SRR13523286</td>\n",
       "      <td>N/A</td>\n",
       "      <td>grch38</td>\n",
       "      <td>HCT116-NUP93-mAC</td>\n",
       "      <td>GSE165463</td>\n",
       "      <td>Homo_Sapiens</td>\n",
       "      <td>H3K27ac</td>\n",
       "      <td>b1</td>\n",
       "      <td>GSM5034230</td>\n",
       "      <td>N/A</td>\n",
       "    </tr>\n",
       "    <tr>\n",
       "      <th>4</th>\n",
       "      <td>HCT116-NUP93-mAC-IAA.GSE165463.Homo_Sapiens.H3...</td>\n",
       "      <td>SRR13523287</td>\n",
       "      <td>N/A</td>\n",
       "      <td>grch38</td>\n",
       "      <td>HCT116-NUP93-mAC-IAA</td>\n",
       "      <td>GSE165463</td>\n",
       "      <td>Homo_Sapiens</td>\n",
       "      <td>H3K27ac</td>\n",
       "      <td>b1</td>\n",
       "      <td>GSM5034231</td>\n",
       "      <td>N/A</td>\n",
       "    </tr>\n",
       "    <tr>\n",
       "      <th>39</th>\n",
       "      <td>YAP-M-tumor.GSE181867.Mus_musculus.H3K27ac.b1</td>\n",
       "      <td>SRR15414689</td>\n",
       "      <td>N/A</td>\n",
       "      <td>mm10</td>\n",
       "      <td>YAP-M-tumor</td>\n",
       "      <td>GSE181867</td>\n",
       "      <td>Mus_musculus</td>\n",
       "      <td>H3K27ac</td>\n",
       "      <td>b1</td>\n",
       "      <td>GSM5513456</td>\n",
       "      <td>N/A</td>\n",
       "    </tr>\n",
       "    <tr>\n",
       "      <th>...</th>\n",
       "      <td>...</td>\n",
       "      <td>...</td>\n",
       "      <td>...</td>\n",
       "      <td>...</td>\n",
       "      <td>...</td>\n",
       "      <td>...</td>\n",
       "      <td>...</td>\n",
       "      <td>...</td>\n",
       "      <td>...</td>\n",
       "      <td>...</td>\n",
       "      <td>...</td>\n",
       "    </tr>\n",
       "    <tr>\n",
       "      <th>16</th>\n",
       "      <td>HCT116.GSM5904695.Homo_Sapiens.H3K4me1.b1</td>\n",
       "      <td>SRR18054306-SRR18054305</td>\n",
       "      <td>SRR18054294</td>\n",
       "      <td>t2t</td>\n",
       "      <td>HCT116</td>\n",
       "      <td>GSM5904695</td>\n",
       "      <td>Homo_Sapiens</td>\n",
       "      <td>H3K4me1</td>\n",
       "      <td>b1</td>\n",
       "      <td>GSM5904685, GSM5904686</td>\n",
       "      <td>GSM5904695</td>\n",
       "    </tr>\n",
       "    <tr>\n",
       "      <th>19</th>\n",
       "      <td>HCT116.GSM5904695.Homo_Sapiens.H3K4me3.b1</td>\n",
       "      <td>SRR18054298</td>\n",
       "      <td>SRR18054294</td>\n",
       "      <td>t2t</td>\n",
       "      <td>HCT116</td>\n",
       "      <td>GSM5904695</td>\n",
       "      <td>Homo_Sapiens</td>\n",
       "      <td>H3K4me3</td>\n",
       "      <td>b1</td>\n",
       "      <td>GSM5904693</td>\n",
       "      <td>GSM5904695</td>\n",
       "    </tr>\n",
       "    <tr>\n",
       "      <th>21</th>\n",
       "      <td>HCT116-FOXD2.GSM5904695.Homo_Sapiens.H3K27ac.b1</td>\n",
       "      <td>SRR18054304-SRR18054299</td>\n",
       "      <td>SRR18054296</td>\n",
       "      <td>t2t</td>\n",
       "      <td>HCT116-FOXD2</td>\n",
       "      <td>GSM5904695</td>\n",
       "      <td>Homo_Sapiens</td>\n",
       "      <td>H3K27ac</td>\n",
       "      <td>b1</td>\n",
       "      <td>GSM5904691, GSM5904692</td>\n",
       "      <td>GSM5904696</td>\n",
       "    </tr>\n",
       "    <tr>\n",
       "      <th>23</th>\n",
       "      <td>HCT116-FOXD2.GSM5904695.Homo_Sapiens.H3K4me1.b1</td>\n",
       "      <td>SRR18054302-SRR18054301</td>\n",
       "      <td>SRR18054296</td>\n",
       "      <td>t2t</td>\n",
       "      <td>HCT116-FOXD2</td>\n",
       "      <td>GSM5904695</td>\n",
       "      <td>Homo_Sapiens</td>\n",
       "      <td>H3K4me1</td>\n",
       "      <td>b1</td>\n",
       "      <td>GSM5904687, GSM5904688</td>\n",
       "      <td>GSM5904696</td>\n",
       "    </tr>\n",
       "    <tr>\n",
       "      <th>26</th>\n",
       "      <td>HCT116-FOXD2.GSM5904695.Homo_Sapiens.H3K4me3.b1</td>\n",
       "      <td>SRR18054295</td>\n",
       "      <td>SRR18054296</td>\n",
       "      <td>t2t</td>\n",
       "      <td>HCT116-FOXD2</td>\n",
       "      <td>GSM5904695</td>\n",
       "      <td>Homo_Sapiens</td>\n",
       "      <td>H3K4me3</td>\n",
       "      <td>b1</td>\n",
       "      <td>GSM5904694</td>\n",
       "      <td>GSM5904696</td>\n",
       "    </tr>\n",
       "  </tbody>\n",
       "</table>\n",
       "<p>96 rows × 11 columns</p>\n",
       "</div>"
      ],
      "text/plain": [
       "                              chipseq_std_sample_name  \\\n",
       "0             VCP65.GSE162609.Homo_Sapiens.H3K27ac.b1   \n",
       "1             VCP67.GSE162609.Homo_Sapiens.H3K27ac.b1   \n",
       "2   HCT116-NUP93-mAC.GSE165463.Homo_Sapiens.H3K27a...   \n",
       "4   HCT116-NUP93-mAC-IAA.GSE165463.Homo_Sapiens.H3...   \n",
       "39      YAP-M-tumor.GSE181867.Mus_musculus.H3K27ac.b1   \n",
       "..                                                ...   \n",
       "16          HCT116.GSM5904695.Homo_Sapiens.H3K4me1.b1   \n",
       "19          HCT116.GSM5904695.Homo_Sapiens.H3K4me3.b1   \n",
       "21    HCT116-FOXD2.GSM5904695.Homo_Sapiens.H3K27ac.b1   \n",
       "23    HCT116-FOXD2.GSM5904695.Homo_Sapiens.H3K4me1.b1   \n",
       "26    HCT116-FOXD2.GSM5904695.Homo_Sapiens.H3K4me3.b1   \n",
       "\n",
       "                                          Main SRR(s)  \\\n",
       "0   SRR13178581-SRR13178579-SRR13178580-SRR1317858...   \n",
       "1   SRR13178599-SRR13178598-SRR13178597-SRR1317860...   \n",
       "2                                         SRR13523286   \n",
       "4                                         SRR13523287   \n",
       "39                                        SRR15414689   \n",
       "..                                                ...   \n",
       "16                            SRR18054306-SRR18054305   \n",
       "19                                        SRR18054298   \n",
       "21                            SRR18054304-SRR18054299   \n",
       "23                            SRR18054302-SRR18054301   \n",
       "26                                        SRR18054295   \n",
       "\n",
       "                                       Control SRR(s) Ref Genome  \\\n",
       "0   SRR13178588-SRR13178590-SRR13178589-SRR1317859...     grch38   \n",
       "1   SRR13178606-SRR13178607-SRR13178608-SRR1317860...     grch38   \n",
       "2                                                 N/A     grch38   \n",
       "4                                                 N/A     grch38   \n",
       "39                                                N/A       mm10   \n",
       "..                                                ...        ...   \n",
       "16                                        SRR18054294        t2t   \n",
       "19                                        SRR18054294        t2t   \n",
       "21                                        SRR18054296        t2t   \n",
       "23                                        SRR18054296        t2t   \n",
       "26                                        SRR18054296        t2t   \n",
       "\n",
       "             Sample Name GSE ID For ChIP-seq Data      Organism Pulldown  \\\n",
       "0                  VCP65                GSE162609  Homo_Sapiens  H3K27ac   \n",
       "1                  VCP67                GSE162609  Homo_Sapiens  H3K27ac   \n",
       "2       HCT116-NUP93-mAC                GSE165463  Homo_Sapiens  H3K27ac   \n",
       "4   HCT116-NUP93-mAC-IAA                GSE165463  Homo_Sapiens  H3K27ac   \n",
       "39           YAP-M-tumor                GSE181867  Mus_musculus  H3K27ac   \n",
       "..                   ...                      ...           ...      ...   \n",
       "16                HCT116               GSM5904695  Homo_Sapiens  H3K4me1   \n",
       "19                HCT116               GSM5904695  Homo_Sapiens  H3K4me3   \n",
       "21          HCT116-FOXD2               GSM5904695  Homo_Sapiens  H3K27ac   \n",
       "23          HCT116-FOXD2               GSM5904695  Homo_Sapiens  H3K4me1   \n",
       "26          HCT116-FOXD2               GSM5904695  Homo_Sapiens  H3K4me3   \n",
       "\n",
       "   Rep No.                           GSM ID(s)  \\\n",
       "0       b1  GSM4952699, GSM4952700, GSM4952701   \n",
       "1       b1  GSM4952705, GSM4952706, GSM4952707   \n",
       "2       b1                          GSM5034230   \n",
       "4       b1                          GSM5034231   \n",
       "39      b1                          GSM5513456   \n",
       "..     ...                                 ...   \n",
       "16      b1              GSM5904685, GSM5904686   \n",
       "19      b1                          GSM5904693   \n",
       "21      b1              GSM5904691, GSM5904692   \n",
       "23      b1              GSM5904687, GSM5904688   \n",
       "26      b1                          GSM5904694   \n",
       "\n",
       "                        Control GSM(s)  \n",
       "0   GSM4952702, GSM4952703, GSM4952704  \n",
       "1   GSM4952708, GSM4952709, GSM4952710  \n",
       "2                                  N/A  \n",
       "4                                  N/A  \n",
       "39                                 N/A  \n",
       "..                                 ...  \n",
       "16                          GSM5904695  \n",
       "19                          GSM5904695  \n",
       "21                          GSM5904696  \n",
       "23                          GSM5904696  \n",
       "26                          GSM5904696  \n",
       "\n",
       "[96 rows x 11 columns]"
      ]
     },
     "execution_count": 277,
     "metadata": {},
     "output_type": "execute_result"
    }
   ],
   "source": [
    "chipline_ss"
   ]
  },
  {
   "cell_type": "code",
   "execution_count": null,
   "id": "edac1644",
   "metadata": {},
   "outputs": [],
   "source": []
  },
  {
   "cell_type": "code",
   "execution_count": null,
   "id": "4f1782a3",
   "metadata": {},
   "outputs": [],
   "source": []
  },
  {
   "cell_type": "code",
   "execution_count": null,
   "id": "e2c18578",
   "metadata": {},
   "outputs": [],
   "source": []
  }
 ],
 "metadata": {
  "kernelspec": {
   "display_name": "(hichip-db)",
   "language": "python",
   "name": "hichip-db"
  },
  "language_info": {
   "codemirror_mode": {
    "name": "ipython",
    "version": 3
   },
   "file_extension": ".py",
   "mimetype": "text/x-python",
   "name": "python",
   "nbconvert_exporter": "python",
   "pygments_lexer": "ipython3",
   "version": "3.9.10"
  }
 },
 "nbformat": 4,
 "nbformat_minor": 5
}
