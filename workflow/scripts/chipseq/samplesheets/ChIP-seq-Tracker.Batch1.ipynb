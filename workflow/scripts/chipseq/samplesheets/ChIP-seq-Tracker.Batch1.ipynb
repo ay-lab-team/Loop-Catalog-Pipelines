{
 "cells": [
  {
   "cell_type": "code",
   "execution_count": 1,
   "id": "98ebfde9",
   "metadata": {},
   "outputs": [],
   "source": [
    "import os \n",
    "import glob\n",
    "import numpy as np \n",
    "import pandas as pd\n",
    "\n",
    "os.chdir('/mnt/BioAdHoc/Groups/vd-ay/hichip-db-loop-calling/')\n",
    "samplesheet_dir = 'results/samplesheets/chipseq/'\n",
    "batch = 'batch1'"
   ]
  },
  {
   "cell_type": "markdown",
   "id": "44401547",
   "metadata": {},
   "source": [
    "## Load the GSM Data"
   ]
  },
  {
   "cell_type": "code",
   "execution_count": 2,
   "id": "38ac0964",
   "metadata": {},
   "outputs": [],
   "source": [
    "fn = os.path.join(samplesheet_dir, 'ChIP-seq-Tracker-Batch1-2016-10.22.23-Step0.HiChIP-to-ChIP-seq-Map.tsv')\n",
    "data = pd.read_table(fn, skiprows=1)\n",
    "data = data.loc[data['Has ChIP-seq?'] == 'Yes']"
   ]
  },
  {
   "cell_type": "code",
   "execution_count": 3,
   "id": "8e110d55",
   "metadata": {},
   "outputs": [],
   "source": [
    "data = pd.read_table(fn, skiprows=1)\n",
    "\n",
    "data = data.loc[data['Has ChIP-seq?'] == 'Yes']"
   ]
  },
  {
   "cell_type": "code",
   "execution_count": 4,
   "id": "0e1b1dcd",
   "metadata": {},
   "outputs": [],
   "source": [
    "chipseq_gse_lists = data['GSM ID(s)'].dropna().tolist() + data['Control GSM(s)'].dropna().tolist()\n",
    "chipseq_gsms = []\n",
    "for gse_list in chipseq_gse_lists:\n",
    "    gsm_ids = [x.strip() for x in gse_list.split(',')]\n",
    "    chipseq_gsms.extend(gsm_ids)\n",
    "    \n",
    "chipseq_gsms = sorted(set(chipseq_gsms))"
   ]
  },
  {
   "cell_type": "code",
   "execution_count": 5,
   "id": "4f3adc1e",
   "metadata": {},
   "outputs": [],
   "source": [
    "data = data.loc[data['Has ChIP-seq?'] == 'Yes']"
   ]
  },
  {
   "cell_type": "markdown",
   "id": "455de5d4",
   "metadata": {},
   "source": [
    "Query the below within the SRA Run Selector: https://www.ncbi.nlm.nih.gov/Traces/study/"
   ]
  },
  {
   "cell_type": "code",
   "execution_count": 6,
   "id": "d215341a",
   "metadata": {},
   "outputs": [
    {
     "data": {
      "text/plain": [
       "'GSM2572581,GSM2572582,GSM2572583,GSM2572584,GSM2572585,GSM2572586,GSM2572587,GSM2572588,GSM2572589,GSM2572590,GSM2773998,GSM2773999,GSM2816615,GSM2816616,GSM2816617,GSM2816618,GSM2816619,GSM2816620,GSM2816625,GSM2816626,GSM2816627,GSM2816628,GSM2816629,GSM2816630,GSM2816654,GSM2816655,GSM2861704,GSM2861707,GSM2915165,GSM2915166,GSM2915167,GSM2915168,GSM3018462,GSM3018463,GSM3018477,GSM3032900,GSM3032905,GSM3032906,GSM3032911,GSM3082014,GSM3082015,GSM3082016,GSM3082017,GSM3082018,GSM3082019,GSM3106259,GSM3106260,GSM3106269,GSM3106270,GSM3106271,GSM3106272,GSM3106273,GSM3106274,GSM3106277,GSM3106278,GSM3106281,GSM3106282,GSM3106283,GSM3106284,GSM3106285,GSM3106286,GSM3106287,GSM3106289,GSM3106290,GSM3106291,GSM3210231,GSM3210233,GSM3212820,GSM3212825,GSM3212826,GSM3212836,GSM3212840,GSM3212841,GSM3212870,GSM3212875,GSM3212876,GSM3212886,GSM3212890,GSM3212891,GSM3263163,GSM3263164,GSM3263167,GSM3314497,GSM3314498,GSM3314499,GSM3664982,GSM3664983,GSM3664984,GSM3664985,GSM3664986,GSM3664987,GSM3664988,GSM3664989,GSM3762805,GSM3762806,GSM3762812,GSM3762815,GSM3762816,GSM3762818,GSM3762820,GSM3791747,GSM3791748,GSM3791749,GSM3791750,GSM3791751,GSM3791752,GSM4040945,GSM4040946,GSM4040947,GSM4040948,GSM4040949,GSM4040950,GSM4040951,GSM4040952,GSM4060921,GSM4060922,GSM4060925,GSM4060926,GSM4060933,GSM4060934,GSM4089767,GSM4089768,GSM4089773,GSM4195023,GSM4195024,GSM4195025,GSM4195026,GSM4214139,GSM4214140,GSM4214141,GSM4214142,GSM4214147,GSM4214148,GSM4214149,GSM4214150,GSM4214151,GSM4214152,GSM4214158,GSM4214159,GSM4217566,GSM4217567,GSM4437217,GSM4437220,GSM4448898,GSM4448899,GSM4563905,GSM4563906,GSM4563911,GSM4563912,GSM4563915,GSM4563916,GSM4589750,GSM4589751,GSM4672358,GSM4672359,GSM4735748,GSM4735759,GSM4735766,GSM4753165,GSM4753166,GSM4753167,GSM4759315,GSM4759316,GSM4759318,GSM4759319,GSM4836077,GSM4836080,GSM4836421,GSM4836422,GSM4836423,GSM4836424,GSM4851905,GSM4851906,GSM4851909,GSM4851921,GSM4851922,GSM4851925,GSM5029761,GSM5029762,GSM5029763,GSM5029764,GSM5029765,GSM5029766,GSM5029767,GSM5029768,GSM5029769,GSM5029770,GSM5029771,GSM5029772,GSM5029773,GSM5029774,GSM5029775,GSM5029776,GSM5029777,GSM5029778,GSM5029779,GSM5029780,GSM5029886,GSM5029887,GSM5029888,GSM5029889,GSM5049898,GSM5049899,GSM5049902,GSM5049903,GSM5066565,GSM5066566,GSM5066567,GSM5066568,GSM5066569,GSM5281662,GSM5281663,GSM5281664,GSM5281665,GSM5379670,GSM5379671,GSM5379672,GSM5379673,GSM5379674,GSM5379675,GSM5388169,GSM5388170,GSM5420207,GSM5420208,GSM5420209,GSM5420210,GSM5420215,GSM5420216,GSM5420217,GSM5420218,GSM5425947,GSM5425957,GSM5454984,GSM5454988,GSM5454989,GSM5454994,GSM5454996,GSM5454999,GSM5455004,GSM5455005,GSM5455010,GSM5455043,GSM5455046'"
      ]
     },
     "execution_count": 6,
     "metadata": {},
     "output_type": "execute_result"
    }
   ],
   "source": [
    "','.join(chipseq_gsms)"
   ]
  },
  {
   "cell_type": "code",
   "execution_count": 7,
   "id": "489bc2ef",
   "metadata": {},
   "outputs": [
    {
     "data": {
      "text/plain": [
       "243"
      ]
     },
     "execution_count": 7,
     "metadata": {},
     "output_type": "execute_result"
    }
   ],
   "source": [
    "len(chipseq_gsms)"
   ]
  },
  {
   "cell_type": "markdown",
   "id": "e82b8d67",
   "metadata": {},
   "source": [
    "## Parse the Queried Data"
   ]
  },
  {
   "cell_type": "code",
   "execution_count": 8,
   "id": "2d5ddf48",
   "metadata": {},
   "outputs": [],
   "source": [
    "# load the data\n",
    "sra_table_fn = os.path.join(samplesheet_dir, 'chipseq.{}.SraRunTable.txt'.format(batch))\n",
    "gsm_to_srr_data = pd.read_table(sra_table_fn, sep=',')\n",
    "gsm_to_srr_data = gsm_to_srr_data[['Sample Name', 'Run']]\n",
    "gsm_to_srr_data.columns = ['gsm_id', 'srr_id']\n",
    "gsm_to_srr_data.sort_values('gsm_id', inplace=True)"
   ]
  },
  {
   "cell_type": "code",
   "execution_count": 9,
   "id": "328b1630",
   "metadata": {},
   "outputs": [],
   "source": [
    "# # manually adding missing samples, these are from batch 2 not batch 1\n",
    "# adding_missing_entries = [['GSM7336681', 'SRR16538542'],\n",
    "#                           ['GSM7336682', 'SRR16538550'],\n",
    "#                           ['GSM7336684', 'SRR16538541'],\n",
    "#                           ['GSM7336685', 'SRR16538549'],\n",
    "# ]\n",
    "# adding_missing_entries = pd.DataFrame(adding_missing_entries, columns=gsm_to_srr_data.columns.tolist())\n",
    "# gsm_to_srr_data = pd.concat([gsm_to_srr_data, adding_missing_entries], axis=0)"
   ]
  },
  {
   "cell_type": "markdown",
   "id": "000ad5a7",
   "metadata": {},
   "source": [
    "## Check for Discrepancies"
   ]
  },
  {
   "cell_type": "code",
   "execution_count": 10,
   "id": "42d7428b",
   "metadata": {},
   "outputs": [],
   "source": [
    "original_gses = set(chipseq_gsms)"
   ]
  },
  {
   "cell_type": "code",
   "execution_count": 11,
   "id": "8211166e",
   "metadata": {},
   "outputs": [],
   "source": [
    "queried_gses = set(gsm_to_srr_data.gsm_id.unique())"
   ]
  },
  {
   "cell_type": "code",
   "execution_count": 12,
   "id": "0beeab41",
   "metadata": {},
   "outputs": [
    {
     "data": {
      "text/plain": [
       "243"
      ]
     },
     "execution_count": 12,
     "metadata": {},
     "output_type": "execute_result"
    }
   ],
   "source": [
    "len(queried_gses)"
   ]
  },
  {
   "cell_type": "code",
   "execution_count": 13,
   "id": "edcaad61",
   "metadata": {},
   "outputs": [
    {
     "data": {
      "text/plain": [
       "set()"
      ]
     },
     "execution_count": 13,
     "metadata": {},
     "output_type": "execute_result"
    }
   ],
   "source": [
    "original_gses.difference(queried_gses)"
   ]
  },
  {
   "cell_type": "markdown",
   "id": "8874ed29",
   "metadata": {},
   "source": [
    "Not sure how I got these extra stragglers "
   ]
  },
  {
   "cell_type": "code",
   "execution_count": 14,
   "id": "ccc147d9",
   "metadata": {},
   "outputs": [
    {
     "data": {
      "text/plain": [
       "set()"
      ]
     },
     "execution_count": 14,
     "metadata": {},
     "output_type": "execute_result"
    }
   ],
   "source": [
    "queried_gses.difference(original_gses)"
   ]
  },
  {
   "cell_type": "code",
   "execution_count": 15,
   "id": "e872cd7d",
   "metadata": {},
   "outputs": [
    {
     "data": {
      "text/plain": [
       "GSM5379675    8\n",
       "GSM5379674    8\n",
       "GSM5379673    8\n",
       "GSM5379671    4\n",
       "GSM5379672    4\n",
       "             ..\n",
       "GSM3314499    1\n",
       "GSM3664982    1\n",
       "GSM3664983    1\n",
       "GSM3664984    1\n",
       "GSM5455046    1\n",
       "Name: gsm_id, Length: 243, dtype: int64"
      ]
     },
     "execution_count": 15,
     "metadata": {},
     "output_type": "execute_result"
    }
   ],
   "source": [
    "gsm_to_srr_data.gsm_id.value_counts()"
   ]
  },
  {
   "cell_type": "markdown",
   "id": "12edd214",
   "metadata": {},
   "source": [
    "## Create the Samplesheet for Downloading"
   ]
  },
  {
   "cell_type": "code",
   "execution_count": 16,
   "id": "a45083c6",
   "metadata": {},
   "outputs": [],
   "source": [
    "# get unique SRRs "
   ]
  },
  {
   "cell_type": "code",
   "execution_count": 17,
   "id": "015ee259",
   "metadata": {},
   "outputs": [],
   "source": [
    "srr_ids = sorted(gsm_to_srr_data.srr_id.unique())"
   ]
  },
  {
   "cell_type": "code",
   "execution_count": 18,
   "id": "efff234d",
   "metadata": {
    "scrolled": false
   },
   "outputs": [],
   "source": [
    "srr_ids_fn = os.path.join(samplesheet_dir, 'chipseq.srr_ids.{}.txt'.format(batch))\n",
    "with open(srr_ids_fn, 'w') as fw:\n",
    "    fw.write('\\n'.join(srr_ids))"
   ]
  },
  {
   "cell_type": "code",
   "execution_count": 19,
   "id": "65085190",
   "metadata": {},
   "outputs": [
    {
     "data": {
      "text/plain": [
       "'results/samplesheets/chipseq/chipseq.srr_ids.batch1.txt'"
      ]
     },
     "execution_count": 19,
     "metadata": {},
     "output_type": "execute_result"
    }
   ],
   "source": [
    "srr_ids_fn"
   ]
  },
  {
   "cell_type": "markdown",
   "id": "c3aaf4d7",
   "metadata": {},
   "source": [
    "## Create the Samplesheet for Concatination"
   ]
  },
  {
   "cell_type": "code",
   "execution_count": 20,
   "id": "e4041382",
   "metadata": {},
   "outputs": [],
   "source": [
    "# get Combinations of SRRs that should be concatinated\n",
    "gsm_srr_combos_data = []\n",
    "\n",
    "# main GSMs\n",
    "for gsm_ids_combo in data['GSM ID(s)'].tolist():\n",
    "    gsm_ids = gsm_ids_combo.replace(' ', '').split(',')\n",
    "    gsm_combo_reps = [gsm_ids_combo] * len(gsm_ids)\n",
    "    split_data = list(zip(gsm_combo_reps, gsm_ids))\n",
    "    gsm_srr_combos_data.extend(split_data)    \n",
    "    \n",
    "# control GSMs\n",
    "for gsm_ids_combo in data['Control GSM(s)'].tolist():\n",
    "    \n",
    "    if type(gsm_ids_combo) == str:\n",
    "        gsm_ids = gsm_ids_combo.replace(' ', '').split(',')\n",
    "        gsm_combo_reps = [gsm_ids_combo] * len(gsm_ids)\n",
    "        split_data = list(zip(gsm_combo_reps, gsm_ids))\n",
    "    else:\n",
    "        split_data = [[np.nan, np.nan]]\n",
    "    gsm_srr_combos_data.extend(split_data)    "
   ]
  },
  {
   "cell_type": "code",
   "execution_count": 21,
   "id": "33b5f2d9",
   "metadata": {},
   "outputs": [],
   "source": [
    "gsm_srr_combos_data = pd.DataFrame(gsm_srr_combos_data, columns=['GSM ID(s)', 'split_gsm_ids']).drop_duplicates()\n",
    "gsm_srr_combos_data = gsm_srr_combos_data.merge(gsm_to_srr_data, left_on='split_gsm_ids', right_on='gsm_id', how='outer', indicator=True)\n",
    "gsm_srr_combos_data = gsm_srr_combos_data.loc[~gsm_srr_combos_data.gsm_id.isna()]"
   ]
  },
  {
   "cell_type": "code",
   "execution_count": 22,
   "id": "7ae73567",
   "metadata": {},
   "outputs": [],
   "source": [
    "gsm_srr_combos_data_agg = gsm_srr_combos_data.groupby('GSM ID(s)').agg({'srr_id': '-'.join})\n",
    "srr_combos = sorted(gsm_srr_combos_data_agg.srr_id.unique())"
   ]
  },
  {
   "cell_type": "code",
   "execution_count": 39,
   "id": "75ef8b97",
   "metadata": {},
   "outputs": [],
   "source": [
    "srr_combos_fn = os.path.join(samplesheet_dir, 'chipseq.srr_id.combos.{}.txt'.format(batch))\n",
    "with open(srr_combos_fn, 'w') as fw:\n",
    "    fw.write('\\n'.join(srr_combos))"
   ]
  },
  {
   "cell_type": "markdown",
   "id": "a1bb0a51",
   "metadata": {},
   "source": [
    "### len(srr_combos)"
   ]
  },
  {
   "cell_type": "markdown",
   "id": "e7a08230",
   "metadata": {},
   "source": [
    "## Create the Samplesheet for Alignment of Control SRRs"
   ]
  },
  {
   "cell_type": "markdown",
   "id": "b67922dd",
   "metadata": {},
   "source": [
    "#### Generate a samplesheet that contains the organism"
   ]
  },
  {
   "cell_type": "code",
   "execution_count": 25,
   "id": "d11dcdfd",
   "metadata": {},
   "outputs": [
    {
     "name": "stderr",
     "output_type": "stream",
     "text": [
      "/tmp/ipykernel_14531/1270239004.py:27: SettingWithCopyWarning: \n",
      "A value is trying to be set on a copy of a slice from a DataFrame.\n",
      "Try using .loc[row_indexer,col_indexer] = value instead\n",
      "\n",
      "See the caveats in the documentation: https://pandas.pydata.org/pandas-docs/stable/user_guide/indexing.html#returning-a-view-versus-a-copy\n",
      "  mouse_subset.loc[:, 'ref_genome'] = 'mm10'\n"
     ]
    }
   ],
   "source": [
    "# extracting gsms\n",
    "df1 = data[['GSM ID(s)', 'Organism']].rename(columns={'GSM ID(s)': 'gsm_ids'})\n",
    "df1['sample_type'] = 'main'\n",
    "df2 = data[['Control GSM(s)', 'Organism']].rename(columns={'Control GSM(s)': 'gsm_ids'})\n",
    "df2['sample_type'] = 'control'\n",
    "\n",
    "# concating the gsm dfs\n",
    "gsm_to_organism = pd.concat([df1, df2], axis=0).dropna().drop_duplicates()\n",
    "\n",
    "# adding srr information\n",
    "gsm_to_organism = gsm_to_organism.merge(gsm_srr_combos_data_agg, left_on='gsm_ids', right_index=True)\n",
    "\n",
    "# extract control only\n",
    "gsm_to_organism_control = gsm_to_organism.loc[gsm_to_organism.sample_type == 'control']\n",
    "\n",
    "# adding reference genome information\n",
    "human_subset = gsm_to_organism_control.loc[gsm_to_organism_control['Organism'] == 'Homo Sapiens']\n",
    "mouse_subset = gsm_to_organism_control.loc[gsm_to_organism_control['Organism'] == 'Mus Musculus']\n",
    "\n",
    "grch38_subset = human_subset.copy().sort_values(['srr_id'])\n",
    "grch38_subset.loc[:, 'ref_genome'] = 'grch38'\n",
    "\n",
    "t2t_subset = human_subset.copy().sort_values(['srr_id'])\n",
    "t2t_subset.loc[:, 'ref_genome'] = 't2t'\n",
    "\n",
    "mm10_subset = mouse_subset.copy().sort_values(['srr_id'])\n",
    "mouse_subset.loc[:, 'ref_genome'] = 'mm10'\n",
    "\n",
    "# concating all the subsets for a final samplesheet\n",
    "gsm_to_organism_control = pd.concat([grch38_subset, mouse_subset, t2t_subset])"
   ]
  },
  {
   "cell_type": "code",
   "execution_count": 26,
   "id": "49b1090d",
   "metadata": {},
   "outputs": [],
   "source": [
    "# extract srr and ref_genome\n",
    "gsm_to_organism_control = gsm_to_organism_control[['srr_id', 'ref_genome']]"
   ]
  },
  {
   "cell_type": "code",
   "execution_count": 40,
   "id": "db7463e2",
   "metadata": {},
   "outputs": [],
   "source": [
    "samplesheet_path = os.path.join(samplesheet_dir, 'chipseq.srr_ids_to_ref_genome.combos.{}.txt'.format(batch))\n",
    "gsm_to_organism_control.to_csv(samplesheet_path, sep='\\t', header=False, index=False)"
   ]
  },
  {
   "cell_type": "markdown",
   "id": "265ed3ff",
   "metadata": {},
   "source": [
    "## Create the Samplesheet for Running ChIPLine"
   ]
  },
  {
   "cell_type": "code",
   "execution_count": 28,
   "id": "0893fc62",
   "metadata": {},
   "outputs": [],
   "source": [
    "# process only uniqe GSM combos\n",
    "chipline_ss = data[['Sample Name', 'GSE ID For ChIP-seq Data', 'Organism', 'Pulldown', 'GSM ID(s)', 'Control GSM(s)']]\n",
    "chipline_ss = chipline_ss.drop_duplicates(subset=['GSM ID(s)'])"
   ]
  },
  {
   "cell_type": "code",
   "execution_count": null,
   "id": "090c49e9",
   "metadata": {},
   "outputs": [],
   "source": []
  },
  {
   "cell_type": "code",
   "execution_count": null,
   "id": "7ab2fcfe",
   "metadata": {},
   "outputs": [],
   "source": []
  },
  {
   "cell_type": "code",
   "execution_count": null,
   "id": "c60ad760",
   "metadata": {},
   "outputs": [],
   "source": []
  },
  {
   "cell_type": "code",
   "execution_count": null,
   "id": "4f03ddb6",
   "metadata": {},
   "outputs": [],
   "source": []
  },
  {
   "cell_type": "code",
   "execution_count": null,
   "id": "52a9dcdc",
   "metadata": {},
   "outputs": [],
   "source": []
  },
  {
   "cell_type": "code",
   "execution_count": 29,
   "id": "2c9a2540",
   "metadata": {},
   "outputs": [],
   "source": [
    "# add the srr information\n",
    "chipline_ss = chipline_ss.merge(gsm_srr_combos_data_agg, left_on='GSM ID(s)', right_index=True, how='left')\n",
    "chipline_ss.rename(columns={'srr_id': 'Main SRR(s)'}, inplace=True)\n",
    "chipline_ss = chipline_ss.merge(gsm_srr_combos_data_agg, left_on='Control GSM(s)', right_index=True, how='left')\n",
    "chipline_ss.rename(columns={'srr_id': 'Control SRR(s)'}, inplace=True)"
   ]
  },
  {
   "cell_type": "code",
   "execution_count": 30,
   "id": "2cb72b1f",
   "metadata": {},
   "outputs": [],
   "source": [
    "# add organism infor\n",
    "chipline_ss.loc[:, 'Organism'] = chipline_ss.loc[:, 'Organism'].str.replace('Homo Sapiens', 'Homo_Sapiens')\n",
    "chipline_ss.loc[:, 'Organism'] = chipline_ss.loc[:, 'Organism'].str.replace('Mus Musculus', 'Mus_Musculus')"
   ]
  },
  {
   "cell_type": "code",
   "execution_count": 31,
   "id": "fb2c8cc6",
   "metadata": {},
   "outputs": [],
   "source": [
    "# adding the biorep information \n",
    "chipline_ss_tmp_list = []\n",
    "sort_cols = ['GSE ID For ChIP-seq Data', 'Sample Name', 'Organism', 'Pulldown', 'GSM ID(s)', 'Control GSM(s)']\n",
    "chipline_ss = chipline_ss.sort_values(sort_cols)\n",
    "for grp, grp_df in chipline_ss.groupby(['GSE ID For ChIP-seq Data', 'Sample Name', 'Organism', 'Pulldown']):\n",
    "    grp_df.loc[:, 'Rep No.'] = ['b{}'.format(x) for x in range(1, grp_df.shape[0] + 1)]\n",
    "    chipline_ss_tmp_list.append(grp_df)\n",
    "chipline_ss = pd.concat(chipline_ss_tmp_list)"
   ]
  },
  {
   "cell_type": "code",
   "execution_count": 32,
   "id": "69913ffe",
   "metadata": {},
   "outputs": [],
   "source": [
    "# add the standard sample name \n",
    "def create_std_sample_name(sr):\n",
    "    name = '{}.{}.{}.{}.{}'.format(sr['Sample Name'], sr['GSE ID For ChIP-seq Data'],\n",
    "                                   sr['Organism'], sr['Pulldown'], sr['Rep No.'])\n",
    "    return(name)\n",
    "chipline_ss.loc[:, 'chipseq_std_sample_name'] = chipline_ss.apply(create_std_sample_name, axis=1)"
   ]
  },
  {
   "cell_type": "code",
   "execution_count": 33,
   "id": "34bfd619",
   "metadata": {},
   "outputs": [
    {
     "data": {
      "text/html": [
       "<div>\n",
       "<style scoped>\n",
       "    .dataframe tbody tr th:only-of-type {\n",
       "        vertical-align: middle;\n",
       "    }\n",
       "\n",
       "    .dataframe tbody tr th {\n",
       "        vertical-align: top;\n",
       "    }\n",
       "\n",
       "    .dataframe thead th {\n",
       "        text-align: right;\n",
       "    }\n",
       "</style>\n",
       "<table border=\"1\" class=\"dataframe\">\n",
       "  <thead>\n",
       "    <tr style=\"text-align: right;\">\n",
       "      <th></th>\n",
       "      <th>Sample Name</th>\n",
       "      <th>GSE ID For ChIP-seq Data</th>\n",
       "      <th>Organism</th>\n",
       "      <th>Pulldown</th>\n",
       "      <th>GSM ID(s)</th>\n",
       "      <th>Control GSM(s)</th>\n",
       "      <th>Main SRR(s)</th>\n",
       "      <th>Control SRR(s)</th>\n",
       "      <th>Rep No.</th>\n",
       "      <th>chipseq_std_sample_name</th>\n",
       "    </tr>\n",
       "  </thead>\n",
       "  <tbody>\n",
       "    <tr>\n",
       "      <th>0</th>\n",
       "      <td>H9</td>\n",
       "      <td>GSE105028</td>\n",
       "      <td>Homo_Sapiens</td>\n",
       "      <td>CTCF</td>\n",
       "      <td>GSM2816619</td>\n",
       "      <td>NaN</td>\n",
       "      <td>SRR6177938</td>\n",
       "      <td>NaN</td>\n",
       "      <td>b1</td>\n",
       "      <td>H9.GSE105028.Homo_Sapiens.CTCF.b1</td>\n",
       "    </tr>\n",
       "    <tr>\n",
       "      <th>5</th>\n",
       "      <td>H9</td>\n",
       "      <td>GSE105028</td>\n",
       "      <td>Homo_Sapiens</td>\n",
       "      <td>H3K4me1</td>\n",
       "      <td>GSM2816654</td>\n",
       "      <td>NaN</td>\n",
       "      <td>SRR6177973</td>\n",
       "      <td>NaN</td>\n",
       "      <td>b1</td>\n",
       "      <td>H9.GSE105028.Homo_Sapiens.H3K4me1.b1</td>\n",
       "    </tr>\n",
       "    <tr>\n",
       "      <th>9</th>\n",
       "      <td>H9</td>\n",
       "      <td>GSE105028</td>\n",
       "      <td>Homo_Sapiens</td>\n",
       "      <td>KLF4</td>\n",
       "      <td>GSM2816627</td>\n",
       "      <td>NaN</td>\n",
       "      <td>SRR6177946</td>\n",
       "      <td>NaN</td>\n",
       "      <td>b1</td>\n",
       "      <td>H9.GSE105028.Homo_Sapiens.KLF4.b1</td>\n",
       "    </tr>\n",
       "    <tr>\n",
       "      <th>12</th>\n",
       "      <td>H9</td>\n",
       "      <td>GSE105028</td>\n",
       "      <td>Homo_Sapiens</td>\n",
       "      <td>NANOG</td>\n",
       "      <td>GSM2816625</td>\n",
       "      <td>NaN</td>\n",
       "      <td>SRR6177944</td>\n",
       "      <td>NaN</td>\n",
       "      <td>b1</td>\n",
       "      <td>H9.GSE105028.Homo_Sapiens.NANOG.b1</td>\n",
       "    </tr>\n",
       "    <tr>\n",
       "      <th>16</th>\n",
       "      <td>H9</td>\n",
       "      <td>GSE105028</td>\n",
       "      <td>Homo_Sapiens</td>\n",
       "      <td>OCT4</td>\n",
       "      <td>GSM2816629</td>\n",
       "      <td>NaN</td>\n",
       "      <td>SRR6177948</td>\n",
       "      <td>NaN</td>\n",
       "      <td>b1</td>\n",
       "      <td>H9.GSE105028.Homo_Sapiens.OCT4.b1</td>\n",
       "    </tr>\n",
       "    <tr>\n",
       "      <th>...</th>\n",
       "      <td>...</td>\n",
       "      <td>...</td>\n",
       "      <td>...</td>\n",
       "      <td>...</td>\n",
       "      <td>...</td>\n",
       "      <td>...</td>\n",
       "      <td>...</td>\n",
       "      <td>...</td>\n",
       "      <td>...</td>\n",
       "      <td>...</td>\n",
       "    </tr>\n",
       "    <tr>\n",
       "      <th>194</th>\n",
       "      <td>SUCCS1-siEA</td>\n",
       "      <td>GSE180198</td>\n",
       "      <td>Homo_Sapiens</td>\n",
       "      <td>H3K27ac</td>\n",
       "      <td>GSM5455043, GSM5455046</td>\n",
       "      <td>NaN</td>\n",
       "      <td>SRR15163142-SRR15163145</td>\n",
       "      <td>NaN</td>\n",
       "      <td>b1</td>\n",
       "      <td>SUCCS1-siEA.GSE180198.Homo_Sapiens.H3K27ac.b1</td>\n",
       "    </tr>\n",
       "    <tr>\n",
       "      <th>196</th>\n",
       "      <td>MDA-MB-231-PVT1sgRNAR2</td>\n",
       "      <td>GSE97584</td>\n",
       "      <td>Homo_Sapiens</td>\n",
       "      <td>H3K27ac</td>\n",
       "      <td>GSM2572583, GSM2572584</td>\n",
       "      <td>GSM2572589, GSM2572590</td>\n",
       "      <td>SRR5442293-SRR5442294</td>\n",
       "      <td>SRR5442299-SRR5442300</td>\n",
       "      <td>b1</td>\n",
       "      <td>MDA-MB-231-PVT1sgRNAR2.GSE97584.Homo_Sapiens.H...</td>\n",
       "    </tr>\n",
       "    <tr>\n",
       "      <th>198</th>\n",
       "      <td>MDA-MB-231-PVT1sgRNAR3</td>\n",
       "      <td>GSE97584</td>\n",
       "      <td>Homo_Sapiens</td>\n",
       "      <td>H3K27ac</td>\n",
       "      <td>GSM2572585, GSM2572586</td>\n",
       "      <td>NaN</td>\n",
       "      <td>SRR5442295-SRR5442296</td>\n",
       "      <td>NaN</td>\n",
       "      <td>b1</td>\n",
       "      <td>MDA-MB-231-PVT1sgRNAR3.GSE97584.Homo_Sapiens.H...</td>\n",
       "    </tr>\n",
       "    <tr>\n",
       "      <th>200</th>\n",
       "      <td>MDA-MB-231-sgRNA-Ctrl</td>\n",
       "      <td>GSE97584</td>\n",
       "      <td>Homo_Sapiens</td>\n",
       "      <td>H3K27ac</td>\n",
       "      <td>GSM2572581, GSM2572582</td>\n",
       "      <td>GSM2572587, GSM2572588</td>\n",
       "      <td>SRR5442291-SRR5442292</td>\n",
       "      <td>SRR5442297-SRR5442298</td>\n",
       "      <td>b1</td>\n",
       "      <td>MDA-MB-231-sgRNA-Ctrl.GSE97584.Homo_Sapiens.H3...</td>\n",
       "    </tr>\n",
       "    <tr>\n",
       "      <th>202</th>\n",
       "      <td>Jurkat</td>\n",
       "      <td>GSE99518</td>\n",
       "      <td>Homo_Sapiens</td>\n",
       "      <td>YY1</td>\n",
       "      <td>GSM2773998</td>\n",
       "      <td>GSM2773999</td>\n",
       "      <td>SRR6010201</td>\n",
       "      <td>SRR6010202</td>\n",
       "      <td>b1</td>\n",
       "      <td>Jurkat.GSE99518.Homo_Sapiens.YY1.b1</td>\n",
       "    </tr>\n",
       "  </tbody>\n",
       "</table>\n",
       "<p>129 rows × 10 columns</p>\n",
       "</div>"
      ],
      "text/plain": [
       "                Sample Name GSE ID For ChIP-seq Data      Organism Pulldown  \\\n",
       "0                        H9                GSE105028  Homo_Sapiens     CTCF   \n",
       "5                        H9                GSE105028  Homo_Sapiens  H3K4me1   \n",
       "9                        H9                GSE105028  Homo_Sapiens     KLF4   \n",
       "12                       H9                GSE105028  Homo_Sapiens    NANOG   \n",
       "16                       H9                GSE105028  Homo_Sapiens     OCT4   \n",
       "..                      ...                      ...           ...      ...   \n",
       "194             SUCCS1-siEA                GSE180198  Homo_Sapiens  H3K27ac   \n",
       "196  MDA-MB-231-PVT1sgRNAR2                 GSE97584  Homo_Sapiens  H3K27ac   \n",
       "198  MDA-MB-231-PVT1sgRNAR3                 GSE97584  Homo_Sapiens  H3K27ac   \n",
       "200   MDA-MB-231-sgRNA-Ctrl                 GSE97584  Homo_Sapiens  H3K27ac   \n",
       "202                  Jurkat                 GSE99518  Homo_Sapiens      YY1   \n",
       "\n",
       "                  GSM ID(s)          Control GSM(s)              Main SRR(s)  \\\n",
       "0                GSM2816619                     NaN               SRR6177938   \n",
       "5                GSM2816654                     NaN               SRR6177973   \n",
       "9                GSM2816627                     NaN               SRR6177946   \n",
       "12               GSM2816625                     NaN               SRR6177944   \n",
       "16               GSM2816629                     NaN               SRR6177948   \n",
       "..                      ...                     ...                      ...   \n",
       "194  GSM5455043, GSM5455046                     NaN  SRR15163142-SRR15163145   \n",
       "196  GSM2572583, GSM2572584  GSM2572589, GSM2572590    SRR5442293-SRR5442294   \n",
       "198  GSM2572585, GSM2572586                     NaN    SRR5442295-SRR5442296   \n",
       "200  GSM2572581, GSM2572582  GSM2572587, GSM2572588    SRR5442291-SRR5442292   \n",
       "202              GSM2773998              GSM2773999               SRR6010201   \n",
       "\n",
       "            Control SRR(s) Rep No.  \\\n",
       "0                      NaN      b1   \n",
       "5                      NaN      b1   \n",
       "9                      NaN      b1   \n",
       "12                     NaN      b1   \n",
       "16                     NaN      b1   \n",
       "..                     ...     ...   \n",
       "194                    NaN      b1   \n",
       "196  SRR5442299-SRR5442300      b1   \n",
       "198                    NaN      b1   \n",
       "200  SRR5442297-SRR5442298      b1   \n",
       "202             SRR6010202      b1   \n",
       "\n",
       "                               chipseq_std_sample_name  \n",
       "0                    H9.GSE105028.Homo_Sapiens.CTCF.b1  \n",
       "5                 H9.GSE105028.Homo_Sapiens.H3K4me1.b1  \n",
       "9                    H9.GSE105028.Homo_Sapiens.KLF4.b1  \n",
       "12                  H9.GSE105028.Homo_Sapiens.NANOG.b1  \n",
       "16                   H9.GSE105028.Homo_Sapiens.OCT4.b1  \n",
       "..                                                 ...  \n",
       "194      SUCCS1-siEA.GSE180198.Homo_Sapiens.H3K27ac.b1  \n",
       "196  MDA-MB-231-PVT1sgRNAR2.GSE97584.Homo_Sapiens.H...  \n",
       "198  MDA-MB-231-PVT1sgRNAR3.GSE97584.Homo_Sapiens.H...  \n",
       "200  MDA-MB-231-sgRNA-Ctrl.GSE97584.Homo_Sapiens.H3...  \n",
       "202                Jurkat.GSE99518.Homo_Sapiens.YY1.b1  \n",
       "\n",
       "[129 rows x 10 columns]"
      ]
     },
     "execution_count": 33,
     "metadata": {},
     "output_type": "execute_result"
    }
   ],
   "source": [
    "chipline_ss"
   ]
  },
  {
   "cell_type": "code",
   "execution_count": 34,
   "id": "1ba2df36",
   "metadata": {},
   "outputs": [],
   "source": [
    "# organize the reference genome of samples\n",
    "chipline_ss.loc[:, 'Ref Genome'] = chipline_ss['Organism'].map({'Homo_Sapiens': 'grch38',\n",
    "                                                                 'Mus_Musculus': 'mm10'})\n",
    "# add T2T samples\n",
    "chipline_ss_grps = chipline_ss.groupby('Ref Genome')\n",
    "t2t_chipline_ss = chipline_ss_grps.get_group('grch38').copy(deep=True)\n",
    "t2t_chipline_ss.loc[:, 'Ref Genome'] = 't2t'"
   ]
  },
  {
   "cell_type": "code",
   "execution_count": 35,
   "id": "8e500c77",
   "metadata": {},
   "outputs": [],
   "source": [
    "# generate teh final chipline samplesheet\n",
    "chipline_ss = pd.concat([chipline_ss, t2t_chipline_ss])"
   ]
  },
  {
   "cell_type": "code",
   "execution_count": 36,
   "id": "4ed0e75a",
   "metadata": {},
   "outputs": [],
   "source": [
    "# organize the columns \n",
    "chipline_ss = chipline_ss[['chipseq_std_sample_name', 'Main SRR(s)', 'Control SRR(s)', 'Ref Genome',\n",
    "                           'Sample Name', 'GSE ID For ChIP-seq Data',\n",
    "                            'Organism', 'Pulldown', 'Rep No.', 'GSM ID(s)', 'Control GSM(s)']]"
   ]
  },
  {
   "cell_type": "code",
   "execution_count": 37,
   "id": "3dc7de56",
   "metadata": {},
   "outputs": [],
   "source": [
    "# finalize and save\n",
    "chipline_ss.fillna('N/A', inplace=True)\n",
    "chipline_ss_fn = os.path.join(samplesheet_dir, 'chipseq.chipline.{}.txt'.format(batch))\n",
    "chipline_ss.to_csv(chipline_ss_fn, sep='\\t', index=False, header=False)"
   ]
  },
  {
   "cell_type": "code",
   "execution_count": 38,
   "id": "2eccca52",
   "metadata": {},
   "outputs": [
    {
     "data": {
      "text/plain": [
       "(235, 11)"
      ]
     },
     "execution_count": 38,
     "metadata": {},
     "output_type": "execute_result"
    }
   ],
   "source": [
    "chipline_ss.shape"
   ]
  },
  {
   "cell_type": "code",
   "execution_count": null,
   "id": "edac1644",
   "metadata": {},
   "outputs": [],
   "source": []
  },
  {
   "cell_type": "code",
   "execution_count": null,
   "id": "4f1782a3",
   "metadata": {},
   "outputs": [],
   "source": []
  },
  {
   "cell_type": "code",
   "execution_count": null,
   "id": "e2c18578",
   "metadata": {},
   "outputs": [],
   "source": []
  }
 ],
 "metadata": {
  "kernelspec": {
   "display_name": "(hichip-db)",
   "language": "python",
   "name": "hichip-db"
  },
  "language_info": {
   "codemirror_mode": {
    "name": "ipython",
    "version": 3
   },
   "file_extension": ".py",
   "mimetype": "text/x-python",
   "name": "python",
   "nbconvert_exporter": "python",
   "pygments_lexer": "ipython3",
   "version": "3.9.10"
  }
 },
 "nbformat": 4,
 "nbformat_minor": 5
}
