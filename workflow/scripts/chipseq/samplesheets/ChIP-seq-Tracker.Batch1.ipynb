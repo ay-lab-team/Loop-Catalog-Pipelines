{
 "cells": [
  {
   "cell_type": "code",
   "execution_count": null,
   "id": "98ebfde9",
   "metadata": {},
   "outputs": [],
   "source": [
    "import os \n",
    "import glob\n",
    "import numpy as np \n",
    "import pandas as pd\n",
    "\n",
    "os.chdir('/mnt/BioAdHoc/Groups/vd-ay/hichip-db-loop-calling/')\n",
    "samplesheet_dir = 'results/samplesheets/chipseq/'\n",
    "batch = 'batch1'"
   ]
  },
  {
   "cell_type": "markdown",
   "id": "44401547",
   "metadata": {},
   "source": [
    "## Load the GSM Data"
   ]
  },
  {
   "cell_type": "code",
   "execution_count": null,
   "id": "38ac0964",
   "metadata": {},
   "outputs": [],
   "source": [
    "fn = os.path.join(samplesheet_dir, 'ChIP-seq-Tracker-Batch1-2016-10.22.23-Step0.HiChIP-to-ChIP-seq-Map.tsv')\n",
    "data = pd.read_table(fn, skiprows=1)\n",
    "data = data.loc[data['Has ChIP-seq?'] == 'Yes']"
   ]
  },
  {
   "cell_type": "code",
   "execution_count": null,
   "id": "8e110d55",
   "metadata": {},
   "outputs": [],
   "source": [
    "data = pd.read_table(fn, skiprows=1)\n",
    "\n",
    "data = data.loc[data['Has ChIP-seq?'] == 'Yes']"
   ]
  },
  {
   "cell_type": "code",
   "execution_count": null,
   "id": "0e1b1dcd",
   "metadata": {},
   "outputs": [],
   "source": [
    "chipseq_gse_lists = data['GSM ID(s)'].dropna().tolist() + data['Control GSM(s)'].dropna().tolist()\n",
    "chipseq_gsms = []\n",
    "for gse_list in chipseq_gse_lists:\n",
    "    gsm_ids = [x.strip() for x in gse_list.split(',')]\n",
    "    chipseq_gsms.extend(gsm_ids)\n",
    "    \n",
    "chipseq_gsms = sorted(set(chipseq_gsms))"
   ]
  },
  {
   "cell_type": "code",
   "execution_count": null,
   "id": "4f3adc1e",
   "metadata": {},
   "outputs": [],
   "source": [
    "data = data.loc[data['Has ChIP-seq?'] == 'Yes']"
   ]
  },
  {
   "cell_type": "markdown",
   "id": "455de5d4",
   "metadata": {},
   "source": [
    "Query the below within the SRA Run Selector: https://www.ncbi.nlm.nih.gov/Traces/study/"
   ]
  },
  {
   "cell_type": "code",
   "execution_count": null,
   "id": "d215341a",
   "metadata": {},
   "outputs": [],
   "source": [
    "','.join(chipseq_gsms)"
   ]
  },
  {
   "cell_type": "code",
   "execution_count": null,
   "id": "489bc2ef",
   "metadata": {},
   "outputs": [],
   "source": [
    "len(chipseq_gsms)"
   ]
  },
  {
   "cell_type": "markdown",
   "id": "e82b8d67",
   "metadata": {},
   "source": [
    "## Parse the Queried Data"
   ]
  },
  {
   "cell_type": "code",
   "execution_count": null,
   "id": "2d5ddf48",
   "metadata": {},
   "outputs": [],
   "source": [
    "# load the data\n",
    "sra_table_fn = os.path.join(samplesheet_dir, 'chipseq.{}.SraRunTable.txt'.format(batch))\n",
    "gsm_to_srr_data = pd.read_table(sra_table_fn, sep=',')\n",
    "gsm_to_srr_data = gsm_to_srr_data[['Sample Name', 'Run']]\n",
    "gsm_to_srr_data.columns = ['gsm_id', 'srr_id']\n",
    "gsm_to_srr_data.sort_values('gsm_id', inplace=True)"
   ]
  },
  {
   "cell_type": "code",
   "execution_count": null,
   "id": "328b1630",
   "metadata": {},
   "outputs": [],
   "source": [
    "# # manually adding missing samples, these are from batch 2 not batch 1\n",
    "# adding_missing_entries = [['GSM7336681', 'SRR16538542'],\n",
    "#                           ['GSM7336682', 'SRR16538550'],\n",
    "#                           ['GSM7336684', 'SRR16538541'],\n",
    "#                           ['GSM7336685', 'SRR16538549'],\n",
    "# ]\n",
    "# adding_missing_entries = pd.DataFrame(adding_missing_entries, columns=gsm_to_srr_data.columns.tolist())\n",
    "# gsm_to_srr_data = pd.concat([gsm_to_srr_data, adding_missing_entries], axis=0)"
   ]
  },
  {
   "cell_type": "markdown",
   "id": "000ad5a7",
   "metadata": {},
   "source": [
    "## Check for Discrepancies"
   ]
  },
  {
   "cell_type": "code",
   "execution_count": null,
   "id": "42d7428b",
   "metadata": {},
   "outputs": [],
   "source": [
    "original_gses = set(chipseq_gsms)"
   ]
  },
  {
   "cell_type": "code",
   "execution_count": null,
   "id": "8211166e",
   "metadata": {},
   "outputs": [],
   "source": [
    "queried_gses = set(gsm_to_srr_data.gsm_id.unique())"
   ]
  },
  {
   "cell_type": "code",
   "execution_count": null,
   "id": "0beeab41",
   "metadata": {},
   "outputs": [],
   "source": [
    "len(queried_gses)"
   ]
  },
  {
   "cell_type": "code",
   "execution_count": null,
   "id": "edcaad61",
   "metadata": {},
   "outputs": [],
   "source": [
    "original_gses.difference(queried_gses)"
   ]
  },
  {
   "cell_type": "markdown",
   "id": "8874ed29",
   "metadata": {},
   "source": [
    "Not sure how I got these extra stragglers "
   ]
  },
  {
   "cell_type": "code",
   "execution_count": null,
   "id": "ccc147d9",
   "metadata": {},
   "outputs": [],
   "source": [
    "queried_gses.difference(original_gses)"
   ]
  },
  {
   "cell_type": "code",
   "execution_count": null,
   "id": "e872cd7d",
   "metadata": {},
   "outputs": [],
   "source": [
    "gsm_to_srr_data.gsm_id.value_counts()"
   ]
  },
  {
   "cell_type": "markdown",
   "id": "12edd214",
   "metadata": {},
   "source": [
    "## Create the Samplesheet for Downloading"
   ]
  },
  {
   "cell_type": "code",
   "execution_count": null,
   "id": "a45083c6",
   "metadata": {},
   "outputs": [],
   "source": [
    "# get unique SRRs "
   ]
  },
  {
   "cell_type": "code",
   "execution_count": null,
   "id": "015ee259",
   "metadata": {},
   "outputs": [],
   "source": [
    "srr_ids = sorted(gsm_to_srr_data.srr_id.unique())"
   ]
  },
  {
   "cell_type": "code",
   "execution_count": null,
   "id": "efff234d",
   "metadata": {
    "scrolled": false
   },
   "outputs": [],
   "source": [
    "srr_ids_fn = os.path.join(samplesheet_dir, 'chipseq.srr_ids.{}.txt'.format(batch))\n",
    "with open(srr_ids_fn, 'w') as fw:\n",
    "    fw.write('\\n'.join(srr_ids))"
   ]
  },
  {
   "cell_type": "code",
   "execution_count": null,
   "id": "65085190",
   "metadata": {},
   "outputs": [],
   "source": [
    "srr_ids_fn"
   ]
  },
  {
   "cell_type": "markdown",
   "id": "c3aaf4d7",
   "metadata": {},
   "source": [
    "## Create the Samplesheet for Concatination"
   ]
  },
  {
   "cell_type": "code",
   "execution_count": null,
   "id": "e4041382",
   "metadata": {},
   "outputs": [],
   "source": [
    "# get Combinations of SRRs that should be concatinated\n",
    "gsm_srr_combos_data = []\n",
    "\n",
    "# main GSMs\n",
    "for gsm_ids_combo in data['GSM ID(s)'].tolist():\n",
    "    gsm_ids = gsm_ids_combo.replace(' ', '').split(',')\n",
    "    gsm_combo_reps = [gsm_ids_combo] * len(gsm_ids)\n",
    "    split_data = list(zip(gsm_combo_reps, gsm_ids))\n",
    "    gsm_srr_combos_data.extend(split_data)    \n",
    "    \n",
    "# control GSMs\n",
    "for gsm_ids_combo in data['Control GSM(s)'].tolist():\n",
    "    \n",
    "    if type(gsm_ids_combo) == str:\n",
    "        gsm_ids = gsm_ids_combo.replace(' ', '').split(',')\n",
    "        gsm_combo_reps = [gsm_ids_combo] * len(gsm_ids)\n",
    "        split_data = list(zip(gsm_combo_reps, gsm_ids))\n",
    "    else:\n",
    "        split_data = [[np.nan, np.nan]]\n",
    "    gsm_srr_combos_data.extend(split_data)    "
   ]
  },
  {
   "cell_type": "code",
   "execution_count": null,
   "id": "33b5f2d9",
   "metadata": {},
   "outputs": [],
   "source": [
    "gsm_srr_combos_data = pd.DataFrame(gsm_srr_combos_data, columns=['GSM ID(s)', 'split_gsm_ids']).drop_duplicates()\n",
    "gsm_srr_combos_data = gsm_srr_combos_data.merge(gsm_to_srr_data, left_on='split_gsm_ids', right_on='gsm_id', how='outer', indicator=True)\n",
    "gsm_srr_combos_data = gsm_srr_combos_data.loc[~gsm_srr_combos_data.gsm_id.isna()]"
   ]
  },
  {
   "cell_type": "code",
   "execution_count": null,
   "id": "7ae73567",
   "metadata": {},
   "outputs": [],
   "source": [
    "gsm_srr_combos_data_agg = gsm_srr_combos_data.groupby('GSM ID(s)').agg({'srr_id': '-'.join})\n",
    "srr_combos = sorted(gsm_srr_combos_data_agg.srr_id.unique())"
   ]
  },
  {
   "cell_type": "code",
   "execution_count": null,
   "id": "75ef8b97",
   "metadata": {},
   "outputs": [],
   "source": [
    "srr_combos_fn = os.path.join(samplesheet_dir, 'chipseq.srr_id.combos.{}.txt'.format(batch))\n",
    "with open(srr_combos_fn, 'w') as fw:\n",
    "    fw.write('\\n'.join(srr_combos))"
   ]
  },
  {
   "cell_type": "markdown",
   "id": "a1bb0a51",
   "metadata": {},
   "source": [
    "### len(srr_combos)"
   ]
  },
  {
   "cell_type": "markdown",
   "id": "e7a08230",
   "metadata": {},
   "source": [
    "## Create the Samplesheet for Alignment of Control SRRs"
   ]
  },
  {
   "cell_type": "markdown",
   "id": "b67922dd",
   "metadata": {},
   "source": [
    "#### Generate a samplesheet that contains the organism"
   ]
  },
  {
   "cell_type": "code",
   "execution_count": null,
   "id": "d11dcdfd",
   "metadata": {},
   "outputs": [],
   "source": [
    "# extracting gsms\n",
    "df1 = data[['GSM ID(s)', 'Organism']].rename(columns={'GSM ID(s)': 'gsm_ids'})\n",
    "df1['sample_type'] = 'main'\n",
    "df2 = data[['Control GSM(s)', 'Organism']].rename(columns={'Control GSM(s)': 'gsm_ids'})\n",
    "df2['sample_type'] = 'control'\n",
    "\n",
    "# concating the gsm dfs\n",
    "gsm_to_organism = pd.concat([df1, df2], axis=0).dropna().drop_duplicates()\n",
    "\n",
    "# adding srr information\n",
    "gsm_to_organism = gsm_to_organism.merge(gsm_srr_combos_data_agg, left_on='gsm_ids', right_index=True)\n",
    "\n",
    "# extract control only\n",
    "gsm_to_organism_control = gsm_to_organism.loc[gsm_to_organism.sample_type == 'control']\n",
    "\n",
    "# adding reference genome information\n",
    "human_subset = gsm_to_organism_control.loc[gsm_to_organism_control['Organism'] == 'Homo Sapiens']\n",
    "mouse_subset = gsm_to_organism_control.loc[gsm_to_organism_control['Organism'] == 'Mus Musculus']\n",
    "\n",
    "grch38_subset = human_subset.copy().sort_values(['srr_id'])\n",
    "grch38_subset.loc[:, 'ref_genome'] = 'grch38'\n",
    "\n",
    "t2t_subset = human_subset.copy().sort_values(['srr_id'])\n",
    "t2t_subset.loc[:, 'ref_genome'] = 't2t'\n",
    "\n",
    "mm10_subset = mouse_subset.copy().sort_values(['srr_id'])\n",
    "mouse_subset.loc[:, 'ref_genome'] = 'mm10'\n",
    "\n",
    "# concating all the subsets for a final samplesheet\n",
    "gsm_to_organism_control = pd.concat([grch38_subset, mouse_subset, t2t_subset])"
   ]
  },
  {
   "cell_type": "code",
   "execution_count": null,
   "id": "49b1090d",
   "metadata": {},
   "outputs": [],
   "source": [
    "# extract srr and ref_genome\n",
    "gsm_to_organism_control = gsm_to_organism_control[['srr_id', 'ref_genome']]"
   ]
  },
  {
   "cell_type": "code",
   "execution_count": null,
   "id": "db7463e2",
   "metadata": {},
   "outputs": [],
   "source": [
    "samplesheet_path = os.path.join(samplesheet_dir, 'chipseq.srr_ids_to_ref_genome.combos.{}.txt'.format(batch))\n",
    "gsm_to_organism_control.to_csv(samplesheet_path, sep='\\t', header=False, index=False)"
   ]
  },
  {
   "cell_type": "markdown",
   "id": "265ed3ff",
   "metadata": {},
   "source": [
    "## Create the Samplesheet for Running ChIPLine"
   ]
  },
  {
   "cell_type": "code",
   "execution_count": null,
   "id": "d88790b1",
   "metadata": {},
   "outputs": [],
   "source": [
    "# process only uniqe GSM combos\n",
    "chipline_ss = data[['Sample Name', 'GSE ID For ChIP-seq Data', 'Organism', 'Pulldown', 'GSM ID(s)', 'Control GSM(s)']]\n",
    "chipline_ss = chipline_ss.drop_duplicates(subset=['GSM ID(s)'])\n",
    "\n",
    "# add the srr information\n",
    "chipline_ss = chipline_ss.merge(gsm_srr_combos_data_agg, left_on='GSM ID(s)', right_index=True, how='left')\n",
    "chipline_ss.rename(columns={'srr_id': 'Main SRR(s)'}, inplace=True)\n",
    "chipline_ss = chipline_ss.merge(gsm_srr_combos_data_agg, left_on='Control GSM(s)', right_index=True, how='left')\n",
    "chipline_ss.rename(columns={'srr_id': 'Control SRR(s)'}, inplace=True)\n",
    "\n",
    "# add organism infor\n",
    "chipline_ss.loc[:, 'Organism'] = chipline_ss.loc[:, 'Organism'].str.replace('Homo Sapiens', 'Homo_Sapiens')\n",
    "chipline_ss.loc[:, 'Organism'] = chipline_ss.loc[:, 'Organism'].str.replace('Mus Musculus', 'Mus_Musculus')\n",
    "\n",
    "# adding the biorep information \n",
    "chipline_ss_tmp_list = []\n",
    "sort_cols = ['GSE ID For ChIP-seq Data', 'Sample Name', 'Organism', 'Pulldown', 'GSM ID(s)', 'Control GSM(s)']\n",
    "chipline_ss = chipline_ss.sort_values(sort_cols)\n",
    "for grp, grp_df in chipline_ss.groupby(['GSE ID For ChIP-seq Data', 'Sample Name', 'Organism', 'Pulldown']):\n",
    "    grp_df.loc[:, 'Rep No.'] = ['b{}'.format(x) for x in range(1, grp_df.shape[0] + 1)]\n",
    "    chipline_ss_tmp_list.append(grp_df)\n",
    "chipline_ss = pd.concat(chipline_ss_tmp_list)"
   ]
  },
  {
   "cell_type": "code",
   "execution_count": null,
   "id": "0893fc62",
   "metadata": {},
   "outputs": [],
   "source": [
    "# add the standard sample name \n",
    "def create_std_sample_name(sr):\n",
    "    name = '{}.{}.{}.{}.{}'.format(sr['Sample Name'], sr['GSE ID For ChIP-seq Data'],\n",
    "                                   sr['Organism'], sr['Pulldown'], sr['Rep No.'])\n",
    "    return(name)\n",
    "chipline_ss.loc[:, 'chipseq_std_sample_name'] = chipline_ss.apply(create_std_sample_name, axis=1)\n",
    "\n",
    "# organize the reference genome of samples\n",
    "chipline_ss.loc[:, 'Ref Genome'] = chipline_ss['Organism'].map({'Homo_Sapiens': 'grch38',\n",
    "                                                                 'Mus_Musculus': 'mm10'})\n",
    "# add T2T samples\n",
    "chipline_ss_grps = chipline_ss.groupby('Ref Genome')\n",
    "t2t_chipline_ss = chipline_ss_grps.get_group('grch38').copy(deep=True)\n",
    "t2t_chipline_ss.loc[:, 'Ref Genome'] = 't2t'"
   ]
  },
  {
   "cell_type": "code",
   "execution_count": null,
   "id": "8e500c77",
   "metadata": {},
   "outputs": [],
   "source": [
    "# generate teh final chipline samplesheet\n",
    "chipline_ss = pd.concat([chipline_ss, t2t_chipline_ss])"
   ]
  },
  {
   "cell_type": "code",
   "execution_count": null,
   "id": "4ed0e75a",
   "metadata": {},
   "outputs": [],
   "source": [
    "# organize the columns \n",
    "chipline_ss = chipline_ss[['chipseq_std_sample_name', 'Main SRR(s)', 'Control SRR(s)', 'Ref Genome',\n",
    "                           'Sample Name', 'GSE ID For ChIP-seq Data',\n",
    "                            'Organism', 'Pulldown', 'Rep No.', 'GSM ID(s)', 'Control GSM(s)']]"
   ]
  },
  {
   "cell_type": "code",
   "execution_count": null,
   "id": "3dc7de56",
   "metadata": {},
   "outputs": [],
   "source": [
    "# finalize and save\n",
    "chipline_ss.fillna('N/A', inplace=True)\n",
    "chipline_ss_fn = os.path.join(samplesheet_dir, 'chipseq.chipline.{}.txt'.format(batch))\n",
    "chipline_ss.to_csv(chipline_ss_fn, sep='\\t', index=False, header=False)"
   ]
  },
  {
   "cell_type": "code",
   "execution_count": null,
   "id": "edac1644",
   "metadata": {},
   "outputs": [],
   "source": []
  },
  {
   "cell_type": "markdown",
   "id": "adb5c68b",
   "metadata": {},
   "source": [
    "## Add the ChIP-seq file that finally maps between HiChIP and ChIP-seq"
   ]
  },
  {
   "cell_type": "code",
   "execution_count": null,
   "id": "e2c18578",
   "metadata": {},
   "outputs": [],
   "source": [
    "mapper = data.copy()\n",
    "mapper.rename(columns={'Replicate Serial No': 'Rep No.'}, inplace=True)\n",
    "mapper.loc[:, 'Organism'] = mapper.loc[:, 'Organism'].str.replace(' ' , '_') \n",
    "mapper.loc[:, 'Rep No.'] = ['b{}'.format(x) for x in mapper.loc[:, 'Rep No.'].astype(int)]\n",
    "mapper.loc[:, 'chipseq_std_sample_name'] = mapper.apply(create_std_sample_name, axis=1)\n",
    "\n",
    "def get_chipseq_path(std_sample_name):\n",
    "    \n",
    "    res_dir = 'results/peaks/chipline_v2/'\n",
    "    sample_tmpl = os.path.join(res_dir, '{0}/MACS2_Ext_*/{0}.macs2_peaks.narrowPeak_Q0.01filt'.format(std_sample_name))\n",
    "    print(sample_tmpl)\n",
    "    peak_fns = glob.glob(sample_tmpl)\n",
    "    \n",
    "    if len(peak_fns) == 1:\n",
    "        return(peak_fns[0])\n",
    "    elif len(peak_fns) > 1:\n",
    "        return('Found multiple files')\n",
    "    else:\n",
    "        return('Could not find a matching file')\n",
    "\n",
    "mapper.loc[:, 'chipseq_path'] = mapper.loc[:, 'chipseq_std_sample_name'].apply(get_chipseq_path)\n",
    "fn = os.path.join(samplesheet_dir, 'chipseq.tracker.hichip_to_chipseq.paths_mapped.{}.tsv'.format(batch))\n",
    "mapper.to_csv(fn, sep='\\t', index=False, header=True)"
   ]
  },
  {
   "cell_type": "code",
   "execution_count": null,
   "id": "9d791cb3",
   "metadata": {},
   "outputs": [],
   "source": [
    "mapper"
   ]
  },
  {
   "cell_type": "code",
   "execution_count": null,
   "id": "b30a6239",
   "metadata": {},
   "outputs": [],
   "source": []
  },
  {
   "cell_type": "code",
   "execution_count": null,
   "id": "014040bc",
   "metadata": {},
   "outputs": [],
   "source": []
  },
  {
   "cell_type": "code",
   "execution_count": null,
   "id": "7e3d9d02",
   "metadata": {},
   "outputs": [],
   "source": []
  },
  {
   "cell_type": "code",
   "execution_count": null,
   "id": "6e240f40",
   "metadata": {},
   "outputs": [],
   "source": []
  }
 ],
 "metadata": {
  "kernelspec": {
   "display_name": "lc-pipelines",
   "language": "python",
   "name": "lc-pipelines"
  },
  "language_info": {
   "codemirror_mode": {
    "name": "ipython",
    "version": 3
   },
   "file_extension": ".py",
   "mimetype": "text/x-python",
   "name": "python",
   "nbconvert_exporter": "python",
   "pygments_lexer": "ipython3",
   "version": "3.9.10"
  }
 },
 "nbformat": 4,
 "nbformat_minor": 5
}
