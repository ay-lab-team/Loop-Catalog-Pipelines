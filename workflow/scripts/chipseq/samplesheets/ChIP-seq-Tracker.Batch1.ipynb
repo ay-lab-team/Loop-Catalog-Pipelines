{
 "cells": [
  {
   "cell_type": "code",
   "execution_count": 1,
   "id": "98ebfde9",
   "metadata": {},
   "outputs": [],
   "source": [
    "import os \n",
    "import glob\n",
    "import numpy as np \n",
    "import pandas as pd\n",
    "\n",
    "os.chdir('/mnt/BioAdHoc/Groups/vd-ay/hichip-db-loop-calling/')\n",
    "samplesheet_dir = 'results/samplesheets/chipseq/'\n",
    "batch = 'batch1'"
   ]
  },
  {
   "cell_type": "markdown",
   "id": "44401547",
   "metadata": {},
   "source": [
    "## Load the GSM Data"
   ]
  },
  {
   "cell_type": "code",
   "execution_count": 2,
   "id": "38ac0964",
   "metadata": {},
   "outputs": [],
   "source": [
    "fn = os.path.join(samplesheet_dir, 'ChIP-seq-Tracker-Batch1-2016-10.22.23-Step0.HiChIP-to-ChIP-seq-Map.tsv')\n",
    "data = pd.read_table(fn, skiprows=1)\n",
    "data = data.loc[data['Has ChIP-seq?'] == 'Yes']"
   ]
  },
  {
   "cell_type": "code",
   "execution_count": 3,
   "id": "8e110d55",
   "metadata": {},
   "outputs": [],
   "source": [
    "data = pd.read_table(fn, skiprows=1)\n",
    "\n",
    "data = data.loc[data['Has ChIP-seq?'] == 'Yes']"
   ]
  },
  {
   "cell_type": "code",
   "execution_count": 4,
   "id": "0e1b1dcd",
   "metadata": {},
   "outputs": [],
   "source": [
    "chipseq_gse_lists = data['GSM ID(s)'].dropna().tolist() + data['Control GSM(s)'].dropna().tolist()\n",
    "chipseq_gsms = []\n",
    "for gse_list in chipseq_gse_lists:\n",
    "    gsm_ids = [x.strip() for x in gse_list.split(',')]\n",
    "    chipseq_gsms.extend(gsm_ids)\n",
    "    \n",
    "chipseq_gsms = sorted(set(chipseq_gsms))"
   ]
  },
  {
   "cell_type": "code",
   "execution_count": 5,
   "id": "4f3adc1e",
   "metadata": {},
   "outputs": [],
   "source": [
    "data = data.loc[data['Has ChIP-seq?'] == 'Yes']"
   ]
  },
  {
   "cell_type": "markdown",
   "id": "455de5d4",
   "metadata": {},
   "source": [
    "Query the below within the SRA Run Selector: https://www.ncbi.nlm.nih.gov/Traces/study/"
   ]
  },
  {
   "cell_type": "code",
   "execution_count": 6,
   "id": "d215341a",
   "metadata": {},
   "outputs": [
    {
     "data": {
      "text/plain": [
       "'GSM2572581,GSM2572582,GSM2572583,GSM2572584,GSM2572585,GSM2572586,GSM2572587,GSM2572588,GSM2572589,GSM2572590,GSM2773998,GSM2773999,GSM2816615,GSM2816616,GSM2816617,GSM2816618,GSM2816619,GSM2816620,GSM2816625,GSM2816626,GSM2816627,GSM2816628,GSM2816629,GSM2816630,GSM2816654,GSM2816655,GSM2861704,GSM2861707,GSM2915165,GSM2915166,GSM2915167,GSM2915168,GSM3018462,GSM3018463,GSM3018477,GSM3032900,GSM3032905,GSM3032906,GSM3032911,GSM3082014,GSM3082015,GSM3082016,GSM3082017,GSM3082018,GSM3082019,GSM3106259,GSM3106260,GSM3106269,GSM3106270,GSM3106271,GSM3106272,GSM3106273,GSM3106274,GSM3106277,GSM3106278,GSM3106281,GSM3106282,GSM3106283,GSM3106284,GSM3106285,GSM3106286,GSM3106287,GSM3106289,GSM3106290,GSM3106291,GSM3210231,GSM3210233,GSM3212820,GSM3212825,GSM3212826,GSM3212836,GSM3212840,GSM3212841,GSM3212870,GSM3212875,GSM3212876,GSM3212886,GSM3212890,GSM3212891,GSM3263163,GSM3263167,GSM3314497,GSM3314498,GSM3314499,GSM3664982,GSM3664983,GSM3664984,GSM3664985,GSM3664986,GSM3664987,GSM3664988,GSM3664989,GSM3762805,GSM3762806,GSM3762812,GSM3762815,GSM3762816,GSM3762818,GSM3762820,GSM3791747,GSM3791748,GSM3791749,GSM3791750,GSM3791751,GSM3791752,GSM4040945,GSM4040946,GSM4040947,GSM4040948,GSM4040949,GSM4040950,GSM4040951,GSM4040952,GSM4060921,GSM4060922,GSM4060925,GSM4060926,GSM4060933,GSM4060934,GSM4089767,GSM4089768,GSM4089773,GSM4195023,GSM4195024,GSM4195025,GSM4195026,GSM4214139,GSM4214140,GSM4214141,GSM4214142,GSM4214147,GSM4214148,GSM4214149,GSM4214150,GSM4214151,GSM4214152,GSM4214158,GSM4214159,GSM4217566,GSM4217567,GSM4437217,GSM4437220,GSM4448898,GSM4448899,GSM4563905,GSM4563906,GSM4563911,GSM4563912,GSM4563915,GSM4563916,GSM4589750,GSM4589751,GSM4672358,GSM4672359,GSM4735748,GSM4735759,GSM4735766,GSM4753165,GSM4753166,GSM4753167,GSM4759315,GSM4759316,GSM4759318,GSM4759319,GSM4836077,GSM4836080,GSM4836421,GSM4836422,GSM4836423,GSM4836424,GSM4851905,GSM4851906,GSM4851909,GSM4851921,GSM4851922,GSM4851925,GSM5029761,GSM5029762,GSM5029763,GSM5029764,GSM5029765,GSM5029766,GSM5029767,GSM5029768,GSM5029769,GSM5029770,GSM5029771,GSM5029772,GSM5029773,GSM5029774,GSM5029775,GSM5029776,GSM5029777,GSM5029778,GSM5029779,GSM5029780,GSM5029886,GSM5029887,GSM5029888,GSM5029889,GSM5049898,GSM5049899,GSM5049902,GSM5049903,GSM5066565,GSM5066566,GSM5066567,GSM5066568,GSM5066569,GSM5281662,GSM5281663,GSM5281664,GSM5281665,GSM5379670,GSM5379671,GSM5379672,GSM5379673,GSM5379674,GSM5379675,GSM5388169,GSM5388170,GSM5420207,GSM5420208,GSM5420209,GSM5420210,GSM5420215,GSM5420216,GSM5420217,GSM5420218,GSM5425947,GSM5425957,GSM5454984,GSM5454988,GSM5454989,GSM5454994,GSM5454996,GSM5454999,GSM5455004,GSM5455005,GSM5455010,GSM5455043,GSM5455046'"
      ]
     },
     "execution_count": 6,
     "metadata": {},
     "output_type": "execute_result"
    }
   ],
   "source": [
    "','.join(chipseq_gsms)"
   ]
  },
  {
   "cell_type": "code",
   "execution_count": 7,
   "id": "489bc2ef",
   "metadata": {},
   "outputs": [
    {
     "data": {
      "text/plain": [
       "242"
      ]
     },
     "execution_count": 7,
     "metadata": {},
     "output_type": "execute_result"
    }
   ],
   "source": [
    "len(chipseq_gsms)"
   ]
  },
  {
   "cell_type": "markdown",
   "id": "e82b8d67",
   "metadata": {},
   "source": [
    "## Parse the Queried Data"
   ]
  },
  {
   "cell_type": "code",
   "execution_count": 8,
   "id": "2d5ddf48",
   "metadata": {},
   "outputs": [],
   "source": [
    "# load the data\n",
    "sra_table_fn = os.path.join(samplesheet_dir, 'chipseq.{}.SraRunTable.txt'.format(batch))\n",
    "gsm_to_srr_data = pd.read_table(sra_table_fn, sep=',')\n",
    "gsm_to_srr_data = gsm_to_srr_data[['Sample Name', 'Run']]\n",
    "gsm_to_srr_data.columns = ['gsm_id', 'srr_id']\n",
    "gsm_to_srr_data.sort_values('gsm_id', inplace=True)"
   ]
  },
  {
   "cell_type": "code",
   "execution_count": 9,
   "id": "328b1630",
   "metadata": {},
   "outputs": [],
   "source": [
    "# # manually adding missing samples, these are from batch 2 not batch 1\n",
    "# adding_missing_entries = [['GSM7336681', 'SRR16538542'],\n",
    "#                           ['GSM7336682', 'SRR16538550'],\n",
    "#                           ['GSM7336684', 'SRR16538541'],\n",
    "#                           ['GSM7336685', 'SRR16538549'],\n",
    "# ]\n",
    "# adding_missing_entries = pd.DataFrame(adding_missing_entries, columns=gsm_to_srr_data.columns.tolist())\n",
    "# gsm_to_srr_data = pd.concat([gsm_to_srr_data, adding_missing_entries], axis=0)"
   ]
  },
  {
   "cell_type": "markdown",
   "id": "000ad5a7",
   "metadata": {},
   "source": [
    "## Check for Discrepancies"
   ]
  },
  {
   "cell_type": "code",
   "execution_count": 10,
   "id": "42d7428b",
   "metadata": {},
   "outputs": [],
   "source": [
    "original_gses = set(chipseq_gsms)"
   ]
  },
  {
   "cell_type": "code",
   "execution_count": 11,
   "id": "8211166e",
   "metadata": {},
   "outputs": [],
   "source": [
    "queried_gses = set(gsm_to_srr_data.gsm_id.unique())"
   ]
  },
  {
   "cell_type": "code",
   "execution_count": 12,
   "id": "0beeab41",
   "metadata": {},
   "outputs": [
    {
     "data": {
      "text/plain": [
       "243"
      ]
     },
     "execution_count": 12,
     "metadata": {},
     "output_type": "execute_result"
    }
   ],
   "source": [
    "len(queried_gses)"
   ]
  },
  {
   "cell_type": "code",
   "execution_count": 13,
   "id": "edcaad61",
   "metadata": {},
   "outputs": [
    {
     "data": {
      "text/plain": [
       "set()"
      ]
     },
     "execution_count": 13,
     "metadata": {},
     "output_type": "execute_result"
    }
   ],
   "source": [
    "original_gses.difference(queried_gses)"
   ]
  },
  {
   "cell_type": "markdown",
   "id": "8874ed29",
   "metadata": {},
   "source": [
    "Not sure how I got these extra stragglers "
   ]
  },
  {
   "cell_type": "code",
   "execution_count": 14,
   "id": "ccc147d9",
   "metadata": {},
   "outputs": [
    {
     "data": {
      "text/plain": [
       "{'GSM3263164'}"
      ]
     },
     "execution_count": 14,
     "metadata": {},
     "output_type": "execute_result"
    }
   ],
   "source": [
    "queried_gses.difference(original_gses)"
   ]
  },
  {
   "cell_type": "code",
   "execution_count": 15,
   "id": "e872cd7d",
   "metadata": {},
   "outputs": [
    {
     "data": {
      "text/plain": [
       "gsm_id\n",
       "GSM5379675    8\n",
       "GSM5379674    8\n",
       "GSM5379673    8\n",
       "GSM5379671    4\n",
       "GSM5379672    4\n",
       "             ..\n",
       "GSM3314499    1\n",
       "GSM3664982    1\n",
       "GSM3664983    1\n",
       "GSM3664984    1\n",
       "GSM5455046    1\n",
       "Name: count, Length: 243, dtype: int64"
      ]
     },
     "execution_count": 15,
     "metadata": {},
     "output_type": "execute_result"
    }
   ],
   "source": [
    "gsm_to_srr_data.gsm_id.value_counts()"
   ]
  },
  {
   "cell_type": "markdown",
   "id": "12edd214",
   "metadata": {},
   "source": [
    "## Create the Samplesheet for Downloading"
   ]
  },
  {
   "cell_type": "code",
   "execution_count": 16,
   "id": "a45083c6",
   "metadata": {},
   "outputs": [],
   "source": [
    "# get unique SRRs "
   ]
  },
  {
   "cell_type": "code",
   "execution_count": 17,
   "id": "015ee259",
   "metadata": {},
   "outputs": [],
   "source": [
    "srr_ids = sorted(gsm_to_srr_data.srr_id.unique())"
   ]
  },
  {
   "cell_type": "code",
   "execution_count": 18,
   "id": "efff234d",
   "metadata": {
    "scrolled": false
   },
   "outputs": [],
   "source": [
    "srr_ids_fn = os.path.join(samplesheet_dir, 'chipseq.srr_ids.{}.txt'.format(batch))\n",
    "with open(srr_ids_fn, 'w') as fw:\n",
    "    fw.write('\\n'.join(srr_ids))"
   ]
  },
  {
   "cell_type": "code",
   "execution_count": 19,
   "id": "65085190",
   "metadata": {},
   "outputs": [
    {
     "data": {
      "text/plain": [
       "'results/samplesheets/chipseq/chipseq.srr_ids.batch1.txt'"
      ]
     },
     "execution_count": 19,
     "metadata": {},
     "output_type": "execute_result"
    }
   ],
   "source": [
    "srr_ids_fn"
   ]
  },
  {
   "cell_type": "markdown",
   "id": "c3aaf4d7",
   "metadata": {},
   "source": [
    "## Create the Samplesheet for Concatination"
   ]
  },
  {
   "cell_type": "code",
   "execution_count": 20,
   "id": "e4041382",
   "metadata": {},
   "outputs": [],
   "source": [
    "# get Combinations of SRRs that should be concatinated\n",
    "gsm_srr_combos_data = []\n",
    "\n",
    "# main GSMs\n",
    "for gsm_ids_combo in data['GSM ID(s)'].tolist():\n",
    "    gsm_ids = gsm_ids_combo.replace(' ', '').split(',')\n",
    "    gsm_combo_reps = [gsm_ids_combo] * len(gsm_ids)\n",
    "    split_data = list(zip(gsm_combo_reps, gsm_ids))\n",
    "    gsm_srr_combos_data.extend(split_data)    \n",
    "    \n",
    "# control GSMs\n",
    "for gsm_ids_combo in data['Control GSM(s)'].tolist():\n",
    "    \n",
    "    if type(gsm_ids_combo) == str:\n",
    "        gsm_ids = gsm_ids_combo.replace(' ', '').split(',')\n",
    "        gsm_combo_reps = [gsm_ids_combo] * len(gsm_ids)\n",
    "        split_data = list(zip(gsm_combo_reps, gsm_ids))\n",
    "    else:\n",
    "        split_data = [[np.nan, np.nan]]\n",
    "    gsm_srr_combos_data.extend(split_data)    "
   ]
  },
  {
   "cell_type": "code",
   "execution_count": 21,
   "id": "33b5f2d9",
   "metadata": {},
   "outputs": [],
   "source": [
    "gsm_srr_combos_data = pd.DataFrame(gsm_srr_combos_data, columns=['GSM ID(s)', 'split_gsm_ids']).drop_duplicates()\n",
    "gsm_srr_combos_data = gsm_srr_combos_data.merge(gsm_to_srr_data, left_on='split_gsm_ids', right_on='gsm_id', how='outer', indicator=True)\n",
    "gsm_srr_combos_data = gsm_srr_combos_data.loc[~gsm_srr_combos_data.gsm_id.isna()]"
   ]
  },
  {
   "cell_type": "code",
   "execution_count": 22,
   "id": "7ae73567",
   "metadata": {},
   "outputs": [],
   "source": [
    "gsm_srr_combos_data_agg = gsm_srr_combos_data.groupby('GSM ID(s)').agg({'srr_id': '-'.join})\n",
    "srr_combos = sorted(gsm_srr_combos_data_agg.srr_id.unique())"
   ]
  },
  {
   "cell_type": "code",
   "execution_count": 23,
   "id": "75ef8b97",
   "metadata": {},
   "outputs": [],
   "source": [
    "srr_combos_fn = os.path.join(samplesheet_dir, 'chipseq.srr_id.combos.{}.txt'.format(batch))\n",
    "with open(srr_combos_fn, 'w') as fw:\n",
    "    fw.write('\\n'.join(srr_combos))"
   ]
  },
  {
   "cell_type": "markdown",
   "id": "a1bb0a51",
   "metadata": {},
   "source": [
    "### len(srr_combos)"
   ]
  },
  {
   "cell_type": "markdown",
   "id": "e7a08230",
   "metadata": {},
   "source": [
    "## Create the Samplesheet for Alignment of Control SRRs"
   ]
  },
  {
   "cell_type": "markdown",
   "id": "b67922dd",
   "metadata": {},
   "source": [
    "#### Generate a samplesheet that contains the organism"
   ]
  },
  {
   "cell_type": "code",
   "execution_count": 24,
   "id": "d11dcdfd",
   "metadata": {},
   "outputs": [
    {
     "name": "stderr",
     "output_type": "stream",
     "text": [
      "/tmp/ipykernel_126176/1270239004.py:27: SettingWithCopyWarning: \n",
      "A value is trying to be set on a copy of a slice from a DataFrame.\n",
      "Try using .loc[row_indexer,col_indexer] = value instead\n",
      "\n",
      "See the caveats in the documentation: https://pandas.pydata.org/pandas-docs/stable/user_guide/indexing.html#returning-a-view-versus-a-copy\n",
      "  mouse_subset.loc[:, 'ref_genome'] = 'mm10'\n"
     ]
    }
   ],
   "source": [
    "# extracting gsms\n",
    "df1 = data[['GSM ID(s)', 'Organism']].rename(columns={'GSM ID(s)': 'gsm_ids'})\n",
    "df1['sample_type'] = 'main'\n",
    "df2 = data[['Control GSM(s)', 'Organism']].rename(columns={'Control GSM(s)': 'gsm_ids'})\n",
    "df2['sample_type'] = 'control'\n",
    "\n",
    "# concating the gsm dfs\n",
    "gsm_to_organism = pd.concat([df1, df2], axis=0).dropna().drop_duplicates()\n",
    "\n",
    "# adding srr information\n",
    "gsm_to_organism = gsm_to_organism.merge(gsm_srr_combos_data_agg, left_on='gsm_ids', right_index=True)\n",
    "\n",
    "# extract control only\n",
    "gsm_to_organism_control = gsm_to_organism.loc[gsm_to_organism.sample_type == 'control']\n",
    "\n",
    "# adding reference genome information\n",
    "human_subset = gsm_to_organism_control.loc[gsm_to_organism_control['Organism'] == 'Homo Sapiens']\n",
    "mouse_subset = gsm_to_organism_control.loc[gsm_to_organism_control['Organism'] == 'Mus Musculus']\n",
    "\n",
    "grch38_subset = human_subset.copy().sort_values(['srr_id'])\n",
    "grch38_subset.loc[:, 'ref_genome'] = 'grch38'\n",
    "\n",
    "t2t_subset = human_subset.copy().sort_values(['srr_id'])\n",
    "t2t_subset.loc[:, 'ref_genome'] = 't2t'\n",
    "\n",
    "mm10_subset = mouse_subset.copy().sort_values(['srr_id'])\n",
    "mouse_subset.loc[:, 'ref_genome'] = 'mm10'\n",
    "\n",
    "# concating all the subsets for a final samplesheet\n",
    "gsm_to_organism_control = pd.concat([grch38_subset, mouse_subset, t2t_subset])"
   ]
  },
  {
   "cell_type": "code",
   "execution_count": 25,
   "id": "49b1090d",
   "metadata": {},
   "outputs": [],
   "source": [
    "# extract srr and ref_genome\n",
    "gsm_to_organism_control = gsm_to_organism_control[['srr_id', 'ref_genome']]"
   ]
  },
  {
   "cell_type": "code",
   "execution_count": 26,
   "id": "db7463e2",
   "metadata": {},
   "outputs": [],
   "source": [
    "samplesheet_path = os.path.join(samplesheet_dir, 'chipseq.srr_ids_to_ref_genome.combos.{}.txt'.format(batch))\n",
    "gsm_to_organism_control.to_csv(samplesheet_path, sep='\\t', header=False, index=False)"
   ]
  },
  {
   "cell_type": "markdown",
   "id": "265ed3ff",
   "metadata": {},
   "source": [
    "## Create the Samplesheet for Running ChIPLine"
   ]
  },
  {
   "cell_type": "code",
   "execution_count": 33,
   "id": "1832120d",
   "metadata": {},
   "outputs": [
    {
     "data": {
      "text/html": [
       "<div>\n",
       "<style scoped>\n",
       "    .dataframe tbody tr th:only-of-type {\n",
       "        vertical-align: middle;\n",
       "    }\n",
       "\n",
       "    .dataframe tbody tr th {\n",
       "        vertical-align: top;\n",
       "    }\n",
       "\n",
       "    .dataframe thead th {\n",
       "        text-align: right;\n",
       "    }\n",
       "</style>\n",
       "<table border=\"1\" class=\"dataframe\">\n",
       "  <thead>\n",
       "    <tr style=\"text-align: right;\">\n",
       "      <th></th>\n",
       "      <th>chipseq_std_sample_name</th>\n",
       "      <th>Main SRR(s)</th>\n",
       "      <th>Control SRR(s)</th>\n",
       "      <th>Ref Genome</th>\n",
       "      <th>Sample Name</th>\n",
       "      <th>GSE ID For ChIP-seq Data</th>\n",
       "      <th>Organism</th>\n",
       "      <th>Pulldown</th>\n",
       "      <th>Rep No.</th>\n",
       "      <th>GSM ID(s)</th>\n",
       "      <th>Control GSM(s)</th>\n",
       "    </tr>\n",
       "  </thead>\n",
       "  <tbody>\n",
       "    <tr>\n",
       "      <th>0</th>\n",
       "      <td>H9.GSE105028.Homo_Sapiens.CTCF.b1</td>\n",
       "      <td>SRR6177938</td>\n",
       "      <td>N/A</td>\n",
       "      <td>grch38</td>\n",
       "      <td>H9</td>\n",
       "      <td>GSE105028</td>\n",
       "      <td>Homo_Sapiens</td>\n",
       "      <td>CTCF</td>\n",
       "      <td>b1</td>\n",
       "      <td>GSM2816619</td>\n",
       "      <td>N/A</td>\n",
       "    </tr>\n",
       "    <tr>\n",
       "      <th>5</th>\n",
       "      <td>H9.GSE105028.Homo_Sapiens.H3K4me1.b1</td>\n",
       "      <td>SRR6177973</td>\n",
       "      <td>N/A</td>\n",
       "      <td>grch38</td>\n",
       "      <td>H9</td>\n",
       "      <td>GSE105028</td>\n",
       "      <td>Homo_Sapiens</td>\n",
       "      <td>H3K4me1</td>\n",
       "      <td>b1</td>\n",
       "      <td>GSM2816654</td>\n",
       "      <td>N/A</td>\n",
       "    </tr>\n",
       "    <tr>\n",
       "      <th>9</th>\n",
       "      <td>H9.GSE105028.Homo_Sapiens.KLF4.b1</td>\n",
       "      <td>SRR6177946</td>\n",
       "      <td>N/A</td>\n",
       "      <td>grch38</td>\n",
       "      <td>H9</td>\n",
       "      <td>GSE105028</td>\n",
       "      <td>Homo_Sapiens</td>\n",
       "      <td>KLF4</td>\n",
       "      <td>b1</td>\n",
       "      <td>GSM2816627</td>\n",
       "      <td>N/A</td>\n",
       "    </tr>\n",
       "    <tr>\n",
       "      <th>12</th>\n",
       "      <td>H9.GSE105028.Homo_Sapiens.NANOG.b1</td>\n",
       "      <td>SRR6177944</td>\n",
       "      <td>N/A</td>\n",
       "      <td>grch38</td>\n",
       "      <td>H9</td>\n",
       "      <td>GSE105028</td>\n",
       "      <td>Homo_Sapiens</td>\n",
       "      <td>NANOG</td>\n",
       "      <td>b1</td>\n",
       "      <td>GSM2816625</td>\n",
       "      <td>N/A</td>\n",
       "    </tr>\n",
       "    <tr>\n",
       "      <th>16</th>\n",
       "      <td>H9.GSE105028.Homo_Sapiens.OCT4.b1</td>\n",
       "      <td>SRR6177948</td>\n",
       "      <td>N/A</td>\n",
       "      <td>grch38</td>\n",
       "      <td>H9</td>\n",
       "      <td>GSE105028</td>\n",
       "      <td>Homo_Sapiens</td>\n",
       "      <td>OCT4</td>\n",
       "      <td>b1</td>\n",
       "      <td>GSM2816629</td>\n",
       "      <td>N/A</td>\n",
       "    </tr>\n",
       "    <tr>\n",
       "      <th>...</th>\n",
       "      <td>...</td>\n",
       "      <td>...</td>\n",
       "      <td>...</td>\n",
       "      <td>...</td>\n",
       "      <td>...</td>\n",
       "      <td>...</td>\n",
       "      <td>...</td>\n",
       "      <td>...</td>\n",
       "      <td>...</td>\n",
       "      <td>...</td>\n",
       "      <td>...</td>\n",
       "    </tr>\n",
       "    <tr>\n",
       "      <th>194</th>\n",
       "      <td>SUCCS1-siEA.GSE180198.Homo_Sapiens.H3K27ac.b1</td>\n",
       "      <td>SRR15163142-SRR15163145</td>\n",
       "      <td>N/A</td>\n",
       "      <td>t2t</td>\n",
       "      <td>SUCCS1-siEA</td>\n",
       "      <td>GSE180198</td>\n",
       "      <td>Homo_Sapiens</td>\n",
       "      <td>H3K27ac</td>\n",
       "      <td>b1</td>\n",
       "      <td>GSM5455043, GSM5455046</td>\n",
       "      <td>N/A</td>\n",
       "    </tr>\n",
       "    <tr>\n",
       "      <th>196</th>\n",
       "      <td>MDA-MB-231-PVT1sgRNAR2.GSE97584.Homo_Sapiens.H...</td>\n",
       "      <td>SRR5442293-SRR5442294</td>\n",
       "      <td>SRR5442299-SRR5442300</td>\n",
       "      <td>t2t</td>\n",
       "      <td>MDA-MB-231-PVT1sgRNAR2</td>\n",
       "      <td>GSE97584</td>\n",
       "      <td>Homo_Sapiens</td>\n",
       "      <td>H3K27ac</td>\n",
       "      <td>b1</td>\n",
       "      <td>GSM2572583, GSM2572584</td>\n",
       "      <td>GSM2572589, GSM2572590</td>\n",
       "    </tr>\n",
       "    <tr>\n",
       "      <th>198</th>\n",
       "      <td>MDA-MB-231-PVT1sgRNAR3.GSE97584.Homo_Sapiens.H...</td>\n",
       "      <td>SRR5442295-SRR5442296</td>\n",
       "      <td>N/A</td>\n",
       "      <td>t2t</td>\n",
       "      <td>MDA-MB-231-PVT1sgRNAR3</td>\n",
       "      <td>GSE97584</td>\n",
       "      <td>Homo_Sapiens</td>\n",
       "      <td>H3K27ac</td>\n",
       "      <td>b1</td>\n",
       "      <td>GSM2572585, GSM2572586</td>\n",
       "      <td>N/A</td>\n",
       "    </tr>\n",
       "    <tr>\n",
       "      <th>200</th>\n",
       "      <td>MDA-MB-231-sgRNA-Ctrl.GSE97584.Homo_Sapiens.H3...</td>\n",
       "      <td>SRR5442291-SRR5442292</td>\n",
       "      <td>SRR5442297-SRR5442298</td>\n",
       "      <td>t2t</td>\n",
       "      <td>MDA-MB-231-sgRNA-Ctrl</td>\n",
       "      <td>GSE97584</td>\n",
       "      <td>Homo_Sapiens</td>\n",
       "      <td>H3K27ac</td>\n",
       "      <td>b1</td>\n",
       "      <td>GSM2572581, GSM2572582</td>\n",
       "      <td>GSM2572587, GSM2572588</td>\n",
       "    </tr>\n",
       "    <tr>\n",
       "      <th>202</th>\n",
       "      <td>Jurkat.GSE99518.Homo_Sapiens.YY1.b1</td>\n",
       "      <td>SRR6010201</td>\n",
       "      <td>SRR6010202</td>\n",
       "      <td>t2t</td>\n",
       "      <td>Jurkat</td>\n",
       "      <td>GSE99518</td>\n",
       "      <td>Homo_Sapiens</td>\n",
       "      <td>YY1</td>\n",
       "      <td>b1</td>\n",
       "      <td>GSM2773998</td>\n",
       "      <td>GSM2773999</td>\n",
       "    </tr>\n",
       "  </tbody>\n",
       "</table>\n",
       "<p>235 rows × 11 columns</p>\n",
       "</div>"
      ],
      "text/plain": [
       "                               chipseq_std_sample_name  \\\n",
       "0                    H9.GSE105028.Homo_Sapiens.CTCF.b1   \n",
       "5                 H9.GSE105028.Homo_Sapiens.H3K4me1.b1   \n",
       "9                    H9.GSE105028.Homo_Sapiens.KLF4.b1   \n",
       "12                  H9.GSE105028.Homo_Sapiens.NANOG.b1   \n",
       "16                   H9.GSE105028.Homo_Sapiens.OCT4.b1   \n",
       "..                                                 ...   \n",
       "194      SUCCS1-siEA.GSE180198.Homo_Sapiens.H3K27ac.b1   \n",
       "196  MDA-MB-231-PVT1sgRNAR2.GSE97584.Homo_Sapiens.H...   \n",
       "198  MDA-MB-231-PVT1sgRNAR3.GSE97584.Homo_Sapiens.H...   \n",
       "200  MDA-MB-231-sgRNA-Ctrl.GSE97584.Homo_Sapiens.H3...   \n",
       "202                Jurkat.GSE99518.Homo_Sapiens.YY1.b1   \n",
       "\n",
       "                 Main SRR(s)         Control SRR(s) Ref Genome  \\\n",
       "0                 SRR6177938                    N/A     grch38   \n",
       "5                 SRR6177973                    N/A     grch38   \n",
       "9                 SRR6177946                    N/A     grch38   \n",
       "12                SRR6177944                    N/A     grch38   \n",
       "16                SRR6177948                    N/A     grch38   \n",
       "..                       ...                    ...        ...   \n",
       "194  SRR15163142-SRR15163145                    N/A        t2t   \n",
       "196    SRR5442293-SRR5442294  SRR5442299-SRR5442300        t2t   \n",
       "198    SRR5442295-SRR5442296                    N/A        t2t   \n",
       "200    SRR5442291-SRR5442292  SRR5442297-SRR5442298        t2t   \n",
       "202               SRR6010201             SRR6010202        t2t   \n",
       "\n",
       "                Sample Name GSE ID For ChIP-seq Data      Organism Pulldown  \\\n",
       "0                        H9                GSE105028  Homo_Sapiens     CTCF   \n",
       "5                        H9                GSE105028  Homo_Sapiens  H3K4me1   \n",
       "9                        H9                GSE105028  Homo_Sapiens     KLF4   \n",
       "12                       H9                GSE105028  Homo_Sapiens    NANOG   \n",
       "16                       H9                GSE105028  Homo_Sapiens     OCT4   \n",
       "..                      ...                      ...           ...      ...   \n",
       "194             SUCCS1-siEA                GSE180198  Homo_Sapiens  H3K27ac   \n",
       "196  MDA-MB-231-PVT1sgRNAR2                 GSE97584  Homo_Sapiens  H3K27ac   \n",
       "198  MDA-MB-231-PVT1sgRNAR3                 GSE97584  Homo_Sapiens  H3K27ac   \n",
       "200   MDA-MB-231-sgRNA-Ctrl                 GSE97584  Homo_Sapiens  H3K27ac   \n",
       "202                  Jurkat                 GSE99518  Homo_Sapiens      YY1   \n",
       "\n",
       "    Rep No.               GSM ID(s)          Control GSM(s)  \n",
       "0        b1              GSM2816619                     N/A  \n",
       "5        b1              GSM2816654                     N/A  \n",
       "9        b1              GSM2816627                     N/A  \n",
       "12       b1              GSM2816625                     N/A  \n",
       "16       b1              GSM2816629                     N/A  \n",
       "..      ...                     ...                     ...  \n",
       "194      b1  GSM5455043, GSM5455046                     N/A  \n",
       "196      b1  GSM2572583, GSM2572584  GSM2572589, GSM2572590  \n",
       "198      b1  GSM2572585, GSM2572586                     N/A  \n",
       "200      b1  GSM2572581, GSM2572582  GSM2572587, GSM2572588  \n",
       "202      b1              GSM2773998              GSM2773999  \n",
       "\n",
       "[235 rows x 11 columns]"
      ]
     },
     "execution_count": 33,
     "metadata": {},
     "output_type": "execute_result"
    }
   ],
   "source": [
    "chipline_ss"
   ]
  },
  {
   "cell_type": "code",
   "execution_count": null,
   "id": "f418a70d",
   "metadata": {},
   "outputs": [],
   "source": []
  },
  {
   "cell_type": "code",
   "execution_count": null,
   "id": "d07492c4",
   "metadata": {},
   "outputs": [],
   "source": []
  },
  {
   "cell_type": "code",
   "execution_count": 27,
   "id": "d88790b1",
   "metadata": {},
   "outputs": [],
   "source": [
    "# process only uniqe GSM combos\n",
    "chipline_ss = data[['Sample Name', 'GSE ID For ChIP-seq Data', 'Organism', 'Pulldown', 'GSM ID(s)', 'Control GSM(s)']]\n",
    "chipline_ss = chipline_ss.drop_duplicates(subset=['GSM ID(s)'])\n",
    "\n",
    "# add the srr information\n",
    "chipline_ss = chipline_ss.merge(gsm_srr_combos_data_agg, left_on='GSM ID(s)', right_index=True, how='left')\n",
    "chipline_ss.rename(columns={'srr_id': 'Main SRR(s)'}, inplace=True)\n",
    "chipline_ss = chipline_ss.merge(gsm_srr_combos_data_agg, left_on='Control GSM(s)', right_index=True, how='left')\n",
    "chipline_ss.rename(columns={'srr_id': 'Control SRR(s)'}, inplace=True)\n",
    "\n",
    "# add organism infor\n",
    "chipline_ss.loc[:, 'Organism'] = chipline_ss.loc[:, 'Organism'].str.replace('Homo Sapiens', 'Homo_Sapiens')\n",
    "chipline_ss.loc[:, 'Organism'] = chipline_ss.loc[:, 'Organism'].str.replace('Mus Musculus', 'Mus_Musculus')\n",
    "\n",
    "# adding the biorep information \n",
    "chipline_ss_tmp_list = []\n",
    "sort_cols = ['GSE ID For ChIP-seq Data', 'Sample Name', 'Organism', 'Pulldown', 'GSM ID(s)', 'Control GSM(s)']\n",
    "chipline_ss = chipline_ss.sort_values(sort_cols)\n",
    "for grp, grp_df in chipline_ss.groupby(['GSE ID For ChIP-seq Data', 'Sample Name', 'Organism', 'Pulldown']):\n",
    "    grp_df.loc[:, 'Rep No.'] = ['b{}'.format(x) for x in range(1, grp_df.shape[0] + 1)]\n",
    "    chipline_ss_tmp_list.append(grp_df)\n",
    "chipline_ss = pd.concat(chipline_ss_tmp_list)"
   ]
  },
  {
   "cell_type": "code",
   "execution_count": 28,
   "id": "0893fc62",
   "metadata": {},
   "outputs": [],
   "source": [
    "# add the standard sample name \n",
    "def create_std_sample_name(sr):\n",
    "    name = '{}.{}.{}.{}.{}'.format(sr['Sample Name'], sr['GSE ID For ChIP-seq Data'],\n",
    "                                   sr['Organism'], sr['Pulldown'], sr['Rep No.'])\n",
    "    return(name)\n",
    "chipline_ss.loc[:, 'chipseq_std_sample_name'] = chipline_ss.apply(create_std_sample_name, axis=1)\n",
    "\n",
    "# organize the reference genome of samples\n",
    "chipline_ss.loc[:, 'Ref Genome'] = chipline_ss['Organism'].map({'Homo_Sapiens': 'grch38',\n",
    "                                                                 'Mus_Musculus': 'mm10'})\n",
    "# add T2T samples\n",
    "chipline_ss_grps = chipline_ss.groupby('Ref Genome')\n",
    "t2t_chipline_ss = chipline_ss_grps.get_group('grch38').copy(deep=True)\n",
    "t2t_chipline_ss.loc[:, 'Ref Genome'] = 't2t'"
   ]
  },
  {
   "cell_type": "code",
   "execution_count": 29,
   "id": "8e500c77",
   "metadata": {},
   "outputs": [],
   "source": [
    "# generate teh final chipline samplesheet\n",
    "chipline_ss = pd.concat([chipline_ss, t2t_chipline_ss])"
   ]
  },
  {
   "cell_type": "code",
   "execution_count": 30,
   "id": "4ed0e75a",
   "metadata": {},
   "outputs": [],
   "source": [
    "# organize the columns \n",
    "chipline_ss = chipline_ss[['chipseq_std_sample_name', 'Main SRR(s)', 'Control SRR(s)', 'Ref Genome',\n",
    "                           'Sample Name', 'GSE ID For ChIP-seq Data',\n",
    "                            'Organism', 'Pulldown', 'Rep No.', 'GSM ID(s)', 'Control GSM(s)']]"
   ]
  },
  {
   "cell_type": "code",
   "execution_count": 31,
   "id": "3dc7de56",
   "metadata": {},
   "outputs": [],
   "source": [
    "# finalize and save\n",
    "chipline_ss.fillna('N/A', inplace=True)\n",
    "chipline_ss_fn = os.path.join(samplesheet_dir, 'chipseq.chipline.{}.txt'.format(batch))\n",
    "chipline_ss.to_csv(chipline_ss_fn, sep='\\t', index=False, header=False)"
   ]
  },
  {
   "cell_type": "code",
   "execution_count": null,
   "id": "edac1644",
   "metadata": {},
   "outputs": [],
   "source": []
  },
  {
   "cell_type": "markdown",
   "id": "adb5c68b",
   "metadata": {},
   "source": [
    "## Add the ChIP-seq file that finally maps between HiChIP and ChIP-seq"
   ]
  },
  {
   "cell_type": "code",
   "execution_count": 32,
   "id": "e2c18578",
   "metadata": {},
   "outputs": [
    {
     "name": "stdout",
     "output_type": "stream",
     "text": [
      "results/peaks/chipline_v2/H9.GSE105028.Homo_Sapiens.CTCF.b1/MACS2_Ext_*/H9.GSE105028.Homo_Sapiens.CTCF.b1.macs2_peaks.narrowPeak_Q0.01filt\n",
      "results/peaks/chipline_v2/H9.GSE105028.Homo_Sapiens.CTCF.b1/MACS2_Ext_*/H9.GSE105028.Homo_Sapiens.CTCF.b1.macs2_peaks.narrowPeak_Q0.01filt\n",
      "results/peaks/chipline_v2/H9.GSE105028.Homo_Sapiens.CTCF.b1/MACS2_Ext_*/H9.GSE105028.Homo_Sapiens.CTCF.b1.macs2_peaks.narrowPeak_Q0.01filt\n",
      "results/peaks/chipline_v2/H9-HS.GSE105028.Homo_Sapiens.CTCF.b1/MACS2_Ext_*/H9-HS.GSE105028.Homo_Sapiens.CTCF.b1.macs2_peaks.narrowPeak_Q0.01filt\n",
      "results/peaks/chipline_v2/H9-HS.GSE105028.Homo_Sapiens.CTCF.b1/MACS2_Ext_*/H9-HS.GSE105028.Homo_Sapiens.CTCF.b1.macs2_peaks.narrowPeak_Q0.01filt\n",
      "results/peaks/chipline_v2/H9.GSE105028.Homo_Sapiens.H3K4me1.b1/MACS2_Ext_*/H9.GSE105028.Homo_Sapiens.H3K4me1.b1.macs2_peaks.narrowPeak_Q0.01filt\n",
      "results/peaks/chipline_v2/H9.GSE105028.Homo_Sapiens.H3K4me1.b1/MACS2_Ext_*/H9.GSE105028.Homo_Sapiens.H3K4me1.b1.macs2_peaks.narrowPeak_Q0.01filt\n",
      "results/peaks/chipline_v2/H9-HS.GSE105028.Homo_Sapiens.H3K4me1.b1/MACS2_Ext_*/H9-HS.GSE105028.Homo_Sapiens.H3K4me1.b1.macs2_peaks.narrowPeak_Q0.01filt\n",
      "results/peaks/chipline_v2/H9-HS.GSE105028.Homo_Sapiens.H3K4me1.b1/MACS2_Ext_*/H9-HS.GSE105028.Homo_Sapiens.H3K4me1.b1.macs2_peaks.narrowPeak_Q0.01filt\n",
      "results/peaks/chipline_v2/H9.GSE105028.Homo_Sapiens.KLF4.b1/MACS2_Ext_*/H9.GSE105028.Homo_Sapiens.KLF4.b1.macs2_peaks.narrowPeak_Q0.01filt\n",
      "results/peaks/chipline_v2/H9.GSE105028.Homo_Sapiens.KLF4.b1/MACS2_Ext_*/H9.GSE105028.Homo_Sapiens.KLF4.b1.macs2_peaks.narrowPeak_Q0.01filt\n",
      "results/peaks/chipline_v2/H9-HS.GSE105028.Homo_Sapiens.KLF4.b1/MACS2_Ext_*/H9-HS.GSE105028.Homo_Sapiens.KLF4.b1.macs2_peaks.narrowPeak_Q0.01filt\n",
      "results/peaks/chipline_v2/H9.GSE105028.Homo_Sapiens.NANOG.b1/MACS2_Ext_*/H9.GSE105028.Homo_Sapiens.NANOG.b1.macs2_peaks.narrowPeak_Q0.01filt\n",
      "results/peaks/chipline_v2/H9.GSE105028.Homo_Sapiens.NANOG.b1/MACS2_Ext_*/H9.GSE105028.Homo_Sapiens.NANOG.b1.macs2_peaks.narrowPeak_Q0.01filt\n",
      "results/peaks/chipline_v2/H9-HS.GSE105028.Homo_Sapiens.NANOG.b1/MACS2_Ext_*/H9-HS.GSE105028.Homo_Sapiens.NANOG.b1.macs2_peaks.narrowPeak_Q0.01filt\n",
      "results/peaks/chipline_v2/H9-HS.GSE105028.Homo_Sapiens.NANOG.b1/MACS2_Ext_*/H9-HS.GSE105028.Homo_Sapiens.NANOG.b1.macs2_peaks.narrowPeak_Q0.01filt\n",
      "results/peaks/chipline_v2/H9.GSE105028.Homo_Sapiens.OCT4.b1/MACS2_Ext_*/H9.GSE105028.Homo_Sapiens.OCT4.b1.macs2_peaks.narrowPeak_Q0.01filt\n",
      "results/peaks/chipline_v2/H9.GSE105028.Homo_Sapiens.OCT4.b1/MACS2_Ext_*/H9.GSE105028.Homo_Sapiens.OCT4.b1.macs2_peaks.narrowPeak_Q0.01filt\n",
      "results/peaks/chipline_v2/H9-HS.GSE105028.Homo_Sapiens.OCT4.b1/MACS2_Ext_*/H9-HS.GSE105028.Homo_Sapiens.OCT4.b1.macs2_peaks.narrowPeak_Q0.01filt\n",
      "results/peaks/chipline_v2/H9-HS.GSE105028.Homo_Sapiens.OCT4.b1/MACS2_Ext_*/H9-HS.GSE105028.Homo_Sapiens.OCT4.b1.macs2_peaks.narrowPeak_Q0.01filt\n",
      "results/peaks/chipline_v2/H9.GSE105028.Homo_Sapiens.Rad21.b1/MACS2_Ext_*/H9.GSE105028.Homo_Sapiens.Rad21.b1.macs2_peaks.narrowPeak_Q0.01filt\n",
      "results/peaks/chipline_v2/H9.GSE105028.Homo_Sapiens.Rad21.b1/MACS2_Ext_*/H9.GSE105028.Homo_Sapiens.Rad21.b1.macs2_peaks.narrowPeak_Q0.01filt\n",
      "results/peaks/chipline_v2/H9.GSE105028.Homo_Sapiens.Rad21.b1/MACS2_Ext_*/H9.GSE105028.Homo_Sapiens.Rad21.b1.macs2_peaks.narrowPeak_Q0.01filt\n",
      "results/peaks/chipline_v2/H9.GSE105028.Homo_Sapiens.Rad21.b1/MACS2_Ext_*/H9.GSE105028.Homo_Sapiens.Rad21.b1.macs2_peaks.narrowPeak_Q0.01filt\n",
      "results/peaks/chipline_v2/H9-HS.GSE105028.Homo_Sapiens.Rad21.b1/MACS2_Ext_*/H9-HS.GSE105028.Homo_Sapiens.Rad21.b1.macs2_peaks.narrowPeak_Q0.01filt\n",
      "results/peaks/chipline_v2/H9-HS.GSE105028.Homo_Sapiens.Rad21.b1/MACS2_Ext_*/H9-HS.GSE105028.Homo_Sapiens.Rad21.b1.macs2_peaks.narrowPeak_Q0.01filt\n",
      "results/peaks/chipline_v2/H9-HS.GSE105028.Homo_Sapiens.Rad21.b1/MACS2_Ext_*/H9-HS.GSE105028.Homo_Sapiens.Rad21.b1.macs2_peaks.narrowPeak_Q0.01filt\n",
      "results/peaks/chipline_v2/H9-HS.GSE105028.Homo_Sapiens.Rad21.b1/MACS2_Ext_*/H9-HS.GSE105028.Homo_Sapiens.Rad21.b1.macs2_peaks.narrowPeak_Q0.01filt\n",
      "results/peaks/chipline_v2/Hela-S3-Control.GSE108869.Homo_Sapiens.CTCF.b1/MACS2_Ext_*/Hela-S3-Control.GSE108869.Homo_Sapiens.CTCF.b1.macs2_peaks.narrowPeak_Q0.01filt\n",
      "results/peaks/chipline_v2/Hela-S3-Control.GSE108869.Homo_Sapiens.CTCF.b1/MACS2_Ext_*/Hela-S3-Control.GSE108869.Homo_Sapiens.CTCF.b1.macs2_peaks.narrowPeak_Q0.01filt\n",
      "results/peaks/chipline_v2/Hela-S3-OE.GSE108869.Homo_Sapiens.CTCF.b1/MACS2_Ext_*/Hela-S3-OE.GSE108869.Homo_Sapiens.CTCF.b1.macs2_peaks.narrowPeak_Q0.01filt\n",
      "results/peaks/chipline_v2/Hela-S3-OE.GSE108869.Homo_Sapiens.CTCF.b1/MACS2_Ext_*/Hela-S3-OE.GSE108869.Homo_Sapiens.CTCF.b1.macs2_peaks.narrowPeak_Q0.01filt\n",
      "results/peaks/chipline_v2/OCI-AML3-DeltaSTAG2.GSE111537.Homo_Sapiens.CTCF.b1/MACS2_Ext_*/OCI-AML3-DeltaSTAG2.GSE111537.Homo_Sapiens.CTCF.b1.macs2_peaks.narrowPeak_Q0.01filt\n",
      "results/peaks/chipline_v2/OCI-AML3-DeltaSTAG2.GSE111537.Homo_Sapiens.CTCF.b1/MACS2_Ext_*/OCI-AML3-DeltaSTAG2.GSE111537.Homo_Sapiens.CTCF.b1.macs2_peaks.narrowPeak_Q0.01filt\n",
      "results/peaks/chipline_v2/OCI-AML3-WT.GSE111537.Homo_Sapiens.CTCF.b1/MACS2_Ext_*/OCI-AML3-WT.GSE111537.Homo_Sapiens.CTCF.b1.macs2_peaks.narrowPeak_Q0.01filt\n",
      "results/peaks/chipline_v2/OCI-AML3-WT.GSE111537.Homo_Sapiens.CTCF.b1/MACS2_Ext_*/OCI-AML3-WT.GSE111537.Homo_Sapiens.CTCF.b1.macs2_peaks.narrowPeak_Q0.01filt\n",
      "results/peaks/chipline_v2/Nalm6.GSE115494.Homo_Sapiens.H3K27ac.b1/MACS2_Ext_*/Nalm6.GSE115494.Homo_Sapiens.H3K27ac.b1.macs2_peaks.narrowPeak_Q0.01filt\n",
      "results/peaks/chipline_v2/lgs000379.GSE116193.Homo_Sapiens.H3K27ac.b1/MACS2_Ext_*/lgs000379.GSE116193.Homo_Sapiens.H3K27ac.b1.macs2_peaks.narrowPeak_Q0.01filt\n",
      "results/peaks/chipline_v2/lgs101645.GSE116193.Homo_Sapiens.H3K27ac.b1/MACS2_Ext_*/lgs101645.GSE116193.Homo_Sapiens.H3K27ac.b1.macs2_peaks.narrowPeak_Q0.01filt\n",
      "results/peaks/chipline_v2/lgs102580.GSE116193.Homo_Sapiens.H3K27ac.b1/MACS2_Ext_*/lgs102580.GSE116193.Homo_Sapiens.H3K27ac.b1.macs2_peaks.narrowPeak_Q0.01filt\n",
      "results/peaks/chipline_v2/lgs102943.GSE116193.Homo_Sapiens.H3K27ac.b1/MACS2_Ext_*/lgs102943.GSE116193.Homo_Sapiens.H3K27ac.b1.macs2_peaks.narrowPeak_Q0.01filt\n",
      "results/peaks/chipline_v2/lgs301283.GSE116193.Homo_Sapiens.H3K27ac.b1/MACS2_Ext_*/lgs301283.GSE116193.Homo_Sapiens.H3K27ac.b1.macs2_peaks.narrowPeak_Q0.01filt\n",
      "results/peaks/chipline_v2/lgs301315.GSE116193.Homo_Sapiens.H3K27ac.b1/MACS2_Ext_*/lgs301315.GSE116193.Homo_Sapiens.H3K27ac.b1.macs2_peaks.narrowPeak_Q0.01filt\n",
      "results/peaks/chipline_v2/STAG2-KO.GSE165783.Homo_Sapiens.SMC1A.b1/MACS2_Ext_*/STAG2-KO.GSE165783.Homo_Sapiens.SMC1A.b1.macs2_peaks.narrowPeak_Q0.01filt\n",
      "results/peaks/chipline_v2/STAG2-KO.GSE165783.Homo_Sapiens.SMC1A.b1/MACS2_Ext_*/STAG2-KO.GSE165783.Homo_Sapiens.SMC1A.b1.macs2_peaks.narrowPeak_Q0.01filt\n",
      "results/peaks/chipline_v2/STAG2-WT.GSE165783.Homo_Sapiens.SMC1A.b1/MACS2_Ext_*/STAG2-WT.GSE165783.Homo_Sapiens.SMC1A.b1.macs2_peaks.narrowPeak_Q0.01filt\n",
      "results/peaks/chipline_v2/STAG2-WT.GSE165783.Homo_Sapiens.SMC1A.b1/MACS2_Ext_*/STAG2-WT.GSE165783.Homo_Sapiens.SMC1A.b1.macs2_peaks.narrowPeak_Q0.01filt\n",
      "results/peaks/chipline_v2/MB157-WT.GSE116876.Homo_Sapiens.SMC1A.b1/MACS2_Ext_*/MB157-WT.GSE116876.Homo_Sapiens.SMC1A.b1.macs2_peaks.narrowPeak_Q0.01filt\n",
      "results/peaks/chipline_v2/CTL.GSE117888.Homo_Sapiens.H3K27ac.b1/MACS2_Ext_*/CTL.GSE117888.Homo_Sapiens.H3K27ac.b1.macs2_peaks.narrowPeak_Q0.01filt\n",
      "results/peaks/chipline_v2/CTL.GSE117888.Homo_Sapiens.H3K27ac.b1/MACS2_Ext_*/CTL.GSE117888.Homo_Sapiens.H3K27ac.b1.macs2_peaks.narrowPeak_Q0.01filt\n",
      "results/peaks/chipline_v2/DEX.GSE117888.Homo_Sapiens.H3K27ac.b1/MACS2_Ext_*/DEX.GSE117888.Homo_Sapiens.H3K27ac.b1.macs2_peaks.narrowPeak_Q0.01filt\n",
      "results/peaks/chipline_v2/DEX.GSE117888.Homo_Sapiens.H3K27ac.b1/MACS2_Ext_*/DEX.GSE117888.Homo_Sapiens.H3K27ac.b1.macs2_peaks.narrowPeak_Q0.01filt\n",
      "results/peaks/chipline_v2/293T.GSE128106.Homo_Sapiens.YY1.b1/MACS2_Ext_*/293T.GSE128106.Homo_Sapiens.YY1.b1.macs2_peaks.narrowPeak_Q0.01filt\n",
      "results/peaks/chipline_v2/293T.GSE128106.Homo_Sapiens.YY1.b1/MACS2_Ext_*/293T.GSE128106.Homo_Sapiens.YY1.b1.macs2_peaks.narrowPeak_Q0.01filt\n",
      "results/peaks/chipline_v2/293T.GSE128106.Homo_Sapiens.YY1.b1/MACS2_Ext_*/293T.GSE128106.Homo_Sapiens.YY1.b1.macs2_peaks.narrowPeak_Q0.01filt\n",
      "results/peaks/chipline_v2/293T.GSE128106.Homo_Sapiens.YY1.b1/MACS2_Ext_*/293T.GSE128106.Homo_Sapiens.YY1.b1.macs2_peaks.narrowPeak_Q0.01filt\n",
      "results/peaks/chipline_v2/293T-PDS.GSE128106.Homo_Sapiens.YY1.b1/MACS2_Ext_*/293T-PDS.GSE128106.Homo_Sapiens.YY1.b1.macs2_peaks.narrowPeak_Q0.01filt\n",
      "results/peaks/chipline_v2/293T-PDS.GSE128106.Homo_Sapiens.YY1.b1/MACS2_Ext_*/293T-PDS.GSE128106.Homo_Sapiens.YY1.b1.macs2_peaks.narrowPeak_Q0.01filt\n",
      "results/peaks/chipline_v2/293T-TMPYP4.GSE128106.Homo_Sapiens.YY1.b1/MACS2_Ext_*/293T-TMPYP4.GSE128106.Homo_Sapiens.YY1.b1.macs2_peaks.narrowPeak_Q0.01filt\n",
      "results/peaks/chipline_v2/293T-TMPYP4.GSE128106.Homo_Sapiens.YY1.b1/MACS2_Ext_*/293T-TMPYP4.GSE128106.Homo_Sapiens.YY1.b1.macs2_peaks.narrowPeak_Q0.01filt\n",
      "results/peaks/chipline_v2/Erythroblast.GSE131052.Homo_Sapiens.H3K27ac.b1/MACS2_Ext_*/Erythroblast.GSE131052.Homo_Sapiens.H3K27ac.b1.macs2_peaks.narrowPeak_Q0.01filt\n",
      "results/peaks/chipline_v2/HUDEP-2-Mut1.GSE131052.Homo_Sapiens.H3K27ac.b1/MACS2_Ext_*/HUDEP-2-Mut1.GSE131052.Homo_Sapiens.H3K27ac.b1.macs2_peaks.narrowPeak_Q0.01filt\n",
      "results/peaks/chipline_v2/HUDEP-2-WT.GSE131052.Homo_Sapiens.H3K27ac.b1/MACS2_Ext_*/HUDEP-2-WT.GSE131052.Homo_Sapiens.H3K27ac.b1.macs2_peaks.narrowPeak_Q0.01filt\n",
      "results/peaks/chipline_v2/NSD2-High-NTKO.GSE131651.Homo_Sapiens.CTCF.b1/MACS2_Ext_*/NSD2-High-NTKO.GSE131651.Homo_Sapiens.CTCF.b1.macs2_peaks.narrowPeak_Q0.01filt\n",
      "results/peaks/chipline_v2/NSD2-High-NTKO.GSE131651.Homo_Sapiens.CTCF.b1/MACS2_Ext_*/NSD2-High-NTKO.GSE131651.Homo_Sapiens.CTCF.b1.macs2_peaks.narrowPeak_Q0.01filt\n",
      "results/peaks/chipline_v2/NSD2-High-NTKO.GSE131651.Homo_Sapiens.CTCF.b1/MACS2_Ext_*/NSD2-High-NTKO.GSE131651.Homo_Sapiens.CTCF.b1.macs2_peaks.narrowPeak_Q0.01filt\n",
      "results/peaks/chipline_v2/NSD2-High-NTKO.GSE131651.Homo_Sapiens.CTCF.b1/MACS2_Ext_*/NSD2-High-NTKO.GSE131651.Homo_Sapiens.CTCF.b1.macs2_peaks.narrowPeak_Q0.01filt\n",
      "results/peaks/chipline_v2/NSD2-High-NTKO.GSE131651.Homo_Sapiens.CTCF.b1/MACS2_Ext_*/NSD2-High-NTKO.GSE131651.Homo_Sapiens.CTCF.b1.macs2_peaks.narrowPeak_Q0.01filt\n",
      "results/peaks/chipline_v2/NSD2-High-NTKO.GSE131651.Homo_Sapiens.CTCF.b1/MACS2_Ext_*/NSD2-High-NTKO.GSE131651.Homo_Sapiens.CTCF.b1.macs2_peaks.narrowPeak_Q0.01filt\n",
      "results/peaks/chipline_v2/NSD2-High-NTKO.GSE131651.Homo_Sapiens.CTCF.b1/MACS2_Ext_*/NSD2-High-NTKO.GSE131651.Homo_Sapiens.CTCF.b1.macs2_peaks.narrowPeak_Q0.01filt\n",
      "results/peaks/chipline_v2/NSD2-High-NTKO.GSE131651.Homo_Sapiens.CTCF.b1/MACS2_Ext_*/NSD2-High-NTKO.GSE131651.Homo_Sapiens.CTCF.b1.macs2_peaks.narrowPeak_Q0.01filt\n",
      "results/peaks/chipline_v2/NSD2-High-NTKO.GSE131651.Homo_Sapiens.CTCF.b1/MACS2_Ext_*/NSD2-High-NTKO.GSE131651.Homo_Sapiens.CTCF.b1.macs2_peaks.narrowPeak_Q0.01filt\n",
      "results/peaks/chipline_v2/NSD2-High-NTKO.GSE131651.Homo_Sapiens.CTCF.b1/MACS2_Ext_*/NSD2-High-NTKO.GSE131651.Homo_Sapiens.CTCF.b1.macs2_peaks.narrowPeak_Q0.01filt\n",
      "results/peaks/chipline_v2/NSD2-High-NTKO.GSE131651.Homo_Sapiens.CTCF.b1/MACS2_Ext_*/NSD2-High-NTKO.GSE131651.Homo_Sapiens.CTCF.b1.macs2_peaks.narrowPeak_Q0.01filt\n",
      "results/peaks/chipline_v2/NSD2-High-NTKO.GSE131651.Homo_Sapiens.CTCF.b1/MACS2_Ext_*/NSD2-High-NTKO.GSE131651.Homo_Sapiens.CTCF.b1.macs2_peaks.narrowPeak_Q0.01filt\n",
      "results/peaks/chipline_v2/NSD2-High-NTKO.GSE131651.Homo_Sapiens.CTCF.b1/MACS2_Ext_*/NSD2-High-NTKO.GSE131651.Homo_Sapiens.CTCF.b1.macs2_peaks.narrowPeak_Q0.01filt\n",
      "results/peaks/chipline_v2/NSD2-High-NTKO.GSE131651.Homo_Sapiens.CTCF.b1/MACS2_Ext_*/NSD2-High-NTKO.GSE131651.Homo_Sapiens.CTCF.b1.macs2_peaks.narrowPeak_Q0.01filt\n",
      "results/peaks/chipline_v2/NSD2-High-NTKO.GSE131651.Homo_Sapiens.CTCF.b1/MACS2_Ext_*/NSD2-High-NTKO.GSE131651.Homo_Sapiens.CTCF.b1.macs2_peaks.narrowPeak_Q0.01filt\n",
      "results/peaks/chipline_v2/NSD2-High-NTKO.GSE131651.Homo_Sapiens.CTCF.b1/MACS2_Ext_*/NSD2-High-NTKO.GSE131651.Homo_Sapiens.CTCF.b1.macs2_peaks.narrowPeak_Q0.01filt\n",
      "results/peaks/chipline_v2/NSD2-High-NTKO.GSE131651.Homo_Sapiens.CTCF.b1/MACS2_Ext_*/NSD2-High-NTKO.GSE131651.Homo_Sapiens.CTCF.b1.macs2_peaks.narrowPeak_Q0.01filt\n",
      "results/peaks/chipline_v2/NSD2-High-NTKO.GSE131651.Homo_Sapiens.CTCF.b1/MACS2_Ext_*/NSD2-High-NTKO.GSE131651.Homo_Sapiens.CTCF.b1.macs2_peaks.narrowPeak_Q0.01filt\n",
      "results/peaks/chipline_v2/NSD2-Low-TKO.GSE131651.Homo_Sapiens.CTCF.b1/MACS2_Ext_*/NSD2-Low-TKO.GSE131651.Homo_Sapiens.CTCF.b1.macs2_peaks.narrowPeak_Q0.01filt\n",
      "results/peaks/chipline_v2/NSD2-Low-TKO.GSE131651.Homo_Sapiens.CTCF.b1/MACS2_Ext_*/NSD2-Low-TKO.GSE131651.Homo_Sapiens.CTCF.b1.macs2_peaks.narrowPeak_Q0.01filt\n",
      "results/peaks/chipline_v2/NSD2-Low-TKO.GSE131651.Homo_Sapiens.CTCF.b1/MACS2_Ext_*/NSD2-Low-TKO.GSE131651.Homo_Sapiens.CTCF.b1.macs2_peaks.narrowPeak_Q0.01filt\n",
      "results/peaks/chipline_v2/NSD2-Low-TKO.GSE131651.Homo_Sapiens.CTCF.b1/MACS2_Ext_*/NSD2-Low-TKO.GSE131651.Homo_Sapiens.CTCF.b1.macs2_peaks.narrowPeak_Q0.01filt\n",
      "results/peaks/chipline_v2/NSD2-Low-TKO.GSE131651.Homo_Sapiens.CTCF.b1/MACS2_Ext_*/NSD2-Low-TKO.GSE131651.Homo_Sapiens.CTCF.b1.macs2_peaks.narrowPeak_Q0.01filt\n",
      "results/peaks/chipline_v2/NSD2-Low-TKO.GSE131651.Homo_Sapiens.CTCF.b1/MACS2_Ext_*/NSD2-Low-TKO.GSE131651.Homo_Sapiens.CTCF.b1.macs2_peaks.narrowPeak_Q0.01filt\n",
      "results/peaks/chipline_v2/NSD2-Low-TKO.GSE131651.Homo_Sapiens.CTCF.b1/MACS2_Ext_*/NSD2-Low-TKO.GSE131651.Homo_Sapiens.CTCF.b1.macs2_peaks.narrowPeak_Q0.01filt\n",
      "results/peaks/chipline_v2/NSD2-Low-TKO.GSE131651.Homo_Sapiens.CTCF.b1/MACS2_Ext_*/NSD2-Low-TKO.GSE131651.Homo_Sapiens.CTCF.b1.macs2_peaks.narrowPeak_Q0.01filt\n",
      "results/peaks/chipline_v2/NSD2-Low-TKO.GSE131651.Homo_Sapiens.CTCF.b1/MACS2_Ext_*/NSD2-Low-TKO.GSE131651.Homo_Sapiens.CTCF.b1.macs2_peaks.narrowPeak_Q0.01filt\n",
      "results/peaks/chipline_v2/NSD2-Low-TKO.GSE131651.Homo_Sapiens.CTCF.b1/MACS2_Ext_*/NSD2-Low-TKO.GSE131651.Homo_Sapiens.CTCF.b1.macs2_peaks.narrowPeak_Q0.01filt\n",
      "results/peaks/chipline_v2/NSD2-Low-TKO.GSE131651.Homo_Sapiens.CTCF.b1/MACS2_Ext_*/NSD2-Low-TKO.GSE131651.Homo_Sapiens.CTCF.b1.macs2_peaks.narrowPeak_Q0.01filt\n",
      "results/peaks/chipline_v2/NSD2-Low-TKO.GSE131651.Homo_Sapiens.CTCF.b1/MACS2_Ext_*/NSD2-Low-TKO.GSE131651.Homo_Sapiens.CTCF.b1.macs2_peaks.narrowPeak_Q0.01filt\n",
      "results/peaks/chipline_v2/NSD2-Low-TKO.GSE131651.Homo_Sapiens.CTCF.b1/MACS2_Ext_*/NSD2-Low-TKO.GSE131651.Homo_Sapiens.CTCF.b1.macs2_peaks.narrowPeak_Q0.01filt\n",
      "results/peaks/chipline_v2/NSD2-Low-TKO.GSE131651.Homo_Sapiens.CTCF.b1/MACS2_Ext_*/NSD2-Low-TKO.GSE131651.Homo_Sapiens.CTCF.b1.macs2_peaks.narrowPeak_Q0.01filt\n",
      "results/peaks/chipline_v2/NSD2-Low-TKO.GSE131651.Homo_Sapiens.CTCF.b1/MACS2_Ext_*/NSD2-Low-TKO.GSE131651.Homo_Sapiens.CTCF.b1.macs2_peaks.narrowPeak_Q0.01filt\n",
      "results/peaks/chipline_v2/NSD2-Low-TKO.GSE131651.Homo_Sapiens.CTCF.b1/MACS2_Ext_*/NSD2-Low-TKO.GSE131651.Homo_Sapiens.CTCF.b1.macs2_peaks.narrowPeak_Q0.01filt\n",
      "results/peaks/chipline_v2/NSD2-Low-TKO.GSE131651.Homo_Sapiens.CTCF.b1/MACS2_Ext_*/NSD2-Low-TKO.GSE131651.Homo_Sapiens.CTCF.b1.macs2_peaks.narrowPeak_Q0.01filt\n",
      "results/peaks/chipline_v2/NSD2-Low-TKO.GSE131651.Homo_Sapiens.CTCF.b1/MACS2_Ext_*/NSD2-Low-TKO.GSE131651.Homo_Sapiens.CTCF.b1.macs2_peaks.narrowPeak_Q0.01filt\n",
      "results/peaks/chipline_v2/BC1.GSE136090.Homo_Sapiens.H3K27ac.b1/MACS2_Ext_*/BC1.GSE136090.Homo_Sapiens.H3K27ac.b1.macs2_peaks.narrowPeak_Q0.01filt\n",
      "results/peaks/chipline_v2/BC1.GSE136090.Homo_Sapiens.H3K27ac.b1/MACS2_Ext_*/BC1.GSE136090.Homo_Sapiens.H3K27ac.b1.macs2_peaks.narrowPeak_Q0.01filt\n",
      "results/peaks/chipline_v2/BC3.GSE136090.Homo_Sapiens.H3K27ac.b1/MACS2_Ext_*/BC3.GSE136090.Homo_Sapiens.H3K27ac.b1.macs2_peaks.narrowPeak_Q0.01filt\n",
      "results/peaks/chipline_v2/BC3.GSE136090.Homo_Sapiens.H3K27ac.b1/MACS2_Ext_*/BC3.GSE136090.Homo_Sapiens.H3K27ac.b1.macs2_peaks.narrowPeak_Q0.01filt\n",
      "results/peaks/chipline_v2/BCBL1.GSE136090.Homo_Sapiens.H3K27ac.b1/MACS2_Ext_*/BCBL1.GSE136090.Homo_Sapiens.H3K27ac.b1.macs2_peaks.narrowPeak_Q0.01filt\n",
      "results/peaks/chipline_v2/BCBL1.GSE136090.Homo_Sapiens.H3K27ac.b1/MACS2_Ext_*/BCBL1.GSE136090.Homo_Sapiens.H3K27ac.b1.macs2_peaks.narrowPeak_Q0.01filt\n",
      "results/peaks/chipline_v2/JSC.GSE136090.Homo_Sapiens.H3K27ac.b1/MACS2_Ext_*/JSC.GSE136090.Homo_Sapiens.H3K27ac.b1.macs2_peaks.narrowPeak_Q0.01filt\n",
      "results/peaks/chipline_v2/JSC.GSE136090.Homo_Sapiens.H3K27ac.b1/MACS2_Ext_*/JSC.GSE136090.Homo_Sapiens.H3K27ac.b1.macs2_peaks.narrowPeak_Q0.01filt\n",
      "results/peaks/chipline_v2/HCT116.GSE136889.Homo_Sapiens.H3K27ac.b1/MACS2_Ext_*/HCT116.GSE136889.Homo_Sapiens.H3K27ac.b1.macs2_peaks.narrowPeak_Q0.01filt\n",
      "results/peaks/chipline_v2/SW480.GSE136889.Homo_Sapiens.H3K27ac.b1/MACS2_Ext_*/SW480.GSE136889.Homo_Sapiens.H3K27ac.b1.macs2_peaks.narrowPeak_Q0.01filt\n",
      "results/peaks/chipline_v2/SW620.GSE136889.Homo_Sapiens.H3K27ac.b1/MACS2_Ext_*/SW620.GSE136889.Homo_Sapiens.H3K27ac.b1.macs2_peaks.narrowPeak_Q0.01filt\n",
      "results/peaks/chipline_v2/HeLa-S3-shBHLHE40.GSE137848.Homo_Sapiens.CTCF.b1/MACS2_Ext_*/HeLa-S3-shBHLHE40.GSE137848.Homo_Sapiens.CTCF.b1.macs2_peaks.narrowPeak_Q0.01filt\n",
      "results/peaks/chipline_v2/HeLa-S3-shBHLHE40.GSE137848.Homo_Sapiens.CTCF.b1/MACS2_Ext_*/HeLa-S3-shBHLHE40.GSE137848.Homo_Sapiens.CTCF.b1.macs2_peaks.narrowPeak_Q0.01filt\n",
      "results/peaks/chipline_v2/HeLa-S3-shcontrol.GSE137848.Homo_Sapiens.CTCF.b1/MACS2_Ext_*/HeLa-S3-shcontrol.GSE137848.Homo_Sapiens.CTCF.b1.macs2_peaks.narrowPeak_Q0.01filt\n",
      "results/peaks/chipline_v2/HeLa-S3-shcontrol.GSE137848.Homo_Sapiens.CTCF.b1/MACS2_Ext_*/HeLa-S3-shcontrol.GSE137848.Homo_Sapiens.CTCF.b1.macs2_peaks.narrowPeak_Q0.01filt\n",
      "results/peaks/chipline_v2/HK2.GSE147646.Homo_Sapiens.H3K27ac.b1/MACS2_Ext_*/HK2.GSE147646.Homo_Sapiens.H3K27ac.b1.macs2_peaks.narrowPeak_Q0.01filt\n",
      "results/peaks/chipline_v2/HK2.GSE147646.Homo_Sapiens.H3K27ac.b1/MACS2_Ext_*/HK2.GSE147646.Homo_Sapiens.H3K27ac.b1.macs2_peaks.narrowPeak_Q0.01filt\n",
      "results/peaks/chipline_v2/THP-1-del-cIDR.GSE149420.Homo_Sapiens.H3K27ac.b1/MACS2_Ext_*/THP-1-del-cIDR.GSE149420.Homo_Sapiens.H3K27ac.b1.macs2_peaks.narrowPeak_Q0.01filt\n",
      "results/peaks/chipline_v2/THP-1-Vector.GSE149420.Homo_Sapiens.H3K27ac.b1/MACS2_Ext_*/THP-1-Vector.GSE149420.Homo_Sapiens.H3K27ac.b1.macs2_peaks.narrowPeak_Q0.01filt\n",
      "results/peaks/chipline_v2/THP-1-WT.GSE149420.Homo_Sapiens.H3K27ac.b1/MACS2_Ext_*/THP-1-WT.GSE149420.Homo_Sapiens.H3K27ac.b1.macs2_peaks.narrowPeak_Q0.01filt\n",
      "results/peaks/chipline_v2/THP-1-del-cIDR-Batch1.GSE149420.Homo_Sapiens.H3K4me3.b1/MACS2_Ext_*/THP-1-del-cIDR-Batch1.GSE149420.Homo_Sapiens.H3K4me3.b1.macs2_peaks.narrowPeak_Q0.01filt\n",
      "results/peaks/chipline_v2/THP-1-del-cIDR-Batch1.GSE149420.Homo_Sapiens.H3K4me3.b1/MACS2_Ext_*/THP-1-del-cIDR-Batch1.GSE149420.Homo_Sapiens.H3K4me3.b1.macs2_peaks.narrowPeak_Q0.01filt\n",
      "results/peaks/chipline_v2/THP-1-del-cIDR-Batch2.GSE149420.Homo_Sapiens.H3K4me3.b1/MACS2_Ext_*/THP-1-del-cIDR-Batch2.GSE149420.Homo_Sapiens.H3K4me3.b1.macs2_peaks.narrowPeak_Q0.01filt\n",
      "results/peaks/chipline_v2/THP-1-Vector-Batch1.GSE149420.Homo_Sapiens.H3K4me3.b1/MACS2_Ext_*/THP-1-Vector-Batch1.GSE149420.Homo_Sapiens.H3K4me3.b1.macs2_peaks.narrowPeak_Q0.01filt\n",
      "results/peaks/chipline_v2/THP-1-Vector-Batch1.GSE149420.Homo_Sapiens.H3K4me3.b1/MACS2_Ext_*/THP-1-Vector-Batch1.GSE149420.Homo_Sapiens.H3K4me3.b1.macs2_peaks.narrowPeak_Q0.01filt\n",
      "results/peaks/chipline_v2/THP-1-Vector-Batch2.GSE149420.Homo_Sapiens.H3K4me3.b1/MACS2_Ext_*/THP-1-Vector-Batch2.GSE149420.Homo_Sapiens.H3K4me3.b1.macs2_peaks.narrowPeak_Q0.01filt\n",
      "results/peaks/chipline_v2/THP-1-WT-Batch1.GSE149420.Homo_Sapiens.H3K4me3.b1/MACS2_Ext_*/THP-1-WT-Batch1.GSE149420.Homo_Sapiens.H3K4me3.b1.macs2_peaks.narrowPeak_Q0.01filt\n",
      "results/peaks/chipline_v2/THP-1-WT-Batch1.GSE149420.Homo_Sapiens.H3K4me3.b1/MACS2_Ext_*/THP-1-WT-Batch1.GSE149420.Homo_Sapiens.H3K4me3.b1.macs2_peaks.narrowPeak_Q0.01filt\n",
      "results/peaks/chipline_v2/THP-1-WT-Batch2.GSE149420.Homo_Sapiens.H3K4me3.b1/MACS2_Ext_*/THP-1-WT-Batch2.GSE149420.Homo_Sapiens.H3K4me3.b1.macs2_peaks.narrowPeak_Q0.01filt\n",
      "results/peaks/chipline_v2/H2171.GSE151002.Homo_Sapiens.H3K27ac.b1/MACS2_Ext_*/H2171.GSE151002.Homo_Sapiens.H3K27ac.b1.macs2_peaks.narrowPeak_Q0.01filt\n",
      "results/peaks/chipline_v2/H524.GSE151002.Homo_Sapiens.H3K27ac.b1/MACS2_Ext_*/H524.GSE151002.Homo_Sapiens.H3K27ac.b1.macs2_peaks.narrowPeak_Q0.01filt\n",
      "results/peaks/chipline_v2/H69.GSE151002.Homo_Sapiens.H3K27ac.b1/MACS2_Ext_*/H69.GSE151002.Homo_Sapiens.H3K27ac.b1.macs2_peaks.narrowPeak_Q0.01filt\n",
      "results/peaks/chipline_v2/Aortic-VIC.GSE154513.Homo_Sapiens.H3K27ac.b1/MACS2_Ext_*/Aortic-VIC.GSE154513.Homo_Sapiens.H3K27ac.b1.macs2_peaks.narrowPeak_Q0.01filt\n",
      "results/peaks/chipline_v2/A673-siCT-Dh1-72h-D347-D362.GSE156649.Homo_Sapiens.CTCF.b1/MACS2_Ext_*/A673-siCT-Dh1-72h-D347-D362.GSE156649.Homo_Sapiens.CTCF.b1.macs2_peaks.narrowPeak_Q0.01filt\n",
      "results/peaks/chipline_v2/A673-siCT-Dh1-72h-D347-D362.GSE156649.Homo_Sapiens.CTCF.b1/MACS2_Ext_*/A673-siCT-Dh1-72h-D347-D362.GSE156649.Homo_Sapiens.CTCF.b1.macs2_peaks.narrowPeak_Q0.01filt\n",
      "results/peaks/chipline_v2/A673-siCT-Dh1-72h-D347-D362.GSE156649.Homo_Sapiens.CTCF.b1/MACS2_Ext_*/A673-siCT-Dh1-72h-D347-D362.GSE156649.Homo_Sapiens.CTCF.b1.macs2_peaks.narrowPeak_Q0.01filt\n",
      "results/peaks/chipline_v2/A673-siCT-Dh1-72h-D347-D362.GSE156649.Homo_Sapiens.CTCF.b1/MACS2_Ext_*/A673-siCT-Dh1-72h-D347-D362.GSE156649.Homo_Sapiens.CTCF.b1.macs2_peaks.narrowPeak_Q0.01filt\n",
      "results/peaks/chipline_v2/A673-siCT-Dh1-72h-D347-D362.GSE156649.Homo_Sapiens.CTCF.b1/MACS2_Ext_*/A673-siCT-Dh1-72h-D347-D362.GSE156649.Homo_Sapiens.CTCF.b1.macs2_peaks.narrowPeak_Q0.01filt\n",
      "results/peaks/chipline_v2/A673-siCT-Dh1-72h-D347-D362.GSE156649.Homo_Sapiens.CTCF.b1/MACS2_Ext_*/A673-siCT-Dh1-72h-D347-D362.GSE156649.Homo_Sapiens.CTCF.b1.macs2_peaks.narrowPeak_Q0.01filt\n",
      "results/peaks/chipline_v2/A673-siSA2-Dh6-72h-D347-D362.GSE156649.Homo_Sapiens.CTCF.b1/MACS2_Ext_*/A673-siSA2-Dh6-72h-D347-D362.GSE156649.Homo_Sapiens.CTCF.b1.macs2_peaks.narrowPeak_Q0.01filt\n",
      "results/peaks/chipline_v2/A673-siSA2-Dh6-72h-D347-D362.GSE156649.Homo_Sapiens.CTCF.b1/MACS2_Ext_*/A673-siSA2-Dh6-72h-D347-D362.GSE156649.Homo_Sapiens.CTCF.b1.macs2_peaks.narrowPeak_Q0.01filt\n",
      "results/peaks/chipline_v2/A673-siSA2-Dh6-72h-D347-D362.GSE156649.Homo_Sapiens.CTCF.b1/MACS2_Ext_*/A673-siSA2-Dh6-72h-D347-D362.GSE156649.Homo_Sapiens.CTCF.b1.macs2_peaks.narrowPeak_Q0.01filt\n",
      "results/peaks/chipline_v2/A673-siSA2-Dh6-72h-D347-D362.GSE156649.Homo_Sapiens.CTCF.b1/MACS2_Ext_*/A673-siSA2-Dh6-72h-D347-D362.GSE156649.Homo_Sapiens.CTCF.b1.macs2_peaks.narrowPeak_Q0.01filt\n",
      "results/peaks/chipline_v2/A673-siSA2-Dh6-72h-D347-D362.GSE156649.Homo_Sapiens.CTCF.b1/MACS2_Ext_*/A673-siSA2-Dh6-72h-D347-D362.GSE156649.Homo_Sapiens.CTCF.b1.macs2_peaks.narrowPeak_Q0.01filt\n",
      "results/peaks/chipline_v2/A673-siSA2-Dh6-72h-D347-D362.GSE156649.Homo_Sapiens.CTCF.b1/MACS2_Ext_*/A673-siSA2-Dh6-72h-D347-D362.GSE156649.Homo_Sapiens.CTCF.b1.macs2_peaks.narrowPeak_Q0.01filt\n",
      "results/peaks/chipline_v2/A673-siSA2-Dh8-72h-D347-D362.GSE156649.Homo_Sapiens.CTCF.b1/MACS2_Ext_*/A673-siSA2-Dh8-72h-D347-D362.GSE156649.Homo_Sapiens.CTCF.b1.macs2_peaks.narrowPeak_Q0.01filt\n",
      "results/peaks/chipline_v2/A673-siSA2-Dh8-72h-D347-D362.GSE156649.Homo_Sapiens.CTCF.b1/MACS2_Ext_*/A673-siSA2-Dh8-72h-D347-D362.GSE156649.Homo_Sapiens.CTCF.b1.macs2_peaks.narrowPeak_Q0.01filt\n",
      "results/peaks/chipline_v2/A673-siSA2-Dh8-72h-D347-D362.GSE156649.Homo_Sapiens.CTCF.b1/MACS2_Ext_*/A673-siSA2-Dh8-72h-D347-D362.GSE156649.Homo_Sapiens.CTCF.b1.macs2_peaks.narrowPeak_Q0.01filt\n",
      "results/peaks/chipline_v2/A673-siSA2-Dh8-72h-D347-D362.GSE156649.Homo_Sapiens.CTCF.b1/MACS2_Ext_*/A673-siSA2-Dh8-72h-D347-D362.GSE156649.Homo_Sapiens.CTCF.b1.macs2_peaks.narrowPeak_Q0.01filt\n",
      "results/peaks/chipline_v2/VCAP-DHT-24hr.GSE157105.Homo_Sapiens.H3K27ac.b1/MACS2_Ext_*/VCAP-DHT-24hr.GSE157105.Homo_Sapiens.H3K27ac.b1.macs2_peaks.narrowPeak_Q0.01filt\n",
      "results/peaks/chipline_v2/VCAP-DHT-2hr.GSE157105.Homo_Sapiens.H3K27ac.b1/MACS2_Ext_*/VCAP-DHT-2hr.GSE157105.Homo_Sapiens.H3K27ac.b1.macs2_peaks.narrowPeak_Q0.01filt\n",
      "results/peaks/chipline_v2/VCAP-Veh.GSE157105.Homo_Sapiens.H3K27ac.b1/MACS2_Ext_*/VCAP-Veh.GSE157105.Homo_Sapiens.H3K27ac.b1.macs2_peaks.narrowPeak_Q0.01filt\n",
      "results/peaks/chipline_v2/MCF7-Abemaciclib.GSE157222.Homo_Sapiens.H3K27ac.b1/MACS2_Ext_*/MCF7-Abemaciclib.GSE157222.Homo_Sapiens.H3K27ac.b1.macs2_peaks.narrowPeak_Q0.01filt\n",
      "results/peaks/chipline_v2/MCF7-DMSO.GSE157222.Homo_Sapiens.H3K27ac.b1/MACS2_Ext_*/MCF7-DMSO.GSE157222.Homo_Sapiens.H3K27ac.b1.macs2_peaks.narrowPeak_Q0.01filt\n",
      "results/peaks/chipline_v2/MDA-MB-453-Abemaciclib.GSE157222.Homo_Sapiens.H3K27ac.b1/MACS2_Ext_*/MDA-MB-453-Abemaciclib.GSE157222.Homo_Sapiens.H3K27ac.b1.macs2_peaks.narrowPeak_Q0.01filt\n",
      "results/peaks/chipline_v2/MDA-MB-453-DMSO.GSE157222.Homo_Sapiens.H3K27ac.b1/MACS2_Ext_*/MDA-MB-453-DMSO.GSE157222.Homo_Sapiens.H3K27ac.b1.macs2_peaks.narrowPeak_Q0.01filt\n",
      "results/peaks/chipline_v2/COLO320-DM.GSE159972.Homo_Sapiens.H3K27ac.b1/MACS2_Ext_*/COLO320-DM.GSE159972.Homo_Sapiens.H3K27ac.b1.macs2_peaks.narrowPeak_Q0.01filt\n",
      "results/peaks/chipline_v2/SNU16.GSE159972.Homo_Sapiens.H3K27ac.b1/MACS2_Ext_*/SNU16.GSE159972.Homo_Sapiens.H3K27ac.b1.macs2_peaks.narrowPeak_Q0.01filt\n"
     ]
    },
    {
     "name": "stdout",
     "output_type": "stream",
     "text": [
      "results/peaks/chipline_v2/CD34+-Cord-Blood.GSE107147.Homo_Sapiens.H3K27ac.b1/MACS2_Ext_*/CD34+-Cord-Blood.GSE107147.Homo_Sapiens.H3K27ac.b1.macs2_peaks.narrowPeak_Q0.01filt\n",
      "results/peaks/chipline_v2/DCM_1.GSE165303.Homo_Sapiens.H3K27ac.b1/MACS2_Ext_*/DCM_1.GSE165303.Homo_Sapiens.H3K27ac.b1.macs2_peaks.narrowPeak_Q0.01filt\n",
      "results/peaks/chipline_v2/DCM_10.GSE165303.Homo_Sapiens.H3K27ac.b1/MACS2_Ext_*/DCM_10.GSE165303.Homo_Sapiens.H3K27ac.b1.macs2_peaks.narrowPeak_Q0.01filt\n",
      "results/peaks/chipline_v2/DCM_2.GSE165303.Homo_Sapiens.H3K27ac.b1/MACS2_Ext_*/DCM_2.GSE165303.Homo_Sapiens.H3K27ac.b1.macs2_peaks.narrowPeak_Q0.01filt\n",
      "results/peaks/chipline_v2/DCM_3.GSE165303.Homo_Sapiens.H3K27ac.b1/MACS2_Ext_*/DCM_3.GSE165303.Homo_Sapiens.H3K27ac.b1.macs2_peaks.narrowPeak_Q0.01filt\n",
      "results/peaks/chipline_v2/DCM_4.GSE165303.Homo_Sapiens.H3K27ac.b1/MACS2_Ext_*/DCM_4.GSE165303.Homo_Sapiens.H3K27ac.b1.macs2_peaks.narrowPeak_Q0.01filt\n",
      "results/peaks/chipline_v2/DCM_5.GSE165303.Homo_Sapiens.H3K27ac.b1/MACS2_Ext_*/DCM_5.GSE165303.Homo_Sapiens.H3K27ac.b1.macs2_peaks.narrowPeak_Q0.01filt\n",
      "results/peaks/chipline_v2/DCM_6.GSE165303.Homo_Sapiens.H3K27ac.b1/MACS2_Ext_*/DCM_6.GSE165303.Homo_Sapiens.H3K27ac.b1.macs2_peaks.narrowPeak_Q0.01filt\n",
      "results/peaks/chipline_v2/DCM_7.GSE165303.Homo_Sapiens.H3K27ac.b1/MACS2_Ext_*/DCM_7.GSE165303.Homo_Sapiens.H3K27ac.b1.macs2_peaks.narrowPeak_Q0.01filt\n",
      "results/peaks/chipline_v2/DCM_8.GSE165303.Homo_Sapiens.H3K27ac.b1/MACS2_Ext_*/DCM_8.GSE165303.Homo_Sapiens.H3K27ac.b1.macs2_peaks.narrowPeak_Q0.01filt\n",
      "results/peaks/chipline_v2/DCM_9.GSE165303.Homo_Sapiens.H3K27ac.b1/MACS2_Ext_*/DCM_9.GSE165303.Homo_Sapiens.H3K27ac.b1.macs2_peaks.narrowPeak_Q0.01filt\n",
      "results/peaks/chipline_v2/hCM-Ctrl.GSE165303.Homo_Sapiens.H3K27ac.b1/MACS2_Ext_*/hCM-Ctrl.GSE165303.Homo_Sapiens.H3K27ac.b1.macs2_peaks.narrowPeak_Q0.01filt\n",
      "results/peaks/chipline_v2/hCM-HAND1OE.GSE165303.Homo_Sapiens.H3K27ac.b1/MACS2_Ext_*/hCM-HAND1OE.GSE165303.Homo_Sapiens.H3K27ac.b1.macs2_peaks.narrowPeak_Q0.01filt\n",
      "results/peaks/chipline_v2/NF_1.GSE165303.Homo_Sapiens.H3K27ac.b1/MACS2_Ext_*/NF_1.GSE165303.Homo_Sapiens.H3K27ac.b1.macs2_peaks.narrowPeak_Q0.01filt\n",
      "results/peaks/chipline_v2/NF_10.GSE165303.Homo_Sapiens.H3K27ac.b1/MACS2_Ext_*/NF_10.GSE165303.Homo_Sapiens.H3K27ac.b1.macs2_peaks.narrowPeak_Q0.01filt\n",
      "results/peaks/chipline_v2/NF_2.GSE165303.Homo_Sapiens.H3K27ac.b1/MACS2_Ext_*/NF_2.GSE165303.Homo_Sapiens.H3K27ac.b1.macs2_peaks.narrowPeak_Q0.01filt\n",
      "results/peaks/chipline_v2/NF_3.GSE165303.Homo_Sapiens.H3K27ac.b1/MACS2_Ext_*/NF_3.GSE165303.Homo_Sapiens.H3K27ac.b1.macs2_peaks.narrowPeak_Q0.01filt\n",
      "results/peaks/chipline_v2/NF_4.GSE165303.Homo_Sapiens.H3K27ac.b1/MACS2_Ext_*/NF_4.GSE165303.Homo_Sapiens.H3K27ac.b1.macs2_peaks.narrowPeak_Q0.01filt\n",
      "results/peaks/chipline_v2/NF_5.GSE165303.Homo_Sapiens.H3K27ac.b1/MACS2_Ext_*/NF_5.GSE165303.Homo_Sapiens.H3K27ac.b1.macs2_peaks.narrowPeak_Q0.01filt\n",
      "results/peaks/chipline_v2/NF_6.GSE165303.Homo_Sapiens.H3K27ac.b1/MACS2_Ext_*/NF_6.GSE165303.Homo_Sapiens.H3K27ac.b1.macs2_peaks.narrowPeak_Q0.01filt\n",
      "results/peaks/chipline_v2/NF_7.GSE165303.Homo_Sapiens.H3K27ac.b1/MACS2_Ext_*/NF_7.GSE165303.Homo_Sapiens.H3K27ac.b1.macs2_peaks.narrowPeak_Q0.01filt\n",
      "results/peaks/chipline_v2/NF_8.GSE165303.Homo_Sapiens.H3K27ac.b1/MACS2_Ext_*/NF_8.GSE165303.Homo_Sapiens.H3K27ac.b1.macs2_peaks.narrowPeak_Q0.01filt\n",
      "results/peaks/chipline_v2/NF_9.GSE165303.Homo_Sapiens.H3K27ac.b1/MACS2_Ext_*/NF_9.GSE165303.Homo_Sapiens.H3K27ac.b1.macs2_peaks.narrowPeak_Q0.01filt\n",
      "results/peaks/chipline_v2/KYSE140.GSE166234.Homo_Sapiens.H3K27ac.b1/MACS2_Ext_*/KYSE140.GSE166234.Homo_Sapiens.H3K27ac.b1.macs2_peaks.narrowPeak_Q0.01filt\n",
      "results/peaks/chipline_v2/KYSE140.GSE166234.Homo_Sapiens.H3K27ac.b1/MACS2_Ext_*/KYSE140.GSE166234.Homo_Sapiens.H3K27ac.b1.macs2_peaks.narrowPeak_Q0.01filt\n",
      "results/peaks/chipline_v2/KYSE140_ARV2hrs.GSE166234.Homo_Sapiens.H3K27ac.b1/MACS2_Ext_*/KYSE140_ARV2hrs.GSE166234.Homo_Sapiens.H3K27ac.b1.macs2_peaks.narrowPeak_Q0.01filt\n",
      "results/peaks/chipline_v2/KYSE140_ARV2hrs.GSE166234.Homo_Sapiens.H3K27ac.b1/MACS2_Ext_*/KYSE140_ARV2hrs.GSE166234.Homo_Sapiens.H3K27ac.b1.macs2_peaks.narrowPeak_Q0.01filt\n",
      "results/peaks/chipline_v2/KYSE140_DMSO2hrs.GSE166234.Homo_Sapiens.H3K27ac.b1/MACS2_Ext_*/KYSE140_DMSO2hrs.GSE166234.Homo_Sapiens.H3K27ac.b1.macs2_peaks.narrowPeak_Q0.01filt\n",
      "results/peaks/chipline_v2/KYSE140_DMSO2hrs.GSE166234.Homo_Sapiens.H3K27ac.b1/MACS2_Ext_*/KYSE140_DMSO2hrs.GSE166234.Homo_Sapiens.H3K27ac.b1.macs2_peaks.narrowPeak_Q0.01filt\n",
      "results/peaks/chipline_v2/MB157-pInd20EBF1-10dox.GSE173842.Homo_Sapiens.SMC1A.b1/MACS2_Ext_*/MB157-pInd20EBF1-10dox.GSE173842.Homo_Sapiens.SMC1A.b1.macs2_peaks.narrowPeak_Q0.01filt\n",
      "results/peaks/chipline_v2/MB157-pInd20TCF1-10dox.GSE173842.Homo_Sapiens.SMC1A.b1/MACS2_Ext_*/MB157-pInd20TCF1-10dox.GSE173842.Homo_Sapiens.SMC1A.b1.macs2_peaks.narrowPeak_Q0.01filt\n",
      "results/peaks/chipline_v2/HCT116-AuxinNeg.GSE179545.Homo_Sapiens.RNA-Pol-II.b1/MACS2_Ext_*/HCT116-AuxinNeg.GSE179545.Homo_Sapiens.RNA-Pol-II.b1.macs2_peaks.narrowPeak_Q0.01filt\n",
      "results/peaks/chipline_v2/HCT116-AuxinNeg.GSE179545.Homo_Sapiens.RNA-Pol-II.b1/MACS2_Ext_*/HCT116-AuxinNeg.GSE179545.Homo_Sapiens.RNA-Pol-II.b1.macs2_peaks.narrowPeak_Q0.01filt\n",
      "results/peaks/chipline_v2/HCT116-AuxinPos.GSE179545.Homo_Sapiens.RNA-Pol-II.b1/MACS2_Ext_*/HCT116-AuxinPos.GSE179545.Homo_Sapiens.RNA-Pol-II.b1.macs2_peaks.narrowPeak_Q0.01filt\n",
      "results/peaks/chipline_v2/HCT116-AuxinPos.GSE179545.Homo_Sapiens.RNA-Pol-II.b1/MACS2_Ext_*/HCT116-AuxinPos.GSE179545.Homo_Sapiens.RNA-Pol-II.b1.macs2_peaks.narrowPeak_Q0.01filt\n",
      "results/peaks/chipline_v2/T47D-T0.GSE179666.Homo_Sapiens.PGR.b1/MACS2_Ext_*/T47D-T0.GSE179666.Homo_Sapiens.PGR.b1.macs2_peaks.narrowPeak_Q0.01filt\n",
      "results/peaks/chipline_v2/DTC1-WT.GSE180198.Homo_Sapiens.H3K27ac.b1/MACS2_Ext_*/DTC1-WT.GSE180198.Homo_Sapiens.H3K27ac.b1.macs2_peaks.narrowPeak_Q0.01filt\n",
      "results/peaks/chipline_v2/SUCCS1-siEA.GSE180198.Homo_Sapiens.H3K27ac.b1/MACS2_Ext_*/SUCCS1-siEA.GSE180198.Homo_Sapiens.H3K27ac.b1.macs2_peaks.narrowPeak_Q0.01filt\n",
      "results/peaks/chipline_v2/SUCCS1-WT.GSE180198.Homo_Sapiens.H3K27ac.b1/MACS2_Ext_*/SUCCS1-WT.GSE180198.Homo_Sapiens.H3K27ac.b1.macs2_peaks.narrowPeak_Q0.01filt\n",
      "results/peaks/chipline_v2/MDA-MB-231-PVT1sgRNAR2.GSE97584.Homo_Sapiens.H3K27ac.b1/MACS2_Ext_*/MDA-MB-231-PVT1sgRNAR2.GSE97584.Homo_Sapiens.H3K27ac.b1.macs2_peaks.narrowPeak_Q0.01filt\n",
      "results/peaks/chipline_v2/MDA-MB-231-PVT1sgRNAR2.GSE97584.Homo_Sapiens.H3K27ac.b1/MACS2_Ext_*/MDA-MB-231-PVT1sgRNAR2.GSE97584.Homo_Sapiens.H3K27ac.b1.macs2_peaks.narrowPeak_Q0.01filt\n",
      "results/peaks/chipline_v2/MDA-MB-231-PVT1sgRNAR3.GSE97584.Homo_Sapiens.H3K27ac.b1/MACS2_Ext_*/MDA-MB-231-PVT1sgRNAR3.GSE97584.Homo_Sapiens.H3K27ac.b1.macs2_peaks.narrowPeak_Q0.01filt\n",
      "results/peaks/chipline_v2/MDA-MB-231-PVT1sgRNAR3.GSE97584.Homo_Sapiens.H3K27ac.b1/MACS2_Ext_*/MDA-MB-231-PVT1sgRNAR3.GSE97584.Homo_Sapiens.H3K27ac.b1.macs2_peaks.narrowPeak_Q0.01filt\n",
      "results/peaks/chipline_v2/MDA-MB-231-sgRNA-Ctrl.GSE97584.Homo_Sapiens.H3K27ac.b1/MACS2_Ext_*/MDA-MB-231-sgRNA-Ctrl.GSE97584.Homo_Sapiens.H3K27ac.b1.macs2_peaks.narrowPeak_Q0.01filt\n",
      "results/peaks/chipline_v2/MDA-MB-231-sgRNA-Ctrl.GSE97584.Homo_Sapiens.H3K27ac.b1/MACS2_Ext_*/MDA-MB-231-sgRNA-Ctrl.GSE97584.Homo_Sapiens.H3K27ac.b1.macs2_peaks.narrowPeak_Q0.01filt\n",
      "results/peaks/chipline_v2/Jurkat.GSE99518.Homo_Sapiens.YY1.b1/MACS2_Ext_*/Jurkat.GSE99518.Homo_Sapiens.YY1.b1.macs2_peaks.narrowPeak_Q0.01filt\n",
      "results/peaks/chipline_v2/Jurkat.GSE99518.Homo_Sapiens.YY1.b1/MACS2_Ext_*/Jurkat.GSE99518.Homo_Sapiens.YY1.b1.macs2_peaks.narrowPeak_Q0.01filt\n",
      "results/peaks/chipline_v2/MLL_AF9.GSE110896.Mus_Musculus.H3K27ac.b1/MACS2_Ext_*/MLL_AF9.GSE110896.Mus_Musculus.H3K27ac.b1.macs2_peaks.narrowPeak_Q0.01filt\n",
      "results/peaks/chipline_v2/MLL_AF9_LSD1i.GSE110896.Mus_Musculus.H3K27ac.b1/MACS2_Ext_*/MLL_AF9_LSD1i.GSE110896.Mus_Musculus.H3K27ac.b1.macs2_peaks.narrowPeak_Q0.01filt\n",
      "results/peaks/chipline_v2/EryD.GSE112717.Mus_Musculus.Gata1.b1/MACS2_Ext_*/EryD.GSE112717.Mus_Musculus.Gata1.b1.macs2_peaks.narrowPeak_Q0.01filt\n",
      "results/peaks/chipline_v2/EryD.GSE112717.Mus_Musculus.Gata1.b1/MACS2_Ext_*/EryD.GSE112717.Mus_Musculus.Gata1.b1.macs2_peaks.narrowPeak_Q0.01filt\n",
      "results/peaks/chipline_v2/EryP.GSE112717.Mus_Musculus.Gata1.b1/MACS2_Ext_*/EryP.GSE112717.Mus_Musculus.Gata1.b1.macs2_peaks.narrowPeak_Q0.01filt\n",
      "results/peaks/chipline_v2/EryP.GSE112717.Mus_Musculus.Gata1.b1/MACS2_Ext_*/EryP.GSE112717.Mus_Musculus.Gata1.b1.macs2_peaks.narrowPeak_Q0.01filt\n",
      "results/peaks/chipline_v2/ES.GSE113429.Mus_Musculus.H3K27ac.b1/MACS2_Ext_*/ES.GSE113429.Mus_Musculus.H3K27ac.b1.macs2_peaks.narrowPeak_Q0.01filt\n",
      "results/peaks/chipline_v2/ES.GSE113429.Mus_Musculus.H3K27ac.b1/MACS2_Ext_*/ES.GSE113429.Mus_Musculus.H3K27ac.b1.macs2_peaks.narrowPeak_Q0.01filt\n",
      "results/peaks/chipline_v2/ES.GSE113429.Mus_Musculus.H3K27ac.b1/MACS2_Ext_*/ES.GSE113429.Mus_Musculus.H3K27ac.b1.macs2_peaks.narrowPeak_Q0.01filt\n",
      "results/peaks/chipline_v2/ES.GSE113429.Mus_Musculus.H3K27ac.b1/MACS2_Ext_*/ES.GSE113429.Mus_Musculus.H3K27ac.b1.macs2_peaks.narrowPeak_Q0.01filt\n",
      "results/peaks/chipline_v2/MEF.GSE113429.Mus_Musculus.H3K27ac.b1/MACS2_Ext_*/MEF.GSE113429.Mus_Musculus.H3K27ac.b1.macs2_peaks.narrowPeak_Q0.01filt\n",
      "results/peaks/chipline_v2/MEF.GSE113429.Mus_Musculus.H3K27ac.b1/MACS2_Ext_*/MEF.GSE113429.Mus_Musculus.H3K27ac.b1.macs2_peaks.narrowPeak_Q0.01filt\n",
      "results/peaks/chipline_v2/D3.GSE113429.Mus_Musculus.KLF4.b1/MACS2_Ext_*/D3.GSE113429.Mus_Musculus.KLF4.b1.macs2_peaks.narrowPeak_Q0.01filt\n",
      "results/peaks/chipline_v2/D3.GSE113429.Mus_Musculus.KLF4.b1/MACS2_Ext_*/D3.GSE113429.Mus_Musculus.KLF4.b1.macs2_peaks.narrowPeak_Q0.01filt\n",
      "results/peaks/chipline_v2/D3.GSE113429.Mus_Musculus.KLF4.b1/MACS2_Ext_*/D3.GSE113429.Mus_Musculus.KLF4.b1.macs2_peaks.narrowPeak_Q0.01filt\n",
      "results/peaks/chipline_v2/D6.GSE113429.Mus_Musculus.KLF4.b1/MACS2_Ext_*/D6.GSE113429.Mus_Musculus.KLF4.b1.macs2_peaks.narrowPeak_Q0.01filt\n",
      "results/peaks/chipline_v2/D6.GSE113429.Mus_Musculus.KLF4.b1/MACS2_Ext_*/D6.GSE113429.Mus_Musculus.KLF4.b1.macs2_peaks.narrowPeak_Q0.01filt\n",
      "results/peaks/chipline_v2/D6.GSE113429.Mus_Musculus.KLF4.b1/MACS2_Ext_*/D6.GSE113429.Mus_Musculus.KLF4.b1.macs2_peaks.narrowPeak_Q0.01filt\n",
      "results/peaks/chipline_v2/D6.GSE113429.Mus_Musculus.KLF4.b1/MACS2_Ext_*/D6.GSE113429.Mus_Musculus.KLF4.b1.macs2_peaks.narrowPeak_Q0.01filt\n",
      "results/peaks/chipline_v2/D6.GSE113429.Mus_Musculus.KLF4.b1/MACS2_Ext_*/D6.GSE113429.Mus_Musculus.KLF4.b1.macs2_peaks.narrowPeak_Q0.01filt\n",
      "results/peaks/chipline_v2/D6.GSE113429.Mus_Musculus.KLF4.b1/MACS2_Ext_*/D6.GSE113429.Mus_Musculus.KLF4.b1.macs2_peaks.narrowPeak_Q0.01filt\n",
      "results/peaks/chipline_v2/D6.GSE113429.Mus_Musculus.KLF4.b1/MACS2_Ext_*/D6.GSE113429.Mus_Musculus.KLF4.b1.macs2_peaks.narrowPeak_Q0.01filt\n",
      "results/peaks/chipline_v2/D6.GSE113429.Mus_Musculus.KLF4.b1/MACS2_Ext_*/D6.GSE113429.Mus_Musculus.KLF4.b1.macs2_peaks.narrowPeak_Q0.01filt\n",
      "results/peaks/chipline_v2/ES.GSE113429.Mus_Musculus.KLF4.b1/MACS2_Ext_*/ES.GSE113429.Mus_Musculus.KLF4.b1.macs2_peaks.narrowPeak_Q0.01filt\n",
      "results/peaks/chipline_v2/ES.GSE113429.Mus_Musculus.KLF4.b1/MACS2_Ext_*/ES.GSE113429.Mus_Musculus.KLF4.b1.macs2_peaks.narrowPeak_Q0.01filt\n",
      "results/peaks/chipline_v2/ES.GSE113429.Mus_Musculus.KLF4.b1/MACS2_Ext_*/ES.GSE113429.Mus_Musculus.KLF4.b1.macs2_peaks.narrowPeak_Q0.01filt\n",
      "results/peaks/chipline_v2/ES.GSE113429.Mus_Musculus.KLF4.b1/MACS2_Ext_*/ES.GSE113429.Mus_Musculus.KLF4.b1.macs2_peaks.narrowPeak_Q0.01filt\n",
      "results/peaks/chipline_v2/ES.GSE113429.Mus_Musculus.KLF4.b1/MACS2_Ext_*/ES.GSE113429.Mus_Musculus.KLF4.b1.macs2_peaks.narrowPeak_Q0.01filt\n",
      "results/peaks/chipline_v2/ES.GSE113429.Mus_Musculus.KLF4.b1/MACS2_Ext_*/ES.GSE113429.Mus_Musculus.KLF4.b1.macs2_peaks.narrowPeak_Q0.01filt\n",
      "results/peaks/chipline_v2/ES.GSE113429.Mus_Musculus.KLF4.b1/MACS2_Ext_*/ES.GSE113429.Mus_Musculus.KLF4.b1.macs2_peaks.narrowPeak_Q0.01filt\n",
      "results/peaks/chipline_v2/ES.GSE113429.Mus_Musculus.KLF4.b1/MACS2_Ext_*/ES.GSE113429.Mus_Musculus.KLF4.b1.macs2_peaks.narrowPeak_Q0.01filt\n",
      "results/peaks/chipline_v2/AML12_shCtrl.GSE141104.Mus_Musculus.H3K9me3.b1/MACS2_Ext_*/AML12_shCtrl.GSE141104.Mus_Musculus.H3K9me3.b1.macs2_peaks.narrowPeak_Q0.01filt\n",
      "results/peaks/chipline_v2/AML12_shCtrl.GSE141104.Mus_Musculus.H3K9me3.b1/MACS2_Ext_*/AML12_shCtrl.GSE141104.Mus_Musculus.H3K9me3.b1.macs2_peaks.narrowPeak_Q0.01filt\n",
      "results/peaks/chipline_v2/AML12_shCtrl.GSE141104.Mus_Musculus.H3K9me3.b1/MACS2_Ext_*/AML12_shCtrl.GSE141104.Mus_Musculus.H3K9me3.b1.macs2_peaks.narrowPeak_Q0.01filt\n",
      "results/peaks/chipline_v2/AML12_shCtrl.GSE141104.Mus_Musculus.H3K9me3.b1/MACS2_Ext_*/AML12_shCtrl.GSE141104.Mus_Musculus.H3K9me3.b1.macs2_peaks.narrowPeak_Q0.01filt\n",
      "results/peaks/chipline_v2/AML12_shSafb.GSE141104.Mus_Musculus.H3K9me3.b1/MACS2_Ext_*/AML12_shSafb.GSE141104.Mus_Musculus.H3K9me3.b1.macs2_peaks.narrowPeak_Q0.01filt\n",
      "results/peaks/chipline_v2/AML12_shSafb.GSE141104.Mus_Musculus.H3K9me3.b1/MACS2_Ext_*/AML12_shSafb.GSE141104.Mus_Musculus.H3K9me3.b1.macs2_peaks.narrowPeak_Q0.01filt\n",
      "results/peaks/chipline_v2/AML12_shSafb.GSE141104.Mus_Musculus.H3K9me3.b1/MACS2_Ext_*/AML12_shSafb.GSE141104.Mus_Musculus.H3K9me3.b1.macs2_peaks.narrowPeak_Q0.01filt\n",
      "results/peaks/chipline_v2/AML12_shSafb.GSE141104.Mus_Musculus.H3K9me3.b1/MACS2_Ext_*/AML12_shSafb.GSE141104.Mus_Musculus.H3K9me3.b1.macs2_peaks.narrowPeak_Q0.01filt\n",
      "results/peaks/chipline_v2/BL6_CD4_CD8.GSE141847.Mus_Musculus.H3K27ac.b1/MACS2_Ext_*/BL6_CD4_CD8.GSE141847.Mus_Musculus.H3K27ac.b1.macs2_peaks.narrowPeak_Q0.01filt\n",
      "results/peaks/chipline_v2/BL6_CD4_CD8.GSE141847.Mus_Musculus.H3K27ac.b1/MACS2_Ext_*/BL6_CD4_CD8.GSE141847.Mus_Musculus.H3K27ac.b1.macs2_peaks.narrowPeak_Q0.01filt\n",
      "results/peaks/chipline_v2/NOD_CD4_CD8.GSE141847.Mus_Musculus.H3K27ac.b1/MACS2_Ext_*/NOD_CD4_CD8.GSE141847.Mus_Musculus.H3K27ac.b1.macs2_peaks.narrowPeak_Q0.01filt\n",
      "results/peaks/chipline_v2/NOD_CD4_CD8.GSE141847.Mus_Musculus.H3K27ac.b1/MACS2_Ext_*/NOD_CD4_CD8.GSE141847.Mus_Musculus.H3K27ac.b1.macs2_peaks.narrowPeak_Q0.01filt\n",
      "results/peaks/chipline_v2/BL6_CD4_CD8.GSE141847.Mus_Musculus.SMC1A.b1/MACS2_Ext_*/BL6_CD4_CD8.GSE141847.Mus_Musculus.SMC1A.b1.macs2_peaks.narrowPeak_Q0.01filt\n",
      "results/peaks/chipline_v2/BL6_CD4_CD8.GSE141847.Mus_Musculus.SMC1A.b1/MACS2_Ext_*/BL6_CD4_CD8.GSE141847.Mus_Musculus.SMC1A.b1.macs2_peaks.narrowPeak_Q0.01filt\n",
      "results/peaks/chipline_v2/BL6_CD4_CD8.GSE141847.Mus_Musculus.SMC1A.b1/MACS2_Ext_*/BL6_CD4_CD8.GSE141847.Mus_Musculus.SMC1A.b1.macs2_peaks.narrowPeak_Q0.01filt\n",
      "results/peaks/chipline_v2/F1_CD4_CD8.GSE141847.Mus_Musculus.SMC1A.b1/MACS2_Ext_*/F1_CD4_CD8.GSE141847.Mus_Musculus.SMC1A.b1.macs2_peaks.narrowPeak_Q0.01filt\n",
      "results/peaks/chipline_v2/NOD_CD4_CD8.GSE141847.Mus_Musculus.SMC1A.b1/MACS2_Ext_*/NOD_CD4_CD8.GSE141847.Mus_Musculus.SMC1A.b1.macs2_peaks.narrowPeak_Q0.01filt\n",
      "results/peaks/chipline_v2/NOD_CD4_CD8.GSE141847.Mus_Musculus.SMC1A.b1/MACS2_Ext_*/NOD_CD4_CD8.GSE141847.Mus_Musculus.SMC1A.b1.macs2_peaks.narrowPeak_Q0.01filt\n",
      "results/peaks/chipline_v2/Erythroid_0hr.GSE142003.Mus_Musculus.YY1.b1/MACS2_Ext_*/Erythroid_0hr.GSE142003.Mus_Musculus.YY1.b1.macs2_peaks.narrowPeak_Q0.01filt\n",
      "results/peaks/chipline_v2/Erythroid_0hr.GSE142003.Mus_Musculus.YY1.b1/MACS2_Ext_*/Erythroid_0hr.GSE142003.Mus_Musculus.YY1.b1.macs2_peaks.narrowPeak_Q0.01filt\n",
      "results/peaks/chipline_v2/Erythroid_1hr.GSE142003.Mus_Musculus.YY1.b1/MACS2_Ext_*/Erythroid_1hr.GSE142003.Mus_Musculus.YY1.b1.macs2_peaks.narrowPeak_Q0.01filt\n",
      "results/peaks/chipline_v2/Erythroid_1hr.GSE142003.Mus_Musculus.YY1.b1/MACS2_Ext_*/Erythroid_1hr.GSE142003.Mus_Musculus.YY1.b1.macs2_peaks.narrowPeak_Q0.01filt\n",
      "results/peaks/chipline_v2/mESC_WT.GSE147919.Mus_Musculus.RYBP.b1/MACS2_Ext_*/mESC_WT.GSE147919.Mus_Musculus.RYBP.b1.macs2_peaks.narrowPeak_Q0.01filt\n",
      "results/peaks/chipline_v2/mESC_WT.GSE147919.Mus_Musculus.RYBP.b1/MACS2_Ext_*/mESC_WT.GSE147919.Mus_Musculus.RYBP.b1.macs2_peaks.narrowPeak_Q0.01filt\n",
      "results/peaks/chipline_v2/mESC_WT.GSE147919.Mus_Musculus.RYBP.b1/MACS2_Ext_*/mESC_WT.GSE147919.Mus_Musculus.RYBP.b1.macs2_peaks.narrowPeak_Q0.01filt\n",
      "results/peaks/chipline_v2/mESC_WT.GSE147919.Mus_Musculus.RYBP.b1/MACS2_Ext_*/mESC_WT.GSE147919.Mus_Musculus.RYBP.b1.macs2_peaks.narrowPeak_Q0.01filt\n",
      "results/peaks/chipline_v2/BMDM_24hIL4.GSE159627.Mus_Musculus.H3K4me3.b1/MACS2_Ext_*/BMDM_24hIL4.GSE159627.Mus_Musculus.H3K4me3.b1.macs2_peaks.narrowPeak_Q0.01filt\n",
      "results/peaks/chipline_v2/BMDM_24hIL4.GSE159627.Mus_Musculus.H3K4me3.b1/MACS2_Ext_*/BMDM_24hIL4.GSE159627.Mus_Musculus.H3K4me3.b1.macs2_peaks.narrowPeak_Q0.01filt\n",
      "results/peaks/chipline_v2/BMDM_Basal.GSE159627.Mus_Musculus.H3K4me3.b1/MACS2_Ext_*/BMDM_Basal.GSE159627.Mus_Musculus.H3K4me3.b1.macs2_peaks.narrowPeak_Q0.01filt\n",
      "results/peaks/chipline_v2/BMDM_Basal.GSE159627.Mus_Musculus.H3K4me3.b1/MACS2_Ext_*/BMDM_Basal.GSE159627.Mus_Musculus.H3K4me3.b1.macs2_peaks.narrowPeak_Q0.01filt\n",
      "results/peaks/chipline_v2/3T3_Norm.GSE178346.Mus_Musculus.SMC1A.b1/MACS2_Ext_*/3T3_Norm.GSE178346.Mus_Musculus.SMC1A.b1.macs2_peaks.narrowPeak_Q0.01filt\n",
      "results/peaks/chipline_v2/3T3_TCF1.GSE178346.Mus_Musculus.SMC1A.b1/MACS2_Ext_*/3T3_TCF1.GSE178346.Mus_Musculus.SMC1A.b1.macs2_peaks.narrowPeak_Q0.01filt\n"
     ]
    }
   ],
   "source": [
    "mapper = data.copy()\n",
    "mapper.rename(columns={'Replicate Serial No': 'Rep No.'}, inplace=True)\n",
    "mapper.loc[:, 'Organism'] = mapper.loc[:, 'Organism'].str.replace(' ' , '_') \n",
    "mapper.loc[:, 'Rep No.'] = ['b{}'.format(x) for x in mapper.loc[:, 'Rep No.'].astype(int)]\n",
    "mapper.loc[:, 'chipseq_std_sample_name'] = mapper.apply(create_std_sample_name, axis=1)\n",
    "\n",
    "def get_chipseq_path(std_sample_name):\n",
    "    \n",
    "    res_dir = 'results/peaks/chipline_v2/'\n",
    "    sample_tmpl = os.path.join(res_dir, '{0}/MACS2_Ext_*/{0}.macs2_peaks.narrowPeak_Q0.01filt'.format(std_sample_name))\n",
    "    print(sample_tmpl)\n",
    "    peak_fns = glob.glob(sample_tmpl)\n",
    "    \n",
    "    if len(peak_fns) == 1:\n",
    "        return(peak_fns[0])\n",
    "    elif len(peak_fns) > 1:\n",
    "        return('Found multiple files')\n",
    "    else:\n",
    "        return('Could not find a matching file')\n",
    "\n",
    "mapper.loc[:, 'chipseq_path'] = mapper.loc[:, 'chipseq_std_sample_name'].apply(get_chipseq_path)\n",
    "fn = os.path.join(samplesheet_dir, 'chipseq.tracker.hichip_to_chipseq.paths_mapped.{}.tsv'.format(batch))\n",
    "mapper.to_csv(fn, sep='\\t', index=False, header=True)"
   ]
  },
  {
   "cell_type": "code",
   "execution_count": null,
   "id": "9d791cb3",
   "metadata": {},
   "outputs": [],
   "source": [
    "mapper"
   ]
  },
  {
   "cell_type": "code",
   "execution_count": null,
   "id": "b30a6239",
   "metadata": {},
   "outputs": [],
   "source": []
  },
  {
   "cell_type": "code",
   "execution_count": null,
   "id": "014040bc",
   "metadata": {},
   "outputs": [],
   "source": []
  },
  {
   "cell_type": "code",
   "execution_count": null,
   "id": "7e3d9d02",
   "metadata": {},
   "outputs": [],
   "source": []
  },
  {
   "cell_type": "code",
   "execution_count": null,
   "id": "6e240f40",
   "metadata": {},
   "outputs": [],
   "source": []
  }
 ],
 "metadata": {
  "kernelspec": {
   "display_name": "lc-pipelines",
   "language": "python",
   "name": "lc-pipelines"
  },
  "language_info": {
   "codemirror_mode": {
    "name": "ipython",
    "version": 3
   },
   "file_extension": ".py",
   "mimetype": "text/x-python",
   "name": "python",
   "nbconvert_exporter": "python",
   "pygments_lexer": "ipython3",
   "version": "3.12.0"
  }
 },
 "nbformat": 4,
 "nbformat_minor": 5
}
