{
 "cells": [
  {
   "cell_type": "code",
   "execution_count": 1,
   "id": "98ebfde9",
   "metadata": {},
   "outputs": [],
   "source": [
    "import os \n",
    "import glob\n",
    "import numpy as np \n",
    "import pandas as pd\n",
    "\n",
    "os.chdir('/mnt/BioAdHoc/Groups/vd-ay/hichip-db-loop-calling/')\n",
    "samplesheet_dir = 'results/samplesheets/chipseq/'\n",
    "batch = '2024-rerun-samples'\n",
    "\n",
    "rerun_samples = ['BMDC.GSE185880.Mus_Musculus.H3K27ac.b1',\n",
    "            'BMDC-JSH.GSE185880.Mus_Musculus.H3K27ac.b1',\n",
    "            'BMDC-JSH-JSH-LPS.GSE185880.Mus_Musculus.H3K27ac.b1',\n",
    "            'BMDC-LPS.GSE185880.Mus_Musculus.H3K27ac.b1',\n",
    "            'NK92.GSE227660.Homo_Sapiens.H3K27ac.b1',\n",
    "            'NK92-SAHA.GSE227660.Homo_Sapiens.H3K27ac.b1']\n",
    "\n",
    "rerun_names = ['BMDC', 'BMDC-JSH', 'BMDC-JSH-JSH-LPS', 'BMDC-LPS', 'NK92', 'NK92-SAHA']"
   ]
  },
  {
   "cell_type": "markdown",
   "id": "44401547",
   "metadata": {},
   "source": [
    "## Load the GSM Data"
   ]
  },
  {
   "cell_type": "code",
   "execution_count": 2,
   "id": "38ac0964",
   "metadata": {},
   "outputs": [],
   "source": [
    "fn = os.path.join(samplesheet_dir, 'ChIP-seq-Tracker-Batch2-8.16.22-10.23.23-Step0.HiChIP-to-ChIP-seq-Map.tsv')\n",
    "data = pd.read_table(fn, skiprows=1)\n",
    "data = data.loc[data['Has ChIP-seq?'] == 'Yes']\n",
    "\n",
    "# extracting missing samples\n",
    "data = data.loc[data['Sample Name'].isin(rerun_names)]"
   ]
  },
  {
   "cell_type": "code",
   "execution_count": 3,
   "id": "0e1b1dcd",
   "metadata": {},
   "outputs": [],
   "source": [
    "chipseq_gse_lists = data['GSM ID(s)'].dropna().tolist() + data['Control GSM(s)'].dropna().tolist()\n",
    "chipseq_gsms = []\n",
    "for gse_list in chipseq_gse_lists:\n",
    "    gsm_ids = [x.strip() for x in gse_list.split(',')]\n",
    "    chipseq_gsms.extend(gsm_ids)\n",
    "    \n",
    "chipseq_gsms = sorted(set(chipseq_gsms))"
   ]
  },
  {
   "cell_type": "code",
   "execution_count": 4,
   "id": "4f3adc1e",
   "metadata": {},
   "outputs": [],
   "source": [
    "data = data.loc[data['Has ChIP-seq?'] == 'Yes']"
   ]
  },
  {
   "cell_type": "code",
   "execution_count": 5,
   "id": "055ace60",
   "metadata": {},
   "outputs": [
    {
     "data": {
      "text/plain": [
       "(12, 15)"
      ]
     },
     "execution_count": 5,
     "metadata": {},
     "output_type": "execute_result"
    }
   ],
   "source": [
    "data.shape"
   ]
  },
  {
   "cell_type": "markdown",
   "id": "455de5d4",
   "metadata": {},
   "source": [
    "Query the below within the SRA Run Selector: https://www.ncbi.nlm.nih.gov/Traces/study/"
   ]
  },
  {
   "cell_type": "code",
   "execution_count": 6,
   "id": "d215341a",
   "metadata": {},
   "outputs": [
    {
     "data": {
      "text/plain": [
       "'GSM5625199,GSM5625200,GSM5625207,GSM5625208,GSM6620326,GSM6620327,GSM6620328,GSM6620329,GSM6620330,GSM6620331,GSM6620332,GSM6620333,GSM7104825,GSM7104826,GSM7104827,GSM7104830,GSM7104831'"
      ]
     },
     "execution_count": 6,
     "metadata": {},
     "output_type": "execute_result"
    }
   ],
   "source": [
    "','.join(chipseq_gsms)"
   ]
  },
  {
   "cell_type": "code",
   "execution_count": 7,
   "id": "489bc2ef",
   "metadata": {},
   "outputs": [
    {
     "data": {
      "text/plain": [
       "17"
      ]
     },
     "execution_count": 7,
     "metadata": {},
     "output_type": "execute_result"
    }
   ],
   "source": [
    "len(chipseq_gsms)"
   ]
  },
  {
   "cell_type": "markdown",
   "id": "e82b8d67",
   "metadata": {},
   "source": [
    "## Parse the Queried Data"
   ]
  },
  {
   "cell_type": "code",
   "execution_count": 8,
   "id": "2d5ddf48",
   "metadata": {},
   "outputs": [],
   "source": [
    "# load the data\n",
    "sra_table_fn = os.path.join(samplesheet_dir, 'chipseq.{}.SraRunTable.txt'.format(batch))\n",
    "gsm_to_srr_data = pd.read_table(sra_table_fn, sep=',')\n",
    "gsm_to_srr_data = gsm_to_srr_data[['Sample Name', 'Run']]\n",
    "gsm_to_srr_data.columns = ['gsm_id', 'srr_id']\n",
    "gsm_to_srr_data.sort_values('gsm_id', inplace=True)"
   ]
  },
  {
   "cell_type": "code",
   "execution_count": 9,
   "id": "328b1630",
   "metadata": {},
   "outputs": [],
   "source": [
    "# manually adding missing samples\n",
    "adding_missing_entries = [['GSM7336681', 'SRR16538542'],\n",
    "                          ['GSM7336682', 'SRR16538550'],\n",
    "                          ['GSM7336684', 'SRR16538541'],\n",
    "                          ['GSM7336685', 'SRR16538549'],\n",
    "]\n",
    "adding_missing_entries = pd.DataFrame(adding_missing_entries, columns=gsm_to_srr_data.columns.tolist())\n",
    "gsm_to_srr_data = pd.concat([gsm_to_srr_data, adding_missing_entries], axis=0)"
   ]
  },
  {
   "cell_type": "markdown",
   "id": "000ad5a7",
   "metadata": {},
   "source": [
    "## Check for Discrepancies"
   ]
  },
  {
   "cell_type": "code",
   "execution_count": 10,
   "id": "42d7428b",
   "metadata": {},
   "outputs": [],
   "source": [
    "original_gses = set(chipseq_gsms)"
   ]
  },
  {
   "cell_type": "code",
   "execution_count": 11,
   "id": "8211166e",
   "metadata": {},
   "outputs": [],
   "source": [
    "queried_gses = set(gsm_to_srr_data.gsm_id.unique())"
   ]
  },
  {
   "cell_type": "code",
   "execution_count": 12,
   "id": "0beeab41",
   "metadata": {},
   "outputs": [
    {
     "data": {
      "text/plain": [
       "21"
      ]
     },
     "execution_count": 12,
     "metadata": {},
     "output_type": "execute_result"
    }
   ],
   "source": [
    "len(queried_gses)"
   ]
  },
  {
   "cell_type": "code",
   "execution_count": 13,
   "id": "edcaad61",
   "metadata": {},
   "outputs": [
    {
     "data": {
      "text/plain": [
       "set()"
      ]
     },
     "execution_count": 13,
     "metadata": {},
     "output_type": "execute_result"
    }
   ],
   "source": [
    "original_gses.difference(queried_gses)"
   ]
  },
  {
   "cell_type": "markdown",
   "id": "8874ed29",
   "metadata": {},
   "source": [
    "Not sure how I got these extra stragglers "
   ]
  },
  {
   "cell_type": "code",
   "execution_count": 14,
   "id": "ccc147d9",
   "metadata": {},
   "outputs": [
    {
     "data": {
      "text/plain": [
       "{'GSM7336681', 'GSM7336682', 'GSM7336684', 'GSM7336685'}"
      ]
     },
     "execution_count": 14,
     "metadata": {},
     "output_type": "execute_result"
    }
   ],
   "source": [
    "queried_gses.difference(original_gses)"
   ]
  },
  {
   "cell_type": "code",
   "execution_count": 15,
   "id": "e872cd7d",
   "metadata": {},
   "outputs": [
    {
     "data": {
      "text/plain": [
       "gsm_id\n",
       "GSM5625199    1\n",
       "GSM5625200    1\n",
       "GSM5625207    1\n",
       "GSM5625208    1\n",
       "GSM6620326    1\n",
       "GSM6620327    1\n",
       "GSM6620328    1\n",
       "GSM6620329    1\n",
       "GSM6620330    1\n",
       "GSM6620331    1\n",
       "GSM6620332    1\n",
       "GSM6620333    1\n",
       "GSM7104825    1\n",
       "GSM7104826    1\n",
       "GSM7104827    1\n",
       "GSM7104830    1\n",
       "GSM7104831    1\n",
       "GSM7336681    1\n",
       "GSM7336682    1\n",
       "GSM7336684    1\n",
       "GSM7336685    1\n",
       "Name: count, dtype: int64"
      ]
     },
     "execution_count": 15,
     "metadata": {},
     "output_type": "execute_result"
    }
   ],
   "source": [
    "gsm_to_srr_data.gsm_id.value_counts()"
   ]
  },
  {
   "cell_type": "markdown",
   "id": "12edd214",
   "metadata": {},
   "source": [
    "## Create the Samplesheet for Downloading"
   ]
  },
  {
   "cell_type": "code",
   "execution_count": 16,
   "id": "a45083c6",
   "metadata": {},
   "outputs": [],
   "source": [
    "# get unique SRRs \n",
    "srr_ids = sorted(gsm_to_srr_data.srr_id.unique())"
   ]
  },
  {
   "cell_type": "code",
   "execution_count": 17,
   "id": "015ee259",
   "metadata": {},
   "outputs": [
    {
     "data": {
      "text/plain": [
       "['SRR16323879',\n",
       " 'SRR16323880',\n",
       " 'SRR16323887',\n",
       " 'SRR16323888',\n",
       " 'SRR16538541',\n",
       " 'SRR16538542',\n",
       " 'SRR16538549',\n",
       " 'SRR16538550',\n",
       " 'SRR21839422',\n",
       " 'SRR21839423',\n",
       " 'SRR21839424',\n",
       " 'SRR21839425',\n",
       " 'SRR21839426',\n",
       " 'SRR21839427',\n",
       " 'SRR21839428',\n",
       " 'SRR21839429',\n",
       " 'SRR23908058',\n",
       " 'SRR23908059',\n",
       " 'SRR23908062',\n",
       " 'SRR23908063',\n",
       " 'SRR23908064']"
      ]
     },
     "execution_count": 17,
     "metadata": {},
     "output_type": "execute_result"
    }
   ],
   "source": [
    "srr_ids"
   ]
  },
  {
   "cell_type": "code",
   "execution_count": 18,
   "id": "efff234d",
   "metadata": {
    "scrolled": false
   },
   "outputs": [],
   "source": [
    "srr_ids_fn = os.path.join(samplesheet_dir, 'chipseq.srr_ids.{}.txt'.format(batch))\n",
    "with open(srr_ids_fn, 'w') as fw:\n",
    "    fw.write('\\n'.join(srr_ids))"
   ]
  },
  {
   "cell_type": "markdown",
   "id": "c3aaf4d7",
   "metadata": {},
   "source": [
    "## Create the Samplesheet for Concatination"
   ]
  },
  {
   "cell_type": "code",
   "execution_count": 19,
   "id": "e4041382",
   "metadata": {},
   "outputs": [],
   "source": [
    "# get Combinations of SRRs that should be concatinated\n",
    "gsm_srr_combos_data = []\n",
    "\n",
    "# main GSMs\n",
    "for gsm_ids_combo in data['GSM ID(s)'].tolist():\n",
    "    gsm_ids = gsm_ids_combo.replace(' ', '').split(',')\n",
    "    gsm_combo_reps = [gsm_ids_combo] * len(gsm_ids)\n",
    "    split_data = list(zip(gsm_combo_reps, gsm_ids))\n",
    "    gsm_srr_combos_data.extend(split_data)    \n",
    "    \n",
    "# control GSMs\n",
    "for gsm_ids_combo in data['Control GSM(s)'].tolist():\n",
    "    \n",
    "    if type(gsm_ids_combo) == str:\n",
    "        gsm_ids = gsm_ids_combo.replace(' ', '').split(',')\n",
    "        gsm_combo_reps = [gsm_ids_combo] * len(gsm_ids)\n",
    "        split_data = list(zip(gsm_combo_reps, gsm_ids))\n",
    "    else:\n",
    "        split_data = [[np.nan, np.nan]]\n",
    "    gsm_srr_combos_data.extend(split_data)    "
   ]
  },
  {
   "cell_type": "code",
   "execution_count": 20,
   "id": "33b5f2d9",
   "metadata": {},
   "outputs": [],
   "source": [
    "gsm_srr_combos_data = pd.DataFrame(gsm_srr_combos_data, columns=['GSM ID(s)', 'split_gsm_ids']).drop_duplicates()\n",
    "gsm_srr_combos_data = gsm_srr_combos_data.merge(gsm_to_srr_data, left_on='split_gsm_ids', right_on='gsm_id', how='outer', indicator=True)\n",
    "gsm_srr_combos_data = gsm_srr_combos_data.loc[~gsm_srr_combos_data.gsm_id.isna()]"
   ]
  },
  {
   "cell_type": "code",
   "execution_count": 21,
   "id": "7ae73567",
   "metadata": {},
   "outputs": [],
   "source": [
    "gsm_srr_combos_data_agg = gsm_srr_combos_data.groupby('GSM ID(s)').agg({'srr_id': '-'.join})\n",
    "srr_combos = sorted(gsm_srr_combos_data_agg.srr_id.unique())"
   ]
  },
  {
   "cell_type": "code",
   "execution_count": 22,
   "id": "75ef8b97",
   "metadata": {},
   "outputs": [],
   "source": [
    "srr_combos_fn = os.path.join(samplesheet_dir, 'chipseq.srr_id.combos.{}.txt'.format(batch))\n",
    "with open(srr_combos_fn, 'w') as fw:\n",
    "    fw.write('\\n'.join(srr_combos))"
   ]
  },
  {
   "cell_type": "code",
   "execution_count": 23,
   "id": "ba1f5f46",
   "metadata": {},
   "outputs": [
    {
     "data": {
      "text/plain": [
       "9"
      ]
     },
     "execution_count": 23,
     "metadata": {},
     "output_type": "execute_result"
    }
   ],
   "source": [
    "len(srr_combos)"
   ]
  },
  {
   "cell_type": "code",
   "execution_count": 24,
   "id": "e3a3bad8",
   "metadata": {},
   "outputs": [
    {
     "data": {
      "text/plain": [
       "['SRR16323879',\n",
       " 'SRR16323880',\n",
       " 'SRR16323887-SRR21839429-SRR21839428',\n",
       " 'SRR16323888-SRR21839423-SRR21839422',\n",
       " 'SRR21839425-SRR21839424',\n",
       " 'SRR21839427-SRR21839426',\n",
       " 'SRR23908059-SRR23908058',\n",
       " 'SRR23908063-SRR23908062',\n",
       " 'SRR23908064']"
      ]
     },
     "execution_count": 24,
     "metadata": {},
     "output_type": "execute_result"
    }
   ],
   "source": [
    "srr_combos"
   ]
  },
  {
   "cell_type": "code",
   "execution_count": 25,
   "id": "cea105c4",
   "metadata": {},
   "outputs": [
    {
     "data": {
      "text/plain": [
       "'results/samplesheets/chipseq/chipseq.srr_id.combos.2024-rerun-samples.txt'"
      ]
     },
     "execution_count": 25,
     "metadata": {},
     "output_type": "execute_result"
    }
   ],
   "source": [
    "srr_combos_fn"
   ]
  },
  {
   "cell_type": "markdown",
   "id": "e7a08230",
   "metadata": {},
   "source": [
    "## Create the Samplesheet for Alignment of Control SRRs"
   ]
  },
  {
   "cell_type": "markdown",
   "id": "b67922dd",
   "metadata": {},
   "source": [
    "#### Generate a samplesheet that contains the organism"
   ]
  },
  {
   "cell_type": "code",
   "execution_count": 26,
   "id": "d11dcdfd",
   "metadata": {},
   "outputs": [
    {
     "name": "stderr",
     "output_type": "stream",
     "text": [
      "/mnt/BioHome/jreyna/tmp/ipykernel_1489580/1558082514.py:27: SettingWithCopyWarning: \n",
      "A value is trying to be set on a copy of a slice from a DataFrame.\n",
      "Try using .loc[row_indexer,col_indexer] = value instead\n",
      "\n",
      "See the caveats in the documentation: https://pandas.pydata.org/pandas-docs/stable/user_guide/indexing.html#returning-a-view-versus-a-copy\n",
      "  mouse_subset.loc[:, 'ref_genome'] = 'mm10'\n"
     ]
    }
   ],
   "source": [
    "# extracting gsms\n",
    "df1 = data[['GSM ID(s)', 'Organism']].rename(columns={'GSM ID(s)': 'gsm_ids'})\n",
    "df1['sample_type'] = 'main'\n",
    "df2 = data[['Control GSM(s)', 'Organism']].rename(columns={'Control GSM(s)': 'gsm_ids'})\n",
    "df2['sample_type'] = 'control'\n",
    "\n",
    "# concating the gsm dfs\n",
    "gsm_to_organism = pd.concat([df1, df2], axis=0).dropna().drop_duplicates()\n",
    "\n",
    "# adding srr information\n",
    "gsm_to_organism = gsm_to_organism.merge(gsm_srr_combos_data_agg, left_on='gsm_ids', right_index=True)\n",
    "\n",
    "# extract control only\n",
    "gsm_to_organism_control = gsm_to_organism.loc[gsm_to_organism.sample_type == 'control']\n",
    "\n",
    "# adding reference genome information\n",
    "human_subset = gsm_to_organism_control.loc[gsm_to_organism_control['Organism'] == 'Homo Sapiens']\n",
    "mouse_subset = gsm_to_organism_control.loc[gsm_to_organism_control['Organism'] == 'Mus Musculus']\n",
    "\n",
    "grch38_subset = human_subset.copy().sort_values(['srr_id'])\n",
    "grch38_subset.loc[:, 'ref_genome'] = 'grch38'\n",
    "\n",
    "# t2t_subset = human_subset.copy().sort_values(['srr_id'])\n",
    "# t2t_subset.loc[:, 'ref_genome'] = 't2t'\n",
    "\n",
    "mm10_subset = mouse_subset.copy().sort_values(['srr_id'])\n",
    "mouse_subset.loc[:, 'ref_genome'] = 'mm10'\n",
    "\n",
    "# concating all the subsets for a final samplesheet\n",
    "# gsm_to_organism_control = pd.concat([grch38_subset, mouse_subset, t2t_subset])\n",
    "gsm_to_organism_control = pd.concat([grch38_subset, mouse_subset])"
   ]
  },
  {
   "cell_type": "code",
   "execution_count": 27,
   "id": "49b1090d",
   "metadata": {},
   "outputs": [],
   "source": [
    "# extract srr and ref_genome\n",
    "gsm_to_organism_control = gsm_to_organism_control[['srr_id', 'ref_genome']]"
   ]
  },
  {
   "cell_type": "code",
   "execution_count": 28,
   "id": "db7463e2",
   "metadata": {},
   "outputs": [],
   "source": [
    "samplesheet_path = os.path.join(samplesheet_dir, 'chipseq.srr_ids_to_ref_genome.combos.{}.txt'.format(batch))\n",
    "gsm_to_organism_control.to_csv(samplesheet_path, sep='\\t', header=False, index=False)"
   ]
  },
  {
   "cell_type": "code",
   "execution_count": 29,
   "id": "713123e3",
   "metadata": {},
   "outputs": [
    {
     "data": {
      "text/plain": [
       "'results/samplesheets/chipseq/chipseq.srr_ids_to_ref_genome.combos.2024-rerun-samples.txt'"
      ]
     },
     "execution_count": 29,
     "metadata": {},
     "output_type": "execute_result"
    }
   ],
   "source": [
    "samplesheet_path"
   ]
  },
  {
   "cell_type": "markdown",
   "id": "265ed3ff",
   "metadata": {},
   "source": [
    "## Create the Samplesheet for Running ChIPLine"
   ]
  },
  {
   "cell_type": "code",
   "execution_count": 31,
   "id": "0893fc62",
   "metadata": {},
   "outputs": [],
   "source": [
    "# process only uniqe GSM combos\n",
    "chipline_ss = data[['Sample Name', 'GSE ID For ChIP-seq Data', 'Organism', 'Pulldown', 'GSM ID(s)', 'Control GSM(s)']]\n",
    "chipline_ss = chipline_ss.drop_duplicates(subset=['GSM ID(s)'])"
   ]
  },
  {
   "cell_type": "code",
   "execution_count": 32,
   "id": "2c9a2540",
   "metadata": {},
   "outputs": [],
   "source": [
    "# add the srr information\n",
    "chipline_ss = chipline_ss.merge(gsm_srr_combos_data_agg, left_on='GSM ID(s)', right_index=True, how='left')\n",
    "chipline_ss.rename(columns={'srr_id': 'Main SRR(s)'}, inplace=True)\n",
    "chipline_ss = chipline_ss.merge(gsm_srr_combos_data_agg, left_on='Control GSM(s)', right_index=True, how='left')\n",
    "chipline_ss.rename(columns={'srr_id': 'Control SRR(s)'}, inplace=True)"
   ]
  },
  {
   "cell_type": "code",
   "execution_count": 33,
   "id": "2cb72b1f",
   "metadata": {},
   "outputs": [],
   "source": [
    "# add organism infor\n",
    "chipline_ss.loc[:, 'Organism'] = chipline_ss.loc[:, 'Organism'].str.replace('Homo Sapiens', 'Homo_Sapiens')\n",
    "chipline_ss.loc[:, 'Organism'] = chipline_ss.loc[:, 'Organism'].str.replace('Mus Musculus', 'Mus_Musculus')"
   ]
  },
  {
   "cell_type": "code",
   "execution_count": 34,
   "id": "fb2c8cc6",
   "metadata": {},
   "outputs": [],
   "source": [
    "# adding the biorep information \n",
    "chipline_ss_tmp_list = []\n",
    "sort_cols = ['GSE ID For ChIP-seq Data', 'Sample Name', 'Organism', 'Pulldown', 'GSM ID(s)', 'Control GSM(s)']\n",
    "chipline_ss = chipline_ss.sort_values(sort_cols)\n",
    "for grp, grp_df in chipline_ss.groupby(['GSE ID For ChIP-seq Data', 'Sample Name', 'Organism', 'Pulldown']):\n",
    "    grp_df.loc[:, 'Rep No.'] = ['b{}'.format(x) for x in range(1, grp_df.shape[0] + 1)]\n",
    "    chipline_ss_tmp_list.append(grp_df)\n",
    "chipline_ss = pd.concat(chipline_ss_tmp_list)"
   ]
  },
  {
   "cell_type": "code",
   "execution_count": 35,
   "id": "69913ffe",
   "metadata": {},
   "outputs": [],
   "source": [
    "# add the standard sample name \n",
    "def create_std_sample_name(sr):\n",
    "    name = '{}.{}.{}.{}.{}'.format(sr['Sample Name'], sr['GSE ID For ChIP-seq Data'],\n",
    "                                   sr['Organism'], sr['Pulldown'], sr['Rep No.'])\n",
    "    return(name)\n",
    "chipline_ss.loc[:, 'chipseq_std_sample_name'] = chipline_ss.apply(create_std_sample_name, axis=1)"
   ]
  },
  {
   "cell_type": "code",
   "execution_count": 36,
   "id": "34bfd619",
   "metadata": {},
   "outputs": [
    {
     "data": {
      "text/html": [
       "<div>\n",
       "<style scoped>\n",
       "    .dataframe tbody tr th:only-of-type {\n",
       "        vertical-align: middle;\n",
       "    }\n",
       "\n",
       "    .dataframe tbody tr th {\n",
       "        vertical-align: top;\n",
       "    }\n",
       "\n",
       "    .dataframe thead th {\n",
       "        text-align: right;\n",
       "    }\n",
       "</style>\n",
       "<table border=\"1\" class=\"dataframe\">\n",
       "  <thead>\n",
       "    <tr style=\"text-align: right;\">\n",
       "      <th></th>\n",
       "      <th>Sample Name</th>\n",
       "      <th>GSE ID For ChIP-seq Data</th>\n",
       "      <th>Organism</th>\n",
       "      <th>Pulldown</th>\n",
       "      <th>GSM ID(s)</th>\n",
       "      <th>Control GSM(s)</th>\n",
       "      <th>Main SRR(s)</th>\n",
       "      <th>Control SRR(s)</th>\n",
       "      <th>Rep No.</th>\n",
       "      <th>chipseq_std_sample_name</th>\n",
       "    </tr>\n",
       "  </thead>\n",
       "  <tbody>\n",
       "    <tr>\n",
       "      <th>62</th>\n",
       "      <td>BMDC</td>\n",
       "      <td>GSE185880</td>\n",
       "      <td>Mus_Musculus</td>\n",
       "      <td>H3K27ac</td>\n",
       "      <td>GSM5625207, GSM6620326, GSM6620327</td>\n",
       "      <td>GSM5625199</td>\n",
       "      <td>SRR16323887-SRR21839429-SRR21839428</td>\n",
       "      <td>SRR16323879</td>\n",
       "      <td>b1</td>\n",
       "      <td>BMDC.GSE185880.Mus_Musculus.H3K27ac.b1</td>\n",
       "    </tr>\n",
       "    <tr>\n",
       "      <th>64</th>\n",
       "      <td>BMDC-JSH</td>\n",
       "      <td>GSE185880</td>\n",
       "      <td>Mus_Musculus</td>\n",
       "      <td>H3K27ac</td>\n",
       "      <td>GSM6620328, GSM6620329</td>\n",
       "      <td>NaN</td>\n",
       "      <td>SRR21839427-SRR21839426</td>\n",
       "      <td>NaN</td>\n",
       "      <td>b1</td>\n",
       "      <td>BMDC-JSH.GSE185880.Mus_Musculus.H3K27ac.b1</td>\n",
       "    </tr>\n",
       "    <tr>\n",
       "      <th>66</th>\n",
       "      <td>BMDC-JSH-JSH-LPS</td>\n",
       "      <td>GSE185880</td>\n",
       "      <td>Mus_Musculus</td>\n",
       "      <td>H3K27ac</td>\n",
       "      <td>GSM6620330, GSM6620331</td>\n",
       "      <td>NaN</td>\n",
       "      <td>SRR21839425-SRR21839424</td>\n",
       "      <td>NaN</td>\n",
       "      <td>b1</td>\n",
       "      <td>BMDC-JSH-JSH-LPS.GSE185880.Mus_Musculus.H3K27a...</td>\n",
       "    </tr>\n",
       "    <tr>\n",
       "      <th>68</th>\n",
       "      <td>BMDC-LPS</td>\n",
       "      <td>GSE185880</td>\n",
       "      <td>Mus_Musculus</td>\n",
       "      <td>H3K27ac</td>\n",
       "      <td>GSM5625208, GSM6620332, GSM6620333</td>\n",
       "      <td>GSM5625200</td>\n",
       "      <td>SRR16323888-SRR21839423-SRR21839422</td>\n",
       "      <td>SRR16323880</td>\n",
       "      <td>b1</td>\n",
       "      <td>BMDC-LPS.GSE185880.Mus_Musculus.H3K27ac.b1</td>\n",
       "    </tr>\n",
       "    <tr>\n",
       "      <th>85</th>\n",
       "      <td>NK92</td>\n",
       "      <td>GSE227660</td>\n",
       "      <td>Homo_Sapiens</td>\n",
       "      <td>H3K27ac</td>\n",
       "      <td>GSM7104826, GSM7104827</td>\n",
       "      <td>GSM7104825</td>\n",
       "      <td>SRR23908063-SRR23908062</td>\n",
       "      <td>SRR23908064</td>\n",
       "      <td>b1</td>\n",
       "      <td>NK92.GSE227660.Homo_Sapiens.H3K27ac.b1</td>\n",
       "    </tr>\n",
       "    <tr>\n",
       "      <th>87</th>\n",
       "      <td>NK92-SAHA</td>\n",
       "      <td>GSE227660</td>\n",
       "      <td>Homo_Sapiens</td>\n",
       "      <td>H3K27ac</td>\n",
       "      <td>GSM7104830, GSM7104831</td>\n",
       "      <td>GSM7104825</td>\n",
       "      <td>SRR23908059-SRR23908058</td>\n",
       "      <td>SRR23908064</td>\n",
       "      <td>b1</td>\n",
       "      <td>NK92-SAHA.GSE227660.Homo_Sapiens.H3K27ac.b1</td>\n",
       "    </tr>\n",
       "  </tbody>\n",
       "</table>\n",
       "</div>"
      ],
      "text/plain": [
       "         Sample Name GSE ID For ChIP-seq Data      Organism Pulldown  \\\n",
       "62              BMDC                GSE185880  Mus_Musculus  H3K27ac   \n",
       "64          BMDC-JSH                GSE185880  Mus_Musculus  H3K27ac   \n",
       "66  BMDC-JSH-JSH-LPS                GSE185880  Mus_Musculus  H3K27ac   \n",
       "68          BMDC-LPS                GSE185880  Mus_Musculus  H3K27ac   \n",
       "85              NK92                GSE227660  Homo_Sapiens  H3K27ac   \n",
       "87         NK92-SAHA                GSE227660  Homo_Sapiens  H3K27ac   \n",
       "\n",
       "                             GSM ID(s) Control GSM(s)  \\\n",
       "62  GSM5625207, GSM6620326, GSM6620327     GSM5625199   \n",
       "64              GSM6620328, GSM6620329            NaN   \n",
       "66              GSM6620330, GSM6620331            NaN   \n",
       "68  GSM5625208, GSM6620332, GSM6620333     GSM5625200   \n",
       "85              GSM7104826, GSM7104827     GSM7104825   \n",
       "87              GSM7104830, GSM7104831     GSM7104825   \n",
       "\n",
       "                            Main SRR(s) Control SRR(s) Rep No.  \\\n",
       "62  SRR16323887-SRR21839429-SRR21839428    SRR16323879      b1   \n",
       "64              SRR21839427-SRR21839426            NaN      b1   \n",
       "66              SRR21839425-SRR21839424            NaN      b1   \n",
       "68  SRR16323888-SRR21839423-SRR21839422    SRR16323880      b1   \n",
       "85              SRR23908063-SRR23908062    SRR23908064      b1   \n",
       "87              SRR23908059-SRR23908058    SRR23908064      b1   \n",
       "\n",
       "                              chipseq_std_sample_name  \n",
       "62             BMDC.GSE185880.Mus_Musculus.H3K27ac.b1  \n",
       "64         BMDC-JSH.GSE185880.Mus_Musculus.H3K27ac.b1  \n",
       "66  BMDC-JSH-JSH-LPS.GSE185880.Mus_Musculus.H3K27a...  \n",
       "68         BMDC-LPS.GSE185880.Mus_Musculus.H3K27ac.b1  \n",
       "85             NK92.GSE227660.Homo_Sapiens.H3K27ac.b1  \n",
       "87        NK92-SAHA.GSE227660.Homo_Sapiens.H3K27ac.b1  "
      ]
     },
     "execution_count": 36,
     "metadata": {},
     "output_type": "execute_result"
    }
   ],
   "source": [
    "chipline_ss"
   ]
  },
  {
   "cell_type": "code",
   "execution_count": 37,
   "id": "1ba2df36",
   "metadata": {},
   "outputs": [],
   "source": [
    "# organize the reference genome of samples\n",
    "chipline_ss.loc[:, 'Ref Genome'] = chipline_ss['Organism'].map({'Homo_Sapiens': 'grch38',\n",
    "                                                                 'Mus_Musculus': 'mm10'})\n",
    "# add T2T samples\n",
    "chipline_ss_grps = chipline_ss.groupby('Ref Genome')\n",
    "# t2t_chipline_ss = chipline_ss_grps.get_group('grch38').copy(deep=True)\n",
    "# t2t_chipline_ss.loc[:, 'Ref Genome'] = 't2t'"
   ]
  },
  {
   "cell_type": "code",
   "execution_count": 38,
   "id": "8e500c77",
   "metadata": {},
   "outputs": [],
   "source": [
    "# generate teh final chipline samplesheet\n",
    "#chipline_ss = pd.concat([chipline_ss, t2t_chipline_ss])\n",
    "chipline_ss = pd.concat([chipline_ss])"
   ]
  },
  {
   "cell_type": "code",
   "execution_count": 39,
   "id": "4ed0e75a",
   "metadata": {},
   "outputs": [],
   "source": [
    "# organize the columns \n",
    "chipline_ss = chipline_ss[['chipseq_std_sample_name', 'Main SRR(s)', 'Control SRR(s)', 'Ref Genome',\n",
    "                           'Sample Name', 'GSE ID For ChIP-seq Data',\n",
    "                            'Organism', 'Pulldown', 'Rep No.', 'GSM ID(s)', 'Control GSM(s)']]"
   ]
  },
  {
   "cell_type": "code",
   "execution_count": 40,
   "id": "3dc7de56",
   "metadata": {},
   "outputs": [],
   "source": [
    "# finalize and save\n",
    "chipline_ss.fillna('N/A', inplace=True)\n",
    "chipline_ss_fn = os.path.join(samplesheet_dir, 'chipseq.chipline.{}.txt'.format(batch))\n",
    "chipline_ss.to_csv(chipline_ss_fn, sep='\\t', index=False, header=False)"
   ]
  },
  {
   "cell_type": "code",
   "execution_count": 41,
   "id": "2eccca52",
   "metadata": {},
   "outputs": [
    {
     "data": {
      "text/plain": [
       "(6, 11)"
      ]
     },
     "execution_count": 41,
     "metadata": {},
     "output_type": "execute_result"
    }
   ],
   "source": [
    "chipline_ss.shape"
   ]
  },
  {
   "cell_type": "code",
   "execution_count": 43,
   "id": "a4e328b3",
   "metadata": {},
   "outputs": [
    {
     "data": {
      "text/plain": [
       "'results/samplesheets/chipseq/chipseq.chipline.2024-rerun-samples.txt'"
      ]
     },
     "execution_count": 43,
     "metadata": {},
     "output_type": "execute_result"
    }
   ],
   "source": [
    "chipline_ss_fn"
   ]
  },
  {
   "cell_type": "markdown",
   "id": "b5744d3d",
   "metadata": {},
   "source": [
    "## Add the ChIP-seq file that finally maps between HiChIP and ChIP-seq"
   ]
  },
  {
   "cell_type": "code",
   "execution_count": null,
   "id": "4f1782a3",
   "metadata": {},
   "outputs": [
    {
     "name": "stdout",
     "output_type": "stream",
     "text": [
      "results/peaks/chipline_v2/BMDC.GSE185880.Mus_Musculus.H3K27ac.b1/MACS2_Ext_*/BMDC.GSE185880.Mus_Musculus.H3K27ac.b1.macs2_peaks.narrowPeak_Q0.01filt\n",
      "results/peaks/chipline_v2/BMDC.GSE185880.Mus_Musculus.H3K27ac.b1/MACS2_Ext_*/BMDC.GSE185880.Mus_Musculus.H3K27ac.b1.macs2_peaks.narrowPeak_Q0.01filt\n",
      "results/peaks/chipline_v2/BMDC-JSH.GSE185880.Mus_Musculus.H3K27ac.b1/MACS2_Ext_*/BMDC-JSH.GSE185880.Mus_Musculus.H3K27ac.b1.macs2_peaks.narrowPeak_Q0.01filt\n",
      "results/peaks/chipline_v2/BMDC-JSH.GSE185880.Mus_Musculus.H3K27ac.b1/MACS2_Ext_*/BMDC-JSH.GSE185880.Mus_Musculus.H3K27ac.b1.macs2_peaks.narrowPeak_Q0.01filt\n",
      "results/peaks/chipline_v2/BMDC-JSH-JSH-LPS.GSE185880.Mus_Musculus.H3K27ac.b1/MACS2_Ext_*/BMDC-JSH-JSH-LPS.GSE185880.Mus_Musculus.H3K27ac.b1.macs2_peaks.narrowPeak_Q0.01filt\n",
      "results/peaks/chipline_v2/BMDC-JSH-JSH-LPS.GSE185880.Mus_Musculus.H3K27ac.b1/MACS2_Ext_*/BMDC-JSH-JSH-LPS.GSE185880.Mus_Musculus.H3K27ac.b1.macs2_peaks.narrowPeak_Q0.01filt\n",
      "results/peaks/chipline_v2/BMDC-LPS.GSE185880.Mus_Musculus.H3K27ac.b1/MACS2_Ext_*/BMDC-LPS.GSE185880.Mus_Musculus.H3K27ac.b1.macs2_peaks.narrowPeak_Q0.01filt\n",
      "results/peaks/chipline_v2/BMDC-LPS.GSE185880.Mus_Musculus.H3K27ac.b1/MACS2_Ext_*/BMDC-LPS.GSE185880.Mus_Musculus.H3K27ac.b1.macs2_peaks.narrowPeak_Q0.01filt\n",
      "results/peaks/chipline_v2/NK92.GSE227660.Homo_Sapiens.H3K27ac.b1/MACS2_Ext_*/NK92.GSE227660.Homo_Sapiens.H3K27ac.b1.macs2_peaks.narrowPeak_Q0.01filt\n",
      "results/peaks/chipline_v2/NK92.GSE227660.Homo_Sapiens.H3K27ac.b1/MACS2_Ext_*/NK92.GSE227660.Homo_Sapiens.H3K27ac.b1.macs2_peaks.narrowPeak_Q0.01filt\n",
      "results/peaks/chipline_v2/NK92-SAHA.GSE227660.Homo_Sapiens.H3K27ac.b1/MACS2_Ext_*/NK92-SAHA.GSE227660.Homo_Sapiens.H3K27ac.b1.macs2_peaks.narrowPeak_Q0.01filt\n",
      "results/peaks/chipline_v2/NK92-SAHA.GSE227660.Homo_Sapiens.H3K27ac.b1/MACS2_Ext_*/NK92-SAHA.GSE227660.Homo_Sapiens.H3K27ac.b1.macs2_peaks.narrowPeak_Q0.01filt\n"
     ]
    }
   ],
   "source": [
    "mapper = data.copy()\n",
    "mapper.rename(columns={'Replicate Serial No': 'Rep No.'}, inplace=True)\n",
    "mapper.loc[:, 'Organism'] = mapper.loc[:, 'Organism'].str.replace(' ' , '_') \n",
    "mapper.loc[:, 'Rep No.'] = ['b{}'.format(x) for x in mapper.loc[:, 'Rep No.'].astype(int)]\n",
    "mapper.loc[:, 'chipseq_std_sample_name'] = mapper.apply(create_std_sample_name, axis=1)\n",
    "\n",
    "def get_chipseq_path(std_sample_name):\n",
    "    \n",
    "    res_dir = 'results/peaks/chipline_v2/'\n",
    "    sample_tmpl = os.path.join(res_dir, '{0}/MACS2_Ext_*/{0}.macs2_peaks.narrowPeak_Q0.01filt'.format(std_sample_name))\n",
    "    print(sample_tmpl)\n",
    "    peak_fns = glob.glob(sample_tmpl)\n",
    "    \n",
    "    if len(peak_fns) == 1:\n",
    "        return(peak_fns[0])\n",
    "    elif len(peak_fns) > 1:\n",
    "        return('Found multiple files')\n",
    "    else:\n",
    "        return('Could not find a matching file')\n",
    "\n",
    "mapper.loc[:, 'chipseq_path'] = mapper.loc[:, 'chipseq_std_sample_name'].apply(get_chipseq_path)\n",
    "fn = os.path.join(samplesheet_dir, 'chipseq.tracker.hichip_to_chipseq.paths_mapped.{}.tsv'.format(batch))\n",
    "mapper.to_csv(fn, sep='\\t', index=False, header=True)"
   ]
  },
  {
   "cell_type": "code",
   "execution_count": null,
   "id": "fbb6ed68",
   "metadata": {},
   "outputs": [],
   "source": []
  },
  {
   "cell_type": "code",
   "execution_count": null,
   "id": "f35512e1",
   "metadata": {},
   "outputs": [],
   "source": []
  },
  {
   "cell_type": "code",
   "execution_count": null,
   "id": "99bf8490",
   "metadata": {},
   "outputs": [],
   "source": []
  },
  {
   "cell_type": "code",
   "execution_count": null,
   "id": "e39a2ea2",
   "metadata": {},
   "outputs": [],
   "source": []
  },
  {
   "cell_type": "code",
   "execution_count": null,
   "id": "29fd67fa",
   "metadata": {},
   "outputs": [],
   "source": []
  },
  {
   "cell_type": "code",
   "execution_count": null,
   "id": "b6a0280f",
   "metadata": {},
   "outputs": [],
   "source": []
  },
  {
   "cell_type": "code",
   "execution_count": null,
   "id": "5377a916",
   "metadata": {},
   "outputs": [],
   "source": []
  },
  {
   "cell_type": "code",
   "execution_count": null,
   "id": "e2c18578",
   "metadata": {},
   "outputs": [],
   "source": []
  }
 ],
 "metadata": {
  "kernelspec": {
   "display_name": "lc-pipelines",
   "language": "python",
   "name": "python3"
  },
  "language_info": {
   "codemirror_mode": {
    "name": "ipython",
    "version": 3
   },
   "file_extension": ".py",
   "mimetype": "text/x-python",
   "name": "python",
   "nbconvert_exporter": "python",
   "pygments_lexer": "ipython3",
   "version": "3.12.0"
  }
 },
 "nbformat": 4,
 "nbformat_minor": 5
}
