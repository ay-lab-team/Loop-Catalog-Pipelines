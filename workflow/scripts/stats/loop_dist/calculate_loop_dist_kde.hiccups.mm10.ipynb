{
 "cells": [
  {
   "cell_type": "code",
   "execution_count": 1,
   "id": "4b1e70ad",
   "metadata": {},
   "outputs": [],
   "source": [
    "import os \n",
    "import numpy as np \n",
    "import glob\n",
    "import matplotlib.pyplot as plt\n",
    "import seaborn as sns\n",
    "import pandas as pd\n",
    "from scipy.stats import gaussian_kde\n",
    "import json\n",
    "\n",
    "os.chdir('/mnt/BioAdHoc/Groups/vd-ay/hichip-db-loop-calling/')"
   ]
  },
  {
   "cell_type": "code",
   "execution_count": 2,
   "id": "d6ad2d91",
   "metadata": {},
   "outputs": [],
   "source": [
    "res = 5000\n",
    "ref = 'mm10'\n",
    "organism = 'Mus_Musculus'\n",
    "loop_tool = 'hiccups'\n",
    "loop_type = 'hiccups'\n",
    "\n",
    "# output file\n",
    "dist_fn = 'results/loops/hiccups/whole_genome/{sample_name}/enriched_pixels_{res}.loop_dist.txt'"
   ]
  },
  {
   "cell_type": "markdown",
   "id": "a8376e24",
   "metadata": {},
   "source": [
    "## Load all distances"
   ]
  },
  {
   "cell_type": "code",
   "execution_count": 3,
   "id": "0647c6ba",
   "metadata": {},
   "outputs": [],
   "source": [
    "fns = glob.glob(dist_fn.format(sample_name='*', res=res))\n",
    "fns = [x for x in fns if organism in x]\n",
    "all_pulldowns =  sorted([x.split('/')[4].split('.')[3] for x in fns])"
   ]
  },
  {
   "cell_type": "code",
   "execution_count": 4,
   "id": "035063ff",
   "metadata": {},
   "outputs": [],
   "source": [
    "def parse_dist_file(fn):\n",
    "    dists = []\n",
    "    with open(fn) as fr:\n",
    "        for line in fr:\n",
    "            d = int(line.strip())\n",
    "            dists.append(d)\n",
    "    return dists\n",
    "    \n",
    "dists = {k:[] for k in all_pulldowns}\n",
    "for fn in fns:\n",
    "    pulldown = fn.split('/')[4].split('.')[3]\n",
    "    cdists = parse_dist_file(fn)\n",
    "    dists[pulldown].extend(cdists)"
   ]
  },
  {
   "cell_type": "markdown",
   "id": "ec0583b1",
   "metadata": {},
   "source": [
    "## Calculate density per lc pulldown group"
   ]
  },
  {
   "cell_type": "code",
   "execution_count": 5,
   "id": "43b1e669",
   "metadata": {},
   "outputs": [],
   "source": [
    "lc_pulldown_groups = {'h3k27ac': ['H3K27ac'],\n",
    "                   'ctcf': ['CTCF'],\n",
    "                   'cohesin_complex': ['Rad21', 'SMC1A']}"
   ]
  },
  {
   "cell_type": "code",
   "execution_count": 6,
   "id": "f88a9757",
   "metadata": {},
   "outputs": [],
   "source": [
    "lc_pulldown_values = {k:{} for k in lc_pulldown_groups.keys()}"
   ]
  },
  {
   "cell_type": "code",
   "execution_count": 7,
   "id": "3d58e93f",
   "metadata": {},
   "outputs": [
    {
     "name": "stdout",
     "output_type": "stream",
     "text": [
      "h3k27ac\n",
      "# get values from the kernel using uniq distances\n",
      "ctcf\n",
      "# get values from the kernel using uniq distances\n",
      "cohesin_complex\n",
      "# get values from the kernel using uniq distances\n"
     ]
    }
   ],
   "source": [
    "threshold = 2000000\n",
    "threshold = 1000000\n",
    "kernel_dists = np.arange(0, 1000000, 5000)\n",
    "for pulldown_grp, pulldown_list in lc_pulldown_groups.items():\n",
    "    \n",
    "    print(pulldown_grp)\n",
    "    \n",
    "    # extend data for given group\n",
    "    grp_dists = []\n",
    "    for pulldown in pulldown_list:\n",
    "        if pulldown in dists:\n",
    "            grp_dists.extend(dists[pulldown])\n",
    "    \n",
    "    # remove distances > threshold\n",
    "    grp_dists = [x for x in grp_dists if x < threshold]\n",
    "    \n",
    "    if len(grp_dists) == 0:\n",
    "        continue\n",
    "    \n",
    "    # calculate the density\n",
    "    dists_arr = np.array(grp_dists).reshape(-1, 1)\n",
    "    \n",
    "    # train the kernel using all the data\n",
    "    # tutorial at: https://docs.scipy.org/doc/scipy/reference/generated/scipy.stats.gaussian_kde.html\n",
    "    kernel = gaussian_kde(dists_arr.reshape(-1))\n",
    "\n",
    "    # get values from the kernel using uniq distances\n",
    "    print('# get values from the kernel using uniq distances')\n",
    "    dens = kernel(kernel_dists)\n",
    "\n",
    "    # saving the values\n",
    "    lc_pulldown_values[pulldown_grp]['dists_arr'] = dists_arr\n",
    "    lc_pulldown_values[pulldown_grp]['kernel'] = kernel\n",
    "    lc_pulldown_values[pulldown_grp]['dens'] = dens\n",
    "    "
   ]
  },
  {
   "cell_type": "code",
   "execution_count": 8,
   "id": "81668449",
   "metadata": {},
   "outputs": [
    {
     "name": "stderr",
     "output_type": "stream",
     "text": [
      "/tmp/ipykernel_74645/776405230.py:39: UserWarning: FixedFormatter should only be used together with FixedLocator\n",
      "  ax.set_xticklabels(['', '0kb', '200kb', '400kb', '600kb', '800kb', '1mb'])\n"
     ]
    },
    {
     "data": {
      "image/png": "[encoded data removed]",
      "text/plain": [
       "<Figure size 432x288 with 1 Axes>"
      ]
     },
     "metadata": {
      "needs_background": "light"
     },
     "output_type": "display_data"
    }
   ],
   "source": [
    "import matplotlib.ticker as ticker\n",
    "\n",
    "fig, ax = plt.subplots()\n",
    "fig.subplots_adjust(left=0.05, right=0.95, hspace=0.05, wspace=0.05)\n",
    "\n",
    "# setting colors\n",
    "h3k27ac_color = \"#69b3a2\"\n",
    "ctcf_color = \"#404080\"\n",
    "cohesin_color = \"#fa6e28\"\n",
    "colors = {'h3k27ac': h3k27ac_color, 'ctcf': ctcf_color, 'cohesin_complex': cohesin_color}\n",
    "          \n",
    "# setting plot names\n",
    "legend_names = {'h3k27ac': 'H3K27ac', 'ctcf': 'CTCF', 'cohesin_complex': 'Cohesin'}\n",
    "\n",
    "######################\n",
    "# Adding density plots\n",
    "######################\n",
    "handles, labels = [], []\n",
    "for i, pulldown_grp in enumerate(lc_pulldown_groups.keys()):\n",
    "    \n",
    "    if 'dens' in lc_pulldown_values[pulldown_grp]:\n",
    "\n",
    "        x = kernel_dists\n",
    "        y = lc_pulldown_values[pulldown_grp]['dens']\n",
    "\n",
    "        handle, = ax.plot(x, y, color=colors[pulldown_grp], linewidth=0.5)\n",
    "        ax.fill_between(x, y, color=colors[pulldown_grp], alpha=0.2)\n",
    "        #ax.set_xlim(0, 2000000)\n",
    "        handles.append(handle)\n",
    "        labels.append(legend_names[pulldown_grp])\n",
    "\n",
    "# Adding a legend\n",
    "ax.legend(handles, labels)\n",
    "    \n",
    "######################\n",
    "# Adjusting tick labels\n",
    "######################\n",
    "\n",
    "ax.set_xticklabels(['', '0kb', '200kb', '400kb', '600kb', '800kb', '1mb'])\n",
    "\n",
    "# Define a custom function for formatting y-axis tick labels as power notation\n",
    "def format_tick_power(x, pos):\n",
    "    if x == 0:\n",
    "        return \"0\"\n",
    "    exponent = int(np.floor(np.log10(np.abs(x))))\n",
    "    coeff = x / 10**exponent\n",
    "    return f\"${coeff:.1f}e^{{{exponent}}}$\"\n",
    "\n",
    "# Apply the custom tick formatter to the y-axis\n",
    "ax.yaxis.set_major_formatter(plt.FuncFormatter(format_tick_power))\n",
    "\n",
    "######################\n",
    "# Save \n",
    "######################\n",
    "outfn = 'results/loops/{loop_tool}/aggregations/density_plot.{ref}.{pulldown_grp}.{res}.loop_dist.png'\n",
    "outfn = outfn.format(loop_tool=loop_tool, loop_type=loop_type,\n",
    "                         ref=ref, res=res, pulldown_grp=pulldown_grp)\n",
    "fig.tight_layout()\n",
    "fig.savefig(outfn, dpi=600)"
   ]
  },
  {
   "cell_type": "markdown",
   "id": "0365f315",
   "metadata": {},
   "source": [
    "## Save the dists"
   ]
  },
  {
   "cell_type": "code",
   "execution_count": 9,
   "id": "b0989c80",
   "metadata": {},
   "outputs": [],
   "source": [
    "def make_hardlink(source, target):\n",
    "    if os.path.exists(outlink):\n",
    "        os.unlink(outlink)\n",
    "    os.link(outfn, outlink)"
   ]
  },
  {
   "cell_type": "code",
   "execution_count": 10,
   "id": "84a7fc88",
   "metadata": {},
   "outputs": [],
   "source": [
    "for i, pulldown_grp in enumerate(lc_pulldown_groups.keys()):\n",
    "\n",
    "    if 'dens' in lc_pulldown_values[pulldown_grp]:\n",
    "\n",
    "        dens = lc_pulldown_values[pulldown_grp]['dens']\n",
    "\n",
    "        kernel_coords = list(zip(kernel_dists, dens))\n",
    "        kernel_coords = [list([float(x[0]), float(x[1])]) for x in kernel_coords]\n",
    "\n",
    "        # save as json\n",
    "        outfn = 'results/loops/{loop_tool}/aggregations/concatenation.{ref}.{pulldown_grp}.{res}.loop_dist.json'\n",
    "        outfn = outfn.format(loop_tool=loop_tool, loop_type=loop_type, ref=ref, res=res, pulldown_grp=pulldown_grp)\n",
    "        with open(outfn, 'w') as fw:\n",
    "            fw.write(json.dumps(kernel_coords))\n",
    "\n",
    "        # add hardlink to json to transfer to lc storage\n",
    "        outlink = 'results/loops/{loop_tool}/aggregations/loop_dist.{ref}.{pulldown_grp}.{res}.json'\n",
    "        outlink = outlink.format(loop_tool=loop_tool, loop_type=loop_type, ref=ref, res=res, pulldown_grp=pulldown_grp)\n",
    "        make_hardlink(outfn, outlink)\n",
    "\n",
    "        # save as txt \n",
    "        outfn = 'results/loops/{loop_tool}/aggregations/concatenation.{ref}.{pulldown_grp}.{res}.loop_dist.txt'\n",
    "        outfn = outfn.format(loop_tool=loop_tool, loop_type=loop_type, ref=ref, res=res, pulldown_grp=pulldown_grp)\n",
    "        with open(outfn, 'w') as fw:\n",
    "            for x, y in kernel_coords:\n",
    "                fw.write('{}\\t{}'.format(x,y))\n"
   ]
  },
  {
   "cell_type": "code",
   "execution_count": null,
   "id": "f76cde55",
   "metadata": {},
   "outputs": [],
   "source": []
  },
  {
   "cell_type": "code",
   "execution_count": null,
   "id": "7a63ad2b",
   "metadata": {},
   "outputs": [],
   "source": []
  },
  {
   "cell_type": "code",
   "execution_count": null,
   "id": "7823d793",
   "metadata": {},
   "outputs": [],
   "source": []
  }
 ],
 "metadata": {
  "kernelspec": {
   "display_name": "(hichip-db)",
   "language": "python",
   "name": "hichip-db"
  },
  "language_info": {
   "codemirror_mode": {
    "name": "ipython",
    "version": 3
   },
   "file_extension": ".py",
   "mimetype": "text/x-python",
   "name": "python",
   "nbconvert_exporter": "python",
   "pygments_lexer": "ipython3",
   "version": "3.9.10"
  }
 },
 "nbformat": 4,
 "nbformat_minor": 5
}
