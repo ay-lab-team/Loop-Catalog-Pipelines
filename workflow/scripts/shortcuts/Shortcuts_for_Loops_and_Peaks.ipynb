{
 "cells": [
  {
   "cell_type": "markdown",
   "metadata": {},
   "source": [
    "# Linking loop data"
   ]
  },
  {
   "cell_type": "code",
   "execution_count": 1,
   "metadata": {},
   "outputs": [],
   "source": [
    "import os\n",
    "import shutil\n",
    "import glob\n",
    "import pandas as pd"
   ]
  },
  {
   "cell_type": "code",
   "execution_count": 2,
   "metadata": {},
   "outputs": [],
   "source": [
    "project_dir = '/mnt/bioadhoc-temp/Groups/vd-ay/hichip-db-loop-calling/'\n",
    "os.chdir(project_dir)"
   ]
  },
  {
   "cell_type": "markdown",
   "metadata": {},
   "source": [
    "## Make the directory structure"
   ]
  },
  {
   "cell_type": "code",
   "execution_count": 3,
   "metadata": {},
   "outputs": [],
   "source": [
    "shortcut_dir = 'results/shortcuts/'\n",
    "os.makedirs(project_dir, exist_ok=True)"
   ]
  },
  {
   "cell_type": "code",
   "execution_count": 87,
   "metadata": {},
   "outputs": [],
   "source": [
    "for ref in ['hg38', 'mm10', 't2t-chm13-v2.0']:\n",
    "\n",
    "    # make cp loop dirs\n",
    "    os.makedirs(shortcut_dir + '{}/loops/hichip/chip-seq/macs2/stringent/'.format(ref), exist_ok=True)\n",
    "    os.makedirs(shortcut_dir + '{}/loops/hichip/chip-seq/macs2/loose/'.format(ref), exist_ok=True)   \n",
    "    \n",
    "    # make fp loop dirs\n",
    "    os.makedirs(shortcut_dir + '{}/loops/hichip/hichip/fithichip-utility/stringent/'.format(ref), exist_ok=True)\n",
    "    os.makedirs(shortcut_dir + '{}/loops/hichip/hichip/fithichip-utility/loose/'.format(ref), exist_ok=True)\n",
    "    \n",
    "    # make hp loop dirs\n",
    "    os.makedirs(shortcut_dir + '{}/loops/hichip/hichip/hichip-peaks/stringent/'.format(ref), exist_ok=True)\n",
    "    os.makedirs(shortcut_dir + '{}/loops/hichip/hichip/hichip-peaks/loose/'.format(ref), exist_ok=True)\n",
    "    \n",
    "    # make cp peak dirs\n",
    "    os.makedirs(shortcut_dir + '{}/peaks/chip-seq/macs2/'.format(ref), exist_ok=True)\n",
    "    os.makedirs(shortcut_dir + '{}/peaks/hichip/fithichip-utility/'.format(ref), exist_ok=True)\n",
    "    os.makedirs(shortcut_dir + '{}/peaks/hichip/hichip-peaks/'.format(ref), exist_ok=True)\n",
    "\n",
    "    #os.makedirs(shortcut_dir + '{}/loops/hic/mustache'.format(ref), exist_ok=True)\n"
   ]
  },
  {
   "cell_type": "markdown",
   "metadata": {},
   "source": [
    "## Making a shortcut for loops"
   ]
  },
  {
   "cell_type": "markdown",
   "metadata": {},
   "source": [
    "Include all loop types"
   ]
  },
  {
   "cell_type": "code",
   "execution_count": 5,
   "metadata": {},
   "outputs": [],
   "source": [
    "glob_path = 'results/loops/fithichip/*_*/*/FitHiChIP_Peak2ALL_b*_L20000_U2000000/'\n",
    "glob_path += 'P2PBckgr_*/Coverage_Bias/FitHiC_BiasCorr/FitHiChIP-*.interactions_FitHiC_Q0.01.bed'\n",
    "fns = glob.glob(glob_path)"
   ]
  },
  {
   "cell_type": "code",
   "execution_count": 6,
   "metadata": {},
   "outputs": [
    {
     "data": {
      "text/plain": [
       "['results/loops/fithichip/Nonclassical_Monocyte_1814.phs001703v4p1.Homo_Sapiens.H3K27ac.b4_fithichip.peaks/L25/FitHiChIP_Peak2ALL_b25000_L20000_U2000000/P2PBckgr_0/Coverage_Bias/FitHiC_BiasCorr/FitHiChIP-L25.interactions_FitHiC_Q0.01.bed',\n",
       " 'results/loops/fithichip/Nonclassical_Monocyte_1814.phs001703v4p1.Homo_Sapiens.H3K27ac.b4_fithichip.peaks/S10/FitHiChIP_Peak2ALL_b10000_L20000_U2000000/P2PBckgr_1/Coverage_Bias/FitHiC_BiasCorr/FitHiChIP-S10.interactions_FitHiC_Q0.01.bed',\n",
       " 'results/loops/fithichip/Nonclassical_Monocyte_1814.phs001703v4p1.Homo_Sapiens.H3K27ac.b4_fithichip.peaks/S25/FitHiChIP_Peak2ALL_b25000_L20000_U2000000/P2PBckgr_1/Coverage_Bias/FitHiC_BiasCorr/FitHiChIP-S25.interactions_FitHiC_Q0.01.bed',\n",
       " 'results/loops/fithichip/Nonclassical_Monocyte_1814.phs001703v4p1.Homo_Sapiens.H3K27ac.b4_fithichip.peaks/L10/FitHiChIP_Peak2ALL_b10000_L20000_U2000000/P2PBckgr_0/Coverage_Bias/FitHiC_BiasCorr/FitHiChIP-L10.interactions_FitHiC_Q0.01.bed',\n",
       " 'results/loops/fithichip/Nonclassical_Monocyte_1814.phs001703v4p1.Homo_Sapiens.H3K27ac.b4_fithichip.peaks/S5/FitHiChIP_Peak2ALL_b5000_L20000_U2000000/P2PBckgr_1/Coverage_Bias/FitHiC_BiasCorr/FitHiChIP-S5.interactions_FitHiC_Q0.01.bed']"
      ]
     },
     "execution_count": 6,
     "metadata": {},
     "output_type": "execute_result"
    }
   ],
   "source": [
    "fns[0:5]"
   ]
  },
  {
   "cell_type": "code",
   "execution_count": 7,
   "metadata": {},
   "outputs": [
    {
     "data": {
      "text/plain": [
       "9708"
      ]
     },
     "execution_count": 7,
     "metadata": {},
     "output_type": "execute_result"
    }
   ],
   "source": [
    "len(fns)"
   ]
  },
  {
   "cell_type": "code",
   "execution_count": 15,
   "metadata": {},
   "outputs": [],
   "source": [
    "for fn in fns:\n",
    "    \n",
    "    # get sample information\n",
    "    file_info = fn.split('/')\n",
    "    sample_name, peak_type = file_info[3].rsplit('_', 1)\n",
    "    stringency = file_info[4][0]\n",
    "    resolution = file_info[4][1:] + '000'\n",
    "    stringency_long = 'stringent' if stringency == 'S' else 'loose'\n",
    "    \n",
    "    # determine the reference genome\n",
    "    if 'Homo_Sapien' in sample_name:\n",
    "        ref = 'hg38'\n",
    "    elif 'Mus_Musculus' in sample_name:\n",
    "        ref = 'mm10'\n",
    "    \n",
    "    # determine the shortcut directory\n",
    "    if peak_type == 'chipseq.peaks':\n",
    "        sample_outdir = '{ref}/loops/hichip/chip-seq/macs2/{stringeny}'\n",
    "\n",
    "    elif peak_type == 'hichip-peaks.peaks':\n",
    "        sample_outdir = '{ref}/loops/hichip/hichip/hichip-peaks/{stringeny}'\n",
    "        \n",
    "    elif peak_type == 'fithichip.peaks':\n",
    "        sample_outdir = '{ref}/loops/hichip/hichip/fithichip-utility/{stringeny}'\n",
    "        \n",
    "    sample_outdir = sample_outdir.format(ref=ref, stringeny=stringency_long)\n",
    "        \n",
    "    # get the link name\n",
    "    new_fn = '{sample_name}.{res}.interactions_FitHiC_Q0.01.bed'\n",
    "    new_fn = new_fn.format(sample_name=sample_name, res=resolution)\n",
    "    new_path = os.path.join(project_dir, shortcut_dir, sample_outdir, new_fn) \n",
    "    \n",
    "    if not os.path.islink(new_path):\n",
    "        abs_fn = os.path.join(project_dir, fn)\n",
    "        os.symlink(abs_fn, new_path)\n",
    "    "
   ]
  },
  {
   "cell_type": "markdown",
   "metadata": {},
   "source": [
    "#### Account of loop types"
   ]
  },
  {
   "cell_type": "code",
   "execution_count": 21,
   "metadata": {},
   "outputs": [],
   "source": [
    "acct_data = []\n",
    "for fn in fns:\n",
    "    \n",
    "    # get sample information\n",
    "    file_info = fn.split('/')\n",
    "    sample_name, peak_type = file_info[3].rsplit('_', 1)\n",
    "    stringency = file_info[4][0]\n",
    "    resolution = file_info[4][1:] + '000'\n",
    "    stringency_long = 'stringent' if stringency == 'S' else 'loose'\n",
    "    \n",
    "    # determine the reference genome\n",
    "    if 'Homo_Sapien' in sample_name:\n",
    "        ref = 'hg38'\n",
    "    elif 'Mus_Musculus' in sample_name:\n",
    "        ref = 'mm10'\n",
    "        \n",
    "    acct_data.append([sample_name, peak_type, stringency, resolution, ref])\n",
    "    "
   ]
  },
  {
   "cell_type": "code",
   "execution_count": 30,
   "metadata": {},
   "outputs": [
    {
     "data": {
      "text/html": [
       "<div>\n",
       "<style scoped>\n",
       "    .dataframe tbody tr th:only-of-type {\n",
       "        vertical-align: middle;\n",
       "    }\n",
       "\n",
       "    .dataframe tbody tr th {\n",
       "        vertical-align: top;\n",
       "    }\n",
       "\n",
       "    .dataframe thead th {\n",
       "        text-align: right;\n",
       "    }\n",
       "</style>\n",
       "<table border=\"1\" class=\"dataframe\">\n",
       "  <thead>\n",
       "    <tr style=\"text-align: right;\">\n",
       "      <th></th>\n",
       "      <th></th>\n",
       "      <th></th>\n",
       "      <th></th>\n",
       "      <th>sample_name</th>\n",
       "    </tr>\n",
       "    <tr>\n",
       "      <th>ref</th>\n",
       "      <th>peak_type</th>\n",
       "      <th>stringency</th>\n",
       "      <th>resolution</th>\n",
       "      <th></th>\n",
       "    </tr>\n",
       "  </thead>\n",
       "  <tbody>\n",
       "    <tr>\n",
       "      <th rowspan=\"18\" valign=\"top\">hg38</th>\n",
       "      <th rowspan=\"6\" valign=\"top\">chipseq.peaks</th>\n",
       "      <th rowspan=\"3\" valign=\"top\">L</th>\n",
       "      <th>10000</th>\n",
       "      <td>243</td>\n",
       "    </tr>\n",
       "    <tr>\n",
       "      <th>25000</th>\n",
       "      <td>243</td>\n",
       "    </tr>\n",
       "    <tr>\n",
       "      <th>5000</th>\n",
       "      <td>243</td>\n",
       "    </tr>\n",
       "    <tr>\n",
       "      <th rowspan=\"3\" valign=\"top\">S</th>\n",
       "      <th>10000</th>\n",
       "      <td>243</td>\n",
       "    </tr>\n",
       "    <tr>\n",
       "      <th>25000</th>\n",
       "      <td>243</td>\n",
       "    </tr>\n",
       "    <tr>\n",
       "      <th>5000</th>\n",
       "      <td>243</td>\n",
       "    </tr>\n",
       "    <tr>\n",
       "      <th rowspan=\"6\" valign=\"top\">fithichip.peaks</th>\n",
       "      <th rowspan=\"3\" valign=\"top\">L</th>\n",
       "      <th>10000</th>\n",
       "      <td>478</td>\n",
       "    </tr>\n",
       "    <tr>\n",
       "      <th>25000</th>\n",
       "      <td>478</td>\n",
       "    </tr>\n",
       "    <tr>\n",
       "      <th>5000</th>\n",
       "      <td>478</td>\n",
       "    </tr>\n",
       "    <tr>\n",
       "      <th rowspan=\"3\" valign=\"top\">S</th>\n",
       "      <th>10000</th>\n",
       "      <td>478</td>\n",
       "    </tr>\n",
       "    <tr>\n",
       "      <th>25000</th>\n",
       "      <td>478</td>\n",
       "    </tr>\n",
       "    <tr>\n",
       "      <th>5000</th>\n",
       "      <td>478</td>\n",
       "    </tr>\n",
       "    <tr>\n",
       "      <th rowspan=\"6\" valign=\"top\">hichip-peaks.peaks</th>\n",
       "      <th rowspan=\"3\" valign=\"top\">L</th>\n",
       "      <th>10000</th>\n",
       "      <td>478</td>\n",
       "    </tr>\n",
       "    <tr>\n",
       "      <th>25000</th>\n",
       "      <td>478</td>\n",
       "    </tr>\n",
       "    <tr>\n",
       "      <th>5000</th>\n",
       "      <td>478</td>\n",
       "    </tr>\n",
       "    <tr>\n",
       "      <th rowspan=\"3\" valign=\"top\">S</th>\n",
       "      <th>10000</th>\n",
       "      <td>478</td>\n",
       "    </tr>\n",
       "    <tr>\n",
       "      <th>25000</th>\n",
       "      <td>478</td>\n",
       "    </tr>\n",
       "    <tr>\n",
       "      <th>5000</th>\n",
       "      <td>478</td>\n",
       "    </tr>\n",
       "    <tr>\n",
       "      <th rowspan=\"18\" valign=\"top\">mm10</th>\n",
       "      <th rowspan=\"6\" valign=\"top\">chipseq.peaks</th>\n",
       "      <th rowspan=\"3\" valign=\"top\">L</th>\n",
       "      <th>10000</th>\n",
       "      <td>31</td>\n",
       "    </tr>\n",
       "    <tr>\n",
       "      <th>25000</th>\n",
       "      <td>31</td>\n",
       "    </tr>\n",
       "    <tr>\n",
       "      <th>5000</th>\n",
       "      <td>31</td>\n",
       "    </tr>\n",
       "    <tr>\n",
       "      <th rowspan=\"3\" valign=\"top\">S</th>\n",
       "      <th>10000</th>\n",
       "      <td>31</td>\n",
       "    </tr>\n",
       "    <tr>\n",
       "      <th>25000</th>\n",
       "      <td>31</td>\n",
       "    </tr>\n",
       "    <tr>\n",
       "      <th>5000</th>\n",
       "      <td>31</td>\n",
       "    </tr>\n",
       "    <tr>\n",
       "      <th rowspan=\"6\" valign=\"top\">fithichip.peaks</th>\n",
       "      <th rowspan=\"3\" valign=\"top\">L</th>\n",
       "      <th>10000</th>\n",
       "      <td>194</td>\n",
       "    </tr>\n",
       "    <tr>\n",
       "      <th>25000</th>\n",
       "      <td>194</td>\n",
       "    </tr>\n",
       "    <tr>\n",
       "      <th>5000</th>\n",
       "      <td>194</td>\n",
       "    </tr>\n",
       "    <tr>\n",
       "      <th rowspan=\"3\" valign=\"top\">S</th>\n",
       "      <th>10000</th>\n",
       "      <td>194</td>\n",
       "    </tr>\n",
       "    <tr>\n",
       "      <th>25000</th>\n",
       "      <td>194</td>\n",
       "    </tr>\n",
       "    <tr>\n",
       "      <th>5000</th>\n",
       "      <td>194</td>\n",
       "    </tr>\n",
       "    <tr>\n",
       "      <th rowspan=\"6\" valign=\"top\">hichip-peaks.peaks</th>\n",
       "      <th rowspan=\"3\" valign=\"top\">L</th>\n",
       "      <th>10000</th>\n",
       "      <td>194</td>\n",
       "    </tr>\n",
       "    <tr>\n",
       "      <th>25000</th>\n",
       "      <td>194</td>\n",
       "    </tr>\n",
       "    <tr>\n",
       "      <th>5000</th>\n",
       "      <td>194</td>\n",
       "    </tr>\n",
       "    <tr>\n",
       "      <th rowspan=\"3\" valign=\"top\">S</th>\n",
       "      <th>10000</th>\n",
       "      <td>194</td>\n",
       "    </tr>\n",
       "    <tr>\n",
       "      <th>25000</th>\n",
       "      <td>194</td>\n",
       "    </tr>\n",
       "    <tr>\n",
       "      <th>5000</th>\n",
       "      <td>194</td>\n",
       "    </tr>\n",
       "  </tbody>\n",
       "</table>\n",
       "</div>"
      ],
      "text/plain": [
       "                                               sample_name\n",
       "ref  peak_type          stringency resolution             \n",
       "hg38 chipseq.peaks      L          10000               243\n",
       "                                   25000               243\n",
       "                                   5000                243\n",
       "                        S          10000               243\n",
       "                                   25000               243\n",
       "                                   5000                243\n",
       "     fithichip.peaks    L          10000               478\n",
       "                                   25000               478\n",
       "                                   5000                478\n",
       "                        S          10000               478\n",
       "                                   25000               478\n",
       "                                   5000                478\n",
       "     hichip-peaks.peaks L          10000               478\n",
       "                                   25000               478\n",
       "                                   5000                478\n",
       "                        S          10000               478\n",
       "                                   25000               478\n",
       "                                   5000                478\n",
       "mm10 chipseq.peaks      L          10000                31\n",
       "                                   25000                31\n",
       "                                   5000                 31\n",
       "                        S          10000                31\n",
       "                                   25000                31\n",
       "                                   5000                 31\n",
       "     fithichip.peaks    L          10000               194\n",
       "                                   25000               194\n",
       "                                   5000                194\n",
       "                        S          10000               194\n",
       "                                   25000               194\n",
       "                                   5000                194\n",
       "     hichip-peaks.peaks L          10000               194\n",
       "                                   25000               194\n",
       "                                   5000                194\n",
       "                        S          10000               194\n",
       "                                   25000               194\n",
       "                                   5000                194"
      ]
     },
     "execution_count": 30,
     "metadata": {},
     "output_type": "execute_result"
    }
   ],
   "source": [
    "acct_df = pd.DataFrame(acct_data)\n",
    "acct_df.columns = ['sample_name', 'peak_type', 'stringency', 'resolution', 'ref']\n",
    "acct_agg = acct_df.groupby(['ref', 'peak_type', 'stringency', 'resolution'])\n",
    "acct_agg.count()"
   ]
  },
  {
   "cell_type": "code",
   "execution_count": 38,
   "metadata": {},
   "outputs": [],
   "source": [
    "tdf = acct_agg.get_group(name=('hg38', 'fithichip.peaks', 'S', '5000'))"
   ]
  },
  {
   "cell_type": "code",
   "execution_count": 41,
   "metadata": {},
   "outputs": [
    {
     "data": {
      "text/html": [
       "<div>\n",
       "<style scoped>\n",
       "    .dataframe tbody tr th:only-of-type {\n",
       "        vertical-align: middle;\n",
       "    }\n",
       "\n",
       "    .dataframe tbody tr th {\n",
       "        vertical-align: top;\n",
       "    }\n",
       "\n",
       "    .dataframe thead th {\n",
       "        text-align: right;\n",
       "    }\n",
       "</style>\n",
       "<table border=\"1\" class=\"dataframe\">\n",
       "  <thead>\n",
       "    <tr style=\"text-align: right;\">\n",
       "      <th></th>\n",
       "      <th>sample_name</th>\n",
       "      <th>peak_type</th>\n",
       "      <th>stringency</th>\n",
       "      <th>resolution</th>\n",
       "      <th>ref</th>\n",
       "    </tr>\n",
       "  </thead>\n",
       "  <tbody>\n",
       "  </tbody>\n",
       "</table>\n",
       "</div>"
      ],
      "text/plain": [
       "Empty DataFrame\n",
       "Columns: [sample_name, peak_type, stringency, resolution, ref]\n",
       "Index: []"
      ]
     },
     "execution_count": 41,
     "metadata": {},
     "output_type": "execute_result"
    }
   ],
   "source": [
    "tdf.loc[tdf.sample_name.str.contains('VCaP-AU-4h')]"
   ]
  },
  {
   "cell_type": "code",
   "execution_count": 42,
   "metadata": {},
   "outputs": [
    {
     "data": {
      "text/html": [
       "<div>\n",
       "<style scoped>\n",
       "    .dataframe tbody tr th:only-of-type {\n",
       "        vertical-align: middle;\n",
       "    }\n",
       "\n",
       "    .dataframe tbody tr th {\n",
       "        vertical-align: top;\n",
       "    }\n",
       "\n",
       "    .dataframe thead th {\n",
       "        text-align: right;\n",
       "    }\n",
       "</style>\n",
       "<table border=\"1\" class=\"dataframe\">\n",
       "  <thead>\n",
       "    <tr style=\"text-align: right;\">\n",
       "      <th></th>\n",
       "      <th>sample_name</th>\n",
       "      <th>peak_type</th>\n",
       "      <th>stringency</th>\n",
       "      <th>resolution</th>\n",
       "      <th>ref</th>\n",
       "    </tr>\n",
       "  </thead>\n",
       "  <tbody>\n",
       "  </tbody>\n",
       "</table>\n",
       "</div>"
      ],
      "text/plain": [
       "Empty DataFrame\n",
       "Columns: [sample_name, peak_type, stringency, resolution, ref]\n",
       "Index: []"
      ]
     },
     "execution_count": 42,
     "metadata": {},
     "output_type": "execute_result"
    }
   ],
   "source": [
    "tdf.loc[tdf.sample_name.str.contains('VCaP-DMSO-4h')]"
   ]
  },
  {
   "cell_type": "code",
   "execution_count": 43,
   "metadata": {},
   "outputs": [
    {
     "data": {
      "text/html": [
       "<div>\n",
       "<style scoped>\n",
       "    .dataframe tbody tr th:only-of-type {\n",
       "        vertical-align: middle;\n",
       "    }\n",
       "\n",
       "    .dataframe tbody tr th {\n",
       "        vertical-align: top;\n",
       "    }\n",
       "\n",
       "    .dataframe thead th {\n",
       "        text-align: right;\n",
       "    }\n",
       "</style>\n",
       "<table border=\"1\" class=\"dataframe\">\n",
       "  <thead>\n",
       "    <tr style=\"text-align: right;\">\n",
       "      <th></th>\n",
       "      <th>sample_name</th>\n",
       "      <th>peak_type</th>\n",
       "      <th>stringency</th>\n",
       "      <th>resolution</th>\n",
       "      <th>ref</th>\n",
       "    </tr>\n",
       "  </thead>\n",
       "  <tbody>\n",
       "  </tbody>\n",
       "</table>\n",
       "</div>"
      ],
      "text/plain": [
       "Empty DataFrame\n",
       "Columns: [sample_name, peak_type, stringency, resolution, ref]\n",
       "Index: []"
      ]
     },
     "execution_count": 43,
     "metadata": {},
     "output_type": "execute_result"
    }
   ],
   "source": [
    "tdf.loc[tdf.sample_name.str.contains('T47D')]"
   ]
  },
  {
   "cell_type": "markdown",
   "metadata": {},
   "source": [
    "## Making a shortcut for peaks"
   ]
  },
  {
   "cell_type": "code",
   "execution_count": 66,
   "metadata": {},
   "outputs": [],
   "source": [
    "cols = ['sample_name', 'vp', 'hp', 'fp', 'cp']"
   ]
  },
  {
   "cell_type": "code",
   "execution_count": 76,
   "metadata": {},
   "outputs": [],
   "source": [
    "hg38 = pd.read_table('results/samplesheets/post-hicpro/human.peaks_files.samplesheet.without_header.tsv',\n",
    "                    header=None, names=cols)\n",
    "hg38['ref'] = 'hg38'"
   ]
  },
  {
   "cell_type": "code",
   "execution_count": 77,
   "metadata": {},
   "outputs": [],
   "source": [
    "mm10 = pd.read_table('results/samplesheets/post-hicpro/mouse.peaks_files.samplesheet.without_header.tsv',\n",
    "                    header=None, names=cols)\n",
    "mm10['ref'] = 'mm10'"
   ]
  },
  {
   "cell_type": "code",
   "execution_count": 78,
   "metadata": {},
   "outputs": [],
   "source": [
    "t2t = pd.read_table('results/samplesheets/post-hicpro/human_t2t.peaks_files.samplesheet.without_header.tsv',\n",
    "                   header=None, names=cols)\n",
    "t2t['ref'] = 't2t-chm13-v2.0'"
   ]
  },
  {
   "cell_type": "code",
   "execution_count": 80,
   "metadata": {},
   "outputs": [],
   "source": [
    "peaks = pd.concat([hg38, mm10, t2t])"
   ]
  },
  {
   "cell_type": "code",
   "execution_count": 101,
   "metadata": {},
   "outputs": [],
   "source": [
    "for i, sr in peaks.iterrows():\n",
    "    \n",
    "    sample_name = sr.sample_name\n",
    "    ref = sr.ref\n",
    "    \n",
    "    for peak_col in ['hp', 'fp', 'cp']:\n",
    "        \n",
    "        # process only if the peak file exists \n",
    "        peak_fn = sr[peak_col]\n",
    "        if os.path.exists(peak_fn):\n",
    "            \n",
    "            # assigning the correct directory\n",
    "            if peak_col == 'hp':\n",
    "                sample_outdir = '{ref}/peaks/hichip/hichip-peaks/'\n",
    "            elif peak_col == 'fp':\n",
    "                sample_outdir = '{ref}/peaks/hichip/fithichip-utility/'\n",
    "            elif peak_col == 'cp':\n",
    "                sample_outdir = '{ref}/peaks/chip-seq/macs2/'\n",
    "            \n",
    "            # assigning merged status\n",
    "            if 'merged' in peak_fn:\n",
    "                single_or_merged = 'merged'\n",
    "            else:\n",
    "                single_or_merged = 'single'\n",
    "    \n",
    "            # get the link name\n",
    "            new_fn = '{sample_name}.{single_or_merged}.peaks.bed'\n",
    "            new_path = os.path.join(project_dir, shortcut_dir, sample_outdir, new_fn) \n",
    "            new_path = new_path.format(sample_name=sample_name, single_or_merged=single_or_merged, ref=ref)\n",
    "\n",
    "            if not os.path.islink(new_path):\n",
    "                os.symlink(peak_fn, new_path)\n"
   ]
  },
  {
   "cell_type": "code",
   "execution_count": null,
   "metadata": {},
   "outputs": [],
   "source": []
  },
  {
   "cell_type": "code",
   "execution_count": null,
   "metadata": {},
   "outputs": [],
   "source": []
  }
 ],
 "metadata": {
  "kernelspec": {
   "display_name": "(hichip-db)",
   "language": "python",
   "name": "hichip-db"
  },
  "language_info": {
   "codemirror_mode": {
    "name": "ipython",
    "version": 3
   },
   "file_extension": ".py",
   "mimetype": "text/x-python",
   "name": "python",
   "nbconvert_exporter": "python",
   "pygments_lexer": "ipython3",
   "version": "3.9.10"
  },
  "vscode": {
   "interpreter": {
    "hash": "3f44c575b588128ecf9f2f80e1a66af23e2a1b19422290c74e2a5502a8221740"
   }
  }
 },
 "nbformat": 4,
 "nbformat_minor": 2
}
