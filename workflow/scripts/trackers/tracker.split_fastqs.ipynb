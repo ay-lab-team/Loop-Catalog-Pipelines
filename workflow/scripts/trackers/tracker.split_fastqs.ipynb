{
 "cells": [
  {
   "cell_type": "code",
   "execution_count": 1,
   "id": "ca3fa531",
   "metadata": {},
   "outputs": [],
   "source": [
    "import os\n",
    "import sys\n",
    "import glob\n",
    "import numpy as np\n",
    "import pandas as pd\n",
    "from IPython.display import display\n",
    "import time \n",
    "os.chdir('/mnt/BioAdHoc/Groups/vd-ay/hichip-db-loop-calling/')\n",
    "pd.set_option('display.max_rows', 1000)\n",
    "pd.set_option('display.max_columns', 1000)"
   ]
  },
  {
   "cell_type": "code",
   "execution_count": 2,
   "id": "9a9eca66",
   "metadata": {},
   "outputs": [],
   "source": [
    "# setting input and output with jupyter notebook in context \n",
    "if 'ipykernel_launcher.py' in sys.argv[0]:\n",
    "    input_fn = 'results/samplesheets/fastq/2022.03.30.fastq.samplesheet.with_header.tsv'   \n",
    "    output_prefix = 'results/samplesheets/fastq/2022.03.30.fastq.post-check.split_fastqs'\n",
    "else:\n",
    "    input_fn = sys.argv[1]\n",
    "    output_fn = sys.argv[2]"
   ]
  },
  {
   "cell_type": "markdown",
   "id": "7bd0a3ad",
   "metadata": {},
   "source": [
    "## Helper Functions"
   ]
  },
  {
   "cell_type": "code",
   "execution_count": 3,
   "id": "ddecee19",
   "metadata": {},
   "outputs": [],
   "source": [
    "def get_log(x, mode='index'):\n",
    "    \n",
    "    if mode == 'index':\n",
    "        logs = glob.glob('results/fastqs/raw/logs/download_srr_fastqs.*-{}'.format(x))\n",
    "        \n",
    "    elif mode == 'path':\n",
    "        info = x.split('/')\n",
    "        sample_name = info[3]\n",
    "        srr_id  = info[4].split('.')[0].split('_')[0]\n",
    "        index = df.loc[(df[0] == sample_name) & (df[3] == srr_id)].iloc[0].name\n",
    "        logs = glob.glob('results/fastqs/raw/logs/download_srr_fastqs.*-{}'.format(index))\n",
    "        \n",
    "    else:\n",
    "        return('Try again.')\n",
    "    \n",
    "    return(logs)\n",
    "\n",
    "def list_to_str(l, sep=' '):\n",
    "    l = [str(x) for x in l]\n",
    "    return(sep.join(l))"
   ]
  },
  {
   "cell_type": "code",
   "execution_count": 4,
   "id": "878cc1bd",
   "metadata": {},
   "outputs": [],
   "source": [
    "def read_log(log):\n",
    "    \n",
    "    \"\"\"\n",
    "    Read the log and extract status information including\n",
    "    the sample_name, srr_id, status (as indicated by the end message),\n",
    "    and the download status (as indicate by the \"reads written\" message).\n",
    "    \"\"\"\n",
    "    \n",
    "    status = 0\n",
    "    download = 1\n",
    "    sample_name = 'check'\n",
    "    srr_id = 'check'\n",
    "    date = ''\n",
    "\n",
    "    # extract job_id and index\n",
    "    meta = os.path.basename(log)\n",
    "    meta = meta.split('.')[1].split('-')\n",
    "    job_id = meta[0].replace('o', '')\n",
    "    index = meta[1]\n",
    "\n",
    "    with open(log, errors='ignore') as fr:\n",
    "        for line in fr:\n",
    "            info = line.strip()\n",
    "            if 'sample_name' in info:\n",
    "                sample_name = info.split()[1]\n",
    "            elif 'srr_id' in info:\n",
    "                srr_id = info.split()[1]\n",
    "            elif 'Ended: split_fastqs' in info:\n",
    "                status = 1\n",
    "\n",
    "    return([index, sample_name, srr_id, job_id, status])"
   ]
  },
  {
   "cell_type": "code",
   "execution_count": 5,
   "id": "53186626",
   "metadata": {},
   "outputs": [],
   "source": [
    "def long_to_short_index_list(serial_list):\n",
    "    \n",
    "    small_num = serial_list[0]\n",
    "    serial_list_short = []\n",
    "    for i in range(1, len(serial_list)):\n",
    "\n",
    "        prev_num = serial_list[i -1]\n",
    "        next_num = serial_list[i]\n",
    "\n",
    "        if (prev_num + 1) != next_num:\n",
    "\n",
    "            if small_num == prev_num:\n",
    "                curr_range = '{}'.format(small_num)\n",
    "                serial_list_short.append(curr_range)\n",
    "                small_num = next_num\n",
    "\n",
    "            else:\n",
    "                curr_range = '{}-{}'.format(small_num, prev_num)\n",
    "                serial_list_short.append(curr_range)\n",
    "                small_num = next_num\n",
    "\n",
    "    if small_num == next_num:\n",
    "        curr_range = '{}'.format(small_num,)\n",
    "        serial_list_short.append(curr_range)\n",
    "    else:\n",
    "        curr_range = '{}-{}'.format(small_num, next_num)\n",
    "        serial_list_short.append(curr_range)\n",
    "        \n",
    "    return(serial_list_short)"
   ]
  },
  {
   "cell_type": "markdown",
   "id": "04e2731d",
   "metadata": {},
   "source": [
    "## Check Logs"
   ]
  },
  {
   "cell_type": "code",
   "execution_count": 6,
   "id": "b2f5436d",
   "metadata": {},
   "outputs": [],
   "source": [
    "# load the data\n",
    "df = pd.read_table(input_fn)\n",
    "df['sample_index'] = df.index + 1"
   ]
  },
  {
   "cell_type": "code",
   "execution_count": 7,
   "id": "ef70142c",
   "metadata": {},
   "outputs": [],
   "source": [
    "# create a dataframe of log information \n",
    "logs = glob.glob('results/fastqs/parallel/logs/split_reads.o*-*')\n",
    "log_data = []\n",
    "for log in logs:\n",
    "    index, sample_name, srr_id, job_id, status = read_log(log)\n",
    "    log_data.append([index, sample_name, srr_id, job_id, status, log])\n",
    "log_df = pd.DataFrame(log_data)\n",
    "log_df.columns = ['sample_index', 'std_sample_name', 'srr_id', 'job_id', 'end_status', 'log']\n",
    "log_df.drop('sample_index', inplace=True, axis=1)"
   ]
  },
  {
   "cell_type": "code",
   "execution_count": 8,
   "id": "fcf64a00",
   "metadata": {},
   "outputs": [
    {
     "data": {
      "text/html": [
       "<div>\n",
       "<style scoped>\n",
       "    .dataframe tbody tr th:only-of-type {\n",
       "        vertical-align: middle;\n",
       "    }\n",
       "\n",
       "    .dataframe tbody tr th {\n",
       "        vertical-align: top;\n",
       "    }\n",
       "\n",
       "    .dataframe thead th {\n",
       "        text-align: right;\n",
       "    }\n",
       "</style>\n",
       "<table border=\"1\" class=\"dataframe\">\n",
       "  <thead>\n",
       "    <tr style=\"text-align: right;\">\n",
       "      <th></th>\n",
       "      <th>std_sample_name</th>\n",
       "      <th>srr_id</th>\n",
       "      <th>job_id</th>\n",
       "      <th>end_status</th>\n",
       "      <th>log</th>\n",
       "    </tr>\n",
       "  </thead>\n",
       "  <tbody>\n",
       "    <tr>\n",
       "      <th>0</th>\n",
       "      <td>lgs102943.GSE116193.Homo_Sapiens.CTCF.b1</td>\n",
       "      <td>SRR7417517</td>\n",
       "      <td>4919273</td>\n",
       "      <td>1</td>\n",
       "      <td>results/fastqs/parallel/logs/split_reads.o4919...</td>\n",
       "    </tr>\n",
       "    <tr>\n",
       "      <th>1</th>\n",
       "      <td>mES_25m_cells.GSE101498.Mus_Musculus.H3K27ac.b2</td>\n",
       "      <td>SRR5831482</td>\n",
       "      <td>4919273</td>\n",
       "      <td>1</td>\n",
       "      <td>results/fastqs/parallel/logs/split_reads.o4919...</td>\n",
       "    </tr>\n",
       "    <tr>\n",
       "      <th>2</th>\n",
       "      <td>lgs102943.GSE116193.Homo_Sapiens.H3K27ac.b1</td>\n",
       "      <td>SRR7417511</td>\n",
       "      <td>4919273</td>\n",
       "      <td>1</td>\n",
       "      <td>results/fastqs/parallel/logs/split_reads.o4919...</td>\n",
       "    </tr>\n",
       "    <tr>\n",
       "      <th>3</th>\n",
       "      <td>HAEC.GSE178598.Homo_Sapiens.H3K27ac.b1</td>\n",
       "      <td>SRR14872079</td>\n",
       "      <td>4919273</td>\n",
       "      <td>1</td>\n",
       "      <td>results/fastqs/parallel/logs/split_reads.o4919...</td>\n",
       "    </tr>\n",
       "    <tr>\n",
       "      <th>4</th>\n",
       "      <td>AoSMC.GSE178598.Homo_Sapiens.H3K27ac.b1</td>\n",
       "      <td>SRR14872076</td>\n",
       "      <td>4919273</td>\n",
       "      <td>1</td>\n",
       "      <td>results/fastqs/parallel/logs/split_reads.o4919...</td>\n",
       "    </tr>\n",
       "  </tbody>\n",
       "</table>\n",
       "</div>"
      ],
      "text/plain": [
       "                                   std_sample_name       srr_id   job_id  \\\n",
       "0         lgs102943.GSE116193.Homo_Sapiens.CTCF.b1   SRR7417517  4919273   \n",
       "1  mES_25m_cells.GSE101498.Mus_Musculus.H3K27ac.b2   SRR5831482  4919273   \n",
       "2      lgs102943.GSE116193.Homo_Sapiens.H3K27ac.b1   SRR7417511  4919273   \n",
       "3           HAEC.GSE178598.Homo_Sapiens.H3K27ac.b1  SRR14872079  4919273   \n",
       "4          AoSMC.GSE178598.Homo_Sapiens.H3K27ac.b1  SRR14872076  4919273   \n",
       "\n",
       "   end_status                                                log  \n",
       "0           1  results/fastqs/parallel/logs/split_reads.o4919...  \n",
       "1           1  results/fastqs/parallel/logs/split_reads.o4919...  \n",
       "2           1  results/fastqs/parallel/logs/split_reads.o4919...  \n",
       "3           1  results/fastqs/parallel/logs/split_reads.o4919...  \n",
       "4           1  results/fastqs/parallel/logs/split_reads.o4919...  "
      ]
     },
     "execution_count": 8,
     "metadata": {},
     "output_type": "execute_result"
    }
   ],
   "source": [
    "log_df.head()"
   ]
  },
  {
   "cell_type": "code",
   "execution_count": 9,
   "id": "b52822ba",
   "metadata": {},
   "outputs": [],
   "source": [
    "# merge the log information\n",
    "df = df.merge(log_df, how='left', on=['std_sample_name', 'srr_id'], indicator='merge')\n",
    "df.loc[df.end_status.isna(), 'end_status'] = 0\n",
    "df.end_status = df.end_status.astype(int)"
   ]
  },
  {
   "cell_type": "code",
   "execution_count": 10,
   "id": "eb65afb0",
   "metadata": {},
   "outputs": [],
   "source": [
    "# get the latest job id for a give sample + srr id combo\n",
    "df = df.sort_values('job_id', ascending=False).drop_duplicates(['std_sample_name', 'srr_id'])"
   ]
  },
  {
   "cell_type": "code",
   "execution_count": 11,
   "id": "e20e465f",
   "metadata": {},
   "outputs": [
    {
     "data": {
      "text/plain": [
       "(80, 15)"
      ]
     },
     "execution_count": 11,
     "metadata": {},
     "output_type": "execute_result"
    }
   ],
   "source": [
    "df.shape"
   ]
  },
  {
   "cell_type": "code",
   "execution_count": 12,
   "id": "73a064e0",
   "metadata": {},
   "outputs": [
    {
     "data": {
      "text/html": [
       "<div>\n",
       "<style scoped>\n",
       "    .dataframe tbody tr th:only-of-type {\n",
       "        vertical-align: middle;\n",
       "    }\n",
       "\n",
       "    .dataframe tbody tr th {\n",
       "        vertical-align: top;\n",
       "    }\n",
       "\n",
       "    .dataframe thead th {\n",
       "        text-align: right;\n",
       "    }\n",
       "</style>\n",
       "<table border=\"1\" class=\"dataframe\">\n",
       "  <thead>\n",
       "    <tr style=\"text-align: right;\">\n",
       "      <th></th>\n",
       "      <th>std_sample_name</th>\n",
       "      <th>gse_id</th>\n",
       "      <th>gsm_id</th>\n",
       "      <th>srr_id</th>\n",
       "      <th>organism</th>\n",
       "      <th>bio_rep</th>\n",
       "      <th>tech_rep</th>\n",
       "      <th>antibody_target</th>\n",
       "      <th>restriction_enzyme</th>\n",
       "      <th>sample_name</th>\n",
       "      <th>sample_index</th>\n",
       "      <th>job_id</th>\n",
       "      <th>end_status</th>\n",
       "      <th>log</th>\n",
       "      <th>merge</th>\n",
       "    </tr>\n",
       "  </thead>\n",
       "  <tbody>\n",
       "    <tr>\n",
       "      <th>0</th>\n",
       "      <td>mES_25m_cells.GSE101498.Mus_Musculus.H3K27ac.b1</td>\n",
       "      <td>GSE101498</td>\n",
       "      <td>GSM2705031</td>\n",
       "      <td>SRR5831479</td>\n",
       "      <td>Mus_Musculus</td>\n",
       "      <td>1</td>\n",
       "      <td>1</td>\n",
       "      <td>H3K27ac</td>\n",
       "      <td>MboI</td>\n",
       "      <td>mES_25m_cells</td>\n",
       "      <td>1</td>\n",
       "      <td>4919273</td>\n",
       "      <td>1</td>\n",
       "      <td>results/fastqs/parallel/logs/split_reads.o4919...</td>\n",
       "      <td>both</td>\n",
       "    </tr>\n",
       "    <tr>\n",
       "      <th>59</th>\n",
       "      <td>JSC.GSE136090.Homo_Sapiens.H3K27ac.b1</td>\n",
       "      <td>GSE136090</td>\n",
       "      <td>GSM4040944</td>\n",
       "      <td>SRR10008153</td>\n",
       "      <td>Homo_Sapiens</td>\n",
       "      <td>1</td>\n",
       "      <td>1</td>\n",
       "      <td>H3K27ac</td>\n",
       "      <td>MboI</td>\n",
       "      <td>JSC</td>\n",
       "      <td>60</td>\n",
       "      <td>4919273</td>\n",
       "      <td>1</td>\n",
       "      <td>results/fastqs/parallel/logs/split_reads.o4919...</td>\n",
       "      <td>both</td>\n",
       "    </tr>\n",
       "    <tr>\n",
       "      <th>57</th>\n",
       "      <td>BC1.GSE136090.Homo_Sapiens.H3K27ac.b1</td>\n",
       "      <td>GSE136090</td>\n",
       "      <td>GSM4040943</td>\n",
       "      <td>SRR10008151</td>\n",
       "      <td>Homo_Sapiens</td>\n",
       "      <td>1</td>\n",
       "      <td>1</td>\n",
       "      <td>H3K27ac</td>\n",
       "      <td>MboI</td>\n",
       "      <td>BC1</td>\n",
       "      <td>58</td>\n",
       "      <td>4919273</td>\n",
       "      <td>1</td>\n",
       "      <td>results/fastqs/parallel/logs/split_reads.o4919...</td>\n",
       "      <td>both</td>\n",
       "    </tr>\n",
       "    <tr>\n",
       "      <th>56</th>\n",
       "      <td>BCBL1.GSE136090.Homo_Sapiens.H3K27ac.b1</td>\n",
       "      <td>GSE136090</td>\n",
       "      <td>GSM4040942</td>\n",
       "      <td>SRR10008150</td>\n",
       "      <td>Homo_Sapiens</td>\n",
       "      <td>1</td>\n",
       "      <td>2</td>\n",
       "      <td>H3K27ac</td>\n",
       "      <td>MboI</td>\n",
       "      <td>BCBL1</td>\n",
       "      <td>57</td>\n",
       "      <td>4919273</td>\n",
       "      <td>1</td>\n",
       "      <td>results/fastqs/parallel/logs/split_reads.o4919...</td>\n",
       "      <td>both</td>\n",
       "    </tr>\n",
       "    <tr>\n",
       "      <th>55</th>\n",
       "      <td>BCBL1.GSE136090.Homo_Sapiens.H3K27ac.b1</td>\n",
       "      <td>GSE136090</td>\n",
       "      <td>GSM4040942</td>\n",
       "      <td>SRR10008149</td>\n",
       "      <td>Homo_Sapiens</td>\n",
       "      <td>1</td>\n",
       "      <td>1</td>\n",
       "      <td>H3K27ac</td>\n",
       "      <td>MboI</td>\n",
       "      <td>BCBL1</td>\n",
       "      <td>56</td>\n",
       "      <td>4919273</td>\n",
       "      <td>1</td>\n",
       "      <td>results/fastqs/parallel/logs/split_reads.o4919...</td>\n",
       "      <td>both</td>\n",
       "    </tr>\n",
       "  </tbody>\n",
       "</table>\n",
       "</div>"
      ],
      "text/plain": [
       "                                    std_sample_name     gse_id      gsm_id  \\\n",
       "0   mES_25m_cells.GSE101498.Mus_Musculus.H3K27ac.b1  GSE101498  GSM2705031   \n",
       "59            JSC.GSE136090.Homo_Sapiens.H3K27ac.b1  GSE136090  GSM4040944   \n",
       "57            BC1.GSE136090.Homo_Sapiens.H3K27ac.b1  GSE136090  GSM4040943   \n",
       "56          BCBL1.GSE136090.Homo_Sapiens.H3K27ac.b1  GSE136090  GSM4040942   \n",
       "55          BCBL1.GSE136090.Homo_Sapiens.H3K27ac.b1  GSE136090  GSM4040942   \n",
       "\n",
       "         srr_id      organism  bio_rep  tech_rep antibody_target  \\\n",
       "0    SRR5831479  Mus_Musculus        1         1         H3K27ac   \n",
       "59  SRR10008153  Homo_Sapiens        1         1         H3K27ac   \n",
       "57  SRR10008151  Homo_Sapiens        1         1         H3K27ac   \n",
       "56  SRR10008150  Homo_Sapiens        1         2         H3K27ac   \n",
       "55  SRR10008149  Homo_Sapiens        1         1         H3K27ac   \n",
       "\n",
       "   restriction_enzyme    sample_name  sample_index   job_id  end_status  \\\n",
       "0                MboI  mES_25m_cells             1  4919273           1   \n",
       "59               MboI            JSC            60  4919273           1   \n",
       "57               MboI            BC1            58  4919273           1   \n",
       "56               MboI          BCBL1            57  4919273           1   \n",
       "55               MboI          BCBL1            56  4919273           1   \n",
       "\n",
       "                                                  log merge  \n",
       "0   results/fastqs/parallel/logs/split_reads.o4919...  both  \n",
       "59  results/fastqs/parallel/logs/split_reads.o4919...  both  \n",
       "57  results/fastqs/parallel/logs/split_reads.o4919...  both  \n",
       "56  results/fastqs/parallel/logs/split_reads.o4919...  both  \n",
       "55  results/fastqs/parallel/logs/split_reads.o4919...  both  "
      ]
     },
     "execution_count": 12,
     "metadata": {},
     "output_type": "execute_result"
    }
   ],
   "source": [
    "df.head()"
   ]
  },
  {
   "cell_type": "code",
   "execution_count": 13,
   "id": "4d5d280c",
   "metadata": {},
   "outputs": [],
   "source": [
    "header_output = '{}.with_header.tsv'.format(output_prefix)\n",
    "df.to_csv(header_output, header=True, index=False, sep='\\t')\n",
    "\n",
    "without_header_output = '{}.without_header.tsv'.format(output_prefix)\n",
    "df.to_csv(without_header_output, header=False, index=False, sep='\\t')"
   ]
  },
  {
   "cell_type": "code",
   "execution_count": 14,
   "id": "e6e6666d",
   "metadata": {},
   "outputs": [
    {
     "data": {
      "text/plain": [
       "'results/samplesheets/fastq/2022.03.30.fastq.post-check.split_fastqs.with_header.tsv'"
      ]
     },
     "execution_count": 14,
     "metadata": {},
     "output_type": "execute_result"
    }
   ],
   "source": [
    "header_output"
   ]
  },
  {
   "cell_type": "markdown",
   "id": "f6ef2e90",
   "metadata": {},
   "source": [
    "## Identifying problem samples"
   ]
  },
  {
   "cell_type": "code",
   "execution_count": 15,
   "id": "a9c5be14",
   "metadata": {
    "scrolled": false
   },
   "outputs": [
    {
     "data": {
      "text/html": [
       "<div>\n",
       "<style scoped>\n",
       "    .dataframe tbody tr th:only-of-type {\n",
       "        vertical-align: middle;\n",
       "    }\n",
       "\n",
       "    .dataframe tbody tr th {\n",
       "        vertical-align: top;\n",
       "    }\n",
       "\n",
       "    .dataframe thead th {\n",
       "        text-align: right;\n",
       "    }\n",
       "</style>\n",
       "<table border=\"1\" class=\"dataframe\">\n",
       "  <thead>\n",
       "    <tr style=\"text-align: right;\">\n",
       "      <th></th>\n",
       "      <th>std_sample_name</th>\n",
       "      <th>gse_id</th>\n",
       "      <th>gsm_id</th>\n",
       "      <th>srr_id</th>\n",
       "      <th>organism</th>\n",
       "      <th>bio_rep</th>\n",
       "      <th>tech_rep</th>\n",
       "      <th>antibody_target</th>\n",
       "      <th>restriction_enzyme</th>\n",
       "      <th>sample_name</th>\n",
       "      <th>sample_index</th>\n",
       "      <th>job_id</th>\n",
       "      <th>end_status</th>\n",
       "      <th>log</th>\n",
       "      <th>merge</th>\n",
       "    </tr>\n",
       "  </thead>\n",
       "  <tbody>\n",
       "    <tr>\n",
       "      <th>7</th>\n",
       "      <td>mES_100k_cells.GSE101498.Mus_Musculus.H3K27ac.b2</td>\n",
       "      <td>GSE101498</td>\n",
       "      <td>GSM2705038</td>\n",
       "      <td>SRR5831486</td>\n",
       "      <td>Mus_Musculus</td>\n",
       "      <td>2</td>\n",
       "      <td>1</td>\n",
       "      <td>H3K27ac</td>\n",
       "      <td>MboI</td>\n",
       "      <td>mES_100k_cells</td>\n",
       "      <td>8</td>\n",
       "      <td>NaN</td>\n",
       "      <td>0</td>\n",
       "      <td>NaN</td>\n",
       "      <td>left_only</td>\n",
       "    </tr>\n",
       "    <tr>\n",
       "      <th>51</th>\n",
       "      <td>HK2.GSE147646.Homo_Sapiens.H3K27ac.b1</td>\n",
       "      <td>GSE147646</td>\n",
       "      <td>GSM4437223</td>\n",
       "      <td>SRR11434878</td>\n",
       "      <td>Homo_Sapiens</td>\n",
       "      <td>1</td>\n",
       "      <td>1</td>\n",
       "      <td>H3K27ac</td>\n",
       "      <td>MboI</td>\n",
       "      <td>HK2</td>\n",
       "      <td>52</td>\n",
       "      <td>NaN</td>\n",
       "      <td>0</td>\n",
       "      <td>NaN</td>\n",
       "      <td>left_only</td>\n",
       "    </tr>\n",
       "    <tr>\n",
       "      <th>52</th>\n",
       "      <td>HK2.GSE147646.Homo_Sapiens.H3K27ac.b1</td>\n",
       "      <td>GSE147646</td>\n",
       "      <td>GSM4437224</td>\n",
       "      <td>SRR11434879</td>\n",
       "      <td>Homo_Sapiens</td>\n",
       "      <td>1</td>\n",
       "      <td>2</td>\n",
       "      <td>H3K27ac</td>\n",
       "      <td>MboI</td>\n",
       "      <td>HK2</td>\n",
       "      <td>53</td>\n",
       "      <td>NaN</td>\n",
       "      <td>0</td>\n",
       "      <td>NaN</td>\n",
       "      <td>left_only</td>\n",
       "    </tr>\n",
       "    <tr>\n",
       "      <th>61</th>\n",
       "      <td>HAVIC.GSE154512.Homo_Sapiens.H3K27ac.b1</td>\n",
       "      <td>GSE154512</td>\n",
       "      <td>GSM4672364</td>\n",
       "      <td>SRR12231664</td>\n",
       "      <td>Homo_Sapiens</td>\n",
       "      <td>1</td>\n",
       "      <td>1</td>\n",
       "      <td>H3K27ac</td>\n",
       "      <td>MboI</td>\n",
       "      <td>HAVIC</td>\n",
       "      <td>62</td>\n",
       "      <td>NaN</td>\n",
       "      <td>0</td>\n",
       "      <td>NaN</td>\n",
       "      <td>left_only</td>\n",
       "    </tr>\n",
       "  </tbody>\n",
       "</table>\n",
       "</div>"
      ],
      "text/plain": [
       "                                     std_sample_name     gse_id      gsm_id  \\\n",
       "7   mES_100k_cells.GSE101498.Mus_Musculus.H3K27ac.b2  GSE101498  GSM2705038   \n",
       "51             HK2.GSE147646.Homo_Sapiens.H3K27ac.b1  GSE147646  GSM4437223   \n",
       "52             HK2.GSE147646.Homo_Sapiens.H3K27ac.b1  GSE147646  GSM4437224   \n",
       "61           HAVIC.GSE154512.Homo_Sapiens.H3K27ac.b1  GSE154512  GSM4672364   \n",
       "\n",
       "         srr_id      organism  bio_rep  tech_rep antibody_target  \\\n",
       "7    SRR5831486  Mus_Musculus        2         1         H3K27ac   \n",
       "51  SRR11434878  Homo_Sapiens        1         1         H3K27ac   \n",
       "52  SRR11434879  Homo_Sapiens        1         2         H3K27ac   \n",
       "61  SRR12231664  Homo_Sapiens        1         1         H3K27ac   \n",
       "\n",
       "   restriction_enzyme     sample_name  sample_index job_id  end_status  log  \\\n",
       "7                MboI  mES_100k_cells             8    NaN           0  NaN   \n",
       "51               MboI             HK2            52    NaN           0  NaN   \n",
       "52               MboI             HK2            53    NaN           0  NaN   \n",
       "61               MboI           HAVIC            62    NaN           0  NaN   \n",
       "\n",
       "        merge  \n",
       "7   left_only  \n",
       "51  left_only  \n",
       "52  left_only  \n",
       "61  left_only  "
      ]
     },
     "execution_count": 15,
     "metadata": {},
     "output_type": "execute_result"
    }
   ],
   "source": [
    "problems = (df.end_status != 1)\n",
    "problems_df = df.loc[problems,:]\n",
    "problems_df"
   ]
  },
  {
   "cell_type": "code",
   "execution_count": 16,
   "id": "a9cb35ae",
   "metadata": {},
   "outputs": [
    {
     "data": {
      "text/plain": [
       "[nan, nan, nan, nan]"
      ]
     },
     "execution_count": 16,
     "metadata": {},
     "output_type": "execute_result"
    }
   ],
   "source": [
    "problems_df.log.tolist()"
   ]
  },
  {
   "cell_type": "markdown",
   "id": "c576c5f1",
   "metadata": {},
   "source": [
    "## Rerun problematic samples"
   ]
  },
  {
   "cell_type": "code",
   "execution_count": 17,
   "id": "b02bba10",
   "metadata": {},
   "outputs": [],
   "source": [
    "# convert not run serial IDs to ranges/short format\n",
    "rerun_indexes = sorted(problems_df.sample_index.tolist())\n",
    "rerun_indexes = long_to_short_index_list(rerun_indexes)"
   ]
  },
  {
   "cell_type": "code",
   "execution_count": 18,
   "id": "09aebd30",
   "metadata": {},
   "outputs": [
    {
     "data": {
      "text/plain": [
       "['8', '52-53', '62']"
      ]
     },
     "execution_count": 18,
     "metadata": {},
     "output_type": "execute_result"
    }
   ],
   "source": [
    "rerun_indexes"
   ]
  },
  {
   "cell_type": "code",
   "execution_count": 19,
   "id": "aa804f6e",
   "metadata": {},
   "outputs": [],
   "source": [
    "# generate a string version of not_run\n",
    "final_rerun = ','.join(rerun_indexes)\n",
    "final_rerun = 'qsub -t {} workflow/scripts/hicpro/split_fastqs.qarray.qsh'.format(final_rerun)"
   ]
  },
  {
   "cell_type": "code",
   "execution_count": 20,
   "id": "62f2da4d",
   "metadata": {},
   "outputs": [
    {
     "name": "stdout",
     "output_type": "stream",
     "text": [
      "qsub -t 8,52-53,62 workflow/scripts/hicpro/split_fastqs.qarray.qsh\n"
     ]
    }
   ],
   "source": [
    "print(final_rerun)"
   ]
  },
  {
   "cell_type": "code",
   "execution_count": null,
   "id": "4a875c07",
   "metadata": {},
   "outputs": [],
   "source": []
  },
  {
   "cell_type": "code",
   "execution_count": null,
   "id": "64d233c5",
   "metadata": {},
   "outputs": [],
   "source": []
  },
  {
   "cell_type": "code",
   "execution_count": null,
   "id": "02b38fe0",
   "metadata": {},
   "outputs": [],
   "source": []
  },
  {
   "cell_type": "code",
   "execution_count": null,
   "id": "bba3bdf7",
   "metadata": {},
   "outputs": [],
   "source": []
  }
 ],
 "metadata": {
  "kernelspec": {
   "display_name": "HiChIP-DB",
   "language": "python",
   "name": "hichip-db"
  },
  "language_info": {
   "codemirror_mode": {
    "name": "ipython",
    "version": 3
   },
   "file_extension": ".py",
   "mimetype": "text/x-python",
   "name": "python",
   "nbconvert_exporter": "python",
   "pygments_lexer": "ipython3",
   "version": "3.9.10"
  }
 },
 "nbformat": 4,
 "nbformat_minor": 5
}
