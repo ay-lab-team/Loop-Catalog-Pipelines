{
 "cells": [
  {
   "cell_type": "code",
   "execution_count": null,
   "metadata": {},
   "outputs": [],
   "source": [
    "import os\n",
    "import sys\n",
    "import glob\n",
    "import numpy as np\n",
    "import pandas as pd\n",
    "import seaborn as sns\n",
    "import math\n",
    "import random\n",
    "from matplotlib import pyplot as plt\n",
    "import seaborn as sns\n",
    "from scipy.stats import pearsonr\n",
    "import config\n",
    "os.chdir(config.LOOP_CATALOG_DIR)"
   ]
  },
  {
   "cell_type": "markdown",
   "metadata": {},
   "source": [
    "#### Input Parameters"
   ]
  },
  {
   "cell_type": "code",
   "execution_count": null,
   "metadata": {},
   "outputs": [],
   "source": [
    "sample = \"CD34+-Cord-Blood.GSE165207.Homo_Sapiens.H3K27ac.b1\""
   ]
  },
  {
   "cell_type": "code",
   "execution_count": null,
   "metadata": {},
   "outputs": [],
   "source": [
    "hicpro = \"results/revisions/alignment_comparison/loops/{s}/S5_hicpro/FitHiChIP_Peak2ALL_b5000_L20000_U2000000/P2PBckgr_1/Coverage_Bias/FitHiC_BiasCorr/FitHiChIP-S5.interactions_FitHiC_Q0.01.bed\".format(s = sample)\n",
    "juicer = \"results/revisions/alignment_comparison/loops/{s}/S5_juicer/FitHiChIP_Peak2ALL_b5000_L20000_U2000000/P2PBckgr_1/Coverage_Bias/FitHiC_BiasCorr/FitHiChIP-S5.interactions_FitHiC_Q0.01.bed\".format(s = sample)\n",
    "distiller = \"results/revisions/alignment_comparison/loops/{s}/S5_distiller/FitHiChIP_Peak2ALL_b5000_L20000_U2000000/P2PBckgr_1/Coverage_Bias/FitHiC_BiasCorr/FitHiChIP-S5.interactions_FitHiC_Q0.01.bed\".format(s = sample)\n",
    "chrom_sizes = config.Database_HiChIP_eQTL_GWAS + \"Data/RefGenome/chrsize/hg38.chrom.sizes\""
   ]
  },
  {
   "cell_type": "markdown",
   "metadata": {},
   "source": [
    "#### Load Sequences"
   ]
  },
  {
   "cell_type": "code",
   "execution_count": null,
   "metadata": {},
   "outputs": [],
   "source": [
    "def get_vecs_contacts(file, chrom):\n",
    "    anchors = [] # represented by start coordinate of anchor\n",
    "    contact_counts = []\n",
    "    with open(file) as f:\n",
    "        first_line = True\n",
    "        for line in f:\n",
    "            if not first_line:\n",
    "                info = line.strip().split(\"\\t\")\n",
    "                if info[0] == chrom:\n",
    "                    anchors.append(int(info[1]))\n",
    "                    anchors.append(int(info[4]))\n",
    "                    contact_counts.append(int(info[6]))\n",
    "                    contact_counts.append(int(info[6]))\n",
    "            first_line = False\n",
    "    return anchors, contact_counts"
   ]
  },
  {
   "cell_type": "code",
   "execution_count": null,
   "metadata": {},
   "outputs": [],
   "source": [
    "def get_vecs_loops(file, chrom):\n",
    "    anchors = [] # represented by start coordinate of anchor\n",
    "    loop_counts = []\n",
    "    with open(file) as f:\n",
    "        first_line = True\n",
    "        for line in f:\n",
    "            if not first_line:\n",
    "                info = line.strip().split(\"\\t\")\n",
    "                if info[0] == chrom:\n",
    "                    anchors.append(int(info[1]))\n",
    "                    anchors.append(int(info[4]))\n",
    "                    loop_counts.append(1)\n",
    "                    loop_counts.append(1)\n",
    "            first_line = False\n",
    "    return anchors, loop_counts"
   ]
  },
  {
   "cell_type": "code",
   "execution_count": null,
   "metadata": {},
   "outputs": [],
   "source": [
    "def get_coverage(chrom, analysis):\n",
    "    window_sizes = {\"contacts\" : 1000000, \"loops\" : 10000}\n",
    "    bin_sizes_label = {\"contacts\" : \"1mb\", \"loops\" : \"10kb\"}\n",
    "    window = window_sizes[analysis]\n",
    "    \n",
    "    # load chrom sizes\n",
    "    sizes = {}\n",
    "    with open(chrom_sizes) as c:\n",
    "        for line in c:\n",
    "            info = line.strip().split(\"\\t\")\n",
    "            sizes[info[0]] = int(info[1])\n",
    "    \n",
    "    # get anchors and counts lists\n",
    "    if analysis == \"contacts\":\n",
    "        anchors_hicpro, counts_hicpro = get_vecs_contacts(hicpro, chrom)\n",
    "        anchors_distiller, counts_distiller = get_vecs_contacts(distiller, chrom)\n",
    "        anchors_juicer, counts_juicer = get_vecs_contacts(juicer, chrom)\n",
    "    elif analysis == \"loops\":\n",
    "        anchors_hicpro, counts_hicpro = get_vecs_loops(hicpro, chrom)\n",
    "        anchors_distiller, counts_distiller = get_vecs_loops(distiller, chrom)\n",
    "        anchors_juicer, counts_juicer = get_vecs_loops(juicer, chrom)\n",
    "    \n",
    "    # define the number of bins\n",
    "    num_bins = -(sizes[chrom] // -window) # ceiling division\n",
    "\n",
    "    # create bins\n",
    "    bins = np.linspace(0, sizes[chrom], num_bins + 1)\n",
    "\n",
    "    # Assign values to bins\n",
    "    bin_indices_hicpro = np.digitize(anchors_hicpro, bins)\n",
    "    bin_indices_distiller = np.digitize(anchors_distiller, bins)\n",
    "    bin_indices_juicer = np.digitize(anchors_juicer, bins)\n",
    "    \n",
    "    # ensure that the bin_sums have the same length by artifically placing the max bin index into bin_indices with count 0\n",
    "    max_index = max(max(bin_indices_hicpro), max(bin_indices_distiller), max(bin_indices_juicer)) \n",
    "    if max(bin_indices_hicpro) != max_index:\n",
    "        bin_indices_hicpro = np.append(bin_indices_hicpro, max_index)\n",
    "        counts_hicpro = np.append(counts_hicpro, 0)\n",
    "    if max(bin_indices_distiller) != max_index:\n",
    "        bin_indices_distiller = np.append(bin_indices_distiller, max_index)\n",
    "        counts_distiller = np.append(counts_distiller, 0)\n",
    "    if max(bin_indices_juicer) != max_index:\n",
    "        bin_indices_juicer = np.append(bin_indices_juicer, max_index)\n",
    "        counts_juicer = np.append(counts_juicer, 0)\n",
    "\n",
    "    # Calculate the sum of values in each bin\n",
    "    bin_sums_hicpro = np.bincount(bin_indices_hicpro, weights=counts_hicpro)\n",
    "    bin_sums_distiller = np.bincount(bin_indices_distiller, weights=counts_distiller)\n",
    "    bin_sums_juicer = np.bincount(bin_indices_juicer, weights=counts_juicer)\n",
    "    \n",
    "    # upper bins may not be used at higher resolution, so remove these bins\n",
    "    if len(bins) != len(bin_sums_hicpro):\n",
    "        bins = bins[:len(bin_sums_hicpro)]\n",
    "    \n",
    "    # plot figure \n",
    "    sns.set_style(\"white\")\n",
    "    fig, ax = plt.subplots(1, 4, figsize=(30, 4), gridspec_kw={'width_ratios': [2.5, 1, 1, 1]})\n",
    "    \n",
    "    ax[0].stairs(bin_sums_distiller[1:], bins, color=\"red\", label=\"distiller-nf\")\n",
    "    ax[0].stairs(bin_sums_juicer[1:], bins, color=\"green\", label=\"Juicer\")\n",
    "    ax[0].stairs(bin_sums_hicpro[1:], bins, color=\"blue\", label=\"HiC-Pro\")\n",
    "    ax[0].set_xlabel(bin_sizes_label[analysis] + \" Genomic Bins\")\n",
    "    if analysis == \"contacts\":\n",
    "        ax[0].set_ylabel(\"Contact Count\")\n",
    "    elif analysis == \"loops\":\n",
    "        ax[0].set_ylabel(\"Number of Loops\")\n",
    "    ax[0].legend()\n",
    "    \n",
    "    data = [sum(counts_hicpro) / 2, sum(counts_distiller) / 2, sum(counts_juicer) / 2]\n",
    "    x_labels = [\"HiC-Pro\", \"Juicer\", \"distiller-nf\"]\n",
    "    ax[1].bar(x_labels, data, color=[\"blue\", \"green\", \"red\"], edgecolor='black')\n",
    "    if analysis == \"contacts\":\n",
    "        ax[1].set_ylabel(\"Contact Count\")\n",
    "    elif analysis == \"loops\":\n",
    "        ax[1].set_ylabel(\"Number of Loops\")\n",
    "    \n",
    "    data = [len(set(bin_indices_hicpro)), len(set(bin_indices_distiller)), len(set(bin_indices_juicer))]\n",
    "    x_labels = [\"HiC-Pro\", \"Juicer\", \"distiller-nf\"]\n",
    "    ax[2].bar(x_labels, data, color=[\"blue\", \"green\", \"red\"], edgecolor='black')\n",
    "    ax[2].set_ylabel(\"Number of \" + bin_sizes_label[analysis] + \" Genomic Bins Covered\")\n",
    "\n",
    "    data = np.array([bin_sums_hicpro, bin_sums_juicer, bin_sums_distiller])\n",
    "    corr_matrix = np.corrcoef(data)\n",
    "\n",
    "    sns.heatmap(corr_matrix, annot=True, fmt=\".4f\", cmap='coolwarm', yticklabels=[\"HiC-Pro\", \"Juicer\", \"distiller-nf\"], xticklabels=[\"HiC-Pro\", \"Juicer\", \"distiller-nf\"])\n",
    "    fig.suptitle(chrom, fontsize=14)\n",
    "    fig.savefig(\"results/revisions/alignment_comparison/loops/CD34+-Cord-Blood.GSE165207.Homo_Sapiens.H3K27ac.b1/figures/{a}_{c}.png\".format(a = analysis, c = chrom), dpi = 1000, bbox_inches=\"tight\")\n",
    "    plt.show"
   ]
  },
  {
   "cell_type": "markdown",
   "metadata": {},
   "source": [
    "#### Contacts Plots"
   ]
  },
  {
   "cell_type": "code",
   "execution_count": null,
   "metadata": {},
   "outputs": [],
   "source": [
    "chroms = [\"chr\" + str(n) for n in range(1, 23)]\n",
    "chroms.append(\"chrX\")\n",
    "chroms.append(\"chrY\")\n",
    "for chrom in chroms:\n",
    "    get_coverage(chrom, \"contacts\")"
   ]
  },
  {
   "cell_type": "markdown",
   "metadata": {},
   "source": [
    "#### Loops Plots"
   ]
  },
  {
   "cell_type": "code",
   "execution_count": null,
   "metadata": {},
   "outputs": [],
   "source": [
    "chroms = [\"chr\" + str(n) for n in range(1, 23)]\n",
    "chroms.append(\"chrX\")\n",
    "chroms.append(\"chrY\")\n",
    "for chrom in chroms:\n",
    "    get_coverage(chrom, \"loops\")"
   ]
  }
 ],
 "metadata": {
  "kernelspec": {
   "display_name": "hichip-db-new",
   "language": "python",
   "name": "hichip-db"
  },
  "language_info": {
   "codemirror_mode": {
    "name": "ipython",
    "version": 3
   },
   "file_extension": ".py",
   "mimetype": "text/x-python",
   "name": "python",
   "nbconvert_exporter": "python",
   "pygments_lexer": "ipython3",
   "version": "3.9.12"
  }
 },
 "nbformat": 4,
 "nbformat_minor": 4
}
