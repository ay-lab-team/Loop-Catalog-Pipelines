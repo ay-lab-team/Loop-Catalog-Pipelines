{
 "cells": [
  {
   "cell_type": "code",
   "execution_count": 1,
   "id": "7543cb1e",
   "metadata": {},
   "outputs": [],
   "source": [
    "import os\n",
    "import sys\n",
    "import glob\n",
    "import numpy as np\n",
    "import pandas as pd\n",
    "from IPython.display import display\n",
    "import time \n",
    "import tracker\n",
    "latest_date = tracker.processing_dates[-1]\n",
    "os.chdir('/mnt/bioadhoc-temp/Groups/vd-ay/kfetter/hichip-db-loop-calling/')\n",
    "pd.set_option('display.max_rows', 1000)\n",
    "pd.set_option('display.max_columns', 1000)\n",
    "pd.set_option('max_colwidth', 400)"
   ]
  },
  {
   "cell_type": "code",
   "execution_count": 2,
   "id": "eb71434f",
   "metadata": {},
   "outputs": [
    {
     "data": {
      "text/plain": [
       "'2022.09.22.15.30'"
      ]
     },
     "execution_count": 2,
     "metadata": {},
     "output_type": "execute_result"
    }
   ],
   "source": [
    "latest_date"
   ]
  },
  {
   "cell_type": "code",
   "execution_count": 3,
   "id": "9a9eca66",
   "metadata": {},
   "outputs": [],
   "source": [
    "# setting input and output with jupyter notebook in context \n",
    "if 'ipykernel_launcher.py' in sys.argv[0]:\n",
    "    input_fn = 'results/samplesheets/hicpro/{}.hicpro.samplesheet.with_header.tsv'.format(latest_date)\n",
    "    output_prefix = 'results/samplesheets/post-hicpro/{}.post-hicpro.post-check.fithichip-peaks'.format(latest_date)\n",
    "else:\n",
    "    input_fn = sys.argv[1]\n",
    "    output_fn = sys.argv[2]"
   ]
  },
  {
   "cell_type": "markdown",
   "id": "cb9114b0",
   "metadata": {},
   "source": [
    "## Helper Functions"
   ]
  },
  {
   "cell_type": "code",
   "execution_count": 4,
   "id": "ddecee19",
   "metadata": {},
   "outputs": [],
   "source": [
    "def read_out_log(log):\n",
    "    \n",
    "    status = 0\n",
    "    sample_name = 'check'\n",
    "    read_length = -1\n",
    "    date = ''\n",
    "\n",
    "    # extract job_id and index\n",
    "    meta = os.path.basename(log)\n",
    "    meta = meta.split('.')[1].split('-')\n",
    "    job_id = meta[0].replace('o', '')\n",
    "    index = meta[1]\n",
    "\n",
    "    with open(log, errors='ignore') as fr:\n",
    "        for line in fr:\n",
    "            info = line.strip()\n",
    "            if 'sample_name' in info:\n",
    "                sample_name = info.split()[1]\n",
    "            if 'Using read length' in info:\n",
    "                read_length = info.split()[4]\n",
    "            if 'Ended: fithichip peak calling' in info:\n",
    "                status = 1\n",
    "\n",
    "    return([index, sample_name, read_length, job_id, status])"
   ]
  },
  {
   "cell_type": "code",
   "execution_count": 5,
   "id": "8e9acafc",
   "metadata": {},
   "outputs": [],
   "source": [
    "def read_error_log(log):\n",
    "    \n",
    "    status = 0\n",
    "    \n",
    "    with open(log, errors='ignore') as fr:\n",
    "        for line in fr:\n",
    "            info = line.strip()\n",
    "            if 'Done!' in info:\n",
    "                status = 1\n",
    "    \n",
    "    return(status)"
   ]
  },
  {
   "cell_type": "code",
   "execution_count": 6,
   "id": "7b953f41",
   "metadata": {},
   "outputs": [],
   "source": [
    "def read_fithichip_peak_files(file):\n",
    "    peak_data = {}\n",
    "    count = 0\n",
    "    with open(file) as fr:\n",
    "        for line in fr:\n",
    "            if line.startswith('c'):\n",
    "                info = line.strip().split()\n",
    "                peak_info = info[0:4]\n",
    "                peak_data[count] = peak_info\n",
    "                count = count + 1\n",
    "    return(peak_data)"
   ]
  },
  {
   "cell_type": "markdown",
   "id": "3b54e2c3",
   "metadata": {},
   "source": [
    "## Check Logs"
   ]
  },
  {
   "cell_type": "code",
   "execution_count": 7,
   "id": "6cfa1cba",
   "metadata": {},
   "outputs": [],
   "source": [
    "# load the data\n",
    "df = pd.read_table(input_fn)\n",
    "df['sample_index'] = df.index + 1 # add 1 since we'll be using 1-based indexing with sed"
   ]
  },
  {
   "cell_type": "code",
   "execution_count": 8,
   "id": "e2812186",
   "metadata": {},
   "outputs": [
    {
     "data": {
      "text/html": [
       "<div>\n",
       "<style scoped>\n",
       "    .dataframe tbody tr th:only-of-type {\n",
       "        vertical-align: middle;\n",
       "    }\n",
       "\n",
       "    .dataframe tbody tr th {\n",
       "        vertical-align: top;\n",
       "    }\n",
       "\n",
       "    .dataframe thead th {\n",
       "        text-align: right;\n",
       "    }\n",
       "</style>\n",
       "<table border=\"1\" class=\"dataframe\">\n",
       "  <thead>\n",
       "    <tr style=\"text-align: right;\">\n",
       "      <th></th>\n",
       "      <th>std_sample_name</th>\n",
       "      <th>gse_id</th>\n",
       "      <th>organism</th>\n",
       "      <th>bio_rep</th>\n",
       "      <th>antibody_target</th>\n",
       "      <th>restriction_enzyme</th>\n",
       "      <th>sample_name</th>\n",
       "      <th>sample_index</th>\n",
       "    </tr>\n",
       "  </thead>\n",
       "  <tbody>\n",
       "    <tr>\n",
       "      <th>0</th>\n",
       "      <td>mESC_WT.GSE147919.Mus_Musculus.RYBP.b1</td>\n",
       "      <td>GSE147919</td>\n",
       "      <td>Mus_Musculus</td>\n",
       "      <td>1</td>\n",
       "      <td>RYBP</td>\n",
       "      <td>MboI</td>\n",
       "      <td>mESC_WT</td>\n",
       "      <td>1</td>\n",
       "    </tr>\n",
       "    <tr>\n",
       "      <th>1</th>\n",
       "      <td>mESC_WT.GSE147919.Mus_Musculus.RYBP.b2</td>\n",
       "      <td>GSE147919</td>\n",
       "      <td>Mus_Musculus</td>\n",
       "      <td>2</td>\n",
       "      <td>RYBP</td>\n",
       "      <td>MboI</td>\n",
       "      <td>mESC_WT</td>\n",
       "      <td>2</td>\n",
       "    </tr>\n",
       "  </tbody>\n",
       "</table>\n",
       "</div>"
      ],
      "text/plain": [
       "                          std_sample_name     gse_id      organism  bio_rep  \\\n",
       "0  mESC_WT.GSE147919.Mus_Musculus.RYBP.b1  GSE147919  Mus_Musculus        1   \n",
       "1  mESC_WT.GSE147919.Mus_Musculus.RYBP.b2  GSE147919  Mus_Musculus        2   \n",
       "\n",
       "  antibody_target restriction_enzyme sample_name  sample_index  \n",
       "0            RYBP               MboI     mESC_WT             1  \n",
       "1            RYBP               MboI     mESC_WT             2  "
      ]
     },
     "execution_count": 8,
     "metadata": {},
     "output_type": "execute_result"
    }
   ],
   "source": [
    "df"
   ]
  },
  {
   "cell_type": "code",
   "execution_count": 9,
   "id": "5ec323c8",
   "metadata": {},
   "outputs": [
    {
     "name": "stdout",
     "output_type": "stream",
     "text": [
      "number of samples: 2\n"
     ]
    }
   ],
   "source": [
    "print('number of samples:', len(df))"
   ]
  },
  {
   "cell_type": "code",
   "execution_count": 14,
   "id": "df9fc1ce",
   "metadata": {},
   "outputs": [],
   "source": [
    "# create a dataframe of log information\n",
    "output_logs = glob.glob('ref_genome/results/peaks/logs/run_fithichip_peakcalling.o5587447-*')\n",
    "log_data = []   \n",
    "for out_log in output_logs:\n",
    "    sample_index = out_log.split('-')[1]\n",
    "    index, sample_name, read_length, job_id, out_status = read_out_log(out_log)\n",
    "    error_log = [log for log in glob.glob('ref_genome/results/peaks/logs/run_fithichip_peakcalling.e5587447-*') if log.split('-')[1] == sample_index][0]\n",
    "    error_status = read_error_log(error_log)\n",
    "    log_data.append([index, sample_name, read_length, job_id, out_status, error_status, os.path.basename(out_log)])\n",
    "log_df = pd.DataFrame(log_data)\n",
    "log_df.columns = ['sample_index', 'std_sample_name', 'read_length', 'job_id', 'out_status', 'error_status', 'log']\n",
    "log_df.drop('sample_index', inplace=True, axis=1)"
   ]
  },
  {
   "cell_type": "code",
   "execution_count": 15,
   "id": "6486421f",
   "metadata": {},
   "outputs": [
    {
     "data": {
      "text/html": [
       "<div>\n",
       "<style scoped>\n",
       "    .dataframe tbody tr th:only-of-type {\n",
       "        vertical-align: middle;\n",
       "    }\n",
       "\n",
       "    .dataframe tbody tr th {\n",
       "        vertical-align: top;\n",
       "    }\n",
       "\n",
       "    .dataframe thead th {\n",
       "        text-align: right;\n",
       "    }\n",
       "</style>\n",
       "<table border=\"1\" class=\"dataframe\">\n",
       "  <thead>\n",
       "    <tr style=\"text-align: right;\">\n",
       "      <th></th>\n",
       "      <th>std_sample_name</th>\n",
       "      <th>read_length</th>\n",
       "      <th>job_id</th>\n",
       "      <th>out_status</th>\n",
       "      <th>error_status</th>\n",
       "      <th>log</th>\n",
       "    </tr>\n",
       "  </thead>\n",
       "  <tbody>\n",
       "    <tr>\n",
       "      <th>0</th>\n",
       "      <td>THP-1-Vector-Batch2.GSE149420.Homo_Sapiens.H3K4me3.b1</td>\n",
       "      <td>150</td>\n",
       "      <td>5587447</td>\n",
       "      <td>1</td>\n",
       "      <td>1</td>\n",
       "      <td>run_fithichip_peakcalling.o5587447-316</td>\n",
       "    </tr>\n",
       "    <tr>\n",
       "      <th>1</th>\n",
       "      <td>THP-1-WT-Batch2.GSE149420.Homo_Sapiens.H3K4me3.b1</td>\n",
       "      <td>150</td>\n",
       "      <td>5587447</td>\n",
       "      <td>1</td>\n",
       "      <td>1</td>\n",
       "      <td>run_fithichip_peakcalling.o5587447-319</td>\n",
       "    </tr>\n",
       "    <tr>\n",
       "      <th>2</th>\n",
       "      <td>THP-1-del-TRP-Batch2.GSE149420.Homo_Sapiens.H3K4me3.b1</td>\n",
       "      <td>150</td>\n",
       "      <td>5587447</td>\n",
       "      <td>1</td>\n",
       "      <td>1</td>\n",
       "      <td>run_fithichip_peakcalling.o5587447-312</td>\n",
       "    </tr>\n",
       "    <tr>\n",
       "      <th>3</th>\n",
       "      <td>THP-1-del-cIDR-Batch2.GSE149420.Homo_Sapiens.H3K4me3.b1</td>\n",
       "      <td>150</td>\n",
       "      <td>5587447</td>\n",
       "      <td>1</td>\n",
       "      <td>1</td>\n",
       "      <td>run_fithichip_peakcalling.o5587447-308</td>\n",
       "    </tr>\n",
       "    <tr>\n",
       "      <th>4</th>\n",
       "      <td>THP-1-del-eIFIDR-Batch2.GSE149420.Homo_Sapiens.H3K4me3.b1</td>\n",
       "      <td>150</td>\n",
       "      <td>5587447</td>\n",
       "      <td>1</td>\n",
       "      <td>1</td>\n",
       "      <td>run_fithichip_peakcalling.o5587447-310</td>\n",
       "    </tr>\n",
       "  </tbody>\n",
       "</table>\n",
       "</div>"
      ],
      "text/plain": [
       "                                             std_sample_name read_length  \\\n",
       "0      THP-1-Vector-Batch2.GSE149420.Homo_Sapiens.H3K4me3.b1         150   \n",
       "1          THP-1-WT-Batch2.GSE149420.Homo_Sapiens.H3K4me3.b1         150   \n",
       "2     THP-1-del-TRP-Batch2.GSE149420.Homo_Sapiens.H3K4me3.b1         150   \n",
       "3    THP-1-del-cIDR-Batch2.GSE149420.Homo_Sapiens.H3K4me3.b1         150   \n",
       "4  THP-1-del-eIFIDR-Batch2.GSE149420.Homo_Sapiens.H3K4me3.b1         150   \n",
       "\n",
       "    job_id  out_status  error_status                                     log  \n",
       "0  5587447           1             1  run_fithichip_peakcalling.o5587447-316  \n",
       "1  5587447           1             1  run_fithichip_peakcalling.o5587447-319  \n",
       "2  5587447           1             1  run_fithichip_peakcalling.o5587447-312  \n",
       "3  5587447           1             1  run_fithichip_peakcalling.o5587447-308  \n",
       "4  5587447           1             1  run_fithichip_peakcalling.o5587447-310  "
      ]
     },
     "execution_count": 15,
     "metadata": {},
     "output_type": "execute_result"
    }
   ],
   "source": [
    "log_df = log_df.sort_values(by=[\"std_sample_name\"], ascending=True).reset_index(drop=True)\n",
    "log_df"
   ]
  },
  {
   "cell_type": "markdown",
   "id": "47b68b4a",
   "metadata": {},
   "source": [
    "## Identifying problem samples"
   ]
  },
  {
   "cell_type": "code",
   "execution_count": 16,
   "id": "003d5502",
   "metadata": {
    "scrolled": false
   },
   "outputs": [
    {
     "name": "stdout",
     "output_type": "stream",
     "text": [
      "nubmer of problem samples: 0\n"
     ]
    }
   ],
   "source": [
    "problems = (log_df.out_status != 1) | (log_df.error_status != 1)\n",
    "problems_df = log_df.loc[problems,:]\n",
    "print('nubmer of problem samples:', len(problems_df))"
   ]
  },
  {
   "cell_type": "code",
   "execution_count": 17,
   "id": "2b2c8d39",
   "metadata": {
    "scrolled": false
   },
   "outputs": [
    {
     "data": {
      "text/html": [
       "<div>\n",
       "<style scoped>\n",
       "    .dataframe tbody tr th:only-of-type {\n",
       "        vertical-align: middle;\n",
       "    }\n",
       "\n",
       "    .dataframe tbody tr th {\n",
       "        vertical-align: top;\n",
       "    }\n",
       "\n",
       "    .dataframe thead th {\n",
       "        text-align: right;\n",
       "    }\n",
       "</style>\n",
       "<table border=\"1\" class=\"dataframe\">\n",
       "  <thead>\n",
       "    <tr style=\"text-align: right;\">\n",
       "      <th></th>\n",
       "      <th>std_sample_name</th>\n",
       "      <th>job_id</th>\n",
       "      <th>out_status</th>\n",
       "      <th>out_status</th>\n",
       "      <th>read_length</th>\n",
       "      <th>log</th>\n",
       "    </tr>\n",
       "  </thead>\n",
       "  <tbody>\n",
       "  </tbody>\n",
       "</table>\n",
       "</div>"
      ],
      "text/plain": [
       "Empty DataFrame\n",
       "Columns: [std_sample_name, job_id, out_status, out_status, read_length, log]\n",
       "Index: []"
      ]
     },
     "execution_count": 17,
     "metadata": {},
     "output_type": "execute_result"
    }
   ],
   "source": [
    "problems_df.loc[:, ['std_sample_name', 'job_id', 'out_status', 'out_status', 'read_length', 'log']]"
   ]
  },
  {
   "cell_type": "code",
   "execution_count": 17,
   "id": "b89e51dc",
   "metadata": {},
   "outputs": [],
   "source": [
    "header_output = '{}.with_header.tsv'.format(output_prefix)\n",
    "problems_df.to_csv(header_output, header=True, index=False, sep='\\t')"
   ]
  },
  {
   "cell_type": "code",
   "execution_count": null,
   "id": "830b69fc",
   "metadata": {},
   "outputs": [],
   "source": []
  }
 ],
 "metadata": {
  "kernelspec": {
   "display_name": "hichip-db",
   "language": "python",
   "name": "hichip-db"
  },
  "language_info": {
   "codemirror_mode": {
    "name": "ipython",
    "version": 3
   },
   "file_extension": ".py",
   "mimetype": "text/x-python",
   "name": "python",
   "nbconvert_exporter": "python",
   "pygments_lexer": "ipython3",
   "version": "3.9.12"
  }
 },
 "nbformat": 4,
 "nbformat_minor": 5
}
