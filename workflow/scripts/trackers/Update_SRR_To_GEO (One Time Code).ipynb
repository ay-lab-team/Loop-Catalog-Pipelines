{
 "cells": [
  {
   "cell_type": "raw",
   "id": "cdc5fc6a",
   "metadata": {},
   "source": [
    "import shutil"
   ]
  },
  {
   "cell_type": "raw",
   "id": "b094e5cb",
   "metadata": {},
   "source": []
  },
  {
   "cell_type": "raw",
   "id": "ea5a19fd",
   "metadata": {},
   "source": [
    "import os "
   ]
  },
  {
   "cell_type": "raw",
   "id": "7dbf2166",
   "metadata": {},
   "source": [
    "import glob "
   ]
  },
  {
   "cell_type": "raw",
   "id": "35c22a72",
   "metadata": {},
   "source": [
    "os.chdir('/mnt/BioHome/jreyna/hichip-db-loop-calling/')"
   ]
  },
  {
   "cell_type": "raw",
   "id": "e7dc88f5",
   "metadata": {},
   "source": [
    "fns = '/mnt/BioAdHoc/Groups/vd-ay/hichip-db-loop-calling/results/fastqs/parallel/logs'"
   ]
  },
  {
   "cell_type": "raw",
   "id": "22a259a6",
   "metadata": {},
   "source": [
    "fns = glob.glob(fns + '/*')"
   ]
  },
  {
   "cell_type": "raw",
   "id": "6af73aa5",
   "metadata": {},
   "source": [
    "def get_srr_and_splitting_lines(lines):\n",
    "    \n",
    "    srr_line, split_line = None, None\n",
    "    for i, line in enumerate(lines):\n",
    "        if line.startswith('srr_id'):\n",
    "            srr_line = [i, line]\n",
    "        elif line.startswith('Splitting:'):\n",
    "            split_line = [i, line]\n",
    "            break\n",
    "    return(srr_line, split_line)"
   ]
  },
  {
   "cell_type": "raw",
   "id": "dabf5922",
   "metadata": {},
   "source": [
    "for fn in fns:\n",
    "    \n",
    "    # read the file and look for srr and splitting lines\n",
    "    with open(fn) as fr:\n",
    "        lines = fr.readlines()\n",
    "    srr_line, split_line = get_srr_and_splitting_lines(lines)\n",
    "    \n",
    "    if srr_line != None:\n",
    "        \n",
    "        # get the geo id from the splitting line\n",
    "        geo_id = split_line[1].split('/')[3].split('.')[1]\n",
    "\n",
    "        # create the new srr line which should use a geo id instead\n",
    "        new_srr_line = srr_line[1].replace('srr_id', 'geo_id').strip()\n",
    "        new_srr_line = new_srr_line.split()\n",
    "        new_srr_line[1] = geo_id\n",
    "        new_srr_line = ' '.join(new_srr_line) + '\\n'\n",
    "        new_srr_line\n",
    "\n",
    "        # create the new set of lines with the geo id replacement    \n",
    "        new_lines = list(lines)\n",
    "        new_lines[srr_line[0]] = new_srr_line\n",
    "        \n",
    "        # make the final str\n",
    "        final_lines = ''.join(new_lines)\n",
    "        \n",
    "        # move the old file into an archived mode with *.old\n",
    "        old_fn = '{}.old'.format(fn)\n",
    "        shutil.copy(fn, old_fn)\n",
    "        \n",
    "        # writing the new file\n",
    "        new_fn = '{}.new'.format(fn)\n",
    "        with open(new_fn, 'w') as fw:\n",
    "            fw.write(final_lines)\n",
    "        "
   ]
  },
  {
   "cell_type": "raw",
   "id": "9bd0304d",
   "metadata": {},
   "source": []
  },
  {
   "cell_type": "raw",
   "id": "e210a7ab",
   "metadata": {},
   "source": []
  },
  {
   "cell_type": "raw",
   "id": "a86f01dd",
   "metadata": {},
   "source": []
  }
 ],
 "metadata": {
  "kernelspec": {
   "display_name": "HiC",
   "language": "python",
   "name": "hic_tls"
  },
  "language_info": {
   "codemirror_mode": {
    "name": "ipython",
    "version": 3
   },
   "file_extension": ".py",
   "mimetype": "text/x-python",
   "name": "python",
   "nbconvert_exporter": "python",
   "pygments_lexer": "ipython3",
   "version": "3.6.7"
  }
 },
 "nbformat": 4,
 "nbformat_minor": 5
}
