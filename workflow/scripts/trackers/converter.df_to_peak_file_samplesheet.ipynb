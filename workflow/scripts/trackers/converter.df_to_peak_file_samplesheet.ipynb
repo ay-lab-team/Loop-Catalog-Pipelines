{
 "cells": [
  {
   "cell_type": "code",
   "execution_count": 63,
   "metadata": {},
   "outputs": [],
   "source": [
    "import glob\n",
    "import os\n",
    "import sys\n",
    "import pandas as pd\n",
    "import config\n",
    "os.chdir(config.LOOP_CATALOG_DIR)\n",
    "pd.set_option('display.max_rows', 1000)\n",
    "pd.set_option('display.max_columns', 1000)\n",
    "pd.set_option('max_colwidth', 50)"
   ]
  },
  {
   "cell_type": "code",
   "execution_count": 64,
   "metadata": {},
   "outputs": [],
   "source": [
    "# setting input and output with jupyter notebook in context \n",
    "if 'ipykernel_launcher.py' in sys.argv[0]:\n",
    "    output_prefix = 'results/samplesheets/post-hicpro/human.11.6.22.peaks_files.samplesheet.without_header.tsv'\n",
    "# if not using jupyter notebook\n",
    "else:\n",
    "    input_fn = sys.argv[1]\n",
    "    output_prefix = sys.argv[2]"
   ]
  },
  {
   "cell_type": "code",
   "execution_count": 65,
   "metadata": {},
   "outputs": [],
   "source": [
    "samples = pd.read_table('results/samplesheets/hicpro/current.hicpro.samplesheet.without_header.tsv', header=None)\n",
    "columns = ['std_sample_name', 'gse_id', 'organism', 'bio_rep', 'antibody_target', 'restriction_enzyme', 'sample_name']\n",
    "samples.columns = columns"
   ]
  },
  {
   "cell_type": "code",
   "execution_count": 66,
   "metadata": {},
   "outputs": [],
   "source": [
    "# list of GSE IDs of processed ChIP-seq samples, or GSE IDs without any ChIP-seq samples\n",
    "# this list is used to determine which HiChIP samples do not have matching ChIP-seq data\n",
    "\n",
    "# Note: the GSE IDs are those corresponding to the matching HiChIP data, not necessarily the IDs with ChIP-seq data themselves\n",
    "matching_chipseq_human = [\"GSE136090\", \"GSE116193\", \"GSE105028\", \"GSE128106\", \"GSE147646\"]\n",
    "matching_chipseq_human.extend([\"GSE179545\", \"GSE108869\", \"GSE117888\", \"GSE116876\", \"GSE165783\", \"GSE115494\"])\n",
    "matching_chipseq_human.extend([\"GSE111537\", \"GSE131052\", \"GSE131651\", \"GSE136889\", \"GSE137848\", \"GSE149420\"])\n",
    "matching_chipseq_human.extend([\"GSE151002\", \"GSE154513\", \"GSE156649\", \"GSE159972\", \"GSE157105\", \"GSE157222\"])\n",
    "matching_chipseq_human.extend([\"GSE107147\", \"GSE173842\", \"GSE179666\", \"GSE180198\", \"GSE97584\", \"GSE166234\"])\n",
    "matching_chipseq_human.extend([\"GSE165303\", \"phs001703v3p1\", \"phs001703v4p1\", \"GSE99518\"])\n",
    "\n",
    "no_matching_chipseq_human = [\"GSE178598\", \"GSE101498\", \"GSE147854\", \"GSE151193\", \"GSE179755\", \"GSE173699\"]\n",
    "no_matching_chipseq_human.extend([\"GSE92881\", \"GSE100856\", \"GSE111930\", \"GSE115524\", \"GSE115896\", \"GSE116872\"])\n",
    "no_matching_chipseq_human.extend([\"GSE116875\", \"GSE126792\", \"GSE137168\", \"GSE137906\", \"GSE137936\", \"GSE139466\"])\n",
    "no_matching_chipseq_human.extend([\"GSE148958\", \"GSE152900\", \"GSE155184\", \"GSE155328\", \"GSE156772\"])\n",
    "no_matching_chipseq_human.extend([\"GSE158642\", \"GSE168881\", \"GSE171591\", \"GSE173871\", \"GSE181971\", \"GSE183797\"])\n",
    "no_matching_chipseq_human.extend([\"GSE188380\", \"GSE196235\", \"GSE80820\", \"GSE150906\", \"GSE133227\", \"GSE120294\"])\n",
    "no_matching_chipseq_human.extend([\"GSE147672\"])\n",
    "\n",
    "matching_chipseq_mouse = [\"GSE112717\", \"GSE141113\", \"GSE110898\", \"GSE141847\", \"GSE142004\", \"GSE159629\"]\n",
    "matching_chipseq_mouse.extend([\"GSE178344\", \"GSE147919\"])\n",
    "\n",
    "no_matching_chipseq_mouse = [\"GSE101498\", \"GSE148691\", \"GSE112176\", \"GSE113339\", \"GSE115524\"]\n",
    "no_matching_chipseq_mouse.extend([\"GSE121671\", \"GSE126362\", \"GSE135296\", \"GSE148691\", \"GSE150536\"])\n",
    "no_matching_chipseq_mouse.extend([\"GSE150906\", \"GSE153884\", \"GSE157666\", \"GSE160656\", \"GSE162617\"])\n",
    "no_matching_chipseq_mouse.extend([\"GSE189442\", \"GSE192387\", \"GSE193079\", \"GSE194068\", \"GSE80820\"])\n",
    "no_matching_chipseq_mouse.extend([\"GSE99519\", \"GSE145793\", \"GSE166177\"])\n",
    "\n",
    "processed_gse_ids = matching_chipseq_human + no_matching_chipseq_human + matching_chipseq_mouse + no_matching_chipseq_mouse"
   ]
  },
  {
   "cell_type": "code",
   "execution_count": 67,
   "metadata": {},
   "outputs": [],
   "source": [
    "# Chip-seq GSE IDs\n",
    "matching_chipseq_human = [\n",
    "    \"GSE147646\", \"GSE136090\", \"GSE116193\", \"GSE105028\",\n",
    "    \"GSE179545\", \"GSE128106\", \"GSE108869\", \"GSE111537\", \"GSE115494\",\n",
    "    \"GSE165783\", \"GSE116876\", \"GSE117888\", \"GSE131052\", \"GSE131651\",\n",
    "    \"GSE136889\", \"GSE137848\", \"GSE149420\", \"GSE151002\", \"GSE154513\",\n",
    "    \"GSE156649\", \"GSE157105\", \"GSE157222\", \"GSE159972\", \"GSE107147\",\n",
    "    \"GSE173842\", \"GSE179666\", \"GSE180198\", \"GSE97584\", \"GSE99518\",\n",
    "    \"GSE166234\", \"GSE165303\", \"phs001703v3p1\", \"phs001703v4p1\"\n",
    "]"
   ]
  },
  {
   "cell_type": "code",
   "execution_count": 68,
   "metadata": {},
   "outputs": [],
   "source": [
    "# Chip-seq GSE IDs\n",
    "matching_chipseq_mouse = [\"GSE112717\", \"GSE141104\", \"GSE110896\", \"GSE141847\", \"GSE142003\", \"GSE147919\", \"GSE159627\", \"GSE178346\"]"
   ]
  },
  {
   "cell_type": "code",
   "execution_count": 69,
   "metadata": {},
   "outputs": [],
   "source": [
    "human_gse_map = {\n",
    "    \"GSE147646\": \"GSE147646\", \"GSE136090\": \"GSE136090\", \"GSE116193\": \"GSE116193\",\n",
    "    \"GSE105028\": \"GSE105028\", \"GSE179544\": \"GSE179545\", \"GSE128106\": \"GSE128106\",\n",
    "    \"GSE108869\": \"GSE108869\", \"GSE111537\": \"GSE111537\", \"GSE115492\": \"GSE115494\",\n",
    "    \"GSE116495\": \"GSE165783\", \"GSE116869\": \"GSE116876\", \"GSE117888\": \"GSE117888\",\n",
    "    \"GSE131054\": \"GSE131052\", \"GSE131651\": \"GSE131651\", \"GSE136629\": \"GSE136889\",\n",
    "    \"GSE137849\": \"GSE137848\", \"GSE149420\": \"GSE149420\", \"GSE151001\": \"GSE151002\",\n",
    "    \"GSE154513\": \"GSE154513\", \"GSE156650\": \"GSE156649\", \"GSE157107\": \"GSE157105\",\n",
    "    \"GSE157381\": \"GSE157222\", \"GSE159985\": \"GSE159972\", \"GSE165207\": \"GSE107147\",\n",
    "    \"GSE173843\": \"GSE173842\", \"GSE179666\": \"GSE179666\", \"GSE180194\": \"GSE180198\",\n",
    "    \"GSE97585\": \"GSE97584\", \"GSE99519\": \"GSE99518\", \"GSE166232\": \"GSE166234\",\n",
    "    \"GSE165303\": \"GSE165303\", \"phs001703v3p1\": \"phs001703v3p1\", \"phs001703v4p1\": \"phs001703v4p1\"}"
   ]
  },
  {
   "cell_type": "code",
   "execution_count": 70,
   "metadata": {},
   "outputs": [],
   "source": [
    "mouse_gse_map = {\n",
    "    \"GSE112717\": \"GSE112717\", \"GSE141113\": \"GSE141104\", \"GSE110898\": \"GSE110896\",\n",
    "    \"GSE141847\": \"GSE141847\", \"GSE142004\": \"GSE142003\", \"GSE147919\": \"GSE147919\",\n",
    "    \"GSE159629\": \"GSE159627\", \"GSE178344\": \"GSE178346\"}"
   ]
  },
  {
   "cell_type": "markdown",
   "metadata": {},
   "source": [
    "#### Function to generate pandas dataframe"
   ]
  },
  {
   "cell_type": "code",
   "execution_count": 71,
   "metadata": {},
   "outputs": [],
   "source": [
    "def read_chipseq_files(file):\n",
    "    peak_data = {}\n",
    "    count = 0\n",
    "    with open(file) as fr:\n",
    "        for line in fr:\n",
    "            count = count + 1\n",
    "    return(count)"
   ]
  },
  {
   "cell_type": "code",
   "execution_count": 72,
   "metadata": {},
   "outputs": [],
   "source": [
    "def get_gse(ID, org):\n",
    "    if org == \"Homo\":\n",
    "        if ID in human_gse_map.keys():\n",
    "            return human_gse_map[ID]\n",
    "    elif org == \"Mus\":\n",
    "        if ID in mouse_gse_map.keys():\n",
    "            return mouse_gse_map[ID]\n",
    "    return ID"
   ]
  },
  {
   "cell_type": "code",
   "execution_count": 73,
   "metadata": {},
   "outputs": [],
   "source": [
    "chipline_sample_list = \"results/peaks/chipline_samples.new.txt\"\n",
    "merged_chipline_sample_list = \"results/peaks/merged_chipline_samples.new.txt\"\n",
    "\n",
    "chipline_all_samples = []\n",
    "merged_chipline_all_samples = []\n",
    "\n",
    "with open(chipline_sample_list) as csl:\n",
    "    for line in csl:\n",
    "        chipline_all_samples.append(line.strip())\n",
    "        \n",
    "with open(merged_chipline_sample_list) as mcsl:\n",
    "    for line in mcsl:\n",
    "        merged_chipline_all_samples.append(line.strip())"
   ]
  },
  {
   "cell_type": "code",
   "execution_count": 74,
   "metadata": {},
   "outputs": [],
   "source": [
    "# Create a dataframe with the following columns:\n",
    "# 1) Sample Name\n",
    "# 2) HiC-Pro .allValidPairs file\n",
    "# 3) Matching ChIP-seq peaks (if it exists)\n",
    "# 4) Matching FitHiChIP peaks (if it has been processed yet)\n",
    "\n",
    "def generate_df():\n",
    "    \n",
    "    data = []\n",
    "    info = []\n",
    "    org = \"Homo\"\n",
    "    hicpro_paths = glob.glob('results/hicpro/*' + org + '*/hic_results/data/*/*.allValidPairs')\n",
    "    \n",
    "    chipline_missing = []\n",
    "    merged_chipline_missing = []\n",
    "    fithichip_missing = []\n",
    "    hichip_peaks_missing = []\n",
    "    \n",
    "    # iterate through each HiC-Pro output directory\n",
    "    for fn in hicpro_paths:\n",
    "        sample_name_hichip = fn.split('/')[2]\n",
    "        tmp = sample_name_hichip.strip().split(\".\")\n",
    "        tmp[1] = get_gse(tmp[1], org)\n",
    "        sample_name_chipseq = \".\".join(tmp)\n",
    "        sample_name_chipseq = sample_name_chipseq[:-2] + \"b1\"\n",
    "        sample_name_chipseq_general = sample_name_chipseq[:-2] + \"b\"\n",
    "        \n",
    "        # hicpro validpairs file\n",
    "        hicpro_path = config.LOOP_CATALOG_DIR + fn\n",
    "        \n",
    "        chipseq_peak_file=\"Not_processed_or_not_available\"\n",
    "        chipline_path=config.LOOP_CATALOG_DIR + \"results/peaks\"\n",
    "        \n",
    "        # for in-house HiChIP samples with pre-generated peaks:\n",
    "        # update hicpro sample names to match chipline sample names for pieQTL/NCM samples            \n",
    "        if 'phs001703v' in sample_name_hichip:\n",
    "            if 'phs001703v3' in sample_name_hichip:\n",
    "                cell_type = sample_name_hichip.split('.')[0].split('_1')[0]\n",
    "                sample_name_chipseq = cell_type + \"_merged_donors_hg38.phs001703v3p1.Homo_Sapiens.H3K27ac.b1\"\n",
    "            if 'phs001703v4' in sample_name_hichip:\n",
    "                cell_type = sample_name_hichip.split('.')[0].split('_1')[0]\n",
    "                sample_name_chipseq = cell_type + \"_merged_donors_hg38.phs001703v4p1.Homo_Sapiens.H3K27ac.b1\"\n",
    "                \n",
    "        # check whether a folder matching sample_name exists in the merged_chipline folder\n",
    "        merged_chipline_path = chipline_path + \"/merged_chipline/\" + sample_name_chipseq\n",
    "        #count = 0\n",
    "        \n",
    "        #if os.path.exists(merged_chipline_path):   \n",
    "        if sample_name_chipseq in merged_chipline_all_samples:\n",
    "            sample_info = []\n",
    "            sample_info.append(sample_name_hichip)\n",
    "            chipseq_peak_file = merged_chipline_path + \"/FINAL_IDR_Peaks_FDR0.05.txt\"\n",
    "            \n",
    "            try:\n",
    "                p = open(chipseq_peak_file)\n",
    "            except OSError as e:\n",
    "                sample = str(e).strip().split(\"/\")[10]\n",
    "                merged_chipline_missing.append(sample)\n",
    "            \n",
    "            #sample_info.append(read_chipseq_files(chipseq_peak_file))\n",
    "            chipline_path += \"/chipline/\" + sample_name_chipseq_general + \"*/MACS2_Ext*/*.macs2_peaks.narrowPeak_Q0.01filt\"            \n",
    "            replicates = glob.glob(chipline_path)\n",
    "            \n",
    "#             if \"AML12_shCtrl.GSE141104.Mus_Musculus.H3K9me3\" in sample_name_hichip:\n",
    "#                 print(\"Sample:\", sample_name_hichip)\n",
    "#                 print(chipline_path)\n",
    "#                 print(replicates)\n",
    "            \n",
    "            if len(replicates) == 0:\n",
    "                reps_missing = [sample for sample in chipline_all_samples if sample_name_chipseq_general in sample]\n",
    "                for rep in reps_missing:\n",
    "                    chipline_missing.append(rep)\n",
    "            \n",
    "            print(\"find max rep for:\", sample_name_hichip)\n",
    "            max_rep_peaks = -1\n",
    "            max_rep = \"\"\n",
    "            for rep in replicates:\n",
    "                try:\n",
    "                    num_peaks = int(read_chipseq_files(rep))\n",
    "                    print(\"rep:\", rep.split(\"/\")[-1], num_peaks)\n",
    "                    sample_info.append(num_peaks)\n",
    "                    if num_peaks > max_rep_peaks:\n",
    "                        max_rep_peaks = num_peaks\n",
    "                        max_rep = rep\n",
    "                except OSError as e:\n",
    "                    sample = str(e).strip().split(\"/\")[10]\n",
    "                    chipline_missing.append(sample)\n",
    "            print(\"chosen:\", max_rep.split(\"/\")[-1])\n",
    "            print()\n",
    "            chipseq_peak_file = max_rep\n",
    "            #sample_info.append(max_rep_peaks)\n",
    "            info.append(sample_info)\n",
    "\n",
    "        # check whether a folder matching sample_name exists in the chipline folder\n",
    "        # IMPORTANT: Replace the last character of the sample name with 1 (so it is .b1 to match with the ChIP-seq loops)\n",
    "        chipline_path += \"/chipline/\" + sample_name_chipseq + \"/MACS2_Ext*/*.macs2_peaks.narrowPeak_Q0.01filt\"\n",
    "        if chipseq_peak_file == \"Not_processed_or_not_available\":\n",
    "            if len(glob.glob(chipline_path)) > 0:\n",
    "                chipseq_peak_file = glob.glob(chipline_path)[0]\n",
    "            elif len(glob.glob(chipline_path)) == 0 and sample_name_chipseq in chipline_all_samples:\n",
    "                chipline_missing.append(sample_name_chipseq)\n",
    "\n",
    "        # check if the matching ChIP-seq sample does not exist\n",
    "        if any(gse_id in sample_name_chipseq for gse_id in processed_gse_ids) and not os.path.exists(chipseq_peak_file):\n",
    "            chipseq_peak_file = \"Not_available\"\n",
    "            if sample_name_chipseq in chipline_all_samples and sample_name_chipseq not in chipline_missing:\n",
    "                print(sample_name_chipseq)\n",
    "\n",
    "        # fix path if assigned chip-seq path does not contain peak calls\n",
    "        ## NOTE: REMOVE FIRST CONDITION FOR ADDITION OF CHIPSEQ PEAKS TO FILE\n",
    "        if chipseq_peak_file!=\"Not_processed_or_not_available\" and chipseq_peak_file != \"Not_available\" and os.path.getsize(chipseq_peak_file) == 0:\n",
    "            print(\"sample:\", sample_name_hichip)\n",
    "            print(\"old path:\", chipseq_peak_file)\n",
    "\n",
    "            new_path = ''\n",
    "            if \"merged_chipline\" in chipseq_peak_file:\n",
    "                new_path = glob.glob(chipline_path)[0]\n",
    "                if os.path.getsize(new_path) == 0:\n",
    "                    print(\"rep 1 was empty\")\n",
    "                    new_path = glob.glob(chipline_path)[0].replace('b1', 'b2')\n",
    "\n",
    "            if new_path == '':\n",
    "                if os.path.getsize(config.LOOP_CATALOG_DIR + 'results/peaks/chipline/{sn}/MACS2_Ext_with_Control/{sn}.macs2_peaks.narrowPeak_Q0.05filt'.format(sn = sample_name_chipseq)) == 0:\n",
    "                    print(\"reg chipline 0.05 filt is also empty\")\n",
    "                    new_path = \"Not_available\"\n",
    "                else:\n",
    "                    print(\"reg chipline 0.05 filt is NOT empty\")\n",
    "                    new_path = config.LOOP_CATALOG_DIR + 'results/peaks/chipline/{sn}/MACS2_Ext_with_Control/{sn}.macs2_peaks.narrowPeak_Q0.05filt'.format(sn = sample_name_chipseq)\n",
    "\n",
    "            print(\"new path:\", new_path)\n",
    "            print(\"new path size:\", os.path.getsize(new_path))\n",
    "            print(os.path.exists(new_path))\n",
    "            print()\n",
    "\n",
    "            chipseq_peak_file = new_path\n",
    "            \n",
    "        # check whether a folder matching the sample name exists in the fithichip folder\n",
    "        fithichip_peak_file = \"Not_processed\"\n",
    "        fithichip_peak_path = 'results/peaks/fithichip/{sn}/MACS2_ExtSize/out_macs2_peaks.narrowPeak'.format(sn = sample_name_hichip)\n",
    "        \n",
    "        try:\n",
    "            p = open(fithichip_peak_path)\n",
    "        except OSError as e:\n",
    "            sample = str(e).strip().split(\"/\")[3]\n",
    "            fithichip_missing.append(sample)\n",
    "        \n",
    "        if os.path.exists(fithichip_peak_path):\n",
    "            fithichip_peak_file = config.LOOP_CATALOG_DIR + fithichip_peak_path\n",
    "        \n",
    "        # check whether a folder matching the sample name exists in the hichip-peaks folder\n",
    "        hichippeaks_peak_file = \"Not_processed\"\n",
    "        hichippeaks_path = 'results/peaks/hichip-peaks/{sn}/out_peaks.bed'.format(sn = sample_name_hichip)\n",
    "        \n",
    "        try:\n",
    "            p = open(hichippeaks_path)\n",
    "        except OSError as e:\n",
    "            sample = str(e).strip().split(\"/\")[3]\n",
    "            #print(sample)\n",
    "            hichip_peaks_missing.append(sample)\n",
    "        \n",
    "        if os.path.exists(hichippeaks_path):\n",
    "            hichippeaks_peak_file = config.LOOP_CATALOG_DIR + hichippeaks_path\n",
    "\n",
    "        # add all the information for this sample to the 2D array\n",
    "        sample_data = [sample_name_hichip, hicpro_path, hichippeaks_peak_file, fithichip_peak_file, chipseq_peak_file]\n",
    "        \n",
    "        data.append(sample_data)\n",
    "        \n",
    "    return pd.DataFrame(data), set(chipline_missing), set(merged_chipline_missing), set(fithichip_missing), set(hichip_peaks_missing)\n",
    "    "
   ]
  },
  {
   "cell_type": "markdown",
   "metadata": {},
   "source": [
    "#### Display the pandas dataframe"
   ]
  },
  {
   "cell_type": "code",
   "execution_count": null,
   "metadata": {},
   "outputs": [],
   "source": [
    "df, chipline_missing, merged_chipline_missing, fithichip_missing, hichip_peaks_missing = generate_df()"
   ]
  },
  {
   "cell_type": "code",
   "execution_count": 76,
   "metadata": {},
   "outputs": [
    {
     "name": "stdout",
     "output_type": "stream",
     "text": [
      "0\n",
      "0\n",
      "8\n",
      "338\n"
     ]
    }
   ],
   "source": [
    "for l in chipline_missing, merged_chipline_missing, fithichip_missing, hichip_peaks_missing:\n",
    "    print(len(l))"
   ]
  },
  {
   "cell_type": "code",
   "execution_count": 48,
   "metadata": {},
   "outputs": [
    {
     "data": {
      "text/plain": [
       "set()"
      ]
     },
     "execution_count": 48,
     "metadata": {},
     "output_type": "execute_result"
    }
   ],
   "source": [
    "chipline_missing"
   ]
  },
  {
   "cell_type": "code",
   "execution_count": 49,
   "metadata": {},
   "outputs": [
    {
     "data": {
      "text/plain": [
       "{'F1_CD4_CD8.GSE141847.Mus_Musculus.SMC1A.b1'}"
      ]
     },
     "execution_count": 49,
     "metadata": {},
     "output_type": "execute_result"
    }
   ],
   "source": [
    "merged_chipline_missing"
   ]
  },
  {
   "cell_type": "code",
   "execution_count": 185,
   "metadata": {},
   "outputs": [],
   "source": [
    "missing_df = pd.DataFrame(merged_chipline_missing)\n",
    "missing_df = missing_df.sort_values(by = 0)\n",
    "missing_df.to_csv(\"broken.merged_chipline.mm10.txt\", header=False, index=False, sep='\\t')"
   ]
  },
  {
   "cell_type": "code",
   "execution_count": null,
   "metadata": {},
   "outputs": [],
   "source": []
  },
  {
   "cell_type": "code",
   "execution_count": 50,
   "metadata": {},
   "outputs": [],
   "source": [
    "test_df = pd.read_csv(\"results/samplesheets/post-hicpro/mouse_updated_0314.peaks_files.samplesheet.without_header.tsv\", header = None, sep = \"\\t\")"
   ]
  },
  {
   "cell_type": "code",
   "execution_count": 52,
   "metadata": {},
   "outputs": [
    {
     "data": {
      "text/plain": [
       "31"
      ]
     },
     "execution_count": 52,
     "metadata": {},
     "output_type": "execute_result"
    }
   ],
   "source": [
    "len(test_df.loc[test_df[4].str.contains(\"/mnt\")])"
   ]
  },
  {
   "cell_type": "code",
   "execution_count": 53,
   "metadata": {},
   "outputs": [],
   "source": [
    "df = df.sort_values(by=0).reset_index(drop=True)"
   ]
  },
  {
   "cell_type": "code",
   "execution_count": 54,
   "metadata": {},
   "outputs": [
    {
     "data": {
      "text/plain": [
       "31"
      ]
     },
     "execution_count": 54,
     "metadata": {},
     "output_type": "execute_result"
    }
   ],
   "source": [
    "len(df.loc[df[4].str.contains(\"/mnt\")])"
   ]
  },
  {
   "cell_type": "code",
   "execution_count": null,
   "metadata": {},
   "outputs": [],
   "source": [
    "df.columns = [\"std_sample_name\", \"validpairs_path\", \"hichip_peaks_path\", \"fithichip_path\", \"chipseq_path\"]\n",
    "df = df.sort_values(by=[\"std_sample_name\"], ascending=True).reset_index(drop=True)"
   ]
  },
  {
   "cell_type": "code",
   "execution_count": 57,
   "metadata": {},
   "outputs": [
    {
     "data": {
      "text/plain": [
       "194"
      ]
     },
     "execution_count": 57,
     "metadata": {},
     "output_type": "execute_result"
    }
   ],
   "source": [
    "len(df.loc[df['fithichip_path'].str.contains(\"/mnt\")])"
   ]
  },
  {
   "cell_type": "code",
   "execution_count": 58,
   "metadata": {},
   "outputs": [],
   "source": [
    "df_filt = df.loc[df[\"chipseq_path\"].str.contains(\"/mnt\")].drop(columns = [\"validpairs_path\",\"hichip_peaks_path\",\"fithichip_path\"])\n",
    "df_filt['fn'] = df_filt.apply(lambda row: row[\"chipseq_path\"].strip().split(\"/\")[-1], axis=1)\n",
    "fn = list(df_filt['fn'])"
   ]
  },
  {
   "cell_type": "code",
   "execution_count": 59,
   "metadata": {},
   "outputs": [],
   "source": [
    "test_df_filt = test_df.loc[test_df[4].str.contains(\"/mnt\")].drop(columns = [1,2,3])\n",
    "test_df_filt['fn'] = test_df_filt.apply(lambda row: row[4].strip().split(\"/\")[-1], axis=1)\n",
    "test_fn = list(test_df_filt['fn'])"
   ]
  },
  {
   "cell_type": "code",
   "execution_count": 60,
   "metadata": {},
   "outputs": [
    {
     "name": "stdout",
     "output_type": "stream",
     "text": [
      "test_fn: 3T3_Norm.GSE178344.Mus_Musculus.SMC1A.b1.macs2_peaks.narrowPeak_Q0.01filt\n",
      "fn: 3T3_Norm.GSE178346.Mus_Musculus.SMC1A.b1.macs2_peaks.narrowPeak_Q0.01filt\n",
      "*******GSE change\n",
      "\n",
      "test_fn: 3T3_TCF1.GSE178344.Mus_Musculus.SMC1A.b1.macs2_peaks.narrowPeak_Q0.01filt\n",
      "fn: 3T3_TCF1.GSE178346.Mus_Musculus.SMC1A.b1.macs2_peaks.narrowPeak_Q0.01filt\n",
      "*******GSE change\n",
      "\n",
      "test_fn: AML12_shCtrl.GSE141113.Mus_Musculus.H3K9me3.b2.macs2_peaks.narrowPeak_Q0.01filt\n",
      "fn: AML12_shCtrl.GSE141104.Mus_Musculus.H3K9me3.b2.macs2_peaks.narrowPeak_Q0.01filt\n",
      "*******GSE change\n",
      "\n",
      "test_fn: AML12_shCtrl.GSE141113.Mus_Musculus.H3K9me3.b2.macs2_peaks.narrowPeak_Q0.01filt\n",
      "fn: AML12_shCtrl.GSE141104.Mus_Musculus.H3K9me3.b2.macs2_peaks.narrowPeak_Q0.01filt\n",
      "*******GSE change\n",
      "\n",
      "test_fn: AML12_shSafb.GSE141113.Mus_Musculus.H3K9me3.b1.macs2_peaks.narrowPeak_Q0.01filt\n",
      "fn: AML12_shSafb.GSE141104.Mus_Musculus.H3K9me3.b1.macs2_peaks.narrowPeak_Q0.01filt\n",
      "*******GSE change\n",
      "\n",
      "test_fn: AML12_shSafb.GSE141113.Mus_Musculus.H3K9me3.b1.macs2_peaks.narrowPeak_Q0.01filt\n",
      "fn: AML12_shSafb.GSE141104.Mus_Musculus.H3K9me3.b1.macs2_peaks.narrowPeak_Q0.01filt\n",
      "*******GSE change\n",
      "\n",
      "test_fn: BMDM_24hIL4.GSE159629.Mus_Musculus.H3K4me3.b1.macs2_peaks.narrowPeak_Q0.01filt\n",
      "fn: BMDM_24hIL4.GSE159627.Mus_Musculus.H3K4me3.b1.macs2_peaks.narrowPeak_Q0.01filt\n",
      "*******GSE change\n",
      "\n",
      "test_fn: BMDM_24hIL4.GSE159629.Mus_Musculus.H3K4me3.b1.macs2_peaks.narrowPeak_Q0.01filt\n",
      "fn: BMDM_24hIL4.GSE159627.Mus_Musculus.H3K4me3.b1.macs2_peaks.narrowPeak_Q0.01filt\n",
      "*******GSE change\n",
      "\n",
      "test_fn: BMDM_Basal.GSE159629.Mus_Musculus.H3K4me3.b1.macs2_peaks.narrowPeak_Q0.01filt\n",
      "fn: BMDM_Basal.GSE159627.Mus_Musculus.H3K4me3.b1.macs2_peaks.narrowPeak_Q0.01filt\n",
      "*******GSE change\n",
      "\n",
      "test_fn: BMDM_Basal.GSE159629.Mus_Musculus.H3K4me3.b1.macs2_peaks.narrowPeak_Q0.01filt\n",
      "fn: BMDM_Basal.GSE159627.Mus_Musculus.H3K4me3.b1.macs2_peaks.narrowPeak_Q0.01filt\n",
      "*******GSE change\n",
      "\n",
      "test_fn: Erythroid_0hr.GSE142004.Mus_Musculus.YY1.b2.macs2_peaks.narrowPeak_Q0.01filt\n",
      "fn: Erythroid_0hr.GSE142003.Mus_Musculus.YY1.b2.macs2_peaks.narrowPeak_Q0.01filt\n",
      "*******GSE change\n",
      "\n",
      "test_fn: Erythroid_0hr.GSE142004.Mus_Musculus.YY1.b2.macs2_peaks.narrowPeak_Q0.01filt\n",
      "fn: Erythroid_0hr.GSE142003.Mus_Musculus.YY1.b2.macs2_peaks.narrowPeak_Q0.01filt\n",
      "*******GSE change\n",
      "\n",
      "test_fn: Erythroid_1hr.GSE142004.Mus_Musculus.YY1.b1.macs2_peaks.narrowPeak_Q0.01filt\n",
      "fn: Erythroid_1hr.GSE142003.Mus_Musculus.YY1.b1.macs2_peaks.narrowPeak_Q0.01filt\n",
      "*******GSE change\n",
      "\n",
      "test_fn: Erythroid_1hr.GSE142004.Mus_Musculus.YY1.b1.macs2_peaks.narrowPeak_Q0.01filt\n",
      "fn: Erythroid_1hr.GSE142003.Mus_Musculus.YY1.b1.macs2_peaks.narrowPeak_Q0.01filt\n",
      "*******GSE change\n",
      "\n",
      "test_fn: MLL_AF9.GSE110898.Mus_Musculus.H3K27ac.b1.macs2_peaks.narrowPeak_Q0.01filt\n",
      "fn: MLL_AF9.GSE110896.Mus_Musculus.H3K27ac.b1.macs2_peaks.narrowPeak_Q0.01filt\n",
      "*******GSE change\n",
      "\n",
      "test_fn: MLL_AF9_LSD1i.GSE110898.Mus_Musculus.H3K27ac.b1.macs2_peaks.narrowPeak_Q0.01filt\n",
      "fn: MLL_AF9_LSD1i.GSE110896.Mus_Musculus.H3K27ac.b1.macs2_peaks.narrowPeak_Q0.01filt\n",
      "*******GSE change\n",
      "\n"
     ]
    }
   ],
   "source": [
    "count = 0\n",
    "for f in test_fn:\n",
    "    if f not in fn:\n",
    "        print(\"test_fn:\", f)\n",
    "        print(\"fn:\", fn[count])\n",
    "        if f.split(\".\")[4] != fn[count].split(\".\")[4]:\n",
    "            print(\"*******Bio rep mismatch\")\n",
    "        if f.split(\".\")[1] != fn[count].split(\".\")[1]:\n",
    "            print(\"*******GSE change\")\n",
    "        if f.split(\".\")[0] != fn[count].split(\".\")[0]:\n",
    "            print(\"*******Name change\")\n",
    "        if f.split(\".\")[-1] != fn[count].split(\".\")[-1]:\n",
    "            print(\"*******File change\")\n",
    "        print()\n",
    "    count = count + 1"
   ]
  },
  {
   "cell_type": "code",
   "execution_count": null,
   "metadata": {},
   "outputs": [],
   "source": []
  },
  {
   "cell_type": "code",
   "execution_count": 99,
   "metadata": {},
   "outputs": [
    {
     "name": "stdout",
     "output_type": "stream",
     "text": [
      "num samples with chipseq: 243\n",
      "num studies with chipseq: 33\n",
      "GSE128106 \n",
      "GSE156650 \n",
      "GSE154513 \n",
      "GSE136090 \n",
      "GSE165207 \n",
      "phs001703v3p1 \n",
      "GSE159985 \n",
      "GSE117888 \n",
      "GSE165303 \n",
      "GSE180194 \n",
      "GSE131054 \n",
      "GSE151001 \n",
      "GSE105028 \n",
      "GSE179544 \n",
      "GSE136629 \n",
      "GSE147646 \n",
      "GSE137849 \n",
      "GSE108869 \n",
      "GSE99519 \n",
      "GSE166232 \n",
      "GSE116869 \n",
      "GSE173843 \n",
      "GSE157381 \n",
      "GSE97585 \n",
      "GSE131651 \n",
      "GSE115492 \n",
      "phs001703v4p1 \n",
      "GSE111537 \n",
      "GSE116495 \n",
      "GSE179666 \n",
      "GSE149420 \n",
      "GSE157107 \n",
      "GSE116193\n"
     ]
    }
   ],
   "source": [
    "## want 237; 32\n",
    "num_samples_chipseq = 0\n",
    "samples_chipseq = []\n",
    "for index, row in df.iterrows():\n",
    "    if '/mnt/' in row['chipseq_path']:\n",
    "        num_samples_chipseq = num_samples_chipseq + 1\n",
    "        study = row['std_sample_name'].split('.')[1]\n",
    "        if study not in samples_chipseq:\n",
    "            samples_chipseq.append(study)\n",
    "print(\"num samples with chipseq:\", num_samples_chipseq)\n",
    "print(\"num studies with chipseq:\", len(samples_chipseq))\n",
    "print((' \\n').join(samples_chipseq))"
   ]
  },
  {
   "cell_type": "code",
   "execution_count": 40,
   "metadata": {},
   "outputs": [
    {
     "name": "stdout",
     "output_type": "stream",
     "text": [
      "GSE136090 \n",
      "GSE116193 \n",
      "GSE105028 \n",
      "GSE128106 \n",
      "GSE147646 \n",
      "GSE179544 \n",
      "GSE108869 \n",
      "GSE117888 \n",
      "GSE116869 \n",
      "GSE116495 \n",
      "GSE115492 \n",
      "GSE111537 \n",
      "GSE131054 \n",
      "GSE131651 \n",
      "GSE136629 \n",
      "GSE137849 \n",
      "GSE149420 \n",
      "GSE151001 \n",
      "GSE154513 \n",
      "GSE156650 \n",
      "GSE159985 \n",
      "GSE157107 \n",
      "GSE157381 \n",
      "GSE165207 \n",
      "GSE173843 \n",
      "GSE179666 \n",
      "GSE180194 \n",
      "GSE97585 \n",
      "GSE166232 \n",
      "GSE165303 \n",
      "phs001703v3p1 \n",
      "phs001703v4p1\n"
     ]
    }
   ],
   "source": [
    "print((' \\n').join(matching_chipseq_human))"
   ]
  },
  {
   "cell_type": "markdown",
   "metadata": {},
   "source": [
    "#### Output the dataframe as a tsv file"
   ]
  },
  {
   "cell_type": "code",
   "execution_count": 61,
   "metadata": {},
   "outputs": [],
   "source": [
    "without_header_output = '{}.without_header.tsv'.format(output_prefix)\n",
    "df.to_csv(without_header_output, header=False, index=False, sep='\\t')"
   ]
  },
  {
   "cell_type": "code",
   "execution_count": null,
   "metadata": {},
   "outputs": [],
   "source": []
  },
  {
   "cell_type": "code",
   "execution_count": null,
   "metadata": {},
   "outputs": [],
   "source": []
  },
  {
   "cell_type": "code",
   "execution_count": null,
   "metadata": {},
   "outputs": [],
   "source": []
  },
  {
   "cell_type": "code",
   "execution_count": 26,
   "metadata": {},
   "outputs": [],
   "source": [
    "def generate_df_merged_validpairs():\n",
    "    \n",
    "    data = []\n",
    "    hicpro_paths = glob.glob('results/pieqtl_ncm_rep_combined_donorwise/validpairs/*/*.allValidPairs')\n",
    "    \n",
    "    # iterate through each HiC-Pro output directory\n",
    "    for fn in hicpro_paths:\n",
    "        \n",
    "        sample_name = fn.split('/')[3]\n",
    "        sample_name_chipseq = sample_name[:-12] + \"1\"\n",
    "        print(sample_name_chipseq)\n",
    "        # hicpro validpairs file\n",
    "        hicpro_path = config.LOOP_CATALOG_DIR + fn\n",
    "        \n",
    "        chipseq_peak_file=\"Not_processed_or_not_available\"\n",
    "        chipline_path=config.LOOP_CATALOG_DIR + \"results/peaks\"\n",
    "        \n",
    "        # for in-house HiChIP samples with pre-generated peaks\n",
    "    \n",
    "        # update hicpro sample names to match chipline sample names for pieQTL/NCM samples            \n",
    "        if 'phs001703v' in sample_name:\n",
    "            if 'phs001703v3' in sample_name:\n",
    "                cell_type = sample_name.split('.')[0].split('_1')[0]\n",
    "                sample_name_chipseq = cell_type + \"_merged_donors_hg38.phs001703v3p1.Homo_Sapiens.H3K27ac.b1\"\n",
    "            if 'phs001703v4' in sample_name:\n",
    "                cell_type = sample_name.split('.')[0].split('_1')[0]\n",
    "                sample_name_chipseq = cell_type + \"_merged_donors_hg38.phs001703v4p1.Homo_Sapiens.H3K27ac.b1\"\n",
    "                \n",
    "                \n",
    "        # check whether a folder matching sample_name exists in the merged_chipline folder\n",
    "        merged_chipline_path = chipline_path + \"/merged_chipline/\" + sample_name_chipseq\n",
    "        if os.path.exists(merged_chipline_path):\n",
    "            chipseq_peak_file = merged_chipline_path + \"/FINAL_IDR_Peaks_FDR0.05.txt\"\n",
    "\n",
    "        # check whether a folder matching sample_name exists in the chipline folder\n",
    "        # IMPORTANT: Replace the last character of the sample name with 1 (so it is .b1 to match with the ChIP-seq loops)\n",
    "        chipline_path += \"/chipline/\" + sample_name_chipseq + \"/MACS2_Ext*/\" + sample_name_chipseq + \".macs2_peaks.narrowPeak_Q0.01filt\"\n",
    "        if chipseq_peak_file == \"Not_processed_or_not_available\" and len(glob.glob(chipline_path)) > 0:\n",
    "            chipseq_peak_file = glob.glob(chipline_path)[0]\n",
    "\n",
    "        # check if the matching ChIP-seq sample does not exist\n",
    "        if any(gse_id in sample_name_chipseq for gse_id in processed_gse_ids) and not os.path.exists(chipseq_peak_file):\n",
    "            chipseq_peak_file = \"Not_available\"\n",
    "\n",
    "        # fix path if assigned chip-seq path does not contain peak calls\n",
    "        ## NOTE: REMOVE FIRST CONDITION FOR ADDITION OF CHIPSEQ PEAKS TO FILE\n",
    "        if chipseq_peak_file!=\"Not_processed_or_not_available\" and chipseq_peak_file != \"Not_available\" and os.path.getsize(chipseq_peak_file) == 0:\n",
    "            print(\"sample:\", sample_name)\n",
    "            print(\"old path:\", chipseq_peak_file)\n",
    "\n",
    "            new_path = ''\n",
    "            if \"merged_chipline\" in chipseq_peak_file:\n",
    "                new_path = glob.glob(chipline_path)[0]\n",
    "                if os.path.getsize(new_path) == 0:\n",
    "                    print(\"rep 1 was empty\")\n",
    "                    new_path = glob.glob(chipline_path)[0].replace('b1', 'b2')\n",
    "\n",
    "            if new_path == '':\n",
    "                if os.path.getsize(config.LOOP_CATALOG_DIR + 'results/peaks/chipline/{sn}/MACS2_Ext_with_Control/{sn}.macs2_peaks.narrowPeak_Q0.05filt'.format(sn = sample_name_chipseq)) == 0:\n",
    "                    print(\"reg chipline 0.05 filt is also empty\")\n",
    "                    new_path = \"Not_available\"\n",
    "                else:\n",
    "                    print(\"reg chipline 0.05 filt is NOT empty\")\n",
    "                    new_path = config.LOOP_CATALOG_DIR + 'results/peaks/chipline/{sn}/MACS2_Ext_with_Control/{sn}.macs2_peaks.narrowPeak_Q0.05filt'.format(sn = sample_name_chipseq)\n",
    "\n",
    "            print(\"new path:\", new_path)\n",
    "            print(\"new path size:\", os.path.getsize(new_path))\n",
    "            print(os.path.exists(new_path))\n",
    "            print()\n",
    "\n",
    "            chipseq_peak_file = new_path\n",
    "            \n",
    "        # check whether a folder matching the sample name exists in the fithichip folder\n",
    "        fithichip_peak_file = \"Not_processed\"\n",
    "        fithichip_peak_path = 'results/peaks/fithichip/{sn}/MACS2_ExtSize/out_macs2_peaks.narrowPeak'.format(sn = sample_name)\n",
    "        if os.path.exists(fithichip_peak_path):\n",
    "            fithichip_peak_file = config.LOOP_CATALOG_DIR + fithichip_peak_path\n",
    "        \n",
    "        # check whether a folder matching the sample name exists in the hichip-peaks folder\n",
    "        hichippeaks_peak_file = \"Not_processed\"\n",
    "        hichippeaks_path = 'results/peaks/hichip-peaks/{sn}/out_peaks.bed'.format(sn = sample_name)\n",
    "        if os.path.exists(hichippeaks_path):\n",
    "            hichippeaks_peak_file = config.LOOP_CATALOG_DIR + hichippeaks_path\n",
    "\n",
    "        # add all the information for this sample to the 2D array\n",
    "        sample_data = [sample_name, hicpro_path, hichippeaks_peak_file, fithichip_peak_file, chipseq_peak_file]\n",
    "        \n",
    "        data.append(sample_data)\n",
    "        \n",
    "    return pd.DataFrame(data)"
   ]
  },
  {
   "cell_type": "code",
   "execution_count": null,
   "metadata": {},
   "outputs": [],
   "source": []
  }
 ],
 "metadata": {
  "kernelspec": {
   "display_name": "hichip-db-new",
   "language": "python",
   "name": "hichip-db"
  },
  "language_info": {
   "codemirror_mode": {
    "name": "ipython",
    "version": 3
   },
   "file_extension": ".py",
   "mimetype": "text/x-python",
   "name": "python",
   "nbconvert_exporter": "python",
   "pygments_lexer": "ipython3",
   "version": "3.9.12"
  }
 },
 "nbformat": 4,
 "nbformat_minor": 5
}
