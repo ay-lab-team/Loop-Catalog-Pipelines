{
 "cells": [
  {
   "cell_type": "code",
   "execution_count": 1,
   "id": "ca3fa531",
   "metadata": {},
   "outputs": [],
   "source": [
    "import os\n",
    "import sys\n",
    "import glob\n",
    "import numpy as np\n",
    "import pandas as pd\n",
    "from IPython.display import display\n",
    "import time \n",
    "os.chdir('/mnt/BioAdHoc/Groups/vd-ay/hichip-db-loop-calling/')\n",
    "pd.set_option('display.max_rows', 1000)\n",
    "pd.set_option('display.max_columns', 1000)"
   ]
  },
  {
   "cell_type": "code",
   "execution_count": 2,
   "id": "9a9eca66",
   "metadata": {},
   "outputs": [],
   "source": [
    "# setting input and output with jupyter notebook in context \n",
    "if 'ipykernel_launcher.py' in sys.argv[0]:\n",
    "    input_fn = 'results/samplesheets/hicpro/2022.03.30.hicpro.samplesheet.with_header.tsv'   \n",
    "    output_fn = 'results/samplesheets/fastq/2022.03.30.fastq.post-check.run_hicpro'\n",
    "    split_fastqs = 'results/samplesheets/fastq/2022.03.30.fastq.post-check.split_fastqs.with_header.tsv'\n",
    "else:\n",
    "    input_fn = sys.argv[1]\n",
    "    output_fn = sys.argv[2]"
   ]
  },
  {
   "cell_type": "markdown",
   "id": "7bd0a3ad",
   "metadata": {},
   "source": [
    "## Helper Functions"
   ]
  },
  {
   "cell_type": "code",
   "execution_count": 3,
   "id": "ddecee19",
   "metadata": {},
   "outputs": [],
   "source": [
    "def get_log(x, mode='index'):\n",
    "    \n",
    "    if mode == 'index':\n",
    "        logs = glob.glob('results/fastqs/raw/logs/download_srr_fastqs.*-{}'.format(x))\n",
    "        \n",
    "    elif mode == 'path':\n",
    "        info = x.split('/')\n",
    "        sample_name = info[3]\n",
    "        srr_id  = info[4].split('.')[0].split('_')[0]\n",
    "        index = df.loc[(df[0] == sample_name) & (df[3] == srr_id)].iloc[0].name\n",
    "        logs = glob.glob('results/fastqs/raw/logs/download_srr_fastqs.*-{}'.format(index))\n",
    "        \n",
    "    else:\n",
    "        return('Try again.')\n",
    "    \n",
    "    return(logs)\n",
    "\n",
    "def list_to_str(l, sep=' '):\n",
    "    l = [str(x) for x in l]\n",
    "    return(sep.join(l))"
   ]
  },
  {
   "cell_type": "code",
   "execution_count": 4,
   "id": "d498d5d5",
   "metadata": {},
   "outputs": [],
   "source": [
    "def read_hicpro_step2_log(log):\n",
    "    \n",
    "    \"\"\"\n",
    "    Read the log and extract status information including\n",
    "    the sample_name, srr_id, status (as indicated by the end message),\n",
    "    and the download status (as indicate by the \"reads written\" message).\n",
    "    \"\"\"\n",
    "        \n",
    "    # initializing the statuses to 0\n",
    "    hicpro_status = 0\n",
    "\n",
    "    if os.path.exists(log):\n",
    "        with open(log, errors='ignore') as fr:\n",
    "            for line in fr:\n",
    "                info = line.strip()\n",
    "                if 'Run ICE Normalization ...' in info:\n",
    "                    hicpro_status = 1\n",
    "    return(hicpro_status)"
   ]
  },
  {
   "cell_type": "code",
   "execution_count": 13,
   "id": "53186626",
   "metadata": {},
   "outputs": [],
   "source": [
    "def long_to_short_index_list(serial_list):\n",
    "    \n",
    "    if len(serial_list) == 0:\n",
    "        serial_list_short = []\n",
    "        \n",
    "    elif len(serial_list) == 1:\n",
    "        serial_list_short = [str(serial_list[0])]\n",
    "        \n",
    "    else:\n",
    "        small_num = serial_list[0]\n",
    "        serial_list_short = []\n",
    "        for i in range(1, len(serial_list)):\n",
    "\n",
    "            prev_num = serial_list[i -1]\n",
    "            next_num = serial_list[i]\n",
    "\n",
    "            if (prev_num + 1) != next_num:\n",
    "\n",
    "                if small_num == prev_num:\n",
    "                    curr_range = '{}'.format(small_num)\n",
    "                    serial_list_short.append(curr_range)\n",
    "                    small_num = next_num\n",
    "\n",
    "                else:\n",
    "                    curr_range = '{}-{}'.format(small_num, prev_num)\n",
    "                    serial_list_short.append(curr_range)\n",
    "                    small_num = next_num\n",
    "\n",
    "        if small_num == next_num:\n",
    "            curr_range = '{}'.format(small_num,)\n",
    "            serial_list_short.append(curr_range)\n",
    "        else:\n",
    "            curr_range = '{}-{}'.format(small_num, next_num)\n",
    "            serial_list_short.append(curr_range)\n",
    "\n",
    "    return(serial_list_short)"
   ]
  },
  {
   "cell_type": "markdown",
   "id": "04e2731d",
   "metadata": {},
   "source": [
    "## Check HiCPro Logs"
   ]
  },
  {
   "cell_type": "code",
   "execution_count": 6,
   "id": "33837543",
   "metadata": {},
   "outputs": [],
   "source": [
    "# load the data\n",
    "df = pd.read_table(input_fn)\n",
    "df['sample_index'] = df.index + 1"
   ]
  },
  {
   "cell_type": "code",
   "execution_count": 7,
   "id": "b2f5436d",
   "metadata": {},
   "outputs": [],
   "source": [
    "log_data = []\n",
    "for i, sr in df.iterrows():\n",
    "    \n",
    "    s1_log = glob.glob('results/hicpro/{}/HiCpro_s1_.e*'.format(sr.std_sample_name))\n",
    "    s2_log = glob.glob('results/hicpro/{}/HiCpro_s2_.e*'.format(sr.std_sample_name))\n",
    "    \n",
    "    # check if s1 steps have started\n",
    "    if len(s1_log) > 0:\n",
    "        hicpro_start_status = 1\n",
    "    else:\n",
    "        hicpro_start_status = 0\n",
    "    \n",
    "    # check if s2 steps have ended \n",
    "    if len(s2_log) == 1:\n",
    "        s2_log = s2_log[0]\n",
    "        hicpro_end_status = read_hicpro_step2_log(s2_log)\n",
    "    else:\n",
    "        hicpro_end_status = 0 \n",
    "        \n",
    "    log_data.append([sr.std_sample_name, hicpro_start_status, hicpro_end_status])\n",
    "\n",
    "log_df = pd.DataFrame(log_data)\n",
    "log_df.columns = ['std_sample_name', 'hicpro_start_status', 'hicpro_ended']    "
   ]
  },
  {
   "cell_type": "code",
   "execution_count": 8,
   "id": "07159420",
   "metadata": {},
   "outputs": [],
   "source": [
    "# merge the log information\n",
    "df = df.merge(log_df, how='left', on=['std_sample_name'], indicator='merge')"
   ]
  },
  {
   "cell_type": "code",
   "execution_count": 9,
   "id": "3e0f9854",
   "metadata": {},
   "outputs": [
    {
     "data": {
      "text/html": [
       "<div>\n",
       "<style scoped>\n",
       "    .dataframe tbody tr th:only-of-type {\n",
       "        vertical-align: middle;\n",
       "    }\n",
       "\n",
       "    .dataframe tbody tr th {\n",
       "        vertical-align: top;\n",
       "    }\n",
       "\n",
       "    .dataframe thead th {\n",
       "        text-align: right;\n",
       "    }\n",
       "</style>\n",
       "<table border=\"1\" class=\"dataframe\">\n",
       "  <thead>\n",
       "    <tr style=\"text-align: right;\">\n",
       "      <th></th>\n",
       "      <th>std_sample_name</th>\n",
       "      <th>gse_id</th>\n",
       "      <th>organism</th>\n",
       "      <th>bio_rep</th>\n",
       "      <th>antibody_target</th>\n",
       "      <th>restriction_enzyme</th>\n",
       "      <th>sample_name</th>\n",
       "      <th>ready_for_hicpro</th>\n",
       "      <th>sample_index</th>\n",
       "      <th>hicpro_start_status</th>\n",
       "      <th>hicpro_ended</th>\n",
       "      <th>merge</th>\n",
       "    </tr>\n",
       "  </thead>\n",
       "  <tbody>\n",
       "    <tr>\n",
       "      <th>0</th>\n",
       "      <td>mES_25m_cells.GSE101498.Mus_Musculus.H3K27ac.b1</td>\n",
       "      <td>GSE101498</td>\n",
       "      <td>Mus_Musculus</td>\n",
       "      <td>1</td>\n",
       "      <td>H3K27ac</td>\n",
       "      <td>MboI</td>\n",
       "      <td>mES_25m_cells</td>\n",
       "      <td>0</td>\n",
       "      <td>1</td>\n",
       "      <td>1</td>\n",
       "      <td>1</td>\n",
       "      <td>both</td>\n",
       "    </tr>\n",
       "    <tr>\n",
       "      <th>1</th>\n",
       "      <td>HCT116.GSE173699.Homo_Sapiens.H3K27ac.b1</td>\n",
       "      <td>GSE173699</td>\n",
       "      <td>Homo_Sapiens</td>\n",
       "      <td>1</td>\n",
       "      <td>H3K27ac</td>\n",
       "      <td>MboI</td>\n",
       "      <td>HCT116</td>\n",
       "      <td>1</td>\n",
       "      <td>2</td>\n",
       "      <td>1</td>\n",
       "      <td>1</td>\n",
       "      <td>both</td>\n",
       "    </tr>\n",
       "    <tr>\n",
       "      <th>2</th>\n",
       "      <td>BC1.GSE136090.Homo_Sapiens.H3K27ac.b1</td>\n",
       "      <td>GSE136090</td>\n",
       "      <td>Homo_Sapiens</td>\n",
       "      <td>1</td>\n",
       "      <td>H3K27ac</td>\n",
       "      <td>MboI</td>\n",
       "      <td>BC1</td>\n",
       "      <td>1</td>\n",
       "      <td>3</td>\n",
       "      <td>1</td>\n",
       "      <td>1</td>\n",
       "      <td>both</td>\n",
       "    </tr>\n",
       "    <tr>\n",
       "      <th>3</th>\n",
       "      <td>BCBL1.GSE136090.Homo_Sapiens.H3K27ac.b1</td>\n",
       "      <td>GSE136090</td>\n",
       "      <td>Homo_Sapiens</td>\n",
       "      <td>1</td>\n",
       "      <td>H3K27ac</td>\n",
       "      <td>MboI</td>\n",
       "      <td>BCBL1</td>\n",
       "      <td>1</td>\n",
       "      <td>4</td>\n",
       "      <td>1</td>\n",
       "      <td>1</td>\n",
       "      <td>both</td>\n",
       "    </tr>\n",
       "    <tr>\n",
       "      <th>4</th>\n",
       "      <td>BC3.GSE136090.Homo_Sapiens.H3K27ac.b1</td>\n",
       "      <td>GSE136090</td>\n",
       "      <td>Homo_Sapiens</td>\n",
       "      <td>1</td>\n",
       "      <td>H3K27ac</td>\n",
       "      <td>MboI</td>\n",
       "      <td>BC3</td>\n",
       "      <td>1</td>\n",
       "      <td>5</td>\n",
       "      <td>1</td>\n",
       "      <td>1</td>\n",
       "      <td>both</td>\n",
       "    </tr>\n",
       "  </tbody>\n",
       "</table>\n",
       "</div>"
      ],
      "text/plain": [
       "                                   std_sample_name     gse_id      organism  \\\n",
       "0  mES_25m_cells.GSE101498.Mus_Musculus.H3K27ac.b1  GSE101498  Mus_Musculus   \n",
       "1         HCT116.GSE173699.Homo_Sapiens.H3K27ac.b1  GSE173699  Homo_Sapiens   \n",
       "2            BC1.GSE136090.Homo_Sapiens.H3K27ac.b1  GSE136090  Homo_Sapiens   \n",
       "3          BCBL1.GSE136090.Homo_Sapiens.H3K27ac.b1  GSE136090  Homo_Sapiens   \n",
       "4            BC3.GSE136090.Homo_Sapiens.H3K27ac.b1  GSE136090  Homo_Sapiens   \n",
       "\n",
       "   bio_rep antibody_target restriction_enzyme    sample_name  \\\n",
       "0        1         H3K27ac               MboI  mES_25m_cells   \n",
       "1        1         H3K27ac               MboI         HCT116   \n",
       "2        1         H3K27ac               MboI            BC1   \n",
       "3        1         H3K27ac               MboI          BCBL1   \n",
       "4        1         H3K27ac               MboI            BC3   \n",
       "\n",
       "   ready_for_hicpro  sample_index  hicpro_start_status  hicpro_ended merge  \n",
       "0                 0             1                    1             1  both  \n",
       "1                 1             2                    1             1  both  \n",
       "2                 1             3                    1             1  both  \n",
       "3                 1             4                    1             1  both  \n",
       "4                 1             5                    1             1  both  "
      ]
     },
     "execution_count": 9,
     "metadata": {},
     "output_type": "execute_result"
    }
   ],
   "source": [
    "df.head()"
   ]
  },
  {
   "cell_type": "markdown",
   "id": "58acff9e",
   "metadata": {},
   "source": [
    "## Identifying problem samples"
   ]
  },
  {
   "cell_type": "code",
   "execution_count": 10,
   "id": "a9c5be14",
   "metadata": {
    "scrolled": false
   },
   "outputs": [
    {
     "data": {
      "text/html": [
       "<div>\n",
       "<style scoped>\n",
       "    .dataframe tbody tr th:only-of-type {\n",
       "        vertical-align: middle;\n",
       "    }\n",
       "\n",
       "    .dataframe tbody tr th {\n",
       "        vertical-align: top;\n",
       "    }\n",
       "\n",
       "    .dataframe thead th {\n",
       "        text-align: right;\n",
       "    }\n",
       "</style>\n",
       "<table border=\"1\" class=\"dataframe\">\n",
       "  <thead>\n",
       "    <tr style=\"text-align: right;\">\n",
       "      <th></th>\n",
       "      <th>std_sample_name</th>\n",
       "      <th>gse_id</th>\n",
       "      <th>organism</th>\n",
       "      <th>bio_rep</th>\n",
       "      <th>antibody_target</th>\n",
       "      <th>restriction_enzyme</th>\n",
       "      <th>sample_name</th>\n",
       "      <th>ready_for_hicpro</th>\n",
       "      <th>sample_index</th>\n",
       "      <th>hicpro_start_status</th>\n",
       "      <th>hicpro_ended</th>\n",
       "      <th>merge</th>\n",
       "    </tr>\n",
       "  </thead>\n",
       "  <tbody>\n",
       "    <tr>\n",
       "      <th>5</th>\n",
       "      <td>HK2.GSE147646.Homo_Sapiens.H3K27ac.b1</td>\n",
       "      <td>GSE147646</td>\n",
       "      <td>Homo_Sapiens</td>\n",
       "      <td>1</td>\n",
       "      <td>H3K27ac</td>\n",
       "      <td>MboI</td>\n",
       "      <td>HK2</td>\n",
       "      <td>1</td>\n",
       "      <td>6</td>\n",
       "      <td>0</td>\n",
       "      <td>0</td>\n",
       "      <td>both</td>\n",
       "    </tr>\n",
       "  </tbody>\n",
       "</table>\n",
       "</div>"
      ],
      "text/plain": [
       "                         std_sample_name     gse_id      organism  bio_rep  \\\n",
       "5  HK2.GSE147646.Homo_Sapiens.H3K27ac.b1  GSE147646  Homo_Sapiens        1   \n",
       "\n",
       "  antibody_target restriction_enzyme sample_name  ready_for_hicpro  \\\n",
       "5         H3K27ac               MboI         HK2                 1   \n",
       "\n",
       "   sample_index  hicpro_start_status  hicpro_ended merge  \n",
       "5             6                    0             0  both  "
      ]
     },
     "execution_count": 10,
     "metadata": {},
     "output_type": "execute_result"
    }
   ],
   "source": [
    "problems = (df.ready_for_hicpro == 1) & (df.hicpro_start_status == 0)\n",
    "problems_df = df.loc[problems,:]\n",
    "problems_df"
   ]
  },
  {
   "cell_type": "markdown",
   "id": "c576c5f1",
   "metadata": {},
   "source": [
    "## Re-run problematic/ready samples"
   ]
  },
  {
   "cell_type": "code",
   "execution_count": 14,
   "id": "b02bba10",
   "metadata": {},
   "outputs": [],
   "source": [
    "# convert not run serial IDs to ranges/short format\n",
    "rerun_indexes = sorted(problems_df.sample_index.tolist())\n",
    "rerun_indexes_sort = long_to_short_index_list(rerun_indexes)"
   ]
  },
  {
   "cell_type": "code",
   "execution_count": 15,
   "id": "09aebd30",
   "metadata": {},
   "outputs": [
    {
     "data": {
      "text/plain": [
       "[]"
      ]
     },
     "execution_count": 15,
     "metadata": {},
     "output_type": "execute_result"
    }
   ],
   "source": [
    "rerun_indexes_sort"
   ]
  },
  {
   "cell_type": "code",
   "execution_count": 16,
   "id": "aa804f6e",
   "metadata": {},
   "outputs": [],
   "source": [
    "# generate a string version of not_run\n",
    "final_rerun = ','.join(rerun_indexes_sort)\n",
    "final_rerun = 'qsub -t {} workflow/scripts/hicpro/run_hicpro.qarray.sh'.format(final_rerun)"
   ]
  },
  {
   "cell_type": "code",
   "execution_count": 17,
   "id": "62f2da4d",
   "metadata": {},
   "outputs": [
    {
     "name": "stdout",
     "output_type": "stream",
     "text": [
      "qsub -t  workflow/scripts/hicpro/run_hicpro.qarray.sh\n"
     ]
    }
   ],
   "source": [
    "print(final_rerun)"
   ]
  },
  {
   "cell_type": "code",
   "execution_count": 18,
   "id": "1cc3cac7",
   "metadata": {},
   "outputs": [],
   "source": [
    "bash_indexes = ' '.join([str(x) for x in rerun_indexes])\n",
    "bash_rerun = 'job_ids=\"{}\"\\n'.format(bash_indexes)\n",
    "bash_rerun += 'for i in $job_ids; do bash workflow/scripts/hicpro/run_hicpro.qarray.sh $i; done'"
   ]
  },
  {
   "cell_type": "code",
   "execution_count": 19,
   "id": "66135c6a",
   "metadata": {},
   "outputs": [
    {
     "name": "stdout",
     "output_type": "stream",
     "text": [
      "job_ids=\"\"\n",
      "for i in $job_ids; do bash workflow/scripts/hicpro/run_hicpro.qarray.sh $i; done\n"
     ]
    }
   ],
   "source": [
    "print(bash_rerun)"
   ]
  },
  {
   "cell_type": "code",
   "execution_count": 20,
   "id": "184e9249",
   "metadata": {},
   "outputs": [
    {
     "data": {
      "text/plain": [
       "''"
      ]
     },
     "execution_count": 20,
     "metadata": {},
     "output_type": "execute_result"
    }
   ],
   "source": [
    "problem_samples = problems_df.std_sample_name.values.tolist()\n",
    "problem_samples = ' '.join(problem_samples)\n",
    "problem_samples"
   ]
  },
  {
   "cell_type": "markdown",
   "id": "a6eadc15",
   "metadata": {},
   "source": [
    "## Notes on problems"
   ]
  },
  {
   "cell_type": "markdown",
   "id": "4c5aafc1",
   "metadata": {},
   "source": [
    "**Updates 2022.04.03**\n",
    " - HK2.GSE147646.Homo_Sapiens.H3K27ac.b1 - splitting didn't work correctly. Missing 05_*\n",
    " - HARA.GSE147854.Homo_Sapiens.H3K27ac.b1 - now rerunning, fixed dependency as well\n",
    " - lgs102943.GSE116193.Homo_Sapiens.H3K27ac.b1 - now rerunning, had to fix dependency"
   ]
  },
  {
   "cell_type": "markdown",
   "id": "1a5d1ca2",
   "metadata": {},
   "source": [
    "Putting the whole list for 2022.04.03"
   ]
  },
  {
   "cell_type": "markdown",
   "id": "0070f4fc",
   "metadata": {},
   "source": [
    "- HK2.GSE147646.Homo_Sapiens.H3K27ac.b1\n",
    "- HARA.GSE147854.Homo_Sapiens.H3K27ac.b1\n",
    "- lgs102943.GSE116193.Homo_Sapiens.H3K27ac.b1\n",
    "- lgs301315.GSE116193.Homo_Sapiens.CTCF.b1\n",
    "- lgs102943.GSE116193.Homo_Sapiens.CTCF.b1\n",
    "- lgs301315.GSE116193.Homo_Sapiens.H3K27ac.b1\n",
    "- lgs102580.GSE116193.Homo_Sapiens.H3K27ac.b1\n",
    "- lgs101645.GSE116193.Homo_Sapiens.H3K27ac.b1\n",
    "- EBNA2_Plus_Ramos.GSE179755.Homo_Sapiens.H3K27ac.b1\n",
    "- Naive_Tcells.GSE101498.Homo_Sapiens.H3K27ac.b1\n",
    "- mES_50k_cells.GSE101498.Mus_Musculus.H3K27ac.b1\n",
    "- mES_500k_cells.GSE101498.Mus_Musculus.H3K27ac.b1\n",
    "- Naive_Tcells.GSE101498.Homo_Sapiens.H3K27ac.b2\n",
    "- Treg.GSE101498.Homo_Sapiens.H3K27ac.b1\n",
    "- lgs301283.GSE116193.Homo_Sapiens.CTCF.b1"
   ]
  },
  {
   "cell_type": "code",
   "execution_count": null,
   "id": "9a843f59",
   "metadata": {},
   "outputs": [],
   "source": []
  },
  {
   "cell_type": "code",
   "execution_count": null,
   "id": "cb88fa7d",
   "metadata": {},
   "outputs": [],
   "source": []
  },
  {
   "cell_type": "code",
   "execution_count": null,
   "id": "4107cac2",
   "metadata": {},
   "outputs": [],
   "source": []
  },
  {
   "cell_type": "code",
   "execution_count": null,
   "id": "e7641e97",
   "metadata": {},
   "outputs": [],
   "source": []
  }
 ],
 "metadata": {
  "kernelspec": {
   "display_name": "HiChIP-DB",
   "language": "python",
   "name": "hichip-db"
  },
  "language_info": {
   "codemirror_mode": {
    "name": "ipython",
    "version": 3
   },
   "file_extension": ".py",
   "mimetype": "text/x-python",
   "name": "python",
   "nbconvert_exporter": "python",
   "pygments_lexer": "ipython3",
   "version": "3.9.10"
  }
 },
 "nbformat": 4,
 "nbformat_minor": 5
}
