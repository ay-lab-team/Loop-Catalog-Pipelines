{
 "cells": [
  {
   "cell_type": "code",
   "execution_count": 2,
   "metadata": {},
   "outputs": [],
   "source": [
    "import os\n",
    "import sys\n",
    "import glob\n",
    "import numpy as np\n",
    "import pandas as pd\n",
    "import seaborn as sns\n",
    "import math\n",
    "import random\n",
    "import config\n",
    "os.chdir(config.LOOP_CATALOG_DIR)"
   ]
  },
  {
   "cell_type": "markdown",
   "metadata": {},
   "source": [
    "#### Input Parameters"
   ]
  },
  {
   "cell_type": "code",
   "execution_count": 51,
   "metadata": {},
   "outputs": [],
   "source": [
    "cell_type = \"non-immune\""
   ]
  },
  {
   "cell_type": "code",
   "execution_count": 52,
   "metadata": {},
   "outputs": [],
   "source": [
    "foreground_seqs_file = \"results/motif_analysis/conserved_anchors_11_06_2024/sea/{ct}/no_mergefilt_01.27.2025/input_fasta.fa.2.7.7.80.10.50.500.mask\".format(ct = cell_type)\n",
    "#background_seqs_file = \"results/motif_analysis/conserved_anchors_11_06_2024/conserved_anchor_results/all/mergefilt/bkgd_nonconserved_all.fa\"\n",
    "background_seqs_file = \"results/motif_analysis/conserved_anchors_11_06_2024/conserved_anchor_results/{ct}/no_mergefilt_01.27.2025/bkgd_nonconserved_all.fa.2.7.7.80.10.50.500.mask\".format(ct = cell_type)\n",
    "output_file = \"results/motif_analysis/conserved_anchors_11_06_2024/sea/{ct}/no_mergefilt_01.27.2025/bkgd_nonconserved_biased_downsampled_fasta.fa.2.7.7.80.10.50.500.mask\".format(ct = cell_type)\n",
    "quantile_percent = .5 # Percentile buckets"
   ]
  },
  {
   "cell_type": "markdown",
   "metadata": {},
   "source": [
    "#### Load Sequences"
   ]
  },
  {
   "cell_type": "code",
   "execution_count": 53,
   "metadata": {},
   "outputs": [],
   "source": [
    "# foreground\n",
    "foreground_seqs = []\n",
    "with open(foreground_seqs_file) as fs:\n",
    "    curr_seq = []\n",
    "    for line in fs:\n",
    "        if not line.startswith(\">\"):\n",
    "            curr_seq.append(line.strip())\n",
    "        else:\n",
    "            if len(curr_seq) != 0:\n",
    "                foreground_seqs.append(\"\".join(curr_seq))\n",
    "                curr_seq = []\n",
    "    foreground_seqs.append(\"\".join(curr_seq))\n",
    "            \n",
    "# background\n",
    "background_seqs = []\n",
    "with open(background_seqs_file) as bs:\n",
    "    curr_seq = []\n",
    "    for line in bs:\n",
    "        if not line.startswith(\">\"):\n",
    "            curr_seq.append(line.strip())\n",
    "        else:\n",
    "            if len(curr_seq) != 0:\n",
    "                background_seqs.append(\"\".join(curr_seq))\n",
    "                curr_seq = []\n",
    "    background_seqs.append(\"\".join(curr_seq))"
   ]
  },
  {
   "cell_type": "code",
   "execution_count": 54,
   "metadata": {},
   "outputs": [
    {
     "name": "stdout",
     "output_type": "stream",
     "text": [
      "Number of Foreground Sequences: 1493\n",
      "Number of Background Sequences: 199136\n"
     ]
    }
   ],
   "source": [
    "print(\"Number of Foreground Sequences:\", len(foreground_seqs))\n",
    "print(\"Number of Background Sequences:\", len(background_seqs))"
   ]
  },
  {
   "cell_type": "markdown",
   "metadata": {},
   "source": [
    "#### Pre-Process Background Sequences"
   ]
  },
  {
   "cell_type": "code",
   "execution_count": 55,
   "metadata": {},
   "outputs": [],
   "source": [
    "# function to get the GC content of an input DNA string\n",
    "def get_gc_content(seq):\n",
    "    return (seq.count(\"G\") + seq.count(\"C\")) / len(seq)"
   ]
  },
  {
   "cell_type": "code",
   "execution_count": 56,
   "metadata": {},
   "outputs": [],
   "source": [
    "# compute the GC content of each background seqeunce\n",
    "# store in list as a tuple of (seq, gc content)\n",
    "background_gc_content = []\n",
    "for seq in background_seqs:\n",
    "    background_gc_content.append((seq, get_gc_content(seq)))\n",
    "background_gc_content = np.array(background_gc_content, np.dtype([('sequence', 'U5000'), ('gc_content', 'f8')]))"
   ]
  },
  {
   "cell_type": "code",
   "execution_count": 57,
   "metadata": {},
   "outputs": [],
   "source": [
    "# sort wrt gc content (ascending)\n",
    "sorted_indices = np.argsort(background_gc_content[\"gc_content\"])\n",
    "sorted_background_gc_content = background_gc_content[sorted_indices]"
   ]
  },
  {
   "cell_type": "code",
   "execution_count": 58,
   "metadata": {},
   "outputs": [],
   "source": [
    "# define the number of quantiles\n",
    "num_quantiles = int(100 / quantile_percent)\n",
    "\n",
    "# calculate quantile values\n",
    "quantile_values = np.quantile(sorted_background_gc_content[\"gc_content\"], np.linspace(0, 1, num_quantiles + 1))\n",
    "\n",
    "# assign each element to its quantile bin\n",
    "quantile_bins = np.digitize(sorted_background_gc_content[\"gc_content\"], quantile_values[1:-1])"
   ]
  },
  {
   "cell_type": "code",
   "execution_count": 59,
   "metadata": {},
   "outputs": [
    {
     "data": {
      "text/plain": [
       "array([  0,   0,   0, ..., 199, 199, 199])"
      ]
     },
     "execution_count": 59,
     "metadata": {},
     "output_type": "execute_result"
    }
   ],
   "source": [
    "quantile_bins"
   ]
  },
  {
   "cell_type": "code",
   "execution_count": 60,
   "metadata": {},
   "outputs": [],
   "source": [
    "# create a database dictionary by quantile where the keys are quantiles and values are lists of seqs in that quantile\n",
    "background_database = dict(zip(np.unique(quantile_bins), [[] for _ in range(len(np.unique(quantile_bins)))]))\n",
    "for i in range(len(quantile_bins)):\n",
    "    background_database[quantile_bins[i]].append(sorted_background_gc_content[\"sequence\"][i])"
   ]
  },
  {
   "cell_type": "code",
   "execution_count": 61,
   "metadata": {},
   "outputs": [
    {
     "name": "stdout",
     "output_type": "stream",
     "text": [
      "Quantiles: [0.      0.2996  0.3114  0.3176  0.322   0.3256  0.3286  0.331   0.3332\n",
      " 0.3352  0.337   0.3388  0.3406  0.342   0.3436  0.345   0.3462  0.3474\n",
      " 0.3486  0.3498  0.351   0.352   0.3532  0.3542  0.3552  0.3562  0.3572\n",
      " 0.3582  0.3592  0.36    0.361   0.3618  0.3628  0.3636  0.3646  0.3654\n",
      " 0.3662  0.367   0.3678  0.3686  0.3694  0.3702  0.371   0.3718  0.3726\n",
      " 0.3734  0.3742  0.3748  0.3756  0.3764  0.377   0.3778  0.3784  0.3792\n",
      " 0.3798  0.3806  0.3812  0.382   0.3828  0.3834  0.3842  0.3848  0.3854\n",
      " 0.3862  0.3868  0.3874  0.3882  0.3888  0.3896  0.3902  0.3908  0.3916\n",
      " 0.3922  0.3928  0.3936  0.3942  0.39486 0.3956  0.3962  0.397   0.3976\n",
      " 0.3984  0.399   0.3996  0.4004  0.401   0.4016  0.4024  0.403   0.4036\n",
      " 0.4044  0.405   0.4058  0.4064  0.407   0.4078  0.4084  0.4092  0.4098\n",
      " 0.4106  0.4112  0.412   0.4126  0.4134  0.4142  0.4148  0.4156  0.4164\n",
      " 0.4172  0.4178  0.4186  0.4194  0.4202  0.4208  0.4216  0.4224  0.4232\n",
      " 0.424   0.4248  0.4256  0.4264  0.4272  0.428   0.4288  0.4296  0.4304\n",
      " 0.4312  0.4322  0.433   0.434   0.4348  0.4358  0.4366  0.4374  0.4384\n",
      " 0.4394  0.4404  0.4412  0.4422  0.4432  0.4442  0.4452  0.4462  0.4474\n",
      " 0.4484  0.4494  0.4506  0.4516  0.4526  0.4538  0.455   0.4562  0.4572\n",
      " 0.4584  0.4598  0.461   0.4622  0.4636  0.4648  0.4662  0.4676  0.469\n",
      " 0.4704  0.472   0.4734  0.475   0.4766  0.4784  0.48    0.4816  0.4834\n",
      " 0.4852  0.487   0.489   0.491   0.493   0.4954  0.4976  0.5     0.5024\n",
      " 0.5048  0.5074  0.51    0.5128  0.516   0.5192  0.5224  0.5256  0.5294\n",
      " 0.5332  0.5374  0.542   0.547   0.5524  0.5582  0.5648  0.5724  0.582\n",
      " 0.5956  0.615   0.7236 ]\n",
      "\n",
      "Number of Sequences Per Quantile: (array([  0,   1,   2,   3,   4,   5,   6,   7,   8,   9,  10,  11,  12,\n",
      "        13,  14,  15,  16,  17,  18,  19,  20,  21,  22,  23,  24,  25,\n",
      "        26,  27,  28,  29,  30,  31,  32,  33,  34,  35,  36,  37,  38,\n",
      "        39,  40,  41,  42,  43,  44,  45,  46,  47,  48,  49,  50,  51,\n",
      "        52,  53,  54,  55,  56,  57,  58,  59,  60,  61,  62,  63,  64,\n",
      "        65,  66,  67,  68,  69,  70,  71,  72,  73,  74,  75,  76,  77,\n",
      "        78,  79,  80,  81,  82,  83,  84,  85,  86,  87,  88,  89,  90,\n",
      "        91,  92,  93,  94,  95,  96,  97,  98,  99, 100, 101, 102, 103,\n",
      "       104, 105, 106, 107, 108, 109, 110, 111, 112, 113, 114, 115, 116,\n",
      "       117, 118, 119, 120, 121, 122, 123, 124, 125, 126, 127, 128, 129,\n",
      "       130, 131, 132, 133, 134, 135, 136, 137, 138, 139, 140, 141, 142,\n",
      "       143, 144, 145, 146, 147, 148, 149, 150, 151, 152, 153, 154, 155,\n",
      "       156, 157, 158, 159, 160, 161, 162, 163, 164, 165, 166, 167, 168,\n",
      "       169, 170, 171, 172, 173, 174, 175, 176, 177, 178, 179, 180, 181,\n",
      "       182, 183, 184, 185, 186, 187, 188, 189, 190, 191, 192, 193, 194,\n",
      "       195, 196, 197, 198, 199]), array([ 993,  978,  998, 1005,  953, 1016, 1011,  977,  965,  957, 1003,\n",
      "       1071,  915, 1062, 1021,  932,  919,  995, 1032, 1048,  924, 1051,\n",
      "        918,  967, 1011, 1045, 1016, 1091,  832, 1082,  897, 1088,  914,\n",
      "       1128,  945,  983, 1017,  936,  970,  953, 1005,  999, 1021, 1000,\n",
      "       1033, 1082,  793, 1128, 1058,  870, 1107,  860, 1095,  855, 1111,\n",
      "        834, 1076, 1171,  867, 1152,  867,  845, 1221,  858,  929, 1155,\n",
      "        889, 1195,  907,  842, 1196,  906,  882, 1156,  878, 1210,  876,\n",
      "        885, 1127,  862, 1213,  869,  906, 1159,  917,  861, 1190,  882,\n",
      "        887, 1213,  878, 1177,  908,  851, 1108,  886, 1129,  873, 1120,\n",
      "        860, 1124,  871, 1110, 1064,  817, 1054, 1090, 1062,  830, 1047,\n",
      "       1060, 1045,  796, 1044,  984, 1044, 1025, 1019,  956,  927,  995,\n",
      "        988, 1001, 1001, 1023,  955, 1133,  883, 1146,  929, 1093,  876,\n",
      "        910, 1082, 1107,  988,  836, 1071, 1029, 1011,  960,  968, 1089,\n",
      "        946,  938, 1073,  965,  934, 1054, 1072,  992,  860, 1009, 1104,\n",
      "        953,  946, 1101,  916,  998, 1022,  983, 1003, 1057,  901, 1014,\n",
      "        991, 1076,  974,  980, 1029,  948,  977, 1030,  990,  990, 1013,\n",
      "        962, 1047,  994,  985, 1020,  992,  944, 1043, 1019,  985,  965,\n",
      "       1005,  981, 1029, 1005,  991,  990, 1004,  996,  977, 1008, 1007,\n",
      "        994, 1002]))\n"
     ]
    }
   ],
   "source": [
    "print(\"Quantiles:\", quantile_values)\n",
    "print()\n",
    "print(\"Number of Sequences Per Quantile:\", np.unique(quantile_bins, return_counts = True))"
   ]
  },
  {
   "cell_type": "markdown",
   "metadata": {},
   "source": [
    "#### Perform Paired Sampling of  Background "
   ]
  },
  {
   "cell_type": "code",
   "execution_count": 62,
   "metadata": {},
   "outputs": [],
   "source": [
    "# function to perform paired sampling \n",
    "def paired_sample(seq):\n",
    "    quantile = np.digitize(get_gc_content(seq),  quantile_values[1:-1]) # get the background seq quantile that the input seq falls in\n",
    "    random_index = random.randint(0, len(background_database[quantile]) - 1) # generate a random index within range of the nubmer of seqs in that quantile\n",
    "    #print(len(background_database[quantile]), random_index)\n",
    "    return background_database[quantile][random_index] # return corresponding background seq"
   ]
  },
  {
   "cell_type": "code",
   "execution_count": 63,
   "metadata": {},
   "outputs": [],
   "source": [
    "biased_background_seqs = []\n",
    "for seq in foreground_seqs:\n",
    "    biased_background_seqs.append(paired_sample(seq))"
   ]
  },
  {
   "cell_type": "markdown",
   "metadata": {},
   "source": [
    "#### Get Nucleotide Frequency Statistics"
   ]
  },
  {
   "cell_type": "code",
   "execution_count": 64,
   "metadata": {},
   "outputs": [],
   "source": [
    "def calc_freqs(seqs):\n",
    "    freqs = {\"A\" : 0, \"C\" : 0, \"G\" : 0, \"T\" : 0, \"N\" : 0}\n",
    "    total_nucs = 0\n",
    "    for seq in seqs:\n",
    "        seq = seq.upper()\n",
    "        for char in seq:\n",
    "            freqs[char] += 1\n",
    "        total_nucs += len(seq)\n",
    "    for freq in freqs:\n",
    "        print(freq, freqs[freq] / total_nucs)"
   ]
  },
  {
   "cell_type": "code",
   "execution_count": 65,
   "metadata": {
    "scrolled": true
   },
   "outputs": [
    {
     "name": "stdout",
     "output_type": "stream",
     "text": [
      "Foreground: 1493 sequences\n",
      "A 0.24459772270596114\n",
      "C 0.24410743469524449\n",
      "G 0.24493945077026122\n",
      "T 0.244967180174146\n",
      "N 0.02138821165438714\n",
      "\n",
      "Full Background: 199136 sequences\n",
      "A 0.2781438002169372\n",
      "C 0.21005601297605656\n",
      "G 0.21022038004178048\n",
      "T 0.27860511610155875\n",
      "N 0.02297469066366704\n",
      "\n",
      "Sampled Background: 1493 sequences\n",
      "A 0.24654722036168789\n",
      "C 0.24465733422638983\n",
      "G 0.2444826523777629\n",
      "T 0.24604447421299397\n",
      "N 0.01826831882116544\n"
     ]
    }
   ],
   "source": [
    "print(\"Foreground:\", len(foreground_seqs), \"sequences\")\n",
    "calc_freqs(foreground_seqs)\n",
    "print()\n",
    "\n",
    "print(\"Full Background:\", len(background_seqs), \"sequences\")\n",
    "calc_freqs(background_seqs)\n",
    "print()\n",
    "\n",
    "print(\"Sampled Background:\", len(biased_background_seqs), \"sequences\")\n",
    "calc_freqs(biased_background_seqs)"
   ]
  },
  {
   "cell_type": "markdown",
   "metadata": {},
   "source": [
    "#### Produce FASTA File"
   ]
  },
  {
   "cell_type": "code",
   "execution_count": 66,
   "metadata": {},
   "outputs": [],
   "source": [
    "sequences_to_keep = set(biased_background_seqs)\n",
    "\n",
    "with open(output_file, \"w\") as out:\n",
    "    with open(background_seqs_file) as bs:\n",
    "        curr_seq = []\n",
    "        curr_header = None\n",
    "        for line in bs:\n",
    "            if line.startswith(\">\"):\n",
    "                if len(curr_seq) != 0 and \"\".join(curr_seq) in sequences_to_keep:\n",
    "                    out.write(f\"{curr_header}\\n\")\n",
    "                    out.write(f\"{''.join(curr_seq)}\\n\")\n",
    "                curr_header = line.strip()\n",
    "                curr_seq = []\n",
    "            else:\n",
    "                curr_seq.append(line.strip())\n",
    "        \n",
    "        if len(curr_seq) != 0 and \"\".join(curr_seq) in sequences_to_keep:\n",
    "            out.write(f\"{curr_header}\\n\")\n",
    "            out.write(f\"{''.join(curr_seq)}\\n\")"
   ]
  },
  {
   "cell_type": "code",
   "execution_count": null,
   "metadata": {},
   "outputs": [],
   "source": []
  }
 ],
 "metadata": {
  "kernelspec": {
   "display_name": "hichip-db-new",
   "language": "python",
   "name": "hichip-db"
  },
  "language_info": {
   "codemirror_mode": {
    "name": "ipython",
    "version": 3
   },
   "file_extension": ".py",
   "mimetype": "text/x-python",
   "name": "python",
   "nbconvert_exporter": "python",
   "pygments_lexer": "ipython3",
   "version": "3.9.12"
  }
 },
 "nbformat": 4,
 "nbformat_minor": 4
}
