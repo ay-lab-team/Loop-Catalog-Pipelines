{
 "cells": [
  {
   "cell_type": "code",
   "execution_count": 5,
   "id": "ab8ad744",
   "metadata": {},
   "outputs": [],
   "source": [
    "import os\n",
    "import sys\n",
    "import glob\n",
    "import numpy as np\n",
    "import pandas as pd\n",
    "from matplotlib import pyplot as plt\n",
    "import seaborn as sns\n",
    "sns.set_theme(style=\"whitegrid\")\n",
    "\n",
    "pd.set_option('display.max_rows', 1000)\n",
    "pd.set_option('display.max_columns', 1000)\n",
    "pd.set_option('max_colwidth', 400)\n",
    "\n",
    "os.chdir('/mnt/BioAdHoc/Groups/vd-ay/hichip-db-loop-calling')"
   ]
  },
  {
   "cell_type": "code",
   "execution_count": 6,
   "id": "82f6bcf5",
   "metadata": {},
   "outputs": [],
   "source": [
    "outdir = 'results/tables/peaks/'\n",
    "os.makedirs(outdir, exist_ok=True)"
   ]
  },
  {
   "cell_type": "code",
   "execution_count": 7,
   "id": "d2ffa1a0",
   "metadata": {},
   "outputs": [],
   "source": [
    "def get_chipseq_std_sample_name(x):\n",
    "    s = os.path.basename(x)\n",
    "    s = s.split('.macs2_peaks')[0]\n",
    "    return(s)\n",
    "\n",
    "def get_hicpro_matches(x):\n",
    "    res = mapper.loc[x]['hicpro_std_sample_name']\n",
    "    \n",
    "    if type(res) == str:\n",
    "        return(res)\n",
    "    else:\n",
    "        res = ', '.join(res.tolist())\n",
    "    return(res)"
   ]
  },
  {
   "cell_type": "markdown",
   "id": "ab5575a8",
   "metadata": {},
   "source": [
    "## hg38 Data"
   ]
  },
  {
   "cell_type": "code",
   "execution_count": 8,
   "id": "05ccf57b",
   "metadata": {},
   "outputs": [],
   "source": [
    "# load fc peaks\n",
    "fn = f\"results/tables/final.all_batches/hg38.unmerged_peaks.chipseq.03_08_24.tsv\"\n",
    "hg38_fc_peaks = pd.read_table(fn)\n",
    "hg38_fc_peaks = hg38_fc_peaks.loc[hg38_fc_peaks.num_peaks_chipseq != -1]\n",
    "\n",
    "# load mapper \n",
    "fn = 'results/samplesheets/post-hicpro/2024.2.15.10.52.peaks_files_chipseq.all_batches.samplesheet.without_header.tsv'\n",
    "mapper = pd.read_table(fn, names=['hicpro_std_sample_name', 'vp_path', 'chipseq_path'])\n",
    "mapper['chipseq_std_sample_name'] = mapper['chipseq_path'].apply(get_chipseq_std_sample_name)\n",
    "mapper.set_index('chipseq_std_sample_name', inplace=True)\n",
    "\n",
    "# create a list of associated hicpro std sample name\n",
    "hg38_fc_peaks['associated_hicpro_std_names'] = hg38_fc_peaks.chipseq_std_sample_name.apply(get_hicpro_matches)\n",
    "\n",
    "# save to file\n",
    "outfn = os.path.join(outdir, 'hg38.chipseq_peaks.supp_table.tsv')\n",
    "hg38_fc_peaks.to_csv(outfn, sep='\\t', index=False); os.chmod(outfn, 0o664)"
   ]
  },
  {
   "cell_type": "markdown",
   "id": "c07d8dd1",
   "metadata": {},
   "source": [
    "## mm10 Data"
   ]
  },
  {
   "cell_type": "code",
   "execution_count": 9,
   "id": "5745f835",
   "metadata": {},
   "outputs": [],
   "source": [
    "# load fc peaks\n",
    "fn = f\"results/tables/final.all_batches/mm10.unmerged_peaks.chipseq.03_08_24.tsv\"    \n",
    "mm10_fc_peaks = pd.read_table(fn)\n",
    "mm10_fc_peaks = mm10_fc_peaks.loc[mm10_fc_peaks.num_peaks_chipseq != -1]\n",
    "\n",
    "# load mapper \n",
    "fn = 'results/samplesheets/post-hicpro/2024.2.15.10.52.peaks_files_chipseq.all_batches.samplesheet.without_header.tsv'\n",
    "mapper = pd.read_table(fn, names=['hicpro_std_sample_name', 'vp_path', 'chipseq_path'])\n",
    "mapper['chipseq_std_sample_name'] = mapper['chipseq_path'].apply(get_chipseq_std_sample_name)\n",
    "mapper.set_index('chipseq_std_sample_name', inplace=True)\n",
    "\n",
    "# create a list of associated hicpro std sample name\n",
    "mm10_fc_peaks['associated_hicpro_std_names'] = mm10_fc_peaks.chipseq_std_sample_name.apply(get_hicpro_matches)\n",
    "\n",
    "# save to file\n",
    "outfn = os.path.join(outdir, 'mm10.chipseq_peaks.supp_table.tsv')\n",
    "mm10_fc_peaks.to_csv(outfn, sep='\\t', index=False); os.chmod(outfn, 0o664)"
   ]
  },
  {
   "cell_type": "code",
   "execution_count": null,
   "id": "2500ca61",
   "metadata": {},
   "outputs": [],
   "source": []
  },
  {
   "cell_type": "code",
   "execution_count": null,
   "id": "a09f5ad1",
   "metadata": {},
   "outputs": [],
   "source": []
  },
  {
   "cell_type": "code",
   "execution_count": null,
   "id": "09a084c0",
   "metadata": {},
   "outputs": [],
   "source": []
  },
  {
   "cell_type": "code",
   "execution_count": null,
   "id": "e4ce7e1f",
   "metadata": {},
   "outputs": [],
   "source": []
  },
  {
   "cell_type": "code",
   "execution_count": null,
   "id": "695cf15f",
   "metadata": {},
   "outputs": [],
   "source": []
  }
 ],
 "metadata": {
  "kernelspec": {
   "display_name": "lc-pipelines",
   "language": "python",
   "name": "lc-pipelines"
  },
  "language_info": {
   "codemirror_mode": {
    "name": "ipython",
    "version": 3
   },
   "file_extension": ".py",
   "mimetype": "text/x-python",
   "name": "python",
   "nbconvert_exporter": "python",
   "pygments_lexer": "ipython3",
   "version": "3.12.0"
  }
 },
 "nbformat": 4,
 "nbformat_minor": 5
}
