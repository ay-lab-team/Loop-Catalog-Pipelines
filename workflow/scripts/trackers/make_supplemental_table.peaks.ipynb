{
 "cells": [
  {
   "cell_type": "code",
   "execution_count": 5,
   "metadata": {},
   "outputs": [],
   "source": [
    "import os\n",
    "import sys\n",
    "import glob\n",
    "import numpy as np\n",
    "import pandas as pd\n",
    "from matplotlib import pyplot as plt\n",
    "import seaborn as sns\n",
    "sns.set_theme(style=\"whitegrid\")\n",
    "\n",
    "pd.set_option('display.max_rows', 1000)\n",
    "pd.set_option('display.max_columns', 1000)\n",
    "pd.set_option('max_colwidth', 400)\n",
    "\n",
    "import config\n",
    "os.chdir(config.LOOP_CATALOG_DIR)"
   ]
  },
  {
   "cell_type": "code",
   "execution_count": 6,
   "metadata": {},
   "outputs": [],
   "source": [
    "outdir = 'results/tables/peaks/'\n",
    "os.makedirs(outdir, exist_ok=True)"
   ]
  },
  {
   "cell_type": "code",
   "execution_count": 7,
   "metadata": {},
   "outputs": [],
   "source": [
    "def get_chipseq_std_sample_name(x):\n",
    "    s = os.path.basename(x)\n",
    "    s = s.split('.macs2_peaks')[0]\n",
    "    return(s)\n",
    "\n",
    "def get_hicpro_matches(x):\n",
    "    res = mapper.loc[x]['hicpro_std_sample_name']\n",
    "    \n",
    "    if type(res) == str:\n",
    "        return(res)\n",
    "    else:\n",
    "        res = ', '.join(res.tolist())\n",
    "    return(res)"
   ]
  },
  {
   "cell_type": "markdown",
   "metadata": {},
   "source": [
    "## hg38 Data"
   ]
  },
  {
   "cell_type": "code",
   "execution_count": 8,
   "metadata": {},
   "outputs": [],
   "source": [
    "# load fc peaks\n",
    "fn = f\"results/tables/final.all_batches/hg38.unmerged_peaks.chipseq.03_08_24.tsv\"\n",
    "hg38_fc_peaks = pd.read_table(fn)\n",
    "hg38_fc_peaks = hg38_fc_peaks.loc[hg38_fc_peaks.num_peaks_chipseq != -1]\n",
    "\n",
    "# load mapper \n",
    "fn = 'results/samplesheets/post-hicpro/2024.2.15.10.52.peaks_files_chipseq.all_batches.samplesheet.without_header.tsv'\n",
    "mapper = pd.read_table(fn, names=['hicpro_std_sample_name', 'vp_path', 'chipseq_path'])\n",
    "mapper['chipseq_std_sample_name'] = mapper['chipseq_path'].apply(get_chipseq_std_sample_name)\n",
    "mapper.set_index('chipseq_std_sample_name', inplace=True)\n",
    "\n",
    "# create a list of associated hicpro std sample name\n",
    "hg38_fc_peaks['associated_hicpro_std_names'] = hg38_fc_peaks.chipseq_std_sample_name.apply(get_hicpro_matches)\n",
    "\n",
    "# save to file\n",
    "outfn = os.path.join(outdir, 'hg38.chipseq_peaks.supp_table.tsv')\n",
    "hg38_fc_peaks.to_csv(outfn, sep='\\t', index=False); os.chmod(outfn, 0o664)"
   ]
  },
  {
   "cell_type": "markdown",
   "metadata": {},
   "source": [
    "## mm10 Data"
   ]
  },
  {
   "cell_type": "code",
   "execution_count": 9,
   "metadata": {},
   "outputs": [],
   "source": [
    "# load fc peaks\n",
    "fn = f\"results/tables/final.all_batches/mm10.unmerged_peaks.chipseq.03_08_24.tsv\"    \n",
    "mm10_fc_peaks = pd.read_table(fn)\n",
    "mm10_fc_peaks = mm10_fc_peaks.loc[mm10_fc_peaks.num_peaks_chipseq != -1]\n",
    "\n",
    "# load mapper \n",
    "fn = 'results/samplesheets/post-hicpro/2024.2.15.10.52.peaks_files_chipseq.all_batches.samplesheet.without_header.tsv'\n",
    "mapper = pd.read_table(fn, names=['hicpro_std_sample_name', 'vp_path', 'chipseq_path'])\n",
    "mapper['chipseq_std_sample_name'] = mapper['chipseq_path'].apply(get_chipseq_std_sample_name)\n",
    "mapper.set_index('chipseq_std_sample_name', inplace=True)\n",
    "\n",
    "# create a list of associated hicpro std sample name\n",
    "mm10_fc_peaks['associated_hicpro_std_names'] = mm10_fc_peaks.chipseq_std_sample_name.apply(get_hicpro_matches)\n",
    "\n",
    "# save to file\n",
    "outfn = os.path.join(outdir, 'mm10.chipseq_peaks.supp_table.tsv')\n",
    "mm10_fc_peaks.to_csv(outfn, sep='\\t', index=False); os.chmod(outfn, 0o664)"
   ]
  }
 ],
 "metadata": {
  "kernelspec": {
   "display_name": "hichip-db-new",
   "language": "python",
   "name": "hichip-db"
  },
  "language_info": {
   "codemirror_mode": {
    "name": "ipython",
    "version": 3
   },
   "file_extension": ".py",
   "mimetype": "text/x-python",
   "name": "python",
   "nbconvert_exporter": "python",
   "pygments_lexer": "ipython3",
   "version": "3.9.12"
  }
 },
 "nbformat": 4,
 "nbformat_minor": 5
}
