{
 "cells": [
  {
   "cell_type": "code",
   "execution_count": null,
   "id": "2a693e2f",
   "metadata": {},
   "outputs": [],
   "source": [
    "import os\n",
    "import sys\n",
    "import glob\n",
    "import numpy as np\n",
    "import pandas as pd\n",
    "from matplotlib import pyplot as plt\n",
    "import seaborn as sns\n",
    "\n",
    "sns.set_theme(style=\"whitegrid\")\n",
    "os.chdir('/mnt/BioAdHoc/Groups/vd-ay/hichip-db-loop-calling')\n",
    "#os.chdir('/mnt/BioAdHoc/Groups/vd-ay/kfetter/hichip-db-loop-calling')\n",
    "\n",
    "pd.set_option('display.max_rows', 1000)\n",
    "pd.set_option('display.max_columns', 1000)\n",
    "pd.set_option('max_colwidth', 400)\n",
    "\n",
    "outdir = 'results/peaks/'\n",
    "ref = 'hg38'\n",
    "rerun = False"
   ]
  },
  {
   "cell_type": "code",
   "execution_count": null,
   "id": "5a26a74f",
   "metadata": {},
   "outputs": [],
   "source": [
    "latest_date = '2024.1.16.10.52'"
   ]
  },
  {
   "cell_type": "markdown",
   "id": "ec389948",
   "metadata": {},
   "source": [
    "# Process ChIP-seq Data"
   ]
  },
  {
   "cell_type": "markdown",
   "id": "0c2cc027",
   "metadata": {},
   "source": [
    "### Helper functions"
   ]
  },
  {
   "cell_type": "code",
   "execution_count": null,
   "id": "c3858402",
   "metadata": {},
   "outputs": [],
   "source": [
    "def read_chipseq_files(file):\n",
    "    peak_data = {}\n",
    "    count = 0\n",
    "    with open(file) as fr:\n",
    "        for line in fr:\n",
    "            info = line.strip().split()\n",
    "            peak_info = info[0:3]\n",
    "            peak_data[count] = peak_info\n",
    "            count = count + 1\n",
    "    return(peak_data)"
   ]
  },
  {
   "cell_type": "code",
   "execution_count": null,
   "id": "4ca93c07",
   "metadata": {},
   "outputs": [],
   "source": [
    "def get_chipseq_path(samplesheet, sample_name):\n",
    "    path=''\n",
    "    with open(samplesheet) as fr:\n",
    "        for line in fr:\n",
    "            if sample_name in line:\n",
    "                info = line.strip().split()\n",
    "                path = info[2]\n",
    "    return(path) "
   ]
  },
  {
   "cell_type": "code",
   "execution_count": null,
   "id": "de67fa4a",
   "metadata": {},
   "outputs": [],
   "source": [
    "def generate_chipseq_df(outfn='test.tsv', rerun=False):\n",
    "    \n",
    "    if rerun == True:\n",
    "        data = []\n",
    "        glob_str = 'results/hicpro/*Homo*/hic_results'\n",
    "\n",
    "        for file in glob.glob(glob_str):\n",
    "            \n",
    "            # get sample information\n",
    "            sample_name = file.split('/')[2]\n",
    "            sample_info = []\n",
    "            sample_info.append(sample_name)\n",
    "\n",
    "            # parse MACS2 data\n",
    "            fn = 'results/samplesheets/post-hicpro/2024.2.15.10.52.peaks_files_chipseq.all_batches.samplesheet.without_header.tsv'\n",
    "            chip_path = get_chipseq_path(fn, sample_name)\n",
    "            if os.path.exists(chip_path):\n",
    "                peak_info = read_chipseq_files(chip_path)\n",
    "                sample_info.append(len(peak_info))\n",
    "                peak_sizes = []\n",
    "                for peak in peak_info.items():\n",
    "                    peak_sizes.append(int(int(peak[1][2])-int(peak[1][1])))\n",
    "                sample_info.append(np.mean(peak_sizes))\n",
    "            else:\n",
    "                sample_info.append(-1)\n",
    "                sample_info.append(-1)\n",
    "            data.append(sample_info)\n",
    "\n",
    "        # create a dataframe and save to file\n",
    "        df = pd.DataFrame(data)\n",
    "        df.to_csv(outfn, sep='\\t', index=None)\n",
    "        \n",
    "    else:\n",
    "        # load old data when re-run is not required\n",
    "        df = pd.read_table(outfn)\n",
    "        \n",
    "    return df"
   ]
  },
  {
   "cell_type": "code",
   "execution_count": null,
   "id": "f90e136b",
   "metadata": {},
   "outputs": [],
   "source": [
    "# extract the chipseq_std_sample_name\n",
    "def get_chipseq_std(x):\n",
    "    if len(x) > 2:\n",
    "        \n",
    "        # sometimes a matching chipseq file could not be found, return -1\n",
    "        if x[-1] == 'Could not find a matching file':\n",
    "            return(-1)\n",
    "        \n",
    "        # else return the chipseq std sample name within the path\n",
    "        else:\n",
    "            return(x[-3])\n",
    "    else:\n",
    "        return(-1)"
   ]
  },
  {
   "cell_type": "markdown",
   "id": "9e090971",
   "metadata": {},
   "source": [
    "### Loading data"
   ]
  },
  {
   "cell_type": "code",
   "execution_count": null,
   "id": "cca8d492",
   "metadata": {},
   "outputs": [],
   "source": [
    "# load the hicpro samples\n",
    "# samples = pd.read_table('results/samplesheets/hicpro/current.hicpro.samplesheet.without_header.tsv', header=None)\n",
    "# columns = ['std_sample_name', 'gse_id', 'organism', 'bio_rep', 'antibody_target', 'restriction_enzyme', 'sample_name']\n",
    "# samples.columns = columns"
   ]
  },
  {
   "cell_type": "code",
   "execution_count": null,
   "id": "a47ff496",
   "metadata": {},
   "outputs": [],
   "source": [
    "# load mapping between hicpro and chipseq std sample names\n",
    "fn = 'results/samplesheets/post-hicpro/2024.2.1.10.52.peaks_files_chipseq.batch1.samplesheet.without_header.tsv'\n",
    "batch1_df = pd.read_table(fn, names=['hicpro_std_sample_name', 'hicpro_path', 'chipseq_path'])\n",
    "\n",
    "fn = 'results/samplesheets/post-hicpro/2024.2.1.10.52.peaks_files_chipseq.batch2.samplesheet.without_header.tsv'\n",
    "batch2_df = pd.read_table(fn, names=['hicpro_std_sample_name', 'hicpro_path', 'chipseq_path'])\n",
    "\n",
    "# concating the batches\n",
    "hicpro_to_chipseq = pd.concat([batch1_df, batch2_df])\n",
    "\n",
    "# extracting the chipseq std sample name\n",
    "hicpro_to_chipseq['chipseq_std_sample_name'] = hicpro_to_chipseq.chipseq_path.str.split('/').apply(get_chipseq_std)"
   ]
  },
  {
   "cell_type": "code",
   "execution_count": null,
   "id": "207391ab",
   "metadata": {},
   "outputs": [],
   "source": [
    "hicpro_to_chipseq.loc[hicpro_to_chipseq['chipseq_std_sample_name'] == -1].shape"
   ]
  },
  {
   "cell_type": "code",
   "execution_count": null,
   "id": "c50a6072",
   "metadata": {},
   "outputs": [],
   "source": [
    "hicpro_to_chipseq.head()"
   ]
  },
  {
   "cell_type": "markdown",
   "id": "4d1f7d17",
   "metadata": {},
   "source": [
    "#### Reviewing the data"
   ]
  },
  {
   "cell_type": "code",
   "execution_count": null,
   "id": "d280c4bf",
   "metadata": {},
   "outputs": [],
   "source": [
    "print('Unique chipseq peak results: {}'.format(hicpro_to_chipseq.chipseq_std_sample_name.nunique()))"
   ]
  },
  {
   "cell_type": "code",
   "execution_count": null,
   "id": "31923dd4",
   "metadata": {},
   "outputs": [],
   "source": [
    "# count the number of unique per organim\n",
    "hicpro_to_chipseq.loc[:, 'organism'] = hicpro_to_chipseq.hicpro_std_sample_name.str.split('.').apply(lambda x: x[2])\n",
    "org_grps = hicpro_to_chipseq.groupby('organism')\n",
    "org_grps.apply(lambda df: df.chipseq_std_sample_name.nunique())"
   ]
  },
  {
   "cell_type": "code",
   "execution_count": null,
   "id": "9517ade9",
   "metadata": {},
   "outputs": [],
   "source": [
    "# rogue groups aka, forgot to replace . with -\n",
    "print('GSE212978')\n",
    "display(org_grps.get_group('GSE212978'))\n",
    "print('GSE213385')\n",
    "display(org_grps.get_group('GSE213385'))"
   ]
  },
  {
   "cell_type": "markdown",
   "id": "95935ca6",
   "metadata": {},
   "source": [
    "#### Generate the main ChIP-seq dataframe "
   ]
  },
  {
   "cell_type": "code",
   "execution_count": null,
   "id": "6932f10d",
   "metadata": {},
   "outputs": [],
   "source": [
    "org = \"Homo\""
   ]
  },
  {
   "cell_type": "code",
   "execution_count": null,
   "id": "635f333a",
   "metadata": {},
   "outputs": [],
   "source": [
    "# generate the chipseq dataframe, update rerun as needed\n",
    "outfn = os.path.join(outdir, 'analysis.peaks.summary.tsv')\n",
    "chipseq_df = generate_chipseq_df(outfn=outfn, rerun=rerun)\n",
    "\n",
    "# add column  names and sort\n",
    "chipseq_df.columns = [\"sample_name\", \"num_peaks_chipseq\", \"avg_peak_size_chipseq\"]\n",
    "chipseq_df = chipseq_df.sort_values(by=[\"sample_name\"], ascending=True).reset_index(drop=True)\n",
    "\n",
    "# add chipseq std sample name and remove duplicates\n",
    "chipseq_df = chipseq_df.merge(hicpro_to_chipseq, left_on='sample_name', right_on='hicpro_std_sample_name')\n",
    "chipseq_df.drop_duplicates(subset=['chipseq_std_sample_name'], inplace=True)"
   ]
  },
  {
   "cell_type": "code",
   "execution_count": null,
   "id": "b5b2a483",
   "metadata": {
    "scrolled": true
   },
   "outputs": [],
   "source": [
    "chipseq_df.head()"
   ]
  },
  {
   "cell_type": "code",
   "execution_count": null,
   "id": "1dea8690",
   "metadata": {},
   "outputs": [],
   "source": [
    "chipseq_df.shape"
   ]
  },
  {
   "cell_type": "code",
   "execution_count": null,
   "id": "2465bc64",
   "metadata": {},
   "outputs": [],
   "source": [
    "#has_chipseq = df.loc[df['num_peaks_fithichip'] == 0]\n",
    "len(chipseq_df.loc[chipseq_df[\"num_peaks_chipseq\"] != -1])\n",
    "#print(len(has_chipseq))\n",
    "#has_inferred = has_chipseq.loc[df['num_peaks_fithichip'] != 0]\n",
    "#low = ((has_inferred.num_peaks_hichip_peaks < 5000) | (has_inferred.num_peaks_fithichip < 5000) | (has_inferred.num_peaks_chipseq < 5000))\n",
    "#has_inferred[low].drop(columns=['avg_peak_size_hichip_peaks', 'avg_peak_size_fithichip', 'avg_peak_size_chipseq']).reset_index(drop=True)\n",
    "\n",
    "print('Problem with these samples here:')\n",
    "display(chipseq_df.loc[chipseq_df[\"num_peaks_chipseq\"] == -1])"
   ]
  },
  {
   "cell_type": "code",
   "execution_count": null,
   "id": "ef71c8fc",
   "metadata": {},
   "outputs": [],
   "source": [
    "# save the summary for the loop catalog website/later use\n",
    "save_df = chipseq_df[['chipseq_std_sample_name', 'num_peaks_chipseq', 'avg_peak_size_chipseq']]\n",
    "\n",
    "# save in excel format\n",
    "outfn = f\"results/tables/final.all_batches/{ref}.unmerged_peaks.chipseq.02_26_24.xlsx\"\n",
    "save_df.to_excel(outfn); os.chmod(outfn, 0o664)\n",
    "\n",
    "# save in tsv format\n",
    "outfn = f\"results/tables/final.all_batches/{ref}.unmerged_peaks.chipseq.02_26_24.tsv\"\n",
    "save_df.to_csv(outfn, sep = \"\\t\", index = None); os.chmod(outfn, 0o664)"
   ]
  },
  {
   "cell_type": "markdown",
   "id": "06b58c00",
   "metadata": {},
   "source": [
    "# Load FithiChIP Data"
   ]
  },
  {
   "cell_type": "code",
   "execution_count": null,
   "id": "3bb10328",
   "metadata": {},
   "outputs": [],
   "source": [
    "def read_peak_files(file):\n",
    "    peak_data = {}\n",
    "    count = 0\n",
    "    with open(file) as fr:\n",
    "        for line in fr:\n",
    "            info = line.strip().split()\n",
    "            peak_info = info[0:3]\n",
    "            peak_data[count] = peak_info\n",
    "            count = count + 1\n",
    "    return(peak_data)"
   ]
  },
  {
   "cell_type": "code",
   "execution_count": null,
   "id": "1c7a9289",
   "metadata": {},
   "outputs": [],
   "source": [
    "def generate_fithichip_df(outfn='test.tsv', rerun=False):\n",
    "    \n",
    "    if rerun == True:\n",
    "        data = []\n",
    "        glob_str = 'results/hicpro/*Homo*/hic_results'\n",
    "\n",
    "        for i, file in enumerate(glob.glob(glob_str)):\n",
    "            \n",
    "            # get sample information\n",
    "            sample_name = file.split('/')[2]\n",
    "            sample_info = []\n",
    "            sample_info.append(sample_name)\n",
    "\n",
    "            ## FitHiChIP peaks\n",
    "            fithichip_path = 'results/peaks/fithichip/{sn}/MACS2_ExtSize/out_macs2_peaks.narrowPeak'.format(sn = sample_name)\n",
    "            if os.path.exists(fithichip_path):\n",
    "                \n",
    "                # count the number of peaks\n",
    "                peak_info = read_peak_files(fithichip_path)\n",
    "                sample_info.append(len(peak_info))\n",
    "                \n",
    "                # averaging peak sizes\n",
    "                peak_sizes = []\n",
    "                for peak in peak_info.items():\n",
    "                    peak_sizes.append(int(int(peak[1][2])-int(peak[1][1])))\n",
    "                sample_info.append(np.mean(peak_sizes))\n",
    "\n",
    "            else:\n",
    "                \n",
    "                # setting defaults/not present values, -1 is used to signify this\n",
    "                sample_info.append(-1)\n",
    "                sample_info.append(-1)\n",
    "\n",
    "            data.append(sample_info)\n",
    "                \n",
    "            if i % 100 == 0:\n",
    "                print('Processed: {}'.format(i))\n",
    "\n",
    "        # create a dataframe and save to file\n",
    "        df = pd.DataFrame(data)\n",
    "        df.to_csv(outfn, sep='\\t', index=None)\n",
    "        \n",
    "    else:\n",
    "        # load old data when re-run is not required\n",
    "        df = pd.read_table(outfn)\n",
    "        \n",
    "    return df"
   ]
  },
  {
   "cell_type": "markdown",
   "id": "4b5a9f8f",
   "metadata": {},
   "source": [
    "### Loading data"
   ]
  },
  {
   "cell_type": "markdown",
   "id": "6c53a054",
   "metadata": {},
   "source": [
    "#### Generate the main fithichip dataframe "
   ]
  },
  {
   "cell_type": "code",
   "execution_count": null,
   "id": "4b7d3a1c",
   "metadata": {},
   "outputs": [],
   "source": [
    "org = \"Homo\""
   ]
  },
  {
   "cell_type": "code",
   "execution_count": null,
   "id": "787d46da",
   "metadata": {},
   "outputs": [],
   "source": [
    "# generate the chipseq dataframe, update rerun as needed\n",
    "outfn = os.path.join(outdir, 'analysis.peaks.summary.fithichip.tsv')\n",
    "fithichip_df = generate_fithichip_df(outfn=outfn, rerun=rerun)"
   ]
  },
  {
   "cell_type": "code",
   "execution_count": null,
   "id": "dcd2ac21",
   "metadata": {},
   "outputs": [],
   "source": [
    "# add column  names and sort\n",
    "fithichip_df.columns = [\"sample_name\", \"num_peaks_fithichip\", \"avg_peak_size_fithichip\"]\n",
    "fithichip_df = fithichip_df.sort_values(by=[\"sample_name\"], ascending=True).reset_index(drop=True)"
   ]
  },
  {
   "cell_type": "code",
   "execution_count": null,
   "id": "be424f66",
   "metadata": {
    "scrolled": true
   },
   "outputs": [],
   "source": [
    "fithichip_df.head()"
   ]
  },
  {
   "cell_type": "code",
   "execution_count": null,
   "id": "9576148d",
   "metadata": {},
   "outputs": [],
   "source": [
    "fithichip_df.shape"
   ]
  },
  {
   "cell_type": "code",
   "execution_count": null,
   "id": "ef079387",
   "metadata": {},
   "outputs": [],
   "source": [
    "#has_chipseq = df.loc[df['num_peaks_fithichip'] == 0]\n",
    "len(fithichip_df.loc[fithichip_df[\"num_peaks_fithichip\"] != -1])\n",
    "#print(len(has_chipseq))\n",
    "#has_inferred = has_chipseq.loc[df['num_peaks_fithichip'] != 0]\n",
    "#low = ((has_inferred.num_peaks_hichip_peaks < 5000) | (has_inferred.num_peaks_fithichip < 5000) | (has_inferred.num_peaks_chipseq < 5000))\n",
    "#has_inferred[low].drop(columns=['avg_peak_size_hichip_peaks', 'avg_peak_size_fithichip', 'avg_peak_size_chipseq']).reset_index(drop=True)\n",
    "\n",
    "print('Problem with these samples here:')\n",
    "display(fithichip_df.loc[fithichip_df[\"num_peaks_fithichip\"] == -1])"
   ]
  },
  {
   "cell_type": "code",
   "execution_count": null,
   "id": "77b3ad42",
   "metadata": {},
   "outputs": [],
   "source": [
    "# save the summary for the loop catalog website/later use\n",
    "save_df = fithichip_df[['sample_name', 'num_peaks_fithichip', 'avg_peak_size_fithichip']]\n",
    "\n",
    "# save in excel format\n",
    "outfn = f\"results/tables/final.all_batches/{ref}.unmerged_peaks.fithichip.02_26_24.xlsx\"\n",
    "save_df.to_excel(outfn); os.chmod(outfn, 0o664)\n",
    "\n",
    "# save in tsv format\n",
    "outfn = f\"results/tables/final.all_batches/{ref}.unmerged_peaks.fithichip.02_26_24.tsv\"\n",
    "save_df.to_csv(outfn, sep = \"\\t\", index = None); os.chmod(outfn, 0o664)"
   ]
  },
  {
   "cell_type": "code",
   "execution_count": null,
   "id": "0867a24b",
   "metadata": {},
   "outputs": [],
   "source": [
    "7 + 7"
   ]
  },
  {
   "cell_type": "code",
   "execution_count": null,
   "id": "7caf8899",
   "metadata": {},
   "outputs": [],
   "source": []
  }
 ],
 "metadata": {
  "kernelspec": {
   "display_name": "lc-pipelines",
   "language": "python",
   "name": "lc-pipelines"
  },
  "language_info": {
   "codemirror_mode": {
    "name": "ipython",
    "version": 3
   },
   "file_extension": ".py",
   "mimetype": "text/x-python",
   "name": "python",
   "nbconvert_exporter": "python",
   "pygments_lexer": "ipython3",
   "version": "3.12.0"
  }
 },
 "nbformat": 4,
 "nbformat_minor": 5
}
