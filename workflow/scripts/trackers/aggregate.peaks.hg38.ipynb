{
 "cells": [
  {
   "cell_type": "code",
   "execution_count": 1,
   "id": "2a693e2f",
   "metadata": {},
   "outputs": [],
   "source": [
    "import os\n",
    "import sys\n",
    "import glob\n",
    "import numpy as np\n",
    "import pandas as pd\n",
    "from matplotlib import pyplot as plt\n",
    "import seaborn as sns\n",
    "\n",
    "sns.set_theme(style=\"whitegrid\")\n",
    "os.chdir('/mnt/BioAdHoc/Groups/vd-ay/hichip-db-loop-calling')\n",
    "\n",
    "pd.set_option('display.max_rows', 1000)\n",
    "pd.set_option('display.max_columns', 1000)\n",
    "pd.set_option('max_colwidth', 400)\n",
    "\n",
    "outdir = 'results/peaks/'\n",
    "ref = 'hg38'\n",
    "rerun = True"
   ]
  },
  {
   "cell_type": "code",
   "execution_count": 2,
   "id": "0650064c",
   "metadata": {},
   "outputs": [],
   "source": [
    "assigned_date = '03_08_24' # MM.DD.YY"
   ]
  },
  {
   "cell_type": "markdown",
   "id": "ec389948",
   "metadata": {},
   "source": [
    "# Process ChIP-seq Data"
   ]
  },
  {
   "cell_type": "markdown",
   "id": "0c2cc027",
   "metadata": {},
   "source": [
    "### Helper functions"
   ]
  },
  {
   "cell_type": "code",
   "execution_count": 3,
   "id": "c3858402",
   "metadata": {},
   "outputs": [],
   "source": [
    "def read_chipseq_files(file):\n",
    "    peak_data = {}\n",
    "    count = 0\n",
    "    with open(file) as fr:\n",
    "        for line in fr:\n",
    "            info = line.strip().split()\n",
    "            peak_info = info[0:3]\n",
    "            peak_data[count] = peak_info\n",
    "            count = count + 1\n",
    "    return(peak_data)"
   ]
  },
  {
   "cell_type": "code",
   "execution_count": 4,
   "id": "4ca93c07",
   "metadata": {},
   "outputs": [],
   "source": [
    "def get_chipseq_path(samplesheet, sample_name):\n",
    "    path=''\n",
    "    with open(samplesheet) as fr:\n",
    "        for line in fr:\n",
    "            if sample_name in line:\n",
    "                info = line.strip().split()\n",
    "                path = info[2]\n",
    "    return(path) "
   ]
  },
  {
   "cell_type": "code",
   "execution_count": 5,
   "id": "de67fa4a",
   "metadata": {},
   "outputs": [],
   "source": [
    "def generate_chipseq_df(outfn='test.tsv', rerun=False):\n",
    "    \n",
    "    if rerun == True:\n",
    "        data = []\n",
    "        glob_str = 'results/hicpro/*Homo*/hic_results'\n",
    "\n",
    "        for file in glob.glob(glob_str):\n",
    "            \n",
    "            # get sample information\n",
    "            sample_name = file.split('/')[2]\n",
    "            sample_info = []\n",
    "            sample_info.append(sample_name)\n",
    "\n",
    "            # parse MACS2 data\n",
    "            fn = 'results/samplesheets/post-hicpro/2024.2.15.10.52.peaks_files_chipseq.all_batches.samplesheet.without_header.tsv'\n",
    "            chip_path = get_chipseq_path(fn, sample_name)\n",
    "            if os.path.exists(chip_path):\n",
    "                peak_info = read_chipseq_files(chip_path)\n",
    "                sample_info.append(len(peak_info))\n",
    "                peak_sizes = []\n",
    "                for peak in peak_info.items():\n",
    "                    peak_sizes.append(int(int(peak[1][2])-int(peak[1][1])))\n",
    "                sample_info.append(np.mean(peak_sizes))\n",
    "            else:\n",
    "                sample_info.append(-1)\n",
    "                sample_info.append(-1)\n",
    "            data.append(sample_info)\n",
    "\n",
    "        # create a dataframe and save to file\n",
    "        df = pd.DataFrame(data)\n",
    "        df.to_csv(outfn, sep='\\t', index=None)\n",
    "        \n",
    "    else:\n",
    "        # load old data when re-run is not required\n",
    "        df = pd.read_table(outfn)\n",
    "        \n",
    "    return df"
   ]
  },
  {
   "cell_type": "code",
   "execution_count": 6,
   "id": "f90e136b",
   "metadata": {},
   "outputs": [],
   "source": [
    "# extract the chipseq_std_sample_name\n",
    "def get_chipseq_std(x):\n",
    "    if len(x) > 2:\n",
    "        \n",
    "        # sometimes a matching chipseq file could not be found, return -1\n",
    "        if x[-1] == 'Could not find a matching file':\n",
    "            return(-1)\n",
    "        \n",
    "        # else return the chipseq std sample name within the path\n",
    "        else:\n",
    "            return(x[-3])\n",
    "    else:\n",
    "        return(-1)"
   ]
  },
  {
   "cell_type": "markdown",
   "id": "9e090971",
   "metadata": {},
   "source": [
    "### Loading data"
   ]
  },
  {
   "cell_type": "code",
   "execution_count": 7,
   "id": "cca8d492",
   "metadata": {},
   "outputs": [],
   "source": [
    "# load the hicpro samples\n",
    "# samples = pd.read_table('results/samplesheets/hicpro/current.hicpro.samplesheet.without_header.tsv', header=None)\n",
    "# columns = ['std_sample_name', 'gse_id', 'organism', 'bio_rep', 'antibody_target', 'restriction_enzyme', 'sample_name']\n",
    "# samples.columns = columns"
   ]
  },
  {
   "cell_type": "code",
   "execution_count": 8,
   "id": "a47ff496",
   "metadata": {},
   "outputs": [],
   "source": [
    "# load mapping between hicpro and chipseq std sample names\n",
    "fn = 'results/samplesheets/post-hicpro/2024.2.1.10.52.peaks_files_chipseq.batch1.samplesheet.without_header.tsv'\n",
    "batch1_df = pd.read_table(fn, names=['hicpro_std_sample_name', 'hicpro_path', 'chipseq_path'])\n",
    "\n",
    "fn = 'results/samplesheets/post-hicpro/2024.2.1.10.52.peaks_files_chipseq.batch2.samplesheet.without_header.tsv'\n",
    "batch2_df = pd.read_table(fn, names=['hicpro_std_sample_name', 'hicpro_path', 'chipseq_path'])\n",
    "\n",
    "# concating the batches\n",
    "hicpro_to_chipseq = pd.concat([batch1_df, batch2_df])\n",
    "\n",
    "# extracting the chipseq std sample name\n",
    "hicpro_to_chipseq['chipseq_std_sample_name'] = hicpro_to_chipseq.chipseq_path.str.split('/').apply(get_chipseq_std)"
   ]
  },
  {
   "cell_type": "code",
   "execution_count": 9,
   "id": "207391ab",
   "metadata": {},
   "outputs": [
    {
     "data": {
      "text/plain": [
       "(4, 4)"
      ]
     },
     "execution_count": 9,
     "metadata": {},
     "output_type": "execute_result"
    }
   ],
   "source": [
    "hicpro_to_chipseq.loc[hicpro_to_chipseq['chipseq_std_sample_name'] == -1].shape"
   ]
  },
  {
   "cell_type": "code",
   "execution_count": 10,
   "id": "c50a6072",
   "metadata": {},
   "outputs": [
    {
     "data": {
      "text/html": [
       "<div>\n",
       "<style scoped>\n",
       "    .dataframe tbody tr th:only-of-type {\n",
       "        vertical-align: middle;\n",
       "    }\n",
       "\n",
       "    .dataframe tbody tr th {\n",
       "        vertical-align: top;\n",
       "    }\n",
       "\n",
       "    .dataframe thead th {\n",
       "        text-align: right;\n",
       "    }\n",
       "</style>\n",
       "<table border=\"1\" class=\"dataframe\">\n",
       "  <thead>\n",
       "    <tr style=\"text-align: right;\">\n",
       "      <th></th>\n",
       "      <th>hicpro_std_sample_name</th>\n",
       "      <th>hicpro_path</th>\n",
       "      <th>chipseq_path</th>\n",
       "      <th>chipseq_std_sample_name</th>\n",
       "    </tr>\n",
       "  </thead>\n",
       "  <tbody>\n",
       "    <tr>\n",
       "      <th>0</th>\n",
       "      <td>H9.GSE105028.Homo_Sapiens.CTCF.b1</td>\n",
       "      <td>/mnt/BioAdHoc/Groups/vd-ay/kfetter/hichip-db-loop-calling/results/hicpro/H9.GSE105028.Homo_Sapiens.CTCF.b1/hic_results/data/H9.GSE105028.Homo_Sapiens.CTCF.b1/H9.GSE105028.Homo_Sapiens.CTCF.b1.allValidPairs</td>\n",
       "      <td>/mnt/BioAdHoc/Groups/vd-ay/kfetter/hichip-db-loop-calling/results/peaks/chipline_v2/H9.GSE105028.Homo_Sapiens.CTCF.b1/MACS2_Ext_No_Control/H9.GSE105028.Homo_Sapiens.CTCF.b1.macs2_peaks.narrowPeak_Q0.01filt</td>\n",
       "      <td>H9.GSE105028.Homo_Sapiens.CTCF.b1</td>\n",
       "    </tr>\n",
       "    <tr>\n",
       "      <th>1</th>\n",
       "      <td>H9-HS.GSE105028.Homo_Sapiens.CTCF.b1</td>\n",
       "      <td>/mnt/BioAdHoc/Groups/vd-ay/kfetter/hichip-db-loop-calling/results/hicpro/H9-HS.GSE105028.Homo_Sapiens.CTCF.b1/hic_results/data/H9-HS.GSE105028.Homo_Sapiens.CTCF.b1/H9-HS.GSE105028.Homo_Sapiens.CTCF.b1.allValidPairs</td>\n",
       "      <td>/mnt/BioAdHoc/Groups/vd-ay/kfetter/hichip-db-loop-calling/results/peaks/chipline_v2/H9-HS.GSE105028.Homo_Sapiens.CTCF.b1/MACS2_Ext_No_Control/H9-HS.GSE105028.Homo_Sapiens.CTCF.b1.macs2_peaks.narrowPeak_Q0.01filt</td>\n",
       "      <td>H9-HS.GSE105028.Homo_Sapiens.CTCF.b1</td>\n",
       "    </tr>\n",
       "    <tr>\n",
       "      <th>2</th>\n",
       "      <td>H9.GSE105028.Homo_Sapiens.H3K4me1.b1</td>\n",
       "      <td>/mnt/BioAdHoc/Groups/vd-ay/kfetter/hichip-db-loop-calling/results/hicpro/H9.GSE105028.Homo_Sapiens.H3K4me1.b1/hic_results/data/H9.GSE105028.Homo_Sapiens.H3K4me1.b1/H9.GSE105028.Homo_Sapiens.H3K4me1.b1.allValidPairs</td>\n",
       "      <td>/mnt/BioAdHoc/Groups/vd-ay/kfetter/hichip-db-loop-calling/results/peaks/chipline_v2/H9.GSE105028.Homo_Sapiens.H3K4me1.b1/MACS2_Ext_No_Control/H9.GSE105028.Homo_Sapiens.H3K4me1.b1.macs2_peaks.narrowPeak_Q0.01filt</td>\n",
       "      <td>H9.GSE105028.Homo_Sapiens.H3K4me1.b1</td>\n",
       "    </tr>\n",
       "    <tr>\n",
       "      <th>3</th>\n",
       "      <td>H9-HS.GSE105028.Homo_Sapiens.H3K4me1.b1</td>\n",
       "      <td>/mnt/BioAdHoc/Groups/vd-ay/kfetter/hichip-db-loop-calling/results/hicpro/H9-HS.GSE105028.Homo_Sapiens.H3K4me1.b1/hic_results/data/H9-HS.GSE105028.Homo_Sapiens.H3K4me1.b1/H9-HS.GSE105028.Homo_Sapiens.H3K4me1.b1.allValidPairs</td>\n",
       "      <td>/mnt/BioAdHoc/Groups/vd-ay/kfetter/hichip-db-loop-calling/results/peaks/chipline_v2/H9-HS.GSE105028.Homo_Sapiens.H3K4me1.b1/MACS2_Ext_No_Control/H9-HS.GSE105028.Homo_Sapiens.H3K4me1.b1.macs2_peaks.narrowPeak_Q0.01filt</td>\n",
       "      <td>H9-HS.GSE105028.Homo_Sapiens.H3K4me1.b1</td>\n",
       "    </tr>\n",
       "    <tr>\n",
       "      <th>4</th>\n",
       "      <td>H9.GSE105028.Homo_Sapiens.KLF4.b1</td>\n",
       "      <td>/mnt/BioAdHoc/Groups/vd-ay/kfetter/hichip-db-loop-calling/results/hicpro/H9.GSE105028.Homo_Sapiens.KLF4.b1/hic_results/data/H9.GSE105028.Homo_Sapiens.KLF4.b1/H9.GSE105028.Homo_Sapiens.KLF4.b1.allValidPairs</td>\n",
       "      <td>/mnt/BioAdHoc/Groups/vd-ay/kfetter/hichip-db-loop-calling/results/peaks/chipline_v2/H9.GSE105028.Homo_Sapiens.KLF4.b1/MACS2_Ext_No_Control/H9.GSE105028.Homo_Sapiens.KLF4.b1.macs2_peaks.narrowPeak_Q0.01filt</td>\n",
       "      <td>H9.GSE105028.Homo_Sapiens.KLF4.b1</td>\n",
       "    </tr>\n",
       "  </tbody>\n",
       "</table>\n",
       "</div>"
      ],
      "text/plain": [
       "                    hicpro_std_sample_name  \\\n",
       "0        H9.GSE105028.Homo_Sapiens.CTCF.b1   \n",
       "1     H9-HS.GSE105028.Homo_Sapiens.CTCF.b1   \n",
       "2     H9.GSE105028.Homo_Sapiens.H3K4me1.b1   \n",
       "3  H9-HS.GSE105028.Homo_Sapiens.H3K4me1.b1   \n",
       "4        H9.GSE105028.Homo_Sapiens.KLF4.b1   \n",
       "\n",
       "                                                                                                                                                                                                                       hicpro_path  \\\n",
       "0                    /mnt/BioAdHoc/Groups/vd-ay/kfetter/hichip-db-loop-calling/results/hicpro/H9.GSE105028.Homo_Sapiens.CTCF.b1/hic_results/data/H9.GSE105028.Homo_Sapiens.CTCF.b1/H9.GSE105028.Homo_Sapiens.CTCF.b1.allValidPairs   \n",
       "1           /mnt/BioAdHoc/Groups/vd-ay/kfetter/hichip-db-loop-calling/results/hicpro/H9-HS.GSE105028.Homo_Sapiens.CTCF.b1/hic_results/data/H9-HS.GSE105028.Homo_Sapiens.CTCF.b1/H9-HS.GSE105028.Homo_Sapiens.CTCF.b1.allValidPairs   \n",
       "2           /mnt/BioAdHoc/Groups/vd-ay/kfetter/hichip-db-loop-calling/results/hicpro/H9.GSE105028.Homo_Sapiens.H3K4me1.b1/hic_results/data/H9.GSE105028.Homo_Sapiens.H3K4me1.b1/H9.GSE105028.Homo_Sapiens.H3K4me1.b1.allValidPairs   \n",
       "3  /mnt/BioAdHoc/Groups/vd-ay/kfetter/hichip-db-loop-calling/results/hicpro/H9-HS.GSE105028.Homo_Sapiens.H3K4me1.b1/hic_results/data/H9-HS.GSE105028.Homo_Sapiens.H3K4me1.b1/H9-HS.GSE105028.Homo_Sapiens.H3K4me1.b1.allValidPairs   \n",
       "4                    /mnt/BioAdHoc/Groups/vd-ay/kfetter/hichip-db-loop-calling/results/hicpro/H9.GSE105028.Homo_Sapiens.KLF4.b1/hic_results/data/H9.GSE105028.Homo_Sapiens.KLF4.b1/H9.GSE105028.Homo_Sapiens.KLF4.b1.allValidPairs   \n",
       "\n",
       "                                                                                                                                                                                                                chipseq_path  \\\n",
       "0              /mnt/BioAdHoc/Groups/vd-ay/kfetter/hichip-db-loop-calling/results/peaks/chipline_v2/H9.GSE105028.Homo_Sapiens.CTCF.b1/MACS2_Ext_No_Control/H9.GSE105028.Homo_Sapiens.CTCF.b1.macs2_peaks.narrowPeak_Q0.01filt   \n",
       "1        /mnt/BioAdHoc/Groups/vd-ay/kfetter/hichip-db-loop-calling/results/peaks/chipline_v2/H9-HS.GSE105028.Homo_Sapiens.CTCF.b1/MACS2_Ext_No_Control/H9-HS.GSE105028.Homo_Sapiens.CTCF.b1.macs2_peaks.narrowPeak_Q0.01filt   \n",
       "2        /mnt/BioAdHoc/Groups/vd-ay/kfetter/hichip-db-loop-calling/results/peaks/chipline_v2/H9.GSE105028.Homo_Sapiens.H3K4me1.b1/MACS2_Ext_No_Control/H9.GSE105028.Homo_Sapiens.H3K4me1.b1.macs2_peaks.narrowPeak_Q0.01filt   \n",
       "3  /mnt/BioAdHoc/Groups/vd-ay/kfetter/hichip-db-loop-calling/results/peaks/chipline_v2/H9-HS.GSE105028.Homo_Sapiens.H3K4me1.b1/MACS2_Ext_No_Control/H9-HS.GSE105028.Homo_Sapiens.H3K4me1.b1.macs2_peaks.narrowPeak_Q0.01filt   \n",
       "4              /mnt/BioAdHoc/Groups/vd-ay/kfetter/hichip-db-loop-calling/results/peaks/chipline_v2/H9.GSE105028.Homo_Sapiens.KLF4.b1/MACS2_Ext_No_Control/H9.GSE105028.Homo_Sapiens.KLF4.b1.macs2_peaks.narrowPeak_Q0.01filt   \n",
       "\n",
       "                   chipseq_std_sample_name  \n",
       "0        H9.GSE105028.Homo_Sapiens.CTCF.b1  \n",
       "1     H9-HS.GSE105028.Homo_Sapiens.CTCF.b1  \n",
       "2     H9.GSE105028.Homo_Sapiens.H3K4me1.b1  \n",
       "3  H9-HS.GSE105028.Homo_Sapiens.H3K4me1.b1  \n",
       "4        H9.GSE105028.Homo_Sapiens.KLF4.b1  "
      ]
     },
     "execution_count": 10,
     "metadata": {},
     "output_type": "execute_result"
    }
   ],
   "source": [
    "hicpro_to_chipseq.head()"
   ]
  },
  {
   "cell_type": "markdown",
   "id": "4d1f7d17",
   "metadata": {},
   "source": [
    "#### Reviewing the data"
   ]
  },
  {
   "cell_type": "code",
   "execution_count": 11,
   "id": "d280c4bf",
   "metadata": {},
   "outputs": [
    {
     "name": "stdout",
     "output_type": "stream",
     "text": [
      "Unique chipseq peak results: 189\n"
     ]
    }
   ],
   "source": [
    "print('Unique chipseq peak results: {}'.format(hicpro_to_chipseq.chipseq_std_sample_name.nunique()))"
   ]
  },
  {
   "cell_type": "code",
   "execution_count": 12,
   "id": "31923dd4",
   "metadata": {},
   "outputs": [
    {
     "data": {
      "text/plain": [
       "organism\n",
       "GSE212978         2\n",
       "GSE213385         1\n",
       "Homo_Sapiens    147\n",
       "Mus_Musculus     39\n",
       "dtype: int64"
      ]
     },
     "execution_count": 12,
     "metadata": {},
     "output_type": "execute_result"
    }
   ],
   "source": [
    "# count the number of unique per organim\n",
    "hicpro_to_chipseq.loc[:, 'organism'] = hicpro_to_chipseq.hicpro_std_sample_name.str.split('.').apply(lambda x: x[2])\n",
    "org_grps = hicpro_to_chipseq.groupby('organism')\n",
    "org_grps.apply(lambda df: df.chipseq_std_sample_name.nunique())"
   ]
  },
  {
   "cell_type": "code",
   "execution_count": 13,
   "id": "9517ade9",
   "metadata": {},
   "outputs": [
    {
     "name": "stdout",
     "output_type": "stream",
     "text": [
      "GSE212978\n"
     ]
    },
    {
     "data": {
      "text/html": [
       "<div>\n",
       "<style scoped>\n",
       "    .dataframe tbody tr th:only-of-type {\n",
       "        vertical-align: middle;\n",
       "    }\n",
       "\n",
       "    .dataframe tbody tr th {\n",
       "        vertical-align: top;\n",
       "    }\n",
       "\n",
       "    .dataframe thead th {\n",
       "        text-align: right;\n",
       "    }\n",
       "</style>\n",
       "<table border=\"1\" class=\"dataframe\">\n",
       "  <thead>\n",
       "    <tr style=\"text-align: right;\">\n",
       "      <th></th>\n",
       "      <th>hicpro_std_sample_name</th>\n",
       "      <th>hicpro_path</th>\n",
       "      <th>chipseq_path</th>\n",
       "      <th>chipseq_std_sample_name</th>\n",
       "      <th>organism</th>\n",
       "    </tr>\n",
       "  </thead>\n",
       "  <tbody>\n",
       "    <tr>\n",
       "      <th>42</th>\n",
       "      <td>JN-DSRCT1.shEWSWT1.GSE212978.Homo_Sapiens.H3K27ac.b1</td>\n",
       "      <td>/mnt/BioAdHoc/Groups/vd-ay/kfetter/hichip-db-loop-calling/results/hicpro/JN-DSRCT1.shEWSWT1.GSE212978.Homo_Sapiens.H3K27ac.b1/hic_results/data/JN-DSRCT1.shEWSWT1.GSE212978.Homo_Sapiens.H3K27ac.b1/JN-DSRCT1.shEWSWT1.GSE212978.Homo_Sapiens.H3K27ac.b1.allValidPairs</td>\n",
       "      <td>/mnt/BioAdHoc/Groups/vd-ay/kfetter/hichip-db-loop-calling/results/peaks/chipline_v2/JN-DSRCT1.shEWSWT1.GSE212977.Homo_Sapiens.H3K27ac.b1/MACS2_Ext_No_Control/JN-DSRCT1.shEWSWT1.GSE212977.Homo_Sapiens.H3K27ac.b1.macs2_peaks.narrowPeak_Q0.01filt</td>\n",
       "      <td>JN-DSRCT1.shEWSWT1.GSE212977.Homo_Sapiens.H3K27ac.b1</td>\n",
       "      <td>GSE212978</td>\n",
       "    </tr>\n",
       "    <tr>\n",
       "      <th>43</th>\n",
       "      <td>JN-DSRCT1.shGFP.GSE212978.Homo_Sapiens.H3K27ac.b1</td>\n",
       "      <td>/mnt/BioAdHoc/Groups/vd-ay/kfetter/hichip-db-loop-calling/results/hicpro/JN-DSRCT1.shGFP.GSE212978.Homo_Sapiens.H3K27ac.b1/hic_results/data/JN-DSRCT1.shGFP.GSE212978.Homo_Sapiens.H3K27ac.b1/JN-DSRCT1.shGFP.GSE212978.Homo_Sapiens.H3K27ac.b1.allValidPairs</td>\n",
       "      <td>/mnt/BioAdHoc/Groups/vd-ay/kfetter/hichip-db-loop-calling/results/peaks/chipline_v2/JN-DSRCT1.shGFP.GSE212977.Homo_Sapiens.H3K27ac.b1/MACS2_Ext_No_Control/JN-DSRCT1.shGFP.GSE212977.Homo_Sapiens.H3K27ac.b1.macs2_peaks.narrowPeak_Q0.01filt</td>\n",
       "      <td>JN-DSRCT1.shGFP.GSE212977.Homo_Sapiens.H3K27ac.b1</td>\n",
       "      <td>GSE212978</td>\n",
       "    </tr>\n",
       "  </tbody>\n",
       "</table>\n",
       "</div>"
      ],
      "text/plain": [
       "                                  hicpro_std_sample_name  \\\n",
       "42  JN-DSRCT1.shEWSWT1.GSE212978.Homo_Sapiens.H3K27ac.b1   \n",
       "43     JN-DSRCT1.shGFP.GSE212978.Homo_Sapiens.H3K27ac.b1   \n",
       "\n",
       "                                                                                                                                                                                                                                                               hicpro_path  \\\n",
       "42  /mnt/BioAdHoc/Groups/vd-ay/kfetter/hichip-db-loop-calling/results/hicpro/JN-DSRCT1.shEWSWT1.GSE212978.Homo_Sapiens.H3K27ac.b1/hic_results/data/JN-DSRCT1.shEWSWT1.GSE212978.Homo_Sapiens.H3K27ac.b1/JN-DSRCT1.shEWSWT1.GSE212978.Homo_Sapiens.H3K27ac.b1.allValidPairs   \n",
       "43           /mnt/BioAdHoc/Groups/vd-ay/kfetter/hichip-db-loop-calling/results/hicpro/JN-DSRCT1.shGFP.GSE212978.Homo_Sapiens.H3K27ac.b1/hic_results/data/JN-DSRCT1.shGFP.GSE212978.Homo_Sapiens.H3K27ac.b1/JN-DSRCT1.shGFP.GSE212978.Homo_Sapiens.H3K27ac.b1.allValidPairs   \n",
       "\n",
       "                                                                                                                                                                                                                                           chipseq_path  \\\n",
       "42  /mnt/BioAdHoc/Groups/vd-ay/kfetter/hichip-db-loop-calling/results/peaks/chipline_v2/JN-DSRCT1.shEWSWT1.GSE212977.Homo_Sapiens.H3K27ac.b1/MACS2_Ext_No_Control/JN-DSRCT1.shEWSWT1.GSE212977.Homo_Sapiens.H3K27ac.b1.macs2_peaks.narrowPeak_Q0.01filt   \n",
       "43        /mnt/BioAdHoc/Groups/vd-ay/kfetter/hichip-db-loop-calling/results/peaks/chipline_v2/JN-DSRCT1.shGFP.GSE212977.Homo_Sapiens.H3K27ac.b1/MACS2_Ext_No_Control/JN-DSRCT1.shGFP.GSE212977.Homo_Sapiens.H3K27ac.b1.macs2_peaks.narrowPeak_Q0.01filt   \n",
       "\n",
       "                                 chipseq_std_sample_name   organism  \n",
       "42  JN-DSRCT1.shEWSWT1.GSE212977.Homo_Sapiens.H3K27ac.b1  GSE212978  \n",
       "43     JN-DSRCT1.shGFP.GSE212977.Homo_Sapiens.H3K27ac.b1  GSE212978  "
      ]
     },
     "metadata": {},
     "output_type": "display_data"
    },
    {
     "name": "stdout",
     "output_type": "stream",
     "text": [
      "GSE213385\n"
     ]
    },
    {
     "data": {
      "text/html": [
       "<div>\n",
       "<style scoped>\n",
       "    .dataframe tbody tr th:only-of-type {\n",
       "        vertical-align: middle;\n",
       "    }\n",
       "\n",
       "    .dataframe tbody tr th {\n",
       "        vertical-align: top;\n",
       "    }\n",
       "\n",
       "    .dataframe thead th {\n",
       "        text-align: right;\n",
       "    }\n",
       "</style>\n",
       "<table border=\"1\" class=\"dataframe\">\n",
       "  <thead>\n",
       "    <tr style=\"text-align: right;\">\n",
       "      <th></th>\n",
       "      <th>hicpro_std_sample_name</th>\n",
       "      <th>hicpro_path</th>\n",
       "      <th>chipseq_path</th>\n",
       "      <th>chipseq_std_sample_name</th>\n",
       "      <th>organism</th>\n",
       "    </tr>\n",
       "  </thead>\n",
       "  <tbody>\n",
       "    <tr>\n",
       "      <th>44</th>\n",
       "      <td>L3.6pl.GSE213385.Homo_Sapiens.H3K27ac.b1</td>\n",
       "      <td>/mnt/BioAdHoc/Groups/vd-ay/kfetter/hichip-db-loop-calling/results/hicpro/L3.6pl.GSE213385.Homo_Sapiens.H3K27ac.b1/hic_results/data/L3.6pl.GSE213385.Homo_Sapiens.H3K27ac.b1/L3.6pl.GSE213385.Homo_Sapiens.H3K27ac.b1.allValidPairs</td>\n",
       "      <td>/mnt/BioAdHoc/Groups/vd-ay/kfetter/hichip-db-loop-calling/results/peaks/chipline_v2/L3.6pl.GSE213378.Homo_Sapiens.H3K27ac.b1/MACS2_Ext_No_Control/L3.6pl.GSE213378.Homo_Sapiens.H3K27ac.b1.macs2_peaks.narrowPeak_Q0.01filt</td>\n",
       "      <td>L3.6pl.GSE213378.Homo_Sapiens.H3K27ac.b1</td>\n",
       "      <td>GSE213385</td>\n",
       "    </tr>\n",
       "    <tr>\n",
       "      <th>45</th>\n",
       "      <td>L3.6pl.GSE213385.Homo_Sapiens.H3K27ac.b2</td>\n",
       "      <td>/mnt/BioAdHoc/Groups/vd-ay/kfetter/hichip-db-loop-calling/results/hicpro/L3.6pl.GSE213385.Homo_Sapiens.H3K27ac.b2/hic_results/data/L3.6pl.GSE213385.Homo_Sapiens.H3K27ac.b2/L3.6pl.GSE213385.Homo_Sapiens.H3K27ac.b2.allValidPairs</td>\n",
       "      <td>/mnt/BioAdHoc/Groups/vd-ay/kfetter/hichip-db-loop-calling/results/peaks/chipline_v2/L3.6pl.GSE213378.Homo_Sapiens.H3K27ac.b1/MACS2_Ext_No_Control/L3.6pl.GSE213378.Homo_Sapiens.H3K27ac.b1.macs2_peaks.narrowPeak_Q0.01filt</td>\n",
       "      <td>L3.6pl.GSE213378.Homo_Sapiens.H3K27ac.b1</td>\n",
       "      <td>GSE213385</td>\n",
       "    </tr>\n",
       "  </tbody>\n",
       "</table>\n",
       "</div>"
      ],
      "text/plain": [
       "                      hicpro_std_sample_name  \\\n",
       "44  L3.6pl.GSE213385.Homo_Sapiens.H3K27ac.b1   \n",
       "45  L3.6pl.GSE213385.Homo_Sapiens.H3K27ac.b2   \n",
       "\n",
       "                                                                                                                                                                                                                           hicpro_path  \\\n",
       "44  /mnt/BioAdHoc/Groups/vd-ay/kfetter/hichip-db-loop-calling/results/hicpro/L3.6pl.GSE213385.Homo_Sapiens.H3K27ac.b1/hic_results/data/L3.6pl.GSE213385.Homo_Sapiens.H3K27ac.b1/L3.6pl.GSE213385.Homo_Sapiens.H3K27ac.b1.allValidPairs   \n",
       "45  /mnt/BioAdHoc/Groups/vd-ay/kfetter/hichip-db-loop-calling/results/hicpro/L3.6pl.GSE213385.Homo_Sapiens.H3K27ac.b2/hic_results/data/L3.6pl.GSE213385.Homo_Sapiens.H3K27ac.b2/L3.6pl.GSE213385.Homo_Sapiens.H3K27ac.b2.allValidPairs   \n",
       "\n",
       "                                                                                                                                                                                                                   chipseq_path  \\\n",
       "44  /mnt/BioAdHoc/Groups/vd-ay/kfetter/hichip-db-loop-calling/results/peaks/chipline_v2/L3.6pl.GSE213378.Homo_Sapiens.H3K27ac.b1/MACS2_Ext_No_Control/L3.6pl.GSE213378.Homo_Sapiens.H3K27ac.b1.macs2_peaks.narrowPeak_Q0.01filt   \n",
       "45  /mnt/BioAdHoc/Groups/vd-ay/kfetter/hichip-db-loop-calling/results/peaks/chipline_v2/L3.6pl.GSE213378.Homo_Sapiens.H3K27ac.b1/MACS2_Ext_No_Control/L3.6pl.GSE213378.Homo_Sapiens.H3K27ac.b1.macs2_peaks.narrowPeak_Q0.01filt   \n",
       "\n",
       "                     chipseq_std_sample_name   organism  \n",
       "44  L3.6pl.GSE213378.Homo_Sapiens.H3K27ac.b1  GSE213385  \n",
       "45  L3.6pl.GSE213378.Homo_Sapiens.H3K27ac.b1  GSE213385  "
      ]
     },
     "metadata": {},
     "output_type": "display_data"
    }
   ],
   "source": [
    "# rogue groups aka, forgot to replace . with -\n",
    "print('GSE212978')\n",
    "display(org_grps.get_group('GSE212978'))\n",
    "print('GSE213385')\n",
    "display(org_grps.get_group('GSE213385'))"
   ]
  },
  {
   "cell_type": "markdown",
   "id": "95935ca6",
   "metadata": {},
   "source": [
    "#### Generate the main ChIP-seq dataframe "
   ]
  },
  {
   "cell_type": "code",
   "execution_count": 14,
   "id": "6932f10d",
   "metadata": {},
   "outputs": [],
   "source": [
    "org = \"Homo\""
   ]
  },
  {
   "cell_type": "code",
   "execution_count": 15,
   "id": "635f333a",
   "metadata": {},
   "outputs": [],
   "source": [
    "# generate the chipseq dataframe, update rerun as needed\n",
    "outfn = os.path.join(outdir, f'{ref}.analysis.peaks.summary.tsv')\n",
    "chipseq_df = generate_chipseq_df(outfn=outfn, rerun=rerun)\n",
    "\n",
    "# add column  names and sort\n",
    "chipseq_df.columns = [\"sample_name\", \"num_peaks_chipseq\", \"avg_peak_size_chipseq\"]\n",
    "chipseq_df = chipseq_df.sort_values(by=[\"sample_name\"], ascending=True).reset_index(drop=True)\n",
    "\n",
    "# add chipseq std sample name and remove duplicates\n",
    "chipseq_df = chipseq_df.merge(hicpro_to_chipseq, left_on='sample_name', right_on='hicpro_std_sample_name')\n",
    "chipseq_df.drop_duplicates(subset=['chipseq_std_sample_name'], inplace=True)"
   ]
  },
  {
   "cell_type": "code",
   "execution_count": 16,
   "id": "b5b2a483",
   "metadata": {
    "scrolled": true
   },
   "outputs": [
    {
     "data": {
      "text/html": [
       "<div>\n",
       "<style scoped>\n",
       "    .dataframe tbody tr th:only-of-type {\n",
       "        vertical-align: middle;\n",
       "    }\n",
       "\n",
       "    .dataframe tbody tr th {\n",
       "        vertical-align: top;\n",
       "    }\n",
       "\n",
       "    .dataframe thead th {\n",
       "        text-align: right;\n",
       "    }\n",
       "</style>\n",
       "<table border=\"1\" class=\"dataframe\">\n",
       "  <thead>\n",
       "    <tr style=\"text-align: right;\">\n",
       "      <th></th>\n",
       "      <th>sample_name</th>\n",
       "      <th>num_peaks_chipseq</th>\n",
       "      <th>avg_peak_size_chipseq</th>\n",
       "      <th>hicpro_std_sample_name</th>\n",
       "      <th>hicpro_path</th>\n",
       "      <th>chipseq_path</th>\n",
       "      <th>chipseq_std_sample_name</th>\n",
       "      <th>organism</th>\n",
       "    </tr>\n",
       "  </thead>\n",
       "  <tbody>\n",
       "    <tr>\n",
       "      <th>0</th>\n",
       "      <td>293T-PDS.GSE128106.Homo_Sapiens.YY1.b1</td>\n",
       "      <td>257007</td>\n",
       "      <td>589.534522</td>\n",
       "      <td>293T-PDS.GSE128106.Homo_Sapiens.YY1.b1</td>\n",
       "      <td>/mnt/BioAdHoc/Groups/vd-ay/kfetter/hichip-db-loop-calling/results/hicpro/293T-PDS.GSE128106.Homo_Sapiens.YY1.b1/hic_results/data/293T-PDS.GSE128106.Homo_Sapiens.YY1.b1/293T-PDS.GSE128106.Homo_Sapiens.YY1.b1.allValidPairs</td>\n",
       "      <td>/mnt/BioAdHoc/Groups/vd-ay/kfetter/hichip-db-loop-calling/results/peaks/chipline_v2/293T-PDS.GSE128106.Homo_Sapiens.YY1.b1/MACS2_Ext_No_Control/293T-PDS.GSE128106.Homo_Sapiens.YY1.b1.macs2_peaks.narrowPeak_Q0.01filt</td>\n",
       "      <td>293T-PDS.GSE128106.Homo_Sapiens.YY1.b1</td>\n",
       "      <td>Homo_Sapiens</td>\n",
       "    </tr>\n",
       "    <tr>\n",
       "      <th>1</th>\n",
       "      <td>293T-TMPYP4.GSE128106.Homo_Sapiens.YY1.b1</td>\n",
       "      <td>238269</td>\n",
       "      <td>566.071726</td>\n",
       "      <td>293T-TMPYP4.GSE128106.Homo_Sapiens.YY1.b1</td>\n",
       "      <td>/mnt/BioAdHoc/Groups/vd-ay/kfetter/hichip-db-loop-calling/results/hicpro/293T-TMPYP4.GSE128106.Homo_Sapiens.YY1.b1/hic_results/data/293T-TMPYP4.GSE128106.Homo_Sapiens.YY1.b1/293T-TMPYP4.GSE128106.Homo_Sapiens.YY1.b1.allValidPairs</td>\n",
       "      <td>/mnt/BioAdHoc/Groups/vd-ay/kfetter/hichip-db-loop-calling/results/peaks/chipline_v2/293T-TMPYP4.GSE128106.Homo_Sapiens.YY1.b1/MACS2_Ext_No_Control/293T-TMPYP4.GSE128106.Homo_Sapiens.YY1.b1.macs2_peaks.narrowPeak_Q0.01filt</td>\n",
       "      <td>293T-TMPYP4.GSE128106.Homo_Sapiens.YY1.b1</td>\n",
       "      <td>Homo_Sapiens</td>\n",
       "    </tr>\n",
       "    <tr>\n",
       "      <th>2</th>\n",
       "      <td>293T.GSE128106.Homo_Sapiens.YY1.b1</td>\n",
       "      <td>259289</td>\n",
       "      <td>549.176625</td>\n",
       "      <td>293T.GSE128106.Homo_Sapiens.YY1.b1</td>\n",
       "      <td>/mnt/BioAdHoc/Groups/vd-ay/kfetter/hichip-db-loop-calling/results/hicpro/293T.GSE128106.Homo_Sapiens.YY1.b1/hic_results/data/293T.GSE128106.Homo_Sapiens.YY1.b1/293T.GSE128106.Homo_Sapiens.YY1.b1.allValidPairs</td>\n",
       "      <td>/mnt/BioAdHoc/Groups/vd-ay/kfetter/hichip-db-loop-calling/results/peaks/chipline_v2/293T.GSE128106.Homo_Sapiens.YY1.b1/MACS2_Ext_No_Control/293T.GSE128106.Homo_Sapiens.YY1.b1.macs2_peaks.narrowPeak_Q0.01filt</td>\n",
       "      <td>293T.GSE128106.Homo_Sapiens.YY1.b1</td>\n",
       "      <td>Homo_Sapiens</td>\n",
       "    </tr>\n",
       "    <tr>\n",
       "      <th>3</th>\n",
       "      <td>A673-siCT-Dh1-72h-D347-D362.GSE156650.Homo_Sapiens.CTCF.b1</td>\n",
       "      <td>115154</td>\n",
       "      <td>630.902669</td>\n",
       "      <td>A673-siCT-Dh1-72h-D347-D362.GSE156650.Homo_Sapiens.CTCF.b1</td>\n",
       "      <td>/mnt/BioAdHoc/Groups/vd-ay/kfetter/hichip-db-loop-calling/results/hicpro/A673-siCT-Dh1-72h-D347-D362.GSE156650.Homo_Sapiens.CTCF.b1/hic_results/data/A673-siCT-Dh1-72h-D347-D362.GSE156650.Homo_Sapiens.CTCF.b1/A673-siCT-Dh1-72h-D347-D362.GSE156650.Homo_Sapiens.CTCF.b1.allValidPairs</td>\n",
       "      <td>/mnt/BioAdHoc/Groups/vd-ay/kfetter/hichip-db-loop-calling/results/peaks/chipline_v2/A673-siCT-Dh1-72h-D347-D362.GSE156649.Homo_Sapiens.CTCF.b1/MACS2_Ext_No_Control/A673-siCT-Dh1-72h-D347-D362.GSE156649.Homo_Sapiens.CTCF.b1.macs2_peaks.narrowPeak_Q0.01filt</td>\n",
       "      <td>A673-siCT-Dh1-72h-D347-D362.GSE156649.Homo_Sapiens.CTCF.b1</td>\n",
       "      <td>Homo_Sapiens</td>\n",
       "    </tr>\n",
       "    <tr>\n",
       "      <th>5</th>\n",
       "      <td>A673-siSA2-Dh6-72h-D347-D362.GSE156650.Homo_Sapiens.CTCF.b1</td>\n",
       "      <td>102935</td>\n",
       "      <td>615.880789</td>\n",
       "      <td>A673-siSA2-Dh6-72h-D347-D362.GSE156650.Homo_Sapiens.CTCF.b1</td>\n",
       "      <td>/mnt/BioAdHoc/Groups/vd-ay/kfetter/hichip-db-loop-calling/results/hicpro/A673-siSA2-Dh6-72h-D347-D362.GSE156650.Homo_Sapiens.CTCF.b1/hic_results/data/A673-siSA2-Dh6-72h-D347-D362.GSE156650.Homo_Sapiens.CTCF.b1/A673-siSA2-Dh6-72h-D347-D362.GSE156650.Homo_Sapiens.CTCF.b1.allValidPairs</td>\n",
       "      <td>/mnt/BioAdHoc/Groups/vd-ay/kfetter/hichip-db-loop-calling/results/peaks/chipline_v2/A673-siSA2-Dh6-72h-D347-D362.GSE156649.Homo_Sapiens.CTCF.b1/MACS2_Ext_No_Control/A673-siSA2-Dh6-72h-D347-D362.GSE156649.Homo_Sapiens.CTCF.b1.macs2_peaks.narrowPeak_Q0.01filt</td>\n",
       "      <td>A673-siSA2-Dh6-72h-D347-D362.GSE156649.Homo_Sapiens.CTCF.b1</td>\n",
       "      <td>Homo_Sapiens</td>\n",
       "    </tr>\n",
       "  </tbody>\n",
       "</table>\n",
       "</div>"
      ],
      "text/plain": [
       "                                                   sample_name  \\\n",
       "0                       293T-PDS.GSE128106.Homo_Sapiens.YY1.b1   \n",
       "1                    293T-TMPYP4.GSE128106.Homo_Sapiens.YY1.b1   \n",
       "2                           293T.GSE128106.Homo_Sapiens.YY1.b1   \n",
       "3   A673-siCT-Dh1-72h-D347-D362.GSE156650.Homo_Sapiens.CTCF.b1   \n",
       "5  A673-siSA2-Dh6-72h-D347-D362.GSE156650.Homo_Sapiens.CTCF.b1   \n",
       "\n",
       "   num_peaks_chipseq  avg_peak_size_chipseq  \\\n",
       "0             257007             589.534522   \n",
       "1             238269             566.071726   \n",
       "2             259289             549.176625   \n",
       "3             115154             630.902669   \n",
       "5             102935             615.880789   \n",
       "\n",
       "                                        hicpro_std_sample_name  \\\n",
       "0                       293T-PDS.GSE128106.Homo_Sapiens.YY1.b1   \n",
       "1                    293T-TMPYP4.GSE128106.Homo_Sapiens.YY1.b1   \n",
       "2                           293T.GSE128106.Homo_Sapiens.YY1.b1   \n",
       "3   A673-siCT-Dh1-72h-D347-D362.GSE156650.Homo_Sapiens.CTCF.b1   \n",
       "5  A673-siSA2-Dh6-72h-D347-D362.GSE156650.Homo_Sapiens.CTCF.b1   \n",
       "\n",
       "                                                                                                                                                                                                                                                                                   hicpro_path  \\\n",
       "0                                                                 /mnt/BioAdHoc/Groups/vd-ay/kfetter/hichip-db-loop-calling/results/hicpro/293T-PDS.GSE128106.Homo_Sapiens.YY1.b1/hic_results/data/293T-PDS.GSE128106.Homo_Sapiens.YY1.b1/293T-PDS.GSE128106.Homo_Sapiens.YY1.b1.allValidPairs   \n",
       "1                                                        /mnt/BioAdHoc/Groups/vd-ay/kfetter/hichip-db-loop-calling/results/hicpro/293T-TMPYP4.GSE128106.Homo_Sapiens.YY1.b1/hic_results/data/293T-TMPYP4.GSE128106.Homo_Sapiens.YY1.b1/293T-TMPYP4.GSE128106.Homo_Sapiens.YY1.b1.allValidPairs   \n",
       "2                                                                             /mnt/BioAdHoc/Groups/vd-ay/kfetter/hichip-db-loop-calling/results/hicpro/293T.GSE128106.Homo_Sapiens.YY1.b1/hic_results/data/293T.GSE128106.Homo_Sapiens.YY1.b1/293T.GSE128106.Homo_Sapiens.YY1.b1.allValidPairs   \n",
       "3     /mnt/BioAdHoc/Groups/vd-ay/kfetter/hichip-db-loop-calling/results/hicpro/A673-siCT-Dh1-72h-D347-D362.GSE156650.Homo_Sapiens.CTCF.b1/hic_results/data/A673-siCT-Dh1-72h-D347-D362.GSE156650.Homo_Sapiens.CTCF.b1/A673-siCT-Dh1-72h-D347-D362.GSE156650.Homo_Sapiens.CTCF.b1.allValidPairs   \n",
       "5  /mnt/BioAdHoc/Groups/vd-ay/kfetter/hichip-db-loop-calling/results/hicpro/A673-siSA2-Dh6-72h-D347-D362.GSE156650.Homo_Sapiens.CTCF.b1/hic_results/data/A673-siSA2-Dh6-72h-D347-D362.GSE156650.Homo_Sapiens.CTCF.b1/A673-siSA2-Dh6-72h-D347-D362.GSE156650.Homo_Sapiens.CTCF.b1.allValidPairs   \n",
       "\n",
       "                                                                                                                                                                                                                                                        chipseq_path  \\\n",
       "0                                            /mnt/BioAdHoc/Groups/vd-ay/kfetter/hichip-db-loop-calling/results/peaks/chipline_v2/293T-PDS.GSE128106.Homo_Sapiens.YY1.b1/MACS2_Ext_No_Control/293T-PDS.GSE128106.Homo_Sapiens.YY1.b1.macs2_peaks.narrowPeak_Q0.01filt   \n",
       "1                                      /mnt/BioAdHoc/Groups/vd-ay/kfetter/hichip-db-loop-calling/results/peaks/chipline_v2/293T-TMPYP4.GSE128106.Homo_Sapiens.YY1.b1/MACS2_Ext_No_Control/293T-TMPYP4.GSE128106.Homo_Sapiens.YY1.b1.macs2_peaks.narrowPeak_Q0.01filt   \n",
       "2                                                    /mnt/BioAdHoc/Groups/vd-ay/kfetter/hichip-db-loop-calling/results/peaks/chipline_v2/293T.GSE128106.Homo_Sapiens.YY1.b1/MACS2_Ext_No_Control/293T.GSE128106.Homo_Sapiens.YY1.b1.macs2_peaks.narrowPeak_Q0.01filt   \n",
       "3    /mnt/BioAdHoc/Groups/vd-ay/kfetter/hichip-db-loop-calling/results/peaks/chipline_v2/A673-siCT-Dh1-72h-D347-D362.GSE156649.Homo_Sapiens.CTCF.b1/MACS2_Ext_No_Control/A673-siCT-Dh1-72h-D347-D362.GSE156649.Homo_Sapiens.CTCF.b1.macs2_peaks.narrowPeak_Q0.01filt   \n",
       "5  /mnt/BioAdHoc/Groups/vd-ay/kfetter/hichip-db-loop-calling/results/peaks/chipline_v2/A673-siSA2-Dh6-72h-D347-D362.GSE156649.Homo_Sapiens.CTCF.b1/MACS2_Ext_No_Control/A673-siSA2-Dh6-72h-D347-D362.GSE156649.Homo_Sapiens.CTCF.b1.macs2_peaks.narrowPeak_Q0.01filt   \n",
       "\n",
       "                                       chipseq_std_sample_name      organism  \n",
       "0                       293T-PDS.GSE128106.Homo_Sapiens.YY1.b1  Homo_Sapiens  \n",
       "1                    293T-TMPYP4.GSE128106.Homo_Sapiens.YY1.b1  Homo_Sapiens  \n",
       "2                           293T.GSE128106.Homo_Sapiens.YY1.b1  Homo_Sapiens  \n",
       "3   A673-siCT-Dh1-72h-D347-D362.GSE156649.Homo_Sapiens.CTCF.b1  Homo_Sapiens  \n",
       "5  A673-siSA2-Dh6-72h-D347-D362.GSE156649.Homo_Sapiens.CTCF.b1  Homo_Sapiens  "
      ]
     },
     "execution_count": 16,
     "metadata": {},
     "output_type": "execute_result"
    }
   ],
   "source": [
    "chipseq_df.head()"
   ]
  },
  {
   "cell_type": "code",
   "execution_count": 17,
   "id": "1dea8690",
   "metadata": {},
   "outputs": [
    {
     "data": {
      "text/plain": [
       "(150, 8)"
      ]
     },
     "execution_count": 17,
     "metadata": {},
     "output_type": "execute_result"
    }
   ],
   "source": [
    "chipseq_df.shape"
   ]
  },
  {
   "cell_type": "code",
   "execution_count": 18,
   "id": "2465bc64",
   "metadata": {},
   "outputs": [
    {
     "name": "stdout",
     "output_type": "stream",
     "text": [
      "Problem with these samples here:\n"
     ]
    },
    {
     "data": {
      "text/html": [
       "<div>\n",
       "<style scoped>\n",
       "    .dataframe tbody tr th:only-of-type {\n",
       "        vertical-align: middle;\n",
       "    }\n",
       "\n",
       "    .dataframe tbody tr th {\n",
       "        vertical-align: top;\n",
       "    }\n",
       "\n",
       "    .dataframe thead th {\n",
       "        text-align: right;\n",
       "    }\n",
       "</style>\n",
       "<table border=\"1\" class=\"dataframe\">\n",
       "  <thead>\n",
       "    <tr style=\"text-align: right;\">\n",
       "      <th></th>\n",
       "      <th>sample_name</th>\n",
       "      <th>num_peaks_chipseq</th>\n",
       "      <th>avg_peak_size_chipseq</th>\n",
       "      <th>hicpro_std_sample_name</th>\n",
       "      <th>hicpro_path</th>\n",
       "      <th>chipseq_path</th>\n",
       "      <th>chipseq_std_sample_name</th>\n",
       "      <th>organism</th>\n",
       "    </tr>\n",
       "  </thead>\n",
       "  <tbody>\n",
       "    <tr>\n",
       "      <th>32</th>\n",
       "      <td>CTL.GSE117888.Homo_Sapiens.H3K27ac.b1</td>\n",
       "      <td>-1</td>\n",
       "      <td>-1.0</td>\n",
       "      <td>CTL.GSE117888.Homo_Sapiens.H3K27ac.b1</td>\n",
       "      <td>/mnt/BioAdHoc/Groups/vd-ay/kfetter/hichip-db-loop-calling/results/hicpro/CTL.GSE117888.Homo_Sapiens.H3K27ac.b1/hic_results/data/CTL.GSE117888.Homo_Sapiens.H3K27ac.b1/CTL.GSE117888.Homo_Sapiens.H3K27ac.b1.allValidPairs</td>\n",
       "      <td>/mnt/BioAdHoc/Groups/vd-ay/kfetter/hichip-db-loop-calling/Could not find a matching file</td>\n",
       "      <td>-1</td>\n",
       "      <td>Homo_Sapiens</td>\n",
       "    </tr>\n",
       "  </tbody>\n",
       "</table>\n",
       "</div>"
      ],
      "text/plain": [
       "                              sample_name  num_peaks_chipseq  \\\n",
       "32  CTL.GSE117888.Homo_Sapiens.H3K27ac.b1                 -1   \n",
       "\n",
       "    avg_peak_size_chipseq                 hicpro_std_sample_name  \\\n",
       "32                   -1.0  CTL.GSE117888.Homo_Sapiens.H3K27ac.b1   \n",
       "\n",
       "                                                                                                                                                                                                                  hicpro_path  \\\n",
       "32  /mnt/BioAdHoc/Groups/vd-ay/kfetter/hichip-db-loop-calling/results/hicpro/CTL.GSE117888.Homo_Sapiens.H3K27ac.b1/hic_results/data/CTL.GSE117888.Homo_Sapiens.H3K27ac.b1/CTL.GSE117888.Homo_Sapiens.H3K27ac.b1.allValidPairs   \n",
       "\n",
       "                                                                                chipseq_path  \\\n",
       "32  /mnt/BioAdHoc/Groups/vd-ay/kfetter/hichip-db-loop-calling/Could not find a matching file   \n",
       "\n",
       "   chipseq_std_sample_name      organism  \n",
       "32                      -1  Homo_Sapiens  "
      ]
     },
     "metadata": {},
     "output_type": "display_data"
    }
   ],
   "source": [
    "#has_chipseq = df.loc[df['num_peaks_fithichip'] == 0]\n",
    "len(chipseq_df.loc[chipseq_df[\"num_peaks_chipseq\"] != -1])\n",
    "#print(len(has_chipseq))\n",
    "#has_inferred = has_chipseq.loc[df['num_peaks_fithichip'] != 0]\n",
    "#low = ((has_inferred.num_peaks_hichip_peaks < 5000) | (has_inferred.num_peaks_fithichip < 5000) | (has_inferred.num_peaks_chipseq < 5000))\n",
    "#has_inferred[low].drop(columns=['avg_peak_size_hichip_peaks', 'avg_peak_size_fithichip', 'avg_peak_size_chipseq']).reset_index(drop=True)\n",
    "\n",
    "print('Problem with these samples here:')\n",
    "display(chipseq_df.loc[chipseq_df[\"num_peaks_chipseq\"] == -1])"
   ]
  },
  {
   "cell_type": "code",
   "execution_count": 19,
   "id": "ef71c8fc",
   "metadata": {},
   "outputs": [],
   "source": [
    "# save the summary for the loop catalog website/later use\n",
    "save_df = chipseq_df[['chipseq_std_sample_name', 'num_peaks_chipseq', 'avg_peak_size_chipseq']]\n",
    "\n",
    "# save in excel format\n",
    "outfn = f\"results/tables/final.all_batches/{ref}.unmerged_peaks.chipseq.{assigned_date}.xlsx\"\n",
    "save_df.to_excel(outfn); os.chmod(outfn, 0o664)\n",
    "\n",
    "# save in tsv format\n",
    "outfn = f\"results/tables/final.all_batches/{ref}.unmerged_peaks.chipseq.{assigned_date}.tsv\"\n",
    "save_df.to_csv(outfn, sep = \"\\t\", index = None); os.chmod(outfn, 0o664)"
   ]
  },
  {
   "cell_type": "markdown",
   "id": "06b58c00",
   "metadata": {},
   "source": [
    "# Load FithiChIP Data"
   ]
  },
  {
   "cell_type": "code",
   "execution_count": 20,
   "id": "3bb10328",
   "metadata": {},
   "outputs": [],
   "source": [
    "def read_peak_files(file):\n",
    "    peak_data = {}\n",
    "    count = 0\n",
    "    with open(file) as fr:\n",
    "        for line in fr:\n",
    "            info = line.strip().split()\n",
    "            peak_info = info[0:3]\n",
    "            peak_data[count] = peak_info\n",
    "            count = count + 1\n",
    "    return(peak_data)"
   ]
  },
  {
   "cell_type": "code",
   "execution_count": 21,
   "id": "1c7a9289",
   "metadata": {},
   "outputs": [],
   "source": [
    "def generate_fithichip_df(outfn='test.tsv', rerun=False):\n",
    "    \n",
    "    if rerun == True:\n",
    "        data = []\n",
    "        glob_str = 'results/hicpro/*Homo*/hic_results'\n",
    "\n",
    "        for i, file in enumerate(glob.glob(glob_str)):\n",
    "            \n",
    "            # get sample information\n",
    "            sample_name = file.split('/')[2]\n",
    "            sample_info = []\n",
    "            sample_info.append(sample_name)\n",
    "\n",
    "            ## FitHiChIP peaks\n",
    "            fithichip_path = 'results/peaks/fithichip/{sn}/MACS2_ExtSize/out_macs2_peaks.narrowPeak'.format(sn = sample_name)\n",
    "            if os.path.exists(fithichip_path):\n",
    "                \n",
    "                # count the number of peaks\n",
    "                peak_info = read_peak_files(fithichip_path)\n",
    "                sample_info.append(len(peak_info))\n",
    "                \n",
    "                # averaging peak sizes\n",
    "                peak_sizes = []\n",
    "                for peak in peak_info.items():\n",
    "                    peak_sizes.append(int(int(peak[1][2])-int(peak[1][1])))\n",
    "                sample_info.append(np.mean(peak_sizes))\n",
    "\n",
    "            else:\n",
    "                \n",
    "                # setting defaults/not present values, -1 is used to signify this\n",
    "                sample_info.append(-1)\n",
    "                sample_info.append(-1)\n",
    "\n",
    "            data.append(sample_info)\n",
    "                \n",
    "            if i % 100 == 0:\n",
    "                print('Processed: {}'.format(i))\n",
    "\n",
    "        # create a dataframe and save to file\n",
    "        df = pd.DataFrame(data)\n",
    "        df.to_csv(outfn, sep='\\t', index=None)\n",
    "        \n",
    "    else:\n",
    "        # load old data when re-run is not required\n",
    "        df = pd.read_table(outfn)\n",
    "        \n",
    "    return df"
   ]
  },
  {
   "cell_type": "markdown",
   "id": "4b5a9f8f",
   "metadata": {},
   "source": [
    "### Loading data"
   ]
  },
  {
   "cell_type": "markdown",
   "id": "6c53a054",
   "metadata": {},
   "source": [
    "#### Generate the main fithichip dataframe "
   ]
  },
  {
   "cell_type": "code",
   "execution_count": 22,
   "id": "4b7d3a1c",
   "metadata": {},
   "outputs": [],
   "source": [
    "org = \"Homo\""
   ]
  },
  {
   "cell_type": "code",
   "execution_count": 23,
   "id": "787d46da",
   "metadata": {},
   "outputs": [
    {
     "name": "stdout",
     "output_type": "stream",
     "text": [
      "Processed: 0\n"
     ]
    },
    {
     "name": "stderr",
     "output_type": "stream",
     "text": [
      "/mnt/BioAdHoc/Groups/vd-ay/jreyna/software/Herman-Cluster-v3/mambaforge-pypy3/envs/lc-pipelines/lib/python3.12/site-packages/numpy/core/fromnumeric.py:3504: RuntimeWarning: Mean of empty slice.\n",
      "  return _methods._mean(a, axis=axis, dtype=dtype,\n",
      "/mnt/BioAdHoc/Groups/vd-ay/jreyna/software/Herman-Cluster-v3/mambaforge-pypy3/envs/lc-pipelines/lib/python3.12/site-packages/numpy/core/_methods.py:129: RuntimeWarning: invalid value encountered in scalar divide\n",
      "  ret = ret.dtype.type(ret / rcount)\n"
     ]
    },
    {
     "name": "stdout",
     "output_type": "stream",
     "text": [
      "Processed: 100\n",
      "Processed: 200\n",
      "Processed: 300\n",
      "Processed: 400\n",
      "Processed: 500\n",
      "Processed: 600\n",
      "Processed: 700\n"
     ]
    }
   ],
   "source": [
    "# generate the chipseq dataframe, update rerun as needed\n",
    "outfn = os.path.join(outdir, f'{ref}.analysis.peaks.summary.fithichip.tsv')\n",
    "fithichip_df = generate_fithichip_df(outfn=outfn, rerun=rerun)"
   ]
  },
  {
   "cell_type": "code",
   "execution_count": 24,
   "id": "dcd2ac21",
   "metadata": {},
   "outputs": [],
   "source": [
    "# add column  names and sort\n",
    "fithichip_df.columns = [\"sample_name\", \"num_peaks_fithichip\", \"avg_peak_size_fithichip\"]\n",
    "fithichip_df = fithichip_df.sort_values(by=[\"sample_name\"], ascending=True).reset_index(drop=True)"
   ]
  },
  {
   "cell_type": "code",
   "execution_count": 25,
   "id": "be424f66",
   "metadata": {
    "scrolled": true
   },
   "outputs": [
    {
     "data": {
      "text/html": [
       "<div>\n",
       "<style scoped>\n",
       "    .dataframe tbody tr th:only-of-type {\n",
       "        vertical-align: middle;\n",
       "    }\n",
       "\n",
       "    .dataframe tbody tr th {\n",
       "        vertical-align: top;\n",
       "    }\n",
       "\n",
       "    .dataframe thead th {\n",
       "        text-align: right;\n",
       "    }\n",
       "</style>\n",
       "<table border=\"1\" class=\"dataframe\">\n",
       "  <thead>\n",
       "    <tr style=\"text-align: right;\">\n",
       "      <th></th>\n",
       "      <th>sample_name</th>\n",
       "      <th>num_peaks_fithichip</th>\n",
       "      <th>avg_peak_size_fithichip</th>\n",
       "    </tr>\n",
       "  </thead>\n",
       "  <tbody>\n",
       "    <tr>\n",
       "      <th>0</th>\n",
       "      <td>293T-PDS.GSE128106.Homo_Sapiens.YY1.b1</td>\n",
       "      <td>29430</td>\n",
       "      <td>174.444852</td>\n",
       "    </tr>\n",
       "    <tr>\n",
       "      <th>1</th>\n",
       "      <td>293T-TMPYP4.GSE128106.Homo_Sapiens.YY1.b1</td>\n",
       "      <td>73184</td>\n",
       "      <td>187.952298</td>\n",
       "    </tr>\n",
       "    <tr>\n",
       "      <th>2</th>\n",
       "      <td>293T.GSE128106.Homo_Sapiens.YY1.b1</td>\n",
       "      <td>987</td>\n",
       "      <td>183.697062</td>\n",
       "    </tr>\n",
       "    <tr>\n",
       "      <th>3</th>\n",
       "      <td>A375.GSE210423.Homo_Sapiens.H3K27ac.b1</td>\n",
       "      <td>45783</td>\n",
       "      <td>476.322172</td>\n",
       "    </tr>\n",
       "    <tr>\n",
       "      <th>4</th>\n",
       "      <td>A673-siCT-Dh1-72h-D347-D362.GSE156650.Homo_Sapiens.CTCF.b1</td>\n",
       "      <td>11489</td>\n",
       "      <td>265.430151</td>\n",
       "    </tr>\n",
       "  </tbody>\n",
       "</table>\n",
       "</div>"
      ],
      "text/plain": [
       "                                                  sample_name  \\\n",
       "0                      293T-PDS.GSE128106.Homo_Sapiens.YY1.b1   \n",
       "1                   293T-TMPYP4.GSE128106.Homo_Sapiens.YY1.b1   \n",
       "2                          293T.GSE128106.Homo_Sapiens.YY1.b1   \n",
       "3                      A375.GSE210423.Homo_Sapiens.H3K27ac.b1   \n",
       "4  A673-siCT-Dh1-72h-D347-D362.GSE156650.Homo_Sapiens.CTCF.b1   \n",
       "\n",
       "   num_peaks_fithichip  avg_peak_size_fithichip  \n",
       "0                29430               174.444852  \n",
       "1                73184               187.952298  \n",
       "2                  987               183.697062  \n",
       "3                45783               476.322172  \n",
       "4                11489               265.430151  "
      ]
     },
     "execution_count": 25,
     "metadata": {},
     "output_type": "execute_result"
    }
   ],
   "source": [
    "fithichip_df.head()"
   ]
  },
  {
   "cell_type": "code",
   "execution_count": 26,
   "id": "9576148d",
   "metadata": {},
   "outputs": [
    {
     "data": {
      "text/plain": [
       "(763, 3)"
      ]
     },
     "execution_count": 26,
     "metadata": {},
     "output_type": "execute_result"
    }
   ],
   "source": [
    "fithichip_df.shape"
   ]
  },
  {
   "cell_type": "code",
   "execution_count": 27,
   "id": "ef079387",
   "metadata": {},
   "outputs": [
    {
     "name": "stdout",
     "output_type": "stream",
     "text": [
      "Problem with these samples here:\n"
     ]
    },
    {
     "data": {
      "text/html": [
       "<div>\n",
       "<style scoped>\n",
       "    .dataframe tbody tr th:only-of-type {\n",
       "        vertical-align: middle;\n",
       "    }\n",
       "\n",
       "    .dataframe tbody tr th {\n",
       "        vertical-align: top;\n",
       "    }\n",
       "\n",
       "    .dataframe thead th {\n",
       "        text-align: right;\n",
       "    }\n",
       "</style>\n",
       "<table border=\"1\" class=\"dataframe\">\n",
       "  <thead>\n",
       "    <tr style=\"text-align: right;\">\n",
       "      <th></th>\n",
       "      <th>sample_name</th>\n",
       "      <th>num_peaks_fithichip</th>\n",
       "      <th>avg_peak_size_fithichip</th>\n",
       "    </tr>\n",
       "  </thead>\n",
       "  <tbody>\n",
       "    <tr>\n",
       "      <th>591</th>\n",
       "      <td>T47D-T0.GSE179666.Homo_Sapiens.PGR.b1</td>\n",
       "      <td>-1</td>\n",
       "      <td>-1.0</td>\n",
       "    </tr>\n",
       "    <tr>\n",
       "      <th>592</th>\n",
       "      <td>T47D-T30.GSE179666.Homo_Sapiens.PGR.b1</td>\n",
       "      <td>-1</td>\n",
       "      <td>-1.0</td>\n",
       "    </tr>\n",
       "    <tr>\n",
       "      <th>650</th>\n",
       "      <td>VCaP-AU-4h.GSE171591.Homo_Sapiens.CTCF.b1</td>\n",
       "      <td>-1</td>\n",
       "      <td>-1.0</td>\n",
       "    </tr>\n",
       "    <tr>\n",
       "      <th>651</th>\n",
       "      <td>VCaP-AU-4h.GSE171591.Homo_Sapiens.H3K27ac.b1</td>\n",
       "      <td>-1</td>\n",
       "      <td>-1.0</td>\n",
       "    </tr>\n",
       "    <tr>\n",
       "      <th>652</th>\n",
       "      <td>VCaP-AU-4h.GSE171591.Homo_Sapiens.H3K4me3.b1</td>\n",
       "      <td>-1</td>\n",
       "      <td>-1.0</td>\n",
       "    </tr>\n",
       "    <tr>\n",
       "      <th>653</th>\n",
       "      <td>VCaP-DMSO-4h.GSE171591.Homo_Sapiens.CTCF.b1</td>\n",
       "      <td>-1</td>\n",
       "      <td>-1.0</td>\n",
       "    </tr>\n",
       "    <tr>\n",
       "      <th>654</th>\n",
       "      <td>VCaP-DMSO-4h.GSE171591.Homo_Sapiens.H3K27ac.b1</td>\n",
       "      <td>-1</td>\n",
       "      <td>-1.0</td>\n",
       "    </tr>\n",
       "    <tr>\n",
       "      <th>655</th>\n",
       "      <td>VCaP-DMSO-4h.GSE171591.Homo_Sapiens.H3K4me3.b1</td>\n",
       "      <td>-1</td>\n",
       "      <td>-1.0</td>\n",
       "    </tr>\n",
       "  </tbody>\n",
       "</table>\n",
       "</div>"
      ],
      "text/plain": [
       "                                        sample_name  num_peaks_fithichip  \\\n",
       "591           T47D-T0.GSE179666.Homo_Sapiens.PGR.b1                   -1   \n",
       "592          T47D-T30.GSE179666.Homo_Sapiens.PGR.b1                   -1   \n",
       "650       VCaP-AU-4h.GSE171591.Homo_Sapiens.CTCF.b1                   -1   \n",
       "651    VCaP-AU-4h.GSE171591.Homo_Sapiens.H3K27ac.b1                   -1   \n",
       "652    VCaP-AU-4h.GSE171591.Homo_Sapiens.H3K4me3.b1                   -1   \n",
       "653     VCaP-DMSO-4h.GSE171591.Homo_Sapiens.CTCF.b1                   -1   \n",
       "654  VCaP-DMSO-4h.GSE171591.Homo_Sapiens.H3K27ac.b1                   -1   \n",
       "655  VCaP-DMSO-4h.GSE171591.Homo_Sapiens.H3K4me3.b1                   -1   \n",
       "\n",
       "     avg_peak_size_fithichip  \n",
       "591                     -1.0  \n",
       "592                     -1.0  \n",
       "650                     -1.0  \n",
       "651                     -1.0  \n",
       "652                     -1.0  \n",
       "653                     -1.0  \n",
       "654                     -1.0  \n",
       "655                     -1.0  "
      ]
     },
     "metadata": {},
     "output_type": "display_data"
    }
   ],
   "source": [
    "#has_chipseq = df.loc[df['num_peaks_fithichip'] == 0]\n",
    "len(fithichip_df.loc[fithichip_df[\"num_peaks_fithichip\"] != -1])\n",
    "#print(len(has_chipseq))\n",
    "#has_inferred = has_chipseq.loc[df['num_peaks_fithichip'] != 0]\n",
    "#low = ((has_inferred.num_peaks_hichip_peaks < 5000) | (has_inferred.num_peaks_fithichip < 5000) | (has_inferred.num_peaks_chipseq < 5000))\n",
    "#has_inferred[low].drop(columns=['avg_peak_size_hichip_peaks', 'avg_peak_size_fithichip', 'avg_peak_size_chipseq']).reset_index(drop=True)\n",
    "\n",
    "print('Problem with these samples here:')\n",
    "display(fithichip_df.loc[fithichip_df[\"num_peaks_fithichip\"] == -1])"
   ]
  },
  {
   "cell_type": "code",
   "execution_count": 28,
   "id": "77b3ad42",
   "metadata": {},
   "outputs": [],
   "source": [
    "# save the summary for the loop catalog website/later use\n",
    "save_df = fithichip_df[['sample_name', 'num_peaks_fithichip', 'avg_peak_size_fithichip']]\n",
    "\n",
    "# save in excel format\n",
    "outfn = f\"results/tables/final.all_batches/{ref}.unmerged_peaks.fithichip.{assigned_date}.xlsx\"\n",
    "save_df.to_excel(outfn); os.chmod(outfn, 0o664)\n",
    "\n",
    "# save in tsv format\n",
    "outfn = f\"results/tables/final.all_batches/{ref}.unmerged_peaks.fithichip.{assigned_date}.tsv\"\n",
    "save_df.to_csv(outfn, sep = \"\\t\", index = None); os.chmod(outfn, 0o664)"
   ]
  },
  {
   "cell_type": "code",
   "execution_count": 29,
   "id": "0867a24b",
   "metadata": {},
   "outputs": [
    {
     "data": {
      "text/plain": [
       "14"
      ]
     },
     "execution_count": 29,
     "metadata": {},
     "output_type": "execute_result"
    }
   ],
   "source": [
    "7 + 7"
   ]
  },
  {
   "cell_type": "code",
   "execution_count": null,
   "id": "7caf8899",
   "metadata": {},
   "outputs": [],
   "source": []
  }
 ],
 "metadata": {
  "kernelspec": {
   "display_name": "lc-pipelines",
   "language": "python",
   "name": "lc-pipelines"
  },
  "language_info": {
   "codemirror_mode": {
    "name": "ipython",
    "version": 3
   },
   "file_extension": ".py",
   "mimetype": "text/x-python",
   "name": "python",
   "nbconvert_exporter": "python",
   "pygments_lexer": "ipython3",
   "version": "3.12.0"
  }
 },
 "nbformat": 4,
 "nbformat_minor": 5
}
