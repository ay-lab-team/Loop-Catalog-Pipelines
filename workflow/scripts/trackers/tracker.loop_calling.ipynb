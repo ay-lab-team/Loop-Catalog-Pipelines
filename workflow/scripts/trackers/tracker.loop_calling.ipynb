{
 "cells": [
  {
   "cell_type": "code",
   "execution_count": 1,
   "id": "9922ed47",
   "metadata": {},
   "outputs": [],
   "source": [
    "import glob"
   ]
  },
  {
   "cell_type": "code",
   "execution_count": 2,
   "id": "6b7ebe85",
   "metadata": {},
   "outputs": [],
   "source": [
    "# Create a dataframe with the following columns:\n",
    "# 1) Currently processed HiC-Pro output data\n",
    "# 2) Matching ChIP-seq peaks\n",
    "# 3) Matching FitHiChIP peaks\n",
    "\n",
    "def generate_df(hicpro_path, sample_name_index):\n",
    "    data = []\n",
    "    glob_str = hicpro_path.format(sample_name='*')\n",
    "    for fn in glob.glob(glob_str):\n",
    "        sample_name = fn.split('/')[sample_name_index]\n",
    "    \n",
    "    "
   ]
  },
  {
   "cell_type": "code",
   "execution_count": null,
   "id": "61970dfa",
   "metadata": {},
   "outputs": [],
   "source": [
    "hicpro_path = \"/mnt/BioAdHoc/Groups/vd-ay/hichip-db-loop-calling/results/hicpro/\"\n",
    "hicpro_path += \"{sample_name}/hic_results/data/{sample_name}/{sample_name}.allValidPairs\n",
    "\n",
    "df = generate_df(hicpro_path, 8)\n",
    "df.columns = [\"HiC-Pro Sample Name\", \"ChIP-seq Peaks Present\", \"Loops Created\"]"
   ]
  }
 ],
 "metadata": {
  "kernelspec": {
   "display_name": "Python 3.8.3",
   "language": "python",
   "name": "cooltoolstest"
  },
  "language_info": {
   "codemirror_mode": {
    "name": "ipython",
    "version": 3
   },
   "file_extension": ".py",
   "mimetype": "text/x-python",
   "name": "python",
   "nbconvert_exporter": "python",
   "pygments_lexer": "ipython3",
   "version": "3.8.3"
  }
 },
 "nbformat": 4,
 "nbformat_minor": 5
}
