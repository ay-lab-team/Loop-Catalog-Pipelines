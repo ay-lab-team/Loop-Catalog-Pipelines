{
 "cells": [
  {
   "cell_type": "code",
   "execution_count": 1,
   "id": "68a4b4df",
   "metadata": {},
   "outputs": [],
   "source": [
    "import os\n",
    "import sys\n",
    "import pandas as pd\n",
    "import tracker\n",
    "latest_date = tracker.processing_dates[-1]\n",
    "os.chdir('/mnt/BioAdHoc/Groups/vd-ay/hichip-db-loop-calling/')"
   ]
  },
  {
   "cell_type": "code",
   "execution_count": 2,
   "id": "8f649648",
   "metadata": {},
   "outputs": [],
   "source": [
    "# setting input and output with jupyter notebook in context \n",
    "if 'ipykernel_launcher.py' in sys.argv[0]:\n",
    "    input_fn = 'results/samplesheets/fastq/{}.fastq.samplesheet.with_header.tsv'.format(latest_date)\n",
    "    output_prefix = 'results/samplesheets/hicpro/{}.hicpro.samplesheet'.format(latest_date)\n",
    "else:\n",
    "    input_fn = sys.argv[1]\n",
    "    output_prefix = sys.argv[2]"
   ]
  },
  {
   "cell_type": "code",
   "execution_count": 3,
   "id": "622feb7b",
   "metadata": {},
   "outputs": [
    {
     "data": {
      "text/plain": [
       "'2022.04.09.16.57'"
      ]
     },
     "execution_count": 3,
     "metadata": {},
     "output_type": "execute_result"
    }
   ],
   "source": [
    "latest_date"
   ]
  },
  {
   "cell_type": "code",
   "execution_count": 4,
   "id": "d05a2c03",
   "metadata": {},
   "outputs": [],
   "source": [
    "# loading the samplesheet\n",
    "df = pd.read_table(input_fn)"
   ]
  },
  {
   "cell_type": "code",
   "execution_count": 5,
   "id": "5b0bce96",
   "metadata": {},
   "outputs": [
    {
     "data": {
      "text/html": [
       "<div>\n",
       "<style scoped>\n",
       "    .dataframe tbody tr th:only-of-type {\n",
       "        vertical-align: middle;\n",
       "    }\n",
       "\n",
       "    .dataframe tbody tr th {\n",
       "        vertical-align: top;\n",
       "    }\n",
       "\n",
       "    .dataframe thead th {\n",
       "        text-align: right;\n",
       "    }\n",
       "</style>\n",
       "<table border=\"1\" class=\"dataframe\">\n",
       "  <thead>\n",
       "    <tr style=\"text-align: right;\">\n",
       "      <th></th>\n",
       "      <th>std_sample_name</th>\n",
       "      <th>gse_id</th>\n",
       "      <th>gsm_id</th>\n",
       "      <th>srr_id</th>\n",
       "      <th>organism</th>\n",
       "      <th>bio_rep</th>\n",
       "      <th>tech_rep</th>\n",
       "      <th>antibody_target</th>\n",
       "      <th>restriction_enzyme</th>\n",
       "      <th>sample_name</th>\n",
       "    </tr>\n",
       "  </thead>\n",
       "  <tbody>\n",
       "    <tr>\n",
       "      <th>0</th>\n",
       "      <td>mES_25m_cells.GSE101498.Mus_Musculus.H3K27ac.b1</td>\n",
       "      <td>GSE101498</td>\n",
       "      <td>GSM2705031</td>\n",
       "      <td>SRR5831479</td>\n",
       "      <td>Mus_Musculus</td>\n",
       "      <td>1</td>\n",
       "      <td>1</td>\n",
       "      <td>H3K27ac</td>\n",
       "      <td>MboI</td>\n",
       "      <td>mES_25m_cells</td>\n",
       "    </tr>\n",
       "    <tr>\n",
       "      <th>1</th>\n",
       "      <td>mES_25m_cells.GSE101498.Mus_Musculus.H3K27ac.b1</td>\n",
       "      <td>GSE101498</td>\n",
       "      <td>GSM2705032</td>\n",
       "      <td>SRR5831480</td>\n",
       "      <td>Mus_Musculus</td>\n",
       "      <td>1</td>\n",
       "      <td>2</td>\n",
       "      <td>H3K27ac</td>\n",
       "      <td>MboI</td>\n",
       "      <td>mES_25m_cells</td>\n",
       "    </tr>\n",
       "    <tr>\n",
       "      <th>2</th>\n",
       "      <td>mES_25m_cells.GSE101498.Mus_Musculus.H3K27ac.b2</td>\n",
       "      <td>GSE101498</td>\n",
       "      <td>GSM2705033</td>\n",
       "      <td>SRR5831481</td>\n",
       "      <td>Mus_Musculus</td>\n",
       "      <td>2</td>\n",
       "      <td>1</td>\n",
       "      <td>H3K27ac</td>\n",
       "      <td>MboI</td>\n",
       "      <td>mES_25m_cells</td>\n",
       "    </tr>\n",
       "    <tr>\n",
       "      <th>3</th>\n",
       "      <td>mES_25m_cells.GSE101498.Mus_Musculus.H3K27ac.b2</td>\n",
       "      <td>GSE101498</td>\n",
       "      <td>GSM2705034</td>\n",
       "      <td>SRR5831482</td>\n",
       "      <td>Mus_Musculus</td>\n",
       "      <td>2</td>\n",
       "      <td>2</td>\n",
       "      <td>H3K27ac</td>\n",
       "      <td>MboI</td>\n",
       "      <td>mES_25m_cells</td>\n",
       "    </tr>\n",
       "    <tr>\n",
       "      <th>4</th>\n",
       "      <td>mES_500k_cells.GSE101498.Mus_Musculus.H3K27ac.b1</td>\n",
       "      <td>GSE101498</td>\n",
       "      <td>GSM2705035</td>\n",
       "      <td>SRR5831483</td>\n",
       "      <td>Mus_Musculus</td>\n",
       "      <td>1</td>\n",
       "      <td>1</td>\n",
       "      <td>H3K27ac</td>\n",
       "      <td>MboI</td>\n",
       "      <td>mES_500k_cells</td>\n",
       "    </tr>\n",
       "    <tr>\n",
       "      <th>...</th>\n",
       "      <td>...</td>\n",
       "      <td>...</td>\n",
       "      <td>...</td>\n",
       "      <td>...</td>\n",
       "      <td>...</td>\n",
       "      <td>...</td>\n",
       "      <td>...</td>\n",
       "      <td>...</td>\n",
       "      <td>...</td>\n",
       "      <td>...</td>\n",
       "    </tr>\n",
       "    <tr>\n",
       "      <th>127</th>\n",
       "      <td>293T-PDS.GSE128106.Homo_Sapiens.YY1.b1</td>\n",
       "      <td>GSE128106</td>\n",
       "      <td>GSM3664994</td>\n",
       "      <td>SRR8707617</td>\n",
       "      <td>Homo_Sapiens</td>\n",
       "      <td>1</td>\n",
       "      <td>1</td>\n",
       "      <td>YY1</td>\n",
       "      <td>HindIII</td>\n",
       "      <td>293T-PDS</td>\n",
       "    </tr>\n",
       "    <tr>\n",
       "      <th>128</th>\n",
       "      <td>293T-PDS.GSE128106.Homo_Sapiens.YY1.b1</td>\n",
       "      <td>GSE128106</td>\n",
       "      <td>GSM3664995</td>\n",
       "      <td>SRR8707618</td>\n",
       "      <td>Homo_Sapiens</td>\n",
       "      <td>1</td>\n",
       "      <td>2</td>\n",
       "      <td>YY1</td>\n",
       "      <td>HindIII</td>\n",
       "      <td>293T-PDS</td>\n",
       "    </tr>\n",
       "    <tr>\n",
       "      <th>129</th>\n",
       "      <td>293T-TMPYP4.GSE128106.Homo_Sapiens.YY1.b1</td>\n",
       "      <td>GSE128106</td>\n",
       "      <td>GSM3664996</td>\n",
       "      <td>SRR8707619</td>\n",
       "      <td>Homo_Sapiens</td>\n",
       "      <td>1</td>\n",
       "      <td>1</td>\n",
       "      <td>YY1</td>\n",
       "      <td>HindIII</td>\n",
       "      <td>293T-TMPYP4</td>\n",
       "    </tr>\n",
       "    <tr>\n",
       "      <th>130</th>\n",
       "      <td>293T-TMPYP4.GSE128106.Homo_Sapiens.YY1.b1</td>\n",
       "      <td>GSE128106</td>\n",
       "      <td>GSM3664997</td>\n",
       "      <td>SRR8707620</td>\n",
       "      <td>Homo_Sapiens</td>\n",
       "      <td>1</td>\n",
       "      <td>2</td>\n",
       "      <td>YY1</td>\n",
       "      <td>HindIII</td>\n",
       "      <td>293T-TMPYP4</td>\n",
       "    </tr>\n",
       "    <tr>\n",
       "      <th>131</th>\n",
       "      <td>HCT116.GSE92881.Homo_Sapiens.SMC1.b1</td>\n",
       "      <td>GSE92881</td>\n",
       "      <td>GSM3049595</td>\n",
       "      <td>SRR6855536</td>\n",
       "      <td>Homo_Sapiens</td>\n",
       "      <td>1</td>\n",
       "      <td>1</td>\n",
       "      <td>SMC1</td>\n",
       "      <td>MboI</td>\n",
       "      <td>HCT116</td>\n",
       "    </tr>\n",
       "  </tbody>\n",
       "</table>\n",
       "<p>132 rows × 10 columns</p>\n",
       "</div>"
      ],
      "text/plain": [
       "                                      std_sample_name     gse_id      gsm_id  \\\n",
       "0     mES_25m_cells.GSE101498.Mus_Musculus.H3K27ac.b1  GSE101498  GSM2705031   \n",
       "1     mES_25m_cells.GSE101498.Mus_Musculus.H3K27ac.b1  GSE101498  GSM2705032   \n",
       "2     mES_25m_cells.GSE101498.Mus_Musculus.H3K27ac.b2  GSE101498  GSM2705033   \n",
       "3     mES_25m_cells.GSE101498.Mus_Musculus.H3K27ac.b2  GSE101498  GSM2705034   \n",
       "4    mES_500k_cells.GSE101498.Mus_Musculus.H3K27ac.b1  GSE101498  GSM2705035   \n",
       "..                                                ...        ...         ...   \n",
       "127            293T-PDS.GSE128106.Homo_Sapiens.YY1.b1  GSE128106  GSM3664994   \n",
       "128            293T-PDS.GSE128106.Homo_Sapiens.YY1.b1  GSE128106  GSM3664995   \n",
       "129         293T-TMPYP4.GSE128106.Homo_Sapiens.YY1.b1  GSE128106  GSM3664996   \n",
       "130         293T-TMPYP4.GSE128106.Homo_Sapiens.YY1.b1  GSE128106  GSM3664997   \n",
       "131              HCT116.GSE92881.Homo_Sapiens.SMC1.b1   GSE92881  GSM3049595   \n",
       "\n",
       "         srr_id      organism  bio_rep  tech_rep antibody_target  \\\n",
       "0    SRR5831479  Mus_Musculus        1         1         H3K27ac   \n",
       "1    SRR5831480  Mus_Musculus        1         2         H3K27ac   \n",
       "2    SRR5831481  Mus_Musculus        2         1         H3K27ac   \n",
       "3    SRR5831482  Mus_Musculus        2         2         H3K27ac   \n",
       "4    SRR5831483  Mus_Musculus        1         1         H3K27ac   \n",
       "..          ...           ...      ...       ...             ...   \n",
       "127  SRR8707617  Homo_Sapiens        1         1             YY1   \n",
       "128  SRR8707618  Homo_Sapiens        1         2             YY1   \n",
       "129  SRR8707619  Homo_Sapiens        1         1             YY1   \n",
       "130  SRR8707620  Homo_Sapiens        1         2             YY1   \n",
       "131  SRR6855536  Homo_Sapiens        1         1            SMC1   \n",
       "\n",
       "    restriction_enzyme     sample_name  \n",
       "0                 MboI   mES_25m_cells  \n",
       "1                 MboI   mES_25m_cells  \n",
       "2                 MboI   mES_25m_cells  \n",
       "3                 MboI   mES_25m_cells  \n",
       "4                 MboI  mES_500k_cells  \n",
       "..                 ...             ...  \n",
       "127            HindIII        293T-PDS  \n",
       "128            HindIII        293T-PDS  \n",
       "129            HindIII     293T-TMPYP4  \n",
       "130            HindIII     293T-TMPYP4  \n",
       "131               MboI          HCT116  \n",
       "\n",
       "[132 rows x 10 columns]"
      ]
     },
     "execution_count": 5,
     "metadata": {},
     "output_type": "execute_result"
    }
   ],
   "source": [
    "df"
   ]
  },
  {
   "cell_type": "code",
   "execution_count": 6,
   "id": "078db9f9",
   "metadata": {},
   "outputs": [],
   "source": [
    "ready_df = df.drop_duplicates(subset=['std_sample_name', 'gse_id', 'gsm_id', 'srr_id'])\n",
    "ready_df.drop(['tech_rep'], axis=1, inplace=True)"
   ]
  },
  {
   "cell_type": "code",
   "execution_count": 7,
   "id": "46b9f108",
   "metadata": {},
   "outputs": [],
   "source": [
    "reorder = ['std_sample_name',\n",
    "             'gse_id',\n",
    "             'organism',\n",
    "             'bio_rep',\n",
    "             'antibody_target',\n",
    "             'restriction_enzyme',\n",
    "             'sample_name']"
   ]
  },
  {
   "cell_type": "code",
   "execution_count": 8,
   "id": "3a1b2df2",
   "metadata": {},
   "outputs": [],
   "source": [
    "ready_df = ready_df[reorder]\n",
    "ready_df.drop_duplicates('std_sample_name', inplace=True)"
   ]
  },
  {
   "cell_type": "code",
   "execution_count": 9,
   "id": "dc2ac328",
   "metadata": {},
   "outputs": [],
   "source": [
    "header_output = '{}.with_header.tsv'.format(output_prefix)\n",
    "ready_df.to_csv(header_output, header=True, index=False, sep='\\t')"
   ]
  },
  {
   "cell_type": "code",
   "execution_count": 10,
   "id": "04ce292b",
   "metadata": {},
   "outputs": [],
   "source": [
    "without_header_output = '{}.without_header.tsv'.format(output_prefix)\n",
    "ready_df.to_csv(without_header_output, header=False, index=False, sep='\\t')"
   ]
  },
  {
   "cell_type": "code",
   "execution_count": 11,
   "id": "5cd1315a",
   "metadata": {},
   "outputs": [
    {
     "data": {
      "text/plain": [
       "'results/samplesheets/hicpro/2022.04.09.16.57.hicpro.samplesheet.with_header.tsv'"
      ]
     },
     "execution_count": 11,
     "metadata": {},
     "output_type": "execute_result"
    }
   ],
   "source": [
    "header_output"
   ]
  },
  {
   "cell_type": "code",
   "execution_count": 12,
   "id": "4edc6ced",
   "metadata": {},
   "outputs": [
    {
     "data": {
      "text/plain": [
       "(81, 7)"
      ]
     },
     "execution_count": 12,
     "metadata": {},
     "output_type": "execute_result"
    }
   ],
   "source": [
    "ready_df.shape"
   ]
  }
 ],
 "metadata": {
  "kernelspec": {
   "display_name": "HiC",
   "language": "python",
   "name": "hic_tls"
  },
  "language_info": {
   "codemirror_mode": {
    "name": "ipython",
    "version": 3
   },
   "file_extension": ".py",
   "mimetype": "text/x-python",
   "name": "python",
   "nbconvert_exporter": "python",
   "pygments_lexer": "ipython3",
   "version": "3.6.7"
  }
 },
 "nbformat": 4,
 "nbformat_minor": 5
}
