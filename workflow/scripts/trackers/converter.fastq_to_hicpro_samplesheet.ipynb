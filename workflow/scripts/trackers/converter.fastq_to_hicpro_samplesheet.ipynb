{
 "cells": [
  {
   "cell_type": "code",
   "execution_count": 1,
   "id": "68a4b4df",
   "metadata": {},
   "outputs": [],
   "source": [
    "import os\n",
    "import sys\n",
    "import pandas as pd\n",
    "import tracker\n",
    "latest_date = tracker.processing_dates[-1]\n",
    "os.chdir('/mnt/BioAdHoc/Groups/vd-ay/hichip-db-loop-calling/')"
   ]
  },
  {
   "cell_type": "code",
   "execution_count": 2,
   "id": "8f649648",
   "metadata": {},
   "outputs": [],
   "source": [
    "# setting input and output with jupyter notebook in context \n",
    "if 'ipykernel_launcher.py' in sys.argv[0]:\n",
    "    input_fn = 'results/samplesheets/fastq/{}.fastq.samplesheet.with_header.tsv'.format(latest_date)\n",
    "    output_prefix = 'results/samplesheets/hicpro/{}.hicpro.samplesheet'.format(latest_date)\n",
    "else:\n",
    "    input_fn = sys.argv[1]\n",
    "    output_prefix = sys.argv[2]"
   ]
  },
  {
   "cell_type": "code",
   "execution_count": 3,
   "id": "622feb7b",
   "metadata": {},
   "outputs": [
    {
     "data": {
      "text/plain": [
       "'2022.06.19.17.30'"
      ]
     },
     "execution_count": 3,
     "metadata": {},
     "output_type": "execute_result"
    }
   ],
   "source": [
    "latest_date"
   ]
  },
  {
   "cell_type": "code",
   "execution_count": 4,
   "id": "d05a2c03",
   "metadata": {},
   "outputs": [],
   "source": [
    "# loading the samplesheet\n",
    "df = pd.read_table(input_fn)"
   ]
  },
  {
   "cell_type": "code",
   "execution_count": 5,
   "id": "5b0bce96",
   "metadata": {},
   "outputs": [
    {
     "data": {
      "text/html": [
       "<div>\n",
       "<style scoped>\n",
       "    .dataframe tbody tr th:only-of-type {\n",
       "        vertical-align: middle;\n",
       "    }\n",
       "\n",
       "    .dataframe tbody tr th {\n",
       "        vertical-align: top;\n",
       "    }\n",
       "\n",
       "    .dataframe thead th {\n",
       "        text-align: right;\n",
       "    }\n",
       "</style>\n",
       "<table border=\"1\" class=\"dataframe\">\n",
       "  <thead>\n",
       "    <tr style=\"text-align: right;\">\n",
       "      <th></th>\n",
       "      <th>std_sample_name</th>\n",
       "      <th>gse_id</th>\n",
       "      <th>gsm_id</th>\n",
       "      <th>srr_id</th>\n",
       "      <th>organism</th>\n",
       "      <th>bio_rep</th>\n",
       "      <th>tech_rep</th>\n",
       "      <th>antibody_target</th>\n",
       "      <th>restriction_enzyme</th>\n",
       "      <th>sample_name</th>\n",
       "    </tr>\n",
       "  </thead>\n",
       "  <tbody>\n",
       "    <tr>\n",
       "      <th>0</th>\n",
       "      <td>HAVIC.GSE154512.Homo_Sapiens.H3K27ac.b1</td>\n",
       "      <td>GSE154512</td>\n",
       "      <td>GSM4672364</td>\n",
       "      <td>SRR12231664</td>\n",
       "      <td>Homo_Sapiens</td>\n",
       "      <td>1</td>\n",
       "      <td>1</td>\n",
       "      <td>H3K27ac</td>\n",
       "      <td>MboI</td>\n",
       "      <td>HAVIC</td>\n",
       "    </tr>\n",
       "    <tr>\n",
       "      <th>1</th>\n",
       "      <td>HCT116-AuxinNeg.GSE179544.Homo_Sapiens.RNA-Pol...</td>\n",
       "      <td>GSE179544</td>\n",
       "      <td>GSM5420289</td>\n",
       "      <td>SRR15050696</td>\n",
       "      <td>Homo_Sapiens</td>\n",
       "      <td>1</td>\n",
       "      <td>1</td>\n",
       "      <td>RNA-Pol-II</td>\n",
       "      <td>DpnII</td>\n",
       "      <td>HCT116-AuxinNeg</td>\n",
       "    </tr>\n",
       "    <tr>\n",
       "      <th>2</th>\n",
       "      <td>HCT116-AuxinPos.GSE179544.Homo_Sapiens.RNA-Pol...</td>\n",
       "      <td>GSE179544</td>\n",
       "      <td>GSM5420290</td>\n",
       "      <td>SRR15050697</td>\n",
       "      <td>Homo_Sapiens</td>\n",
       "      <td>1</td>\n",
       "      <td>1</td>\n",
       "      <td>RNA-Pol-II</td>\n",
       "      <td>DpnII</td>\n",
       "      <td>HCT116-AuxinPos</td>\n",
       "    </tr>\n",
       "    <tr>\n",
       "      <th>3</th>\n",
       "      <td>HCT116-AuxinPos.GSE179544.Homo_Sapiens.RNA-Pol...</td>\n",
       "      <td>GSE179544</td>\n",
       "      <td>GSM5420292</td>\n",
       "      <td>SRR15050699</td>\n",
       "      <td>Homo_Sapiens</td>\n",
       "      <td>1</td>\n",
       "      <td>2</td>\n",
       "      <td>RNA-Pol-II</td>\n",
       "      <td>DpnII</td>\n",
       "      <td>HCT116-AuxinPos</td>\n",
       "    </tr>\n",
       "    <tr>\n",
       "      <th>4</th>\n",
       "      <td>IMR90-Proliferating.GSE100856.Homo_Sapiens.CTC...</td>\n",
       "      <td>GSE100856</td>\n",
       "      <td>GSM2695301</td>\n",
       "      <td>SRR5808478</td>\n",
       "      <td>Homo_Sapiens</td>\n",
       "      <td>1</td>\n",
       "      <td>1</td>\n",
       "      <td>CTCF</td>\n",
       "      <td>HindIII</td>\n",
       "      <td>IMR90-Proliferating</td>\n",
       "    </tr>\n",
       "    <tr>\n",
       "      <th>...</th>\n",
       "      <td>...</td>\n",
       "      <td>...</td>\n",
       "      <td>...</td>\n",
       "      <td>...</td>\n",
       "      <td>...</td>\n",
       "      <td>...</td>\n",
       "      <td>...</td>\n",
       "      <td>...</td>\n",
       "      <td>...</td>\n",
       "      <td>...</td>\n",
       "    </tr>\n",
       "    <tr>\n",
       "      <th>257</th>\n",
       "      <td>K562.GSE99519.Homo_Sapiens.YY1.b1</td>\n",
       "      <td>GSE99519</td>\n",
       "      <td>GSM2774002</td>\n",
       "      <td>SRR6010263</td>\n",
       "      <td>Homo_Sapiens</td>\n",
       "      <td>1</td>\n",
       "      <td>2</td>\n",
       "      <td>YY1</td>\n",
       "      <td>MboI</td>\n",
       "      <td>K562</td>\n",
       "    </tr>\n",
       "    <tr>\n",
       "      <th>258</th>\n",
       "      <td>iPSC-WT.GSE150906.Homo_Sapiens.H3K27me3.b1</td>\n",
       "      <td>GSE150906</td>\n",
       "      <td>GSM4560486</td>\n",
       "      <td>SRR11816734</td>\n",
       "      <td>Homo_Sapiens</td>\n",
       "      <td>1</td>\n",
       "      <td>1</td>\n",
       "      <td>H3K27me3</td>\n",
       "      <td>MboI</td>\n",
       "      <td>iPSC-WT</td>\n",
       "    </tr>\n",
       "    <tr>\n",
       "      <th>259</th>\n",
       "      <td>iPSC-WT.GSE150906.Homo_Sapiens.H3K27me3.b1</td>\n",
       "      <td>GSE150906</td>\n",
       "      <td>GSM4560487</td>\n",
       "      <td>SRR11816735</td>\n",
       "      <td>Homo_Sapiens</td>\n",
       "      <td>1</td>\n",
       "      <td>2</td>\n",
       "      <td>H3K27me3</td>\n",
       "      <td>MboI</td>\n",
       "      <td>iPSC-WT</td>\n",
       "    </tr>\n",
       "    <tr>\n",
       "      <th>260</th>\n",
       "      <td>iPSC-MUT.GSE150906.Homo_Sapiens.H3K27me3.b1</td>\n",
       "      <td>GSE150906</td>\n",
       "      <td>GSM4560488</td>\n",
       "      <td>SRR11816736</td>\n",
       "      <td>Homo_Sapiens</td>\n",
       "      <td>1</td>\n",
       "      <td>1</td>\n",
       "      <td>H3K27me3</td>\n",
       "      <td>MboI</td>\n",
       "      <td>iPSC-MUT</td>\n",
       "    </tr>\n",
       "    <tr>\n",
       "      <th>261</th>\n",
       "      <td>iPSC-MUT.GSE150906.Homo_Sapiens.H3K27me3.b1</td>\n",
       "      <td>GSE150906</td>\n",
       "      <td>GSM4560489</td>\n",
       "      <td>SRR11816737</td>\n",
       "      <td>Homo_Sapiens</td>\n",
       "      <td>1</td>\n",
       "      <td>2</td>\n",
       "      <td>H3K27me3</td>\n",
       "      <td>MboI</td>\n",
       "      <td>iPSC-MUT</td>\n",
       "    </tr>\n",
       "  </tbody>\n",
       "</table>\n",
       "<p>262 rows × 10 columns</p>\n",
       "</div>"
      ],
      "text/plain": [
       "                                       std_sample_name     gse_id      gsm_id  \\\n",
       "0              HAVIC.GSE154512.Homo_Sapiens.H3K27ac.b1  GSE154512  GSM4672364   \n",
       "1    HCT116-AuxinNeg.GSE179544.Homo_Sapiens.RNA-Pol...  GSE179544  GSM5420289   \n",
       "2    HCT116-AuxinPos.GSE179544.Homo_Sapiens.RNA-Pol...  GSE179544  GSM5420290   \n",
       "3    HCT116-AuxinPos.GSE179544.Homo_Sapiens.RNA-Pol...  GSE179544  GSM5420292   \n",
       "4    IMR90-Proliferating.GSE100856.Homo_Sapiens.CTC...  GSE100856  GSM2695301   \n",
       "..                                                 ...        ...         ...   \n",
       "257                  K562.GSE99519.Homo_Sapiens.YY1.b1   GSE99519  GSM2774002   \n",
       "258         iPSC-WT.GSE150906.Homo_Sapiens.H3K27me3.b1  GSE150906  GSM4560486   \n",
       "259         iPSC-WT.GSE150906.Homo_Sapiens.H3K27me3.b1  GSE150906  GSM4560487   \n",
       "260        iPSC-MUT.GSE150906.Homo_Sapiens.H3K27me3.b1  GSE150906  GSM4560488   \n",
       "261        iPSC-MUT.GSE150906.Homo_Sapiens.H3K27me3.b1  GSE150906  GSM4560489   \n",
       "\n",
       "          srr_id      organism  bio_rep  tech_rep antibody_target  \\\n",
       "0    SRR12231664  Homo_Sapiens        1         1         H3K27ac   \n",
       "1    SRR15050696  Homo_Sapiens        1         1      RNA-Pol-II   \n",
       "2    SRR15050697  Homo_Sapiens        1         1      RNA-Pol-II   \n",
       "3    SRR15050699  Homo_Sapiens        1         2      RNA-Pol-II   \n",
       "4     SRR5808478  Homo_Sapiens        1         1            CTCF   \n",
       "..           ...           ...      ...       ...             ...   \n",
       "257   SRR6010263  Homo_Sapiens        1         2             YY1   \n",
       "258  SRR11816734  Homo_Sapiens        1         1        H3K27me3   \n",
       "259  SRR11816735  Homo_Sapiens        1         2        H3K27me3   \n",
       "260  SRR11816736  Homo_Sapiens        1         1        H3K27me3   \n",
       "261  SRR11816737  Homo_Sapiens        1         2        H3K27me3   \n",
       "\n",
       "    restriction_enzyme          sample_name  \n",
       "0                 MboI                HAVIC  \n",
       "1                DpnII      HCT116-AuxinNeg  \n",
       "2                DpnII      HCT116-AuxinPos  \n",
       "3                DpnII      HCT116-AuxinPos  \n",
       "4              HindIII  IMR90-Proliferating  \n",
       "..                 ...                  ...  \n",
       "257               MboI                 K562  \n",
       "258               MboI              iPSC-WT  \n",
       "259               MboI              iPSC-WT  \n",
       "260               MboI             iPSC-MUT  \n",
       "261               MboI             iPSC-MUT  \n",
       "\n",
       "[262 rows x 10 columns]"
      ]
     },
     "execution_count": 5,
     "metadata": {},
     "output_type": "execute_result"
    }
   ],
   "source": [
    "df"
   ]
  },
  {
   "cell_type": "code",
   "execution_count": 6,
   "id": "078db9f9",
   "metadata": {},
   "outputs": [],
   "source": [
    "ready_df = df.drop_duplicates(subset=['std_sample_name', 'gse_id', 'gsm_id', 'srr_id'])\n",
    "ready_df.drop(['tech_rep'], axis=1, inplace=True)"
   ]
  },
  {
   "cell_type": "code",
   "execution_count": 7,
   "id": "46b9f108",
   "metadata": {},
   "outputs": [],
   "source": [
    "reorder = ['std_sample_name',\n",
    "             'gse_id',\n",
    "             'organism',\n",
    "             'bio_rep',\n",
    "             'antibody_target',\n",
    "             'restriction_enzyme',\n",
    "             'sample_name']"
   ]
  },
  {
   "cell_type": "code",
   "execution_count": 8,
   "id": "3a1b2df2",
   "metadata": {},
   "outputs": [],
   "source": [
    "ready_df = ready_df[reorder]\n",
    "ready_df.drop_duplicates('std_sample_name', inplace=True)"
   ]
  },
  {
   "cell_type": "code",
   "execution_count": 9,
   "id": "dc2ac328",
   "metadata": {},
   "outputs": [],
   "source": [
    "header_output = '{}.with_header.tsv'.format(output_prefix)\n",
    "ready_df.to_csv(header_output, header=True, index=False, sep='\\t')"
   ]
  },
  {
   "cell_type": "code",
   "execution_count": 10,
   "id": "04ce292b",
   "metadata": {},
   "outputs": [],
   "source": [
    "without_header_output = '{}.without_header.tsv'.format(output_prefix)\n",
    "ready_df.to_csv(without_header_output, header=False, index=False, sep='\\t')"
   ]
  },
  {
   "cell_type": "code",
   "execution_count": 11,
   "id": "5cd1315a",
   "metadata": {},
   "outputs": [
    {
     "data": {
      "text/plain": [
       "'results/samplesheets/hicpro/2022.06.19.17.30.hicpro.samplesheet.with_header.tsv'"
      ]
     },
     "execution_count": 11,
     "metadata": {},
     "output_type": "execute_result"
    }
   ],
   "source": [
    "header_output"
   ]
  },
  {
   "cell_type": "code",
   "execution_count": 12,
   "id": "4edc6ced",
   "metadata": {},
   "outputs": [
    {
     "data": {
      "text/plain": [
       "(190, 7)"
      ]
     },
     "execution_count": 12,
     "metadata": {},
     "output_type": "execute_result"
    }
   ],
   "source": [
    "ready_df.shape"
   ]
  },
  {
   "cell_type": "code",
   "execution_count": null,
   "id": "ef2ccf01",
   "metadata": {},
   "outputs": [],
   "source": []
  }
 ],
 "metadata": {
  "kernelspec": {
   "display_name": "HiC",
   "language": "python",
   "name": "hic_tls"
  },
  "language_info": {
   "codemirror_mode": {
    "name": "ipython",
    "version": 3
   },
   "file_extension": ".py",
   "mimetype": "text/x-python",
   "name": "python",
   "nbconvert_exporter": "python",
   "pygments_lexer": "ipython3",
   "version": "3.6.7"
  }
 },
 "nbformat": 4,
 "nbformat_minor": 5
}
