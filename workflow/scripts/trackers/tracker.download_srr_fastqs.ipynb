{
 "cells": [
  {
   "cell_type": "code",
   "execution_count": 111,
   "id": "7543cb1e",
   "metadata": {},
   "outputs": [],
   "source": [
    "import os\n",
    "import sys\n",
    "import glob\n",
    "import numpy as np\n",
    "import pandas as pd\n",
    "from IPython.display import display\n",
    "import time \n",
    "os.chdir('/mnt/BioAdHoc/Groups/vd-ay/hichip-db-loop-calling/')\n",
    "pd.set_option('display.max_rows', 1000)\n",
    "pd.set_option('display.max_columns', 1000)\n",
    "pd.set_option('max_colwidth', 400)"
   ]
  },
  {
   "cell_type": "code",
   "execution_count": 112,
   "id": "9a9eca66",
   "metadata": {},
   "outputs": [],
   "source": [
    "# setting input and output with jupyter notebook in context \n",
    "if 'ipykernel_launcher.py' in sys.argv[0]:\n",
    "    input_fn = 'results/samplesheets/fastq/2022.03.30.fastq.samplesheet.with_header.tsv'\n",
    "    output_prefix = 'results/samplesheets/fastq/2022.03.30.fastq.post-check.download_srr_fastqs'\n",
    "else:\n",
    "    input_fn = sys.argv[1]\n",
    "    output_fn = sys.argv[2]"
   ]
  },
  {
   "cell_type": "markdown",
   "id": "cb9114b0",
   "metadata": {},
   "source": [
    "## Helper Functions"
   ]
  },
  {
   "cell_type": "code",
   "execution_count": 113,
   "id": "ddecee19",
   "metadata": {},
   "outputs": [],
   "source": [
    "def get_log(x, mode='index'):\n",
    "    \n",
    "    if mode == 'index':\n",
    "        logs = glob.glob('results/fastqs/raw/logs/download_srr_fastqs.*-{}'.format(x))\n",
    "        \n",
    "    elif mode == 'path':\n",
    "        info = x.split('/')\n",
    "        sample_name = info[3]\n",
    "        srr_id  = info[4].split('.')[0].split('_')[0]\n",
    "        index = df.loc[(df[0] == sample_name) & (df[3] == srr_id)].iloc[0].name\n",
    "        logs = glob.glob('results/fastqs/raw/logs/download_srr_fastqs.*-{}'.format(index))\n",
    "        \n",
    "    else:\n",
    "        return('Try again.')\n",
    "    \n",
    "    return(logs)\n",
    "\n",
    "def list_to_str(l, sep=' '):\n",
    "    l = [str(x) for x in l]\n",
    "    return(sep.join(l))"
   ]
  },
  {
   "cell_type": "code",
   "execution_count": 114,
   "id": "878cc1bd",
   "metadata": {},
   "outputs": [],
   "source": [
    "def read_log(log):\n",
    "    \n",
    "    \"\"\"\n",
    "    Read the log and extract status information including\n",
    "    the sample_name, srr_id, status (as indicated by the end message),\n",
    "    and the download status (as indicate by the \"reads written\" message).\n",
    "    \"\"\"\n",
    "    \n",
    "    status = 0\n",
    "    download = 1\n",
    "    sample_name = 'check'\n",
    "    srr_id = 'check'\n",
    "    date = ''\n",
    "\n",
    "    # extract job_id and index\n",
    "    meta = os.path.basename(log)\n",
    "    meta = meta.split('.')[1].split('-')\n",
    "    job_id = meta[0].replace('o', '')\n",
    "    index = meta[1]\n",
    "\n",
    "    with open(log, errors='ignore') as fr:\n",
    "        for line in fr:\n",
    "            info = line.strip()\n",
    "            if 'sample_name' in info:\n",
    "                sample_name = info.split()[1]\n",
    "            elif 'srr_id' in info:\n",
    "                srr_id = info.split()[1]\n",
    "            elif 'Ended: download_srr_fastqs' in info:\n",
    "                status = 1\n",
    "            elif 'reads written' in info:\n",
    "                download = 1\n",
    "            \n",
    "    return([index, sample_name, srr_id, job_id, status, download])"
   ]
  },
  {
   "cell_type": "code",
   "execution_count": 115,
   "id": "53186626",
   "metadata": {},
   "outputs": [],
   "source": [
    "def long_to_short_index_list(serial_list):\n",
    "    \n",
    "    small_num = serial_list[0]\n",
    "    serial_list_short = []\n",
    "    for i in range(1, len(serial_list)):\n",
    "\n",
    "        prev_num = serial_list[i -1]\n",
    "        next_num = serial_list[i]\n",
    "\n",
    "        if (prev_num + 1) != next_num:\n",
    "\n",
    "            if small_num == prev_num:\n",
    "                curr_range = '{}'.format(small_num)\n",
    "                serial_list_short.append(curr_range)\n",
    "                small_num = next_num\n",
    "\n",
    "            else:\n",
    "                curr_range = '{}-{}'.format(small_num, prev_num)\n",
    "                serial_list_short.append(curr_range)\n",
    "                small_num = next_num\n",
    "\n",
    "    if small_num == next_num:\n",
    "        curr_range = '{}'.format(small_num,)\n",
    "        serial_list_short.append(curr_range)\n",
    "    else:\n",
    "        curr_range = '{}-{}'.format(small_num, next_num)\n",
    "        serial_list_short.append(curr_range)\n",
    "        \n",
    "    return(serial_list_short)"
   ]
  },
  {
   "cell_type": "markdown",
   "id": "3b54e2c3",
   "metadata": {},
   "source": [
    "## Check Logs"
   ]
  },
  {
   "cell_type": "code",
   "execution_count": 116,
   "id": "6cfa1cba",
   "metadata": {},
   "outputs": [],
   "source": [
    "# load the data\n",
    "df = pd.read_table(input_fn)\n",
    "df['sample_index'] = df.index + 1 # add 1 since we'll be using 1-based indexing with sed"
   ]
  },
  {
   "cell_type": "code",
   "execution_count": 117,
   "id": "df9fc1ce",
   "metadata": {},
   "outputs": [],
   "source": [
    "# create a dataframe of log information \n",
    "logs = glob.glob('results/fastqs/raw/logs/download_srr_fastqs.o*-*')\n",
    "log_data = []\n",
    "for log in logs:\n",
    "    index, sample_name, srr_id, job_id, status, download = read_log(log)\n",
    "    log_data.append([index, sample_name, srr_id, job_id, status, download, log])\n",
    "log_df = pd.DataFrame(log_data)\n",
    "log_df.columns = ['sample_index', 'std_sample_name', 'srr_id', 'job_id', 'end_status', 'read_written_status', 'log']\n",
    "log_df.drop('sample_index', inplace=True, axis=1)"
   ]
  },
  {
   "cell_type": "code",
   "execution_count": 118,
   "id": "c74f8515",
   "metadata": {},
   "outputs": [],
   "source": [
    "# merge the log information\n",
    "df = df.merge(log_df, how='left', on=['std_sample_name', 'srr_id'], indicator='merge')\n",
    "df.loc[df.end_status.isna(), 'end_status'] = 0\n",
    "df.loc[df.read_written_status.isna(), 'read_written_status'] = 0\n",
    "df.end_status = df.end_status.astype(int)\n",
    "df.read_written_status = df.read_written_status.astype(int)"
   ]
  },
  {
   "cell_type": "code",
   "execution_count": 119,
   "id": "7f990dfe",
   "metadata": {},
   "outputs": [],
   "source": [
    "# get the latest job id for a give sample + srr id combo\n",
    "df = df.sort_values('job_id', ascending=False).drop_duplicates(['std_sample_name', 'srr_id'])"
   ]
  },
  {
   "cell_type": "markdown",
   "id": "cb7ac100",
   "metadata": {},
   "source": [
    "## Check the presences of SRR FASTQ files"
   ]
  },
  {
   "cell_type": "code",
   "execution_count": 120,
   "id": "455abed5",
   "metadata": {},
   "outputs": [],
   "source": [
    "# get the download path\n",
    "download_tpl = 'results/fastqs/raw/{}/{}_2.fastq.gz'\n",
    "df.loc[:, 'download_output'] = df.apply(lambda x: download_tpl.format(x[0], x[3]), axis=1)\n",
    "\n",
    "# find whether the download SRR FASTQ is present\n",
    "df.loc[:, 'download_present'] = df.loc[:, 'download_output'].apply(os.path.exists).astype(int)"
   ]
  },
  {
   "cell_type": "code",
   "execution_count": 121,
   "id": "d1e84726",
   "metadata": {},
   "outputs": [],
   "source": [
    "reorder_cols = ['std_sample_name',\n",
    "                 'gse_id',\n",
    "                 'gsm_id',\n",
    "                 'srr_id',\n",
    "                 'organism',\n",
    "                 'bio_rep',\n",
    "                 'tech_rep',\n",
    "                 'sample_index',\n",
    "                 'job_id',\n",
    "                 'end_status',\n",
    "                 'read_written_status',\n",
    "                 'download_present',\n",
    "                 'antibody_target',\n",
    "                 'restriction_enzyme',\n",
    "                 'sample_name',\n",
    "                 'log',\n",
    "                 'download_output']"
   ]
  },
  {
   "cell_type": "code",
   "execution_count": 122,
   "id": "9a9733b1",
   "metadata": {},
   "outputs": [],
   "source": [
    "df = df[reorder_cols]"
   ]
  },
  {
   "cell_type": "code",
   "execution_count": 123,
   "id": "1a7cdf48",
   "metadata": {},
   "outputs": [],
   "source": [
    "header_output = '{}.with_header.tsv'.format(output_prefix)\n",
    "df.to_csv(header_output, header=True, index=False, sep='\\t')\n",
    "\n",
    "without_header_output = '{}.without_header.tsv'.format(output_prefix)\n",
    "df.to_csv(without_header_output, header=False, index=False, sep='\\t')"
   ]
  },
  {
   "cell_type": "markdown",
   "id": "47b68b4a",
   "metadata": {},
   "source": [
    "## Identifying problem samples"
   ]
  },
  {
   "cell_type": "code",
   "execution_count": 124,
   "id": "003d5502",
   "metadata": {
    "scrolled": false
   },
   "outputs": [
    {
     "data": {
      "text/html": [
       "<div>\n",
       "<style scoped>\n",
       "    .dataframe tbody tr th:only-of-type {\n",
       "        vertical-align: middle;\n",
       "    }\n",
       "\n",
       "    .dataframe tbody tr th {\n",
       "        vertical-align: top;\n",
       "    }\n",
       "\n",
       "    .dataframe thead th {\n",
       "        text-align: right;\n",
       "    }\n",
       "</style>\n",
       "<table border=\"1\" class=\"dataframe\">\n",
       "  <thead>\n",
       "    <tr style=\"text-align: right;\">\n",
       "      <th></th>\n",
       "      <th>std_sample_name</th>\n",
       "      <th>gse_id</th>\n",
       "      <th>gsm_id</th>\n",
       "      <th>srr_id</th>\n",
       "      <th>organism</th>\n",
       "      <th>bio_rep</th>\n",
       "      <th>tech_rep</th>\n",
       "      <th>sample_index</th>\n",
       "      <th>job_id</th>\n",
       "      <th>end_status</th>\n",
       "      <th>read_written_status</th>\n",
       "      <th>download_present</th>\n",
       "      <th>antibody_target</th>\n",
       "      <th>restriction_enzyme</th>\n",
       "      <th>sample_name</th>\n",
       "      <th>log</th>\n",
       "      <th>download_output</th>\n",
       "    </tr>\n",
       "  </thead>\n",
       "  <tbody>\n",
       "    <tr>\n",
       "      <th>7</th>\n",
       "      <td>mES_100k_cells.GSE101498.Mus_Musculus.H3K27ac.b2</td>\n",
       "      <td>GSE101498</td>\n",
       "      <td>GSM2705038</td>\n",
       "      <td>SRR5831486</td>\n",
       "      <td>Mus_Musculus</td>\n",
       "      <td>2</td>\n",
       "      <td>1</td>\n",
       "      <td>8</td>\n",
       "      <td>NaN</td>\n",
       "      <td>0</td>\n",
       "      <td>0</td>\n",
       "      <td>0</td>\n",
       "      <td>H3K27ac</td>\n",
       "      <td>MboI</td>\n",
       "      <td>mES_100k_cells</td>\n",
       "      <td>NaN</td>\n",
       "      <td>results/fastqs/raw/mES_100k_cells.GSE101498.Mus_Musculus.H3K27ac.b2/SRR5831486_2.fastq.gz</td>\n",
       "    </tr>\n",
       "    <tr>\n",
       "      <th>61</th>\n",
       "      <td>HAVIC.GSE154512.Homo_Sapiens.H3K27ac.b1</td>\n",
       "      <td>GSE154512</td>\n",
       "      <td>GSM4672364</td>\n",
       "      <td>SRR12231664</td>\n",
       "      <td>Homo_Sapiens</td>\n",
       "      <td>1</td>\n",
       "      <td>1</td>\n",
       "      <td>62</td>\n",
       "      <td>NaN</td>\n",
       "      <td>0</td>\n",
       "      <td>0</td>\n",
       "      <td>0</td>\n",
       "      <td>H3K27ac</td>\n",
       "      <td>MboI</td>\n",
       "      <td>HAVIC</td>\n",
       "      <td>NaN</td>\n",
       "      <td>results/fastqs/raw/HAVIC.GSE154512.Homo_Sapiens.H3K27ac.b1/SRR12231664_2.fastq.gz</td>\n",
       "    </tr>\n",
       "  </tbody>\n",
       "</table>\n",
       "</div>"
      ],
      "text/plain": [
       "                                     std_sample_name     gse_id      gsm_id  \\\n",
       "7   mES_100k_cells.GSE101498.Mus_Musculus.H3K27ac.b2  GSE101498  GSM2705038   \n",
       "61           HAVIC.GSE154512.Homo_Sapiens.H3K27ac.b1  GSE154512  GSM4672364   \n",
       "\n",
       "         srr_id      organism  bio_rep  tech_rep  sample_index job_id  \\\n",
       "7    SRR5831486  Mus_Musculus        2         1             8    NaN   \n",
       "61  SRR12231664  Homo_Sapiens        1         1            62    NaN   \n",
       "\n",
       "    end_status  read_written_status  download_present antibody_target  \\\n",
       "7            0                    0                 0         H3K27ac   \n",
       "61           0                    0                 0         H3K27ac   \n",
       "\n",
       "   restriction_enzyme     sample_name  log  \\\n",
       "7                MboI  mES_100k_cells  NaN   \n",
       "61               MboI           HAVIC  NaN   \n",
       "\n",
       "                                                                              download_output  \n",
       "7   results/fastqs/raw/mES_100k_cells.GSE101498.Mus_Musculus.H3K27ac.b2/SRR5831486_2.fastq.gz  \n",
       "61          results/fastqs/raw/HAVIC.GSE154512.Homo_Sapiens.H3K27ac.b1/SRR12231664_2.fastq.gz  "
      ]
     },
     "execution_count": 124,
     "metadata": {},
     "output_type": "execute_result"
    }
   ],
   "source": [
    "problems = (df.end_status != 1) | (df.read_written_status != 1) | (df.download_present != 1)\n",
    "problems_df = df.loc[problems,:]\n",
    "problems_df"
   ]
  },
  {
   "cell_type": "code",
   "execution_count": 125,
   "id": "2b2c8d39",
   "metadata": {
    "scrolled": false
   },
   "outputs": [
    {
     "data": {
      "text/html": [
       "<div>\n",
       "<style scoped>\n",
       "    .dataframe tbody tr th:only-of-type {\n",
       "        vertical-align: middle;\n",
       "    }\n",
       "\n",
       "    .dataframe tbody tr th {\n",
       "        vertical-align: top;\n",
       "    }\n",
       "\n",
       "    .dataframe thead th {\n",
       "        text-align: right;\n",
       "    }\n",
       "</style>\n",
       "<table border=\"1\" class=\"dataframe\">\n",
       "  <thead>\n",
       "    <tr style=\"text-align: right;\">\n",
       "      <th></th>\n",
       "      <th>std_sample_name</th>\n",
       "      <th>log</th>\n",
       "    </tr>\n",
       "  </thead>\n",
       "  <tbody>\n",
       "    <tr>\n",
       "      <th>7</th>\n",
       "      <td>mES_100k_cells.GSE101498.Mus_Musculus.H3K27ac.b2</td>\n",
       "      <td>NaN</td>\n",
       "    </tr>\n",
       "    <tr>\n",
       "      <th>61</th>\n",
       "      <td>HAVIC.GSE154512.Homo_Sapiens.H3K27ac.b1</td>\n",
       "      <td>NaN</td>\n",
       "    </tr>\n",
       "  </tbody>\n",
       "</table>\n",
       "</div>"
      ],
      "text/plain": [
       "                                     std_sample_name  log\n",
       "7   mES_100k_cells.GSE101498.Mus_Musculus.H3K27ac.b2  NaN\n",
       "61           HAVIC.GSE154512.Homo_Sapiens.H3K27ac.b1  NaN"
      ]
     },
     "execution_count": 125,
     "metadata": {},
     "output_type": "execute_result"
    }
   ],
   "source": [
    "problems_df.loc[:, ['std_sample_name', 'log']]"
   ]
  },
  {
   "cell_type": "markdown",
   "id": "51fe3973",
   "metadata": {},
   "source": [
    "## Rerun problematic samples"
   ]
  },
  {
   "cell_type": "code",
   "execution_count": 126,
   "id": "a9d288ae",
   "metadata": {},
   "outputs": [],
   "source": [
    "# convert not run serial IDs to ranges/short format\n",
    "rerun_indexes = sorted(problems_df.sample_index.tolist())\n",
    "rerun_indexes = long_to_short_index_list(rerun_indexes)"
   ]
  },
  {
   "cell_type": "code",
   "execution_count": 127,
   "id": "0323bbbe",
   "metadata": {},
   "outputs": [
    {
     "data": {
      "text/plain": [
       "['8', '62']"
      ]
     },
     "execution_count": 127,
     "metadata": {},
     "output_type": "execute_result"
    }
   ],
   "source": [
    "rerun_indexes"
   ]
  },
  {
   "cell_type": "code",
   "execution_count": 128,
   "id": "c8cc1433",
   "metadata": {},
   "outputs": [],
   "source": [
    "# generate a string version of not_run\n",
    "final_rerun = ','.join(rerun_indexes)\n",
    "final_rerun = 'qsub -t {} workflow/scripts/fastq/download_srr_fastqs.qarray.qsh'.format(final_rerun)"
   ]
  },
  {
   "cell_type": "code",
   "execution_count": 129,
   "id": "7fc61aae",
   "metadata": {},
   "outputs": [
    {
     "name": "stdout",
     "output_type": "stream",
     "text": [
      "qsub -t 8,62 workflow/scripts/fastq/download_srr_fastqs.qarray.qsh\n"
     ]
    }
   ],
   "source": [
    "print(final_rerun)"
   ]
  },
  {
   "cell_type": "markdown",
   "id": "29c1091b",
   "metadata": {},
   "source": [
    "<p style=\"color: red\"><b>Re-running in progress: 2022.04.02 - 16:30</b></p>"
   ]
  },
  {
   "cell_type": "code",
   "execution_count": null,
   "id": "dbdd0d75",
   "metadata": {},
   "outputs": [],
   "source": []
  },
  {
   "cell_type": "code",
   "execution_count": null,
   "id": "3e5e4c6d",
   "metadata": {},
   "outputs": [],
   "source": []
  },
  {
   "cell_type": "code",
   "execution_count": null,
   "id": "830b69fc",
   "metadata": {},
   "outputs": [],
   "source": []
  }
 ],
 "metadata": {
  "kernelspec": {
   "display_name": "HiChIP-DB",
   "language": "python",
   "name": "hichip-db"
  },
  "language_info": {
   "codemirror_mode": {
    "name": "ipython",
    "version": 3
   },
   "file_extension": ".py",
   "mimetype": "text/x-python",
   "name": "python",
   "nbconvert_exporter": "python",
   "pygments_lexer": "ipython3",
   "version": "3.9.10"
  }
 },
 "nbformat": 4,
 "nbformat_minor": 5
}
