{
 "cells": [
  {
   "cell_type": "code",
   "execution_count": null,
   "metadata": {},
   "outputs": [],
   "source": [
    "import os\n",
    "import glob\n",
    "import pandas as pd\n",
    "import config\n",
    "os.chdir(config.LOOP_CATALOG_DIR + 'Community-Detection/results/communities/louvain/All_Samples/')"
   ]
  },
  {
   "cell_type": "code",
   "execution_count": null,
   "metadata": {},
   "outputs": [],
   "source": [
    "samples = glob.glob(\"*\")"
   ]
  },
  {
   "cell_type": "code",
   "execution_count": null,
   "metadata": {},
   "outputs": [],
   "source": [
    "for sample in samples:\n",
    "    \n",
    "    sub_crank_list = glob.glob(sample + \"/S5/*/*/crank_scores.txt\")\n",
    "    \n",
    "    if len(sub_crank_list) == 0:\n",
    "        continue\n",
    "        \n",
    "    valid_chroms = set([sub_crank.strip().split(\"/\")[2] for sub_crank in sub_crank_list])\n",
    "    \n",
    "    # annotate all sub_crank files across all chromosomes with respective parent communities\n",
    "    # save annotate file to appropriate comm folder as crank_scores.annotated.txt\n",
    "    for sub_crank in sub_crank_list:\n",
    "        chrom = sub_crank.strip().split(\"/\")[2]\n",
    "        comm = sub_crank.strip().split(\"/\")[3]\n",
    "        df = pd.read_csv(sub_crank, sep = \"\\t\")\n",
    "        df[\"Parent_Community\"] = \"Cmt\" + comm[4:]\n",
    "        df.to_csv(sample + \"/S5/\" + chrom + \"/\" + comm + \"/crank_scores.annotated.txt\", sep = \"\\t\", header = True, index = False)\n",
    "    \n",
    "    # concatenate sub_crank files into one file and save as crank_scores.subcommunity.txt\n",
    "    # merge subcommunity and community crank files and save as crank_scores.merged.txt\n",
    "    for chrom in valid_chroms:\n",
    "        \n",
    "        # concatenate\n",
    "        df = pd.DataFrame()\n",
    "        sub_crank_files = glob.glob(sample + \"/S5/\" + chrom + \"/*/crank_scores.annotated.txt\")\n",
    "        for file in sub_crank_files:\n",
    "            f = pd.read_csv(file, sep = \"\\t\")\n",
    "            df = pd.concat([df, f])\n",
    "        df = df.sort_values(by = \"Parent_Community\")\n",
    "        df.to_csv(sample + \"/S5/\" + chrom + \"/\" + \"crank_scores.subcommunity.txt\", sep = \"\\t\", header = True, index = False)\n",
    "\n",
    "        # merge\n",
    "        parent = pd.read_csv(sample + \"/S5/\" + chrom + \"/\" + \"crank_scores.txt\", sep = \"\\t\")\n",
    "        child = pd.read_csv(sample + \"/S5/\" + chrom + \"/\" + \"crank_scores.subcommunity.txt\", sep = \"\\t\")\n",
    "        df = parent.merge(child, left_on = \"Community\", right_on = \"Parent_Community\")\n",
    "        df.insert(loc = 0, column = \"Chromosome\", value = chrom)\n",
    "        df.columns = [\"Chromosome\", \"Community\", \"CRank\", \"Conductance\", \"Modularity\", \"Random\", \"SubCommunity\", \"CRank_SubCmt\", \"Conductance_SubCmt\", \"Modularity_SubCmt\", \"Random_SubCmt\", \"Parent_Community\"]\n",
    "        df = df.drop(columns = \"Parent_Community\")\n",
    "        df.to_csv(sample + \"/S5/\" + chrom + \"/\" + \"crank_scores.merged.txt\", sep = \"\\t\", header = True, index = False)\n",
    "    \n",
    "    # concatenate across chromosomes and save as crank_scores.final.txt\n",
    "    df = pd.DataFrame()\n",
    "    merged_files = glob.glob(sample + \"/S5/*/crank_scores.merged.txt\")\n",
    "    for file in merged_files:\n",
    "        f = pd.read_csv(file, sep = \"\\t\")\n",
    "        df = pd.concat([df, f])\n",
    "    df = df.sort_values(by = \"Chromosome\")\n",
    "    df.to_csv(sample + \"/S5/crank_scores.final.txt\", sep = \"\\t\", header = True, index = False)   \n"
   ]
  }
 ],
 "metadata": {
  "kernelspec": {
   "display_name": "hichip-db-new",
   "language": "python",
   "name": "hichip-db"
  },
  "language_info": {
   "codemirror_mode": {
    "name": "ipython",
    "version": 3
   },
   "file_extension": ".py",
   "mimetype": "text/x-python",
   "name": "python",
   "nbconvert_exporter": "python",
   "pygments_lexer": "ipython3",
   "version": "3.9.12"
  }
 },
 "nbformat": 4,
 "nbformat_minor": 5
}
