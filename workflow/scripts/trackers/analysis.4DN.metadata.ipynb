{
 "cells": [
  {
   "cell_type": "code",
   "execution_count": 57,
   "id": "21bd65cc",
   "metadata": {},
   "outputs": [],
   "source": [
    "import os\n",
    "import sys\n",
    "import glob\n",
    "import numpy as np\n",
    "import pandas as pd\n",
    "from dcicutils import ff_utils \n",
    "os.chdir('/mnt/BioAdHoc/Groups/vd-ay/kfetter/hichip-db-loop-calling/')"
   ]
  },
  {
   "cell_type": "code",
   "execution_count": 58,
   "id": "ff47db40",
   "metadata": {},
   "outputs": [],
   "source": [
    "key = {'key': \"XOMLKFE3\", 'secret': \"y4ej5tes67a2jdrn\", 'server': 'https://data.4dnucleome.org/'}"
   ]
  },
  {
   "cell_type": "code",
   "execution_count": 59,
   "id": "5959e273",
   "metadata": {},
   "outputs": [],
   "source": [
    "data = [] \n",
    "accessions = [\n",
    "    \"4DNESDXUWBD9\", \"4DNESCOQ5YRS\", \"4DNESCMX7L58\", \"4DNESC2DEQIJ\",\n",
    "    \"4DNESAL82BWY\", \"4DNESAGG7EUC\", \"4DNES8IIWFGK\", \"4DNES7ODZ4MZ\",\n",
    "    \"4DNES6GZ8UJF\", \"4DNES54YB6TQ\", \"4DNES4GDH4BG\", \"4DNES4296C5Q\",\n",
    "    \"4DNES3QAGOZZ\", \"4DNES3JX38V5\", \"4DNES2R6PUEK\", \"4DNES2M5JIGV\",\n",
    "    \"4DNES25ABNZ1\", \"4DNES21D8SP8\", \"4DNES1ZEJNRU\", \"4DNES1TMKQAN\",\n",
    "    \"4DNES1ONB8TD\", \"4DNES1INHSG7\", \"4DNES14CNC1I\", \"4DNESZW7OOTL\",\n",
    "    \"4DNESZNSYMTQ\", \"4DNESYX7AQRY\", \"4DNESX75DD7R\", \"4DNESWST3UBH\",\n",
    "    \"4DNESW1SPPTD\", \"4DNESVL4N9CD\", \"4DNESV11RYSF\", \"4DNESSSDVO27\",\n",
    "    \"4DNESPDEZNWX\", \"4DNESOLVRKBM\", \"4DNESOL9JVE2\", \"4DNESODGV2V2\",\n",
    "    \"4DNESNZZR2VD\", \"4DNESNYBDSLY\", \"4DNESNMAAN97\", \"4DNESN49VY8X\",\n",
    "    \"4DNESMU2MA2G\", \"4DNESKKSKG7Y\", \"4DNESJV9TH8Q\", \"4DNESJ9SIAV5\",\n",
    "    \"4DNESJ98FIW5\", \"4DNESJ7S5NDJ\", \"4DNESH5YI3CM\", \"4DNESH4UTRNL\",\n",
    "    \"4DNESG8VCWA4\"\n",
    "]"
   ]
  },
  {
   "cell_type": "code",
   "execution_count": 60,
   "id": "2f1635ed",
   "metadata": {},
   "outputs": [
    {
     "data": {
      "text/plain": [
       "49"
      ]
     },
     "execution_count": 60,
     "metadata": {},
     "output_type": "execute_result"
    }
   ],
   "source": [
    "len(accessions)"
   ]
  },
  {
   "cell_type": "code",
   "execution_count": 61,
   "id": "eb7df28b",
   "metadata": {},
   "outputs": [],
   "source": [
    "for acc in accessions:\n",
    "    sample_info = []\n",
    "    metadata = ff_utils.get_metadata(acc, key=key)\n",
    "    sample_info.append(metadata[\"lab\"][\"display_title\"])\n",
    "    #sample_info.append(metadata[\"study\"])\n",
    "    sample_info.append(metadata[\"accession\"])\n",
    "    sample_info.append(metadata[\"condition\"])\n",
    "    sample_info.append(metadata[\"description\"])\n",
    "    sample_info.append(metadata[\"public_release\"])\n",
    "\n",
    "    for file in metadata[\"processed_files\"]:\n",
    "        if file['file_type_detailed'] == \"contact list-combined (pairs)\":\n",
    "            sample_info.append(file[\"quality_metric\"][\"Total reads\"])\n",
    "\n",
    "    for file in metadata[\"processed_files\"]:\n",
    "        if file['file_type_detailed'] == \"contact matrix (hic)\":\n",
    "            sample_info.append(file[\"accession\"])\n",
    "            sample_info.append(file[\"genome_assembly\"])\n",
    "            sample_info.append(file[\"track_and_facet_info\"][\"experiment_type\"])\n",
    "            sample_info.append(file[\"track_and_facet_info\"][\"assay_info\"])\n",
    "            sample_info.append(file[\"track_and_facet_info\"][\"biosource_name\"])\n",
    "    data.append(sample_info)"
   ]
  },
  {
   "cell_type": "code",
   "execution_count": 65,
   "id": "393b9a56",
   "metadata": {},
   "outputs": [],
   "source": [
    "df = pd.DataFrame(data)\n",
    "cols = [\"display_title\", \"experiment_accession\", \"condition\", \"description\", \"public_release_date\", \"total_reads\", \"contact_matrix_accession\", \"genome\", \"experiment_type\", \"assay_info\", \"biosource_name\"]\n",
    "df.columns = [\"display_title\", \"experiment_accession\", \"condition\", \"description\", \"public_release_date\", \"total_reads\", \"contact_matrix_accession\", \"genome\", \"experiment_type\", \"assay_info\", \"biosource_name\"]"
   ]
  },
  {
   "cell_type": "code",
   "execution_count": 67,
   "id": "fc4772a6",
   "metadata": {},
   "outputs": [],
   "source": [
    "df.to_excel(\"4DN_Hic_Metadata.xlsx\", index = False)"
   ]
  },
  {
   "cell_type": "code",
   "execution_count": null,
   "id": "8c7fb1f9",
   "metadata": {},
   "outputs": [],
   "source": []
  }
 ],
 "metadata": {
  "kernelspec": {
   "display_name": "hichip-db",
   "language": "python",
   "name": "hichip-db"
  },
  "language_info": {
   "codemirror_mode": {
    "name": "ipython",
    "version": 3
   },
   "file_extension": ".py",
   "mimetype": "text/x-python",
   "name": "python",
   "nbconvert_exporter": "python",
   "pygments_lexer": "ipython3",
   "version": "3.9.12"
  }
 },
 "nbformat": 4,
 "nbformat_minor": 5
}
