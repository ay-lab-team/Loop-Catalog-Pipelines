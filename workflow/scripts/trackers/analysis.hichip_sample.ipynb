{
 "cells": [
  {
   "cell_type": "code",
   "execution_count": 110,
   "id": "08430883",
   "metadata": {},
   "outputs": [],
   "source": [
    "import os\n",
    "import re\n",
    "import pandas as pd\n",
    "import glob"
   ]
  },
  {
   "cell_type": "code",
   "execution_count": 111,
   "id": "35a8ca27",
   "metadata": {},
   "outputs": [],
   "source": [
    "# move over to the project root directory\n",
    "project_dir = os.getcwd().rsplit('hichip-db-loop-calling', 1)[0]\n",
    "project_dir = os.path.join(project_dir, 'hichip-db-loop-calling/')\n",
    "os.chdir(project_dir)"
   ]
  },
  {
   "cell_type": "code",
   "execution_count": 112,
   "id": "ed76387a",
   "metadata": {},
   "outputs": [],
   "source": [
    "fns = glob.glob('results/fastqs/stats/*/*.num_reads.txt')"
   ]
  },
  {
   "cell_type": "code",
   "execution_count": 115,
   "id": "c514309e",
   "metadata": {},
   "outputs": [],
   "source": [
    "def get_num_from_file(file):\n",
    "    with open(file) as fr:\n",
    "        num = int(fr.read())\n",
    "    return(num)"
   ]
  },
  {
   "cell_type": "code",
   "execution_count": 116,
   "id": "6c4a9ba0",
   "metadata": {},
   "outputs": [],
   "source": [
    "read_counts = []\n",
    "for fn in fns:\n",
    "        \n",
    "    file_info = fn.split('/')\n",
    "    sample_name = file_info[3]\n",
    "    source = 'dbgap' if sample_name.split('.')[1].startswith('phs') else 'geo'\n",
    "    srr_id = file_info[4].rsplit('.', 3)[1]\n",
    "\n",
    "    # get the number of reads\n",
    "    num_reads = get_num_from_file(fn)\n",
    "    read_counts.append([sample_name, srr_id, num_reads])"
   ]
  },
  {
   "cell_type": "code",
   "execution_count": 117,
   "id": "738c346f",
   "metadata": {},
   "outputs": [],
   "source": [
    "read_counts = pd.DataFrame(read_counts)\n",
    "read_counts.columns = ['std_sample_name', 'srr_id', 'read_counts']"
   ]
  },
  {
   "cell_type": "code",
   "execution_count": 118,
   "id": "541076a0",
   "metadata": {},
   "outputs": [
    {
     "data": {
      "text/html": [
       "<div>\n",
       "<style scoped>\n",
       "    .dataframe tbody tr th:only-of-type {\n",
       "        vertical-align: middle;\n",
       "    }\n",
       "\n",
       "    .dataframe tbody tr th {\n",
       "        vertical-align: top;\n",
       "    }\n",
       "\n",
       "    .dataframe thead th {\n",
       "        text-align: right;\n",
       "    }\n",
       "</style>\n",
       "<table border=\"1\" class=\"dataframe\">\n",
       "  <thead>\n",
       "    <tr style=\"text-align: right;\">\n",
       "      <th></th>\n",
       "      <th>std_sample_name</th>\n",
       "      <th>srr_id</th>\n",
       "      <th>read_counts</th>\n",
       "    </tr>\n",
       "  </thead>\n",
       "  <tbody>\n",
       "    <tr>\n",
       "      <th>0</th>\n",
       "      <td>293T-PDS.GSE128106.Homo_Sapiens.YY1.b1</td>\n",
       "      <td>SRR8707617</td>\n",
       "      <td>50913880</td>\n",
       "    </tr>\n",
       "    <tr>\n",
       "      <th>1</th>\n",
       "      <td>293T-PDS.GSE128106.Homo_Sapiens.YY1.b1</td>\n",
       "      <td>SRR8707618</td>\n",
       "      <td>40894724</td>\n",
       "    </tr>\n",
       "    <tr>\n",
       "      <th>2</th>\n",
       "      <td>GM12878.GSE80820.Homo_Sapiens.SMC1A.b1</td>\n",
       "      <td>SRR3467175</td>\n",
       "      <td>320798100</td>\n",
       "    </tr>\n",
       "    <tr>\n",
       "      <th>3</th>\n",
       "      <td>GM12878.GSE80820.Homo_Sapiens.SMC1A.b1</td>\n",
       "      <td>SRR3467176</td>\n",
       "      <td>213058076</td>\n",
       "    </tr>\n",
       "    <tr>\n",
       "      <th>4</th>\n",
       "      <td>MyLa.GSE137906.Homo_Sapiens.H3K27ac.b1</td>\n",
       "      <td>SRR10168922</td>\n",
       "      <td>449436074</td>\n",
       "    </tr>\n",
       "    <tr>\n",
       "      <th>...</th>\n",
       "      <td>...</td>\n",
       "      <td>...</td>\n",
       "      <td>...</td>\n",
       "    </tr>\n",
       "    <tr>\n",
       "      <th>992</th>\n",
       "      <td>H9.GSE105028.Homo_Sapiens.CTCF.b1</td>\n",
       "      <td>SRR6206793</td>\n",
       "      <td>43893780</td>\n",
       "    </tr>\n",
       "    <tr>\n",
       "      <th>993</th>\n",
       "      <td>H9.GSE105028.Homo_Sapiens.CTCF.b1</td>\n",
       "      <td>SRR6206795</td>\n",
       "      <td>83483476</td>\n",
       "    </tr>\n",
       "    <tr>\n",
       "      <th>994</th>\n",
       "      <td>Naive_B_1815-RH-1.phs001703v3p1.Homo_Sapiens.H...</td>\n",
       "      <td>Donor3_Rep3_T1</td>\n",
       "      <td>16865334</td>\n",
       "    </tr>\n",
       "    <tr>\n",
       "      <th>995</th>\n",
       "      <td>Naive_B_1815-RH-1.phs001703v3p1.Homo_Sapiens.H...</td>\n",
       "      <td>Donor3_Rep3_T2</td>\n",
       "      <td>16905092</td>\n",
       "    </tr>\n",
       "    <tr>\n",
       "      <th>996</th>\n",
       "      <td>Monocyte_1815-RH-1.phs001703v3p1.Homo_Sapiens....</td>\n",
       "      <td>Donor3_Rep1</td>\n",
       "      <td>336276052</td>\n",
       "    </tr>\n",
       "  </tbody>\n",
       "</table>\n",
       "<p>997 rows × 3 columns</p>\n",
       "</div>"
      ],
      "text/plain": [
       "                                       std_sample_name          srr_id  \\\n",
       "0               293T-PDS.GSE128106.Homo_Sapiens.YY1.b1      SRR8707617   \n",
       "1               293T-PDS.GSE128106.Homo_Sapiens.YY1.b1      SRR8707618   \n",
       "2               GM12878.GSE80820.Homo_Sapiens.SMC1A.b1      SRR3467175   \n",
       "3               GM12878.GSE80820.Homo_Sapiens.SMC1A.b1      SRR3467176   \n",
       "4               MyLa.GSE137906.Homo_Sapiens.H3K27ac.b1     SRR10168922   \n",
       "..                                                 ...             ...   \n",
       "992                  H9.GSE105028.Homo_Sapiens.CTCF.b1      SRR6206793   \n",
       "993                  H9.GSE105028.Homo_Sapiens.CTCF.b1      SRR6206795   \n",
       "994  Naive_B_1815-RH-1.phs001703v3p1.Homo_Sapiens.H...  Donor3_Rep3_T1   \n",
       "995  Naive_B_1815-RH-1.phs001703v3p1.Homo_Sapiens.H...  Donor3_Rep3_T2   \n",
       "996  Monocyte_1815-RH-1.phs001703v3p1.Homo_Sapiens....     Donor3_Rep1   \n",
       "\n",
       "     read_counts  \n",
       "0       50913880  \n",
       "1       40894724  \n",
       "2      320798100  \n",
       "3      213058076  \n",
       "4      449436074  \n",
       "..           ...  \n",
       "992     43893780  \n",
       "993     83483476  \n",
       "994     16865334  \n",
       "995     16905092  \n",
       "996    336276052  \n",
       "\n",
       "[997 rows x 3 columns]"
      ]
     },
     "execution_count": 118,
     "metadata": {},
     "output_type": "execute_result"
    }
   ],
   "source": [
    "read_counts"
   ]
  },
  {
   "cell_type": "code",
   "execution_count": 119,
   "id": "ebdcd31c",
   "metadata": {},
   "outputs": [],
   "source": [
    "summary_fn = 'tables/fastq.read_counts.tsv'\n",
    "read_counts.to_csv(summary_fn, index=False, sep='\\t')"
   ]
  },
  {
   "cell_type": "code",
   "execution_count": null,
   "id": "b67cebb3",
   "metadata": {},
   "outputs": [],
   "source": []
  },
  {
   "cell_type": "code",
   "execution_count": null,
   "id": "c37fc019",
   "metadata": {},
   "outputs": [],
   "source": []
  },
  {
   "cell_type": "code",
   "execution_count": null,
   "id": "6044265d",
   "metadata": {},
   "outputs": [],
   "source": []
  }
 ],
 "metadata": {
  "kernelspec": {
   "display_name": "(hichip-db)",
   "language": "python",
   "name": "hichip-db"
  },
  "language_info": {
   "codemirror_mode": {
    "name": "ipython",
    "version": 3
   },
   "file_extension": ".py",
   "mimetype": "text/x-python",
   "name": "python",
   "nbconvert_exporter": "python",
   "pygments_lexer": "ipython3",
   "version": "3.9.10"
  }
 },
 "nbformat": 4,
 "nbformat_minor": 5
}
