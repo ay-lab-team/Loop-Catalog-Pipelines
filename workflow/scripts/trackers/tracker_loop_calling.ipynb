{
 "cells": [
  {
   "cell_type": "code",
   "execution_count": null,
   "metadata": {},
   "outputs": [],
   "source": [
    "import glob\n",
    "import os\n",
    "import pandas as pd"
   ]
  },
  {
   "cell_type": "code",
   "execution_count": null,
   "metadata": {},
   "outputs": [],
   "source": [
    "# list of GSE IDs of processed ChIP-seq samples, or GSE IDs without any ChIP-seq samples\n",
    "# this list is used to determine which HiChIP samples do not have matching ChIP-seq data\n",
    "\n",
    "# Note: the GSE IDs are those corresponding to the matching HiChIP data, not necessarily the IDs with ChIP-seq data themselves\n",
    "matching_chipseq_human = [\"GSE136090\", \"GSE154512\", \"GSE116193\", \"GSE105028\", \"GSE128106\", \"GSE147646\"]\n",
    "matching_chipseq_human.extend([\"GSE179544\", \"GSE108869\", \"GSE117888\", \"GSE116869\", \"GSE116495\", \"GSE115492\"])\n",
    "matching_chipseq_human.extend([\"GSE111537\", \"GSE131054\", \"GSE131651\", \"GSE136629\", \"GSE137849\", \"GSE149420\"])\n",
    "matching_chipseq_human.extend([\"GSE151001\", \"GSE154513\", \"GSE156650\", \"GSE159985\", \"GSE157107\", \"GSE157381\"])\n",
    "matching_chipseq_human.extend([\"GSE165207\", \"GSE173843\", \"GSE179666\", \"GSE180194\", \"GSE97585\", \"GSE166232\"])\n",
    "matching_chipseq_human.extend([\"GSE165303\", \"GSE99519\", \"phs001703v3p1\", \"phs001703v4p1\"])\n",
    "\n",
    "no_matching_chipseq_human = [\"GSE178598\", \"GSE101498\", \"GSE147854\", \"GSE151193\", \"GSE179755\", \"GSE173699\"]\n",
    "no_matching_chipseq_human.extend([\"GSE92881\", \"GSE100856\", \"GSE111930\", \"GSE115524\", \"GSE115896\", \"GSE116872\"])\n",
    "no_matching_chipseq_human.extend([\"GSE116875\", \"GSE126792\", \"GSE137168\", \"GSE137906\", \"GSE137936\", \"GSE139466\"])\n",
    "no_matching_chipseq_human.extend([\"GSE148958\", \"GSE152900\", \"GSE155184\", \"GSE155328\", \"GSE156772\"])\n",
    "no_matching_chipseq_human.extend([\"GSE158642\", \"GSE168881\", \"GSE171591\", \"GSE173871\", \"GSE181971\", \"GSE183797\"])\n",
    "no_matching_chipseq_human.extend([\"GSE188380\", \"GSE196235\", \"GSE80820\", \"GSE150906\", \"GSE133227\"])\n",
    "no_matching_chipseq_human.extend([\"GSE120294\", \"GSE147672\"])\n",
    "\n",
    "matching_chipseq_nonhuman = [\"GSE112717\", \"GSE141113\", \"GSE110898\", \"GSE141847\", \"GSE142004\", \"GSE159629\"]\n",
    "matching_chipseq_nonhuman.extend([\"GSE178344\", \"GSE147919\"])\n",
    "\n",
    "no_matching_chipseq_nonhuman = [\"GSE101498\", \"GSE148691\", \"GSE112176\", \"GSE113339\", \"GSE115524\"]\n",
    "no_matching_chipseq_nonhuman.extend([\"GSE121671\", \"GSE126362\", \"GSE135296\", \"GSE148691\", \"GSE150536\"])\n",
    "no_matching_chipseq_nonhuman.extend([\"GSE150906\", \"GSE153884\", \"GSE157666\", \"GSE160656\", \"GSE162617\"])\n",
    "no_matching_chipseq_nonhuman.extend([\"GSE189442\", \"GSE192387\", \"GSE193079\", \"GSE194068\", \"GSE80820\"])\n",
    "no_matching_chipseq_nonhuman.extend([\"GSE99519\", \"GSE145793\", \"GSE166177\"])\n",
    "\n",
    "\n",
    "processed_gse_ids = matching_chipseq_human + no_matching_chipseq_human + matching_chipseq_nonhuman + no_matching_chipseq_nonhuman"
   ]
  },
  {
   "cell_type": "code",
   "execution_count": null,
   "metadata": {},
   "outputs": [],
   "source": [
    "# Check if a particular ChIP-seq GSE ID has been processed\n",
    "gse_id = \"\"\n",
    "\n",
    "if gse_id in matching_chipseq_human:\n",
    "    print(gse_id, \"has matching human data.\")\n",
    "if gse_id in no_matching_chipseq_human:\n",
    "    print(gse_id, \"does not have matching human data.\")\n",
    "if gse_id in matching_chipseq_nonhuman:\n",
    "    print(gse_id, \"has matching nonhuman data.\")\n",
    "if gse_id in no_matching_chipseq_nonhuman:\n",
    "    print(gse_id, \"does not have matching nonhuman data.\")"
   ]
  },
  {
   "cell_type": "markdown",
   "metadata": {},
   "source": [
    "#### Function to generate pandas dataframe"
   ]
  },
  {
   "cell_type": "code",
   "execution_count": null,
   "metadata": {},
   "outputs": [],
   "source": [
    "# Create a dataframe with the following columns:\n",
    "# 1) Sample Name\n",
    "# 2) HiC-Pro .allValidPairs file\n",
    "# 3) Matching ChIP-seq peaks (if it exists)\n",
    "# 4) Matching FitHiChIP peaks (if it has been processed yet)\n",
    "# 5) FitHiChIP Loop Calling from ChIPseq Peaks Complete?\n",
    "# 6) FitHiChIP Loop Calling from FitHiChIP Peaks Complete?\n",
    "# 7) FitHiChIP Loop Calling from HiChIP-Peaks Complete?\n",
    "# 8) Number of 5kb loops from HICCUPS\n",
    "# 9) Number of 10kb loops from HICCUPS\n",
    "# 10) Number of 25kb loops from HICCUPS\n",
    "\n",
    "def generate_df():\n",
    "    data = []\n",
    "    \n",
    "    hicpro_path1 = config.LOOP_CATALOG_DIR + \"results/hicpro/\"\n",
    "    hicpro_path1 += \"*/hic_results/data/*/*.allValidPairs\"\n",
    "\n",
    "    \n",
    "    #hicpro_path2 = \"/mnt/BioAdHoc/Groups/vd-ay/hichip-db-loop-calling/results/hicpro/\"\n",
    "    #hicpro_path2 += \"*/hic_results/data/*/*.allValidPairs\"\n",
    "    \n",
    "    hicpro_paths = glob.glob(hicpro_path1) #+ glob.glob(hicpro_path2)\n",
    "    \n",
    "    # iterate through each HiC-Pro output directory\n",
    "    for fn in hicpro_paths:\n",
    "        \n",
    "        sample_name = fn.split('/')[9]\n",
    "        if sample_name==\"hic_results\":\n",
    "            sample_name = fn.split('/')[8]\n",
    "        \n",
    "        # IMPORTANT: Replace the last character of the sample name with 1 (so it is .b1 to match with the ChIP-seq loops)\n",
    "        sample_name_chipseq = sample_name[:-1] + \"1\"\n",
    "        \n",
    "        # set the path of the HiC-Pro output folder\n",
    "        hicpro_output=fn\n",
    "        \n",
    "        chipseq_peak_file=\"Not processed or not available\"\n",
    "        chipline_path=config.LOOP_CATALOG_DIR + \"results/peaks\"\n",
    "        \n",
    "        # check whether a folder matching sample_name exists in the merged_chipline folder\n",
    "        merged_chipline_path = chipline_path + \"/merged_chipline/\" + sample_name_chipseq\n",
    "        if os.path.exists(merged_chipline_path):\n",
    "            chipseq_peak_file=merged_chipline_path + \"/FINAL_IDR_Peaks_FDR0.05.txt\"\n",
    "        \n",
    "        # check whether a folder matching sample_name exists in the chipline folder\n",
    "        chipline_path += \"/chipline/\" + sample_name_chipseq + \"/MACS2_Ext*/\" + sample_name_chipseq + \".macs2_peaks.narrowPeak_Q0.01filt\"\n",
    "        if chipseq_peak_file==\"Not processed or not available\" and len(glob.glob(chipline_path))>0:\n",
    "            chipseq_peak_file = glob.glob(chipline_path)[0]\n",
    "            \n",
    "        # check if the matching ChIP-seq sample does not exist\n",
    "        if any(gse_id in sample_name_chipseq for gse_id in processed_gse_ids) and not os.path.exists(chipseq_peak_file):\n",
    "            chipseq_peak_file = \"Not available\"\n",
    "            \n",
    "        \n",
    "        # check whether a folder matching the sample name exists in the fithichip folder\n",
    "        fithichip_peak_file_hichip=\"Not processed\"\n",
    "        fithichip_peak_file_chipseq=\"Not processed\"\n",
    "        \n",
    "        fithichip_peak_path=config.LOOP_CATALOG_DIR + \"results/peaks/fithichip/\" + sample_name\n",
    "        \n",
    "        fithichip_peak_path_hichip = fithichip_peak_path + \"_hichip-peaks.peaks\"\n",
    "        \n",
    "        if os.path.exists(fithichip_peak_path):\n",
    "            fithichip_peak_file = fithichip_peak_path # + \"/MACS2_ExtSize/out_macs2_peaks.narrowPeak\"\n",
    "        \n",
    "        \n",
    "        \n",
    "        # check whether loop calling for this sample with FitHiChIP is complete\n",
    "        fithichip_loops_chipseq_peaks_complete = \"No\"\n",
    "        fithichip_loops_fithichip_peaks_complete = \"No\"\n",
    "        fithichip_loops_hichip_peaks_complete = \"No\"\n",
    "        fithichip_loops_path=config.LOOP_CATALOG_DIR + \"results/loops/fithichip/\" + sample_name\n",
    "        \n",
    "        fithichip_loops_chipseq_peaks_path = fithichip_loops_path + \"_chipseq.peaks\"\n",
    "        fithichip_loops_fithichip_peaks_path = fithichip_loops_path + \"_fithichip.peaks\"\n",
    "        fithichip_loops_hichip_peaks_path = fithichip_loops_path + \"_hichip-peaks.peaks\"\n",
    "        \n",
    "        if os.path.exists(fithichip_loops_chipseq_peaks_path):\n",
    "            fithichip_loops_chipseq_peaks_complete = \"Yes\"\n",
    "        if os.path.exists(fithichip_loops_fithichip_peaks_path):\n",
    "            fithichip_loops_fithichip_peaks_complete = \"Yes\"\n",
    "        if os.path.exists(fithichip_loops_hichip_peaks_path):\n",
    "            fithichip_loops_hichip_peaks_complete = \"Yes\"\n",
    "        \n",
    "        \n",
    "        # check the number of loops from HICCUPS at each resolution\n",
    "        hiccups_loops_path=config.LOOP_CATALOG_DIR + \"results/loops/hiccups/\" + sample_name\n",
    "        \n",
    "        hiccups_5000_numLoops=\"Not processed\"\n",
    "        hiccups_10000_numLoops=\"Not processed\"\n",
    "        hiccups_25000_numLoops=\"Not processed\"\n",
    "        if os.path.exists(hiccups_loops_path):\n",
    "            hiccups_loops_5000_path = hiccups_loops_path + \"/postprocessed_pixels_5000.bedpe\"\n",
    "            hiccups_loops_10000_path = hiccups_loops_path + \"/postprocessed_pixels_10000.bedpe\"\n",
    "            hiccups_loops_25000_path = hiccups_loops_path + \"/postprocessed_pixels_25000.bedpe\"\n",
    "            \n",
    "            hiccups_5000_numLoops = sum(1 for line in open(hiccups_loops_5000_path)) - 2\n",
    "            hiccups_10000_numLoops = sum(1 for line in open(hiccups_loops_10000_path)) - 2\n",
    "            hiccups_25000_numLoops = sum(1 for line in open(hiccups_loops_25000_path)) - 2\n",
    "        \n",
    "        \n",
    "        # add all the information for this sample to the 2D array\n",
    "        sample_data = [sample_name, hicpro_output, chipseq_peak_file, fithichip_peak_file]\n",
    "        sample_data.extend([fithichip_loops_chipseq_peaks_complete, fithichip_loops_fithichip_peaks_complete, fithichip_loops_hichip_peaks_complete])\n",
    "        sample_data.extend([hiccups_5000_numLoops, hiccups_10000_numLoops, hiccups_25000_numLoops])\n",
    "        \n",
    "        data.append(sample_data)\n",
    "        \n",
    "    df = pd.DataFrame(data)\n",
    "    return df\n",
    "    "
   ]
  },
  {
   "cell_type": "markdown",
   "metadata": {},
   "source": [
    "#### Display the pandas dataframe"
   ]
  },
  {
   "cell_type": "code",
   "execution_count": null,
   "metadata": {
    "scrolled": false
   },
   "outputs": [],
   "source": [
    "# In the dataframe, \"Not available\" indicates that the necessary input to create the file does not exist\n",
    "# \"Not processed\" indicates that the necessary input to create the file exists, but has not been processed yet\n",
    "\n",
    "df = generate_df()\n",
    "\n",
    "columns = [\"Sample Name\", \"HiC-Pro Valid Pairs Path\", \"ChIP-seq Peaks Path\", \"FitHiChIP Peaks Path\"]\n",
    "columns.extend([\"FitHiChIP Loop Calling from ChIPseq Peaks Complete?\"])\n",
    "columns.extend([\"FitHiChIP Loop Calling from FitHiChIP Peaks Complete?\"])\n",
    "columns.extend([\"FitHiChIP Loop Calling from HiChIP-Peaks Complete?\"])\n",
    "columns.extend([\"Number of Loops from HICCUPS (5kb)\"])\n",
    "columns.extend([\"Number of Loops from HICCUPS (10kb)\", \"Number of Loops from HICCUPS (25kb)\"])\n",
    "\n",
    "df.columns = columns\n",
    "\n",
    "df = df.reset_index(drop=True)\n",
    "df.index += 2\n",
    "\n",
    "with pd.option_context('display.max_rows', None, 'display.max_columns', None):\n",
    "    display(df)"
   ]
  },
  {
   "cell_type": "markdown",
   "metadata": {},
   "source": [
    "#### Check the values for any specific row"
   ]
  },
  {
   "cell_type": "code",
   "execution_count": null,
   "metadata": {},
   "outputs": [],
   "source": [
    "row=170\n",
    "\n",
    "print(\"Sample Name:\", df[\"Sample Name\"][row], \"\\n\")\n",
    "print(\"HiC-Pro Valid Pairs Path:\", df[\"HiC-Pro Valid Pairs Path\"][row], \"\\n\")\n",
    "print(\"ChIP-seq Peaks Path:\", df[\"ChIP-seq Peaks Path\"][row], \"\\n\")\n",
    "print(\"FitHiChIP Peaks Path:\", df[\"FitHiChIP Peaks Path\"][row], \"\\n\")\n",
    "\n",
    "print(\"FitHiChIP Loop Calling from ChIPseq Peaks Complete?\", df[\"FitHiChIP Loop Calling from ChIPseq Peaks Complete?\"][row], \"\\n\")\n",
    "print(\"FitHiChIP Loop Calling from FitHiChIP Peaks Complete?\", df[\"FitHiChIP Loop Calling from FitHiChIP Peaks Complete?\"][row], \"\\n\")\n",
    "print(\"FitHiChIP Loop Calling from HiChIP-Peaks Complete?\", df[\"FitHiChIP Loop Calling from HiChIP-Peaks Complete?\"][row], \"\\n\")\n",
    "\n",
    "print(\"Number of Loops from HICCUPS (5kb):\", df[\"Number of Loops from HICCUPS (5kb)\"][row])\n",
    "print(\"Number of Loops from HICCUPS (10kb):\", df[\"Number of Loops from HICCUPS (10kb)\"][row])\n",
    "print(\"Number of Loops from HICCUPS (25kb):\", df[\"Number of Loops from HICCUPS (25kb)\"][row], \"\\n\")\n"
   ]
  },
  {
   "cell_type": "markdown",
   "metadata": {},
   "source": [
    "#### Output the dataframe as a tsv file"
   ]
  },
  {
   "cell_type": "code",
   "execution_count": null,
   "metadata": {},
   "outputs": [],
   "source": [
    "df2 = df.copy(deep=True)\n",
    "df2.set_index(\"Sample Name\", inplace=True)\n",
    "\n",
    "# set path of file\n",
    "tsv_path = \"../../../results/samplesheets/loop_calling_tracker.tsv\"\n",
    "df2.to_csv(tsv_path, sep=\"\\t\")"
   ]
  },
  {
   "cell_type": "code",
   "execution_count": null,
   "metadata": {},
   "outputs": [],
   "source": []
  }
 ],
 "metadata": {
  "kernelspec": {
   "display_name": "Python 3",
   "language": "python",
   "name": "python3"
  },
  "language_info": {
   "codemirror_mode": {
    "name": "ipython",
    "version": 3
   },
   "file_extension": ".py",
   "mimetype": "text/x-python",
   "name": "python",
   "nbconvert_exporter": "python",
   "pygments_lexer": "ipython3",
   "version": "3.7.3"
  },
  "vscode": {
   "interpreter": {
    "hash": "cfe8eef9ce247989c46bd03923034294134d701d131dd27a6c0e0da1e8ba8f8c"
   }
  }
 },
 "nbformat": 4,
 "nbformat_minor": 5
}
