{
 "cells": [
  {
   "cell_type": "code",
   "execution_count": 1,
   "metadata": {},
   "outputs": [],
   "source": [
    "import os\n",
    "import sys\n",
    "import glob\n",
    "import numpy as np\n",
    "import pandas as pd\n",
    "import config\n",
    "os.chdir(config.LOOP_CATALOG_DIR)\n",
    "pd.set_option('display.max_rows', 1000)\n",
    "pd.set_option('display.max_columns', 1000)\n",
    "pd.set_option('max_colwidth', 400)"
   ]
  },
  {
   "cell_type": "markdown",
   "metadata": {},
   "source": [
    "## Helper Functions"
   ]
  },
  {
   "cell_type": "code",
   "execution_count": 63,
   "metadata": {},
   "outputs": [],
   "source": [
    "def read_out_log(log):\n",
    "    \n",
    "    status = 0\n",
    "    sample_name = 'check'\n",
    "    paired = 'check'\n",
    "\n",
    "    # extract job_id and index\n",
    "    meta = os.path.basename(log)\n",
    "    job_id = meta.split('.')[1]\n",
    "    #job_id = meta[0].replace('o', '')\n",
    "    #index = meta[1]\n",
    "\n",
    "    with open(log, errors='ignore') as fr:\n",
    "        for line in fr:\n",
    "            info = line.strip()\n",
    "            if 'Running' in info and \"16G\" in info:\n",
    "                sample_name = info.split(\"-n\")[1].split(\" -g\")[0]\n",
    "            if 'This sample used' in info:\n",
    "                paired = info.split()[3]\n",
    "            if 'Ended:' in info:\n",
    "                status = 1\n",
    "\n",
    "    #return([index, sample_name, read_length, job_id, status])\n",
    "    return([sample_name, paired, job_id, status])"
   ]
  },
  {
   "cell_type": "code",
   "execution_count": 64,
   "metadata": {},
   "outputs": [],
   "source": [
    "def read_error_log(log):\n",
    "    \n",
    "    status = 1\n",
    "    \n",
    "    with open(log, errors='ignore') as fr:\n",
    "        for line in fr:\n",
    "            info = line.strip()\n",
    "            if 'error' in info:\n",
    "                status = 0\n",
    "            if 'Error' in info:\n",
    "                status = 0\n",
    "    \n",
    "    return(status)"
   ]
  },
  {
   "cell_type": "markdown",
   "metadata": {},
   "source": [
    "## Check Logs"
   ]
  },
  {
   "cell_type": "code",
   "execution_count": 65,
   "metadata": {},
   "outputs": [],
   "source": [
    "# create a dataframe of log information\n",
    "output_logs = glob.glob('results/peaks/chipline_v2/logs/run_chipline/run_chipline*.out')\n",
    "log_data = []   \n",
    "for out_log in output_logs:\n",
    "    sample_index = out_log.split('.')[1]\n",
    "    #index, sample_name, read_length, job_id, out_status = read_out_log(out_log)\n",
    "    #print(out_log)\n",
    "    sample_name, paired, job_id, out_status = read_out_log(out_log)\n",
    "    error_log = [log for log in glob.glob('results/peaks/chipline_v2/logs/run_chipline/run_chipline*.err') if log.split(\"/\")[5].split('.')[1] == sample_index][0]\n",
    "    error_status = read_error_log(error_log)\n",
    "    #log_data.append([index, sample_name, read_length, job_id, out_status, error_status, os.path.basename(out_log)])\n",
    "    log_data.append([sample_name, paired, job_id, out_status, error_status, os.path.basename(out_log)])\n",
    "log_df = pd.DataFrame(log_data)\n",
    "#log_df.columns = ['sample_index', 'std_sample_name', 'read_length', 'job_id', 'out_status', 'error_status', 'log']\n",
    "log_df.columns = ['std_sample_name', 'paired', 'job_id', 'out_status', 'error_status', 'log']"
   ]
  },
  {
   "cell_type": "code",
   "execution_count": 66,
   "metadata": {},
   "outputs": [
    {
     "data": {
      "text/html": [
       "<div>\n",
       "<style scoped>\n",
       "    .dataframe tbody tr th:only-of-type {\n",
       "        vertical-align: middle;\n",
       "    }\n",
       "\n",
       "    .dataframe tbody tr th {\n",
       "        vertical-align: top;\n",
       "    }\n",
       "\n",
       "    .dataframe thead th {\n",
       "        text-align: right;\n",
       "    }\n",
       "</style>\n",
       "<table border=\"1\" class=\"dataframe\">\n",
       "  <thead>\n",
       "    <tr style=\"text-align: right;\">\n",
       "      <th></th>\n",
       "      <th>std_sample_name</th>\n",
       "      <th>paired</th>\n",
       "      <th>job_id</th>\n",
       "      <th>out_status</th>\n",
       "      <th>error_status</th>\n",
       "      <th>log</th>\n",
       "    </tr>\n",
       "  </thead>\n",
       "  <tbody>\n",
       "    <tr>\n",
       "      <th>0</th>\n",
       "      <td>BMDC-CTCF_cKO-LPS.GSE185880.Mus_Musculus.H3K27ac.b1</td>\n",
       "      <td>paired-end</td>\n",
       "      <td>8805532</td>\n",
       "      <td>1</td>\n",
       "      <td>1</td>\n",
       "      <td>run_chipline.8805532.8.out</td>\n",
       "    </tr>\n",
       "    <tr>\n",
       "      <th>1</th>\n",
       "      <td>BMDC-CTCF_cKO.GSE185880.Mus_Musculus.H3K27ac.b1</td>\n",
       "      <td>paired-end</td>\n",
       "      <td>8805532</td>\n",
       "      <td>1</td>\n",
       "      <td>1</td>\n",
       "      <td>run_chipline.8805532.7.out</td>\n",
       "    </tr>\n",
       "    <tr>\n",
       "      <th>2</th>\n",
       "      <td>BMDC-JSH-JSH-LPS.GSE185880.Mus_Musculus.H3K27ac.b1</td>\n",
       "      <td>paired-end</td>\n",
       "      <td>8816730</td>\n",
       "      <td>1</td>\n",
       "      <td>1</td>\n",
       "      <td>run_chipline.8816730.3.out</td>\n",
       "    </tr>\n",
       "    <tr>\n",
       "      <th>3</th>\n",
       "      <td>BMDC-JSH.GSE185880.Mus_Musculus.H3K27ac.b1</td>\n",
       "      <td>paired-end</td>\n",
       "      <td>8816730</td>\n",
       "      <td>1</td>\n",
       "      <td>1</td>\n",
       "      <td>run_chipline.8816730.2.out</td>\n",
       "    </tr>\n",
       "    <tr>\n",
       "      <th>4</th>\n",
       "      <td>BMDC-LPS.GSE185880.Mus_Musculus.H3K27ac.b1</td>\n",
       "      <td>paired-end</td>\n",
       "      <td>8816730</td>\n",
       "      <td>1</td>\n",
       "      <td>1</td>\n",
       "      <td>run_chipline.8816730.4.out</td>\n",
       "    </tr>\n",
       "    <tr>\n",
       "      <th>5</th>\n",
       "      <td>BMDC-WT-LPS.GSE185880.Mus_Musculus.H3K27ac.b1</td>\n",
       "      <td>paired-end</td>\n",
       "      <td>8805532</td>\n",
       "      <td>1</td>\n",
       "      <td>1</td>\n",
       "      <td>run_chipline.8805532.13.out</td>\n",
       "    </tr>\n",
       "    <tr>\n",
       "      <th>6</th>\n",
       "      <td>BMDC-WT.GSE185880.Mus_Musculus.H3K27ac.b1</td>\n",
       "      <td>paired-end</td>\n",
       "      <td>8805532</td>\n",
       "      <td>1</td>\n",
       "      <td>1</td>\n",
       "      <td>run_chipline.8805532.12.out</td>\n",
       "    </tr>\n",
       "    <tr>\n",
       "      <th>7</th>\n",
       "      <td>BMDC.GSE185880.Mus_Musculus.H3K27ac.b1</td>\n",
       "      <td>paired-end</td>\n",
       "      <td>8816729</td>\n",
       "      <td>1</td>\n",
       "      <td>1</td>\n",
       "      <td>run_chipline.8816729.1.out</td>\n",
       "    </tr>\n",
       "    <tr>\n",
       "      <th>8</th>\n",
       "      <td>CD4N_merged_donors.phs001703v3p1.Homo_Sapiens.H3K27ac.b1</td>\n",
       "      <td>single-end</td>\n",
       "      <td>8815742</td>\n",
       "      <td>1</td>\n",
       "      <td>1</td>\n",
       "      <td>run_chipline.8815742.1.out</td>\n",
       "    </tr>\n",
       "    <tr>\n",
       "      <th>9</th>\n",
       "      <td>CD8N_merged_donors.phs001703v3p1.Homo_Sapiens.H3K27ac.b1</td>\n",
       "      <td>single-end</td>\n",
       "      <td>8815743</td>\n",
       "      <td>1</td>\n",
       "      <td>1</td>\n",
       "      <td>run_chipline.8815743.2.out</td>\n",
       "    </tr>\n",
       "    <tr>\n",
       "      <th>10</th>\n",
       "      <td>COLO320-DM.GSE159972.Homo_Sapiens.H3K27ac.b1_kyratest</td>\n",
       "      <td>paired-end</td>\n",
       "      <td>8805190</td>\n",
       "      <td>1</td>\n",
       "      <td>1</td>\n",
       "      <td>run_chipline.8805190.87.out</td>\n",
       "    </tr>\n",
       "    <tr>\n",
       "      <th>11</th>\n",
       "      <td>HCT116-AuxinNeg.GSE179545.Homo_Sapiens.RNA-Pol-II.b1</td>\n",
       "      <td>paired-end</td>\n",
       "      <td>8805529</td>\n",
       "      <td>1</td>\n",
       "      <td>1</td>\n",
       "      <td>run_chipline.8805529.120.out</td>\n",
       "    </tr>\n",
       "    <tr>\n",
       "      <th>12</th>\n",
       "      <td>HCT116-AuxinPos.GSE179545.Homo_Sapiens.RNA-Pol-II.b1</td>\n",
       "      <td>paired-end</td>\n",
       "      <td>8805529</td>\n",
       "      <td>1</td>\n",
       "      <td>1</td>\n",
       "      <td>run_chipline.8805529.121.out</td>\n",
       "    </tr>\n",
       "    <tr>\n",
       "      <th>13</th>\n",
       "      <td>Mono_merged_donors.phs001703v3p1.Homo_Sapiens.H3K27ac.b1</td>\n",
       "      <td>single-end</td>\n",
       "      <td>8815743</td>\n",
       "      <td>1</td>\n",
       "      <td>1</td>\n",
       "      <td>run_chipline.8815743.3.out</td>\n",
       "    </tr>\n",
       "    <tr>\n",
       "      <th>14</th>\n",
       "      <td>NB_merged_donors.phs001703v3p1.Homo_Sapiens.H3K27ac.b1</td>\n",
       "      <td>single-end</td>\n",
       "      <td>8815743</td>\n",
       "      <td>1</td>\n",
       "      <td>1</td>\n",
       "      <td>run_chipline.8815743.4.out</td>\n",
       "    </tr>\n",
       "    <tr>\n",
       "      <th>15</th>\n",
       "      <td>NCM_merged_donors.phs001703v4p1.Homo_Sapiens.H3K27ac.b1</td>\n",
       "      <td>single-end</td>\n",
       "      <td>8815743</td>\n",
       "      <td>1</td>\n",
       "      <td>1</td>\n",
       "      <td>run_chipline.8815743.6.out</td>\n",
       "    </tr>\n",
       "    <tr>\n",
       "      <th>16</th>\n",
       "      <td>NK92-SAHA.GSE227660.Homo_Sapiens.H3K27ac.b1</td>\n",
       "      <td>paired-end</td>\n",
       "      <td>8816730</td>\n",
       "      <td>1</td>\n",
       "      <td>1</td>\n",
       "      <td>run_chipline.8816730.6.out</td>\n",
       "    </tr>\n",
       "    <tr>\n",
       "      <th>17</th>\n",
       "      <td>NK92.GSE227660.Homo_Sapiens.H3K27ac.b1</td>\n",
       "      <td>paired-end</td>\n",
       "      <td>8816730</td>\n",
       "      <td>1</td>\n",
       "      <td>1</td>\n",
       "      <td>run_chipline.8816730.5.out</td>\n",
       "    </tr>\n",
       "    <tr>\n",
       "      <th>18</th>\n",
       "      <td>NK_merged_donors.phs001703v3p1.Homo_Sapiens.H3K27ac.b1</td>\n",
       "      <td>single-end</td>\n",
       "      <td>8815743</td>\n",
       "      <td>1</td>\n",
       "      <td>1</td>\n",
       "      <td>run_chipline.8815743.5.out</td>\n",
       "    </tr>\n",
       "    <tr>\n",
       "      <th>19</th>\n",
       "      <td>NSD2-High-NTKO.GSE131651.Homo_Sapiens.CTCF.b1_kyratest</td>\n",
       "      <td>paired-end</td>\n",
       "      <td>8805528</td>\n",
       "      <td>1</td>\n",
       "      <td>1</td>\n",
       "      <td>run_chipline.8805528.43.out</td>\n",
       "    </tr>\n",
       "    <tr>\n",
       "      <th>20</th>\n",
       "      <td>NSD2-Low-TKO.GSE131651.Homo_Sapiens.CTCF.b1</td>\n",
       "      <td>paired-end</td>\n",
       "      <td>8805529</td>\n",
       "      <td>1</td>\n",
       "      <td>1</td>\n",
       "      <td>run_chipline.8805529.44.out</td>\n",
       "    </tr>\n",
       "  </tbody>\n",
       "</table>\n",
       "</div>"
      ],
      "text/plain": [
       "                                              std_sample_name      paired  \\\n",
       "0         BMDC-CTCF_cKO-LPS.GSE185880.Mus_Musculus.H3K27ac.b1  paired-end   \n",
       "1             BMDC-CTCF_cKO.GSE185880.Mus_Musculus.H3K27ac.b1  paired-end   \n",
       "2          BMDC-JSH-JSH-LPS.GSE185880.Mus_Musculus.H3K27ac.b1  paired-end   \n",
       "3                  BMDC-JSH.GSE185880.Mus_Musculus.H3K27ac.b1  paired-end   \n",
       "4                  BMDC-LPS.GSE185880.Mus_Musculus.H3K27ac.b1  paired-end   \n",
       "5               BMDC-WT-LPS.GSE185880.Mus_Musculus.H3K27ac.b1  paired-end   \n",
       "6                   BMDC-WT.GSE185880.Mus_Musculus.H3K27ac.b1  paired-end   \n",
       "7                      BMDC.GSE185880.Mus_Musculus.H3K27ac.b1  paired-end   \n",
       "8    CD4N_merged_donors.phs001703v3p1.Homo_Sapiens.H3K27ac.b1  single-end   \n",
       "9    CD8N_merged_donors.phs001703v3p1.Homo_Sapiens.H3K27ac.b1  single-end   \n",
       "10      COLO320-DM.GSE159972.Homo_Sapiens.H3K27ac.b1_kyratest  paired-end   \n",
       "11       HCT116-AuxinNeg.GSE179545.Homo_Sapiens.RNA-Pol-II.b1  paired-end   \n",
       "12       HCT116-AuxinPos.GSE179545.Homo_Sapiens.RNA-Pol-II.b1  paired-end   \n",
       "13   Mono_merged_donors.phs001703v3p1.Homo_Sapiens.H3K27ac.b1  single-end   \n",
       "14     NB_merged_donors.phs001703v3p1.Homo_Sapiens.H3K27ac.b1  single-end   \n",
       "15    NCM_merged_donors.phs001703v4p1.Homo_Sapiens.H3K27ac.b1  single-end   \n",
       "16                NK92-SAHA.GSE227660.Homo_Sapiens.H3K27ac.b1  paired-end   \n",
       "17                     NK92.GSE227660.Homo_Sapiens.H3K27ac.b1  paired-end   \n",
       "18     NK_merged_donors.phs001703v3p1.Homo_Sapiens.H3K27ac.b1  single-end   \n",
       "19     NSD2-High-NTKO.GSE131651.Homo_Sapiens.CTCF.b1_kyratest  paired-end   \n",
       "20                NSD2-Low-TKO.GSE131651.Homo_Sapiens.CTCF.b1  paired-end   \n",
       "\n",
       "     job_id  out_status  error_status                           log  \n",
       "0   8805532           1             1    run_chipline.8805532.8.out  \n",
       "1   8805532           1             1    run_chipline.8805532.7.out  \n",
       "2   8816730           1             1    run_chipline.8816730.3.out  \n",
       "3   8816730           1             1    run_chipline.8816730.2.out  \n",
       "4   8816730           1             1    run_chipline.8816730.4.out  \n",
       "5   8805532           1             1   run_chipline.8805532.13.out  \n",
       "6   8805532           1             1   run_chipline.8805532.12.out  \n",
       "7   8816729           1             1    run_chipline.8816729.1.out  \n",
       "8   8815742           1             1    run_chipline.8815742.1.out  \n",
       "9   8815743           1             1    run_chipline.8815743.2.out  \n",
       "10  8805190           1             1   run_chipline.8805190.87.out  \n",
       "11  8805529           1             1  run_chipline.8805529.120.out  \n",
       "12  8805529           1             1  run_chipline.8805529.121.out  \n",
       "13  8815743           1             1    run_chipline.8815743.3.out  \n",
       "14  8815743           1             1    run_chipline.8815743.4.out  \n",
       "15  8815743           1             1    run_chipline.8815743.6.out  \n",
       "16  8816730           1             1    run_chipline.8816730.6.out  \n",
       "17  8816730           1             1    run_chipline.8816730.5.out  \n",
       "18  8815743           1             1    run_chipline.8815743.5.out  \n",
       "19  8805528           1             1   run_chipline.8805528.43.out  \n",
       "20  8805529           1             1   run_chipline.8805529.44.out  "
      ]
     },
     "execution_count": 66,
     "metadata": {},
     "output_type": "execute_result"
    }
   ],
   "source": [
    "log_df = log_df.sort_values(by=[\"std_sample_name\"], ascending=True).reset_index(drop=True)\n",
    "log_df"
   ]
  },
  {
   "cell_type": "code",
   "execution_count": 13,
   "metadata": {},
   "outputs": [
    {
     "data": {
      "text/plain": [
       "'Bergeron-697-0hr.GSE188713.Homo_Sapiens.H3K27ac.b1 Bergeron-697-24hr.GSE188713.Homo_Sapiens.H3K27ac.b1 Bergeron-697-6hr.GSE188713.Homo_Sapiens.H3K27ac.b1 HCT116-FOXD2.GSE196920.Homo_Sapiens.H3K27ac.b1 HCT116-FOXD2.GSE196920.Homo_Sapiens.H3K27ac.b2 HCT116-FOXD2.GSE196920.Homo_Sapiens.H3K4me1.b1 HCT116-FOXD2.GSE196920.Homo_Sapiens.H3K4me1.b2 HCT116-FOXD2.GSE196920.Homo_Sapiens.H3K4me1.b3 HCT116-FOXD2.GSE196920.Homo_Sapiens.H3K4me3.b1 HCT116-FOXD2.GSE196920.Homo_Sapiens.H3K4me3.b2 HCT116.GSE196920.Homo_Sapiens.H3K27ac.b1 HCT116.GSE196920.Homo_Sapiens.H3K27ac.b2 HCT116.GSE196920.Homo_Sapiens.H3K4me1.b1 HCT116.GSE196920.Homo_Sapiens.H3K4me1.b2 HCT116.GSE196920.Homo_Sapiens.H3K4me1.b3 HCT116.GSE196920.Homo_Sapiens.H3K4me3.b1 HCT116.GSE196920.Homo_Sapiens.H3K4me3.b2 Nalm6-0hr.GSE188713.Homo_Sapiens.H3K27ac.b1 Nalm6-24hr.GSE188713.Homo_Sapiens.H3K27ac.b1 Nalm6-6hr.GSE188713.Homo_Sapiens.H3K27ac.b1 RD.GSE245495.Homo_Sapiens.H3K27ac.b1 RH4.GSE245495.Homo_Sapiens.H3K27ac.b1 T47D-T0.GSE179666.Homo_Sapiens.PGR.b1 T47D-T30.GSE179666.Homo_Sapiens.PGR.b1 VCaP-AU-4h.GSE171591.Homo_Sapiens.CTCF.b1 VCaP-AU-4h.GSE171591.Homo_Sapiens.H3K27ac.b1 VCaP-AU-4h.GSE171591.Homo_Sapiens.H3K4me3.b1 VCaP-DMSO-4h.GSE171591.Homo_Sapiens.CTCF.b1 VCaP-DMSO-4h.GSE171591.Homo_Sapiens.H3K27ac.b1 VCaP-DMSO-4h.GSE171591.Homo_Sapiens.H3K4me3.b1 YAP-M-tumor.GSE207801.Mus_Musculus.H3K27ac.b1 YAP-M-tumor.GSE207801.Mus_Musculus.H3K27ac.b2 mNSC.GSE207801.Mus_Musculus.H3K27ac.b1 mNSC.GSE207801.Mus_Musculus.H3K27ac.b2'"
      ]
     },
     "execution_count": 13,
     "metadata": {},
     "output_type": "execute_result"
    }
   ],
   "source": [
    "\" \".join(list(log_df[\"std_sample_name\"]))"
   ]
  },
  {
   "cell_type": "markdown",
   "metadata": {},
   "source": [
    "## Identifying problem samples"
   ]
  },
  {
   "cell_type": "code",
   "execution_count": 9,
   "metadata": {
    "scrolled": false
   },
   "outputs": [
    {
     "name": "stdout",
     "output_type": "stream",
     "text": [
      "nubmer of problem samples: 0\n"
     ]
    }
   ],
   "source": [
    "problems = (log_df.out_status != 0) | (log_df.error_status != 0)\n",
    "problems_df = log_df.loc[problems,:]\n",
    "print('nubmer of problem samples:', len(problems_df))"
   ]
  },
  {
   "cell_type": "code",
   "execution_count": 10,
   "metadata": {
    "scrolled": false
   },
   "outputs": [
    {
     "data": {
      "text/html": [
       "<div>\n",
       "<style scoped>\n",
       "    .dataframe tbody tr th:only-of-type {\n",
       "        vertical-align: middle;\n",
       "    }\n",
       "\n",
       "    .dataframe tbody tr th {\n",
       "        vertical-align: top;\n",
       "    }\n",
       "\n",
       "    .dataframe thead th {\n",
       "        text-align: right;\n",
       "    }\n",
       "</style>\n",
       "<table border=\"1\" class=\"dataframe\">\n",
       "  <thead>\n",
       "    <tr style=\"text-align: right;\">\n",
       "      <th></th>\n",
       "      <th>std_sample_name</th>\n",
       "      <th>job_id</th>\n",
       "      <th>out_status</th>\n",
       "      <th>error_status</th>\n",
       "      <th>log</th>\n",
       "    </tr>\n",
       "  </thead>\n",
       "  <tbody>\n",
       "  </tbody>\n",
       "</table>\n",
       "</div>"
      ],
      "text/plain": [
       "Empty DataFrame\n",
       "Columns: [std_sample_name, job_id, out_status, error_status, log]\n",
       "Index: []"
      ]
     },
     "execution_count": 10,
     "metadata": {},
     "output_type": "execute_result"
    }
   ],
   "source": [
    "problems_df.loc[:, ['std_sample_name', 'job_id', 'out_status', 'error_status', 'log']]"
   ]
  },
  {
   "cell_type": "code",
   "execution_count": 24,
   "metadata": {},
   "outputs": [
    {
     "data": {
      "text/plain": [
       "'RD.GSE245495.Homo_Sapiens.H3K27ac.b1 T47D-T0.GSE179666.Homo_Sapiens.PGR.b1 T47D-T30.GSE179666.Homo_Sapiens.PGR.b1 VCaP-AU-4h.GSE171591.Homo_Sapiens.H3K4me3.b1 YAP-M-tumor.GSE207801.Mus_Musculus.H3K27ac.b2 mNSC.GSE207801.Mus_Musculus.H3K27ac.b2'"
      ]
     },
     "execution_count": 24,
     "metadata": {},
     "output_type": "execute_result"
    }
   ],
   "source": [
    "\" \".join(list(problems_df[\"std_sample_name\"]))"
   ]
  },
  {
   "cell_type": "code",
   "execution_count": 42,
   "metadata": {},
   "outputs": [
    {
     "name": "stdout",
     "output_type": "stream",
     "text": [
      "21,22,23,96,97,98\n"
     ]
    }
   ],
   "source": [
    "ids = []\n",
    "ss = \"results/samplesheets/hicpro/current.hicpro.samplesheet.merged.batch2.without_header.tsv\"\n",
    "samples = list(log_df.loc[log_df[\"std_sample_name\"].str.contains(\"phs\")][\"std_sample_name\"])\n",
    "count = 1\n",
    "with open(ss) as s:\n",
    "    for line in s:\n",
    "        if line.strip().split(\"\\t\")[0] in samples:\n",
    "            ids.append(str(count))\n",
    "        count += 1\n",
    "print(\",\".join(ids))"
   ]
  },
  {
   "cell_type": "code",
   "execution_count": 44,
   "metadata": {},
   "outputs": [
    {
     "data": {
      "text/plain": [
       "['CD4_Naive_1815-RH-1.phs001703v3p1.Homo_Sapiens.H3K27ac.biorep_merged',\n",
       " 'CD4_Naive_1829-RH-1.phs001703v3p1.Homo_Sapiens.H3K27ac.biorep_merged',\n",
       " 'CD4_Naive_1831-RH-1.phs001703v3p1.Homo_Sapiens.H3K27ac.biorep_merged',\n",
       " 'Monocyte_1800-RH-1.phs001703v3p1.Homo_Sapiens.H3K27ac.biorep_merged',\n",
       " 'Monocyte_1814-RH-1.phs001703v3p1.Homo_Sapiens.H3K27ac.biorep_merged',\n",
       " 'Monocyte_1816-RH-1.phs001703v3p1.Homo_Sapiens.H3K27ac.biorep_merged']"
      ]
     },
     "execution_count": 44,
     "metadata": {},
     "output_type": "execute_result"
    }
   ],
   "source": [
    "samples"
   ]
  },
  {
   "cell_type": "code",
   "execution_count": 17,
   "metadata": {},
   "outputs": [],
   "source": [
    "header_output = '{}.with_header.tsv'.format(output_prefix)\n",
    "problems_df.to_csv(header_output, header=True, index=False, sep='\\t')"
   ]
  },
  {
   "cell_type": "code",
   "execution_count": null,
   "metadata": {},
   "outputs": [],
   "source": []
  }
 ],
 "metadata": {
  "kernelspec": {
   "display_name": "hichip-db-new",
   "language": "python",
   "name": "hichip-db"
  },
  "language_info": {
   "codemirror_mode": {
    "name": "ipython",
    "version": 3
   },
   "file_extension": ".py",
   "mimetype": "text/x-python",
   "name": "python",
   "nbconvert_exporter": "python",
   "pygments_lexer": "ipython3",
   "version": "3.9.12"
  }
 },
 "nbformat": 4,
 "nbformat_minor": 5
}
