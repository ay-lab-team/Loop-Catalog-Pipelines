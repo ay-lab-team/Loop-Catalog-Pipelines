{
 "cells": [
  {
   "cell_type": "code",
   "execution_count": 1,
   "metadata": {},
   "outputs": [],
   "source": [
    "import os\n",
    "import subprocess as sp\n",
    "import pandas as pd\n",
    "\n",
    "# set directories\n",
    "project_dir = '/mnt/BioAdHoc/Groups/vd-ay/hichip-db-loop-calling/'\n",
    "results_dir = os.path.join(project_dir, 'results/')"
   ]
  },
  {
   "cell_type": "markdown",
   "metadata": {},
   "source": [
    "### Check HiCCUPs First"
   ]
  },
  {
   "cell_type": "code",
   "execution_count": 3,
   "metadata": {},
   "outputs": [],
   "source": [
    "# locate all link files\n",
    "hiccups_names = 'results/loops/hiccups/whole_genome'\n",
    "hiccups_dir = os.path.join(project_dir, 'results/loops/hiccups/whole_genome/')\n",
    "cmd = 'find {} -wholename {} -type l'.format(results_dir)\n",
    "link_files = sp.check_output(cmd, shell=True)\n",
    "link_files_list = link_files.decode().split('\\n')"
   ]
  },
  {
   "cell_type": "code",
   "execution_count": 5,
   "metadata": {},
   "outputs": [],
   "source": [
    "# filter for those not part of a the hub/shortcuts paths\n",
    "nonhub_link_files_list = [x for x in link_files_list if 'shortcuts' not in x]\n",
    "nonhub_link_files_list = [x for x in nonhub_link_files_list if 'logs/' not in x]"
   ]
  },
  {
   "cell_type": "code",
   "execution_count": 67,
   "metadata": {},
   "outputs": [],
   "source": [
    "def determine_path_type(path):\n",
    "    '''\n",
    "        Check the validity of a filepath.\n",
    "        sym-sym refers to symlink that points to another symlink\n",
    "        sym-file refers to symlink that points to a regular file\n",
    "        sym-to-sym-broken-cyclic refers to a symlink broken by a cyclic linking pattern\n",
    "        sym-to-sym-broken-missing refers to a symlink broken by a missing source path\n",
    "\n",
    "        Example:\n",
    "        --------\n",
    "        fns = ['symlink1', 'symlink2', 'symlink3', 'symlink4', 'symlink5', 'test']\n",
    "        for fn in fns:\n",
    "            if os.path.exists(fn):\n",
    "                os.remove(fn)\n",
    "\n",
    "        os.symlink('symlink1', 'symlink2')\n",
    "        os.symlink('symlink2', 'symlink3')\n",
    "        os.symlink('symlink3', 'symlink1')\n",
    "        with open('test', 'w') as f:\n",
    "            pass\n",
    "        os.symlink('test', 'symlink4')\n",
    "        os.symlink('test2', 'symlink5')\n",
    "        os.symlink('symlink4', 'symlink6')\n",
    "\n",
    "        fns = ['symlink1', 'symlink2', 'symlink3', 'symlink4', 'symlink5', 'test', 'symlink6']\n",
    "        for fn in fns:\n",
    "            print(fn)\n",
    "            print(determine_path_type(fn))\n",
    "            print()\n",
    "    '''\n",
    "\n",
    "    # leveraging stat to locate broken links, an error \n",
    "    # indicates either a symlink broken by a missing file (sym-to-sym-broken-missing)\n",
    "    # or by a cyclic link (sym-to-sym-broken-cyclic)\n",
    "    try:\n",
    "        stat = os.stat(path)\n",
    "\n",
    "        # working symlink cases \n",
    "        if os.path.islink(path):\n",
    "            target_path = os.readlink(path)\n",
    "            if os.path.islink(target_path):\n",
    "                return('sym-sym')\n",
    "            elif os.path.isfile(target_path):\n",
    "                return('sym-file')\n",
    "            else:\n",
    "                return('bug')\n",
    "        \n",
    "        # regular path cases\n",
    "        elif os.path.isfile(path):\n",
    "            return('regular-file')\n",
    "        elif os.path.isdir(path):\n",
    "            return('regular-dir')\n",
    "        else:\n",
    "            return('bug')\n",
    "    except OSError as e:\n",
    "\n",
    "        # broken symlink with cyclic case\n",
    "        if '[Errno 40] Too many levels of symbolic links:' in str(e):\n",
    "            return('sym-to-sym-broken-cyclic')\n",
    "\n",
    "        # broken symlink with missing case\n",
    "        elif '[Errno 2] No such file or directory:' in str(e):\n",
    "            return('sym-to-sym-broken-missing')\n",
    "            \n",
    "        else:\n",
    "            return('but - {}'.format(e))"
   ]
  },
  {
   "cell_type": "code",
   "execution_count": 106,
   "metadata": {},
   "outputs": [],
   "source": [
    "symlinks_data = []\n",
    "for filepath in nonhub_link_files_list:\n",
    "    filetype = determine_path_type(filepath)\n",
    "    \n",
    "    if filetype in ['sym-sym', 'sim-file', 'sym-to-sym-broken-cyclic', 'sym-to-sym-broken-missing']:\n",
    "        symlinks_data.append([filepath, filetype])\n"
   ]
  },
  {
   "cell_type": "code",
   "execution_count": null,
   "metadata": {},
   "outputs": [],
   "source": [
    "symlinks_df = pd.DataFrame(symlinks_data)"
   ]
  },
  {
   "cell_type": "code",
   "execution_count": 108,
   "metadata": {},
   "outputs": [
    {
     "data": {
      "text/plain": [
       "array([['/mnt/BioAdHoc/Groups/vd-ay/hichip-db-loop-calling/results/t2t-chm13v2.0/biorep_merged/results/hicpro/Substantia-Nigra.GSE147672.Homo_Sapiens.H3K27ac.biorep_merged/rawdata_allValidPairs',\n",
       "        'sym-sym'],\n",
       "       ['/mnt/BioAdHoc/Groups/vd-ay/hichip-db-loop-calling/results/t2t-chm13v2.0/biorep_merged/results/hicpro/OCI-Ly7-OCABi.GSE183797.Homo_Sapiens.H3K27ac.biorep_merged/rawdata_allValidPairs',\n",
       "        'sym-sym'],\n",
       "       ['/mnt/BioAdHoc/Groups/vd-ay/hichip-db-loop-calling/results/t2t-chm13v2.0/biorep_merged/results/hicpro/Th17.GSE101498.Homo_Sapiens.H3K27ac.biorep_merged/rawdata_allValidPairs',\n",
       "        'sym-sym']], dtype=object)"
      ]
     },
     "execution_count": 108,
     "metadata": {},
     "output_type": "execute_result"
    }
   ],
   "source": [
    "symlinks_df.values"
   ]
  },
  {
   "cell_type": "code",
   "execution_count": 107,
   "metadata": {},
   "outputs": [
    {
     "data": {
      "text/plain": [
       "(3, 2)"
      ]
     },
     "execution_count": 107,
     "metadata": {},
     "output_type": "execute_result"
    }
   ],
   "source": [
    "symlinks_df.shape"
   ]
  },
  {
   "cell_type": "code",
   "execution_count": null,
   "metadata": {},
   "outputs": [],
   "source": []
  },
  {
   "cell_type": "code",
   "execution_count": null,
   "metadata": {},
   "outputs": [],
   "source": []
  },
  {
   "cell_type": "code",
   "execution_count": null,
   "metadata": {},
   "outputs": [],
   "source": []
  },
  {
   "cell_type": "code",
   "execution_count": null,
   "metadata": {},
   "outputs": [],
   "source": []
  },
  {
   "cell_type": "code",
   "execution_count": null,
   "metadata": {},
   "outputs": [],
   "source": []
  },
  {
   "cell_type": "code",
   "execution_count": 67,
   "metadata": {},
   "outputs": [
    {
     "name": "stdout",
     "output_type": "stream",
     "text": [
      "Current filepath is: \t\t /mnt/BioAdHoc/Groups/vd-ay/hichip-db-loop-calling/results/t2t-chm13v2.0/biorep_merged/results/hicpro/Substantia-Nigra.GSE147672.Homo_Sapiens.H3K27ac.biorep_merged/rawdata_allValidPairs\n",
      "This file has a symlink to: \t/mnt/bioadhoc-temp/Groups/vd-ay/kfetter/hichip-db-loop-calling//ref_genome/biorep_merged/results/hicpro/Substantia-Nigra.GSE147672.Homo_Sapiens.H3K27ac.biorep_merged/rawdata_allValidPairs\n",
      "The realpath of this file is: /mnt/bioadhoc-temp/Groups/vd-ay/kfetter/hichip-db-loop-calling/ref_genome/biorep_merged/results/hicpro/Substantia-Nigra.GSE147672.Homo_Sapiens.H3K27ac.biorep_merged/Substantia-Nigra.GSE147672.Homo_Sapiens.H3K27ac.biorep_merged.allValidPairs\n"
     ]
    }
   ],
   "source": [
    "print('Current filepath is: \\t\\t {}'.format(filepath))\n",
    "print('This file has a symlink to: \\t{}'.format(os.readlink(filepath)))\n",
    "print('The realpath of this file is: {}'.format(os.path.realpath(filepath)))"
   ]
  },
  {
   "cell_type": "code",
   "execution_count": null,
   "metadata": {},
   "outputs": [],
   "source": []
  },
  {
   "cell_type": "code",
   "execution_count": null,
   "metadata": {},
   "outputs": [],
   "source": []
  },
  {
   "cell_type": "code",
   "execution_count": null,
   "metadata": {},
   "outputs": [],
   "source": []
  },
  {
   "cell_type": "code",
   "execution_count": null,
   "metadata": {},
   "outputs": [],
   "source": []
  },
  {
   "cell_type": "code",
   "execution_count": null,
   "metadata": {},
   "outputs": [],
   "source": []
  },
  {
   "cell_type": "code",
   "execution_count": null,
   "metadata": {},
   "outputs": [],
   "source": []
  },
  {
   "cell_type": "code",
   "execution_count": null,
   "metadata": {},
   "outputs": [],
   "source": []
  },
  {
   "cell_type": "code",
   "execution_count": null,
   "metadata": {},
   "outputs": [],
   "source": []
  },
  {
   "cell_type": "code",
   "execution_count": null,
   "metadata": {},
   "outputs": [],
   "source": []
  },
  {
   "cell_type": "code",
   "execution_count": null,
   "metadata": {},
   "outputs": [],
   "source": []
  },
  {
   "cell_type": "code",
   "execution_count": null,
   "metadata": {},
   "outputs": [],
   "source": []
  }
 ],
 "metadata": {
  "kernelspec": {
   "display_name": "hichip-db",
   "language": "python",
   "name": "python3"
  },
  "language_info": {
   "codemirror_mode": {
    "name": "ipython",
    "version": 3
   },
   "file_extension": ".py",
   "mimetype": "text/x-python",
   "name": "python",
   "nbconvert_exporter": "python",
   "pygments_lexer": "ipython3",
   "version": "3.9.10"
  }
 },
 "nbformat": 4,
 "nbformat_minor": 2
}
