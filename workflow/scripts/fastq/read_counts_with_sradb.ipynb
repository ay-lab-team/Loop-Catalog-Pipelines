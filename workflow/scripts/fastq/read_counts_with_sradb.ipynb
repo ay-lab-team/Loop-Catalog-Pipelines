{
 "cells": [
  {
   "cell_type": "code",
   "execution_count": null,
   "id": "3fa83e1e",
   "metadata": {},
   "outputs": [],
   "source": [
    "from pysradb import SRAweb\n",
    "import pandas as pd\n",
    "import config"
   ]
  },
  {
   "cell_type": "code",
   "execution_count": null,
   "id": "4a76c60a",
   "metadata": {},
   "outputs": [],
   "source": [
    "# load the srr_list\n",
    "srr_list_fn = config.LOOP_CATALOG_DIR + 'results/fastqs/stats/read_counts/srr_id_list.v1.txt'\n",
    "srr_ids = [x.strip() for x in open(srr_list_fn).readlines()][1:]"
   ]
  },
  {
   "cell_type": "code",
   "execution_count": null,
   "id": "f905a0dc",
   "metadata": {},
   "outputs": [],
   "source": [
    "# load the old data\n",
    "old_fn = config.LOOP_CATALOG_DIR + 'results/fastqs/stats/read_counts/srr.read_counts.v1.tsv.bkup'\n",
    "old_metadata_df = pd.read_table(old_fn)\n",
    "old_metadata_df.loc[:, 'run_total_spots'] =  old_metadata_df['run_total_spots'].fillna(0).replace('', 0).astype(int)\n",
    "old_srr_ids = set(old_metadata_df.run_accession.tolist())"
   ]
  },
  {
   "cell_type": "code",
   "execution_count": 65,
   "id": "f215361c",
   "metadata": {},
   "outputs": [],
   "source": [
    "# extract a list of query_srr_ids to look up\n",
    "query_srr_ids = [x for x in srr_ids if x not in old_srr_ids]"
   ]
  },
  {
   "cell_type": "code",
   "execution_count": 66,
   "id": "3f15eb2a",
   "metadata": {},
   "outputs": [],
   "source": [
    "# function to query metadata for a single SRR ID\n",
    "def query_metadata(srr_id):\n",
    "    return sra.search_sra(srr_id)\n",
    "\n",
    "# Initialize SRAweb object\n",
    "sra = SRAweb()"
   ]
  },
  {
   "cell_type": "code",
   "execution_count": 67,
   "id": "25563143",
   "metadata": {},
   "outputs": [],
   "source": [
    "# Query metadata for all SRR IDs in parallel\n",
    "metadata_list = []\n",
    "for i, srr_id in enumerate(query_srr_ids):\n",
    "    data = query_metadata(srr_id)\n",
    "    metadata_list.append(data)\n",
    "    print(i)"
   ]
  },
  {
   "cell_type": "code",
   "execution_count": 68,
   "id": "f0569e6f",
   "metadata": {},
   "outputs": [],
   "source": [
    "if len(metadata_list) > 0:\n",
    "    new_metadata_df = pd.concat(metadata_list)\n",
    "    new_metadata_df.drop_duplicates(subset=['run_accession'], inplace=True)\n",
    "    complete_metadata_df = pd.concat([old_metadata_df, new_metadata_df])\n",
    "else:\n",
    "    complete_metadata_df = old_metadata_df"
   ]
  },
  {
   "cell_type": "code",
   "execution_count": 69,
   "id": "bafa48f9",
   "metadata": {},
   "outputs": [
    {
     "data": {
      "text/html": [
       "<div>\n",
       "<style scoped>\n",
       "    .dataframe tbody tr th:only-of-type {\n",
       "        vertical-align: middle;\n",
       "    }\n",
       "\n",
       "    .dataframe tbody tr th {\n",
       "        vertical-align: top;\n",
       "    }\n",
       "\n",
       "    .dataframe thead th {\n",
       "        text-align: right;\n",
       "    }\n",
       "</style>\n",
       "<table border=\"1\" class=\"dataframe\">\n",
       "  <thead>\n",
       "    <tr style=\"text-align: right;\">\n",
       "      <th></th>\n",
       "      <th>run_accession</th>\n",
       "      <th>run_total_spots</th>\n",
       "    </tr>\n",
       "  </thead>\n",
       "  <tbody>\n",
       "    <tr>\n",
       "      <th>0</th>\n",
       "      <td>SRR10008147</td>\n",
       "      <td>18392515</td>\n",
       "    </tr>\n",
       "    <tr>\n",
       "      <th>1</th>\n",
       "      <td>SRR10008148</td>\n",
       "      <td>19833332</td>\n",
       "    </tr>\n",
       "    <tr>\n",
       "      <th>2</th>\n",
       "      <td>SRR10008149</td>\n",
       "      <td>27111453</td>\n",
       "    </tr>\n",
       "    <tr>\n",
       "      <th>3</th>\n",
       "      <td>SRR10008150</td>\n",
       "      <td>23218511</td>\n",
       "    </tr>\n",
       "    <tr>\n",
       "      <th>4</th>\n",
       "      <td>SRR10008151</td>\n",
       "      <td>17159570</td>\n",
       "    </tr>\n",
       "  </tbody>\n",
       "</table>\n",
       "</div>"
      ],
      "text/plain": [
       "  run_accession  run_total_spots\n",
       "0   SRR10008147         18392515\n",
       "1   SRR10008148         19833332\n",
       "2   SRR10008149         27111453\n",
       "3   SRR10008150         23218511\n",
       "4   SRR10008151         17159570"
      ]
     },
     "execution_count": 69,
     "metadata": {},
     "output_type": "execute_result"
    }
   ],
   "source": [
    "complete_metadata_df.head()"
   ]
  },
  {
   "cell_type": "code",
   "execution_count": 70,
   "id": "8e61f98b",
   "metadata": {},
   "outputs": [],
   "source": [
    "save_df = complete_metadata_df[['run_accession', 'run_total_spots']]"
   ]
  },
  {
   "cell_type": "code",
   "execution_count": null,
   "id": "b2310f04",
   "metadata": {},
   "outputs": [],
   "source": [
    "# also saving .bkup files incase we overwrite\n",
    "save_full_fn =  config.LOOP_CATALOG_DIR + '/results/fastqs/stats/read_counts/srr.read_counts.full.v1.tsv'\n",
    "save_insert_fn =  config.LOOP_CATALOG_DIR + '/results/fastqs/stats/read_counts/srr.read_counts.v1.tsv'\n",
    "complete_metadata_df.to_csv(save_full_fn, sep='\\t', index=False)\n",
    "save_df.to_csv(save_insert_fn, sep='\\t', index=False)"
   ]
  },
  {
   "cell_type": "code",
   "execution_count": 72,
   "id": "5a9a3f94",
   "metadata": {
    "scrolled": false
   },
   "outputs": [
    {
     "data": {
      "text/html": [
       "<div>\n",
       "<style scoped>\n",
       "    .dataframe tbody tr th:only-of-type {\n",
       "        vertical-align: middle;\n",
       "    }\n",
       "\n",
       "    .dataframe tbody tr th {\n",
       "        vertical-align: top;\n",
       "    }\n",
       "\n",
       "    .dataframe thead th {\n",
       "        text-align: right;\n",
       "    }\n",
       "</style>\n",
       "<table border=\"1\" class=\"dataframe\">\n",
       "  <thead>\n",
       "    <tr style=\"text-align: right;\">\n",
       "      <th></th>\n",
       "      <th>run_accession</th>\n",
       "      <th>run_total_spots</th>\n",
       "    </tr>\n",
       "  </thead>\n",
       "  <tbody>\n",
       "    <tr>\n",
       "      <th>0</th>\n",
       "      <td>SRR10008147</td>\n",
       "      <td>18392515</td>\n",
       "    </tr>\n",
       "    <tr>\n",
       "      <th>1</th>\n",
       "      <td>SRR10008148</td>\n",
       "      <td>19833332</td>\n",
       "    </tr>\n",
       "    <tr>\n",
       "      <th>2</th>\n",
       "      <td>SRR10008149</td>\n",
       "      <td>27111453</td>\n",
       "    </tr>\n",
       "    <tr>\n",
       "      <th>3</th>\n",
       "      <td>SRR10008150</td>\n",
       "      <td>23218511</td>\n",
       "    </tr>\n",
       "    <tr>\n",
       "      <th>4</th>\n",
       "      <td>SRR10008151</td>\n",
       "      <td>17159570</td>\n",
       "    </tr>\n",
       "    <tr>\n",
       "      <th>...</th>\n",
       "      <td>...</td>\n",
       "      <td>...</td>\n",
       "    </tr>\n",
       "    <tr>\n",
       "      <th>1325</th>\n",
       "      <td>SRR9822270</td>\n",
       "      <td>48505194</td>\n",
       "    </tr>\n",
       "    <tr>\n",
       "      <th>1326</th>\n",
       "      <td>SRR9822271</td>\n",
       "      <td>44313365</td>\n",
       "    </tr>\n",
       "    <tr>\n",
       "      <th>1327</th>\n",
       "      <td>SRR9822272</td>\n",
       "      <td>38860622</td>\n",
       "    </tr>\n",
       "    <tr>\n",
       "      <th>1328</th>\n",
       "      <td>SRR9889945</td>\n",
       "      <td>138428879</td>\n",
       "    </tr>\n",
       "    <tr>\n",
       "      <th>1329</th>\n",
       "      <td>SRR9889946</td>\n",
       "      <td>199328758</td>\n",
       "    </tr>\n",
       "  </tbody>\n",
       "</table>\n",
       "<p>1330 rows × 2 columns</p>\n",
       "</div>"
      ],
      "text/plain": [
       "     run_accession  run_total_spots\n",
       "0      SRR10008147         18392515\n",
       "1      SRR10008148         19833332\n",
       "2      SRR10008149         27111453\n",
       "3      SRR10008150         23218511\n",
       "4      SRR10008151         17159570\n",
       "...            ...              ...\n",
       "1325    SRR9822270         48505194\n",
       "1326    SRR9822271         44313365\n",
       "1327    SRR9822272         38860622\n",
       "1328    SRR9889945        138428879\n",
       "1329    SRR9889946        199328758\n",
       "\n",
       "[1330 rows x 2 columns]"
      ]
     },
     "execution_count": 72,
     "metadata": {},
     "output_type": "execute_result"
    }
   ],
   "source": [
    "save_df"
   ]
  },
  {
   "cell_type": "code",
   "execution_count": null,
   "id": "e3547186",
   "metadata": {},
   "outputs": [],
   "source": []
  },
  {
   "cell_type": "code",
   "execution_count": null,
   "id": "035e340c",
   "metadata": {},
   "outputs": [],
   "source": []
  },
  {
   "cell_type": "code",
   "execution_count": null,
   "id": "0d318274",
   "metadata": {},
   "outputs": [],
   "source": []
  },
  {
   "cell_type": "code",
   "execution_count": null,
   "id": "a3aef9b6",
   "metadata": {},
   "outputs": [],
   "source": []
  },
  {
   "cell_type": "code",
   "execution_count": null,
   "id": "49b04508",
   "metadata": {},
   "outputs": [],
   "source": []
  },
  {
   "cell_type": "code",
   "execution_count": null,
   "id": "a10e6678",
   "metadata": {},
   "outputs": [],
   "source": []
  },
  {
   "cell_type": "code",
   "execution_count": null,
   "id": "3efd0ab0",
   "metadata": {},
   "outputs": [],
   "source": []
  },
  {
   "cell_type": "code",
   "execution_count": null,
   "id": "69dfc67e",
   "metadata": {},
   "outputs": [],
   "source": []
  }
 ],
 "metadata": {
  "kernelspec": {
   "display_name": "lc-pipelines",
   "language": "python",
   "name": "lc-pipelines"
  },
  "language_info": {
   "codemirror_mode": {
    "name": "ipython",
    "version": 3
   },
   "file_extension": ".py",
   "mimetype": "text/x-python",
   "name": "python",
   "nbconvert_exporter": "python",
   "pygments_lexer": "ipython3",
   "version": "3.12.0"
  }
 },
 "nbformat": 4,
 "nbformat_minor": 5
}
