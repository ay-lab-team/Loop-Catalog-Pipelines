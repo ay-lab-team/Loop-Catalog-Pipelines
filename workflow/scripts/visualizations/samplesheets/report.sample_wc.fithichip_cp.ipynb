{
 "cells": [
  {
   "cell_type": "code",
   "execution_count": 1,
   "metadata": {},
   "outputs": [],
   "source": [
    "import os \n",
    "import pandas as pd\n",
    "import numpy as np\n",
    "import glob"
   ]
  },
  {
   "cell_type": "markdown",
   "metadata": {},
   "source": [
    "## Loading the samplesheet data"
   ]
  },
  {
   "cell_type": "code",
   "execution_count": 2,
   "metadata": {},
   "outputs": [],
   "source": [
    "# load the sample sheet with the number of loops\n",
    "wc = pd.read_csv('../samplesheets/samplesheet.fithichip_cp.wc.txt',\n",
    "                 sep='\\t',\n",
    "                 names=['sample', 'num_loops'],\n",
    "                 header=None)\n",
    "\n",
    "# extract metadata from the file names\n",
    "def get_meta(x):\n",
    "    meta = x.split('/')\n",
    "    bn = meta[-1]\n",
    "    bn_split = bn.split('.')\n",
    "    res = bn_split[5]\n",
    "    ref = meta[2]\n",
    "    loop_source = meta[4]\n",
    "    peak_source = meta[5]\n",
    "    peak_caller = meta[6]\n",
    "    stringency = meta[7]\n",
    "    loop_caller = 'fithichip' if 'FitHiC' in meta[8] else 'other'\n",
    "    return((ref, res, loop_source, peak_source, peak_caller, stringency, loop_caller))\n",
    "metadata = wc['sample'].apply(get_meta).values.tolist()\n",
    "metadata = list(zip(*metadata))\n",
    "refs, res, loop_sources, peak_sources, peak_callers, stringencies, loop_callers = metadata\n",
    "\n",
    "wc['ref'] = refs\n",
    "wc['res'] = res\n",
    "wc['loop_source'] = loop_sources\n",
    "wc['peak_source'] = peak_sources\n",
    "wc['peak_caller'] = peak_callers\n",
    "wc['stringency'] = stringencies\n",
    "wc['loop_caller'] = loop_callers"
   ]
  },
  {
   "cell_type": "markdown",
   "metadata": {},
   "source": [
    "## Sample-level Summary For Loop Counts\n"
   ]
  },
  {
   "cell_type": "code",
   "execution_count": 3,
   "metadata": {},
   "outputs": [],
   "source": [
    "# count the number of samples with zero and non-zero number of loops\n",
    "grps = wc.groupby(['ref', 'res', 'stringency', 'peak_caller', 'loop_caller'])\n",
    "\n",
    "# perform the value count across groups\n",
    "value_counts = grps.num_loops.value_counts(bins=[-np.inf, 0, np.inf]).to_frame()\n",
    "value_counts.columns = ['count']\n",
    "value_counts.reset_index(inplace=True)\n",
    "value_counts = value_counts.pivot(index=['ref', 'res', 'stringency', 'peak_caller', 'loop_caller'],\n",
    "                   columns=['num_loops'],\n",
    "                   values=['count'])\n",
    "value_counts.columns = value_counts.columns.set_levels(['zero', 'non-zero'], level=1)\n",
    "\n",
    "# add a total column\n",
    "value_counts[('count', 'total')] = value_counts.sum(axis=1)"
   ]
  },
  {
   "cell_type": "code",
   "execution_count": 4,
   "metadata": {},
   "outputs": [
    {
     "data": {
      "text/html": [
       "<div>\n",
       "<style scoped>\n",
       "    .dataframe tbody tr th:only-of-type {\n",
       "        vertical-align: middle;\n",
       "    }\n",
       "\n",
       "    .dataframe tbody tr th {\n",
       "        vertical-align: top;\n",
       "    }\n",
       "\n",
       "    .dataframe thead tr th {\n",
       "        text-align: left;\n",
       "    }\n",
       "\n",
       "    .dataframe thead tr:last-of-type th {\n",
       "        text-align: right;\n",
       "    }\n",
       "</style>\n",
       "<table border=\"1\" class=\"dataframe\">\n",
       "  <thead>\n",
       "    <tr>\n",
       "      <th></th>\n",
       "      <th></th>\n",
       "      <th></th>\n",
       "      <th></th>\n",
       "      <th></th>\n",
       "      <th colspan=\"3\" halign=\"left\">count</th>\n",
       "    </tr>\n",
       "    <tr>\n",
       "      <th></th>\n",
       "      <th></th>\n",
       "      <th></th>\n",
       "      <th></th>\n",
       "      <th>num_loops</th>\n",
       "      <th>zero</th>\n",
       "      <th>non-zero</th>\n",
       "      <th>total</th>\n",
       "    </tr>\n",
       "    <tr>\n",
       "      <th>ref</th>\n",
       "      <th>res</th>\n",
       "      <th>stringency</th>\n",
       "      <th>peak_caller</th>\n",
       "      <th>loop_caller</th>\n",
       "      <th></th>\n",
       "      <th></th>\n",
       "      <th></th>\n",
       "    </tr>\n",
       "  </thead>\n",
       "  <tbody>\n",
       "    <tr>\n",
       "      <th rowspan=\"6\" valign=\"top\">hg38</th>\n",
       "      <th rowspan=\"2\" valign=\"top\">10000</th>\n",
       "      <th>loose</th>\n",
       "      <th>macs2</th>\n",
       "      <th>fithichip</th>\n",
       "      <td>14</td>\n",
       "      <td>229</td>\n",
       "      <td>243</td>\n",
       "    </tr>\n",
       "    <tr>\n",
       "      <th>stringent</th>\n",
       "      <th>macs2</th>\n",
       "      <th>fithichip</th>\n",
       "      <td>13</td>\n",
       "      <td>230</td>\n",
       "      <td>243</td>\n",
       "    </tr>\n",
       "    <tr>\n",
       "      <th rowspan=\"2\" valign=\"top\">25000</th>\n",
       "      <th>loose</th>\n",
       "      <th>macs2</th>\n",
       "      <th>fithichip</th>\n",
       "      <td>4</td>\n",
       "      <td>239</td>\n",
       "      <td>243</td>\n",
       "    </tr>\n",
       "    <tr>\n",
       "      <th>stringent</th>\n",
       "      <th>macs2</th>\n",
       "      <th>fithichip</th>\n",
       "      <td>6</td>\n",
       "      <td>237</td>\n",
       "      <td>243</td>\n",
       "    </tr>\n",
       "    <tr>\n",
       "      <th rowspan=\"2\" valign=\"top\">5000</th>\n",
       "      <th>loose</th>\n",
       "      <th>macs2</th>\n",
       "      <th>fithichip</th>\n",
       "      <td>20</td>\n",
       "      <td>223</td>\n",
       "      <td>243</td>\n",
       "    </tr>\n",
       "    <tr>\n",
       "      <th>stringent</th>\n",
       "      <th>macs2</th>\n",
       "      <th>fithichip</th>\n",
       "      <td>20</td>\n",
       "      <td>223</td>\n",
       "      <td>243</td>\n",
       "    </tr>\n",
       "  </tbody>\n",
       "</table>\n",
       "</div>"
      ],
      "text/plain": [
       "                                              count               \n",
       "num_loops                                      zero non-zero total\n",
       "ref  res   stringency peak_caller loop_caller                     \n",
       "hg38 10000 loose      macs2       fithichip      14      229   243\n",
       "           stringent  macs2       fithichip      13      230   243\n",
       "     25000 loose      macs2       fithichip       4      239   243\n",
       "           stringent  macs2       fithichip       6      237   243\n",
       "     5000  loose      macs2       fithichip      20      223   243\n",
       "           stringent  macs2       fithichip      20      223   243"
      ]
     },
     "execution_count": 4,
     "metadata": {},
     "output_type": "execute_result"
    }
   ],
   "source": [
    "value_counts"
   ]
  },
  {
   "attachments": {},
   "cell_type": "markdown",
   "metadata": {},
   "source": [
    "The most important number will be non-zero, we will use this number to ensure that we correctly\n",
    "producing the correct number of visualization files."
   ]
  },
  {
   "attachments": {},
   "cell_type": "markdown",
   "metadata": {},
   "source": [
    "## Check visualization files"
   ]
  },
  {
   "cell_type": "code",
   "execution_count": 10,
   "metadata": {},
   "outputs": [],
   "source": [
    "glob_str = '../../../../'\n",
    "glob_str += 'results/shortcuts/hg38/loops/hichip/chip-seq/macs2/*/*.*.interactions_FitHiC_Q0.01.bed'\n",
    "num_biginter = len(glob.glob(glob_str.format(stringency='*')))"
   ]
  },
  {
   "cell_type": "code",
   "execution_count": 11,
   "metadata": {},
   "outputs": [],
   "source": [
    "glob_str = '../../../../'\n",
    "glob_str += 'results/shortcuts/hg38/loops/hichip/chip-seq/macs2/*/*.*.longrange.bed.gz'\n",
    "num_longrange = len(glob.glob(glob_str.format(stringency='*')))"
   ]
  },
  {
   "cell_type": "code",
   "execution_count": 12,
   "metadata": {},
   "outputs": [
    {
     "name": "stdout",
     "output_type": "stream",
     "text": [
      "1458 0\n"
     ]
    }
   ],
   "source": [
    "print(num_biginter, num_longrange)"
   ]
  },
  {
   "cell_type": "code",
   "execution_count": null,
   "metadata": {},
   "outputs": [],
   "source": []
  },
  {
   "cell_type": "code",
   "execution_count": null,
   "metadata": {},
   "outputs": [],
   "source": []
  },
  {
   "cell_type": "code",
   "execution_count": null,
   "metadata": {},
   "outputs": [],
   "source": []
  },
  {
   "cell_type": "markdown",
   "metadata": {},
   "source": [
    "## Further investigate problematic samples"
   ]
  },
  {
   "cell_type": "code",
   "execution_count": 9,
   "metadata": {},
   "outputs": [],
   "source": [
    "wc['bb_file'] = wc['sample'].replace('bed$', 'interaction.bb', regex=True)\n",
    "\n",
    "# check if the file exists\n",
    "def check_file(x, root_dir='../../../../'):\n",
    "    fn = os.path.join(root_dir, x)\n",
    "    return(os.path.exists(fn))\n",
    "wc['bb_file_exists'] = wc['bb_file'].apply(check_file)"
   ]
  },
  {
   "cell_type": "code",
   "execution_count": 10,
   "metadata": {},
   "outputs": [],
   "source": [
    "nonzero_data = wc.loc[(wc.num_loops > 0)]"
   ]
  },
  {
   "cell_type": "code",
   "execution_count": 11,
   "metadata": {},
   "outputs": [],
   "source": [
    "missing_data = wc.loc[(wc.num_loops > 0) & (wc.bb_file_exists == False)]"
   ]
  },
  {
   "cell_type": "code",
   "execution_count": 12,
   "metadata": {},
   "outputs": [],
   "source": [
    "missing_arrayids = missing_data.index.values + 1"
   ]
  },
  {
   "cell_type": "code",
   "execution_count": 13,
   "metadata": {},
   "outputs": [
    {
     "data": {
      "text/plain": [
       "array([], dtype=int64)"
      ]
     },
     "execution_count": 13,
     "metadata": {},
     "output_type": "execute_result"
    }
   ],
   "source": [
    "missing_arrayids"
   ]
  },
  {
   "cell_type": "code",
   "execution_count": 14,
   "metadata": {},
   "outputs": [],
   "source": [
    "missing_arrayids = missing_arrayids.astype(str)"
   ]
  },
  {
   "cell_type": "code",
   "execution_count": 15,
   "metadata": {},
   "outputs": [
    {
     "name": "stdout",
     "output_type": "stream",
     "text": [
      "\n"
     ]
    }
   ],
   "source": [
    "rerun_ids = ','.join(missing_arrayids)\n",
    "print(rerun_ids)"
   ]
  },
  {
   "cell_type": "code",
   "execution_count": 16,
   "metadata": {},
   "outputs": [
    {
     "data": {
      "text/plain": [
       "0"
      ]
     },
     "execution_count": 16,
     "metadata": {},
     "output_type": "execute_result"
    }
   ],
   "source": [
    "len(missing_arrayids)"
   ]
  },
  {
   "cell_type": "code",
   "execution_count": 17,
   "metadata": {},
   "outputs": [
    {
     "data": {
      "text/plain": [
       "(1381, 11)"
      ]
     },
     "execution_count": 17,
     "metadata": {},
     "output_type": "execute_result"
    }
   ],
   "source": [
    "nonzero_data.shape"
   ]
  },
  {
   "cell_type": "code",
   "execution_count": 18,
   "metadata": {},
   "outputs": [
    {
     "data": {
      "text/plain": [
       "(0, 11)"
      ]
     },
     "execution_count": 18,
     "metadata": {},
     "output_type": "execute_result"
    }
   ],
   "source": [
    "missing_data.shape"
   ]
  },
  {
   "cell_type": "code",
   "execution_count": 19,
   "metadata": {},
   "outputs": [
    {
     "data": {
      "text/html": [
       "<div>\n",
       "<style scoped>\n",
       "    .dataframe tbody tr th:only-of-type {\n",
       "        vertical-align: middle;\n",
       "    }\n",
       "\n",
       "    .dataframe tbody tr th {\n",
       "        vertical-align: top;\n",
       "    }\n",
       "\n",
       "    .dataframe thead th {\n",
       "        text-align: right;\n",
       "    }\n",
       "</style>\n",
       "<table border=\"1\" class=\"dataframe\">\n",
       "  <thead>\n",
       "    <tr style=\"text-align: right;\">\n",
       "      <th></th>\n",
       "      <th>sample</th>\n",
       "      <th>num_loops</th>\n",
       "      <th>ref</th>\n",
       "      <th>res</th>\n",
       "      <th>loop_source</th>\n",
       "      <th>peak_source</th>\n",
       "      <th>peak_caller</th>\n",
       "      <th>stringency</th>\n",
       "      <th>loop_caller</th>\n",
       "      <th>bb_file</th>\n",
       "      <th>bb_file_exists</th>\n",
       "    </tr>\n",
       "  </thead>\n",
       "  <tbody>\n",
       "    <tr>\n",
       "      <th>0</th>\n",
       "      <td>results/shortcuts/hg38/loops/hichip/chip-seq/m...</td>\n",
       "      <td>0</td>\n",
       "      <td>hg38</td>\n",
       "      <td>10000</td>\n",
       "      <td>hichip</td>\n",
       "      <td>chip-seq</td>\n",
       "      <td>macs2</td>\n",
       "      <td>loose</td>\n",
       "      <td>fithichip</td>\n",
       "      <td>results/shortcuts/hg38/loops/hichip/chip-seq/m...</td>\n",
       "      <td>False</td>\n",
       "    </tr>\n",
       "    <tr>\n",
       "      <th>1</th>\n",
       "      <td>results/shortcuts/hg38/loops/hichip/chip-seq/m...</td>\n",
       "      <td>0</td>\n",
       "      <td>hg38</td>\n",
       "      <td>25000</td>\n",
       "      <td>hichip</td>\n",
       "      <td>chip-seq</td>\n",
       "      <td>macs2</td>\n",
       "      <td>loose</td>\n",
       "      <td>fithichip</td>\n",
       "      <td>results/shortcuts/hg38/loops/hichip/chip-seq/m...</td>\n",
       "      <td>False</td>\n",
       "    </tr>\n",
       "    <tr>\n",
       "      <th>2</th>\n",
       "      <td>results/shortcuts/hg38/loops/hichip/chip-seq/m...</td>\n",
       "      <td>0</td>\n",
       "      <td>hg38</td>\n",
       "      <td>5000</td>\n",
       "      <td>hichip</td>\n",
       "      <td>chip-seq</td>\n",
       "      <td>macs2</td>\n",
       "      <td>loose</td>\n",
       "      <td>fithichip</td>\n",
       "      <td>results/shortcuts/hg38/loops/hichip/chip-seq/m...</td>\n",
       "      <td>False</td>\n",
       "    </tr>\n",
       "    <tr>\n",
       "      <th>3</th>\n",
       "      <td>results/shortcuts/hg38/loops/hichip/chip-seq/m...</td>\n",
       "      <td>0</td>\n",
       "      <td>hg38</td>\n",
       "      <td>10000</td>\n",
       "      <td>hichip</td>\n",
       "      <td>chip-seq</td>\n",
       "      <td>macs2</td>\n",
       "      <td>loose</td>\n",
       "      <td>fithichip</td>\n",
       "      <td>results/shortcuts/hg38/loops/hichip/chip-seq/m...</td>\n",
       "      <td>False</td>\n",
       "    </tr>\n",
       "    <tr>\n",
       "      <th>4</th>\n",
       "      <td>results/shortcuts/hg38/loops/hichip/chip-seq/m...</td>\n",
       "      <td>0</td>\n",
       "      <td>hg38</td>\n",
       "      <td>25000</td>\n",
       "      <td>hichip</td>\n",
       "      <td>chip-seq</td>\n",
       "      <td>macs2</td>\n",
       "      <td>loose</td>\n",
       "      <td>fithichip</td>\n",
       "      <td>results/shortcuts/hg38/loops/hichip/chip-seq/m...</td>\n",
       "      <td>False</td>\n",
       "    </tr>\n",
       "    <tr>\n",
       "      <th>...</th>\n",
       "      <td>...</td>\n",
       "      <td>...</td>\n",
       "      <td>...</td>\n",
       "      <td>...</td>\n",
       "      <td>...</td>\n",
       "      <td>...</td>\n",
       "      <td>...</td>\n",
       "      <td>...</td>\n",
       "      <td>...</td>\n",
       "      <td>...</td>\n",
       "      <td>...</td>\n",
       "    </tr>\n",
       "    <tr>\n",
       "      <th>1453</th>\n",
       "      <td>results/shortcuts/hg38/loops/hichip/chip-seq/m...</td>\n",
       "      <td>14155</td>\n",
       "      <td>hg38</td>\n",
       "      <td>25000</td>\n",
       "      <td>hichip</td>\n",
       "      <td>chip-seq</td>\n",
       "      <td>macs2</td>\n",
       "      <td>stringent</td>\n",
       "      <td>fithichip</td>\n",
       "      <td>results/shortcuts/hg38/loops/hichip/chip-seq/m...</td>\n",
       "      <td>True</td>\n",
       "    </tr>\n",
       "    <tr>\n",
       "      <th>1454</th>\n",
       "      <td>results/shortcuts/hg38/loops/hichip/chip-seq/m...</td>\n",
       "      <td>4238</td>\n",
       "      <td>hg38</td>\n",
       "      <td>5000</td>\n",
       "      <td>hichip</td>\n",
       "      <td>chip-seq</td>\n",
       "      <td>macs2</td>\n",
       "      <td>stringent</td>\n",
       "      <td>fithichip</td>\n",
       "      <td>results/shortcuts/hg38/loops/hichip/chip-seq/m...</td>\n",
       "      <td>True</td>\n",
       "    </tr>\n",
       "    <tr>\n",
       "      <th>1455</th>\n",
       "      <td>results/shortcuts/hg38/loops/hichip/chip-seq/m...</td>\n",
       "      <td>8768</td>\n",
       "      <td>hg38</td>\n",
       "      <td>10000</td>\n",
       "      <td>hichip</td>\n",
       "      <td>chip-seq</td>\n",
       "      <td>macs2</td>\n",
       "      <td>stringent</td>\n",
       "      <td>fithichip</td>\n",
       "      <td>results/shortcuts/hg38/loops/hichip/chip-seq/m...</td>\n",
       "      <td>True</td>\n",
       "    </tr>\n",
       "    <tr>\n",
       "      <th>1456</th>\n",
       "      <td>results/shortcuts/hg38/loops/hichip/chip-seq/m...</td>\n",
       "      <td>8879</td>\n",
       "      <td>hg38</td>\n",
       "      <td>25000</td>\n",
       "      <td>hichip</td>\n",
       "      <td>chip-seq</td>\n",
       "      <td>macs2</td>\n",
       "      <td>stringent</td>\n",
       "      <td>fithichip</td>\n",
       "      <td>results/shortcuts/hg38/loops/hichip/chip-seq/m...</td>\n",
       "      <td>True</td>\n",
       "    </tr>\n",
       "    <tr>\n",
       "      <th>1457</th>\n",
       "      <td>results/shortcuts/hg38/loops/hichip/chip-seq/m...</td>\n",
       "      <td>4977</td>\n",
       "      <td>hg38</td>\n",
       "      <td>5000</td>\n",
       "      <td>hichip</td>\n",
       "      <td>chip-seq</td>\n",
       "      <td>macs2</td>\n",
       "      <td>stringent</td>\n",
       "      <td>fithichip</td>\n",
       "      <td>results/shortcuts/hg38/loops/hichip/chip-seq/m...</td>\n",
       "      <td>True</td>\n",
       "    </tr>\n",
       "  </tbody>\n",
       "</table>\n",
       "<p>1458 rows × 11 columns</p>\n",
       "</div>"
      ],
      "text/plain": [
       "                                                 sample  num_loops   ref  \\\n",
       "0     results/shortcuts/hg38/loops/hichip/chip-seq/m...          0  hg38   \n",
       "1     results/shortcuts/hg38/loops/hichip/chip-seq/m...          0  hg38   \n",
       "2     results/shortcuts/hg38/loops/hichip/chip-seq/m...          0  hg38   \n",
       "3     results/shortcuts/hg38/loops/hichip/chip-seq/m...          0  hg38   \n",
       "4     results/shortcuts/hg38/loops/hichip/chip-seq/m...          0  hg38   \n",
       "...                                                 ...        ...   ...   \n",
       "1453  results/shortcuts/hg38/loops/hichip/chip-seq/m...      14155  hg38   \n",
       "1454  results/shortcuts/hg38/loops/hichip/chip-seq/m...       4238  hg38   \n",
       "1455  results/shortcuts/hg38/loops/hichip/chip-seq/m...       8768  hg38   \n",
       "1456  results/shortcuts/hg38/loops/hichip/chip-seq/m...       8879  hg38   \n",
       "1457  results/shortcuts/hg38/loops/hichip/chip-seq/m...       4977  hg38   \n",
       "\n",
       "        res loop_source peak_source peak_caller stringency loop_caller  \\\n",
       "0     10000      hichip    chip-seq       macs2      loose   fithichip   \n",
       "1     25000      hichip    chip-seq       macs2      loose   fithichip   \n",
       "2      5000      hichip    chip-seq       macs2      loose   fithichip   \n",
       "3     10000      hichip    chip-seq       macs2      loose   fithichip   \n",
       "4     25000      hichip    chip-seq       macs2      loose   fithichip   \n",
       "...     ...         ...         ...         ...        ...         ...   \n",
       "1453  25000      hichip    chip-seq       macs2  stringent   fithichip   \n",
       "1454   5000      hichip    chip-seq       macs2  stringent   fithichip   \n",
       "1455  10000      hichip    chip-seq       macs2  stringent   fithichip   \n",
       "1456  25000      hichip    chip-seq       macs2  stringent   fithichip   \n",
       "1457   5000      hichip    chip-seq       macs2  stringent   fithichip   \n",
       "\n",
       "                                                bb_file  bb_file_exists  \n",
       "0     results/shortcuts/hg38/loops/hichip/chip-seq/m...           False  \n",
       "1     results/shortcuts/hg38/loops/hichip/chip-seq/m...           False  \n",
       "2     results/shortcuts/hg38/loops/hichip/chip-seq/m...           False  \n",
       "3     results/shortcuts/hg38/loops/hichip/chip-seq/m...           False  \n",
       "4     results/shortcuts/hg38/loops/hichip/chip-seq/m...           False  \n",
       "...                                                 ...             ...  \n",
       "1453  results/shortcuts/hg38/loops/hichip/chip-seq/m...            True  \n",
       "1454  results/shortcuts/hg38/loops/hichip/chip-seq/m...            True  \n",
       "1455  results/shortcuts/hg38/loops/hichip/chip-seq/m...            True  \n",
       "1456  results/shortcuts/hg38/loops/hichip/chip-seq/m...            True  \n",
       "1457  results/shortcuts/hg38/loops/hichip/chip-seq/m...            True  \n",
       "\n",
       "[1458 rows x 11 columns]"
      ]
     },
     "execution_count": 19,
     "metadata": {},
     "output_type": "execute_result"
    }
   ],
   "source": [
    "wc"
   ]
  }
 ],
 "metadata": {
  "kernelspec": {
   "display_name": "Python 3",
   "language": "python",
   "name": "python3"
  },
  "language_info": {
   "codemirror_mode": {
    "name": "ipython",
    "version": 3
   },
   "file_extension": ".py",
   "mimetype": "text/x-python",
   "name": "python",
   "nbconvert_exporter": "python",
   "pygments_lexer": "ipython3",
   "version": "3.9.10"
  }
 },
 "nbformat": 4,
 "nbformat_minor": 2
}
