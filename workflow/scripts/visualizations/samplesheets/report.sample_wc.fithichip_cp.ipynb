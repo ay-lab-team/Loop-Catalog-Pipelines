{
 "cells": [
  {
   "cell_type": "code",
   "execution_count": 1,
   "metadata": {},
   "outputs": [],
   "source": [
    "import os \n",
    "import pandas as pd\n",
    "import numpy as np\n",
    "import glob"
   ]
  },
  {
   "cell_type": "markdown",
   "metadata": {},
   "source": [
    "## Loading the samplesheet data"
   ]
  },
  {
   "cell_type": "code",
   "execution_count": 2,
   "metadata": {},
   "outputs": [],
   "source": [
    "# load the sample sheet with the number of loops\n",
    "wc = pd.read_csv('../samplesheets/samplesheet.fithichip_cp.wc.txt',\n",
    "                 sep='\\t',\n",
    "                 names=['sample', 'num_loops'],\n",
    "                 header=None)\n",
    "\n",
    "# extract metadata from the file names\n",
    "def get_meta(x):\n",
    "    meta = x.split('/')\n",
    "    bn = meta[-1]\n",
    "    bn_split = bn.split('.')\n",
    "    res = bn_split[5]\n",
    "    ref = meta[2]\n",
    "    loop_source = meta[4]\n",
    "    peak_source = meta[5]\n",
    "    peak_caller = meta[6]\n",
    "    stringency = meta[7]\n",
    "    loop_caller = 'fithichip' if 'FitHiC' in meta[8] else 'other'\n",
    "    return((ref, res, loop_source, peak_source, peak_caller, stringency, loop_caller))\n",
    "metadata = wc['sample'].apply(get_meta).values.tolist()\n",
    "metadata = list(zip(*metadata))\n",
    "refs, res, loop_sources, peak_sources, peak_callers, stringencies, loop_callers = metadata\n",
    "\n",
    "wc['ref'] = refs\n",
    "wc['res'] = res\n",
    "wc['loop_source'] = loop_sources\n",
    "wc['peak_source'] = peak_sources\n",
    "wc['peak_caller'] = peak_callers\n",
    "wc['stringency'] = stringencies\n",
    "wc['loop_caller'] = loop_callers"
   ]
  },
  {
   "cell_type": "markdown",
   "metadata": {},
   "source": [
    "## Sample-level Summary For Loop Counts\n"
   ]
  },
  {
   "cell_type": "code",
   "execution_count": 3,
   "metadata": {},
   "outputs": [],
   "source": [
    "# count the number of samples with zero and non-zero number of loops\n",
    "grps = wc.groupby(['ref', 'res', 'stringency', 'peak_caller', 'loop_caller'])\n",
    "\n",
    "# perform the value count across groups\n",
    "value_counts = grps.num_loops.value_counts(bins=[-np.inf, 0, np.inf]).to_frame()\n",
    "value_counts.columns = ['count']\n",
    "value_counts.reset_index(inplace=True)\n",
    "value_counts = value_counts.pivot(index=['ref', 'res', 'stringency', 'peak_caller', 'loop_caller'],\n",
    "                   columns=['num_loops'],\n",
    "                   values=['count'])\n",
    "value_counts.columns = value_counts.columns.set_levels(['zero', 'non-zero'], level=1)\n",
    "\n",
    "# add a total column\n",
    "value_counts[('count', 'total')] = value_counts.sum(axis=1)"
   ]
  },
  {
   "cell_type": "code",
   "execution_count": 4,
   "metadata": {},
   "outputs": [
    {
     "data": {
      "text/html": [
       "<div>\n",
       "<style scoped>\n",
       "    .dataframe tbody tr th:only-of-type {\n",
       "        vertical-align: middle;\n",
       "    }\n",
       "\n",
       "    .dataframe tbody tr th {\n",
       "        vertical-align: top;\n",
       "    }\n",
       "\n",
       "    .dataframe thead tr th {\n",
       "        text-align: left;\n",
       "    }\n",
       "\n",
       "    .dataframe thead tr:last-of-type th {\n",
       "        text-align: right;\n",
       "    }\n",
       "</style>\n",
       "<table border=\"1\" class=\"dataframe\">\n",
       "  <thead>\n",
       "    <tr>\n",
       "      <th></th>\n",
       "      <th></th>\n",
       "      <th></th>\n",
       "      <th></th>\n",
       "      <th></th>\n",
       "      <th colspan=\"3\" halign=\"left\">count</th>\n",
       "    </tr>\n",
       "    <tr>\n",
       "      <th></th>\n",
       "      <th></th>\n",
       "      <th></th>\n",
       "      <th></th>\n",
       "      <th>num_loops</th>\n",
       "      <th>zero</th>\n",
       "      <th>non-zero</th>\n",
       "      <th>total</th>\n",
       "    </tr>\n",
       "    <tr>\n",
       "      <th>ref</th>\n",
       "      <th>res</th>\n",
       "      <th>stringency</th>\n",
       "      <th>peak_caller</th>\n",
       "      <th>loop_caller</th>\n",
       "      <th></th>\n",
       "      <th></th>\n",
       "      <th></th>\n",
       "    </tr>\n",
       "  </thead>\n",
       "  <tbody>\n",
       "    <tr>\n",
       "      <th rowspan=\"6\" valign=\"top\">hg38</th>\n",
       "      <th rowspan=\"2\" valign=\"top\">10000</th>\n",
       "      <th>loose</th>\n",
       "      <th>macs2</th>\n",
       "      <th>fithichip</th>\n",
       "      <td>14</td>\n",
       "      <td>229</td>\n",
       "      <td>243</td>\n",
       "    </tr>\n",
       "    <tr>\n",
       "      <th>stringent</th>\n",
       "      <th>macs2</th>\n",
       "      <th>fithichip</th>\n",
       "      <td>13</td>\n",
       "      <td>230</td>\n",
       "      <td>243</td>\n",
       "    </tr>\n",
       "    <tr>\n",
       "      <th rowspan=\"2\" valign=\"top\">25000</th>\n",
       "      <th>loose</th>\n",
       "      <th>macs2</th>\n",
       "      <th>fithichip</th>\n",
       "      <td>4</td>\n",
       "      <td>239</td>\n",
       "      <td>243</td>\n",
       "    </tr>\n",
       "    <tr>\n",
       "      <th>stringent</th>\n",
       "      <th>macs2</th>\n",
       "      <th>fithichip</th>\n",
       "      <td>6</td>\n",
       "      <td>237</td>\n",
       "      <td>243</td>\n",
       "    </tr>\n",
       "    <tr>\n",
       "      <th rowspan=\"2\" valign=\"top\">5000</th>\n",
       "      <th>loose</th>\n",
       "      <th>macs2</th>\n",
       "      <th>fithichip</th>\n",
       "      <td>20</td>\n",
       "      <td>223</td>\n",
       "      <td>243</td>\n",
       "    </tr>\n",
       "    <tr>\n",
       "      <th>stringent</th>\n",
       "      <th>macs2</th>\n",
       "      <th>fithichip</th>\n",
       "      <td>20</td>\n",
       "      <td>223</td>\n",
       "      <td>243</td>\n",
       "    </tr>\n",
       "  </tbody>\n",
       "</table>\n",
       "</div>"
      ],
      "text/plain": [
       "                                              count               \n",
       "num_loops                                      zero non-zero total\n",
       "ref  res   stringency peak_caller loop_caller                     \n",
       "hg38 10000 loose      macs2       fithichip      14      229   243\n",
       "           stringent  macs2       fithichip      13      230   243\n",
       "     25000 loose      macs2       fithichip       4      239   243\n",
       "           stringent  macs2       fithichip       6      237   243\n",
       "     5000  loose      macs2       fithichip      20      223   243\n",
       "           stringent  macs2       fithichip      20      223   243"
      ]
     },
     "execution_count": 4,
     "metadata": {},
     "output_type": "execute_result"
    }
   ],
   "source": [
    "value_counts"
   ]
  },
  {
   "cell_type": "code",
   "execution_count": 5,
   "metadata": {},
   "outputs": [
    {
     "data": {
      "text/html": [
       "<div>\n",
       "<style scoped>\n",
       "    .dataframe tbody tr th:only-of-type {\n",
       "        vertical-align: middle;\n",
       "    }\n",
       "\n",
       "    .dataframe tbody tr th {\n",
       "        vertical-align: top;\n",
       "    }\n",
       "\n",
       "    .dataframe thead tr th {\n",
       "        text-align: left;\n",
       "    }\n",
       "</style>\n",
       "<table border=\"1\" class=\"dataframe\">\n",
       "  <thead>\n",
       "    <tr>\n",
       "      <th></th>\n",
       "      <th colspan=\"3\" halign=\"left\">count</th>\n",
       "    </tr>\n",
       "    <tr>\n",
       "      <th>num_loops</th>\n",
       "      <th>zero</th>\n",
       "      <th>non-zero</th>\n",
       "      <th>total</th>\n",
       "    </tr>\n",
       "  </thead>\n",
       "  <tbody>\n",
       "    <tr>\n",
       "      <th>0</th>\n",
       "      <td>77</td>\n",
       "      <td>1381</td>\n",
       "      <td>1458</td>\n",
       "    </tr>\n",
       "  </tbody>\n",
       "</table>\n",
       "</div>"
      ],
      "text/plain": [
       "          count               \n",
       "num_loops  zero non-zero total\n",
       "0            77     1381  1458"
      ]
     },
     "execution_count": 5,
     "metadata": {},
     "output_type": "execute_result"
    }
   ],
   "source": [
    "value_counts.sum(axis=0).to_frame().T"
   ]
  },
  {
   "attachments": {},
   "cell_type": "markdown",
   "metadata": {},
   "source": [
    "The most important number will be non-zero, we will use this number to ensure that we correctly\n",
    "producing the correct number of visualization files."
   ]
  },
  {
   "attachments": {},
   "cell_type": "markdown",
   "metadata": {},
   "source": [
    "## Check visualization files"
   ]
  },
  {
   "cell_type": "code",
   "execution_count": 6,
   "metadata": {},
   "outputs": [
    {
     "name": "stdout",
     "output_type": "stream",
     "text": [
      "1458 1381 1381\n"
     ]
    }
   ],
   "source": [
    "# count the main interactions files\n",
    "glob_str = '../../../../'\n",
    "glob_str += 'results/shortcuts/hg38/loops/hichip/chip-seq/macs2/*/*.*.interactions_FitHiC_Q0.01.bed'\n",
    "num_main = len(glob.glob(glob_str.format(stringency='*')))\n",
    "\n",
    "# count the biginteractions files\n",
    "glob_str = '../../../../'\n",
    "glob_str += 'results/shortcuts/hg38/loops/hichip/chip-seq/macs2/*/*.*.interaction.bb'\n",
    "biginter_list = glob.glob(glob_str.format(stringency='*'))\n",
    "num_biginter = len(biginter_list)\n",
    "\n",
    "# count the longrange files\n",
    "glob_str = '../../../../'\n",
    "glob_str += 'results/shortcuts/hg38/loops/hichip/chip-seq/macs2/*/*.*.longrange.bed.gz'\n",
    "longrange_list = glob.glob(glob_str.format(stringency='*'))\n",
    "num_longrange = len(longrange_list)\n",
    "\n",
    "# print the counts\n",
    "print(num_main, num_biginter, num_longrange)"
   ]
  },
  {
   "cell_type": "markdown",
   "metadata": {},
   "source": [
    "## Further investigate problematic samples"
   ]
  },
  {
   "cell_type": "code",
   "execution_count": 7,
   "metadata": {},
   "outputs": [],
   "source": [
    "wc['biginter_file'] = wc['sample'].replace('bed$', 'interaction.bb', regex=True)\n",
    "# check if the file exists\n",
    "def check_file(x, root_dir='../../../../'):\n",
    "    fn = os.path.join(root_dir, x)\n",
    "    return(os.path.exists(fn))\n",
    "wc['biginter_exists'] = wc['biginter_file'].apply(check_file)"
   ]
  },
  {
   "cell_type": "code",
   "execution_count": 8,
   "metadata": {},
   "outputs": [
    {
     "name": "stdout",
     "output_type": "stream",
     "text": [
      "[]\n",
      "\n"
     ]
    },
    {
     "ename": "",
     "evalue": "",
     "output_type": "error",
     "traceback": [
      "\u001b[1;31mThe Kernel crashed while executing code in the the current cell or a previous cell. Please review the code in the cell(s) to identify a possible cause of the failure. Click <a href='https://aka.ms/vscodeJupyterKernelCrash'>here</a> for more info. View Jupyter <a href='command:jupyter.viewOutput'>log</a> for further details."
     ]
    }
   ],
   "source": [
    "nonzero_data = wc.loc[(wc.num_loops > 0)]\n",
    "\n",
    "missing_data = wc.loc[(wc.num_loops > 0) & (wc.biginter_exists == False)]\n",
    "missing_arrayids = missing_data.index.values + 1\n",
    "\n",
    "print(missing_arrayids)\n",
    "missing_arrayids = missing_arrayids.astype(str)\n",
    "rerun_ids = ','.join(missing_arrayids)\n",
    "\n",
    "print(rerun_ids)"
   ]
  }
 ],
 "metadata": {
  "kernelspec": {
   "display_name": "Python 3",
   "language": "python",
   "name": "python3"
  },
  "language_info": {
   "codemirror_mode": {
    "name": "ipython",
    "version": 3
   },
   "file_extension": ".py",
   "mimetype": "text/x-python",
   "name": "python",
   "nbconvert_exporter": "python",
   "pygments_lexer": "ipython3",
   "version": "3.9.10"
  }
 },
 "nbformat": 4,
 "nbformat_minor": 2
}
