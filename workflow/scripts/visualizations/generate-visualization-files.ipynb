{
 "cells": [
  {
   "cell_type": "code",
   "execution_count": 1,
   "id": "ca8a93e7",
   "metadata": {},
   "outputs": [],
   "source": [
    "import os\n",
    "import sys\n",
    "import glob\n",
    "import numpy as np\n",
    "import pandas as pd\n",
    "import datetime as dt\n",
    "os.chdir('<project-dir>')"
   ]
  },
  {
   "cell_type": "code",
   "execution_count": 2,
   "id": "7be202a9",
   "metadata": {},
   "outputs": [],
   "source": [
    "samples = ['Aortic-VIC.GSE154513.Homo_Sapiens.H3K27ac.b1']"
   ]
  },
  {
   "cell_type": "code",
   "execution_count": 3,
   "id": "26c1fa37",
   "metadata": {},
   "outputs": [],
   "source": [
    "peaks_files = 'results/samplesheets/post-hicpro/peaks_files.samplesheet.without_header.tsv'"
   ]
  },
  {
   "cell_type": "code",
   "execution_count": 4,
   "id": "e944454c",
   "metadata": {},
   "outputs": [],
   "source": [
    "def has_peaks(samples):\n",
    "    has_chipseq_peaks = {}\n",
    "    has_hp_peaks = {}\n",
    "    has_fithichip_peaks = {}\n",
    "    with open(peaks_files) as fr:\n",
    "        for line in fr:\n",
    "            if line.strip().split()[0] in samples:\n",
    "                if os.path.exists(line.strip().split()[4]):\n",
    "                    has_chipseq_peaks[line.strip().split()[0]] = True\n",
    "                else:\n",
    "                    has_chipseq_peaks[line.strip().split()[0]] = False\n",
    "                if os.path.exists(line.strip().split()[2]):\n",
    "                    has_hp_peaks[line.strip().split()[0]] = True\n",
    "                else:\n",
    "                    has_hp_peaks[line.strip().split()[0]] = False\n",
    "                if os.path.exists(line.strip().split()[3]):\n",
    "                    has_fithichip_peaks[line.strip().split()[0]] = True\n",
    "                else:\n",
    "                    has_fithichip_peaks[line.strip().split()[0]] = False\n",
    "    return has_chipseq_peaks, has_hp_peaks, has_fithichip_peaks"
   ]
  },
  {
   "cell_type": "code",
   "execution_count": 5,
   "id": "d559825f",
   "metadata": {},
   "outputs": [],
   "source": [
    "def decide_hiccups(paths):\n",
    "    has_feature = {}\n",
    "    for sample in paths:\n",
    "        if sample.strip().split('/')[3] in samples:\n",
    "            f = sample + 'merged_loops.bedpe'\n",
    "            if os.path.exists(f):\n",
    "                with open(f, 'r') as f:\n",
    "                    if len(f.readlines()) > 2:\n",
    "                        has_feature[sample.strip().split('/')[3]] = True\n",
    "                    else:\n",
    "                        has_feature[sample.strip().split('/')[3]] = False\n",
    "    return has_feature"
   ]
  },
  {
   "cell_type": "code",
   "execution_count": 6,
   "id": "88369281",
   "metadata": {},
   "outputs": [],
   "source": [
    "def decide_fithichip(paths):\n",
    "    has_feature = {}\n",
    "    for sample in paths:\n",
    "        sn = sample.strip().split('/')[3].split('.')\n",
    "        rep = sn[4].split('_')[0]\n",
    "        sn.pop()\n",
    "        sn.pop()\n",
    "        sn.append(rep)\n",
    "        sample_name = ('.').join(sn)\n",
    "        if sample_name in samples:\n",
    "            for loose_config in ['5', '10', '25']:\n",
    "                f = sample + 'L{res}/FitHiChIP_Peak2ALL_b{res}000_L20000_U2000000/P2PBckgr_0/Coverage_Bias/FitHiC_BiasCorr/FitHiChIP-L{res}.interactions_FitHiC_Q0.01.bed'.format(res = loose_config)\n",
    "                if os.path.exists(f):\n",
    "                    with open(f, 'r') as f:\n",
    "                        if len(f.readlines()) > 1:\n",
    "                            has_feature[sample_name + \"_L\" + loose_config] = True\n",
    "                        else:\n",
    "                            has_feature[sample_name + \"_L\" + loose_config] = False\n",
    "            for strict_config in ['5', '10', '25']:\n",
    "                f = sample + 'S{res}/FitHiChIP_Peak2ALL_b{res}000_L20000_U2000000/P2PBckgr_1/Coverage_Bias/FitHiC_BiasCorr/FitHiChIP-S{res}.interactions_FitHiC_Q0.01.bed'.format(res = strict_config)\n",
    "                if os.path.exists(f):\n",
    "                    with open(f, 'r') as f:\n",
    "                        if len(f.readlines()) > 1:\n",
    "                            has_feature[sample_name + \"_S\" + strict_config] = True\n",
    "                        else:\n",
    "                            has_feature[sample_name + \"_S\" + strict_config] = False\n",
    "    return has_feature"
   ]
  },
  {
   "cell_type": "code",
   "execution_count": 7,
   "id": "e6a44976",
   "metadata": {},
   "outputs": [],
   "source": [
    "def has_loops(samples):\n",
    "    has_fithichip_cs = {}\n",
    "    has_fithichip_hp = {}\n",
    "    has_fithichip_f = {}\n",
    "    has_hiccups_chr1 = {}\n",
    "    has_hiccups_all = {}\n",
    "    \n",
    "    fithichip_cs = glob.glob('results/loops/fithichip/*_chipseq.peaks/')\n",
    "    fithichip_hp = glob.glob('results/loops/fithichip/*_hichip-peaks.peaks/')\n",
    "    fithichip_f = glob.glob('results/loops/fithichip/*_fithichip.peaks/')\n",
    "    hiccups_chr1 = glob.glob('results/loops/hiccups_chr1/*/')\n",
    "    hiccups_all = glob.glob('results/loops/hiccups/*/')\n",
    "    \n",
    "    has_hiccups_chr1 = decide_hiccups(hiccups_chr1)\n",
    "    has_hiccups_all = decide_hiccups(hiccups_all)\n",
    "    has_fithichip_cs = decide_fithichip(fithichip_cs)\n",
    "    has_fithichip_hp = decide_fithichip(fithichip_hp)\n",
    "    has_fithichip_f = decide_fithichip(fithichip_f)\n",
    "\n",
    "    return has_hiccups_chr1, has_hiccups_all, has_fithichip_cs, has_fithichip_hp, has_fithichip_f"
   ]
  },
  {
   "cell_type": "markdown",
   "id": "3db29fff",
   "metadata": {},
   "source": [
    "## Get Sample Info"
   ]
  },
  {
   "cell_type": "code",
   "execution_count": 8,
   "id": "4a040b6a",
   "metadata": {},
   "outputs": [],
   "source": [
    "# enter desired std_sample_name(s) into this array\n",
    "has_chipseq_peaks, has_hp_peaks, has_fithichip_peaks = has_peaks(samples)\n",
    "has_hiccups_chr1, has_hiccups_all, has_fithichip_cs, has_fithichip_hp, has_fithichip_f = has_loops(samples)"
   ]
  },
  {
   "cell_type": "code",
   "execution_count": 9,
   "id": "0b0b8f4d",
   "metadata": {},
   "outputs": [
    {
     "name": "stdout",
     "output_type": "stream",
     "text": [
      "Aortic-VIC.GSE154513.Homo_Sapiens.H3K27ac.b1 has the following datatypes avaliable:\n",
      "\n",
      "ChIP-seq peaks: True\n",
      "HiChIP-Peaks peaks: True\n",
      "FitHiChIP peaks: True\n",
      "\n",
      "FitHiChIP loops (ChIP-seq peaks, L5): True\n",
      "FitHiChIP loops (ChIP-seq peaks, L10): True\n",
      "FitHiChIP loops (ChIP-seq peaks, L25): True\n",
      "FitHiChIP loops (ChIP-seq peaks, S5): True\n",
      "FitHiChIP loops (ChIP-seq peaks, S10): True\n",
      "FitHiChIP loops (ChIP-seq peaks, S25): True\n",
      "\n",
      "FitHiChIP loops (HiChIP-Peaks peaks, L5): True\n",
      "FitHiChIP loops (HiChIP-Peaks peaks, L10): True\n",
      "FitHiChIP loops (HiChIP-Peaks peaks, L25): True\n",
      "FitHiChIP loops (HiChIP-Peaks peaks, S5): True\n",
      "FitHiChIP loops (HiChIP-Peaks peaks, S10): True\n",
      "FitHiChIP loops (HiChIP-Peaks peaks, S25): True\n",
      "\n",
      "FitHiChIP loops (FitHiChIP peaks, L5): True\n",
      "FitHiChIP loops (FitHiChIP peaks, L10): True\n",
      "FitHiChIP loops (FitHiChIP peaks, L25): True\n",
      "FitHiChIP loops (FitHiChIP peaks, S5): True\n",
      "FitHiChIP loops (FitHiChIP peaks, S10): True\n",
      "FitHiChIP loops (FitHiChIP peaks, S25): True\n",
      "\n",
      "HiCCUPS chr1 loops: True\n",
      "HiCCUPS all chrs loops: True\n",
      "\n"
     ]
    }
   ],
   "source": [
    "# generate report for which data this sample has\n",
    "for sample in samples:\n",
    "    \n",
    "    cs_peaks = has_chipseq_peaks.get(sample)\n",
    "    hp_peaks = has_hp_peaks.get(sample)\n",
    "    f_peaks = has_fithichip_peaks.get(sample)\n",
    "    \n",
    "    hiccups_chr1 = has_hiccups_chr1.get(sample)\n",
    "    hiccups_all = has_hiccups_all.get(sample)\n",
    "    \n",
    "    fithichip_cs_L5 = has_fithichip_cs.get(sample + '_L5')\n",
    "    fithichip_cs_L10 = has_fithichip_cs.get(sample + '_L10')\n",
    "    fithichip_cs_L25 = has_fithichip_cs.get(sample + '_L25')\n",
    "    fithichip_cs_S5 = has_fithichip_cs.get(sample + '_S5')\n",
    "    fithichip_cs_S10 = has_fithichip_cs.get(sample + '_S10')\n",
    "    fithichip_cs_S25 = has_fithichip_cs.get(sample + '_S25')\n",
    "    \n",
    "    fithichip_hp_L5 = has_fithichip_hp.get(sample + '_L5')\n",
    "    fithichip_hp_L10 = has_fithichip_hp.get(sample + '_L10')\n",
    "    fithichip_hp_L25 = has_fithichip_hp.get(sample + '_L25')\n",
    "    fithichip_hp_S5 = has_fithichip_hp.get(sample + '_S5')\n",
    "    fithichip_hp_S10 = has_fithichip_hp.get(sample + '_S10')\n",
    "    fithichip_hp_S25 = has_fithichip_hp.get(sample + '_S25')\n",
    "    \n",
    "    fithichip_f_L5 = has_fithichip_f.get(sample + '_L5')\n",
    "    fithichip_f_L10 = has_fithichip_f.get(sample + '_L10')\n",
    "    fithichip_f_L25 = has_fithichip_f.get(sample + '_L25')\n",
    "    fithichip_f_S5 = has_fithichip_f.get(sample + '_S5')\n",
    "    fithichip_f_S10 = has_fithichip_f.get(sample + '_S10')\n",
    "    fithichip_f_S25 = has_fithichip_f.get(sample + '_S25')\n",
    "    \n",
    "    print(sample, \"has the following datatypes avaliable:\")\n",
    "    print()\n",
    "    print(\"ChIP-seq peaks:\", cs_peaks)\n",
    "    print(\"HiChIP-Peaks peaks:\", hp_peaks)\n",
    "    print(\"FitHiChIP peaks:\", f_peaks)\n",
    "    print()\n",
    "    \n",
    "    print(\"FitHiChIP loops (ChIP-seq peaks, L5):\", fithichip_cs_L5)\n",
    "    print(\"FitHiChIP loops (ChIP-seq peaks, L10):\", fithichip_cs_L10)\n",
    "    print(\"FitHiChIP loops (ChIP-seq peaks, L25):\", fithichip_cs_L25)\n",
    "    print(\"FitHiChIP loops (ChIP-seq peaks, S5):\", fithichip_cs_S5)\n",
    "    print(\"FitHiChIP loops (ChIP-seq peaks, S10):\", fithichip_cs_S10)\n",
    "    print(\"FitHiChIP loops (ChIP-seq peaks, S25):\", fithichip_cs_S25)\n",
    "    print()\n",
    "    \n",
    "    print(\"FitHiChIP loops (HiChIP-Peaks peaks, L5):\", fithichip_hp_L5)\n",
    "    print(\"FitHiChIP loops (HiChIP-Peaks peaks, L10):\", fithichip_hp_L10)\n",
    "    print(\"FitHiChIP loops (HiChIP-Peaks peaks, L25):\", fithichip_hp_L25)\n",
    "    print(\"FitHiChIP loops (HiChIP-Peaks peaks, S5):\", fithichip_hp_S5)\n",
    "    print(\"FitHiChIP loops (HiChIP-Peaks peaks, S10):\", fithichip_hp_S10)\n",
    "    print(\"FitHiChIP loops (HiChIP-Peaks peaks, S25):\", fithichip_hp_S25)\n",
    "    print()\n",
    "    \n",
    "    print(\"FitHiChIP loops (FitHiChIP peaks, L5):\", fithichip_f_L5)\n",
    "    print(\"FitHiChIP loops (FitHiChIP peaks, L10):\", fithichip_f_L10)\n",
    "    print(\"FitHiChIP loops (FitHiChIP peaks, L25):\", fithichip_f_L25)\n",
    "    print(\"FitHiChIP loops (FitHiChIP peaks, S5):\", fithichip_f_S5)\n",
    "    print(\"FitHiChIP loops (FitHiChIP peaks, S10):\", fithichip_f_S10)\n",
    "    print(\"FitHiChIP loops (FitHiChIP peaks, S25):\", fithichip_f_S25)\n",
    "    print()\n",
    "    \n",
    "    print(\"HiCCUPS chr1 loops:\", hiccups_chr1)\n",
    "    print(\"HiCCUPS all chrs loops:\", hiccups_all)\n",
    "    print()"
   ]
  },
  {
   "cell_type": "markdown",
   "id": "2877abb7",
   "metadata": {},
   "source": [
    "## WashU datahub"
   ]
  },
  {
   "cell_type": "code",
   "execution_count": 12,
   "id": "642c488c",
   "metadata": {},
   "outputs": [],
   "source": [
    "# open hub json file\n",
    "hub = 'results/visualizations/washu/hub.config.json'\n",
    "with open(hub, 'w') as f:\n",
    "    \n",
    "    # build json file\n",
    "    f.write('[')\n",
    "    \n",
    "    for sample in samples:\n",
    "        \n",
    "        if has_chipseq_peaks.get(sample):\n",
    "            f.write('\\n\\t{\\n\\t\\\"type\\\":\\\"bed\\\",\\n\\t\\\"url\\\":\\\"https://informaticsdata.liai.org/bioadhoc-temp/Groups/vd-ay/kfetter/hichip-db-loop-calling/results/visualizations/washu/chipseq_peaks/' + sample + '.chipseq.peaks.txt.gz\\\",\\n\\t\\\"name\\\":\\\"' + sample + '.chipseq.peaks\\\",\\n\\t\\\"showOnHubLoad\\\": true,\\n\\t\\\"options\\\": {\\n\\t\\t\\\"height\\\":300,\\n\\t\\t\\\"color\\\":\\\"#7393B3\\\"\\n\\t\\t}\\n\\t},\\n')\n",
    "        \n",
    "        for config in ['S5', 'L5', 'S10', 'L10', 'S25', 'L25']:\n",
    "            if has_fithichip_cs.get(sample + '_' + config):\n",
    "                f.write('\\n\\t{\\n\\t\\\"type\\\":\\\"longrange\\\",\\n\\t\\\"url\\\":\\\"https://informaticsdata.liai.org/bioadhoc-temp/Groups/vd-ay/kfetter/hichip-db-loop-calling/results/visualizations/washu/fithichip_loops_chipseq/' + sample + '/' + config + '/' + sample + '.fithichip.' + config + '.loops.chipseq.peaks.txt.gz\\\",\\n\\t\\\"name\\\":\\\"' + sample + '.fithichip.loops.' + config + '.chipseq.peaks\\\",\\n\\t\\\"showOnHubLoad\\\": true,\\n\\t\\\"options\\\": {\\n\\t\\t\\\"height\\\":300,\\n\\t\\t\\\"color\\\":\\\"#7393B3\\\",\\n\\t\\t\\\"displayMode\\\":\\\"arc\\\"\\n\\t\\t}\\n\\t},\\n')\n",
    "        \n",
    "        if has_hp_peaks.get(sample):\n",
    "            f.write('\\n\\t{\\n\\t\\\"type\\\":\\\"bed\\\",\\n\\t\\\"url\\\":\\\"https://informaticsdata.liai.org/bioadhoc-temp/Groups/vd-ay/kfetter/hichip-db-loop-calling/results/visualizations/washu/hichip-peaks_peaks/' + sample + '.hichip-peaks.peaks.txt.gz\\\",\\n\\t\\\"name\\\":\\\"' + sample + '.hichip-peaks.peaks\\\",\\n\\t\\\"showOnHubLoad\\\": true,\\n\\t\\\"options\\\": {\\n\\t\\t\\\"height\\\":300,\\n\\t\\t\\\"color\\\":\\\"#A95C68\\\"\\n\\t\\t}\\n\\t},\\n')\n",
    "         \n",
    "        for config in ['S5', 'L5', 'S10', 'L10', 'S25', 'L25']:\n",
    "            if has_fithichip_hp.get(sample + '_' + config):\n",
    "                f.write('\\n\\t{\\n\\t\\\"type\\\":\\\"longrange\\\",\\n\\t\\\"url\\\":\\\"https://informaticsdata.liai.org/bioadhoc-temp/Groups/vd-ay/kfetter/hichip-db-loop-calling/results/visualizations/washu/fithichip_loops_hp/' + sample + '/' + config + '/' + sample + '.fithichip.' + config + '.loops.hichippeaks.peaks.txt.gz\\\",\\n\\t\\\"name\\\":\\\"' + sample + '.fithichip.loops.' + config + '.hichippeaks.peaks\\\",\\n\\t\\\"showOnHubLoad\\\": true,\\n\\t\\\"options\\\": {\\n\\t\\t\\\"height\\\":300,\\n\\t\\t\\\"color\\\":\\\"#A95C68\\\",\\n\\t\\t\\\"displayMode\\\":\\\"arc\\\"\\n\\t\\t}\\n\\t},\\n')\n",
    "        \n",
    "        if has_fithichip_peaks.get(sample):\n",
    "            f.write('\\n\\t{\\n\\t\\\"type\\\":\\\"bed\\\",\\n\\t\\\"url\\\":\\\"https://informaticsdata.liai.org/bioadhoc-temp/Groups/vd-ay/kfetter/hichip-db-loop-calling/results/visualizations/washu/fithichip_peaks/' + sample + '.fithichip.peaks.txt.gz\\\",\\n\\t\\\"name\\\":\\\"' + sample + '.fithichip.peaks\\\",\\n\\t\\\"showOnHubLoad\\\": true,\\n\\t\\\"options\\\": {\\n\\t\\t\\\"height\\\":300,\\n\\t\\t\\\"color\\\":\\\"#2AAA8A\\\"\\n\\t\\t}\\n\\t},\\n')\n",
    "        \n",
    "        for config in ['S5', 'L5', 'S10', 'L10', 'S25', 'L25']:\n",
    "            if has_fithichip_f.get(sample + '_' + config):\n",
    "                f.write('\\n\\t{\\n\\t\\\"type\\\":\\\"longrange\\\",\\n\\t\\\"url\\\":\\\"https://informaticsdata.liai.org/bioadhoc-temp/Groups/vd-ay/kfetter/hichip-db-loop-calling/results/visualizations/washu/fithichip_loops_fithichip/' + sample + '/' + config + '/' + sample + '.fithichip.' + config + '.loops.fithichip.peaks.txt.gz\\\",\\n\\t\\\"name\\\":\\\"' + sample + '.fithichip.loops.' + config + '.fithichip.peaks\\\",\\n\\t\\\"showOnHubLoad\\\": true,\\n\\t\\\"options\\\": {\\n\\t\\t\\\"height\\\":300,\\n\\t\\t\\\"color\\\":\\\"#2AAA8A\\\",\\n\\t\\t\\\"displayMode\\\":\\\"arc\\\"\\n\\t\\t}\\n\\t},\\n')\n",
    "        \n",
    "        if has_hiccups_all.get(sample):\n",
    "            f.write('\\n\\t{\\n\\t\\\"type\\\":\\\"longrange\\\",\\n\\t\\\"url\\\":\\\"https://informaticsdata.liai.org/bioadhoc-temp/Groups/vd-ay/kfetter/hichip-db-loop-calling/results/visualizations/washu/hiccups_loops_all/' + sample + '.hiccups-allchrs.loops.txt.gz\\\",\\n\\t\\\"name\\\":\\\"' + sample + '.hiccups.loops.allchrs\\\",\\n\\t\\\"showOnHubLoad\\\": true,\\n\\t\\\"options\\\": {\\n\\t\\t\\\"height\\\":300,\\n\\t\\t\\\"color\\\":\\\"#5D3FD3\\\",\\n\\t\\t\\\"displayMode\\\":\\\"arc\\\"\\n\\t\\t}\\n\\t},\\n')\n",
    "            \n",
    "        elif has_hiccups_chr1.get(sample):\n",
    "            f.write('\\n\\t{\\n\\t\\\"type\\\":\\\"longrange\\\",\\n\\t\\\"url\\\":\\\"https://informaticsdata.liai.org/bioadhoc-temp/Groups/vd-ay/kfetter/hichip-db-loop-calling/results/visualizations/washu/hiccups_loops_chr1/' + sample + '.hiccups-chr1.loops.txt.gz\\\",\\n\\t\\\"name\\\":\\\"' + sample + '.hiccups.loops.chr1\\\",\\n\\t\\\"showOnHubLoad\\\": true,\\n\\t\\\"options\\\": {\\n\\t\\t\\\"height\\\":300,\\n\\t\\t\\\"color\\\":\\\"#5D3FD3\\\",\\n\\t\\t\\\"displayMode\\\":\\\"arc\\\"\\n\\t\\t}\\n\\t},\\n')\n",
    "\n",
    "lines = open(hub, 'r').readlines()\n",
    "new_last_line = (lines[-1].rstrip().split(',')[0])\n",
    "lines[-1] = new_last_line\n",
    "lines.append('\\n]')\n",
    "open(hub, 'w').writelines(lines)"
   ]
  },
  {
   "cell_type": "code",
   "execution_count": 16,
   "id": "0a0204ca",
   "metadata": {},
   "outputs": [
    {
     "name": "stdout",
     "output_type": "stream",
     "text": [
      "URL:\n",
      "https://epigenomegateway.wustl.edu/browser/?genome=hg38&position=chr1:84000000-87000000&hub=https://informaticsdata.liai.org/BioAdHoc/Groups/vd-ay/kfetter/hichip-db-loop-calling/results/visualizations/washu/hub.config.json\n"
     ]
    }
   ],
   "source": [
    "print('URL:')\n",
    "print('https://epigenomegateway.wustl.edu/browser/?genome=hg38&position=chr1:84000000-87000000&hub=https://informaticsdata.liai.org/BioAdHoc/Groups/vd-ay/kfetter/hichip-db-loop-calling/results/visualizations/washu/hub.config.json')"
   ]
  },
  {
   "cell_type": "markdown",
   "id": "08e80d67",
   "metadata": {},
   "source": [
    "# UCSC trackHub"
   ]
  },
  {
   "cell_type": "code",
   "execution_count": 40,
   "id": "201d71e8",
   "metadata": {},
   "outputs": [],
   "source": [
    "# hub files\n",
    "hub = 'results/visualizations/ucsc/hubDirectory/hub.txt'\n",
    "genomes = 'results/visualizations/ucsc/hubDirectory/genomes.txt'\n",
    "trackdb = 'results/visualizations/ucsc/hubDirectory/hg38/trackDb.txt'\n",
    "\n",
    "with open(hub, 'w') as f:\n",
    "    f.write('hub hichip_hg38\\nshortLabel hichip_hg38\\nlongLabel hichip_visualization_hg38\\ngenomesFile genomes.txt\\nemail kfetter@lji.org')\n",
    "\n",
    "with open(genomes, 'w') as f:\n",
    "    f.write('genome hg38\\ntrackDb hg38/trackDb.txt')\n",
    "\n",
    "#with open(trackdb, 'w') as f:\n",
    "\n",
    "    "
   ]
  },
  {
   "cell_type": "code",
   "execution_count": null,
   "id": "bd2c4739",
   "metadata": {},
   "outputs": [],
   "source": []
  },
  {
   "cell_type": "code",
   "execution_count": null,
   "id": "49361b31",
   "metadata": {},
   "outputs": [],
   "source": []
  },
  {
   "cell_type": "code",
   "execution_count": null,
   "id": "e9d10d07",
   "metadata": {},
   "outputs": [],
   "source": []
  },
  {
   "cell_type": "code",
   "execution_count": null,
   "id": "5c64898e",
   "metadata": {},
   "outputs": [],
   "source": []
  },
  {
   "cell_type": "code",
   "execution_count": null,
   "id": "3e52eb34",
   "metadata": {},
   "outputs": [],
   "source": []
  },
  {
   "cell_type": "code",
   "execution_count": null,
   "id": "4c8445b5",
   "metadata": {},
   "outputs": [],
   "source": []
  },
  {
   "cell_type": "code",
   "execution_count": null,
   "id": "ea6b3396",
   "metadata": {},
   "outputs": [],
   "source": []
  },
  {
   "cell_type": "code",
   "execution_count": null,
   "id": "7586edbe",
   "metadata": {},
   "outputs": [],
   "source": []
  },
  {
   "cell_type": "code",
   "execution_count": null,
   "id": "e3cff4e5",
   "metadata": {},
   "outputs": [],
   "source": []
  },
  {
   "cell_type": "code",
   "execution_count": null,
   "id": "0ffa2bda",
   "metadata": {},
   "outputs": [],
   "source": []
  },
  {
   "cell_type": "code",
   "execution_count": null,
   "id": "a947bdde",
   "metadata": {},
   "outputs": [],
   "source": []
  },
  {
   "cell_type": "code",
   "execution_count": null,
   "id": "ac49fa40",
   "metadata": {},
   "outputs": [],
   "source": []
  }
 ],
 "metadata": {
  "kernelspec": {
   "display_name": "hichip-db",
   "language": "python",
   "name": "hichip-db"
  },
  "language_info": {
   "codemirror_mode": {
    "name": "ipython",
    "version": 3
   },
   "file_extension": ".py",
   "mimetype": "text/x-python",
   "name": "python",
   "nbconvert_exporter": "python",
   "pygments_lexer": "ipython3",
   "version": "3.9.12"
  }
 },
 "nbformat": 4,
 "nbformat_minor": 5
}
