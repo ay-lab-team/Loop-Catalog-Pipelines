{
 "cells": [
  {
   "cell_type": "code",
   "execution_count": 63,
   "metadata": {},
   "outputs": [],
   "source": [
    "import os \n",
    "import pandas as pd\n",
    "import numpy as np\n",
    "import glob"
   ]
  },
  {
   "attachments": {},
   "cell_type": "markdown",
   "metadata": {},
   "source": [
    "## Loading the samplesheet data"
   ]
  },
  {
   "cell_type": "code",
   "execution_count": 13,
   "metadata": {},
   "outputs": [],
   "source": [
    "# load the sample sheet with the number of loops\n",
    "wc = pd.read_csv('samplesheet.fithichip.wc.txt',\n",
    "                 sep='\\t',\n",
    "                 names=['sample', 'num_loops'],\n",
    "                 header=None)\n",
    "\n",
    "# extract metadata from the file names\n",
    "def get_meta(x):\n",
    "    meta = x.split('/')\n",
    "    ref = meta[2]\n",
    "    loop_source = meta[4]\n",
    "    peak_source = meta[5]\n",
    "    peak_caller = meta[6]\n",
    "    stringency = meta[7]\n",
    "    loop_caller = 'fithichip' if 'FitHiC' in meta[8] else 'other'\n",
    "    return((ref, loop_source, peak_source, peak_caller, stringency, loop_caller))\n",
    "metadata = wc['sample'].apply(get_meta).values.tolist()\n",
    "metadata = list(zip(*metadata))\n",
    "refs, loop_sources, peak_sources, peak_callers, stringencies, loop_callers = metadata\n",
    "\n",
    "wc['ref'] = refs\n",
    "wc['loop_source'] = loop_sources\n",
    "wc['peak_source'] = peak_sources\n",
    "wc['peak_caller'] = peak_callers\n",
    "wc['stringency'] = stringencies\n",
    "wc['loop_caller'] = loop_callers"
   ]
  },
  {
   "cell_type": "code",
   "execution_count": 14,
   "metadata": {},
   "outputs": [
    {
     "data": {
      "text/plain": [
       "'results/shortcuts/hg38/loops/hichip/hichip/fithichip-utility/loose/293T.GSE128106.Homo_Sapiens.YY1.b1.10000.interactions_FitHiC_Q0.01.bed'"
      ]
     },
     "execution_count": 14,
     "metadata": {},
     "output_type": "execute_result"
    }
   ],
   "source": [
    "wc.iloc[0,0]"
   ]
  },
  {
   "cell_type": "code",
   "execution_count": 15,
   "metadata": {},
   "outputs": [
    {
     "data": {
      "text/html": [
       "<div>\n",
       "<style scoped>\n",
       "    .dataframe tbody tr th:only-of-type {\n",
       "        vertical-align: middle;\n",
       "    }\n",
       "\n",
       "    .dataframe tbody tr th {\n",
       "        vertical-align: top;\n",
       "    }\n",
       "\n",
       "    .dataframe thead th {\n",
       "        text-align: right;\n",
       "    }\n",
       "</style>\n",
       "<table border=\"1\" class=\"dataframe\">\n",
       "  <thead>\n",
       "    <tr style=\"text-align: right;\">\n",
       "      <th></th>\n",
       "      <th>sample</th>\n",
       "      <th>num_loops</th>\n",
       "      <th>ref</th>\n",
       "      <th>loop_source</th>\n",
       "      <th>peak_source</th>\n",
       "      <th>peak_caller</th>\n",
       "      <th>stringency</th>\n",
       "      <th>loop_caller</th>\n",
       "    </tr>\n",
       "  </thead>\n",
       "  <tbody>\n",
       "    <tr>\n",
       "      <th>0</th>\n",
       "      <td>results/shortcuts/hg38/loops/hichip/hichip/fit...</td>\n",
       "      <td>0</td>\n",
       "      <td>hg38</td>\n",
       "      <td>hichip</td>\n",
       "      <td>hichip</td>\n",
       "      <td>fithichip-utility</td>\n",
       "      <td>loose</td>\n",
       "      <td>fithichip</td>\n",
       "    </tr>\n",
       "    <tr>\n",
       "      <th>1</th>\n",
       "      <td>results/shortcuts/hg38/loops/hichip/hichip/fit...</td>\n",
       "      <td>0</td>\n",
       "      <td>hg38</td>\n",
       "      <td>hichip</td>\n",
       "      <td>hichip</td>\n",
       "      <td>fithichip-utility</td>\n",
       "      <td>loose</td>\n",
       "      <td>fithichip</td>\n",
       "    </tr>\n",
       "    <tr>\n",
       "      <th>2</th>\n",
       "      <td>results/shortcuts/hg38/loops/hichip/hichip/fit...</td>\n",
       "      <td>0</td>\n",
       "      <td>hg38</td>\n",
       "      <td>hichip</td>\n",
       "      <td>hichip</td>\n",
       "      <td>fithichip-utility</td>\n",
       "      <td>loose</td>\n",
       "      <td>fithichip</td>\n",
       "    </tr>\n",
       "    <tr>\n",
       "      <th>3</th>\n",
       "      <td>results/shortcuts/hg38/loops/hichip/hichip/fit...</td>\n",
       "      <td>0</td>\n",
       "      <td>hg38</td>\n",
       "      <td>hichip</td>\n",
       "      <td>hichip</td>\n",
       "      <td>fithichip-utility</td>\n",
       "      <td>loose</td>\n",
       "      <td>fithichip</td>\n",
       "    </tr>\n",
       "    <tr>\n",
       "      <th>4</th>\n",
       "      <td>results/shortcuts/hg38/loops/hichip/hichip/fit...</td>\n",
       "      <td>0</td>\n",
       "      <td>hg38</td>\n",
       "      <td>hichip</td>\n",
       "      <td>hichip</td>\n",
       "      <td>fithichip-utility</td>\n",
       "      <td>loose</td>\n",
       "      <td>fithichip</td>\n",
       "    </tr>\n",
       "  </tbody>\n",
       "</table>\n",
       "</div>"
      ],
      "text/plain": [
       "                                              sample  num_loops   ref  \\\n",
       "0  results/shortcuts/hg38/loops/hichip/hichip/fit...          0  hg38   \n",
       "1  results/shortcuts/hg38/loops/hichip/hichip/fit...          0  hg38   \n",
       "2  results/shortcuts/hg38/loops/hichip/hichip/fit...          0  hg38   \n",
       "3  results/shortcuts/hg38/loops/hichip/hichip/fit...          0  hg38   \n",
       "4  results/shortcuts/hg38/loops/hichip/hichip/fit...          0  hg38   \n",
       "\n",
       "  loop_source peak_source        peak_caller stringency loop_caller  \n",
       "0      hichip      hichip  fithichip-utility      loose   fithichip  \n",
       "1      hichip      hichip  fithichip-utility      loose   fithichip  \n",
       "2      hichip      hichip  fithichip-utility      loose   fithichip  \n",
       "3      hichip      hichip  fithichip-utility      loose   fithichip  \n",
       "4      hichip      hichip  fithichip-utility      loose   fithichip  "
      ]
     },
     "execution_count": 15,
     "metadata": {},
     "output_type": "execute_result"
    }
   ],
   "source": [
    "wc.head()"
   ]
  },
  {
   "attachments": {},
   "cell_type": "markdown",
   "metadata": {},
   "source": [
    "## Sample-level Summary For Loop Counts\n"
   ]
  },
  {
   "cell_type": "code",
   "execution_count": 16,
   "metadata": {},
   "outputs": [],
   "source": [
    "# count the number of samples with zero and non-zero number of loops\n",
    "grps = wc.groupby(['ref', 'stringency', 'peak_caller', 'loop_caller'])\n",
    "\n",
    "# perform the value count across groups\n",
    "value_counts = grps.num_loops.value_counts(bins=[-np.inf, 0, np.inf]).to_frame()\n",
    "value_counts.columns = ['count']\n",
    "value_counts.reset_index(inplace=True)\n",
    "value_counts = value_counts.pivot(index=['ref', 'stringency', 'peak_caller', 'loop_caller'],\n",
    "                   columns=['num_loops'],\n",
    "                   values=['count'])\n",
    "value_counts.columns = value_counts.columns.set_levels(['zero', 'non-zero'], level=1)\n",
    "\n",
    "# add a total column\n",
    "value_counts[('count', 'total')] = value_counts.sum(axis=1)"
   ]
  },
  {
   "cell_type": "code",
   "execution_count": 17,
   "metadata": {},
   "outputs": [
    {
     "data": {
      "text/html": [
       "<div>\n",
       "<style scoped>\n",
       "    .dataframe tbody tr th:only-of-type {\n",
       "        vertical-align: middle;\n",
       "    }\n",
       "\n",
       "    .dataframe tbody tr th {\n",
       "        vertical-align: top;\n",
       "    }\n",
       "\n",
       "    .dataframe thead tr th {\n",
       "        text-align: left;\n",
       "    }\n",
       "\n",
       "    .dataframe thead tr:last-of-type th {\n",
       "        text-align: right;\n",
       "    }\n",
       "</style>\n",
       "<table border=\"1\" class=\"dataframe\">\n",
       "  <thead>\n",
       "    <tr>\n",
       "      <th></th>\n",
       "      <th></th>\n",
       "      <th></th>\n",
       "      <th></th>\n",
       "      <th colspan=\"3\" halign=\"left\">count</th>\n",
       "    </tr>\n",
       "    <tr>\n",
       "      <th></th>\n",
       "      <th></th>\n",
       "      <th></th>\n",
       "      <th>num_loops</th>\n",
       "      <th>zero</th>\n",
       "      <th>non-zero</th>\n",
       "      <th>total</th>\n",
       "    </tr>\n",
       "    <tr>\n",
       "      <th>ref</th>\n",
       "      <th>stringency</th>\n",
       "      <th>peak_caller</th>\n",
       "      <th>loop_caller</th>\n",
       "      <th></th>\n",
       "      <th></th>\n",
       "      <th></th>\n",
       "    </tr>\n",
       "  </thead>\n",
       "  <tbody>\n",
       "    <tr>\n",
       "      <th rowspan=\"2\" valign=\"top\">hg38</th>\n",
       "      <th>loose</th>\n",
       "      <th>fithichip-utility</th>\n",
       "      <th>fithichip</th>\n",
       "      <td>71</td>\n",
       "      <td>1363</td>\n",
       "      <td>1434</td>\n",
       "    </tr>\n",
       "    <tr>\n",
       "      <th>stringent</th>\n",
       "      <th>fithichip-utility</th>\n",
       "      <th>fithichip</th>\n",
       "      <td>181</td>\n",
       "      <td>1253</td>\n",
       "      <td>1434</td>\n",
       "    </tr>\n",
       "  </tbody>\n",
       "</table>\n",
       "</div>"
      ],
      "text/plain": [
       "                                              count               \n",
       "num_loops                                      zero non-zero total\n",
       "ref  stringency peak_caller       loop_caller                     \n",
       "hg38 loose      fithichip-utility fithichip      71     1363  1434\n",
       "     stringent  fithichip-utility fithichip     181     1253  1434"
      ]
     },
     "execution_count": 17,
     "metadata": {},
     "output_type": "execute_result"
    }
   ],
   "source": [
    "value_counts"
   ]
  },
  {
   "attachments": {},
   "cell_type": "markdown",
   "metadata": {},
   "source": [
    "The most important number will be non-zero, we will use this number to ensure that we correctly\n",
    "producing the correct number of visualization files.\n",
    "\n",
    "After this, the next most important number is the total. For:\n",
    "- hg38 we should have 478 samples * 3 resolutions = 1434 files\n",
    "- B\n",
    "- C"
   ]
  },
  {
   "cell_type": "markdown",
   "metadata": {},
   "source": [
    "Count the existence of loops in the sample sheet"
   ]
  },
  {
   "cell_type": "code",
   "execution_count": 45,
   "metadata": {},
   "outputs": [],
   "source": [
    "glob_str = '../../../../'\n",
    "glob_str += 'results/shortcuts/hg38/loops/hichip/hichip/fithichip-utility/{stringency}/*.interactions_FitHiC_Q0.01.interaction.bb'\n",
    "num_stringent = len(glob.glob(glob_str.format(stringency='stringent')))\n",
    "num_loose = len(glob.glob(glob_str.format(stringency='loose')))"
   ]
  },
  {
   "cell_type": "code",
   "execution_count": 46,
   "metadata": {},
   "outputs": [
    {
     "data": {
      "text/plain": [
       "(452, 1320)"
      ]
     },
     "execution_count": 46,
     "metadata": {},
     "output_type": "execute_result"
    }
   ],
   "source": [
    "num_stringent, num_loose"
   ]
  },
  {
   "attachments": {},
   "cell_type": "markdown",
   "metadata": {},
   "source": [
    "## Further investigate problematic samples"
   ]
  },
  {
   "cell_type": "code",
   "execution_count": 58,
   "metadata": {},
   "outputs": [],
   "source": [
    "wc['bb_file'] = wc['sample'].replace('bed$', 'interaction.bb', regex=True)\n",
    "\n",
    "# check if the file exists\n",
    "def check_file(x, root_dir='../../../../'):\n",
    "    fn = os.path.join(root_dir, x)\n",
    "    return(os.path.exists(fn))\n",
    "wc['bb_file_exists'] = wc['bb_file'].apply(check_file)"
   ]
  },
  {
   "cell_type": "code",
   "execution_count": 68,
   "metadata": {},
   "outputs": [],
   "source": [
    "missing_data = wc.loc[(wc.num_loops > 0) & (wc.bb_file_exists == False)]"
   ]
  },
  {
   "cell_type": "code",
   "execution_count": 70,
   "metadata": {},
   "outputs": [],
   "source": [
    "missing_arrayids = missing_data.index.values + 1"
   ]
  },
  {
   "cell_type": "code",
   "execution_count": 71,
   "metadata": {},
   "outputs": [
    {
     "data": {
      "text/plain": [
       "array([ 112,  113,  114,  136,  328,  329,  341,  344,  361,  433,  434,\n",
       "        435,  451,  452,  466,  467,  468,  472,  473,  474,  475,  476,\n",
       "        481,  482,  483,  778,  779,  782,  886,  887,  888,  889,  890,\n",
       "        891, 1183, 1184, 1185, 1186, 1187, 1188, 1189, 1190, 1298, 1763,\n",
       "       1775, 1867, 1868, 2213, 2226, 2227, 2228, 2229, 2230, 2231, 2232,\n",
       "       2233, 2234, 2235, 2236, 2237, 2238, 2239, 2240, 2241, 2242, 2243,\n",
       "       2244, 2245, 2246, 2247, 2248, 2249, 2250, 2251, 2252, 2253, 2254,\n",
       "       2255, 2256, 2257, 2258, 2259, 2260, 2261, 2262, 2263, 2264, 2265,\n",
       "       2266, 2267, 2268, 2269, 2270, 2271, 2272, 2292, 2293, 2294, 2295,\n",
       "       2296, 2297, 2298, 2299, 2300, 2301, 2305, 2306, 2307, 2308, 2309,\n",
       "       2310, 2311, 2312, 2313, 2314, 2315, 2316, 2317, 2318, 2319, 2320,\n",
       "       2321, 2322, 2323, 2324, 2325, 2326, 2327, 2328, 2329, 2330, 2331,\n",
       "       2332, 2333, 2334, 2335, 2336, 2337, 2338, 2339, 2340, 2341, 2343,\n",
       "       2344, 2345, 2346, 2347, 2348, 2349, 2350, 2351, 2353, 2354, 2355,\n",
       "       2356, 2357, 2358, 2359, 2360, 2362, 2363, 2364, 2365, 2366, 2367,\n",
       "       2368, 2369, 2370, 2371, 2372, 2373, 2374, 2375, 2376, 2378, 2380,\n",
       "       2381, 2382, 2383, 2384, 2385, 2386, 2387, 2388, 2389, 2390, 2391,\n",
       "       2392, 2393, 2394, 2395, 2396, 2397, 2398, 2399, 2400, 2401, 2402,\n",
       "       2403, 2404, 2405, 2406, 2407, 2408, 2409, 2410, 2411, 2412, 2413,\n",
       "       2414, 2415, 2416, 2417, 2418, 2419, 2420, 2421, 2422, 2423, 2424,\n",
       "       2425, 2426, 2427, 2428, 2429, 2430, 2431, 2432, 2433, 2434, 2435,\n",
       "       2436, 2437, 2438, 2439, 2440, 2441, 2442, 2443, 2444, 2445, 2446,\n",
       "       2447, 2448, 2449, 2450, 2451, 2452, 2453, 2454, 2458, 2459, 2460,\n",
       "       2461, 2462, 2463, 2476, 2477, 2478, 2480, 2482, 2483, 2484, 2485,\n",
       "       2486, 2487, 2488, 2489, 2490, 2491, 2492, 2493, 2494, 2495, 2496,\n",
       "       2497, 2498, 2499, 2500, 2501, 2502, 2503, 2504, 2505, 2519, 2542,\n",
       "       2543, 2544, 2545, 2546, 2547, 2548, 2549, 2550, 2551, 2552, 2553,\n",
       "       2554, 2555, 2556, 2557, 2558, 2559, 2560, 2561, 2562, 2563, 2564,\n",
       "       2565, 2566, 2567, 2569, 2570, 2571, 2572, 2573, 2574, 2575, 2576,\n",
       "       2578, 2579, 2580, 2581, 2582, 2584, 2585, 2586, 2587, 2588, 2589,\n",
       "       2590, 2591, 2592, 2599, 2600, 2601, 2602, 2603, 2604, 2605, 2606,\n",
       "       2607, 2608, 2609, 2610, 2611, 2612, 2613, 2614, 2615, 2616, 2617,\n",
       "       2618, 2619, 2620, 2621, 2622, 2623, 2624, 2625, 2626, 2627, 2628,\n",
       "       2629, 2630, 2631, 2632, 2633, 2634, 2635, 2636, 2637, 2638, 2639,\n",
       "       2640, 2641, 2642, 2643, 2644, 2645, 2646, 2647, 2648, 2649, 2650,\n",
       "       2651, 2652, 2653, 2654, 2655, 2656, 2657, 2658, 2659, 2660, 2661,\n",
       "       2662, 2663, 2664, 2665, 2666, 2667, 2668, 2669, 2670, 2671, 2672,\n",
       "       2673, 2674, 2675, 2676, 2677, 2678, 2679, 2680, 2681, 2682, 2683,\n",
       "       2684, 2685, 2686, 2687, 2688, 2689, 2690, 2691, 2692, 2693, 2694,\n",
       "       2695, 2696, 2697, 2698, 2699, 2700, 2701, 2702, 2703, 2704, 2705,\n",
       "       2706, 2707, 2708, 2709, 2710, 2711, 2712, 2713, 2714, 2715, 2716,\n",
       "       2717, 2722, 2723, 2724, 2725, 2728, 2729, 2730, 2731, 2732, 2733,\n",
       "       2734, 2735, 2736, 2737, 2738, 2739, 2740, 2741, 2742, 2743, 2744,\n",
       "       2745, 2746, 2747, 2748, 2749, 2750, 2751, 2752, 2753, 2754, 2755,\n",
       "       2756, 2757, 2758, 2759, 2760, 2761, 2762, 2763, 2764, 2765, 2766,\n",
       "       2767, 2768, 2769, 2770, 2771, 2772, 2773, 2774, 2775, 2776, 2777,\n",
       "       2778, 2779, 2780, 2781, 2782, 2783, 2784, 2785, 2786, 2787, 2788,\n",
       "       2789, 2790, 2791, 2792, 2793, 2794, 2795, 2796, 2797, 2798, 2799,\n",
       "       2800, 2801, 2802, 2803, 2804, 2805, 2806, 2807, 2808, 2809, 2810,\n",
       "       2811, 2812, 2813, 2814, 2815, 2816, 2817, 2818, 2819, 2820, 2821,\n",
       "       2822, 2823, 2824, 2825, 2826, 2827, 2828, 2829, 2830, 2831, 2832,\n",
       "       2833, 2834, 2835, 2836, 2837, 2838, 2839, 2840, 2841, 2842, 2843,\n",
       "       2844, 2845, 2846, 2847, 2848, 2849, 2850, 2851, 2852, 2853, 2854,\n",
       "       2855, 2856, 2857, 2858, 2859, 2860, 2861, 2862, 2863, 2864, 2865,\n",
       "       2866, 2867, 2868])"
      ]
     },
     "execution_count": 71,
     "metadata": {},
     "output_type": "execute_result"
    }
   ],
   "source": [
    "missing_arrayids"
   ]
  },
  {
   "cell_type": "code",
   "execution_count": null,
   "metadata": {},
   "outputs": [],
   "source": []
  },
  {
   "cell_type": "code",
   "execution_count": null,
   "metadata": {},
   "outputs": [],
   "source": []
  },
  {
   "cell_type": "code",
   "execution_count": null,
   "metadata": {},
   "outputs": [],
   "source": []
  },
  {
   "cell_type": "code",
   "execution_count": null,
   "metadata": {},
   "outputs": [],
   "source": []
  }
 ],
 "metadata": {
  "kernelspec": {
   "display_name": "hichip-db",
   "language": "python",
   "name": "python3"
  },
  "language_info": {
   "codemirror_mode": {
    "name": "ipython",
    "version": 3
   },
   "file_extension": ".py",
   "mimetype": "text/x-python",
   "name": "python",
   "nbconvert_exporter": "python",
   "pygments_lexer": "ipython3",
   "version": "3.9.10"
  },
  "orig_nbformat": 4
 },
 "nbformat": 4,
 "nbformat_minor": 2
}
