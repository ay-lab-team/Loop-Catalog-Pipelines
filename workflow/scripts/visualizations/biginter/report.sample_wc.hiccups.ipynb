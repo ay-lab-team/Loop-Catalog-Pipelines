{
 "cells": [
  {
   "cell_type": "code",
   "execution_count": 1,
   "metadata": {},
   "outputs": [],
   "source": [
    "import os \n",
    "import pandas as pd\n",
    "import numpy as np\n",
    "import glob"
   ]
  },
  {
   "cell_type": "code",
   "execution_count": 2,
   "metadata": {},
   "outputs": [
    {
     "data": {
      "text/html": [
       "<div>\n",
       "<style scoped>\n",
       "    .dataframe tbody tr th:only-of-type {\n",
       "        vertical-align: middle;\n",
       "    }\n",
       "\n",
       "    .dataframe tbody tr th {\n",
       "        vertical-align: top;\n",
       "    }\n",
       "\n",
       "    .dataframe thead th {\n",
       "        text-align: right;\n",
       "    }\n",
       "</style>\n",
       "<table border=\"1\" class=\"dataframe\">\n",
       "  <thead>\n",
       "    <tr style=\"text-align: right;\">\n",
       "      <th></th>\n",
       "      <th>sample</th>\n",
       "      <th>num_loops</th>\n",
       "    </tr>\n",
       "  </thead>\n",
       "  <tbody>\n",
       "    <tr>\n",
       "      <th>0</th>\n",
       "      <td>results/shortcuts/hg38/loops/hichip/hiccups/A6...</td>\n",
       "      <td>2116</td>\n",
       "    </tr>\n",
       "    <tr>\n",
       "      <th>1</th>\n",
       "      <td>results/shortcuts/hg38/loops/hichip/hiccups/A6...</td>\n",
       "      <td>3880</td>\n",
       "    </tr>\n",
       "    <tr>\n",
       "      <th>2</th>\n",
       "      <td>results/shortcuts/hg38/loops/hichip/hiccups/A6...</td>\n",
       "      <td>1056</td>\n",
       "    </tr>\n",
       "    <tr>\n",
       "      <th>3</th>\n",
       "      <td>results/shortcuts/hg38/loops/hichip/hiccups/Ao...</td>\n",
       "      <td>6026</td>\n",
       "    </tr>\n",
       "    <tr>\n",
       "      <th>4</th>\n",
       "      <td>results/shortcuts/hg38/loops/hichip/hiccups/Ao...</td>\n",
       "      <td>5584</td>\n",
       "    </tr>\n",
       "    <tr>\n",
       "      <th>...</th>\n",
       "      <td>...</td>\n",
       "      <td>...</td>\n",
       "    </tr>\n",
       "    <tr>\n",
       "      <th>433</th>\n",
       "      <td>results/shortcuts/hg38/loops/hichip/hiccups/Tr...</td>\n",
       "      <td>2551</td>\n",
       "    </tr>\n",
       "    <tr>\n",
       "      <th>434</th>\n",
       "      <td>results/shortcuts/hg38/loops/hichip/hiccups/Tr...</td>\n",
       "      <td>1339</td>\n",
       "    </tr>\n",
       "    <tr>\n",
       "      <th>435</th>\n",
       "      <td>results/shortcuts/hg38/loops/hichip/hiccups/Tr...</td>\n",
       "      <td>3050</td>\n",
       "    </tr>\n",
       "    <tr>\n",
       "      <th>436</th>\n",
       "      <td>results/shortcuts/hg38/loops/hichip/hiccups/Tr...</td>\n",
       "      <td>4330</td>\n",
       "    </tr>\n",
       "    <tr>\n",
       "      <th>437</th>\n",
       "      <td>results/shortcuts/hg38/loops/hichip/hiccups/Tr...</td>\n",
       "      <td>2406</td>\n",
       "    </tr>\n",
       "  </tbody>\n",
       "</table>\n",
       "<p>438 rows × 2 columns</p>\n",
       "</div>"
      ],
      "text/plain": [
       "                                                sample  num_loops\n",
       "0    results/shortcuts/hg38/loops/hichip/hiccups/A6...       2116\n",
       "1    results/shortcuts/hg38/loops/hichip/hiccups/A6...       3880\n",
       "2    results/shortcuts/hg38/loops/hichip/hiccups/A6...       1056\n",
       "3    results/shortcuts/hg38/loops/hichip/hiccups/Ao...       6026\n",
       "4    results/shortcuts/hg38/loops/hichip/hiccups/Ao...       5584\n",
       "..                                                 ...        ...\n",
       "433  results/shortcuts/hg38/loops/hichip/hiccups/Tr...       2551\n",
       "434  results/shortcuts/hg38/loops/hichip/hiccups/Tr...       1339\n",
       "435  results/shortcuts/hg38/loops/hichip/hiccups/Tr...       3050\n",
       "436  results/shortcuts/hg38/loops/hichip/hiccups/Tr...       4330\n",
       "437  results/shortcuts/hg38/loops/hichip/hiccups/Tr...       2406\n",
       "\n",
       "[438 rows x 2 columns]"
      ]
     },
     "execution_count": 2,
     "metadata": {},
     "output_type": "execute_result"
    }
   ],
   "source": [
    "wc = pd.read_csv('samplesheet.hiccup.wc.txt',\n",
    "                 sep='\\t',\n",
    "                 names=['sample', 'num_loops'],\n",
    "                 header=None)\n",
    "wc"
   ]
  },
  {
   "cell_type": "markdown",
   "metadata": {},
   "source": [
    "## Notes on Files used to create Inventory for hiccup"
   ]
  },
  {
   "cell_type": "markdown",
   "metadata": {},
   "source": [
    "## Loading the samplesheet data"
   ]
  },
  {
   "cell_type": "code",
   "execution_count": 4,
   "metadata": {},
   "outputs": [],
   "source": [
    "# load the sample sheet with the number of loops\n",
    "wc = pd.read_csv('samplesheet.hiccups.wc.txt',\n",
    "                 sep='\\t',\n",
    "                 names=['sample', 'num_loops'],\n",
    "                 header=None)\n",
    "\n",
    "# extract metadata from the file names\n",
    "def get_meta(x):\n",
    "    meta = x.split('/')\n",
    "    ref = meta[2]\n",
    "    loop_source = meta[4]\n",
    "    peak_source = meta[5]\n",
    "    #peak_caller = meta[6]\n",
    "    #stringency = meta[7]\n",
    "    loop_caller = 'hiccups' if 'hiccups' in meta[5] else 'other'\n",
    "    return((ref, loop_source, peak_source, loop_caller))\n",
    "metadata = wc['sample'].apply(get_meta).values.tolist()\n",
    "metadata = list(zip(*metadata))\n",
    "refs, loop_sources, peak_sources, loop_callers = metadata\n",
    "\n",
    "wc['ref'] = refs\n",
    "wc['loop_source'] = loop_sources\n",
    "wc['peak_source'] = peak_sources\n",
    "#wc['peak_caller'] = peak_callers\n",
    "#wc['stringency'] = stringencies\n",
    "wc['loop_caller'] = loop_callers"
   ]
  },
  {
   "cell_type": "code",
   "execution_count": 5,
   "metadata": {},
   "outputs": [
    {
     "data": {
      "text/plain": [
       "'results/shortcuts/hg38/loops/hichip/hiccups/A673_SA1m1.GSE133227.Homo_Sapiens.CTCF.b2.10000.post_processed.hiccups.bed'"
      ]
     },
     "execution_count": 5,
     "metadata": {},
     "output_type": "execute_result"
    }
   ],
   "source": [
    "wc.iloc[0,0]"
   ]
  },
  {
   "cell_type": "code",
   "execution_count": 6,
   "metadata": {},
   "outputs": [],
   "source": [
    "grps = wc.groupby(['ref'])#, 'loop_caller'])\n",
    "\n",
    "# perform the value count across groups\n",
    "#value_counts = grps.num_loops.value_counts(bins=[-np.inf, 0, np.inf])#.to_frame()\n",
    "value_counts = wc.num_loops.value_counts(bins=[-np.inf, 0, np.inf]).to_frame()"
   ]
  },
  {
   "cell_type": "code",
   "execution_count": 7,
   "metadata": {},
   "outputs": [
    {
     "data": {
      "text/html": [
       "<div>\n",
       "<style scoped>\n",
       "    .dataframe tbody tr th:only-of-type {\n",
       "        vertical-align: middle;\n",
       "    }\n",
       "\n",
       "    .dataframe tbody tr th {\n",
       "        vertical-align: top;\n",
       "    }\n",
       "\n",
       "    .dataframe thead th {\n",
       "        text-align: right;\n",
       "    }\n",
       "</style>\n",
       "<table border=\"1\" class=\"dataframe\">\n",
       "  <thead>\n",
       "    <tr style=\"text-align: right;\">\n",
       "      <th></th>\n",
       "      <th>num_loops</th>\n",
       "    </tr>\n",
       "  </thead>\n",
       "  <tbody>\n",
       "    <tr>\n",
       "      <th>(0.0, inf]</th>\n",
       "      <td>438</td>\n",
       "    </tr>\n",
       "    <tr>\n",
       "      <th>(-inf, 0.0]</th>\n",
       "      <td>0</td>\n",
       "    </tr>\n",
       "  </tbody>\n",
       "</table>\n",
       "</div>"
      ],
      "text/plain": [
       "             num_loops\n",
       "(0.0, inf]         438\n",
       "(-inf, 0.0]          0"
      ]
     },
     "execution_count": 7,
     "metadata": {},
     "output_type": "execute_result"
    }
   ],
   "source": [
    "value_counts"
   ]
  },
  {
   "cell_type": "code",
   "execution_count": null,
   "metadata": {},
   "outputs": [],
   "source": []
  },
  {
   "cell_type": "code",
   "execution_count": null,
   "metadata": {},
   "outputs": [
    {
     "data": {
      "text/plain": [
       "ref   loop_caller  num_loops  \n",
       "hg38  hiccups      (-inf, 0.0]    438\n",
       "                   (0.0, inf]       0\n",
       "Name: num_loops, dtype: int64"
      ]
     },
     "execution_count": 198,
     "metadata": {},
     "output_type": "execute_result"
    }
   ],
   "source": [
    "grps.num_loops.value_counts(bins=[-np.inf,0,np.inf])"
   ]
  },
  {
   "cell_type": "code",
   "execution_count": null,
   "metadata": {},
   "outputs": [
    {
     "data": {
      "text/html": [
       "<div>\n",
       "<style scoped>\n",
       "    .dataframe tbody tr th:only-of-type {\n",
       "        vertical-align: middle;\n",
       "    }\n",
       "\n",
       "    .dataframe tbody tr th {\n",
       "        vertical-align: top;\n",
       "    }\n",
       "\n",
       "    .dataframe thead th {\n",
       "        text-align: right;\n",
       "    }\n",
       "</style>\n",
       "<table border=\"1\" class=\"dataframe\">\n",
       "  <thead>\n",
       "    <tr style=\"text-align: right;\">\n",
       "      <th></th>\n",
       "      <th></th>\n",
       "      <th>count</th>\n",
       "      <th>mean</th>\n",
       "      <th>std</th>\n",
       "      <th>min</th>\n",
       "      <th>25%</th>\n",
       "      <th>50%</th>\n",
       "      <th>75%</th>\n",
       "      <th>max</th>\n",
       "    </tr>\n",
       "    <tr>\n",
       "      <th>ref</th>\n",
       "      <th>loop_caller</th>\n",
       "      <th></th>\n",
       "      <th></th>\n",
       "      <th></th>\n",
       "      <th></th>\n",
       "      <th></th>\n",
       "      <th></th>\n",
       "      <th></th>\n",
       "      <th></th>\n",
       "    </tr>\n",
       "  </thead>\n",
       "  <tbody>\n",
       "    <tr>\n",
       "      <th>hg38</th>\n",
       "      <th>hiccups</th>\n",
       "      <td>438.0</td>\n",
       "      <td>5007.840183</td>\n",
       "      <td>6309.19432</td>\n",
       "      <td>258.0</td>\n",
       "      <td>2218.0</td>\n",
       "      <td>3398.0</td>\n",
       "      <td>5756.25</td>\n",
       "      <td>78984.0</td>\n",
       "    </tr>\n",
       "  </tbody>\n",
       "</table>\n",
       "</div>"
      ],
      "text/plain": [
       "                  count         mean         std    min     25%     50%  \\\n",
       "ref  loop_caller                                                          \n",
       "hg38 hiccups      438.0  5007.840183  6309.19432  258.0  2218.0  3398.0   \n",
       "\n",
       "                      75%      max  \n",
       "ref  loop_caller                    \n",
       "hg38 hiccups      5756.25  78984.0  "
      ]
     },
     "execution_count": 199,
     "metadata": {},
     "output_type": "execute_result"
    }
   ],
   "source": [
    "grps.num_loops.describe()"
   ]
  },
  {
   "cell_type": "code",
   "execution_count": null,
   "metadata": {},
   "outputs": [],
   "source": [
    "wc[\"num_loops\"] = pd.to_numeric(wc[\"num_loops\"])"
   ]
  },
  {
   "cell_type": "markdown",
   "metadata": {},
   "source": [
    "## Sample-level Summary For Loop Counts\n"
   ]
  },
  {
   "cell_type": "code",
   "execution_count": null,
   "metadata": {},
   "outputs": [],
   "source": [
    "# count the number of samples with zero and non-zero number of loops\n",
    "grps = wc.groupby(['ref', 'loop_caller'])\n",
    "\n",
    "# perform the value count across groups\n",
    "value_counts = grps.num_loops.value_counts(bins=[-np.inf, 0, np.inf]).to_frame()\n",
    "value_counts.columns = ['count']\n",
    "value_counts.reset_index(inplace=True)\n",
    "value_counts = value_counts.pivot(index=['ref', 'loop_caller'],\n",
    "                   columns=['num_loops'],\n",
    "                   values=['count'])\n",
    "value_counts.columns = value_counts.columns.set_levels(['zero', 'non-zero'], level=1)\n",
    "\n",
    "# add a total column\n",
    "value_counts[('count', 'total')] = value_counts.sum(axis=1)"
   ]
  },
  {
   "cell_type": "code",
   "execution_count": null,
   "metadata": {},
   "outputs": [
    {
     "data": {
      "text/html": [
       "<div>\n",
       "<style scoped>\n",
       "    .dataframe tbody tr th:only-of-type {\n",
       "        vertical-align: middle;\n",
       "    }\n",
       "\n",
       "    .dataframe tbody tr th {\n",
       "        vertical-align: top;\n",
       "    }\n",
       "\n",
       "    .dataframe thead tr th {\n",
       "        text-align: left;\n",
       "    }\n",
       "\n",
       "    .dataframe thead tr:last-of-type th {\n",
       "        text-align: right;\n",
       "    }\n",
       "</style>\n",
       "<table border=\"1\" class=\"dataframe\">\n",
       "  <thead>\n",
       "    <tr>\n",
       "      <th></th>\n",
       "      <th colspan=\"3\" halign=\"left\">count</th>\n",
       "    </tr>\n",
       "    <tr>\n",
       "      <th>num_loops</th>\n",
       "      <th>zero</th>\n",
       "      <th>non-zero</th>\n",
       "      <th>total</th>\n",
       "    </tr>\n",
       "    <tr>\n",
       "      <th>ref</th>\n",
       "      <th></th>\n",
       "      <th></th>\n",
       "      <th></th>\n",
       "    </tr>\n",
       "  </thead>\n",
       "  <tbody>\n",
       "    <tr>\n",
       "      <th>hg38</th>\n",
       "      <td>438</td>\n",
       "      <td>0</td>\n",
       "      <td>438</td>\n",
       "    </tr>\n",
       "  </tbody>\n",
       "</table>\n",
       "</div>"
      ],
      "text/plain": [
       "          count               \n",
       "num_loops  zero non-zero total\n",
       "ref                           \n",
       "hg38        438        0   438"
      ]
     },
     "execution_count": 132,
     "metadata": {},
     "output_type": "execute_result"
    }
   ],
   "source": [
    "value_counts"
   ]
  },
  {
   "cell_type": "markdown",
   "metadata": {},
   "source": [
    "The most important number will be non-zero, we will use this number to ensure that we correctly\n",
    "producing the correct number of visualization files.\n",
    "\n",
    "After this, the next most important number is the total. For:\n",
    "- hg38 we should have 478 samples * 3 resolutions = 1434 files\n",
    "- B\n",
    "- C"
   ]
  },
  {
   "cell_type": "markdown",
   "metadata": {},
   "source": [
    "Count the existence of loops in the sample sheet"
   ]
  },
  {
   "cell_type": "code",
   "execution_count": null,
   "metadata": {},
   "outputs": [],
   "source": [
    "glob_str = '../../../../'\n",
    "glob_str += 'results/shortcuts/hg38/loops/hichip/hichip/fithichip-utility/{stringency}/*.interactions_FitHiC_Q0.01.interaction.bb'\n",
    "num_stringent = len(glob.glob(glob_str.format(stringency='stringent')))\n",
    "num_loose = len(glob.glob(glob_str.format(stringency='loose')))"
   ]
  },
  {
   "cell_type": "code",
   "execution_count": null,
   "metadata": {},
   "outputs": [
    {
     "data": {
      "text/plain": [
       "(1253, 1363)"
      ]
     },
     "execution_count": 55,
     "metadata": {},
     "output_type": "execute_result"
    }
   ],
   "source": [
    "num_stringent, num_loose"
   ]
  },
  {
   "cell_type": "code",
   "execution_count": null,
   "metadata": {},
   "outputs": [
    {
     "data": {
      "text/plain": [
       "2616"
      ]
     },
     "execution_count": 56,
     "metadata": {},
     "output_type": "execute_result"
    }
   ],
   "source": [
    "1363 + 1253"
   ]
  },
  {
   "cell_type": "markdown",
   "metadata": {},
   "source": [
    "## Further investigate problematic samples"
   ]
  },
  {
   "cell_type": "code",
   "execution_count": null,
   "metadata": {},
   "outputs": [],
   "source": [
    "wc['bb_file'] = wc['sample'].replace('bed$', 'interaction.bb', regex=True)\n",
    "\n",
    "# check if the file exists\n",
    "def check_file(x, root_dir='../../../../'):\n",
    "    fn = os.path.join(root_dir, x)\n",
    "    return(os.path.exists(fn))\n",
    "wc['bb_file_exists'] = wc['bb_file'].apply(check_file)"
   ]
  },
  {
   "cell_type": "code",
   "execution_count": null,
   "metadata": {},
   "outputs": [],
   "source": [
    "nonzero_data = wc.loc[(wc.num_loops > 0)]"
   ]
  },
  {
   "cell_type": "code",
   "execution_count": null,
   "metadata": {},
   "outputs": [],
   "source": [
    "missing_data = wc.loc[(wc.num_loops > 0) & (wc.bb_file_exists == False)]"
   ]
  },
  {
   "cell_type": "code",
   "execution_count": null,
   "metadata": {},
   "outputs": [],
   "source": [
    "missing_arrayids = missing_data.index.values + 1"
   ]
  },
  {
   "cell_type": "code",
   "execution_count": null,
   "metadata": {},
   "outputs": [
    {
     "data": {
      "text/plain": [
       "array([], dtype=int64)"
      ]
     },
     "execution_count": 234,
     "metadata": {},
     "output_type": "execute_result"
    }
   ],
   "source": [
    "missing_arrayids"
   ]
  },
  {
   "cell_type": "code",
   "execution_count": null,
   "metadata": {},
   "outputs": [],
   "source": [
    "missing_arrayids = missing_arrayids.astype(str)"
   ]
  },
  {
   "cell_type": "code",
   "execution_count": null,
   "metadata": {},
   "outputs": [
    {
     "ename": "TypeError",
     "evalue": "sequence item 0: expected str instance, numpy.int64 found",
     "output_type": "error",
     "traceback": [
      "\u001b[0;31m---------------------------------------------------------------------------\u001b[0m",
      "\u001b[0;31mTypeError\u001b[0m                                 Traceback (most recent call last)",
      "Cell \u001b[0;32mIn[220], line 1\u001b[0m\n\u001b[0;32m----> 1\u001b[0m rerun_ids \u001b[38;5;241m=\u001b[39m \u001b[38;5;124;43m'\u001b[39;49m\u001b[38;5;124;43m,\u001b[39;49m\u001b[38;5;124;43m'\u001b[39;49m\u001b[38;5;241;43m.\u001b[39;49m\u001b[43mjoin\u001b[49m\u001b[43m(\u001b[49m\u001b[43mmissing_arrayids\u001b[49m\u001b[43m)\u001b[49m\n\u001b[1;32m      2\u001b[0m \u001b[38;5;28mprint\u001b[39m(rerun_ids)\n",
      "\u001b[0;31mTypeError\u001b[0m: sequence item 0: expected str instance, numpy.int64 found"
     ]
    }
   ],
   "source": [
    "rerun_ids = ','.join(missing_arrayids)\n",
    "print(rerun_ids)"
   ]
  },
  {
   "cell_type": "code",
   "execution_count": null,
   "metadata": {},
   "outputs": [
    {
     "data": {
      "text/plain": [
       "8"
      ]
     },
     "execution_count": 193,
     "metadata": {},
     "output_type": "execute_result"
    }
   ],
   "source": [
    "len(missing_arrayids)"
   ]
  },
  {
   "cell_type": "code",
   "execution_count": null,
   "metadata": {},
   "outputs": [
    {
     "data": {
      "text/plain": [
       "(438, 4)"
      ]
     },
     "execution_count": 194,
     "metadata": {},
     "output_type": "execute_result"
    }
   ],
   "source": [
    "nonzero_data.shape"
   ]
  },
  {
   "cell_type": "code",
   "execution_count": null,
   "metadata": {},
   "outputs": [
    {
     "data": {
      "text/plain": [
       "(8, 4)"
      ]
     },
     "execution_count": 195,
     "metadata": {},
     "output_type": "execute_result"
    }
   ],
   "source": [
    "missing_data.shape"
   ]
  },
  {
   "cell_type": "code",
   "execution_count": null,
   "metadata": {},
   "outputs": [
    {
     "data": {
      "text/html": [
       "<div>\n",
       "<style scoped>\n",
       "    .dataframe tbody tr th:only-of-type {\n",
       "        vertical-align: middle;\n",
       "    }\n",
       "\n",
       "    .dataframe tbody tr th {\n",
       "        vertical-align: top;\n",
       "    }\n",
       "\n",
       "    .dataframe thead th {\n",
       "        text-align: right;\n",
       "    }\n",
       "</style>\n",
       "<table border=\"1\" class=\"dataframe\">\n",
       "  <thead>\n",
       "    <tr style=\"text-align: right;\">\n",
       "      <th></th>\n",
       "      <th>sample</th>\n",
       "      <th>num_loops</th>\n",
       "      <th>bb_file</th>\n",
       "      <th>bb_file_exists</th>\n",
       "    </tr>\n",
       "  </thead>\n",
       "  <tbody>\n",
       "    <tr>\n",
       "      <th>0</th>\n",
       "      <td>results/shortcuts/hg38/loops/hichip/hiccups/A6...</td>\n",
       "      <td>2116</td>\n",
       "      <td>results/shortcuts/hg38/loops/hichip/hiccups/A6...</td>\n",
       "      <td>True</td>\n",
       "    </tr>\n",
       "    <tr>\n",
       "      <th>1</th>\n",
       "      <td>results/shortcuts/hg38/loops/hichip/hiccups/A6...</td>\n",
       "      <td>3880</td>\n",
       "      <td>results/shortcuts/hg38/loops/hichip/hiccups/A6...</td>\n",
       "      <td>True</td>\n",
       "    </tr>\n",
       "    <tr>\n",
       "      <th>2</th>\n",
       "      <td>results/shortcuts/hg38/loops/hichip/hiccups/A6...</td>\n",
       "      <td>1056</td>\n",
       "      <td>results/shortcuts/hg38/loops/hichip/hiccups/A6...</td>\n",
       "      <td>True</td>\n",
       "    </tr>\n",
       "    <tr>\n",
       "      <th>3</th>\n",
       "      <td>results/shortcuts/hg38/loops/hichip/hiccups/Ao...</td>\n",
       "      <td>6026</td>\n",
       "      <td>results/shortcuts/hg38/loops/hichip/hiccups/Ao...</td>\n",
       "      <td>True</td>\n",
       "    </tr>\n",
       "    <tr>\n",
       "      <th>4</th>\n",
       "      <td>results/shortcuts/hg38/loops/hichip/hiccups/Ao...</td>\n",
       "      <td>5584</td>\n",
       "      <td>results/shortcuts/hg38/loops/hichip/hiccups/Ao...</td>\n",
       "      <td>True</td>\n",
       "    </tr>\n",
       "    <tr>\n",
       "      <th>...</th>\n",
       "      <td>...</td>\n",
       "      <td>...</td>\n",
       "      <td>...</td>\n",
       "      <td>...</td>\n",
       "    </tr>\n",
       "    <tr>\n",
       "      <th>433</th>\n",
       "      <td>results/shortcuts/hg38/loops/hichip/hiccups/Tr...</td>\n",
       "      <td>2551</td>\n",
       "      <td>results/shortcuts/hg38/loops/hichip/hiccups/Tr...</td>\n",
       "      <td>True</td>\n",
       "    </tr>\n",
       "    <tr>\n",
       "      <th>434</th>\n",
       "      <td>results/shortcuts/hg38/loops/hichip/hiccups/Tr...</td>\n",
       "      <td>1339</td>\n",
       "      <td>results/shortcuts/hg38/loops/hichip/hiccups/Tr...</td>\n",
       "      <td>True</td>\n",
       "    </tr>\n",
       "    <tr>\n",
       "      <th>435</th>\n",
       "      <td>results/shortcuts/hg38/loops/hichip/hiccups/Tr...</td>\n",
       "      <td>3050</td>\n",
       "      <td>results/shortcuts/hg38/loops/hichip/hiccups/Tr...</td>\n",
       "      <td>True</td>\n",
       "    </tr>\n",
       "    <tr>\n",
       "      <th>436</th>\n",
       "      <td>results/shortcuts/hg38/loops/hichip/hiccups/Tr...</td>\n",
       "      <td>4330</td>\n",
       "      <td>results/shortcuts/hg38/loops/hichip/hiccups/Tr...</td>\n",
       "      <td>True</td>\n",
       "    </tr>\n",
       "    <tr>\n",
       "      <th>437</th>\n",
       "      <td>results/shortcuts/hg38/loops/hichip/hiccups/Tr...</td>\n",
       "      <td>2406</td>\n",
       "      <td>results/shortcuts/hg38/loops/hichip/hiccups/Tr...</td>\n",
       "      <td>True</td>\n",
       "    </tr>\n",
       "  </tbody>\n",
       "</table>\n",
       "<p>438 rows × 4 columns</p>\n",
       "</div>"
      ],
      "text/plain": [
       "                                                sample  num_loops  \\\n",
       "0    results/shortcuts/hg38/loops/hichip/hiccups/A6...       2116   \n",
       "1    results/shortcuts/hg38/loops/hichip/hiccups/A6...       3880   \n",
       "2    results/shortcuts/hg38/loops/hichip/hiccups/A6...       1056   \n",
       "3    results/shortcuts/hg38/loops/hichip/hiccups/Ao...       6026   \n",
       "4    results/shortcuts/hg38/loops/hichip/hiccups/Ao...       5584   \n",
       "..                                                 ...        ...   \n",
       "433  results/shortcuts/hg38/loops/hichip/hiccups/Tr...       2551   \n",
       "434  results/shortcuts/hg38/loops/hichip/hiccups/Tr...       1339   \n",
       "435  results/shortcuts/hg38/loops/hichip/hiccups/Tr...       3050   \n",
       "436  results/shortcuts/hg38/loops/hichip/hiccups/Tr...       4330   \n",
       "437  results/shortcuts/hg38/loops/hichip/hiccups/Tr...       2406   \n",
       "\n",
       "                                               bb_file  bb_file_exists  \n",
       "0    results/shortcuts/hg38/loops/hichip/hiccups/A6...            True  \n",
       "1    results/shortcuts/hg38/loops/hichip/hiccups/A6...            True  \n",
       "2    results/shortcuts/hg38/loops/hichip/hiccups/A6...            True  \n",
       "3    results/shortcuts/hg38/loops/hichip/hiccups/Ao...            True  \n",
       "4    results/shortcuts/hg38/loops/hichip/hiccups/Ao...            True  \n",
       "..                                                 ...             ...  \n",
       "433  results/shortcuts/hg38/loops/hichip/hiccups/Tr...            True  \n",
       "434  results/shortcuts/hg38/loops/hichip/hiccups/Tr...            True  \n",
       "435  results/shortcuts/hg38/loops/hichip/hiccups/Tr...            True  \n",
       "436  results/shortcuts/hg38/loops/hichip/hiccups/Tr...            True  \n",
       "437  results/shortcuts/hg38/loops/hichip/hiccups/Tr...            True  \n",
       "\n",
       "[438 rows x 4 columns]"
      ]
     },
     "execution_count": 196,
     "metadata": {},
     "output_type": "execute_result"
    }
   ],
   "source": [
    "wc"
   ]
  },
  {
   "cell_type": "code",
   "execution_count": null,
   "metadata": {},
   "outputs": [],
   "source": [
    "for i in missing_arrayids:\n",
    "    out = '../../../../results/shortcuts/logs/interactions_to_bigInteract.o6088215-{}'.format(i)\n",
    "    err = '../../../../results/shortcuts/logs/interactions_to_bigInteract.e6088215-{}'.format(i)\n",
    "    os.remove(out)\n",
    "    os.remove(err)"
   ]
  },
  {
   "cell_type": "code",
   "execution_count": null,
   "metadata": {},
   "outputs": [],
   "source": []
  },
  {
   "cell_type": "code",
   "execution_count": null,
   "metadata": {},
   "outputs": [],
   "source": []
  },
  {
   "cell_type": "code",
   "execution_count": null,
   "metadata": {},
   "outputs": [],
   "source": []
  }
 ],
 "metadata": {
  "kernelspec": {
   "display_name": "Python 3",
   "language": "python",
   "name": "python3"
  },
  "language_info": {
   "codemirror_mode": {
    "name": "ipython",
    "version": 3
   },
   "file_extension": ".py",
   "mimetype": "text/x-python",
   "name": "python",
   "nbconvert_exporter": "python",
   "pygments_lexer": "ipython3",
   "version": "3.9.10"
  }
 },
 "nbformat": 4,
 "nbformat_minor": 2
}
