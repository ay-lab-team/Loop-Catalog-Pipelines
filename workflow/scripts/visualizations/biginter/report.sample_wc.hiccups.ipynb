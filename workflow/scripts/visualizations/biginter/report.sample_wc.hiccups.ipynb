{
 "cells": [
  {
   "cell_type": "code",
   "execution_count": 9,
   "metadata": {},
   "outputs": [],
   "source": [
    "import os \n",
    "import pandas as pd\n",
    "import numpy as np\n",
    "import glob"
   ]
  },
  {
   "cell_type": "code",
   "execution_count": 10,
   "metadata": {},
   "outputs": [
    {
     "data": {
      "text/html": [
       "<div>\n",
       "<style scoped>\n",
       "    .dataframe tbody tr th:only-of-type {\n",
       "        vertical-align: middle;\n",
       "    }\n",
       "\n",
       "    .dataframe tbody tr th {\n",
       "        vertical-align: top;\n",
       "    }\n",
       "\n",
       "    .dataframe thead th {\n",
       "        text-align: right;\n",
       "    }\n",
       "</style>\n",
       "<table border=\"1\" class=\"dataframe\">\n",
       "  <thead>\n",
       "    <tr style=\"text-align: right;\">\n",
       "      <th></th>\n",
       "      <th>sample</th>\n",
       "      <th>num_loops</th>\n",
       "    </tr>\n",
       "  </thead>\n",
       "  <tbody>\n",
       "    <tr>\n",
       "      <th>0</th>\n",
       "      <td>results/shortcuts/hg38/loops/hichip/hiccups/A6...</td>\n",
       "      <td>2116</td>\n",
       "    </tr>\n",
       "    <tr>\n",
       "      <th>1</th>\n",
       "      <td>results/shortcuts/hg38/loops/hichip/hiccups/A6...</td>\n",
       "      <td>3880</td>\n",
       "    </tr>\n",
       "    <tr>\n",
       "      <th>2</th>\n",
       "      <td>results/shortcuts/hg38/loops/hichip/hiccups/A6...</td>\n",
       "      <td>1056</td>\n",
       "    </tr>\n",
       "    <tr>\n",
       "      <th>3</th>\n",
       "      <td>results/shortcuts/hg38/loops/hichip/hiccups/Ao...</td>\n",
       "      <td>6026</td>\n",
       "    </tr>\n",
       "    <tr>\n",
       "      <th>4</th>\n",
       "      <td>results/shortcuts/hg38/loops/hichip/hiccups/Ao...</td>\n",
       "      <td>5584</td>\n",
       "    </tr>\n",
       "    <tr>\n",
       "      <th>...</th>\n",
       "      <td>...</td>\n",
       "      <td>...</td>\n",
       "    </tr>\n",
       "    <tr>\n",
       "      <th>433</th>\n",
       "      <td>results/shortcuts/hg38/loops/hichip/hiccups/Tr...</td>\n",
       "      <td>2551</td>\n",
       "    </tr>\n",
       "    <tr>\n",
       "      <th>434</th>\n",
       "      <td>results/shortcuts/hg38/loops/hichip/hiccups/Tr...</td>\n",
       "      <td>1339</td>\n",
       "    </tr>\n",
       "    <tr>\n",
       "      <th>435</th>\n",
       "      <td>results/shortcuts/hg38/loops/hichip/hiccups/Tr...</td>\n",
       "      <td>3050</td>\n",
       "    </tr>\n",
       "    <tr>\n",
       "      <th>436</th>\n",
       "      <td>results/shortcuts/hg38/loops/hichip/hiccups/Tr...</td>\n",
       "      <td>4330</td>\n",
       "    </tr>\n",
       "    <tr>\n",
       "      <th>437</th>\n",
       "      <td>results/shortcuts/hg38/loops/hichip/hiccups/Tr...</td>\n",
       "      <td>2406</td>\n",
       "    </tr>\n",
       "  </tbody>\n",
       "</table>\n",
       "<p>438 rows × 2 columns</p>\n",
       "</div>"
      ],
      "text/plain": [
       "                                                sample  num_loops\n",
       "0    results/shortcuts/hg38/loops/hichip/hiccups/A6...       2116\n",
       "1    results/shortcuts/hg38/loops/hichip/hiccups/A6...       3880\n",
       "2    results/shortcuts/hg38/loops/hichip/hiccups/A6...       1056\n",
       "3    results/shortcuts/hg38/loops/hichip/hiccups/Ao...       6026\n",
       "4    results/shortcuts/hg38/loops/hichip/hiccups/Ao...       5584\n",
       "..                                                 ...        ...\n",
       "433  results/shortcuts/hg38/loops/hichip/hiccups/Tr...       2551\n",
       "434  results/shortcuts/hg38/loops/hichip/hiccups/Tr...       1339\n",
       "435  results/shortcuts/hg38/loops/hichip/hiccups/Tr...       3050\n",
       "436  results/shortcuts/hg38/loops/hichip/hiccups/Tr...       4330\n",
       "437  results/shortcuts/hg38/loops/hichip/hiccups/Tr...       2406\n",
       "\n",
       "[438 rows x 2 columns]"
      ]
     },
     "execution_count": 10,
     "metadata": {},
     "output_type": "execute_result"
    }
   ],
   "source": [
    "wc = pd.read_csv('../samplesheets/samplesheet.hiccups.wc.txt',\n",
    "                 sep='\\t',\n",
    "                 names=['sample', 'num_loops'],\n",
    "                 header=None)\n",
    "wc"
   ]
  },
  {
   "cell_type": "markdown",
   "metadata": {},
   "source": [
    "## Notes on Files used to create Inventory for hiccup"
   ]
  },
  {
   "cell_type": "markdown",
   "metadata": {},
   "source": [
    "## Loading the samplesheet data"
   ]
  },
  {
   "cell_type": "code",
   "execution_count": 12,
   "metadata": {},
   "outputs": [],
   "source": [
    "# load the sample sheet with the number of loops\n",
    "wc = pd.read_csv('../samplesheets/samplesheet.hiccups.wc.txt',\n",
    "                 sep='\\t',\n",
    "                 names=['sample', 'num_loops'],\n",
    "                 header=None)\n",
    "\n",
    "# extract metadata from the file names\n",
    "def get_meta(x):\n",
    "    meta = x.split('/')\n",
    "    ref = meta[2]\n",
    "    loop_source = meta[4]\n",
    "    peak_source = meta[5]\n",
    "    #peak_caller = meta[6]\n",
    "    #stringency = meta[7]\n",
    "    loop_caller = 'hiccups' if 'hiccups' in meta[5] else 'other'\n",
    "    return((ref, loop_source, peak_source, loop_caller))\n",
    "metadata = wc['sample'].apply(get_meta).values.tolist()\n",
    "metadata = list(zip(*metadata))\n",
    "refs, loop_sources, peak_sources, loop_callers = metadata\n",
    "\n",
    "wc['ref'] = refs\n",
    "wc['loop_source'] = loop_sources\n",
    "wc['peak_source'] = peak_sources\n",
    "wc['loop_caller'] = loop_callers"
   ]
  },
  {
   "cell_type": "code",
   "execution_count": 13,
   "metadata": {},
   "outputs": [
    {
     "data": {
      "text/plain": [
       "258"
      ]
     },
     "execution_count": 13,
     "metadata": {},
     "output_type": "execute_result"
    }
   ],
   "source": [
    "wc.num_loops.min()"
   ]
  },
  {
   "cell_type": "markdown",
   "metadata": {},
   "source": [
    "## Sample-level Summary For Loop Counts\n"
   ]
  },
  {
   "cell_type": "code",
   "execution_count": 14,
   "metadata": {},
   "outputs": [],
   "source": [
    "grps = wc.groupby(['ref'])#, 'loop_caller'])\n",
    "\n",
    "# perform the value count across groups\n",
    "#value_counts = grps.num_loops.value_counts(bins=[-np.inf, 0, np.inf])#.to_frame()\n",
    "value_counts = wc.num_loops.value_counts(bins=[-np.inf, 0, np.inf]).to_frame()"
   ]
  },
  {
   "cell_type": "code",
   "execution_count": 15,
   "metadata": {},
   "outputs": [
    {
     "data": {
      "text/html": [
       "<div>\n",
       "<style scoped>\n",
       "    .dataframe tbody tr th:only-of-type {\n",
       "        vertical-align: middle;\n",
       "    }\n",
       "\n",
       "    .dataframe tbody tr th {\n",
       "        vertical-align: top;\n",
       "    }\n",
       "\n",
       "    .dataframe thead th {\n",
       "        text-align: right;\n",
       "    }\n",
       "</style>\n",
       "<table border=\"1\" class=\"dataframe\">\n",
       "  <thead>\n",
       "    <tr style=\"text-align: right;\">\n",
       "      <th></th>\n",
       "      <th>num_loops</th>\n",
       "    </tr>\n",
       "  </thead>\n",
       "  <tbody>\n",
       "    <tr>\n",
       "      <th>(0.0, inf]</th>\n",
       "      <td>438</td>\n",
       "    </tr>\n",
       "    <tr>\n",
       "      <th>(-inf, 0.0]</th>\n",
       "      <td>0</td>\n",
       "    </tr>\n",
       "  </tbody>\n",
       "</table>\n",
       "</div>"
      ],
      "text/plain": [
       "             num_loops\n",
       "(0.0, inf]         438\n",
       "(-inf, 0.0]          0"
      ]
     },
     "execution_count": 15,
     "metadata": {},
     "output_type": "execute_result"
    }
   ],
   "source": [
    "value_counts"
   ]
  },
  {
   "attachments": {},
   "cell_type": "markdown",
   "metadata": {},
   "source": [
    "The most important number will be non-zero, we will use this number to ensure that we correctly\n",
    "producing the correct number of visualization files."
   ]
  },
  {
   "cell_type": "markdown",
   "metadata": {},
   "source": [
    "Count the existence of loops in the sample sheet"
   ]
  },
  {
   "cell_type": "code",
   "execution_count": 16,
   "metadata": {},
   "outputs": [
    {
     "ename": "SyntaxError",
     "evalue": "unexpected EOF while parsing (3660806687.py, line 3)",
     "output_type": "error",
     "traceback": [
      "\u001b[0;36m  Input \u001b[0;32mIn [16]\u001b[0;36m\u001b[0m\n\u001b[0;31m    num_files = len(glob.glob(glob_str)\u001b[0m\n\u001b[0m                                       ^\u001b[0m\n\u001b[0;31mSyntaxError\u001b[0m\u001b[0;31m:\u001b[0m unexpected EOF while parsing\n"
     ]
    }
   ],
   "source": [
    "glob_str = '../../../../'\n",
    "glob_str += 'results/shortcuts/hg38/loops/hichip/hiccups/*.interaction.bb'\n",
    "num_files = len(glob.glob(glob_str)"
   ]
  },
  {
   "cell_type": "markdown",
   "metadata": {},
   "source": [
    "## Further investigate problematic samples"
   ]
  },
  {
   "cell_type": "code",
   "execution_count": 17,
   "metadata": {},
   "outputs": [],
   "source": [
    "wc['bb_file'] = wc['sample'].replace('bed$', 'interaction.bb', regex=True)\n",
    "\n",
    "# check if the file exists\n",
    "def check_file(x, root_dir='../../../../'):\n",
    "    fn = os.path.join(root_dir, x)\n",
    "    return(os.path.exists(fn))\n",
    "wc['bb_file_exists'] = wc['bb_file'].apply(check_file)"
   ]
  },
  {
   "cell_type": "code",
   "execution_count": 18,
   "metadata": {},
   "outputs": [],
   "source": [
    "nonzero_data = wc.loc[(wc.num_loops > 0)]"
   ]
  },
  {
   "cell_type": "code",
   "execution_count": 19,
   "metadata": {},
   "outputs": [],
   "source": [
    "missing_data = wc.loc[(wc.num_loops > 0) & (wc.bb_file_exists == False)]"
   ]
  },
  {
   "cell_type": "code",
   "execution_count": 20,
   "metadata": {},
   "outputs": [],
   "source": [
    "missing_arrayids = missing_data.index.values + 1"
   ]
  },
  {
   "cell_type": "code",
   "execution_count": 21,
   "metadata": {},
   "outputs": [
    {
     "data": {
      "text/plain": [
       "array([], dtype=int64)"
      ]
     },
     "execution_count": 21,
     "metadata": {},
     "output_type": "execute_result"
    }
   ],
   "source": [
    "missing_arrayids"
   ]
  },
  {
   "cell_type": "code",
   "execution_count": 22,
   "metadata": {},
   "outputs": [],
   "source": [
    "missing_arrayids = missing_arrayids.astype(str)"
   ]
  },
  {
   "cell_type": "code",
   "execution_count": 23,
   "metadata": {},
   "outputs": [
    {
     "name": "stdout",
     "output_type": "stream",
     "text": [
      "\n"
     ]
    }
   ],
   "source": [
    "rerun_ids = ','.join(missing_arrayids)\n",
    "print(rerun_ids)"
   ]
  },
  {
   "cell_type": "code",
   "execution_count": 24,
   "metadata": {},
   "outputs": [
    {
     "data": {
      "text/plain": [
       "0"
      ]
     },
     "execution_count": 24,
     "metadata": {},
     "output_type": "execute_result"
    }
   ],
   "source": [
    "len(missing_arrayids)"
   ]
  },
  {
   "cell_type": "code",
   "execution_count": 25,
   "metadata": {},
   "outputs": [
    {
     "data": {
      "text/plain": [
       "(438, 8)"
      ]
     },
     "execution_count": 25,
     "metadata": {},
     "output_type": "execute_result"
    }
   ],
   "source": [
    "nonzero_data.shape"
   ]
  },
  {
   "cell_type": "code",
   "execution_count": 26,
   "metadata": {},
   "outputs": [
    {
     "data": {
      "text/plain": [
       "(0, 8)"
      ]
     },
     "execution_count": 26,
     "metadata": {},
     "output_type": "execute_result"
    }
   ],
   "source": [
    "missing_data.shape"
   ]
  },
  {
   "cell_type": "code",
   "execution_count": 27,
   "metadata": {},
   "outputs": [
    {
     "data": {
      "text/html": [
       "<div>\n",
       "<style scoped>\n",
       "    .dataframe tbody tr th:only-of-type {\n",
       "        vertical-align: middle;\n",
       "    }\n",
       "\n",
       "    .dataframe tbody tr th {\n",
       "        vertical-align: top;\n",
       "    }\n",
       "\n",
       "    .dataframe thead th {\n",
       "        text-align: right;\n",
       "    }\n",
       "</style>\n",
       "<table border=\"1\" class=\"dataframe\">\n",
       "  <thead>\n",
       "    <tr style=\"text-align: right;\">\n",
       "      <th></th>\n",
       "      <th>sample</th>\n",
       "      <th>num_loops</th>\n",
       "      <th>ref</th>\n",
       "      <th>loop_source</th>\n",
       "      <th>peak_source</th>\n",
       "      <th>loop_caller</th>\n",
       "      <th>bb_file</th>\n",
       "      <th>bb_file_exists</th>\n",
       "    </tr>\n",
       "  </thead>\n",
       "  <tbody>\n",
       "    <tr>\n",
       "      <th>0</th>\n",
       "      <td>results/shortcuts/hg38/loops/hichip/hiccups/A6...</td>\n",
       "      <td>2116</td>\n",
       "      <td>hg38</td>\n",
       "      <td>hichip</td>\n",
       "      <td>hiccups</td>\n",
       "      <td>hiccups</td>\n",
       "      <td>results/shortcuts/hg38/loops/hichip/hiccups/A6...</td>\n",
       "      <td>True</td>\n",
       "    </tr>\n",
       "    <tr>\n",
       "      <th>1</th>\n",
       "      <td>results/shortcuts/hg38/loops/hichip/hiccups/A6...</td>\n",
       "      <td>3880</td>\n",
       "      <td>hg38</td>\n",
       "      <td>hichip</td>\n",
       "      <td>hiccups</td>\n",
       "      <td>hiccups</td>\n",
       "      <td>results/shortcuts/hg38/loops/hichip/hiccups/A6...</td>\n",
       "      <td>True</td>\n",
       "    </tr>\n",
       "    <tr>\n",
       "      <th>2</th>\n",
       "      <td>results/shortcuts/hg38/loops/hichip/hiccups/A6...</td>\n",
       "      <td>1056</td>\n",
       "      <td>hg38</td>\n",
       "      <td>hichip</td>\n",
       "      <td>hiccups</td>\n",
       "      <td>hiccups</td>\n",
       "      <td>results/shortcuts/hg38/loops/hichip/hiccups/A6...</td>\n",
       "      <td>True</td>\n",
       "    </tr>\n",
       "    <tr>\n",
       "      <th>3</th>\n",
       "      <td>results/shortcuts/hg38/loops/hichip/hiccups/Ao...</td>\n",
       "      <td>6026</td>\n",
       "      <td>hg38</td>\n",
       "      <td>hichip</td>\n",
       "      <td>hiccups</td>\n",
       "      <td>hiccups</td>\n",
       "      <td>results/shortcuts/hg38/loops/hichip/hiccups/Ao...</td>\n",
       "      <td>True</td>\n",
       "    </tr>\n",
       "    <tr>\n",
       "      <th>4</th>\n",
       "      <td>results/shortcuts/hg38/loops/hichip/hiccups/Ao...</td>\n",
       "      <td>5584</td>\n",
       "      <td>hg38</td>\n",
       "      <td>hichip</td>\n",
       "      <td>hiccups</td>\n",
       "      <td>hiccups</td>\n",
       "      <td>results/shortcuts/hg38/loops/hichip/hiccups/Ao...</td>\n",
       "      <td>True</td>\n",
       "    </tr>\n",
       "    <tr>\n",
       "      <th>...</th>\n",
       "      <td>...</td>\n",
       "      <td>...</td>\n",
       "      <td>...</td>\n",
       "      <td>...</td>\n",
       "      <td>...</td>\n",
       "      <td>...</td>\n",
       "      <td>...</td>\n",
       "      <td>...</td>\n",
       "    </tr>\n",
       "    <tr>\n",
       "      <th>433</th>\n",
       "      <td>results/shortcuts/hg38/loops/hichip/hiccups/Tr...</td>\n",
       "      <td>2551</td>\n",
       "      <td>hg38</td>\n",
       "      <td>hichip</td>\n",
       "      <td>hiccups</td>\n",
       "      <td>hiccups</td>\n",
       "      <td>results/shortcuts/hg38/loops/hichip/hiccups/Tr...</td>\n",
       "      <td>True</td>\n",
       "    </tr>\n",
       "    <tr>\n",
       "      <th>434</th>\n",
       "      <td>results/shortcuts/hg38/loops/hichip/hiccups/Tr...</td>\n",
       "      <td>1339</td>\n",
       "      <td>hg38</td>\n",
       "      <td>hichip</td>\n",
       "      <td>hiccups</td>\n",
       "      <td>hiccups</td>\n",
       "      <td>results/shortcuts/hg38/loops/hichip/hiccups/Tr...</td>\n",
       "      <td>True</td>\n",
       "    </tr>\n",
       "    <tr>\n",
       "      <th>435</th>\n",
       "      <td>results/shortcuts/hg38/loops/hichip/hiccups/Tr...</td>\n",
       "      <td>3050</td>\n",
       "      <td>hg38</td>\n",
       "      <td>hichip</td>\n",
       "      <td>hiccups</td>\n",
       "      <td>hiccups</td>\n",
       "      <td>results/shortcuts/hg38/loops/hichip/hiccups/Tr...</td>\n",
       "      <td>True</td>\n",
       "    </tr>\n",
       "    <tr>\n",
       "      <th>436</th>\n",
       "      <td>results/shortcuts/hg38/loops/hichip/hiccups/Tr...</td>\n",
       "      <td>4330</td>\n",
       "      <td>hg38</td>\n",
       "      <td>hichip</td>\n",
       "      <td>hiccups</td>\n",
       "      <td>hiccups</td>\n",
       "      <td>results/shortcuts/hg38/loops/hichip/hiccups/Tr...</td>\n",
       "      <td>True</td>\n",
       "    </tr>\n",
       "    <tr>\n",
       "      <th>437</th>\n",
       "      <td>results/shortcuts/hg38/loops/hichip/hiccups/Tr...</td>\n",
       "      <td>2406</td>\n",
       "      <td>hg38</td>\n",
       "      <td>hichip</td>\n",
       "      <td>hiccups</td>\n",
       "      <td>hiccups</td>\n",
       "      <td>results/shortcuts/hg38/loops/hichip/hiccups/Tr...</td>\n",
       "      <td>True</td>\n",
       "    </tr>\n",
       "  </tbody>\n",
       "</table>\n",
       "<p>438 rows × 8 columns</p>\n",
       "</div>"
      ],
      "text/plain": [
       "                                                sample  num_loops   ref  \\\n",
       "0    results/shortcuts/hg38/loops/hichip/hiccups/A6...       2116  hg38   \n",
       "1    results/shortcuts/hg38/loops/hichip/hiccups/A6...       3880  hg38   \n",
       "2    results/shortcuts/hg38/loops/hichip/hiccups/A6...       1056  hg38   \n",
       "3    results/shortcuts/hg38/loops/hichip/hiccups/Ao...       6026  hg38   \n",
       "4    results/shortcuts/hg38/loops/hichip/hiccups/Ao...       5584  hg38   \n",
       "..                                                 ...        ...   ...   \n",
       "433  results/shortcuts/hg38/loops/hichip/hiccups/Tr...       2551  hg38   \n",
       "434  results/shortcuts/hg38/loops/hichip/hiccups/Tr...       1339  hg38   \n",
       "435  results/shortcuts/hg38/loops/hichip/hiccups/Tr...       3050  hg38   \n",
       "436  results/shortcuts/hg38/loops/hichip/hiccups/Tr...       4330  hg38   \n",
       "437  results/shortcuts/hg38/loops/hichip/hiccups/Tr...       2406  hg38   \n",
       "\n",
       "    loop_source peak_source loop_caller  \\\n",
       "0        hichip     hiccups     hiccups   \n",
       "1        hichip     hiccups     hiccups   \n",
       "2        hichip     hiccups     hiccups   \n",
       "3        hichip     hiccups     hiccups   \n",
       "4        hichip     hiccups     hiccups   \n",
       "..          ...         ...         ...   \n",
       "433      hichip     hiccups     hiccups   \n",
       "434      hichip     hiccups     hiccups   \n",
       "435      hichip     hiccups     hiccups   \n",
       "436      hichip     hiccups     hiccups   \n",
       "437      hichip     hiccups     hiccups   \n",
       "\n",
       "                                               bb_file  bb_file_exists  \n",
       "0    results/shortcuts/hg38/loops/hichip/hiccups/A6...            True  \n",
       "1    results/shortcuts/hg38/loops/hichip/hiccups/A6...            True  \n",
       "2    results/shortcuts/hg38/loops/hichip/hiccups/A6...            True  \n",
       "3    results/shortcuts/hg38/loops/hichip/hiccups/Ao...            True  \n",
       "4    results/shortcuts/hg38/loops/hichip/hiccups/Ao...            True  \n",
       "..                                                 ...             ...  \n",
       "433  results/shortcuts/hg38/loops/hichip/hiccups/Tr...            True  \n",
       "434  results/shortcuts/hg38/loops/hichip/hiccups/Tr...            True  \n",
       "435  results/shortcuts/hg38/loops/hichip/hiccups/Tr...            True  \n",
       "436  results/shortcuts/hg38/loops/hichip/hiccups/Tr...            True  \n",
       "437  results/shortcuts/hg38/loops/hichip/hiccups/Tr...            True  \n",
       "\n",
       "[438 rows x 8 columns]"
      ]
     },
     "execution_count": 27,
     "metadata": {},
     "output_type": "execute_result"
    }
   ],
   "source": [
    "wc"
   ]
  },
  {
   "cell_type": "code",
   "execution_count": 28,
   "metadata": {},
   "outputs": [
    {
     "ename": "",
     "evalue": "",
     "output_type": "error",
     "traceback": [
      "\u001b[1;31mThe Kernel crashed while executing code in the the current cell or a previous cell. Please review the code in the cell(s) to identify a possible cause of the failure. Click <a href='https://aka.ms/vscodeJupyterKernelCrash'>here</a> for more info. View Jupyter <a href='command:jupyter.viewOutput'>log</a> for further details."
     ]
    }
   ],
   "source": [
    "# for i in missing_arrayids:\n",
    "#     out = '../../../../results/shortcuts/logs/interactions_to_bigInteract.o6088215-{}'.format(i)\n",
    "#     err = '../../../../results/shortcuts/logs/interactions_to_bigInteract.e6088215-{}'.format(i)\n",
    "#     os.remove(out)\n",
    "#     os.remove(err)"
   ]
  }
 ],
 "metadata": {
  "kernelspec": {
   "display_name": "Python 3 (ipykernel)",
   "language": "python",
   "name": "python3"
  },
  "language_info": {
   "codemirror_mode": {
    "name": "ipython",
    "version": 3
   },
   "file_extension": ".py",
   "mimetype": "text/x-python",
   "name": "python",
   "nbconvert_exporter": "python",
   "pygments_lexer": "ipython3",
   "version": "3.12.3"
  }
 },
 "nbformat": 4,
 "nbformat_minor": 4
}
